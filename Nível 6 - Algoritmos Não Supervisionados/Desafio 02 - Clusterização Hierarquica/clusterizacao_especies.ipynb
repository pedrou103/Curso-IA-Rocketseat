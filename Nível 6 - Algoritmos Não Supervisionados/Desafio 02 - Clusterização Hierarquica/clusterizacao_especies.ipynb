{
 "cells": [
  {
   "cell_type": "code",
   "execution_count": 2,
   "id": "efac21de",
   "metadata": {},
   "outputs": [],
   "source": [
    "# !pip install numpy pandas seaborn scikit-learn matplotlib scipy ipywidgets ipykernel optuna streamlit plotly\n",
    "\n",
    "# EDA e Visualização de Dados\n",
    "import numpy as np\n",
    "import pandas as pd\n",
    "import seaborn as sns\n",
    "import plotly.express as px\n",
    "from matplotlib import pyplot as plt\n",
    "\n",
    "# ML\n",
    "from sklearn.cluster import AgglomerativeClustering, BisectingKMeans\n",
    "from sklearn.metrics import silhouette_score\n",
    "from sklearn.preprocessing import StandardScaler, OneHotEncoder\n",
    "from sklearn.compose import ColumnTransformer\n",
    "import numpy as np\n",
    "from scipy.cluster.hierarchy import dendrogram, linkage, cut_tree\n",
    "\n",
    "# Otimização\n",
    "import optuna"
   ]
  },
  {
   "cell_type": "markdown",
   "id": "d3f5198d",
   "metadata": {},
   "source": [
    "### Carregar os dados"
   ]
  },
  {
   "cell_type": "code",
   "execution_count": 4,
   "id": "dbec656d",
   "metadata": {},
   "outputs": [],
   "source": [
    "# Carregar Dataframe\n",
    "\n",
    "df_species = pd.read_csv('./Datasets/species_dataset.csv')"
   ]
  },
  {
   "cell_type": "code",
   "execution_count": 5,
   "id": "6d7544e0",
   "metadata": {},
   "outputs": [
    {
     "name": "stdout",
     "output_type": "stream",
     "text": [
      "<class 'pandas.core.frame.DataFrame'>\n",
      "RangeIndex: 600 entries, 0 to 599\n",
      "Data columns (total 12 columns):\n",
      " #   Column              Non-Null Count  Dtype  \n",
      "---  ------              --------------  -----  \n",
      " 0   species_id          600 non-null    object \n",
      " 1   body_mass_kg        600 non-null    float64\n",
      " 2   num_legs            600 non-null    int64  \n",
      " 3   has_wings           600 non-null    int64  \n",
      " 4   tail_length_cm      600 non-null    float64\n",
      " 5   diet_type           600 non-null    object \n",
      " 6   eye_count           600 non-null    int64  \n",
      " 7   skin_type           600 non-null    object \n",
      " 8   nocturnal           600 non-null    int64  \n",
      " 9   avg_lifespan_years  600 non-null    float64\n",
      " 10  has_venom           600 non-null    int64  \n",
      " 11  social_behavior     600 non-null    object \n",
      "dtypes: float64(3), int64(5), object(4)\n",
      "memory usage: 56.4+ KB\n"
     ]
    }
   ],
   "source": [
    "# Analisar a estrutura\n",
    "\n",
    "df_species.info()"
   ]
  },
  {
   "cell_type": "code",
   "execution_count": 39,
   "id": "d22ebda3",
   "metadata": {},
   "outputs": [
    {
     "data": {
      "text/html": [
       "<div>\n",
       "<style scoped>\n",
       "    .dataframe tbody tr th:only-of-type {\n",
       "        vertical-align: middle;\n",
       "    }\n",
       "\n",
       "    .dataframe tbody tr th {\n",
       "        vertical-align: top;\n",
       "    }\n",
       "\n",
       "    .dataframe thead th {\n",
       "        text-align: right;\n",
       "    }\n",
       "</style>\n",
       "<table border=\"1\" class=\"dataframe\">\n",
       "  <thead>\n",
       "    <tr style=\"text-align: right;\">\n",
       "      <th></th>\n",
       "      <th>species_id</th>\n",
       "      <th>body_mass_kg</th>\n",
       "      <th>num_legs</th>\n",
       "      <th>has_wings</th>\n",
       "      <th>tail_length_cm</th>\n",
       "      <th>diet_type</th>\n",
       "      <th>eye_count</th>\n",
       "      <th>skin_type</th>\n",
       "      <th>nocturnal</th>\n",
       "      <th>avg_lifespan_years</th>\n",
       "      <th>has_venom</th>\n",
       "      <th>social_behavior</th>\n",
       "      <th>cluster</th>\n",
       "    </tr>\n",
       "  </thead>\n",
       "  <tbody>\n",
       "    <tr>\n",
       "      <th>0</th>\n",
       "      <td>SP000</td>\n",
       "      <td>59.934283</td>\n",
       "      <td>6</td>\n",
       "      <td>1</td>\n",
       "      <td>27.622702</td>\n",
       "      <td>carnivore</td>\n",
       "      <td>2</td>\n",
       "      <td>fur</td>\n",
       "      <td>0</td>\n",
       "      <td>118.957538</td>\n",
       "      <td>0</td>\n",
       "      <td>pair-living</td>\n",
       "      <td>46</td>\n",
       "    </tr>\n",
       "    <tr>\n",
       "      <th>1</th>\n",
       "      <td>SP001</td>\n",
       "      <td>47.234714</td>\n",
       "      <td>6</td>\n",
       "      <td>1</td>\n",
       "      <td>25.521165</td>\n",
       "      <td>carnivore</td>\n",
       "      <td>4</td>\n",
       "      <td>fur</td>\n",
       "      <td>0</td>\n",
       "      <td>121.226422</td>\n",
       "      <td>0</td>\n",
       "      <td>solitary</td>\n",
       "      <td>30</td>\n",
       "    </tr>\n",
       "    <tr>\n",
       "      <th>2</th>\n",
       "      <td>SP002</td>\n",
       "      <td>62.953771</td>\n",
       "      <td>8</td>\n",
       "      <td>1</td>\n",
       "      <td>50.794426</td>\n",
       "      <td>carnivore</td>\n",
       "      <td>2</td>\n",
       "      <td>fur</td>\n",
       "      <td>0</td>\n",
       "      <td>119.454890</td>\n",
       "      <td>0</td>\n",
       "      <td>pair-living</td>\n",
       "      <td>47</td>\n",
       "    </tr>\n",
       "    <tr>\n",
       "      <th>3</th>\n",
       "      <td>SP003</td>\n",
       "      <td>80.460597</td>\n",
       "      <td>2</td>\n",
       "      <td>1</td>\n",
       "      <td>46.476993</td>\n",
       "      <td>carnivore</td>\n",
       "      <td>4</td>\n",
       "      <td>fur</td>\n",
       "      <td>1</td>\n",
       "      <td>121.522981</td>\n",
       "      <td>0</td>\n",
       "      <td>solitary</td>\n",
       "      <td>3</td>\n",
       "    </tr>\n",
       "    <tr>\n",
       "      <th>4</th>\n",
       "      <td>SP004</td>\n",
       "      <td>45.316933</td>\n",
       "      <td>4</td>\n",
       "      <td>0</td>\n",
       "      <td>40.161889</td>\n",
       "      <td>herbivore</td>\n",
       "      <td>2</td>\n",
       "      <td>scales</td>\n",
       "      <td>0</td>\n",
       "      <td>120.060929</td>\n",
       "      <td>0</td>\n",
       "      <td>group-living</td>\n",
       "      <td>122</td>\n",
       "    </tr>\n",
       "    <tr>\n",
       "      <th>5</th>\n",
       "      <td>SP005</td>\n",
       "      <td>45.317261</td>\n",
       "      <td>4</td>\n",
       "      <td>0</td>\n",
       "      <td>41.685437</td>\n",
       "      <td>omnivore</td>\n",
       "      <td>4</td>\n",
       "      <td>feathers</td>\n",
       "      <td>0</td>\n",
       "      <td>118.593000</td>\n",
       "      <td>1</td>\n",
       "      <td>group-living</td>\n",
       "      <td>56</td>\n",
       "    </tr>\n",
       "    <tr>\n",
       "      <th>6</th>\n",
       "      <td>SP006</td>\n",
       "      <td>81.584256</td>\n",
       "      <td>4</td>\n",
       "      <td>0</td>\n",
       "      <td>47.104705</td>\n",
       "      <td>carnivore</td>\n",
       "      <td>4</td>\n",
       "      <td>fur</td>\n",
       "      <td>1</td>\n",
       "      <td>119.828973</td>\n",
       "      <td>0</td>\n",
       "      <td>pair-living</td>\n",
       "      <td>34</td>\n",
       "    </tr>\n",
       "    <tr>\n",
       "      <th>7</th>\n",
       "      <td>SP007</td>\n",
       "      <td>65.348695</td>\n",
       "      <td>6</td>\n",
       "      <td>1</td>\n",
       "      <td>43.354369</td>\n",
       "      <td>carnivore</td>\n",
       "      <td>2</td>\n",
       "      <td>fur</td>\n",
       "      <td>1</td>\n",
       "      <td>118.937223</td>\n",
       "      <td>0</td>\n",
       "      <td>pair-living</td>\n",
       "      <td>111</td>\n",
       "    </tr>\n",
       "    <tr>\n",
       "      <th>8</th>\n",
       "      <td>SP008</td>\n",
       "      <td>40.610512</td>\n",
       "      <td>6</td>\n",
       "      <td>0</td>\n",
       "      <td>31.594468</td>\n",
       "      <td>omnivore</td>\n",
       "      <td>2</td>\n",
       "      <td>skin</td>\n",
       "      <td>0</td>\n",
       "      <td>120.589349</td>\n",
       "      <td>0</td>\n",
       "      <td>solitary</td>\n",
       "      <td>60</td>\n",
       "    </tr>\n",
       "    <tr>\n",
       "      <th>9</th>\n",
       "      <td>SP009</td>\n",
       "      <td>60.851201</td>\n",
       "      <td>2</td>\n",
       "      <td>1</td>\n",
       "      <td>54.130002</td>\n",
       "      <td>herbivore</td>\n",
       "      <td>2</td>\n",
       "      <td>scales</td>\n",
       "      <td>1</td>\n",
       "      <td>119.738637</td>\n",
       "      <td>0</td>\n",
       "      <td>pair-living</td>\n",
       "      <td>97</td>\n",
       "    </tr>\n",
       "  </tbody>\n",
       "</table>\n",
       "</div>"
      ],
      "text/plain": [
       "  species_id  body_mass_kg  num_legs  has_wings  tail_length_cm  diet_type  \\\n",
       "0      SP000     59.934283         6          1       27.622702  carnivore   \n",
       "1      SP001     47.234714         6          1       25.521165  carnivore   \n",
       "2      SP002     62.953771         8          1       50.794426  carnivore   \n",
       "3      SP003     80.460597         2          1       46.476993  carnivore   \n",
       "4      SP004     45.316933         4          0       40.161889  herbivore   \n",
       "5      SP005     45.317261         4          0       41.685437   omnivore   \n",
       "6      SP006     81.584256         4          0       47.104705  carnivore   \n",
       "7      SP007     65.348695         6          1       43.354369  carnivore   \n",
       "8      SP008     40.610512         6          0       31.594468   omnivore   \n",
       "9      SP009     60.851201         2          1       54.130002  herbivore   \n",
       "\n",
       "   eye_count skin_type  nocturnal  avg_lifespan_years  has_venom  \\\n",
       "0          2       fur          0          118.957538          0   \n",
       "1          4       fur          0          121.226422          0   \n",
       "2          2       fur          0          119.454890          0   \n",
       "3          4       fur          1          121.522981          0   \n",
       "4          2    scales          0          120.060929          0   \n",
       "5          4  feathers          0          118.593000          1   \n",
       "6          4       fur          1          119.828973          0   \n",
       "7          2       fur          1          118.937223          0   \n",
       "8          2      skin          0          120.589349          0   \n",
       "9          2    scales          1          119.738637          0   \n",
       "\n",
       "  social_behavior  cluster  \n",
       "0     pair-living       46  \n",
       "1        solitary       30  \n",
       "2     pair-living       47  \n",
       "3        solitary        3  \n",
       "4    group-living      122  \n",
       "5    group-living       56  \n",
       "6     pair-living       34  \n",
       "7     pair-living      111  \n",
       "8        solitary       60  \n",
       "9     pair-living       97  "
      ]
     },
     "execution_count": 39,
     "metadata": {},
     "output_type": "execute_result"
    }
   ],
   "source": [
    "# Visualizar os primeiros registro\n",
    "\n",
    "df_species.head(10)"
   ]
  },
  {
   "cell_type": "code",
   "execution_count": 7,
   "id": "82c99bef",
   "metadata": {},
   "outputs": [
    {
     "data": {
      "text/html": [
       "<div>\n",
       "<style scoped>\n",
       "    .dataframe tbody tr th:only-of-type {\n",
       "        vertical-align: middle;\n",
       "    }\n",
       "\n",
       "    .dataframe tbody tr th {\n",
       "        vertical-align: top;\n",
       "    }\n",
       "\n",
       "    .dataframe thead th {\n",
       "        text-align: right;\n",
       "    }\n",
       "</style>\n",
       "<table border=\"1\" class=\"dataframe\">\n",
       "  <thead>\n",
       "    <tr style=\"text-align: right;\">\n",
       "      <th></th>\n",
       "      <th>species_id</th>\n",
       "      <th>body_mass_kg</th>\n",
       "      <th>num_legs</th>\n",
       "      <th>has_wings</th>\n",
       "      <th>tail_length_cm</th>\n",
       "      <th>diet_type</th>\n",
       "      <th>eye_count</th>\n",
       "      <th>skin_type</th>\n",
       "      <th>nocturnal</th>\n",
       "      <th>avg_lifespan_years</th>\n",
       "      <th>has_venom</th>\n",
       "      <th>social_behavior</th>\n",
       "    </tr>\n",
       "  </thead>\n",
       "  <tbody>\n",
       "    <tr>\n",
       "      <th>590</th>\n",
       "      <td>SP590</td>\n",
       "      <td>51.431325</td>\n",
       "      <td>0</td>\n",
       "      <td>0</td>\n",
       "      <td>28.470813</td>\n",
       "      <td>carnivore</td>\n",
       "      <td>2</td>\n",
       "      <td>feathers</td>\n",
       "      <td>0</td>\n",
       "      <td>118.994146</td>\n",
       "      <td>0</td>\n",
       "      <td>solitary</td>\n",
       "    </tr>\n",
       "    <tr>\n",
       "      <th>591</th>\n",
       "      <td>SP591</td>\n",
       "      <td>40.446851</td>\n",
       "      <td>0</td>\n",
       "      <td>0</td>\n",
       "      <td>57.031126</td>\n",
       "      <td>herbivore</td>\n",
       "      <td>2</td>\n",
       "      <td>skin</td>\n",
       "      <td>1</td>\n",
       "      <td>118.290690</td>\n",
       "      <td>0</td>\n",
       "      <td>pair-living</td>\n",
       "    </tr>\n",
       "    <tr>\n",
       "      <th>592</th>\n",
       "      <td>SP592</td>\n",
       "      <td>59.579597</td>\n",
       "      <td>6</td>\n",
       "      <td>1</td>\n",
       "      <td>36.453271</td>\n",
       "      <td>herbivore</td>\n",
       "      <td>2</td>\n",
       "      <td>skin</td>\n",
       "      <td>0</td>\n",
       "      <td>120.651345</td>\n",
       "      <td>0</td>\n",
       "      <td>group-living</td>\n",
       "    </tr>\n",
       "    <tr>\n",
       "      <th>593</th>\n",
       "      <td>SP593</td>\n",
       "      <td>56.673242</td>\n",
       "      <td>2</td>\n",
       "      <td>1</td>\n",
       "      <td>48.350371</td>\n",
       "      <td>herbivore</td>\n",
       "      <td>2</td>\n",
       "      <td>feathers</td>\n",
       "      <td>0</td>\n",
       "      <td>118.680936</td>\n",
       "      <td>0</td>\n",
       "      <td>pair-living</td>\n",
       "    </tr>\n",
       "    <tr>\n",
       "      <th>594</th>\n",
       "      <td>SP594</td>\n",
       "      <td>70.750799</td>\n",
       "      <td>6</td>\n",
       "      <td>0</td>\n",
       "      <td>45.079643</td>\n",
       "      <td>omnivore</td>\n",
       "      <td>2</td>\n",
       "      <td>feathers</td>\n",
       "      <td>0</td>\n",
       "      <td>120.983923</td>\n",
       "      <td>0</td>\n",
       "      <td>pair-living</td>\n",
       "    </tr>\n",
       "    <tr>\n",
       "      <th>595</th>\n",
       "      <td>SP595</td>\n",
       "      <td>39.799672</td>\n",
       "      <td>4</td>\n",
       "      <td>0</td>\n",
       "      <td>55.037095</td>\n",
       "      <td>herbivore</td>\n",
       "      <td>2</td>\n",
       "      <td>scales</td>\n",
       "      <td>0</td>\n",
       "      <td>120.394072</td>\n",
       "      <td>0</td>\n",
       "      <td>group-living</td>\n",
       "    </tr>\n",
       "    <tr>\n",
       "      <th>596</th>\n",
       "      <td>SP596</td>\n",
       "      <td>44.602501</td>\n",
       "      <td>6</td>\n",
       "      <td>0</td>\n",
       "      <td>66.874888</td>\n",
       "      <td>herbivore</td>\n",
       "      <td>2</td>\n",
       "      <td>fur</td>\n",
       "      <td>1</td>\n",
       "      <td>120.294341</td>\n",
       "      <td>0</td>\n",
       "      <td>solitary</td>\n",
       "    </tr>\n",
       "    <tr>\n",
       "      <th>597</th>\n",
       "      <td>SP597</td>\n",
       "      <td>30.424726</td>\n",
       "      <td>0</td>\n",
       "      <td>1</td>\n",
       "      <td>32.096355</td>\n",
       "      <td>herbivore</td>\n",
       "      <td>2</td>\n",
       "      <td>fur</td>\n",
       "      <td>0</td>\n",
       "      <td>121.665309</td>\n",
       "      <td>1</td>\n",
       "      <td>pair-living</td>\n",
       "    </tr>\n",
       "    <tr>\n",
       "      <th>598</th>\n",
       "      <td>SP598</td>\n",
       "      <td>41.114135</td>\n",
       "      <td>0</td>\n",
       "      <td>0</td>\n",
       "      <td>38.510861</td>\n",
       "      <td>omnivore</td>\n",
       "      <td>2</td>\n",
       "      <td>skin</td>\n",
       "      <td>0</td>\n",
       "      <td>118.714197</td>\n",
       "      <td>0</td>\n",
       "      <td>group-living</td>\n",
       "    </tr>\n",
       "    <tr>\n",
       "      <th>599</th>\n",
       "      <td>SP599</td>\n",
       "      <td>57.546010</td>\n",
       "      <td>8</td>\n",
       "      <td>0</td>\n",
       "      <td>46.890925</td>\n",
       "      <td>carnivore</td>\n",
       "      <td>4</td>\n",
       "      <td>feathers</td>\n",
       "      <td>0</td>\n",
       "      <td>120.873772</td>\n",
       "      <td>0</td>\n",
       "      <td>pair-living</td>\n",
       "    </tr>\n",
       "  </tbody>\n",
       "</table>\n",
       "</div>"
      ],
      "text/plain": [
       "    species_id  body_mass_kg  num_legs  has_wings  tail_length_cm  diet_type  \\\n",
       "590      SP590     51.431325         0          0       28.470813  carnivore   \n",
       "591      SP591     40.446851         0          0       57.031126  herbivore   \n",
       "592      SP592     59.579597         6          1       36.453271  herbivore   \n",
       "593      SP593     56.673242         2          1       48.350371  herbivore   \n",
       "594      SP594     70.750799         6          0       45.079643   omnivore   \n",
       "595      SP595     39.799672         4          0       55.037095  herbivore   \n",
       "596      SP596     44.602501         6          0       66.874888  herbivore   \n",
       "597      SP597     30.424726         0          1       32.096355  herbivore   \n",
       "598      SP598     41.114135         0          0       38.510861   omnivore   \n",
       "599      SP599     57.546010         8          0       46.890925  carnivore   \n",
       "\n",
       "     eye_count skin_type  nocturnal  avg_lifespan_years  has_venom  \\\n",
       "590          2  feathers          0          118.994146          0   \n",
       "591          2      skin          1          118.290690          0   \n",
       "592          2      skin          0          120.651345          0   \n",
       "593          2  feathers          0          118.680936          0   \n",
       "594          2  feathers          0          120.983923          0   \n",
       "595          2    scales          0          120.394072          0   \n",
       "596          2       fur          1          120.294341          0   \n",
       "597          2       fur          0          121.665309          1   \n",
       "598          2      skin          0          118.714197          0   \n",
       "599          4  feathers          0          120.873772          0   \n",
       "\n",
       "    social_behavior  \n",
       "590        solitary  \n",
       "591     pair-living  \n",
       "592    group-living  \n",
       "593     pair-living  \n",
       "594     pair-living  \n",
       "595    group-living  \n",
       "596        solitary  \n",
       "597     pair-living  \n",
       "598    group-living  \n",
       "599     pair-living  "
      ]
     },
     "execution_count": 7,
     "metadata": {},
     "output_type": "execute_result"
    }
   ],
   "source": [
    "# Visualizar os últimos registro\n",
    "\n",
    "df_species.tail(10)"
   ]
  },
  {
   "cell_type": "markdown",
   "id": "0ad47407",
   "metadata": {},
   "source": [
    "### EDA"
   ]
  },
  {
   "cell_type": "code",
   "execution_count": 8,
   "id": "c4d11dc7",
   "metadata": {},
   "outputs": [
    {
     "data": {
      "text/html": [
       "<div>\n",
       "<style scoped>\n",
       "    .dataframe tbody tr th:only-of-type {\n",
       "        vertical-align: middle;\n",
       "    }\n",
       "\n",
       "    .dataframe tbody tr th {\n",
       "        vertical-align: top;\n",
       "    }\n",
       "\n",
       "    .dataframe thead th {\n",
       "        text-align: right;\n",
       "    }\n",
       "</style>\n",
       "<table border=\"1\" class=\"dataframe\">\n",
       "  <thead>\n",
       "    <tr style=\"text-align: right;\">\n",
       "      <th></th>\n",
       "      <th>body_mass_kg</th>\n",
       "      <th>num_legs</th>\n",
       "      <th>has_wings</th>\n",
       "      <th>tail_length_cm</th>\n",
       "      <th>eye_count</th>\n",
       "      <th>nocturnal</th>\n",
       "      <th>avg_lifespan_years</th>\n",
       "      <th>has_venom</th>\n",
       "    </tr>\n",
       "  </thead>\n",
       "  <tbody>\n",
       "    <tr>\n",
       "      <th>count</th>\n",
       "      <td>600.000000</td>\n",
       "      <td>600.000000</td>\n",
       "      <td>600.000000</td>\n",
       "      <td>600.000000</td>\n",
       "      <td>600.000000</td>\n",
       "      <td>600.000000</td>\n",
       "      <td>600.000000</td>\n",
       "      <td>600.000000</td>\n",
       "    </tr>\n",
       "    <tr>\n",
       "      <th>mean</th>\n",
       "      <td>49.784101</td>\n",
       "      <td>3.950000</td>\n",
       "      <td>0.285000</td>\n",
       "      <td>45.052394</td>\n",
       "      <td>2.203333</td>\n",
       "      <td>0.380000</td>\n",
       "      <td>120.024664</td>\n",
       "      <td>0.150000</td>\n",
       "    </tr>\n",
       "    <tr>\n",
       "      <th>std</th>\n",
       "      <td>19.297540</td>\n",
       "      <td>2.833882</td>\n",
       "      <td>0.451791</td>\n",
       "      <td>9.930405</td>\n",
       "      <td>1.074203</td>\n",
       "      <td>0.485791</td>\n",
       "      <td>0.976676</td>\n",
       "      <td>0.357369</td>\n",
       "    </tr>\n",
       "    <tr>\n",
       "      <th>min</th>\n",
       "      <td>5.000000</td>\n",
       "      <td>0.000000</td>\n",
       "      <td>0.000000</td>\n",
       "      <td>16.287173</td>\n",
       "      <td>0.000000</td>\n",
       "      <td>0.000000</td>\n",
       "      <td>117.364032</td>\n",
       "      <td>0.000000</td>\n",
       "    </tr>\n",
       "    <tr>\n",
       "      <th>25%</th>\n",
       "      <td>36.107729</td>\n",
       "      <td>2.000000</td>\n",
       "      <td>0.000000</td>\n",
       "      <td>38.446490</td>\n",
       "      <td>2.000000</td>\n",
       "      <td>0.000000</td>\n",
       "      <td>119.366525</td>\n",
       "      <td>0.000000</td>\n",
       "    </tr>\n",
       "    <tr>\n",
       "      <th>50%</th>\n",
       "      <td>50.154768</td>\n",
       "      <td>4.000000</td>\n",
       "      <td>0.000000</td>\n",
       "      <td>45.266501</td>\n",
       "      <td>2.000000</td>\n",
       "      <td>0.000000</td>\n",
       "      <td>120.008112</td>\n",
       "      <td>0.000000</td>\n",
       "    </tr>\n",
       "    <tr>\n",
       "      <th>75%</th>\n",
       "      <td>62.463348</td>\n",
       "      <td>6.000000</td>\n",
       "      <td>1.000000</td>\n",
       "      <td>51.858016</td>\n",
       "      <td>2.000000</td>\n",
       "      <td>1.000000</td>\n",
       "      <td>120.684532</td>\n",
       "      <td>0.000000</td>\n",
       "    </tr>\n",
       "    <tr>\n",
       "      <th>max</th>\n",
       "      <td>127.054630</td>\n",
       "      <td>8.000000</td>\n",
       "      <td>1.000000</td>\n",
       "      <td>72.308672</td>\n",
       "      <td>4.000000</td>\n",
       "      <td>1.000000</td>\n",
       "      <td>123.657702</td>\n",
       "      <td>1.000000</td>\n",
       "    </tr>\n",
       "  </tbody>\n",
       "</table>\n",
       "</div>"
      ],
      "text/plain": [
       "       body_mass_kg    num_legs   has_wings  tail_length_cm   eye_count  \\\n",
       "count    600.000000  600.000000  600.000000      600.000000  600.000000   \n",
       "mean      49.784101    3.950000    0.285000       45.052394    2.203333   \n",
       "std       19.297540    2.833882    0.451791        9.930405    1.074203   \n",
       "min        5.000000    0.000000    0.000000       16.287173    0.000000   \n",
       "25%       36.107729    2.000000    0.000000       38.446490    2.000000   \n",
       "50%       50.154768    4.000000    0.000000       45.266501    2.000000   \n",
       "75%       62.463348    6.000000    1.000000       51.858016    2.000000   \n",
       "max      127.054630    8.000000    1.000000       72.308672    4.000000   \n",
       "\n",
       "        nocturnal  avg_lifespan_years   has_venom  \n",
       "count  600.000000          600.000000  600.000000  \n",
       "mean     0.380000          120.024664    0.150000  \n",
       "std      0.485791            0.976676    0.357369  \n",
       "min      0.000000          117.364032    0.000000  \n",
       "25%      0.000000          119.366525    0.000000  \n",
       "50%      0.000000          120.008112    0.000000  \n",
       "75%      1.000000          120.684532    0.000000  \n",
       "max      1.000000          123.657702    1.000000  "
      ]
     },
     "execution_count": 8,
     "metadata": {},
     "output_type": "execute_result"
    }
   ],
   "source": [
    "# Estatística das Variáveis\n",
    "\n",
    "df_species.describe()"
   ]
  },
  {
   "cell_type": "code",
   "execution_count": 10,
   "id": "52c81f42",
   "metadata": {},
   "outputs": [
    {
     "data": {
      "text/plain": [
       "array(['carnivore', 'herbivore', 'omnivore'], dtype=object)"
      ]
     },
     "execution_count": 10,
     "metadata": {},
     "output_type": "execute_result"
    }
   ],
   "source": [
    "# Checar variável diet_type\n",
    "\n",
    "df_species['diet_type'].unique()"
   ]
  },
  {
   "cell_type": "code",
   "execution_count": 9,
   "id": "25627527",
   "metadata": {},
   "outputs": [
    {
     "data": {
      "application/vnd.plotly.v1+json": {
       "config": {
        "plotlyServerURL": "https://plot.ly"
       },
       "data": [
        {
         "hovertemplate": "diet_type=%{x}<br>value=%{y}<extra></extra>",
         "legendgroup": "herbivore",
         "marker": {
          "color": "#636efa",
          "pattern": {
           "shape": ""
          }
         },
         "name": "herbivore",
         "orientation": "v",
         "showlegend": true,
         "textposition": "auto",
         "type": "bar",
         "x": [
          "herbivore"
         ],
         "xaxis": "x",
         "y": {
          "bdata": "AAAAAACAQkA=",
          "dtype": "f8"
         },
         "yaxis": "y"
        },
        {
         "hovertemplate": "diet_type=%{x}<br>value=%{y}<extra></extra>",
         "legendgroup": "omnivore",
         "marker": {
          "color": "#EF553B",
          "pattern": {
           "shape": ""
          }
         },
         "name": "omnivore",
         "orientation": "v",
         "showlegend": true,
         "textposition": "auto",
         "type": "bar",
         "x": [
          "omnivore"
         ],
         "xaxis": "x",
         "y": {
          "bdata": "AAAAAAAAQEA=",
          "dtype": "f8"
         },
         "yaxis": "y"
        },
        {
         "hovertemplate": "diet_type=%{x}<br>value=%{y}<extra></extra>",
         "legendgroup": "carnivore",
         "marker": {
          "color": "#00cc96",
          "pattern": {
           "shape": ""
          }
         },
         "name": "carnivore",
         "orientation": "v",
         "showlegend": true,
         "textposition": "auto",
         "type": "bar",
         "x": [
          "carnivore"
         ],
         "xaxis": "x",
         "y": {
          "bdata": "AAAAAAAAP0A=",
          "dtype": "f8"
         },
         "yaxis": "y"
        }
       ],
       "layout": {
        "barmode": "relative",
        "legend": {
         "title": {
          "text": "diet_type"
         },
         "tracegroupgap": 0
        },
        "margin": {
         "t": 60
        },
        "template": {
         "data": {
          "bar": [
           {
            "error_x": {
             "color": "#2a3f5f"
            },
            "error_y": {
             "color": "#2a3f5f"
            },
            "marker": {
             "line": {
              "color": "#E5ECF6",
              "width": 0.5
             },
             "pattern": {
              "fillmode": "overlay",
              "size": 10,
              "solidity": 0.2
             }
            },
            "type": "bar"
           }
          ],
          "barpolar": [
           {
            "marker": {
             "line": {
              "color": "#E5ECF6",
              "width": 0.5
             },
             "pattern": {
              "fillmode": "overlay",
              "size": 10,
              "solidity": 0.2
             }
            },
            "type": "barpolar"
           }
          ],
          "carpet": [
           {
            "aaxis": {
             "endlinecolor": "#2a3f5f",
             "gridcolor": "white",
             "linecolor": "white",
             "minorgridcolor": "white",
             "startlinecolor": "#2a3f5f"
            },
            "baxis": {
             "endlinecolor": "#2a3f5f",
             "gridcolor": "white",
             "linecolor": "white",
             "minorgridcolor": "white",
             "startlinecolor": "#2a3f5f"
            },
            "type": "carpet"
           }
          ],
          "choropleth": [
           {
            "colorbar": {
             "outlinewidth": 0,
             "ticks": ""
            },
            "type": "choropleth"
           }
          ],
          "contour": [
           {
            "colorbar": {
             "outlinewidth": 0,
             "ticks": ""
            },
            "colorscale": [
             [
              0,
              "#0d0887"
             ],
             [
              0.1111111111111111,
              "#46039f"
             ],
             [
              0.2222222222222222,
              "#7201a8"
             ],
             [
              0.3333333333333333,
              "#9c179e"
             ],
             [
              0.4444444444444444,
              "#bd3786"
             ],
             [
              0.5555555555555556,
              "#d8576b"
             ],
             [
              0.6666666666666666,
              "#ed7953"
             ],
             [
              0.7777777777777778,
              "#fb9f3a"
             ],
             [
              0.8888888888888888,
              "#fdca26"
             ],
             [
              1,
              "#f0f921"
             ]
            ],
            "type": "contour"
           }
          ],
          "contourcarpet": [
           {
            "colorbar": {
             "outlinewidth": 0,
             "ticks": ""
            },
            "type": "contourcarpet"
           }
          ],
          "heatmap": [
           {
            "colorbar": {
             "outlinewidth": 0,
             "ticks": ""
            },
            "colorscale": [
             [
              0,
              "#0d0887"
             ],
             [
              0.1111111111111111,
              "#46039f"
             ],
             [
              0.2222222222222222,
              "#7201a8"
             ],
             [
              0.3333333333333333,
              "#9c179e"
             ],
             [
              0.4444444444444444,
              "#bd3786"
             ],
             [
              0.5555555555555556,
              "#d8576b"
             ],
             [
              0.6666666666666666,
              "#ed7953"
             ],
             [
              0.7777777777777778,
              "#fb9f3a"
             ],
             [
              0.8888888888888888,
              "#fdca26"
             ],
             [
              1,
              "#f0f921"
             ]
            ],
            "type": "heatmap"
           }
          ],
          "histogram": [
           {
            "marker": {
             "pattern": {
              "fillmode": "overlay",
              "size": 10,
              "solidity": 0.2
             }
            },
            "type": "histogram"
           }
          ],
          "histogram2d": [
           {
            "colorbar": {
             "outlinewidth": 0,
             "ticks": ""
            },
            "colorscale": [
             [
              0,
              "#0d0887"
             ],
             [
              0.1111111111111111,
              "#46039f"
             ],
             [
              0.2222222222222222,
              "#7201a8"
             ],
             [
              0.3333333333333333,
              "#9c179e"
             ],
             [
              0.4444444444444444,
              "#bd3786"
             ],
             [
              0.5555555555555556,
              "#d8576b"
             ],
             [
              0.6666666666666666,
              "#ed7953"
             ],
             [
              0.7777777777777778,
              "#fb9f3a"
             ],
             [
              0.8888888888888888,
              "#fdca26"
             ],
             [
              1,
              "#f0f921"
             ]
            ],
            "type": "histogram2d"
           }
          ],
          "histogram2dcontour": [
           {
            "colorbar": {
             "outlinewidth": 0,
             "ticks": ""
            },
            "colorscale": [
             [
              0,
              "#0d0887"
             ],
             [
              0.1111111111111111,
              "#46039f"
             ],
             [
              0.2222222222222222,
              "#7201a8"
             ],
             [
              0.3333333333333333,
              "#9c179e"
             ],
             [
              0.4444444444444444,
              "#bd3786"
             ],
             [
              0.5555555555555556,
              "#d8576b"
             ],
             [
              0.6666666666666666,
              "#ed7953"
             ],
             [
              0.7777777777777778,
              "#fb9f3a"
             ],
             [
              0.8888888888888888,
              "#fdca26"
             ],
             [
              1,
              "#f0f921"
             ]
            ],
            "type": "histogram2dcontour"
           }
          ],
          "mesh3d": [
           {
            "colorbar": {
             "outlinewidth": 0,
             "ticks": ""
            },
            "type": "mesh3d"
           }
          ],
          "parcoords": [
           {
            "line": {
             "colorbar": {
              "outlinewidth": 0,
              "ticks": ""
             }
            },
            "type": "parcoords"
           }
          ],
          "pie": [
           {
            "automargin": true,
            "type": "pie"
           }
          ],
          "scatter": [
           {
            "fillpattern": {
             "fillmode": "overlay",
             "size": 10,
             "solidity": 0.2
            },
            "type": "scatter"
           }
          ],
          "scatter3d": [
           {
            "line": {
             "colorbar": {
              "outlinewidth": 0,
              "ticks": ""
             }
            },
            "marker": {
             "colorbar": {
              "outlinewidth": 0,
              "ticks": ""
             }
            },
            "type": "scatter3d"
           }
          ],
          "scattercarpet": [
           {
            "marker": {
             "colorbar": {
              "outlinewidth": 0,
              "ticks": ""
             }
            },
            "type": "scattercarpet"
           }
          ],
          "scattergeo": [
           {
            "marker": {
             "colorbar": {
              "outlinewidth": 0,
              "ticks": ""
             }
            },
            "type": "scattergeo"
           }
          ],
          "scattergl": [
           {
            "marker": {
             "colorbar": {
              "outlinewidth": 0,
              "ticks": ""
             }
            },
            "type": "scattergl"
           }
          ],
          "scattermap": [
           {
            "marker": {
             "colorbar": {
              "outlinewidth": 0,
              "ticks": ""
             }
            },
            "type": "scattermap"
           }
          ],
          "scattermapbox": [
           {
            "marker": {
             "colorbar": {
              "outlinewidth": 0,
              "ticks": ""
             }
            },
            "type": "scattermapbox"
           }
          ],
          "scatterpolar": [
           {
            "marker": {
             "colorbar": {
              "outlinewidth": 0,
              "ticks": ""
             }
            },
            "type": "scatterpolar"
           }
          ],
          "scatterpolargl": [
           {
            "marker": {
             "colorbar": {
              "outlinewidth": 0,
              "ticks": ""
             }
            },
            "type": "scatterpolargl"
           }
          ],
          "scatterternary": [
           {
            "marker": {
             "colorbar": {
              "outlinewidth": 0,
              "ticks": ""
             }
            },
            "type": "scatterternary"
           }
          ],
          "surface": [
           {
            "colorbar": {
             "outlinewidth": 0,
             "ticks": ""
            },
            "colorscale": [
             [
              0,
              "#0d0887"
             ],
             [
              0.1111111111111111,
              "#46039f"
             ],
             [
              0.2222222222222222,
              "#7201a8"
             ],
             [
              0.3333333333333333,
              "#9c179e"
             ],
             [
              0.4444444444444444,
              "#bd3786"
             ],
             [
              0.5555555555555556,
              "#d8576b"
             ],
             [
              0.6666666666666666,
              "#ed7953"
             ],
             [
              0.7777777777777778,
              "#fb9f3a"
             ],
             [
              0.8888888888888888,
              "#fdca26"
             ],
             [
              1,
              "#f0f921"
             ]
            ],
            "type": "surface"
           }
          ],
          "table": [
           {
            "cells": {
             "fill": {
              "color": "#EBF0F8"
             },
             "line": {
              "color": "white"
             }
            },
            "header": {
             "fill": {
              "color": "#C8D4E3"
             },
             "line": {
              "color": "white"
             }
            },
            "type": "table"
           }
          ]
         },
         "layout": {
          "annotationdefaults": {
           "arrowcolor": "#2a3f5f",
           "arrowhead": 0,
           "arrowwidth": 1
          },
          "autotypenumbers": "strict",
          "coloraxis": {
           "colorbar": {
            "outlinewidth": 0,
            "ticks": ""
           }
          },
          "colorscale": {
           "diverging": [
            [
             0,
             "#8e0152"
            ],
            [
             0.1,
             "#c51b7d"
            ],
            [
             0.2,
             "#de77ae"
            ],
            [
             0.3,
             "#f1b6da"
            ],
            [
             0.4,
             "#fde0ef"
            ],
            [
             0.5,
             "#f7f7f7"
            ],
            [
             0.6,
             "#e6f5d0"
            ],
            [
             0.7,
             "#b8e186"
            ],
            [
             0.8,
             "#7fbc41"
            ],
            [
             0.9,
             "#4d9221"
            ],
            [
             1,
             "#276419"
            ]
           ],
           "sequential": [
            [
             0,
             "#0d0887"
            ],
            [
             0.1111111111111111,
             "#46039f"
            ],
            [
             0.2222222222222222,
             "#7201a8"
            ],
            [
             0.3333333333333333,
             "#9c179e"
            ],
            [
             0.4444444444444444,
             "#bd3786"
            ],
            [
             0.5555555555555556,
             "#d8576b"
            ],
            [
             0.6666666666666666,
             "#ed7953"
            ],
            [
             0.7777777777777778,
             "#fb9f3a"
            ],
            [
             0.8888888888888888,
             "#fdca26"
            ],
            [
             1,
             "#f0f921"
            ]
           ],
           "sequentialminus": [
            [
             0,
             "#0d0887"
            ],
            [
             0.1111111111111111,
             "#46039f"
            ],
            [
             0.2222222222222222,
             "#7201a8"
            ],
            [
             0.3333333333333333,
             "#9c179e"
            ],
            [
             0.4444444444444444,
             "#bd3786"
            ],
            [
             0.5555555555555556,
             "#d8576b"
            ],
            [
             0.6666666666666666,
             "#ed7953"
            ],
            [
             0.7777777777777778,
             "#fb9f3a"
            ],
            [
             0.8888888888888888,
             "#fdca26"
            ],
            [
             1,
             "#f0f921"
            ]
           ]
          },
          "colorway": [
           "#636efa",
           "#EF553B",
           "#00cc96",
           "#ab63fa",
           "#FFA15A",
           "#19d3f3",
           "#FF6692",
           "#B6E880",
           "#FF97FF",
           "#FECB52"
          ],
          "font": {
           "color": "#2a3f5f"
          },
          "geo": {
           "bgcolor": "white",
           "lakecolor": "white",
           "landcolor": "#E5ECF6",
           "showlakes": true,
           "showland": true,
           "subunitcolor": "white"
          },
          "hoverlabel": {
           "align": "left"
          },
          "hovermode": "closest",
          "mapbox": {
           "style": "light"
          },
          "paper_bgcolor": "white",
          "plot_bgcolor": "#E5ECF6",
          "polar": {
           "angularaxis": {
            "gridcolor": "white",
            "linecolor": "white",
            "ticks": ""
           },
           "bgcolor": "#E5ECF6",
           "radialaxis": {
            "gridcolor": "white",
            "linecolor": "white",
            "ticks": ""
           }
          },
          "scene": {
           "xaxis": {
            "backgroundcolor": "#E5ECF6",
            "gridcolor": "white",
            "gridwidth": 2,
            "linecolor": "white",
            "showbackground": true,
            "ticks": "",
            "zerolinecolor": "white"
           },
           "yaxis": {
            "backgroundcolor": "#E5ECF6",
            "gridcolor": "white",
            "gridwidth": 2,
            "linecolor": "white",
            "showbackground": true,
            "ticks": "",
            "zerolinecolor": "white"
           },
           "zaxis": {
            "backgroundcolor": "#E5ECF6",
            "gridcolor": "white",
            "gridwidth": 2,
            "linecolor": "white",
            "showbackground": true,
            "ticks": "",
            "zerolinecolor": "white"
           }
          },
          "shapedefaults": {
           "line": {
            "color": "#2a3f5f"
           }
          },
          "ternary": {
           "aaxis": {
            "gridcolor": "white",
            "linecolor": "white",
            "ticks": ""
           },
           "baxis": {
            "gridcolor": "white",
            "linecolor": "white",
            "ticks": ""
           },
           "bgcolor": "#E5ECF6",
           "caxis": {
            "gridcolor": "white",
            "linecolor": "white",
            "ticks": ""
           }
          },
          "title": {
           "x": 0.05
          },
          "xaxis": {
           "automargin": true,
           "gridcolor": "white",
           "linecolor": "white",
           "ticks": "",
           "title": {
            "standoff": 15
           },
           "zerolinecolor": "white",
           "zerolinewidth": 2
          },
          "yaxis": {
           "automargin": true,
           "gridcolor": "white",
           "linecolor": "white",
           "ticks": "",
           "title": {
            "standoff": 15
           },
           "zerolinecolor": "white",
           "zerolinewidth": 2
          }
         }
        },
        "xaxis": {
         "anchor": "y",
         "categoryarray": [
          "herbivore",
          "omnivore",
          "carnivore"
         ],
         "categoryorder": "array",
         "domain": [
          0,
          1
         ],
         "title": {
          "text": "diet_type"
         }
        },
        "yaxis": {
         "anchor": "x",
         "domain": [
          0,
          1
         ],
         "title": {
          "text": "value"
         }
        }
       }
      }
     },
     "metadata": {},
     "output_type": "display_data"
    }
   ],
   "source": [
    "# Distribuição da variável diet_type\n",
    "\n",
    "percentual_diet_type = df_species.value_counts('diet_type') / len(df_species) * 100\n",
    "px.bar(percentual_diet_type, color=percentual_diet_type.index)"
   ]
  },
  {
   "cell_type": "markdown",
   "id": "824796c9",
   "metadata": {},
   "source": [
    "### Treinar modelos clustering hierárquicos"
   ]
  },
  {
   "cell_type": "code",
   "execution_count": null,
   "id": "f5604b18",
   "metadata": {},
   "outputs": [],
   "source": [
    "# Selecionar as colunas para clusterização\n",
    "\n",
    "X = df_species.copy()\n",
    "\n",
    "# Remover colunas desnecessárias\n",
    "X.drop(columns=['species_id'], axis=1, inplace=True)"
   ]
  },
  {
   "cell_type": "code",
   "execution_count": null,
   "id": "21c36e15",
   "metadata": {},
   "outputs": [],
   "source": [
    "# Separando variáveis numéricas e categóricas\n",
    "\n",
    "numeric_features = ['body_mass_kg', 'num_legs', 'has_wings', 'tail_length_cm', 'eye_count', 'nocturnal', 'avg_lifespan_years', 'has_venom']\n",
    "categorical_features = ['diet_type', 'skin_type', 'social_behavior']\n",
    "\n",
    "# Definir transformações\n",
    "numeric_transformer = StandardScaler()\n",
    "categorical_transformer = OneHotEncoder()"
   ]
  },
  {
   "cell_type": "code",
   "execution_count": 13,
   "id": "d36a695d",
   "metadata": {},
   "outputs": [
    {
     "data": {
      "text/plain": [
       "array([[ 0.5264221 ,  0.72399302,  1.58391033, ...,  0.        ,\n",
       "         1.        ,  0.        ],\n",
       "       [-0.13221963,  0.72399302,  1.58391033, ...,  0.        ,\n",
       "         0.        ,  1.        ],\n",
       "       [ 0.68302273,  1.43032767,  1.58391033, ...,  0.        ,\n",
       "         1.        ,  0.        ],\n",
       "       ...,\n",
       "       [-1.00404132, -1.39501093,  1.58391033, ...,  0.        ,\n",
       "         1.        ,  0.        ],\n",
       "       [-0.44965315, -1.39501093, -0.63134887, ...,  1.        ,\n",
       "         0.        ,  0.        ],\n",
       "       [ 0.40255834,  1.43032767, -0.63134887, ...,  0.        ,\n",
       "         1.        ,  0.        ]], shape=(600, 18))"
      ]
     },
     "execution_count": 13,
     "metadata": {},
     "output_type": "execute_result"
    }
   ],
   "source": [
    "# Criar Pre Processador de Transformações\n",
    "\n",
    "preprocessor = ColumnTransformer(\n",
    "    transformers=[\n",
    "        ('num', numeric_transformer, numeric_features),\n",
    "        ('cat', categorical_transformer, categorical_features)\n",
    "    ]\n",
    ")\n",
    "\n",
    "# Transformar os dados\n",
    "X_transformed = preprocessor.fit_transform(X)\n",
    "\n",
    "# Visualizar X_transformed\n",
    "X_transformed"
   ]
  },
  {
   "cell_type": "code",
   "execution_count": 20,
   "id": "f38fcc22",
   "metadata": {},
   "outputs": [],
   "source": [
    "def hierarchical_agglomerative_objective(trial):\n",
    "    # Definindo os hiperparâmetros a serem ajustados\n",
    "    n_clusters = trial.suggest_int('n_clusters', 10, 150)\n",
    "    linkage = trial.suggest_categorical('linkage', ['ward', 'average', 'complete', 'single'])\n",
    "    \n",
    "    # Instanciar o modelo\n",
    "    hierarchical_model = AgglomerativeClustering(linkage=linkage, n_clusters=n_clusters)\n",
    "    \n",
    "    # Treinar o modelo e já executar a clusterização\n",
    "    y_predict = hierarchical_model.fit_predict(X_transformed)\n",
    "    \n",
    "    # Calcular o silhouette Score\n",
    "    silhouette_avg = silhouette_score(X_transformed, y_predict)\n",
    "    \n",
    "    return silhouette_avg"
   ]
  },
  {
   "cell_type": "code",
   "execution_count": 18,
   "id": "f4a38342",
   "metadata": {},
   "outputs": [
    {
     "name": "stderr",
     "output_type": "stream",
     "text": [
      "[I 2025-08-27 11:15:41,377] A new study created in memory with name: no-name-c62b351d-833f-473e-80e1-75b9975036d3\n"
     ]
    }
   ],
   "source": [
    "# Criar um estudo no Optuna\n",
    "\n",
    "search_space_ag = {'n_clusters': range(10,151), 'linkage':['ward', 'average', 'complete', 'single']}\n",
    "sampler_ag = optuna.samplers.GridSampler(search_space=search_space_ag)\n",
    "estudo_ag = optuna.create_study(direction='maximize', sampler=sampler_ag)"
   ]
  },
  {
   "cell_type": "code",
   "execution_count": 21,
   "id": "a1a2711c",
   "metadata": {},
   "outputs": [
    {
     "name": "stderr",
     "output_type": "stream",
     "text": [
      "[I 2025-08-27 11:16:25,017] Trial 1 finished with value: 0.06952264766223992 and parameters: {'n_clusters': 44, 'linkage': 'complete'}. Best is trial 1 with value: 0.06952264766223992.\n"
     ]
    },
    {
     "name": "stderr",
     "output_type": "stream",
     "text": [
      "[I 2025-08-27 11:16:25,047] Trial 2 finished with value: 0.07090101644156098 and parameters: {'n_clusters': 57, 'linkage': 'average'}. Best is trial 2 with value: 0.07090101644156098.\n",
      "[I 2025-08-27 11:16:25,070] Trial 3 finished with value: 0.06751505762324567 and parameters: {'n_clusters': 46, 'linkage': 'complete'}. Best is trial 2 with value: 0.07090101644156098.\n",
      "[I 2025-08-27 11:16:25,133] Trial 4 finished with value: 0.11399187022420045 and parameters: {'n_clusters': 140, 'linkage': 'complete'}. Best is trial 4 with value: 0.11399187022420045.\n",
      "[I 2025-08-27 11:16:25,159] Trial 5 finished with value: 0.0990955747361001 and parameters: {'n_clusters': 150, 'linkage': 'average'}. Best is trial 4 with value: 0.11399187022420045.\n",
      "[I 2025-08-27 11:16:25,178] Trial 6 finished with value: 0.11365035349814018 and parameters: {'n_clusters': 145, 'linkage': 'complete'}. Best is trial 4 with value: 0.11399187022420045.\n",
      "[I 2025-08-27 11:16:25,200] Trial 7 finished with value: 0.09626353167471194 and parameters: {'n_clusters': 112, 'linkage': 'complete'}. Best is trial 4 with value: 0.11399187022420045.\n",
      "[I 2025-08-27 11:16:25,220] Trial 8 finished with value: -0.1760176513817061 and parameters: {'n_clusters': 103, 'linkage': 'single'}. Best is trial 4 with value: 0.11399187022420045.\n",
      "[I 2025-08-27 11:16:25,244] Trial 9 finished with value: 0.09221484044188469 and parameters: {'n_clusters': 111, 'linkage': 'average'}. Best is trial 4 with value: 0.11399187022420045.\n",
      "[I 2025-08-27 11:16:25,267] Trial 10 finished with value: 0.0803223472919918 and parameters: {'n_clusters': 75, 'linkage': 'complete'}. Best is trial 4 with value: 0.11399187022420045.\n",
      "[I 2025-08-27 11:16:25,292] Trial 11 finished with value: 0.0927516692965339 and parameters: {'n_clusters': 114, 'linkage': 'average'}. Best is trial 4 with value: 0.11399187022420045.\n",
      "[I 2025-08-27 11:16:25,313] Trial 12 finished with value: -0.17318610727112732 and parameters: {'n_clusters': 98, 'linkage': 'single'}. Best is trial 4 with value: 0.11399187022420045.\n",
      "[I 2025-08-27 11:16:25,336] Trial 13 finished with value: 0.09487138436025044 and parameters: {'n_clusters': 119, 'linkage': 'average'}. Best is trial 4 with value: 0.11399187022420045.\n",
      "[I 2025-08-27 11:16:25,362] Trial 14 finished with value: 0.08304502237594771 and parameters: {'n_clusters': 73, 'linkage': 'complete'}. Best is trial 4 with value: 0.11399187022420045.\n",
      "[I 2025-08-27 11:16:25,386] Trial 15 finished with value: 0.08005037304437293 and parameters: {'n_clusters': 76, 'linkage': 'complete'}. Best is trial 4 with value: 0.11399187022420045.\n",
      "[I 2025-08-27 11:16:25,412] Trial 16 finished with value: 0.11200301901968722 and parameters: {'n_clusters': 138, 'linkage': 'complete'}. Best is trial 4 with value: 0.11399187022420045.\n",
      "[I 2025-08-27 11:16:25,436] Trial 17 finished with value: 0.10200216640894681 and parameters: {'n_clusters': 120, 'linkage': 'complete'}. Best is trial 4 with value: 0.11399187022420045.\n",
      "[I 2025-08-27 11:16:25,466] Trial 18 finished with value: 0.0875315494911424 and parameters: {'n_clusters': 100, 'linkage': 'average'}. Best is trial 4 with value: 0.11399187022420045.\n",
      "[I 2025-08-27 11:16:25,492] Trial 19 finished with value: 0.050315799545952784 and parameters: {'n_clusters': 24, 'linkage': 'average'}. Best is trial 4 with value: 0.11399187022420045.\n",
      "[I 2025-08-27 11:16:25,517] Trial 20 finished with value: -0.12884078099103818 and parameters: {'n_clusters': 43, 'linkage': 'single'}. Best is trial 4 with value: 0.11399187022420045.\n",
      "[I 2025-08-27 11:16:25,544] Trial 21 finished with value: 0.09272617607054601 and parameters: {'n_clusters': 41, 'linkage': 'ward'}. Best is trial 4 with value: 0.11399187022420045.\n",
      "[I 2025-08-27 11:16:25,573] Trial 22 finished with value: 0.10655439354161586 and parameters: {'n_clusters': 85, 'linkage': 'ward'}. Best is trial 4 with value: 0.11399187022420045.\n",
      "[I 2025-08-27 11:16:25,660] Trial 23 finished with value: 0.11958865187799167 and parameters: {'n_clusters': 117, 'linkage': 'ward'}. Best is trial 23 with value: 0.11958865187799167.\n",
      "[I 2025-08-27 11:16:25,688] Trial 24 finished with value: 0.08604513494454769 and parameters: {'n_clusters': 88, 'linkage': 'average'}. Best is trial 23 with value: 0.11958865187799167.\n",
      "[I 2025-08-27 11:16:25,719] Trial 25 finished with value: 0.09613093860502407 and parameters: {'n_clusters': 47, 'linkage': 'ward'}. Best is trial 23 with value: 0.11958865187799167.\n",
      "[I 2025-08-27 11:16:25,744] Trial 26 finished with value: 0.0334606478807099 and parameters: {'n_clusters': 12, 'linkage': 'single'}. Best is trial 23 with value: 0.11958865187799167.\n",
      "[I 2025-08-27 11:16:25,772] Trial 27 finished with value: -0.17424876868732644 and parameters: {'n_clusters': 99, 'linkage': 'single'}. Best is trial 23 with value: 0.11958865187799167.\n",
      "[I 2025-08-27 11:16:25,807] Trial 28 finished with value: 0.07050178796764982 and parameters: {'n_clusters': 40, 'linkage': 'complete'}. Best is trial 23 with value: 0.11958865187799167.\n",
      "[I 2025-08-27 11:16:25,833] Trial 29 finished with value: 0.10872014097532037 and parameters: {'n_clusters': 88, 'linkage': 'ward'}. Best is trial 23 with value: 0.11958865187799167.\n",
      "[I 2025-08-27 11:16:25,873] Trial 30 finished with value: 0.07127283030030662 and parameters: {'n_clusters': 65, 'linkage': 'average'}. Best is trial 23 with value: 0.11958865187799167.\n",
      "[I 2025-08-27 11:16:25,904] Trial 31 finished with value: 0.07942679264529871 and parameters: {'n_clusters': 78, 'linkage': 'complete'}. Best is trial 23 with value: 0.11958865187799167.\n",
      "[I 2025-08-27 11:16:25,935] Trial 32 finished with value: 0.07671617806453464 and parameters: {'n_clusters': 20, 'linkage': 'ward'}. Best is trial 23 with value: 0.11958865187799167.\n",
      "[I 2025-08-27 11:16:25,966] Trial 33 finished with value: -0.1776009011958354 and parameters: {'n_clusters': 129, 'linkage': 'single'}. Best is trial 23 with value: 0.11958865187799167.\n",
      "[I 2025-08-27 11:16:25,998] Trial 34 finished with value: 0.11309800805073185 and parameters: {'n_clusters': 144, 'linkage': 'complete'}. Best is trial 23 with value: 0.11958865187799167.\n",
      "[I 2025-08-27 11:16:26,033] Trial 35 finished with value: 0.11950282458049746 and parameters: {'n_clusters': 112, 'linkage': 'ward'}. Best is trial 23 with value: 0.11958865187799167.\n",
      "[I 2025-08-27 11:16:26,067] Trial 36 finished with value: 0.11954693700553719 and parameters: {'n_clusters': 113, 'linkage': 'ward'}. Best is trial 23 with value: 0.11958865187799167.\n",
      "[I 2025-08-27 11:16:26,103] Trial 37 finished with value: 0.10701013391623143 and parameters: {'n_clusters': 131, 'linkage': 'complete'}. Best is trial 23 with value: 0.11958865187799167.\n",
      "[I 2025-08-27 11:16:26,143] Trial 38 finished with value: 0.11150035373265851 and parameters: {'n_clusters': 137, 'linkage': 'complete'}. Best is trial 23 with value: 0.11958865187799167.\n",
      "[I 2025-08-27 11:16:26,182] Trial 39 finished with value: -0.12010472865954061 and parameters: {'n_clusters': 40, 'linkage': 'single'}. Best is trial 23 with value: 0.11958865187799167.\n",
      "[I 2025-08-27 11:16:26,221] Trial 40 finished with value: 0.11469322713009106 and parameters: {'n_clusters': 99, 'linkage': 'ward'}. Best is trial 23 with value: 0.11958865187799167.\n",
      "[I 2025-08-27 11:16:26,263] Trial 41 finished with value: 0.1119581962037191 and parameters: {'n_clusters': 136, 'linkage': 'complete'}. Best is trial 23 with value: 0.11958865187799167.\n",
      "[I 2025-08-27 11:16:26,305] Trial 42 finished with value: -0.1814049281453585 and parameters: {'n_clusters': 80, 'linkage': 'single'}. Best is trial 23 with value: 0.11958865187799167.\n",
      "[I 2025-08-27 11:16:26,341] Trial 43 finished with value: 0.06951508447953654 and parameters: {'n_clusters': 43, 'linkage': 'complete'}. Best is trial 23 with value: 0.11958865187799167.\n",
      "[I 2025-08-27 11:16:26,387] Trial 44 finished with value: 0.07463061715780107 and parameters: {'n_clusters': 75, 'linkage': 'average'}. Best is trial 23 with value: 0.11958865187799167.\n",
      "[I 2025-08-27 11:16:26,443] Trial 45 finished with value: -0.1446457944902942 and parameters: {'n_clusters': 51, 'linkage': 'single'}. Best is trial 23 with value: 0.11958865187799167.\n",
      "[I 2025-08-27 11:16:26,497] Trial 46 finished with value: 0.04794245338930521 and parameters: {'n_clusters': 28, 'linkage': 'average'}. Best is trial 23 with value: 0.11958865187799167.\n",
      "[I 2025-08-27 11:16:26,543] Trial 47 finished with value: 0.07183401182548034 and parameters: {'n_clusters': 59, 'linkage': 'average'}. Best is trial 23 with value: 0.11958865187799167.\n",
      "[I 2025-08-27 11:16:26,584] Trial 48 finished with value: 0.08670183522532403 and parameters: {'n_clusters': 92, 'linkage': 'complete'}. Best is trial 23 with value: 0.11958865187799167.\n",
      "[I 2025-08-27 11:16:26,634] Trial 49 finished with value: 0.05445688700827407 and parameters: {'n_clusters': 31, 'linkage': 'average'}. Best is trial 23 with value: 0.11958865187799167.\n",
      "[I 2025-08-27 11:16:26,675] Trial 50 finished with value: -0.17846581189715502 and parameters: {'n_clusters': 123, 'linkage': 'single'}. Best is trial 23 with value: 0.11958865187799167.\n",
      "[I 2025-08-27 11:16:26,714] Trial 51 finished with value: -0.13169758643066043 and parameters: {'n_clusters': 49, 'linkage': 'single'}. Best is trial 23 with value: 0.11958865187799167.\n",
      "[I 2025-08-27 11:16:26,756] Trial 52 finished with value: 0.1203441000216541 and parameters: {'n_clusters': 118, 'linkage': 'ward'}. Best is trial 52 with value: 0.1203441000216541.\n",
      "[I 2025-08-27 11:16:26,798] Trial 53 finished with value: 0.08028951378426949 and parameters: {'n_clusters': 25, 'linkage': 'ward'}. Best is trial 52 with value: 0.1203441000216541.\n",
      "[I 2025-08-27 11:16:26,839] Trial 54 finished with value: 0.09554954570949574 and parameters: {'n_clusters': 115, 'linkage': 'average'}. Best is trial 52 with value: 0.1203441000216541.\n",
      "[I 2025-08-27 11:16:26,884] Trial 55 finished with value: 0.059465152180445034 and parameters: {'n_clusters': 29, 'linkage': 'complete'}. Best is trial 52 with value: 0.1203441000216541.\n",
      "[I 2025-08-27 11:16:26,958] Trial 56 finished with value: 0.05420528042792718 and parameters: {'n_clusters': 21, 'linkage': 'complete'}. Best is trial 52 with value: 0.1203441000216541.\n",
      "[I 2025-08-27 11:16:26,998] Trial 57 finished with value: 0.13129813063305099 and parameters: {'n_clusters': 150, 'linkage': 'ward'}. Best is trial 57 with value: 0.13129813063305099.\n",
      "[I 2025-08-27 11:16:27,039] Trial 58 finished with value: 0.08311123244251752 and parameters: {'n_clusters': 27, 'linkage': 'ward'}. Best is trial 57 with value: 0.13129813063305099.\n",
      "[I 2025-08-27 11:16:27,083] Trial 59 finished with value: 0.11169784692405611 and parameters: {'n_clusters': 135, 'linkage': 'complete'}. Best is trial 57 with value: 0.13129813063305099.\n",
      "[I 2025-08-27 11:16:27,128] Trial 60 finished with value: 0.08369326831836449 and parameters: {'n_clusters': 86, 'linkage': 'complete'}. Best is trial 57 with value: 0.13129813063305099.\n",
      "[I 2025-08-27 11:16:27,168] Trial 61 finished with value: 0.10519309652838627 and parameters: {'n_clusters': 76, 'linkage': 'ward'}. Best is trial 57 with value: 0.13129813063305099.\n",
      "[I 2025-08-27 11:16:27,216] Trial 62 finished with value: 0.09365387933139178 and parameters: {'n_clusters': 112, 'linkage': 'average'}. Best is trial 57 with value: 0.13129813063305099.\n",
      "[I 2025-08-27 11:16:27,261] Trial 63 finished with value: 0.09897206604241736 and parameters: {'n_clusters': 117, 'linkage': 'complete'}. Best is trial 57 with value: 0.13129813063305099.\n",
      "[I 2025-08-27 11:16:27,304] Trial 64 finished with value: 0.0982375855761375 and parameters: {'n_clusters': 55, 'linkage': 'ward'}. Best is trial 57 with value: 0.13129813063305099.\n",
      "[I 2025-08-27 11:16:27,346] Trial 65 finished with value: -0.11928056340338127 and parameters: {'n_clusters': 36, 'linkage': 'single'}. Best is trial 57 with value: 0.13129813063305099.\n",
      "[I 2025-08-27 11:16:27,392] Trial 66 finished with value: -0.17980335911704626 and parameters: {'n_clusters': 109, 'linkage': 'single'}. Best is trial 57 with value: 0.13129813063305099.\n",
      "[I 2025-08-27 11:16:27,438] Trial 67 finished with value: 0.09392838333482928 and parameters: {'n_clusters': 132, 'linkage': 'average'}. Best is trial 57 with value: 0.13129813063305099.\n",
      "[I 2025-08-27 11:16:27,482] Trial 68 finished with value: 0.09501535469908613 and parameters: {'n_clusters': 116, 'linkage': 'average'}. Best is trial 57 with value: 0.13129813063305099.\n",
      "[I 2025-08-27 11:16:27,528] Trial 69 finished with value: -0.1611524521926612 and parameters: {'n_clusters': 134, 'linkage': 'single'}. Best is trial 57 with value: 0.13129813063305099.\n",
      "[I 2025-08-27 11:16:27,573] Trial 70 finished with value: 0.03735569549616969 and parameters: {'n_clusters': 10, 'linkage': 'complete'}. Best is trial 57 with value: 0.13129813063305099.\n",
      "[I 2025-08-27 11:16:27,620] Trial 71 finished with value: 0.06714790991867908 and parameters: {'n_clusters': 48, 'linkage': 'average'}. Best is trial 57 with value: 0.13129813063305099.\n",
      "[I 2025-08-27 11:16:27,665] Trial 72 finished with value: -0.18314184950837722 and parameters: {'n_clusters': 76, 'linkage': 'single'}. Best is trial 57 with value: 0.13129813063305099.\n",
      "[I 2025-08-27 11:16:27,711] Trial 73 finished with value: -0.11810505577374085 and parameters: {'n_clusters': 41, 'linkage': 'single'}. Best is trial 57 with value: 0.13129813063305099.\n",
      "[I 2025-08-27 11:16:27,757] Trial 74 finished with value: 0.09804213021860288 and parameters: {'n_clusters': 56, 'linkage': 'ward'}. Best is trial 57 with value: 0.13129813063305099.\n",
      "[I 2025-08-27 11:16:27,807] Trial 75 finished with value: 0.12403980238082724 and parameters: {'n_clusters': 128, 'linkage': 'ward'}. Best is trial 57 with value: 0.13129813063305099.\n",
      "[I 2025-08-27 11:16:27,857] Trial 76 finished with value: 0.06666720843893166 and parameters: {'n_clusters': 41, 'linkage': 'average'}. Best is trial 57 with value: 0.13129813063305099.\n",
      "[I 2025-08-27 11:16:27,906] Trial 77 finished with value: 0.08429169251445238 and parameters: {'n_clusters': 31, 'linkage': 'ward'}. Best is trial 57 with value: 0.13129813063305099.\n",
      "[I 2025-08-27 11:16:27,956] Trial 78 finished with value: 0.09696725182370365 and parameters: {'n_clusters': 114, 'linkage': 'complete'}. Best is trial 57 with value: 0.13129813063305099.\n",
      "[I 2025-08-27 11:16:28,005] Trial 79 finished with value: -0.1488739002007592 and parameters: {'n_clusters': 149, 'linkage': 'single'}. Best is trial 57 with value: 0.13129813063305099.\n",
      "[I 2025-08-27 11:16:28,055] Trial 80 finished with value: -0.1766182766453794 and parameters: {'n_clusters': 111, 'linkage': 'single'}. Best is trial 57 with value: 0.13129813063305099.\n",
      "[I 2025-08-27 11:16:28,107] Trial 81 finished with value: 0.08886323774043924 and parameters: {'n_clusters': 94, 'linkage': 'average'}. Best is trial 57 with value: 0.13129813063305099.\n",
      "[I 2025-08-27 11:16:28,156] Trial 82 finished with value: 0.12884557396879123 and parameters: {'n_clusters': 144, 'linkage': 'ward'}. Best is trial 57 with value: 0.13129813063305099.\n",
      "[I 2025-08-27 11:16:28,207] Trial 83 finished with value: 0.10556811736843578 and parameters: {'n_clusters': 81, 'linkage': 'ward'}. Best is trial 57 with value: 0.13129813063305099.\n",
      "[I 2025-08-27 11:16:28,260] Trial 84 finished with value: 0.10102936202088306 and parameters: {'n_clusters': 121, 'linkage': 'complete'}. Best is trial 57 with value: 0.13129813063305099.\n",
      "[I 2025-08-27 11:16:28,419] Trial 85 finished with value: 0.11136219716865645 and parameters: {'n_clusters': 95, 'linkage': 'ward'}. Best is trial 57 with value: 0.13129813063305099.\n",
      "[I 2025-08-27 11:16:28,469] Trial 86 finished with value: 0.07444377241052878 and parameters: {'n_clusters': 61, 'linkage': 'complete'}. Best is trial 57 with value: 0.13129813063305099.\n",
      "[I 2025-08-27 11:16:28,520] Trial 87 finished with value: 0.1156025563933478 and parameters: {'n_clusters': 100, 'linkage': 'ward'}. Best is trial 57 with value: 0.13129813063305099.\n",
      "[I 2025-08-27 11:16:28,569] Trial 88 finished with value: -0.17514308235527673 and parameters: {'n_clusters': 102, 'linkage': 'single'}. Best is trial 57 with value: 0.13129813063305099.\n",
      "[I 2025-08-27 11:16:28,648] Trial 89 finished with value: -0.14939566322702283 and parameters: {'n_clusters': 142, 'linkage': 'single'}. Best is trial 57 with value: 0.13129813063305099.\n",
      "[I 2025-08-27 11:16:28,720] Trial 90 finished with value: -0.17333894050102625 and parameters: {'n_clusters': 115, 'linkage': 'single'}. Best is trial 57 with value: 0.13129813063305099.\n",
      "[I 2025-08-27 11:16:28,771] Trial 91 finished with value: 0.09303157540235475 and parameters: {'n_clusters': 104, 'linkage': 'complete'}. Best is trial 57 with value: 0.13129813063305099.\n",
      "[I 2025-08-27 11:16:28,823] Trial 92 finished with value: 0.09993580455830471 and parameters: {'n_clusters': 118, 'linkage': 'complete'}. Best is trial 57 with value: 0.13129813063305099.\n",
      "[I 2025-08-27 11:16:28,874] Trial 93 finished with value: 0.06161462504199894 and parameters: {'n_clusters': 34, 'linkage': 'complete'}. Best is trial 57 with value: 0.13129813063305099.\n",
      "[I 2025-08-27 11:16:28,927] Trial 94 finished with value: 0.07469854212112573 and parameters: {'n_clusters': 58, 'linkage': 'complete'}. Best is trial 57 with value: 0.13129813063305099.\n",
      "[I 2025-08-27 11:16:28,980] Trial 95 finished with value: 0.07351456275045912 and parameters: {'n_clusters': 74, 'linkage': 'average'}. Best is trial 57 with value: 0.13129813063305099.\n",
      "[I 2025-08-27 11:16:29,034] Trial 96 finished with value: 0.11630313704225581 and parameters: {'n_clusters': 106, 'linkage': 'ward'}. Best is trial 57 with value: 0.13129813063305099.\n",
      "[I 2025-08-27 11:16:29,087] Trial 97 finished with value: 0.0941736421027184 and parameters: {'n_clusters': 109, 'linkage': 'complete'}. Best is trial 57 with value: 0.13129813063305099.\n",
      "[I 2025-08-27 11:16:29,143] Trial 98 finished with value: 0.058381442201211275 and parameters: {'n_clusters': 44, 'linkage': 'average'}. Best is trial 57 with value: 0.13129813063305099.\n",
      "[I 2025-08-27 11:16:29,196] Trial 99 finished with value: 0.10657917838765722 and parameters: {'n_clusters': 130, 'linkage': 'complete'}. Best is trial 57 with value: 0.13129813063305099.\n",
      "[I 2025-08-27 11:16:29,252] Trial 100 finished with value: 0.11032282289548717 and parameters: {'n_clusters': 134, 'linkage': 'complete'}. Best is trial 57 with value: 0.13129813063305099.\n",
      "[I 2025-08-27 11:16:29,306] Trial 101 finished with value: 0.08837706818676629 and parameters: {'n_clusters': 109, 'linkage': 'average'}. Best is trial 57 with value: 0.13129813063305099.\n",
      "[I 2025-08-27 11:16:29,360] Trial 102 finished with value: 0.08978242904719898 and parameters: {'n_clusters': 100, 'linkage': 'complete'}. Best is trial 57 with value: 0.13129813063305099.\n",
      "[I 2025-08-27 11:16:29,414] Trial 103 finished with value: -0.17980061632253952 and parameters: {'n_clusters': 90, 'linkage': 'single'}. Best is trial 57 with value: 0.13129813063305099.\n",
      "[I 2025-08-27 11:16:29,472] Trial 104 finished with value: -0.019447010641351115 and parameters: {'n_clusters': 11, 'linkage': 'average'}. Best is trial 57 with value: 0.13129813063305099.\n",
      "[I 2025-08-27 11:16:29,527] Trial 105 finished with value: -0.1786101849321544 and parameters: {'n_clusters': 86, 'linkage': 'single'}. Best is trial 57 with value: 0.13129813063305099.\n",
      "[I 2025-08-27 11:16:29,585] Trial 106 finished with value: -0.17780859629510964 and parameters: {'n_clusters': 128, 'linkage': 'single'}. Best is trial 57 with value: 0.13129813063305099.\n",
      "[I 2025-08-27 11:16:29,641] Trial 107 finished with value: -0.16068483486772675 and parameters: {'n_clusters': 132, 'linkage': 'single'}. Best is trial 57 with value: 0.13129813063305099.\n",
      "[I 2025-08-27 11:16:29,700] Trial 108 finished with value: 0.07503984387526583 and parameters: {'n_clusters': 54, 'linkage': 'average'}. Best is trial 57 with value: 0.13129813063305099.\n",
      "[I 2025-08-27 11:16:29,756] Trial 109 finished with value: -0.17698489950690424 and parameters: {'n_clusters': 70, 'linkage': 'single'}. Best is trial 57 with value: 0.13129813063305099.\n",
      "[I 2025-08-27 11:16:29,813] Trial 110 finished with value: 0.06826762906582598 and parameters: {'n_clusters': 34, 'linkage': 'average'}. Best is trial 57 with value: 0.13129813063305099.\n",
      "[I 2025-08-27 11:16:29,871] Trial 111 finished with value: 0.048447005494177076 and parameters: {'n_clusters': 11, 'linkage': 'complete'}. Best is trial 57 with value: 0.13129813063305099.\n",
      "[I 2025-08-27 11:16:29,931] Trial 112 finished with value: 0.088509018342439 and parameters: {'n_clusters': 93, 'linkage': 'average'}. Best is trial 57 with value: 0.13129813063305099.\n",
      "[I 2025-08-27 11:16:29,992] Trial 113 finished with value: 0.0811655858338508 and parameters: {'n_clusters': 11, 'linkage': 'ward'}. Best is trial 57 with value: 0.13129813063305099.\n",
      "[I 2025-08-27 11:16:30,053] Trial 114 finished with value: 0.07170038521238943 and parameters: {'n_clusters': 55, 'linkage': 'average'}. Best is trial 57 with value: 0.13129813063305099.\n",
      "[I 2025-08-27 11:16:30,112] Trial 115 finished with value: -0.14007246336691187 and parameters: {'n_clusters': 50, 'linkage': 'single'}. Best is trial 57 with value: 0.13129813063305099.\n",
      "[I 2025-08-27 11:16:30,174] Trial 116 finished with value: 0.07613522800400169 and parameters: {'n_clusters': 22, 'linkage': 'ward'}. Best is trial 57 with value: 0.13129813063305099.\n",
      "[I 2025-08-27 11:16:30,233] Trial 117 finished with value: -0.17927063618813105 and parameters: {'n_clusters': 68, 'linkage': 'single'}. Best is trial 57 with value: 0.13129813063305099.\n",
      "[I 2025-08-27 11:16:30,291] Trial 118 finished with value: -0.17529831482025632 and parameters: {'n_clusters': 96, 'linkage': 'single'}. Best is trial 57 with value: 0.13129813063305099.\n",
      "[I 2025-08-27 11:16:30,352] Trial 119 finished with value: 0.08282531999076587 and parameters: {'n_clusters': 72, 'linkage': 'complete'}. Best is trial 57 with value: 0.13129813063305099.\n",
      "[I 2025-08-27 11:16:30,414] Trial 120 finished with value: -0.17502376819484936 and parameters: {'n_clusters': 95, 'linkage': 'single'}. Best is trial 57 with value: 0.13129813063305099.\n",
      "[I 2025-08-27 11:16:30,476] Trial 121 finished with value: 0.08263854296513701 and parameters: {'n_clusters': 82, 'linkage': 'average'}. Best is trial 57 with value: 0.13129813063305099.\n",
      "[I 2025-08-27 11:16:30,539] Trial 122 finished with value: 0.12322722423895378 and parameters: {'n_clusters': 123, 'linkage': 'ward'}. Best is trial 57 with value: 0.13129813063305099.\n",
      "[I 2025-08-27 11:16:30,610] Trial 123 finished with value: 0.07695737107263703 and parameters: {'n_clusters': 66, 'linkage': 'complete'}. Best is trial 57 with value: 0.13129813063305099.\n",
      "[I 2025-08-27 11:16:30,681] Trial 124 finished with value: 0.10793372292236446 and parameters: {'n_clusters': 86, 'linkage': 'ward'}. Best is trial 57 with value: 0.13129813063305099.\n",
      "[I 2025-08-27 11:16:30,756] Trial 125 finished with value: -0.18293850088893493 and parameters: {'n_clusters': 78, 'linkage': 'single'}. Best is trial 57 with value: 0.13129813063305099.\n",
      "[I 2025-08-27 11:16:30,827] Trial 126 finished with value: 0.07465307075542846 and parameters: {'n_clusters': 60, 'linkage': 'complete'}. Best is trial 57 with value: 0.13129813063305099.\n",
      "[I 2025-08-27 11:16:30,907] Trial 127 finished with value: 0.045748830241667926 and parameters: {'n_clusters': 13, 'linkage': 'complete'}. Best is trial 57 with value: 0.13129813063305099.\n",
      "[I 2025-08-27 11:16:30,985] Trial 128 finished with value: 0.1280913526165009 and parameters: {'n_clusters': 142, 'linkage': 'ward'}. Best is trial 57 with value: 0.13129813063305099.\n",
      "[I 2025-08-27 11:16:31,058] Trial 129 finished with value: -0.15042043883537545 and parameters: {'n_clusters': 147, 'linkage': 'single'}. Best is trial 57 with value: 0.13129813063305099.\n",
      "[I 2025-08-27 11:16:31,122] Trial 130 finished with value: -0.1700055232697918 and parameters: {'n_clusters': 60, 'linkage': 'single'}. Best is trial 57 with value: 0.13129813063305099.\n",
      "[I 2025-08-27 11:16:31,206] Trial 131 finished with value: 0.1022977028286518 and parameters: {'n_clusters': 147, 'linkage': 'average'}. Best is trial 57 with value: 0.13129813063305099.\n",
      "[I 2025-08-27 11:16:31,280] Trial 132 finished with value: 0.04594730855377755 and parameters: {'n_clusters': 12, 'linkage': 'complete'}. Best is trial 57 with value: 0.13129813063305099.\n",
      "[I 2025-08-27 11:16:31,344] Trial 133 finished with value: 0.08821211276202462 and parameters: {'n_clusters': 95, 'linkage': 'complete'}. Best is trial 57 with value: 0.13129813063305099.\n",
      "[I 2025-08-27 11:16:31,409] Trial 134 finished with value: 0.12239253140491968 and parameters: {'n_clusters': 122, 'linkage': 'ward'}. Best is trial 57 with value: 0.13129813063305099.\n",
      "[I 2025-08-27 11:16:31,472] Trial 135 finished with value: -0.1507907963640332 and parameters: {'n_clusters': 148, 'linkage': 'single'}. Best is trial 57 with value: 0.13129813063305099.\n",
      "[I 2025-08-27 11:16:31,537] Trial 136 finished with value: 0.07037240353280871 and parameters: {'n_clusters': 41, 'linkage': 'complete'}. Best is trial 57 with value: 0.13129813063305099.\n",
      "[I 2025-08-27 11:16:31,604] Trial 137 finished with value: 0.05157250989394419 and parameters: {'n_clusters': 26, 'linkage': 'average'}. Best is trial 57 with value: 0.13129813063305099.\n",
      "[I 2025-08-27 11:16:31,669] Trial 138 finished with value: 0.10382189119865565 and parameters: {'n_clusters': 75, 'linkage': 'ward'}. Best is trial 57 with value: 0.13129813063305099.\n",
      "[I 2025-08-27 11:16:31,734] Trial 139 finished with value: 0.020529027084368975 and parameters: {'n_clusters': 15, 'linkage': 'single'}. Best is trial 57 with value: 0.13129813063305099.\n",
      "[I 2025-08-27 11:16:31,828] Trial 140 finished with value: 0.12759403350552095 and parameters: {'n_clusters': 136, 'linkage': 'ward'}. Best is trial 57 with value: 0.13129813063305099.\n",
      "[I 2025-08-27 11:16:31,895] Trial 141 finished with value: 0.11235400040217006 and parameters: {'n_clusters': 148, 'linkage': 'complete'}. Best is trial 57 with value: 0.13129813063305099.\n",
      "[I 2025-08-27 11:16:31,963] Trial 142 finished with value: 0.06908050210928808 and parameters: {'n_clusters': 39, 'linkage': 'complete'}. Best is trial 57 with value: 0.13129813063305099.\n",
      "[I 2025-08-27 11:16:32,031] Trial 143 finished with value: 0.09490202012257293 and parameters: {'n_clusters': 118, 'linkage': 'average'}. Best is trial 57 with value: 0.13129813063305099.\n",
      "[I 2025-08-27 11:16:32,100] Trial 144 finished with value: 0.08619964446813544 and parameters: {'n_clusters': 99, 'linkage': 'average'}. Best is trial 57 with value: 0.13129813063305099.\n",
      "[I 2025-08-27 11:16:32,166] Trial 145 finished with value: -0.014970246950731585 and parameters: {'n_clusters': 19, 'linkage': 'single'}. Best is trial 57 with value: 0.13129813063305099.\n",
      "[I 2025-08-27 11:16:32,233] Trial 146 finished with value: 0.12954353509106414 and parameters: {'n_clusters': 147, 'linkage': 'ward'}. Best is trial 57 with value: 0.13129813063305099.\n",
      "[I 2025-08-27 11:16:32,315] Trial 147 finished with value: 0.09557476835019345 and parameters: {'n_clusters': 141, 'linkage': 'average'}. Best is trial 57 with value: 0.13129813063305099.\n",
      "[I 2025-08-27 11:16:32,387] Trial 148 finished with value: 0.07824979520957522 and parameters: {'n_clusters': 17, 'linkage': 'ward'}. Best is trial 57 with value: 0.13129813063305099.\n",
      "[I 2025-08-27 11:16:32,461] Trial 149 finished with value: 0.10440313770460558 and parameters: {'n_clusters': 128, 'linkage': 'complete'}. Best is trial 57 with value: 0.13129813063305099.\n",
      "[I 2025-08-27 11:16:32,533] Trial 150 finished with value: -0.17771960576327278 and parameters: {'n_clusters': 107, 'linkage': 'single'}. Best is trial 57 with value: 0.13129813063305099.\n",
      "[I 2025-08-27 11:16:32,603] Trial 151 finished with value: 0.07236665944272445 and parameters: {'n_clusters': 63, 'linkage': 'average'}. Best is trial 57 with value: 0.13129813063305099.\n",
      "[I 2025-08-27 11:16:32,671] Trial 152 finished with value: -0.16311328931377514 and parameters: {'n_clusters': 135, 'linkage': 'single'}. Best is trial 57 with value: 0.13129813063305099.\n",
      "[I 2025-08-27 11:16:32,740] Trial 153 finished with value: -0.1812376643150822 and parameters: {'n_clusters': 84, 'linkage': 'single'}. Best is trial 57 with value: 0.13129813063305099.\n",
      "[I 2025-08-27 11:16:32,809] Trial 154 finished with value: -0.1767437711790757 and parameters: {'n_clusters': 71, 'linkage': 'single'}. Best is trial 57 with value: 0.13129813063305099.\n",
      "[I 2025-08-27 11:16:32,931] Trial 155 finished with value: 0.1188737374907193 and parameters: {'n_clusters': 111, 'linkage': 'ward'}. Best is trial 57 with value: 0.13129813063305099.\n",
      "[I 2025-08-27 11:16:33,001] Trial 156 finished with value: 0.117342475919012 and parameters: {'n_clusters': 107, 'linkage': 'ward'}. Best is trial 57 with value: 0.13129813063305099.\n",
      "[I 2025-08-27 11:16:33,074] Trial 157 finished with value: 0.08902992443140584 and parameters: {'n_clusters': 105, 'linkage': 'average'}. Best is trial 57 with value: 0.13129813063305099.\n",
      "[I 2025-08-27 11:16:33,146] Trial 158 finished with value: 0.037042483296920566 and parameters: {'n_clusters': 22, 'linkage': 'average'}. Best is trial 57 with value: 0.13129813063305099.\n",
      "[I 2025-08-27 11:16:33,218] Trial 159 finished with value: 0.09775083540064496 and parameters: {'n_clusters': 64, 'linkage': 'ward'}. Best is trial 57 with value: 0.13129813063305099.\n",
      "[I 2025-08-27 11:16:33,292] Trial 160 finished with value: 0.09080555697952854 and parameters: {'n_clusters': 40, 'linkage': 'ward'}. Best is trial 57 with value: 0.13129813063305099.\n",
      "[I 2025-08-27 11:16:33,366] Trial 161 finished with value: 0.06874009121926118 and parameters: {'n_clusters': 38, 'linkage': 'complete'}. Best is trial 57 with value: 0.13129813063305099.\n",
      "[I 2025-08-27 11:16:33,438] Trial 162 finished with value: 0.09962012401201036 and parameters: {'n_clusters': 59, 'linkage': 'ward'}. Best is trial 57 with value: 0.13129813063305099.\n",
      "[I 2025-08-27 11:16:33,513] Trial 163 finished with value: 0.1189745769347024 and parameters: {'n_clusters': 110, 'linkage': 'ward'}. Best is trial 57 with value: 0.13129813063305099.\n",
      "[I 2025-08-27 11:16:33,587] Trial 164 finished with value: 0.09313074317364167 and parameters: {'n_clusters': 106, 'linkage': 'complete'}. Best is trial 57 with value: 0.13129813063305099.\n",
      "[I 2025-08-27 11:16:33,659] Trial 165 finished with value: -0.17444349625063327 and parameters: {'n_clusters': 100, 'linkage': 'single'}. Best is trial 57 with value: 0.13129813063305099.\n",
      "[I 2025-08-27 11:16:33,737] Trial 166 finished with value: 0.07834480716168839 and parameters: {'n_clusters': 67, 'linkage': 'complete'}. Best is trial 57 with value: 0.13129813063305099.\n",
      "[I 2025-08-27 11:16:33,811] Trial 167 finished with value: 0.07389176903410231 and parameters: {'n_clusters': 57, 'linkage': 'complete'}. Best is trial 57 with value: 0.13129813063305099.\n",
      "[I 2025-08-27 11:16:33,890] Trial 168 finished with value: 0.10007014697111778 and parameters: {'n_clusters': 66, 'linkage': 'ward'}. Best is trial 57 with value: 0.13129813063305099.\n",
      "[I 2025-08-27 11:16:33,969] Trial 169 finished with value: -0.014868791959174113 and parameters: {'n_clusters': 13, 'linkage': 'average'}. Best is trial 57 with value: 0.13129813063305099.\n",
      "[I 2025-08-27 11:16:34,047] Trial 170 finished with value: 0.10193815870926329 and parameters: {'n_clusters': 70, 'linkage': 'ward'}. Best is trial 57 with value: 0.13129813063305099.\n",
      "[I 2025-08-27 11:16:34,129] Trial 171 finished with value: 0.07641192629076245 and parameters: {'n_clusters': 16, 'linkage': 'ward'}. Best is trial 57 with value: 0.13129813063305099.\n",
      "[I 2025-08-27 11:16:34,207] Trial 172 finished with value: 0.07415753614180667 and parameters: {'n_clusters': 18, 'linkage': 'ward'}. Best is trial 57 with value: 0.13129813063305099.\n",
      "[I 2025-08-27 11:16:34,285] Trial 173 finished with value: 0.09192145907768788 and parameters: {'n_clusters': 103, 'linkage': 'complete'}. Best is trial 57 with value: 0.13129813063305099.\n",
      "[I 2025-08-27 11:16:34,366] Trial 174 finished with value: 0.08742622814006488 and parameters: {'n_clusters': 102, 'linkage': 'average'}. Best is trial 57 with value: 0.13129813063305099.\n",
      "[I 2025-08-27 11:16:34,445] Trial 175 finished with value: 0.08663147405471093 and parameters: {'n_clusters': 98, 'linkage': 'average'}. Best is trial 57 with value: 0.13129813063305099.\n",
      "[I 2025-08-27 11:16:34,528] Trial 176 finished with value: 0.08095006257935543 and parameters: {'n_clusters': 74, 'linkage': 'complete'}. Best is trial 57 with value: 0.13129813063305099.\n",
      "[I 2025-08-27 11:16:34,609] Trial 177 finished with value: 0.08728241441716876 and parameters: {'n_clusters': 93, 'linkage': 'complete'}. Best is trial 57 with value: 0.13129813063305099.\n",
      "[I 2025-08-27 11:16:34,689] Trial 178 finished with value: 0.07768787342397701 and parameters: {'n_clusters': 68, 'linkage': 'complete'}. Best is trial 57 with value: 0.13129813063305099.\n",
      "[I 2025-08-27 11:16:34,769] Trial 179 finished with value: 0.09469300529880656 and parameters: {'n_clusters': 48, 'linkage': 'ward'}. Best is trial 57 with value: 0.13129813063305099.\n",
      "[I 2025-08-27 11:16:34,851] Trial 180 finished with value: 0.09443616239552284 and parameters: {'n_clusters': 131, 'linkage': 'average'}. Best is trial 57 with value: 0.13129813063305099.\n",
      "[I 2025-08-27 11:16:34,932] Trial 181 finished with value: 0.09475330116745372 and parameters: {'n_clusters': 110, 'linkage': 'complete'}. Best is trial 57 with value: 0.13129813063305099.\n",
      "[I 2025-08-27 11:16:35,013] Trial 182 finished with value: 0.09284345476104931 and parameters: {'n_clusters': 121, 'linkage': 'average'}. Best is trial 57 with value: 0.13129813063305099.\n",
      "[I 2025-08-27 11:16:35,095] Trial 183 finished with value: 0.07280595209000428 and parameters: {'n_clusters': 53, 'linkage': 'complete'}. Best is trial 57 with value: 0.13129813063305099.\n",
      "[I 2025-08-27 11:16:35,176] Trial 184 finished with value: 0.09406139051436548 and parameters: {'n_clusters': 137, 'linkage': 'average'}. Best is trial 57 with value: 0.13129813063305099.\n",
      "[I 2025-08-27 11:16:35,260] Trial 185 finished with value: 0.08105320027967335 and parameters: {'n_clusters': 80, 'linkage': 'average'}. Best is trial 57 with value: 0.13129813063305099.\n",
      "[I 2025-08-27 11:16:35,342] Trial 186 finished with value: 0.07529552135493281 and parameters: {'n_clusters': 71, 'linkage': 'average'}. Best is trial 57 with value: 0.13129813063305099.\n",
      "[I 2025-08-27 11:16:35,423] Trial 187 finished with value: -0.1831379954385807 and parameters: {'n_clusters': 77, 'linkage': 'single'}. Best is trial 57 with value: 0.13129813063305099.\n",
      "[I 2025-08-27 11:16:35,510] Trial 188 finished with value: 0.12683359058338145 and parameters: {'n_clusters': 134, 'linkage': 'ward'}. Best is trial 57 with value: 0.13129813063305099.\n",
      "[I 2025-08-27 11:16:35,596] Trial 189 finished with value: 0.03803801007018856 and parameters: {'n_clusters': 23, 'linkage': 'average'}. Best is trial 57 with value: 0.13129813063305099.\n",
      "[I 2025-08-27 11:16:35,681] Trial 190 finished with value: 0.06704444162889037 and parameters: {'n_clusters': 36, 'linkage': 'complete'}. Best is trial 57 with value: 0.13129813063305099.\n",
      "[I 2025-08-27 11:16:35,766] Trial 191 finished with value: 0.100845894508548 and parameters: {'n_clusters': 69, 'linkage': 'ward'}. Best is trial 57 with value: 0.13129813063305099.\n",
      "[I 2025-08-27 11:16:35,880] Trial 192 finished with value: -0.14882647044386307 and parameters: {'n_clusters': 53, 'linkage': 'single'}. Best is trial 57 with value: 0.13129813063305099.\n",
      "[I 2025-08-27 11:16:35,963] Trial 193 finished with value: -0.18189397038874436 and parameters: {'n_clusters': 81, 'linkage': 'single'}. Best is trial 57 with value: 0.13129813063305099.\n",
      "[I 2025-08-27 11:16:36,047] Trial 194 finished with value: -0.17572385708521945 and parameters: {'n_clusters': 118, 'linkage': 'single'}. Best is trial 57 with value: 0.13129813063305099.\n",
      "[I 2025-08-27 11:16:36,132] Trial 195 finished with value: -0.15160439188608887 and parameters: {'n_clusters': 145, 'linkage': 'single'}. Best is trial 57 with value: 0.13129813063305099.\n",
      "[I 2025-08-27 11:16:36,218] Trial 196 finished with value: -0.09955863697817498 and parameters: {'n_clusters': 31, 'linkage': 'single'}. Best is trial 57 with value: 0.13129813063305099.\n",
      "[I 2025-08-27 11:16:36,305] Trial 197 finished with value: 0.1135503613956304 and parameters: {'n_clusters': 142, 'linkage': 'complete'}. Best is trial 57 with value: 0.13129813063305099.\n",
      "[I 2025-08-27 11:16:36,391] Trial 198 finished with value: 0.08115107055650933 and parameters: {'n_clusters': 81, 'linkage': 'complete'}. Best is trial 57 with value: 0.13129813063305099.\n",
      "[I 2025-08-27 11:16:36,480] Trial 199 finished with value: 0.07678116566776846 and parameters: {'n_clusters': 77, 'linkage': 'average'}. Best is trial 57 with value: 0.13129813063305099.\n",
      "[I 2025-08-27 11:16:36,566] Trial 200 finished with value: 0.09870236686988831 and parameters: {'n_clusters': 65, 'linkage': 'ward'}. Best is trial 57 with value: 0.13129813063305099.\n",
      "[I 2025-08-27 11:16:36,655] Trial 201 finished with value: 0.06703913101453234 and parameters: {'n_clusters': 40, 'linkage': 'average'}. Best is trial 57 with value: 0.13129813063305099.\n",
      "[I 2025-08-27 11:16:36,741] Trial 202 finished with value: -0.14512319378775018 and parameters: {'n_clusters': 52, 'linkage': 'single'}. Best is trial 57 with value: 0.13129813063305099.\n",
      "[I 2025-08-27 11:16:36,827] Trial 203 finished with value: -0.17851687356904086 and parameters: {'n_clusters': 126, 'linkage': 'single'}. Best is trial 57 with value: 0.13129813063305099.\n",
      "[I 2025-08-27 11:16:36,914] Trial 204 finished with value: 0.04883492349840213 and parameters: {'n_clusters': 27, 'linkage': 'average'}. Best is trial 57 with value: 0.13129813063305099.\n",
      "[I 2025-08-27 11:16:37,002] Trial 205 finished with value: 0.08468165997139702 and parameters: {'n_clusters': 104, 'linkage': 'average'}. Best is trial 57 with value: 0.13129813063305099.\n",
      "[I 2025-08-27 11:16:37,092] Trial 206 finished with value: 0.09452738594039206 and parameters: {'n_clusters': 44, 'linkage': 'ward'}. Best is trial 57 with value: 0.13129813063305099.\n",
      "[I 2025-08-27 11:16:37,180] Trial 207 finished with value: -0.17448936418608577 and parameters: {'n_clusters': 114, 'linkage': 'single'}. Best is trial 57 with value: 0.13129813063305099.\n",
      "[I 2025-08-27 11:16:37,269] Trial 208 finished with value: 0.0831582927177686 and parameters: {'n_clusters': 28, 'linkage': 'ward'}. Best is trial 57 with value: 0.13129813063305099.\n",
      "[I 2025-08-27 11:16:37,358] Trial 209 finished with value: 0.0947184654078512 and parameters: {'n_clusters': 140, 'linkage': 'average'}. Best is trial 57 with value: 0.13129813063305099.\n",
      "[I 2025-08-27 11:16:37,446] Trial 210 finished with value: 0.09819654172128267 and parameters: {'n_clusters': 61, 'linkage': 'ward'}. Best is trial 57 with value: 0.13129813063305099.\n",
      "[I 2025-08-27 11:16:37,535] Trial 211 finished with value: -0.177543950411012 and parameters: {'n_clusters': 131, 'linkage': 'single'}. Best is trial 57 with value: 0.13129813063305099.\n",
      "[I 2025-08-27 11:16:37,624] Trial 212 finished with value: 0.0984839975359851 and parameters: {'n_clusters': 62, 'linkage': 'ward'}. Best is trial 57 with value: 0.13129813063305099.\n",
      "[I 2025-08-27 11:16:37,714] Trial 213 finished with value: 0.1058153504907295 and parameters: {'n_clusters': 84, 'linkage': 'ward'}. Best is trial 57 with value: 0.13129813063305099.\n",
      "[I 2025-08-27 11:16:37,805] Trial 214 finished with value: 0.08724550377310795 and parameters: {'n_clusters': 36, 'linkage': 'ward'}. Best is trial 57 with value: 0.13129813063305099.\n",
      "[I 2025-08-27 11:16:37,899] Trial 215 finished with value: 0.06337384866542446 and parameters: {'n_clusters': 42, 'linkage': 'average'}. Best is trial 57 with value: 0.13129813063305099.\n",
      "[I 2025-08-27 11:16:37,989] Trial 216 finished with value: 0.11614830469472295 and parameters: {'n_clusters': 102, 'linkage': 'ward'}. Best is trial 57 with value: 0.13129813063305099.\n",
      "[I 2025-08-27 11:16:38,080] Trial 217 finished with value: 0.06961513902870588 and parameters: {'n_clusters': 36, 'linkage': 'average'}. Best is trial 57 with value: 0.13129813063305099.\n",
      "[I 2025-08-27 11:16:38,173] Trial 218 finished with value: 0.08010276198289559 and parameters: {'n_clusters': 14, 'linkage': 'ward'}. Best is trial 57 with value: 0.13129813063305099.\n",
      "[I 2025-08-27 11:16:38,270] Trial 219 finished with value: 0.1062922113574518 and parameters: {'n_clusters': 129, 'linkage': 'complete'}. Best is trial 57 with value: 0.13129813063305099.\n",
      "[I 2025-08-27 11:16:38,362] Trial 220 finished with value: 0.07247422069383058 and parameters: {'n_clusters': 50, 'linkage': 'average'}. Best is trial 57 with value: 0.13129813063305099.\n",
      "[I 2025-08-27 11:16:38,453] Trial 221 finished with value: -0.128822039999713 and parameters: {'n_clusters': 44, 'linkage': 'single'}. Best is trial 57 with value: 0.13129813063305099.\n",
      "[I 2025-08-27 11:16:38,546] Trial 222 finished with value: 0.026851303378729673 and parameters: {'n_clusters': 14, 'linkage': 'single'}. Best is trial 57 with value: 0.13129813063305099.\n",
      "[I 2025-08-27 11:16:38,638] Trial 223 finished with value: 0.09379696510050393 and parameters: {'n_clusters': 130, 'linkage': 'average'}. Best is trial 57 with value: 0.13129813063305099.\n",
      "[I 2025-08-27 11:16:38,822] Trial 224 finished with value: -0.15932965633092447 and parameters: {'n_clusters': 57, 'linkage': 'single'}. Best is trial 57 with value: 0.13129813063305099.\n",
      "[I 2025-08-27 11:16:38,915] Trial 225 finished with value: 0.07587535988601313 and parameters: {'n_clusters': 15, 'linkage': 'ward'}. Best is trial 57 with value: 0.13129813063305099.\n",
      "[I 2025-08-27 11:16:39,009] Trial 226 finished with value: 0.0004494680819199 and parameters: {'n_clusters': 10, 'linkage': 'average'}. Best is trial 57 with value: 0.13129813063305099.\n",
      "[I 2025-08-27 11:16:39,105] Trial 227 finished with value: -0.1772976563930234 and parameters: {'n_clusters': 110, 'linkage': 'single'}. Best is trial 57 with value: 0.13129813063305099.\n",
      "[I 2025-08-27 11:16:39,203] Trial 228 finished with value: 0.07597526663489705 and parameters: {'n_clusters': 69, 'linkage': 'average'}. Best is trial 57 with value: 0.13129813063305099.\n",
      "[I 2025-08-27 11:16:39,302] Trial 229 finished with value: 0.1286917283212885 and parameters: {'n_clusters': 145, 'linkage': 'ward'}. Best is trial 57 with value: 0.13129813063305099.\n",
      "[I 2025-08-27 11:16:39,397] Trial 230 finished with value: -0.14883920060700986 and parameters: {'n_clusters': 150, 'linkage': 'single'}. Best is trial 57 with value: 0.13129813063305099.\n",
      "[I 2025-08-27 11:16:39,493] Trial 231 finished with value: 0.12557075429657977 and parameters: {'n_clusters': 132, 'linkage': 'ward'}. Best is trial 57 with value: 0.13129813063305099.\n",
      "[I 2025-08-27 11:16:39,590] Trial 232 finished with value: -0.11965107688891725 and parameters: {'n_clusters': 39, 'linkage': 'single'}. Best is trial 57 with value: 0.13129813063305099.\n",
      "[I 2025-08-27 11:16:39,685] Trial 233 finished with value: 0.0846672012230631 and parameters: {'n_clusters': 32, 'linkage': 'ward'}. Best is trial 57 with value: 0.13129813063305099.\n",
      "[I 2025-08-27 11:16:39,783] Trial 234 finished with value: 0.10486463842944017 and parameters: {'n_clusters': 78, 'linkage': 'ward'}. Best is trial 57 with value: 0.13129813063305099.\n",
      "[I 2025-08-27 11:16:39,880] Trial 235 finished with value: 0.07877606621361136 and parameters: {'n_clusters': 79, 'linkage': 'average'}. Best is trial 57 with value: 0.13129813063305099.\n",
      "[I 2025-08-27 11:16:39,976] Trial 236 finished with value: 0.08162353065107855 and parameters: {'n_clusters': 30, 'linkage': 'ward'}. Best is trial 57 with value: 0.13129813063305099.\n",
      "[I 2025-08-27 11:16:40,073] Trial 237 finished with value: 0.05785473292437779 and parameters: {'n_clusters': 26, 'linkage': 'complete'}. Best is trial 57 with value: 0.13129813063305099.\n",
      "[I 2025-08-27 11:16:40,170] Trial 238 finished with value: -0.18021478868113547 and parameters: {'n_clusters': 94, 'linkage': 'single'}. Best is trial 57 with value: 0.13129813063305099.\n",
      "[I 2025-08-27 11:16:40,268] Trial 239 finished with value: 0.07983097147656937 and parameters: {'n_clusters': 24, 'linkage': 'ward'}. Best is trial 57 with value: 0.13129813063305099.\n",
      "[I 2025-08-27 11:16:40,368] Trial 240 finished with value: 0.07004298985416742 and parameters: {'n_clusters': 39, 'linkage': 'average'}. Best is trial 57 with value: 0.13129813063305099.\n",
      "[I 2025-08-27 11:16:40,467] Trial 241 finished with value: 0.07973818928870542 and parameters: {'n_clusters': 79, 'linkage': 'complete'}. Best is trial 57 with value: 0.13129813063305099.\n",
      "[I 2025-08-27 11:16:40,567] Trial 242 finished with value: 0.0568289012971243 and parameters: {'n_clusters': 27, 'linkage': 'complete'}. Best is trial 57 with value: 0.13129813063305099.\n",
      "[I 2025-08-27 11:16:40,665] Trial 243 finished with value: -0.15598151433638013 and parameters: {'n_clusters': 55, 'linkage': 'single'}. Best is trial 57 with value: 0.13129813063305099.\n",
      "[I 2025-08-27 11:16:40,774] Trial 244 finished with value: 0.08408875884728206 and parameters: {'n_clusters': 89, 'linkage': 'average'}. Best is trial 57 with value: 0.13129813063305099.\n",
      "[I 2025-08-27 11:16:40,876] Trial 245 finished with value: -0.17439838585245201 and parameters: {'n_clusters': 101, 'linkage': 'single'}. Best is trial 57 with value: 0.13129813063305099.\n",
      "[I 2025-08-27 11:16:40,974] Trial 246 finished with value: 0.10413985844430743 and parameters: {'n_clusters': 74, 'linkage': 'ward'}. Best is trial 57 with value: 0.13129813063305099.\n",
      "[I 2025-08-27 11:16:41,076] Trial 247 finished with value: -0.17728383711877568 and parameters: {'n_clusters': 122, 'linkage': 'single'}. Best is trial 57 with value: 0.13129813063305099.\n",
      "[I 2025-08-27 11:16:41,175] Trial 248 finished with value: 0.09426045859454182 and parameters: {'n_clusters': 133, 'linkage': 'average'}. Best is trial 57 with value: 0.13129813063305099.\n",
      "[I 2025-08-27 11:16:41,279] Trial 249 finished with value: 0.12493424532841317 and parameters: {'n_clusters': 130, 'linkage': 'ward'}. Best is trial 57 with value: 0.13129813063305099.\n",
      "[I 2025-08-27 11:16:41,383] Trial 250 finished with value: 0.10983641463358242 and parameters: {'n_clusters': 91, 'linkage': 'ward'}. Best is trial 57 with value: 0.13129813063305099.\n",
      "[I 2025-08-27 11:16:41,481] Trial 251 finished with value: -0.09955232963307428 and parameters: {'n_clusters': 32, 'linkage': 'single'}. Best is trial 57 with value: 0.13129813063305099.\n",
      "[I 2025-08-27 11:16:41,585] Trial 252 finished with value: 0.09406863218226594 and parameters: {'n_clusters': 107, 'linkage': 'complete'}. Best is trial 57 with value: 0.13129813063305099.\n",
      "[I 2025-08-27 11:16:41,689] Trial 253 finished with value: 0.08201472310922026 and parameters: {'n_clusters': 70, 'linkage': 'complete'}. Best is trial 57 with value: 0.13129813063305099.\n",
      "[I 2025-08-27 11:16:41,793] Trial 254 finished with value: 0.07147082792151999 and parameters: {'n_clusters': 50, 'linkage': 'complete'}. Best is trial 57 with value: 0.13129813063305099.\n",
      "[I 2025-08-27 11:16:41,895] Trial 255 finished with value: -0.16387728820731529 and parameters: {'n_clusters': 136, 'linkage': 'single'}. Best is trial 57 with value: 0.13129813063305099.\n",
      "[I 2025-08-27 11:16:41,999] Trial 256 finished with value: -0.17819854520034475 and parameters: {'n_clusters': 130, 'linkage': 'single'}. Best is trial 57 with value: 0.13129813063305099.\n",
      "[I 2025-08-27 11:16:42,104] Trial 257 finished with value: 0.05691270209042616 and parameters: {'n_clusters': 29, 'linkage': 'average'}. Best is trial 57 with value: 0.13129813063305099.\n",
      "[I 2025-08-27 11:16:42,206] Trial 258 finished with value: -0.16998170170596727 and parameters: {'n_clusters': 139, 'linkage': 'single'}. Best is trial 57 with value: 0.13129813063305099.\n",
      "[I 2025-08-27 11:16:42,310] Trial 259 finished with value: 0.09071130433539082 and parameters: {'n_clusters': 107, 'linkage': 'average'}. Best is trial 57 with value: 0.13129813063305099.\n",
      "[I 2025-08-27 11:16:42,417] Trial 260 finished with value: 0.10364705938009398 and parameters: {'n_clusters': 145, 'linkage': 'average'}. Best is trial 57 with value: 0.13129813063305099.\n",
      "[I 2025-08-27 11:16:42,550] Trial 261 finished with value: 0.0776695851232409 and parameters: {'n_clusters': 65, 'linkage': 'complete'}. Best is trial 57 with value: 0.13129813063305099.\n",
      "[I 2025-08-27 11:16:42,654] Trial 262 finished with value: 0.07131916575223077 and parameters: {'n_clusters': 64, 'linkage': 'average'}. Best is trial 57 with value: 0.13129813063305099.\n",
      "[I 2025-08-27 11:16:42,759] Trial 263 finished with value: 0.07300844713737999 and parameters: {'n_clusters': 60, 'linkage': 'average'}. Best is trial 57 with value: 0.13129813063305099.\n",
      "[I 2025-08-27 11:16:42,866] Trial 264 finished with value: 0.12403823465759288 and parameters: {'n_clusters': 126, 'linkage': 'ward'}. Best is trial 57 with value: 0.13129813063305099.\n",
      "[I 2025-08-27 11:16:42,975] Trial 265 finished with value: 0.08531323677973016 and parameters: {'n_clusters': 90, 'linkage': 'complete'}. Best is trial 57 with value: 0.13129813063305099.\n",
      "[I 2025-08-27 11:16:43,085] Trial 266 finished with value: -0.12703082136182403 and parameters: {'n_clusters': 45, 'linkage': 'single'}. Best is trial 57 with value: 0.13129813063305099.\n",
      "[I 2025-08-27 11:16:43,199] Trial 267 finished with value: 0.06305271521290488 and parameters: {'n_clusters': 33, 'linkage': 'average'}. Best is trial 57 with value: 0.13129813063305099.\n",
      "[I 2025-08-27 11:16:43,314] Trial 268 finished with value: 0.11922136073136941 and parameters: {'n_clusters': 116, 'linkage': 'ward'}. Best is trial 57 with value: 0.13129813063305099.\n",
      "[I 2025-08-27 11:16:43,427] Trial 269 finished with value: 0.10203473768829724 and parameters: {'n_clusters': 123, 'linkage': 'complete'}. Best is trial 57 with value: 0.13129813063305099.\n",
      "[I 2025-08-27 11:16:43,543] Trial 270 finished with value: 0.104204063534561 and parameters: {'n_clusters': 73, 'linkage': 'ward'}. Best is trial 57 with value: 0.13129813063305099.\n",
      "[I 2025-08-27 11:16:43,657] Trial 271 finished with value: 0.11904320265267174 and parameters: {'n_clusters': 115, 'linkage': 'ward'}. Best is trial 57 with value: 0.13129813063305099.\n",
      "[I 2025-08-27 11:16:43,772] Trial 272 finished with value: -0.17956885839426914 and parameters: {'n_clusters': 67, 'linkage': 'single'}. Best is trial 57 with value: 0.13129813063305099.\n",
      "[I 2025-08-27 11:16:43,885] Trial 273 finished with value: -0.17762322051542656 and parameters: {'n_clusters': 121, 'linkage': 'single'}. Best is trial 57 with value: 0.13129813063305099.\n",
      "[I 2025-08-27 11:16:43,997] Trial 274 finished with value: -0.15094529917110203 and parameters: {'n_clusters': 144, 'linkage': 'single'}. Best is trial 57 with value: 0.13129813063305099.\n",
      "[I 2025-08-27 11:16:44,112] Trial 275 finished with value: 0.07492004039999688 and parameters: {'n_clusters': 64, 'linkage': 'complete'}. Best is trial 57 with value: 0.13129813063305099.\n",
      "[I 2025-08-27 11:16:44,227] Trial 276 finished with value: 0.11551593034841647 and parameters: {'n_clusters': 103, 'linkage': 'ward'}. Best is trial 57 with value: 0.13129813063305099.\n",
      "[I 2025-08-27 11:16:44,343] Trial 277 finished with value: -0.17900528463308574 and parameters: {'n_clusters': 65, 'linkage': 'single'}. Best is trial 57 with value: 0.13129813063305099.\n",
      "[I 2025-08-27 11:16:44,459] Trial 278 finished with value: 0.10866492148662729 and parameters: {'n_clusters': 132, 'linkage': 'complete'}. Best is trial 57 with value: 0.13129813063305099.\n",
      "[I 2025-08-27 11:16:44,575] Trial 279 finished with value: -0.18024932419071954 and parameters: {'n_clusters': 83, 'linkage': 'single'}. Best is trial 57 with value: 0.13129813063305099.\n",
      "[I 2025-08-27 11:16:44,690] Trial 280 finished with value: 0.08086105924225416 and parameters: {'n_clusters': 67, 'linkage': 'average'}. Best is trial 57 with value: 0.13129813063305099.\n",
      "[I 2025-08-27 11:16:44,806] Trial 281 finished with value: 0.028012122108338845 and parameters: {'n_clusters': 14, 'linkage': 'average'}. Best is trial 57 with value: 0.13129813063305099.\n",
      "[I 2025-08-27 11:16:44,922] Trial 282 finished with value: 0.007834102601028407 and parameters: {'n_clusters': 19, 'linkage': 'average'}. Best is trial 57 with value: 0.13129813063305099.\n",
      "[I 2025-08-27 11:16:45,040] Trial 283 finished with value: 0.09562182012817494 and parameters: {'n_clusters': 49, 'linkage': 'ward'}. Best is trial 57 with value: 0.13129813063305099.\n",
      "[I 2025-08-27 11:16:45,160] Trial 284 finished with value: -0.1753975600686531 and parameters: {'n_clusters': 104, 'linkage': 'single'}. Best is trial 57 with value: 0.13129813063305099.\n",
      "[I 2025-08-27 11:16:45,281] Trial 285 finished with value: 0.08206821874938468 and parameters: {'n_clusters': 71, 'linkage': 'complete'}. Best is trial 57 with value: 0.13129813063305099.\n",
      "[I 2025-08-27 11:16:45,400] Trial 286 finished with value: 0.09212324998702687 and parameters: {'n_clusters': 122, 'linkage': 'average'}. Best is trial 57 with value: 0.13129813063305099.\n",
      "[I 2025-08-27 11:16:45,518] Trial 287 finished with value: 0.06678901167899644 and parameters: {'n_clusters': 48, 'linkage': 'complete'}. Best is trial 57 with value: 0.13129813063305099.\n",
      "[I 2025-08-27 11:16:45,637] Trial 288 finished with value: -0.18461008466825182 and parameters: {'n_clusters': 79, 'linkage': 'single'}. Best is trial 57 with value: 0.13129813063305099.\n",
      "[I 2025-08-27 11:16:45,758] Trial 289 finished with value: 0.08606451468929154 and parameters: {'n_clusters': 12, 'linkage': 'ward'}. Best is trial 57 with value: 0.13129813063305099.\n",
      "[I 2025-08-27 11:16:45,879] Trial 290 finished with value: 0.08750658997151768 and parameters: {'n_clusters': 90, 'linkage': 'average'}. Best is trial 57 with value: 0.13129813063305099.\n",
      "[I 2025-08-27 11:16:46,000] Trial 291 finished with value: -0.17467642664157806 and parameters: {'n_clusters': 116, 'linkage': 'single'}. Best is trial 57 with value: 0.13129813063305099.\n",
      "[I 2025-08-27 11:16:46,123] Trial 292 finished with value: 0.020857236810548626 and parameters: {'n_clusters': 15, 'linkage': 'average'}. Best is trial 57 with value: 0.13129813063305099.\n",
      "[I 2025-08-27 11:16:46,286] Trial 293 finished with value: 0.048234560912610955 and parameters: {'n_clusters': 17, 'linkage': 'complete'}. Best is trial 57 with value: 0.13129813063305099.\n",
      "[I 2025-08-27 11:16:46,406] Trial 294 finished with value: 0.08830092943344325 and parameters: {'n_clusters': 110, 'linkage': 'average'}. Best is trial 57 with value: 0.13129813063305099.\n",
      "[I 2025-08-27 11:16:46,601] Trial 295 finished with value: -0.1809018081687726 and parameters: {'n_clusters': 91, 'linkage': 'single'}. Best is trial 57 with value: 0.13129813063305099.\n",
      "[I 2025-08-27 11:16:46,721] Trial 296 finished with value: 0.03552454360666637 and parameters: {'n_clusters': 11, 'linkage': 'single'}. Best is trial 57 with value: 0.13129813063305099.\n",
      "[I 2025-08-27 11:16:46,845] Trial 297 finished with value: 0.1230650525635526 and parameters: {'n_clusters': 124, 'linkage': 'ward'}. Best is trial 57 with value: 0.13129813063305099.\n",
      "[I 2025-08-27 11:16:46,997] Trial 298 finished with value: 0.059383659653164216 and parameters: {'n_clusters': 31, 'linkage': 'complete'}. Best is trial 57 with value: 0.13129813063305099.\n",
      "[I 2025-08-27 11:16:47,137] Trial 299 finished with value: 0.10113104464769722 and parameters: {'n_clusters': 119, 'linkage': 'complete'}. Best is trial 57 with value: 0.13129813063305099.\n",
      "[I 2025-08-27 11:16:47,262] Trial 300 finished with value: 0.06567697113453022 and parameters: {'n_clusters': 45, 'linkage': 'average'}. Best is trial 57 with value: 0.13129813063305099.\n",
      "[I 2025-08-27 11:16:47,385] Trial 301 finished with value: -0.17273522153988888 and parameters: {'n_clusters': 69, 'linkage': 'single'}. Best is trial 57 with value: 0.13129813063305099.\n",
      "[I 2025-08-27 11:16:47,508] Trial 302 finished with value: 0.07078980991685 and parameters: {'n_clusters': 37, 'linkage': 'average'}. Best is trial 57 with value: 0.13129813063305099.\n",
      "[I 2025-08-27 11:16:47,635] Trial 303 finished with value: 0.08329974418451708 and parameters: {'n_clusters': 85, 'linkage': 'complete'}. Best is trial 57 with value: 0.13129813063305099.\n",
      "[I 2025-08-27 11:16:47,763] Trial 304 finished with value: -0.11830949266137357 and parameters: {'n_clusters': 37, 'linkage': 'single'}. Best is trial 57 with value: 0.13129813063305099.\n",
      "[I 2025-08-27 11:16:47,890] Trial 305 finished with value: 0.08781405070481671 and parameters: {'n_clusters': 94, 'linkage': 'complete'}. Best is trial 57 with value: 0.13129813063305099.\n",
      "[I 2025-08-27 11:16:48,036] Trial 306 finished with value: 0.08323068768885394 and parameters: {'n_clusters': 83, 'linkage': 'complete'}. Best is trial 57 with value: 0.13129813063305099.\n",
      "[I 2025-08-27 11:16:48,163] Trial 307 finished with value: 0.12916833380186513 and parameters: {'n_clusters': 146, 'linkage': 'ward'}. Best is trial 57 with value: 0.13129813063305099.\n",
      "[I 2025-08-27 11:16:48,291] Trial 308 finished with value: -0.048586490474122265 and parameters: {'n_clusters': 22, 'linkage': 'single'}. Best is trial 57 with value: 0.13129813063305099.\n",
      "[I 2025-08-27 11:16:48,419] Trial 309 finished with value: 0.09202993706844632 and parameters: {'n_clusters': 123, 'linkage': 'average'}. Best is trial 57 with value: 0.13129813063305099.\n",
      "[I 2025-08-27 11:16:48,548] Trial 310 finished with value: 0.08302589757301122 and parameters: {'n_clusters': 82, 'linkage': 'complete'}. Best is trial 57 with value: 0.13129813063305099.\n",
      "[I 2025-08-27 11:16:48,678] Trial 311 finished with value: 0.06809111707936609 and parameters: {'n_clusters': 47, 'linkage': 'complete'}. Best is trial 57 with value: 0.13129813063305099.\n",
      "[I 2025-08-27 11:16:48,804] Trial 312 finished with value: -0.17787067769432904 and parameters: {'n_clusters': 72, 'linkage': 'single'}. Best is trial 57 with value: 0.13129813063305099.\n",
      "[I 2025-08-27 11:16:48,936] Trial 313 finished with value: -0.09538815396715096 and parameters: {'n_clusters': 30, 'linkage': 'single'}. Best is trial 57 with value: 0.13129813063305099.\n",
      "[I 2025-08-27 11:16:49,066] Trial 314 finished with value: 0.09273506579444035 and parameters: {'n_clusters': 124, 'linkage': 'average'}. Best is trial 57 with value: 0.13129813063305099.\n",
      "[I 2025-08-27 11:16:49,194] Trial 315 finished with value: 0.08759216266265141 and parameters: {'n_clusters': 101, 'linkage': 'average'}. Best is trial 57 with value: 0.13129813063305099.\n",
      "[I 2025-08-27 11:16:49,331] Trial 316 finished with value: 0.12883101702507885 and parameters: {'n_clusters': 143, 'linkage': 'ward'}. Best is trial 57 with value: 0.13129813063305099.\n",
      "[I 2025-08-27 11:16:49,461] Trial 317 finished with value: 0.09454234128291951 and parameters: {'n_clusters': 43, 'linkage': 'ward'}. Best is trial 57 with value: 0.13129813063305099.\n",
      "[I 2025-08-27 11:16:49,594] Trial 318 finished with value: 0.11319457523764058 and parameters: {'n_clusters': 98, 'linkage': 'ward'}. Best is trial 57 with value: 0.13129813063305099.\n",
      "[I 2025-08-27 11:16:49,724] Trial 319 finished with value: 0.04449603395697406 and parameters: {'n_clusters': 18, 'linkage': 'complete'}. Best is trial 57 with value: 0.13129813063305099.\n",
      "[I 2025-08-27 11:16:49,865] Trial 320 finished with value: 0.09843966971915452 and parameters: {'n_clusters': 54, 'linkage': 'ward'}. Best is trial 57 with value: 0.13129813063305099.\n",
      "[I 2025-08-27 11:16:50,067] Trial 321 finished with value: 0.10265600782411269 and parameters: {'n_clusters': 71, 'linkage': 'ward'}. Best is trial 57 with value: 0.13129813063305099.\n",
      "[I 2025-08-27 11:16:50,238] Trial 322 finished with value: 0.07660896712032374 and parameters: {'n_clusters': 68, 'linkage': 'average'}. Best is trial 57 with value: 0.13129813063305099.\n",
      "[I 2025-08-27 11:16:50,370] Trial 323 finished with value: -0.18174522147158628 and parameters: {'n_clusters': 82, 'linkage': 'single'}. Best is trial 57 with value: 0.13129813063305099.\n",
      "[I 2025-08-27 11:16:50,501] Trial 324 finished with value: -0.17655927981429942 and parameters: {'n_clusters': 127, 'linkage': 'single'}. Best is trial 57 with value: 0.13129813063305099.\n",
      "[I 2025-08-27 11:16:50,634] Trial 325 finished with value: 0.09416840659924147 and parameters: {'n_clusters': 108, 'linkage': 'complete'}. Best is trial 57 with value: 0.13129813063305099.\n",
      "[I 2025-08-27 11:16:50,763] Trial 326 finished with value: 0.09683579462486869 and parameters: {'n_clusters': 113, 'linkage': 'complete'}. Best is trial 57 with value: 0.13129813063305099.\n",
      "[I 2025-08-27 11:16:50,897] Trial 327 finished with value: 0.08578044891780232 and parameters: {'n_clusters': 87, 'linkage': 'average'}. Best is trial 57 with value: 0.13129813063305099.\n",
      "[I 2025-08-27 11:16:51,031] Trial 328 finished with value: 0.05912407144818328 and parameters: {'n_clusters': 30, 'linkage': 'complete'}. Best is trial 57 with value: 0.13129813063305099.\n",
      "[I 2025-08-27 11:16:51,165] Trial 329 finished with value: 0.0548246242991463 and parameters: {'n_clusters': 25, 'linkage': 'complete'}. Best is trial 57 with value: 0.13129813063305099.\n",
      "[I 2025-08-27 11:16:51,299] Trial 330 finished with value: 0.10568550612221694 and parameters: {'n_clusters': 83, 'linkage': 'ward'}. Best is trial 57 with value: 0.13129813063305099.\n",
      "[I 2025-08-27 11:16:51,433] Trial 331 finished with value: 0.05155067812849667 and parameters: {'n_clusters': 23, 'linkage': 'complete'}. Best is trial 57 with value: 0.13129813063305099.\n",
      "[I 2025-08-27 11:16:51,564] Trial 332 finished with value: 0.09471921350956097 and parameters: {'n_clusters': 45, 'linkage': 'ward'}. Best is trial 57 with value: 0.13129813063305099.\n",
      "[I 2025-08-27 11:16:51,701] Trial 333 finished with value: 0.08614632235507727 and parameters: {'n_clusters': 89, 'linkage': 'complete'}. Best is trial 57 with value: 0.13129813063305099.\n",
      "[I 2025-08-27 11:16:51,835] Trial 334 finished with value: 0.08963807946129738 and parameters: {'n_clusters': 39, 'linkage': 'ward'}. Best is trial 57 with value: 0.13129813063305099.\n",
      "[I 2025-08-27 11:16:51,973] Trial 335 finished with value: -0.12827826565448172 and parameters: {'n_clusters': 42, 'linkage': 'single'}. Best is trial 57 with value: 0.13129813063305099.\n",
      "[I 2025-08-27 11:16:52,109] Trial 336 finished with value: 0.0014019205473570072 and parameters: {'n_clusters': 16, 'linkage': 'single'}. Best is trial 57 with value: 0.13129813063305099.\n",
      "[I 2025-08-27 11:16:52,244] Trial 337 finished with value: -0.06122231278086711 and parameters: {'n_clusters': 23, 'linkage': 'single'}. Best is trial 57 with value: 0.13129813063305099.\n",
      "[I 2025-08-27 11:16:52,381] Trial 338 finished with value: 0.0671759532312727 and parameters: {'n_clusters': 37, 'linkage': 'complete'}. Best is trial 57 with value: 0.13129813063305099.\n",
      "[I 2025-08-27 11:16:52,515] Trial 339 finished with value: -0.17944240428419736 and parameters: {'n_clusters': 125, 'linkage': 'single'}. Best is trial 57 with value: 0.13129813063305099.\n",
      "[I 2025-08-27 11:16:52,656] Trial 340 finished with value: 0.08587263083132773 and parameters: {'n_clusters': 86, 'linkage': 'average'}. Best is trial 57 with value: 0.13129813063305099.\n",
      "[I 2025-08-27 11:16:52,792] Trial 341 finished with value: 0.08776287062562714 and parameters: {'n_clusters': 37, 'linkage': 'ward'}. Best is trial 57 with value: 0.13129813063305099.\n",
      "[I 2025-08-27 11:16:52,933] Trial 342 finished with value: 0.11239540956757146 and parameters: {'n_clusters': 149, 'linkage': 'complete'}. Best is trial 57 with value: 0.13129813063305099.\n",
      "[I 2025-08-27 11:16:53,074] Trial 343 finished with value: 0.11336126774865932 and parameters: {'n_clusters': 143, 'linkage': 'complete'}. Best is trial 57 with value: 0.13129813063305099.\n",
      "[I 2025-08-27 11:16:53,216] Trial 344 finished with value: 0.05550939790059496 and parameters: {'n_clusters': 25, 'linkage': 'average'}. Best is trial 57 with value: 0.13129813063305099.\n",
      "[I 2025-08-27 11:16:53,364] Trial 345 finished with value: 0.11312121859437932 and parameters: {'n_clusters': 150, 'linkage': 'complete'}. Best is trial 57 with value: 0.13129813063305099.\n",
      "[I 2025-08-27 11:16:53,508] Trial 346 finished with value: -0.0213677036285335 and parameters: {'n_clusters': 20, 'linkage': 'single'}. Best is trial 57 with value: 0.13129813063305099.\n",
      "[I 2025-08-27 11:16:53,654] Trial 347 finished with value: 0.13014329713901504 and parameters: {'n_clusters': 148, 'linkage': 'ward'}. Best is trial 57 with value: 0.13129813063305099.\n",
      "[I 2025-08-27 11:16:53,798] Trial 348 finished with value: 0.0824290600802137 and parameters: {'n_clusters': 81, 'linkage': 'average'}. Best is trial 57 with value: 0.13129813063305099.\n",
      "[I 2025-08-27 11:16:53,990] Trial 349 finished with value: 0.11946938050144863 and parameters: {'n_clusters': 114, 'linkage': 'ward'}. Best is trial 57 with value: 0.13129813063305099.\n",
      "[I 2025-08-27 11:16:54,139] Trial 350 finished with value: -0.06837281097373445 and parameters: {'n_clusters': 25, 'linkage': 'single'}. Best is trial 57 with value: 0.13129813063305099.\n",
      "[I 2025-08-27 11:16:54,288] Trial 351 finished with value: -0.0388690477783462 and parameters: {'n_clusters': 21, 'linkage': 'single'}. Best is trial 57 with value: 0.13129813063305099.\n",
      "[I 2025-08-27 11:16:54,435] Trial 352 finished with value: -0.07804636556018747 and parameters: {'n_clusters': 27, 'linkage': 'single'}. Best is trial 57 with value: 0.13129813063305099.\n",
      "[I 2025-08-27 11:16:54,592] Trial 353 finished with value: 0.08274514262572089 and parameters: {'n_clusters': 84, 'linkage': 'average'}. Best is trial 57 with value: 0.13129813063305099.\n",
      "[I 2025-08-27 11:16:54,775] Trial 354 finished with value: -0.18179905152462236 and parameters: {'n_clusters': 74, 'linkage': 'single'}. Best is trial 57 with value: 0.13129813063305099.\n",
      "[I 2025-08-27 11:16:54,961] Trial 355 finished with value: 0.07188763455244664 and parameters: {'n_clusters': 58, 'linkage': 'average'}. Best is trial 57 with value: 0.13129813063305099.\n",
      "[I 2025-08-27 11:16:55,207] Trial 356 finished with value: 0.08195372481908218 and parameters: {'n_clusters': 83, 'linkage': 'average'}. Best is trial 57 with value: 0.13129813063305099.\n",
      "[I 2025-08-27 11:16:55,477] Trial 357 finished with value: -0.17949148010456875 and parameters: {'n_clusters': 108, 'linkage': 'single'}. Best is trial 57 with value: 0.13129813063305099.\n",
      "[I 2025-08-27 11:16:55,658] Trial 358 finished with value: 0.07439831922949722 and parameters: {'n_clusters': 73, 'linkage': 'average'}. Best is trial 57 with value: 0.13129813063305099.\n",
      "[I 2025-08-27 11:16:55,814] Trial 359 finished with value: 0.08678464919683283 and parameters: {'n_clusters': 103, 'linkage': 'average'}. Best is trial 57 with value: 0.13129813063305099.\n",
      "[I 2025-08-27 11:16:55,991] Trial 360 finished with value: 0.09199421223897221 and parameters: {'n_clusters': 128, 'linkage': 'average'}. Best is trial 57 with value: 0.13129813063305099.\n",
      "[I 2025-08-27 11:16:56,154] Trial 361 finished with value: 0.10522163053402539 and parameters: {'n_clusters': 77, 'linkage': 'ward'}. Best is trial 57 with value: 0.13129813063305099.\n",
      "[I 2025-08-27 11:16:56,357] Trial 362 finished with value: 0.08548764383583017 and parameters: {'n_clusters': 34, 'linkage': 'ward'}. Best is trial 57 with value: 0.13129813063305099.\n",
      "[I 2025-08-27 11:16:56,538] Trial 363 finished with value: 0.08217159159889025 and parameters: {'n_clusters': 85, 'linkage': 'average'}. Best is trial 57 with value: 0.13129813063305099.\n",
      "[I 2025-08-27 11:16:56,688] Trial 364 finished with value: 0.05909776286361203 and parameters: {'n_clusters': 28, 'linkage': 'complete'}. Best is trial 57 with value: 0.13129813063305099.\n",
      "[I 2025-08-27 11:16:56,922] Trial 365 finished with value: 0.08831433026955207 and parameters: {'n_clusters': 92, 'linkage': 'average'}. Best is trial 57 with value: 0.13129813063305099.\n",
      "[I 2025-08-27 11:16:57,131] Trial 366 finished with value: 0.12681537368410753 and parameters: {'n_clusters': 139, 'linkage': 'ward'}. Best is trial 57 with value: 0.13129813063305099.\n",
      "[I 2025-08-27 11:16:57,335] Trial 367 finished with value: -0.18174237821619627 and parameters: {'n_clusters': 66, 'linkage': 'single'}. Best is trial 57 with value: 0.13129813063305099.\n",
      "[I 2025-08-27 11:16:57,575] Trial 368 finished with value: 0.1217647347497392 and parameters: {'n_clusters': 121, 'linkage': 'ward'}. Best is trial 57 with value: 0.13129813063305099.\n",
      "[I 2025-08-27 11:16:57,765] Trial 369 finished with value: 0.06870922854309458 and parameters: {'n_clusters': 35, 'linkage': 'average'}. Best is trial 57 with value: 0.13129813063305099.\n",
      "[I 2025-08-27 11:16:57,953] Trial 370 finished with value: 0.09512761011945539 and parameters: {'n_clusters': 136, 'linkage': 'average'}. Best is trial 57 with value: 0.13129813063305099.\n",
      "[I 2025-08-27 11:16:58,126] Trial 371 finished with value: -0.17807020001413013 and parameters: {'n_clusters': 85, 'linkage': 'single'}. Best is trial 57 with value: 0.13129813063305099.\n",
      "[I 2025-08-27 11:16:58,303] Trial 372 finished with value: 0.09643682796395422 and parameters: {'n_clusters': 50, 'linkage': 'ward'}. Best is trial 57 with value: 0.13129813063305099.\n",
      "[I 2025-08-27 11:16:58,476] Trial 373 finished with value: 0.09985853137085011 and parameters: {'n_clusters': 143, 'linkage': 'average'}. Best is trial 57 with value: 0.13129813063305099.\n",
      "[I 2025-08-27 11:16:58,640] Trial 374 finished with value: -0.10567120554823246 and parameters: {'n_clusters': 33, 'linkage': 'single'}. Best is trial 57 with value: 0.13129813063305099.\n",
      "[I 2025-08-27 11:16:58,850] Trial 375 finished with value: 0.10913294596559792 and parameters: {'n_clusters': 89, 'linkage': 'ward'}. Best is trial 57 with value: 0.13129813063305099.\n",
      "[I 2025-08-27 11:16:59,005] Trial 376 finished with value: -0.15769012587180187 and parameters: {'n_clusters': 56, 'linkage': 'single'}. Best is trial 57 with value: 0.13129813063305099.\n",
      "[I 2025-08-27 11:16:59,169] Trial 377 finished with value: -0.15091101468843396 and parameters: {'n_clusters': 143, 'linkage': 'single'}. Best is trial 57 with value: 0.13129813063305099.\n",
      "[I 2025-08-27 11:16:59,325] Trial 378 finished with value: 0.07243805715353904 and parameters: {'n_clusters': 55, 'linkage': 'complete'}. Best is trial 57 with value: 0.13129813063305099.\n",
      "[I 2025-08-27 11:16:59,502] Trial 379 finished with value: 0.07769235193844717 and parameters: {'n_clusters': 23, 'linkage': 'ward'}. Best is trial 57 with value: 0.13129813063305099.\n",
      "[I 2025-08-27 11:16:59,736] Trial 380 finished with value: 0.04500706396383362 and parameters: {'n_clusters': 15, 'linkage': 'complete'}. Best is trial 57 with value: 0.13129813063305099.\n",
      "[I 2025-08-27 11:16:59,920] Trial 381 finished with value: 0.0723084538224038 and parameters: {'n_clusters': 54, 'linkage': 'complete'}. Best is trial 57 with value: 0.13129813063305099.\n",
      "[I 2025-08-27 11:17:00,111] Trial 382 finished with value: 0.12563903861194944 and parameters: {'n_clusters': 131, 'linkage': 'ward'}. Best is trial 57 with value: 0.13129813063305099.\n",
      "[I 2025-08-27 11:17:00,282] Trial 383 finished with value: 0.09335568357155104 and parameters: {'n_clusters': 120, 'linkage': 'average'}. Best is trial 57 with value: 0.13129813063305099.\n",
      "[I 2025-08-27 11:17:00,438] Trial 384 finished with value: 0.08784707032917058 and parameters: {'n_clusters': 97, 'linkage': 'average'}. Best is trial 57 with value: 0.13129813063305099.\n",
      "[I 2025-08-27 11:17:00,597] Trial 385 finished with value: -0.06888114141013349 and parameters: {'n_clusters': 26, 'linkage': 'single'}. Best is trial 57 with value: 0.13129813063305099.\n",
      "[I 2025-08-27 11:17:00,751] Trial 386 finished with value: 0.05737771389372656 and parameters: {'n_clusters': 30, 'linkage': 'average'}. Best is trial 57 with value: 0.13129813063305099.\n",
      "[I 2025-08-27 11:17:00,905] Trial 387 finished with value: 0.11056262978064685 and parameters: {'n_clusters': 93, 'linkage': 'ward'}. Best is trial 57 with value: 0.13129813063305099.\n",
      "[I 2025-08-27 11:17:01,060] Trial 388 finished with value: 0.12426703886684945 and parameters: {'n_clusters': 127, 'linkage': 'ward'}. Best is trial 57 with value: 0.13129813063305099.\n",
      "[I 2025-08-27 11:17:01,214] Trial 389 finished with value: 0.09051466361982641 and parameters: {'n_clusters': 102, 'linkage': 'complete'}. Best is trial 57 with value: 0.13129813063305099.\n",
      "[I 2025-08-27 11:17:01,380] Trial 390 finished with value: 0.10374340772444145 and parameters: {'n_clusters': 127, 'linkage': 'complete'}. Best is trial 57 with value: 0.13129813063305099.\n",
      "[I 2025-08-27 11:17:01,572] Trial 391 finished with value: 0.08491133926343139 and parameters: {'n_clusters': 35, 'linkage': 'ward'}. Best is trial 57 with value: 0.13129813063305099.\n",
      "[I 2025-08-27 11:17:01,820] Trial 392 finished with value: 0.12140863618500722 and parameters: {'n_clusters': 120, 'linkage': 'ward'}. Best is trial 57 with value: 0.13129813063305099.\n",
      "[I 2025-08-27 11:17:02,005] Trial 393 finished with value: 0.00887631290048682 and parameters: {'n_clusters': 18, 'linkage': 'average'}. Best is trial 57 with value: 0.13129813063305099.\n",
      "[I 2025-08-27 11:17:02,181] Trial 394 finished with value: 0.038962308476669365 and parameters: {'n_clusters': 21, 'linkage': 'average'}. Best is trial 57 with value: 0.13129813063305099.\n",
      "[I 2025-08-27 11:17:02,338] Trial 395 finished with value: 0.08100319659944528 and parameters: {'n_clusters': 26, 'linkage': 'ward'}. Best is trial 57 with value: 0.13129813063305099.\n",
      "[I 2025-08-27 11:17:02,517] Trial 396 finished with value: 0.028556595782025945 and parameters: {'n_clusters': 13, 'linkage': 'single'}. Best is trial 57 with value: 0.13129813063305099.\n",
      "[I 2025-08-27 11:17:02,702] Trial 397 finished with value: 0.07365568972743981 and parameters: {'n_clusters': 59, 'linkage': 'complete'}. Best is trial 57 with value: 0.13129813063305099.\n",
      "[I 2025-08-27 11:17:02,902] Trial 398 finished with value: 0.12068884157739085 and parameters: {'n_clusters': 119, 'linkage': 'ward'}. Best is trial 57 with value: 0.13129813063305099.\n",
      "[I 2025-08-27 11:17:03,239] Trial 399 finished with value: -0.17091163560187064 and parameters: {'n_clusters': 62, 'linkage': 'single'}. Best is trial 57 with value: 0.13129813063305099.\n",
      "[I 2025-08-27 11:17:03,491] Trial 400 finished with value: -0.0799971117025716 and parameters: {'n_clusters': 28, 'linkage': 'single'}. Best is trial 57 with value: 0.13129813063305099.\n",
      "[I 2025-08-27 11:17:03,704] Trial 401 finished with value: 0.13066468901939982 and parameters: {'n_clusters': 149, 'linkage': 'ward'}. Best is trial 57 with value: 0.13129813063305099.\n",
      "[I 2025-08-27 11:17:03,905] Trial 402 finished with value: 0.09015051218416123 and parameters: {'n_clusters': 106, 'linkage': 'average'}. Best is trial 57 with value: 0.13129813063305099.\n",
      "[I 2025-08-27 11:17:04,100] Trial 403 finished with value: 0.09304874849256511 and parameters: {'n_clusters': 129, 'linkage': 'average'}. Best is trial 57 with value: 0.13129813063305099.\n",
      "[I 2025-08-27 11:17:04,284] Trial 404 finished with value: 0.08038259302493843 and parameters: {'n_clusters': 80, 'linkage': 'complete'}. Best is trial 57 with value: 0.13129813063305099.\n",
      "[I 2025-08-27 11:17:04,462] Trial 405 finished with value: -0.11376264206297819 and parameters: {'n_clusters': 34, 'linkage': 'single'}. Best is trial 57 with value: 0.13129813063305099.\n",
      "[I 2025-08-27 11:17:04,700] Trial 406 finished with value: 0.07054684423346264 and parameters: {'n_clusters': 45, 'linkage': 'complete'}. Best is trial 57 with value: 0.13129813063305099.\n",
      "[I 2025-08-27 11:17:04,937] Trial 407 finished with value: 0.07268472725580616 and parameters: {'n_clusters': 51, 'linkage': 'complete'}. Best is trial 57 with value: 0.13129813063305099.\n",
      "[I 2025-08-27 11:17:05,128] Trial 408 finished with value: -0.17975765980145927 and parameters: {'n_clusters': 93, 'linkage': 'single'}. Best is trial 57 with value: 0.13129813063305099.\n",
      "[I 2025-08-27 11:17:05,309] Trial 409 finished with value: 0.09469661388007308 and parameters: {'n_clusters': 117, 'linkage': 'average'}. Best is trial 57 with value: 0.13129813063305099.\n",
      "[I 2025-08-27 11:17:05,485] Trial 410 finished with value: 0.11312490338840889 and parameters: {'n_clusters': 141, 'linkage': 'complete'}. Best is trial 57 with value: 0.13129813063305099.\n",
      "[I 2025-08-27 11:17:05,656] Trial 411 finished with value: -0.18106946926937126 and parameters: {'n_clusters': 92, 'linkage': 'single'}. Best is trial 57 with value: 0.13129813063305099.\n",
      "[I 2025-08-27 11:17:05,831] Trial 412 finished with value: 0.0845871577518826 and parameters: {'n_clusters': 29, 'linkage': 'ward'}. Best is trial 57 with value: 0.13129813063305099.\n",
      "[I 2025-08-27 11:17:06,010] Trial 413 finished with value: 0.07336075928476364 and parameters: {'n_clusters': 56, 'linkage': 'complete'}. Best is trial 57 with value: 0.13129813063305099.\n",
      "[I 2025-08-27 11:17:06,239] Trial 414 finished with value: 0.052909824922957836 and parameters: {'n_clusters': 24, 'linkage': 'complete'}. Best is trial 57 with value: 0.13129813063305099.\n",
      "[I 2025-08-27 11:17:06,438] Trial 415 finished with value: -0.17071047192109656 and parameters: {'n_clusters': 61, 'linkage': 'single'}. Best is trial 57 with value: 0.13129813063305099.\n",
      "[I 2025-08-27 11:17:06,628] Trial 416 finished with value: 0.09468608676929241 and parameters: {'n_clusters': 138, 'linkage': 'average'}. Best is trial 57 with value: 0.13129813063305099.\n",
      "[I 2025-08-27 11:17:06,820] Trial 417 finished with value: 0.08617723440571234 and parameters: {'n_clusters': 91, 'linkage': 'complete'}. Best is trial 57 with value: 0.13129813063305099.\n",
      "[I 2025-08-27 11:17:07,001] Trial 418 finished with value: 0.08989225538809757 and parameters: {'n_clusters': 95, 'linkage': 'average'}. Best is trial 57 with value: 0.13129813063305099.\n",
      "[I 2025-08-27 11:17:07,201] Trial 419 finished with value: -0.1459893507509225 and parameters: {'n_clusters': 141, 'linkage': 'single'}. Best is trial 57 with value: 0.13129813063305099.\n",
      "[I 2025-08-27 11:17:07,497] Trial 420 finished with value: 0.083860566485371 and parameters: {'n_clusters': 13, 'linkage': 'ward'}. Best is trial 57 with value: 0.13129813063305099.\n",
      "[I 2025-08-27 11:17:07,706] Trial 421 finished with value: -0.06319457286182484 and parameters: {'n_clusters': 24, 'linkage': 'single'}. Best is trial 57 with value: 0.13129813063305099.\n",
      "[I 2025-08-27 11:17:07,913] Trial 422 finished with value: 0.1271035603532354 and parameters: {'n_clusters': 135, 'linkage': 'ward'}. Best is trial 57 with value: 0.13129813063305099.\n",
      "[I 2025-08-27 11:17:08,114] Trial 423 finished with value: 0.09999861609070057 and parameters: {'n_clusters': 149, 'linkage': 'average'}. Best is trial 57 with value: 0.13129813063305099.\n",
      "[I 2025-08-27 11:17:08,291] Trial 424 finished with value: 0.04359235149937747 and parameters: {'n_clusters': 14, 'linkage': 'complete'}. Best is trial 57 with value: 0.13129813063305099.\n",
      "[I 2025-08-27 11:17:08,464] Trial 425 finished with value: 0.10861462337341661 and parameters: {'n_clusters': 87, 'linkage': 'ward'}. Best is trial 57 with value: 0.13129813063305099.\n",
      "[I 2025-08-27 11:17:08,630] Trial 426 finished with value: 0.0734551709943738 and parameters: {'n_clusters': 53, 'linkage': 'average'}. Best is trial 57 with value: 0.13129813063305099.\n",
      "[I 2025-08-27 11:17:08,879] Trial 427 finished with value: 0.0892493782292983 and parameters: {'n_clusters': 99, 'linkage': 'complete'}. Best is trial 57 with value: 0.13129813063305099.\n",
      "[I 2025-08-27 11:17:09,054] Trial 428 finished with value: -0.17165498947667154 and parameters: {'n_clusters': 63, 'linkage': 'single'}. Best is trial 57 with value: 0.13129813063305099.\n",
      "[I 2025-08-27 11:17:09,228] Trial 429 finished with value: -0.169957704322404 and parameters: {'n_clusters': 140, 'linkage': 'single'}. Best is trial 57 with value: 0.13129813063305099.\n",
      "[I 2025-08-27 11:17:09,417] Trial 430 finished with value: 0.10142065727621487 and parameters: {'n_clusters': 144, 'linkage': 'average'}. Best is trial 57 with value: 0.13129813063305099.\n",
      "[I 2025-08-27 11:17:09,604] Trial 431 finished with value: 0.054550560602492755 and parameters: {'n_clusters': 22, 'linkage': 'complete'}. Best is trial 57 with value: 0.13129813063305099.\n",
      "[I 2025-08-27 11:17:09,793] Trial 432 finished with value: -0.1767904600365421 and parameters: {'n_clusters': 119, 'linkage': 'single'}. Best is trial 57 with value: 0.13129813063305099.\n",
      "[I 2025-08-27 11:17:10,050] Trial 433 finished with value: 0.07335446759903036 and parameters: {'n_clusters': 51, 'linkage': 'average'}. Best is trial 57 with value: 0.13129813063305099.\n",
      "[I 2025-08-27 11:17:10,262] Trial 434 finished with value: 0.0937041877255313 and parameters: {'n_clusters': 42, 'linkage': 'ward'}. Best is trial 57 with value: 0.13129813063305099.\n",
      "[I 2025-08-27 11:17:10,471] Trial 435 finished with value: 0.10849941129503257 and parameters: {'n_clusters': 90, 'linkage': 'ward'}. Best is trial 57 with value: 0.13129813063305099.\n",
      "[I 2025-08-27 11:17:10,672] Trial 436 finished with value: 0.06573127289473181 and parameters: {'n_clusters': 35, 'linkage': 'complete'}. Best is trial 57 with value: 0.13129813063305099.\n",
      "[I 2025-08-27 11:17:10,864] Trial 437 finished with value: 0.09300775931667798 and parameters: {'n_clusters': 127, 'linkage': 'average'}. Best is trial 57 with value: 0.13129813063305099.\n",
      "[I 2025-08-27 11:17:11,043] Trial 438 finished with value: 0.0760741728771634 and parameters: {'n_clusters': 21, 'linkage': 'ward'}. Best is trial 57 with value: 0.13129813063305099.\n",
      "[I 2025-08-27 11:17:11,348] Trial 439 finished with value: 0.08412514977102764 and parameters: {'n_clusters': 88, 'linkage': 'complete'}. Best is trial 57 with value: 0.13129813063305099.\n",
      "[I 2025-08-27 11:17:11,546] Trial 440 finished with value: -0.15136571699912693 and parameters: {'n_clusters': 54, 'linkage': 'single'}. Best is trial 57 with value: 0.13129813063305099.\n",
      "[I 2025-08-27 11:17:11,814] Trial 441 finished with value: 0.11202433988244852 and parameters: {'n_clusters': 96, 'linkage': 'ward'}. Best is trial 57 with value: 0.13129813063305099.\n",
      "[I 2025-08-27 11:17:12,023] Trial 442 finished with value: 0.0959102788537187 and parameters: {'n_clusters': 135, 'linkage': 'average'}. Best is trial 57 with value: 0.13129813063305099.\n",
      "[I 2025-08-27 11:17:12,216] Trial 443 finished with value: 0.09563848086930656 and parameters: {'n_clusters': 46, 'linkage': 'ward'}. Best is trial 57 with value: 0.13129813063305099.\n",
      "[I 2025-08-27 11:17:12,406] Trial 444 finished with value: 0.07267073252921669 and parameters: {'n_clusters': 62, 'linkage': 'average'}. Best is trial 57 with value: 0.13129813063305099.\n",
      "[I 2025-08-27 11:17:12,740] Trial 445 finished with value: 0.09991269225410385 and parameters: {'n_clusters': 68, 'linkage': 'ward'}. Best is trial 57 with value: 0.13129813063305099.\n",
      "[I 2025-08-27 11:17:12,972] Trial 446 finished with value: 0.09778837333945439 and parameters: {'n_clusters': 51, 'linkage': 'ward'}. Best is trial 57 with value: 0.13129813063305099.\n",
      "[I 2025-08-27 11:17:13,187] Trial 447 finished with value: 0.09504310000265782 and parameters: {'n_clusters': 139, 'linkage': 'average'}. Best is trial 57 with value: 0.13129813063305099.\n",
      "[I 2025-08-27 11:17:13,407] Trial 448 finished with value: 0.11317057334474001 and parameters: {'n_clusters': 139, 'linkage': 'complete'}. Best is trial 57 with value: 0.13129813063305099.\n",
      "[I 2025-08-27 11:17:13,620] Trial 449 finished with value: 0.09931848436433635 and parameters: {'n_clusters': 60, 'linkage': 'ward'}. Best is trial 57 with value: 0.13129813063305099.\n",
      "[I 2025-08-27 11:17:13,821] Trial 450 finished with value: 0.07753933685576211 and parameters: {'n_clusters': 78, 'linkage': 'average'}. Best is trial 57 with value: 0.13129813063305099.\n",
      "[I 2025-08-27 11:17:14,017] Trial 451 finished with value: -0.18187049399676547 and parameters: {'n_clusters': 89, 'linkage': 'single'}. Best is trial 57 with value: 0.13129813063305099.\n",
      "[I 2025-08-27 11:17:14,201] Trial 452 finished with value: -0.18088057169104366 and parameters: {'n_clusters': 88, 'linkage': 'single'}. Best is trial 57 with value: 0.13129813063305099.\n",
      "[I 2025-08-27 11:17:14,427] Trial 453 finished with value: -0.17609276228808307 and parameters: {'n_clusters': 106, 'linkage': 'single'}. Best is trial 57 with value: 0.13129813063305099.\n",
      "[I 2025-08-27 11:17:14,612] Trial 454 finished with value: -0.1786439563902533 and parameters: {'n_clusters': 105, 'linkage': 'single'}. Best is trial 57 with value: 0.13129813063305099.\n",
      "[I 2025-08-27 11:17:14,794] Trial 455 finished with value: -0.11813100257466326 and parameters: {'n_clusters': 38, 'linkage': 'single'}. Best is trial 57 with value: 0.13129813063305099.\n",
      "[I 2025-08-27 11:17:14,974] Trial 456 finished with value: 0.1261871590521184 and parameters: {'n_clusters': 133, 'linkage': 'ward'}. Best is trial 57 with value: 0.13129813063305099.\n",
      "[I 2025-08-27 11:17:15,154] Trial 457 finished with value: 0.08594116793701116 and parameters: {'n_clusters': 91, 'linkage': 'average'}. Best is trial 57 with value: 0.13129813063305099.\n",
      "[I 2025-08-27 11:17:15,343] Trial 458 finished with value: 0.11235763593514207 and parameters: {'n_clusters': 147, 'linkage': 'complete'}. Best is trial 57 with value: 0.13129813063305099.\n",
      "[I 2025-08-27 11:17:15,526] Trial 459 finished with value: 0.10361590047715606 and parameters: {'n_clusters': 72, 'linkage': 'ward'}. Best is trial 57 with value: 0.13129813063305099.\n",
      "[I 2025-08-27 11:17:15,767] Trial 460 finished with value: -0.17486688367211956 and parameters: {'n_clusters': 64, 'linkage': 'single'}. Best is trial 57 with value: 0.13129813063305099.\n",
      "[I 2025-08-27 11:17:15,997] Trial 461 finished with value: 0.09237603714683433 and parameters: {'n_clusters': 105, 'linkage': 'complete'}. Best is trial 57 with value: 0.13129813063305099.\n",
      "[I 2025-08-27 11:17:16,188] Trial 462 finished with value: 0.12726153419785144 and parameters: {'n_clusters': 140, 'linkage': 'ward'}. Best is trial 57 with value: 0.13129813063305099.\n",
      "[I 2025-08-27 11:17:16,374] Trial 463 finished with value: 0.06875207973766213 and parameters: {'n_clusters': 56, 'linkage': 'average'}. Best is trial 57 with value: 0.13129813063305099.\n",
      "[I 2025-08-27 11:17:16,568] Trial 464 finished with value: 0.08653184319460076 and parameters: {'n_clusters': 33, 'linkage': 'ward'}. Best is trial 57 with value: 0.13129813063305099.\n",
      "[I 2025-08-27 11:17:16,749] Trial 465 finished with value: -0.1626390583068437 and parameters: {'n_clusters': 58, 'linkage': 'single'}. Best is trial 57 with value: 0.13129813063305099.\n",
      "[I 2025-08-27 11:17:16,934] Trial 466 finished with value: -0.16748545383865884 and parameters: {'n_clusters': 137, 'linkage': 'single'}. Best is trial 57 with value: 0.13129813063305099.\n",
      "[I 2025-08-27 11:17:17,154] Trial 467 finished with value: 0.09807529991670966 and parameters: {'n_clusters': 53, 'linkage': 'ward'}. Best is trial 57 with value: 0.13129813063305099.\n",
      "[I 2025-08-27 11:17:17,361] Trial 468 finished with value: 0.08804261252772666 and parameters: {'n_clusters': 98, 'linkage': 'complete'}. Best is trial 57 with value: 0.13129813063305099.\n",
      "[I 2025-08-27 11:17:17,556] Trial 469 finished with value: 0.10162910510463154 and parameters: {'n_clusters': 122, 'linkage': 'complete'}. Best is trial 57 with value: 0.13129813063305099.\n",
      "[I 2025-08-27 11:17:17,801] Trial 470 finished with value: 0.0791380087698405 and parameters: {'n_clusters': 10, 'linkage': 'ward'}. Best is trial 57 with value: 0.13129813063305099.\n",
      "[I 2025-08-27 11:17:18,079] Trial 471 finished with value: 0.09618813856847544 and parameters: {'n_clusters': 111, 'linkage': 'complete'}. Best is trial 57 with value: 0.13129813063305099.\n",
      "[I 2025-08-27 11:17:18,347] Trial 472 finished with value: 0.07574602261271278 and parameters: {'n_clusters': 70, 'linkage': 'average'}. Best is trial 57 with value: 0.13129813063305099.\n",
      "[I 2025-08-27 11:17:18,578] Trial 473 finished with value: 0.11005327880892113 and parameters: {'n_clusters': 133, 'linkage': 'complete'}. Best is trial 57 with value: 0.13129813063305099.\n",
      "[I 2025-08-27 11:17:18,818] Trial 474 finished with value: 0.08914124886410912 and parameters: {'n_clusters': 96, 'linkage': 'complete'}. Best is trial 57 with value: 0.13129813063305099.\n",
      "[I 2025-08-27 11:17:19,143] Trial 475 finished with value: -0.13147031098339348 and parameters: {'n_clusters': 48, 'linkage': 'single'}. Best is trial 57 with value: 0.13129813063305099.\n",
      "[I 2025-08-27 11:17:19,420] Trial 476 finished with value: -0.17653958348249027 and parameters: {'n_clusters': 113, 'linkage': 'single'}. Best is trial 57 with value: 0.13129813063305099.\n",
      "[I 2025-08-27 11:17:19,650] Trial 477 finished with value: 0.11819093558083556 and parameters: {'n_clusters': 108, 'linkage': 'ward'}. Best is trial 57 with value: 0.13129813063305099.\n",
      "[I 2025-08-27 11:17:19,861] Trial 478 finished with value: 0.09698156252601976 and parameters: {'n_clusters': 115, 'linkage': 'complete'}. Best is trial 57 with value: 0.13129813063305099.\n",
      "[I 2025-08-27 11:17:20,060] Trial 479 finished with value: 0.07947874318810505 and parameters: {'n_clusters': 77, 'linkage': 'complete'}. Best is trial 57 with value: 0.13129813063305099.\n",
      "[I 2025-08-27 11:17:20,241] Trial 480 finished with value: 0.05851664702532333 and parameters: {'n_clusters': 32, 'linkage': 'complete'}. Best is trial 57 with value: 0.13129813063305099.\n",
      "[I 2025-08-27 11:17:20,461] Trial 481 finished with value: 0.11259487480079158 and parameters: {'n_clusters': 146, 'linkage': 'complete'}. Best is trial 57 with value: 0.13129813063305099.\n",
      "[I 2025-08-27 11:17:20,675] Trial 482 finished with value: 0.04752811307069246 and parameters: {'n_clusters': 20, 'linkage': 'complete'}. Best is trial 57 with value: 0.13129813063305099.\n",
      "[I 2025-08-27 11:17:20,867] Trial 483 finished with value: 0.06437210531360392 and parameters: {'n_clusters': 47, 'linkage': 'average'}. Best is trial 57 with value: 0.13129813063305099.\n",
      "[I 2025-08-27 11:17:21,073] Trial 484 finished with value: 0.08905780726574913 and parameters: {'n_clusters': 97, 'linkage': 'complete'}. Best is trial 57 with value: 0.13129813063305099.\n",
      "[I 2025-08-27 11:17:21,313] Trial 485 finished with value: 0.09313282418284584 and parameters: {'n_clusters': 125, 'linkage': 'average'}. Best is trial 57 with value: 0.13129813063305099.\n",
      "[I 2025-08-27 11:17:21,523] Trial 486 finished with value: 0.1152196744876466 and parameters: {'n_clusters': 104, 'linkage': 'ward'}. Best is trial 57 with value: 0.13129813063305099.\n",
      "[I 2025-08-27 11:17:21,721] Trial 487 finished with value: 0.0795363624758927 and parameters: {'n_clusters': 66, 'linkage': 'average'}. Best is trial 57 with value: 0.13129813063305099.\n",
      "[I 2025-08-27 11:17:21,911] Trial 488 finished with value: 0.11551687726880842 and parameters: {'n_clusters': 105, 'linkage': 'ward'}. Best is trial 57 with value: 0.13129813063305099.\n",
      "[I 2025-08-27 11:17:22,103] Trial 489 finished with value: -0.16104919201489398 and parameters: {'n_clusters': 133, 'linkage': 'single'}. Best is trial 57 with value: 0.13129813063305099.\n",
      "[I 2025-08-27 11:17:22,296] Trial 490 finished with value: 0.06610106333179255 and parameters: {'n_clusters': 32, 'linkage': 'average'}. Best is trial 57 with value: 0.13129813063305099.\n",
      "[I 2025-08-27 11:17:22,486] Trial 491 finished with value: 0.07050087564797156 and parameters: {'n_clusters': 38, 'linkage': 'average'}. Best is trial 57 with value: 0.13129813063305099.\n",
      "[I 2025-08-27 11:17:22,682] Trial 492 finished with value: 0.1042547111582721 and parameters: {'n_clusters': 79, 'linkage': 'ward'}. Best is trial 57 with value: 0.13129813063305099.\n",
      "[I 2025-08-27 11:17:22,881] Trial 493 finished with value: 0.05963531199633614 and parameters: {'n_clusters': 33, 'linkage': 'complete'}. Best is trial 57 with value: 0.13129813063305099.\n",
      "[I 2025-08-27 11:17:23,078] Trial 494 finished with value: 0.0995354216162362 and parameters: {'n_clusters': 58, 'linkage': 'ward'}. Best is trial 57 with value: 0.13129813063305099.\n",
      "[I 2025-08-27 11:17:23,333] Trial 495 finished with value: 0.07845225663044914 and parameters: {'n_clusters': 69, 'linkage': 'complete'}. Best is trial 57 with value: 0.13129813063305099.\n",
      "[I 2025-08-27 11:17:23,534] Trial 496 finished with value: 0.08970120204504696 and parameters: {'n_clusters': 101, 'linkage': 'complete'}. Best is trial 57 with value: 0.13129813063305099.\n",
      "[I 2025-08-27 11:17:23,733] Trial 497 finished with value: 0.1023093372632498 and parameters: {'n_clusters': 125, 'linkage': 'complete'}. Best is trial 57 with value: 0.13129813063305099.\n",
      "[I 2025-08-27 11:17:23,928] Trial 498 finished with value: 0.07522818202239134 and parameters: {'n_clusters': 76, 'linkage': 'average'}. Best is trial 57 with value: 0.13129813063305099.\n",
      "[I 2025-08-27 11:17:24,175] Trial 499 finished with value: 0.10073039269815252 and parameters: {'n_clusters': 148, 'linkage': 'average'}. Best is trial 57 with value: 0.13129813063305099.\n",
      "[I 2025-08-27 11:17:24,433] Trial 500 finished with value: -0.1758498006670157 and parameters: {'n_clusters': 112, 'linkage': 'single'}. Best is trial 57 with value: 0.13129813063305099.\n",
      "[I 2025-08-27 11:17:24,656] Trial 501 finished with value: 0.08990842973715762 and parameters: {'n_clusters': 96, 'linkage': 'average'}. Best is trial 57 with value: 0.13129813063305099.\n",
      "[I 2025-08-27 11:17:24,867] Trial 502 finished with value: 0.012758714235713437 and parameters: {'n_clusters': 17, 'linkage': 'average'}. Best is trial 57 with value: 0.13129813063305099.\n",
      "[I 2025-08-27 11:17:25,078] Trial 503 finished with value: -0.014256241218663777 and parameters: {'n_clusters': 12, 'linkage': 'average'}. Best is trial 57 with value: 0.13129813063305099.\n",
      "[I 2025-08-27 11:17:25,287] Trial 504 finished with value: 0.07468931325334852 and parameters: {'n_clusters': 62, 'linkage': 'complete'}. Best is trial 57 with value: 0.13129813063305099.\n",
      "[I 2025-08-27 11:17:25,494] Trial 505 finished with value: -0.17538168472275847 and parameters: {'n_clusters': 117, 'linkage': 'single'}. Best is trial 57 with value: 0.13129813063305099.\n",
      "[I 2025-08-27 11:17:25,706] Trial 506 finished with value: 0.0728410105083598 and parameters: {'n_clusters': 49, 'linkage': 'average'}. Best is trial 57 with value: 0.13129813063305099.\n",
      "[I 2025-08-27 11:17:25,910] Trial 507 finished with value: 0.08355743042059459 and parameters: {'n_clusters': 84, 'linkage': 'complete'}. Best is trial 57 with value: 0.13129813063305099.\n",
      "[I 2025-08-27 11:17:26,103] Trial 508 finished with value: -0.12983099388695749 and parameters: {'n_clusters': 47, 'linkage': 'single'}. Best is trial 57 with value: 0.13129813063305099.\n",
      "[I 2025-08-27 11:17:26,297] Trial 509 finished with value: 0.1275569959767319 and parameters: {'n_clusters': 141, 'linkage': 'ward'}. Best is trial 57 with value: 0.13129813063305099.\n",
      "[I 2025-08-27 11:17:26,494] Trial 510 finished with value: -0.17949851689783505 and parameters: {'n_clusters': 87, 'linkage': 'single'}. Best is trial 57 with value: 0.13129813063305099.\n",
      "[I 2025-08-27 11:17:26,689] Trial 511 finished with value: 0.12750771273649478 and parameters: {'n_clusters': 137, 'linkage': 'ward'}. Best is trial 57 with value: 0.13129813063305099.\n",
      "[I 2025-08-27 11:17:26,886] Trial 512 finished with value: 0.09905864000657402 and parameters: {'n_clusters': 57, 'linkage': 'ward'}. Best is trial 57 with value: 0.13129813063305099.\n",
      "[I 2025-08-27 11:17:27,083] Trial 513 finished with value: 0.07320335081812145 and parameters: {'n_clusters': 52, 'linkage': 'complete'}. Best is trial 57 with value: 0.13129813063305099.\n",
      "[I 2025-08-27 11:17:27,292] Trial 514 finished with value: 0.07417028108297151 and parameters: {'n_clusters': 72, 'linkage': 'average'}. Best is trial 57 with value: 0.13129813063305099.\n",
      "[I 2025-08-27 11:17:27,498] Trial 515 finished with value: 0.11129841159583245 and parameters: {'n_clusters': 94, 'linkage': 'ward'}. Best is trial 57 with value: 0.13129813063305099.\n",
      "[I 2025-08-27 11:17:27,707] Trial 516 finished with value: 0.10257182618904506 and parameters: {'n_clusters': 126, 'linkage': 'complete'}. Best is trial 57 with value: 0.13129813063305099.\n",
      "[I 2025-08-27 11:17:27,911] Trial 517 finished with value: 0.11634771583385697 and parameters: {'n_clusters': 101, 'linkage': 'ward'}. Best is trial 57 with value: 0.13129813063305099.\n",
      "[I 2025-08-27 11:17:28,145] Trial 518 finished with value: 0.10927049269255325 and parameters: {'n_clusters': 92, 'linkage': 'ward'}. Best is trial 57 with value: 0.13129813063305099.\n",
      "[I 2025-08-27 11:17:28,348] Trial 519 finished with value: -0.012181149978898133 and parameters: {'n_clusters': 17, 'linkage': 'single'}. Best is trial 57 with value: 0.13129813063305099.\n",
      "[I 2025-08-27 11:17:28,549] Trial 520 finished with value: 0.12478425379310508 and parameters: {'n_clusters': 129, 'linkage': 'ward'}. Best is trial 57 with value: 0.13129813063305099.\n",
      "[I 2025-08-27 11:17:28,751] Trial 521 finished with value: 0.046437658257183025 and parameters: {'n_clusters': 19, 'linkage': 'complete'}. Best is trial 57 with value: 0.13129813063305099.\n",
      "[I 2025-08-27 11:17:28,954] Trial 522 finished with value: 0.10064708798397089 and parameters: {'n_clusters': 67, 'linkage': 'ward'}. Best is trial 57 with value: 0.13129813063305099.\n",
      "[I 2025-08-27 11:17:29,154] Trial 523 finished with value: 0.06883427818315656 and parameters: {'n_clusters': 49, 'linkage': 'complete'}. Best is trial 57 with value: 0.13129813063305099.\n",
      "[I 2025-08-27 11:17:29,361] Trial 524 finished with value: 0.09365069660576583 and parameters: {'n_clusters': 126, 'linkage': 'average'}. Best is trial 57 with value: 0.13129813063305099.\n",
      "[I 2025-08-27 11:17:29,561] Trial 525 finished with value: -0.08285125112969854 and parameters: {'n_clusters': 29, 'linkage': 'single'}. Best is trial 57 with value: 0.13129813063305099.\n",
      "[I 2025-08-27 11:17:29,764] Trial 526 finished with value: 0.09832100617859613 and parameters: {'n_clusters': 52, 'linkage': 'ward'}. Best is trial 57 with value: 0.13129813063305099.\n",
      "[I 2025-08-27 11:17:29,967] Trial 527 finished with value: 0.0984428947981716 and parameters: {'n_clusters': 116, 'linkage': 'complete'}. Best is trial 57 with value: 0.13129813063305099.\n",
      "[I 2025-08-27 11:17:30,172] Trial 528 finished with value: 0.07350678151682244 and parameters: {'n_clusters': 63, 'linkage': 'complete'}. Best is trial 57 with value: 0.13129813063305099.\n",
      "[I 2025-08-27 11:17:30,381] Trial 529 finished with value: 0.09857519255445539 and parameters: {'n_clusters': 142, 'linkage': 'average'}. Best is trial 57 with value: 0.13129813063305099.\n",
      "[I 2025-08-27 11:17:30,582] Trial 530 finished with value: -0.18293035354858905 and parameters: {'n_clusters': 75, 'linkage': 'single'}. Best is trial 57 with value: 0.13129813063305099.\n",
      "[I 2025-08-27 11:17:30,787] Trial 531 finished with value: 0.09921788505705219 and parameters: {'n_clusters': 63, 'linkage': 'ward'}. Best is trial 57 with value: 0.13129813063305099.\n",
      "[I 2025-08-27 11:17:30,989] Trial 532 finished with value: -0.17679459278598492 and parameters: {'n_clusters': 120, 'linkage': 'single'}. Best is trial 57 with value: 0.13129813063305099.\n",
      "[I 2025-08-27 11:17:31,195] Trial 533 finished with value: 0.12740051807315875 and parameters: {'n_clusters': 138, 'linkage': 'ward'}. Best is trial 57 with value: 0.13129813063305099.\n",
      "[I 2025-08-27 11:17:31,403] Trial 534 finished with value: 0.08987384143592254 and parameters: {'n_clusters': 38, 'linkage': 'ward'}. Best is trial 57 with value: 0.13129813063305099.\n",
      "[I 2025-08-27 11:17:31,608] Trial 535 finished with value: 0.07318657852595012 and parameters: {'n_clusters': 52, 'linkage': 'average'}. Best is trial 57 with value: 0.13129813063305099.\n",
      "[I 2025-08-27 11:17:31,847] Trial 536 finished with value: -0.12812996535822524 and parameters: {'n_clusters': 46, 'linkage': 'single'}. Best is trial 57 with value: 0.13129813063305099.\n",
      "[I 2025-08-27 11:17:32,051] Trial 537 finished with value: -0.17520386038884775 and parameters: {'n_clusters': 97, 'linkage': 'single'}. Best is trial 57 with value: 0.13129813063305099.\n",
      "[I 2025-08-27 11:17:32,259] Trial 538 finished with value: 0.04115650252150501 and parameters: {'n_clusters': 20, 'linkage': 'average'}. Best is trial 57 with value: 0.13129813063305099.\n",
      "[I 2025-08-27 11:17:32,467] Trial 539 finished with value: 0.09378124693683083 and parameters: {'n_clusters': 113, 'linkage': 'average'}. Best is trial 57 with value: 0.13129813063305099.\n",
      "[I 2025-08-27 11:17:32,677] Trial 540 finished with value: 0.09497935844993233 and parameters: {'n_clusters': 134, 'linkage': 'average'}. Best is trial 57 with value: 0.13129813063305099.\n",
      "[I 2025-08-27 11:17:32,885] Trial 541 finished with value: 0.048968848392153125 and parameters: {'n_clusters': 16, 'linkage': 'complete'}. Best is trial 57 with value: 0.13129813063305099.\n",
      "[I 2025-08-27 11:17:33,140] Trial 542 finished with value: -0.0034402679231110124 and parameters: {'n_clusters': 10, 'linkage': 'single'}. Best is trial 57 with value: 0.13129813063305099.\n",
      "[I 2025-08-27 11:17:33,379] Trial 543 finished with value: 0.015222502808194751 and parameters: {'n_clusters': 16, 'linkage': 'average'}. Best is trial 57 with value: 0.13129813063305099.\n",
      "[I 2025-08-27 11:17:33,594] Trial 544 finished with value: 0.06727086459945539 and parameters: {'n_clusters': 46, 'linkage': 'average'}. Best is trial 57 with value: 0.13129813063305099.\n",
      "[I 2025-08-27 11:17:33,803] Trial 545 finished with value: 0.11865246675163799 and parameters: {'n_clusters': 109, 'linkage': 'ward'}. Best is trial 57 with value: 0.13129813063305099.\n",
      "[I 2025-08-27 11:17:34,009] Trial 546 finished with value: -0.11810796605300238 and parameters: {'n_clusters': 35, 'linkage': 'single'}. Best is trial 57 with value: 0.13129813063305099.\n",
      "[I 2025-08-27 11:17:34,217] Trial 547 finished with value: -0.015092638038825233 and parameters: {'n_clusters': 18, 'linkage': 'single'}. Best is trial 57 with value: 0.13129813063305099.\n",
      "[I 2025-08-27 11:17:34,427] Trial 548 finished with value: 0.12397117171736123 and parameters: {'n_clusters': 125, 'linkage': 'ward'}. Best is trial 57 with value: 0.13129813063305099.\n",
      "[I 2025-08-27 11:17:34,639] Trial 549 finished with value: 0.10538576923520473 and parameters: {'n_clusters': 82, 'linkage': 'ward'}. Best is trial 57 with value: 0.13129813063305099.\n",
      "[I 2025-08-27 11:17:34,847] Trial 550 finished with value: -0.17907661968054578 and parameters: {'n_clusters': 124, 'linkage': 'single'}. Best is trial 57 with value: 0.13129813063305099.\n",
      "[I 2025-08-27 11:17:35,069] Trial 551 finished with value: 0.06432705660228054 and parameters: {'n_clusters': 43, 'linkage': 'average'}. Best is trial 57 with value: 0.13129813063305099.\n",
      "[I 2025-08-27 11:17:35,307] Trial 552 finished with value: 0.11278002682457607 and parameters: {'n_clusters': 97, 'linkage': 'ward'}. Best is trial 57 with value: 0.13129813063305099.\n",
      "[I 2025-08-27 11:17:35,584] Trial 553 finished with value: -0.16954304197345998 and parameters: {'n_clusters': 138, 'linkage': 'single'}. Best is trial 57 with value: 0.13129813063305099.\n",
      "[I 2025-08-27 11:17:35,873] Trial 554 finished with value: -0.17830143380752786 and parameters: {'n_clusters': 73, 'linkage': 'single'}. Best is trial 57 with value: 0.13129813063305099.\n",
      "[I 2025-08-27 11:17:36,155] Trial 555 finished with value: 0.06959849560717962 and parameters: {'n_clusters': 42, 'linkage': 'complete'}. Best is trial 57 with value: 0.13129813063305099.\n",
      "[I 2025-08-27 11:17:36,406] Trial 556 finished with value: 0.10304885877593864 and parameters: {'n_clusters': 124, 'linkage': 'complete'}. Best is trial 57 with value: 0.13129813063305099.\n",
      "[I 2025-08-27 11:17:36,850] Trial 557 finished with value: -0.16237218947630908 and parameters: {'n_clusters': 59, 'linkage': 'single'}. Best is trial 57 with value: 0.13129813063305099.\n",
      "[I 2025-08-27 11:17:37,118] Trial 558 finished with value: 0.10541447000485209 and parameters: {'n_clusters': 80, 'linkage': 'ward'}. Best is trial 57 with value: 0.13129813063305099.\n",
      "[I 2025-08-27 11:17:37,356] Trial 559 finished with value: 0.10305092061750935 and parameters: {'n_clusters': 146, 'linkage': 'average'}. Best is trial 57 with value: 0.13129813063305099.\n",
      "[I 2025-08-27 11:17:37,592] Trial 560 finished with value: 0.0746339261600022 and parameters: {'n_clusters': 19, 'linkage': 'ward'}. Best is trial 57 with value: 0.13129813063305099.\n",
      "[I 2025-08-27 11:17:37,833] Trial 561 finished with value: 0.08320659595584988 and parameters: {'n_clusters': 87, 'linkage': 'complete'}. Best is trial 57 with value: 0.13129813063305099.\n",
      "[I 2025-08-27 11:17:38,074] Trial 562 finished with value: 0.074989336556847 and parameters: {'n_clusters': 61, 'linkage': 'average'}. Best is trial 57 with value: 0.13129813063305099.\n",
      "[I 2025-08-27 11:17:38,325] Trial 563 finished with value: -0.1498284626370417 and parameters: {'n_clusters': 146, 'linkage': 'single'}. Best is trial 57 with value: 0.13129813063305099.\n"
     ]
    }
   ],
   "source": [
    "#executar estudo do Optuna para Agglomerative\n",
    "\n",
    "estudo_ag.optimize(hierarchical_agglomerative_objective, n_trials=600)"
   ]
  },
  {
   "cell_type": "code",
   "execution_count": 22,
   "id": "362c04fe",
   "metadata": {},
   "outputs": [
    {
     "name": "stdout",
     "output_type": "stream",
     "text": [
      "Clusters = 150\n",
      "Linkage = ward\n",
      "Melhor valor (Aglomerativo): 0.13129813063305099\n"
     ]
    }
   ],
   "source": [
    "# Mostrar melhor configuração do Optuna (Agglomerative)\n",
    "\n",
    "best_params_ag = estudo_ag.best_params\n",
    "best_value_ag = estudo_ag.best_value\n",
    "print(f\"Clusters = {best_params_ag['n_clusters']}\")\n",
    "print(f\"Linkage = {best_params_ag['linkage']}\")\n",
    "print(f\"Melhor valor (Aglomerativo): {best_value_ag}\")"
   ]
  },
  {
   "cell_type": "code",
   "execution_count": 23,
   "id": "a7096990",
   "metadata": {},
   "outputs": [],
   "source": [
    "def hierarchical_divisive_objective(trial):\n",
    "    # Definindo os hiperparâmetros a serem ajustados\n",
    "    n_clusters = trial.suggest_int('n_clusters', 10, 150)\n",
    "    \n",
    "    # Instanciar o modelo\n",
    "    hierarchical_model = BisectingKMeans(n_clusters=n_clusters)\n",
    "    \n",
    "    # Treinar o modelo e já executar a clusterização\n",
    "    y_predict = hierarchical_model.fit_predict(X_transformed)\n",
    "    \n",
    "    # Calcular o silhouette Score\n",
    "    silhouette_avg = silhouette_score(X_transformed, y_predict)\n",
    "    \n",
    "    return silhouette_avg"
   ]
  },
  {
   "cell_type": "code",
   "execution_count": 24,
   "id": "42bba21e",
   "metadata": {},
   "outputs": [
    {
     "name": "stderr",
     "output_type": "stream",
     "text": [
      "[I 2025-08-27 11:19:12,806] A new study created in memory with name: no-name-330c1d33-fa93-4b7b-8830-dbc0abe5f0cd\n"
     ]
    }
   ],
   "source": [
    "# Criar um estudo no Optuna\n",
    "\n",
    "search_space_di = {'n_clusters': range(10,151)}\n",
    "sampler_di = optuna.samplers.GridSampler(search_space=search_space_di)\n",
    "estudo_di = optuna.create_study(direction='maximize', sampler=sampler_di)"
   ]
  },
  {
   "cell_type": "code",
   "execution_count": 25,
   "id": "2d4482c2",
   "metadata": {},
   "outputs": [
    {
     "name": "stderr",
     "output_type": "stream",
     "text": [
      "[I 2025-08-27 11:19:30,638] Trial 0 finished with value: 0.04622845514235528 and parameters: {'n_clusters': 55}. Best is trial 0 with value: 0.04622845514235528.\n",
      "[I 2025-08-27 11:19:30,783] Trial 1 finished with value: 0.05271021972994656 and parameters: {'n_clusters': 70}. Best is trial 1 with value: 0.05271021972994656.\n",
      "[I 2025-08-27 11:19:30,834] Trial 2 finished with value: 0.05982643869835679 and parameters: {'n_clusters': 17}. Best is trial 2 with value: 0.05982643869835679.\n",
      "[I 2025-08-27 11:19:30,949] Trial 3 finished with value: 0.05366688248968516 and parameters: {'n_clusters': 61}. Best is trial 2 with value: 0.05982643869835679.\n",
      "[I 2025-08-27 11:19:31,082] Trial 4 finished with value: 0.04320390250541123 and parameters: {'n_clusters': 76}. Best is trial 2 with value: 0.05982643869835679.\n",
      "[I 2025-08-27 11:19:31,165] Trial 5 finished with value: 0.06297973822043479 and parameters: {'n_clusters': 37}. Best is trial 5 with value: 0.06297973822043479.\n",
      "[I 2025-08-27 11:19:31,316] Trial 6 finished with value: 0.0377802300263309 and parameters: {'n_clusters': 81}. Best is trial 5 with value: 0.06297973822043479.\n",
      "[I 2025-08-27 11:19:31,440] Trial 7 finished with value: 0.04174958463057994 and parameters: {'n_clusters': 64}. Best is trial 5 with value: 0.06297973822043479.\n",
      "[I 2025-08-27 11:19:31,661] Trial 8 finished with value: 0.02302849458486585 and parameters: {'n_clusters': 133}. Best is trial 5 with value: 0.06297973822043479.\n",
      "[I 2025-08-27 11:19:31,713] Trial 9 finished with value: 0.04886656575308662 and parameters: {'n_clusters': 18}. Best is trial 5 with value: 0.06297973822043479.\n",
      "[I 2025-08-27 11:19:31,858] Trial 10 finished with value: 0.04419970870209365 and parameters: {'n_clusters': 86}. Best is trial 5 with value: 0.06297973822043479.\n",
      "[I 2025-08-27 11:19:31,927] Trial 11 finished with value: 0.06180589839027952 and parameters: {'n_clusters': 26}. Best is trial 5 with value: 0.06297973822043479.\n",
      "[I 2025-08-27 11:19:32,144] Trial 12 finished with value: 0.023799488156770857 and parameters: {'n_clusters': 135}. Best is trial 5 with value: 0.06297973822043479.\n",
      "[I 2025-08-27 11:19:32,386] Trial 13 finished with value: 0.02487440361999213 and parameters: {'n_clusters': 132}. Best is trial 5 with value: 0.06297973822043479.\n",
      "[I 2025-08-27 11:19:32,671] Trial 14 finished with value: 0.02691936164427844 and parameters: {'n_clusters': 134}. Best is trial 5 with value: 0.06297973822043479.\n",
      "[I 2025-08-27 11:19:32,917] Trial 15 finished with value: 0.035805321852072754 and parameters: {'n_clusters': 108}. Best is trial 5 with value: 0.06297973822043479.\n",
      "[I 2025-08-27 11:19:33,137] Trial 16 finished with value: 0.018686697425757095 and parameters: {'n_clusters': 115}. Best is trial 5 with value: 0.06297973822043479.\n",
      "[I 2025-08-27 11:19:33,328] Trial 17 finished with value: 0.03450190583049382 and parameters: {'n_clusters': 93}. Best is trial 5 with value: 0.06297973822043479.\n",
      "[I 2025-08-27 11:19:33,430] Trial 18 finished with value: 0.04264064461622124 and parameters: {'n_clusters': 43}. Best is trial 5 with value: 0.06297973822043479.\n",
      "[I 2025-08-27 11:19:33,561] Trial 19 finished with value: 0.04930977887843438 and parameters: {'n_clusters': 66}. Best is trial 5 with value: 0.06297973822043479.\n",
      "[I 2025-08-27 11:19:33,746] Trial 20 finished with value: 0.03938848181389312 and parameters: {'n_clusters': 101}. Best is trial 5 with value: 0.06297973822043479.\n",
      "[I 2025-08-27 11:19:33,828] Trial 21 finished with value: 0.06732592605995871 and parameters: {'n_clusters': 32}. Best is trial 21 with value: 0.06732592605995871.\n",
      "[I 2025-08-27 11:19:34,077] Trial 22 finished with value: 0.029350239789395088 and parameters: {'n_clusters': 147}. Best is trial 21 with value: 0.06732592605995871.\n",
      "[I 2025-08-27 11:19:34,162] Trial 23 finished with value: 0.061093479366465704 and parameters: {'n_clusters': 34}. Best is trial 21 with value: 0.06732592605995871.\n",
      "[I 2025-08-27 11:19:34,214] Trial 24 finished with value: 0.07588366632675493 and parameters: {'n_clusters': 12}. Best is trial 24 with value: 0.07588366632675493.\n",
      "[I 2025-08-27 11:19:34,530] Trial 25 finished with value: 0.02351801648706106 and parameters: {'n_clusters': 121}. Best is trial 24 with value: 0.07588366632675493.\n",
      "[I 2025-08-27 11:19:34,632] Trial 26 finished with value: 0.026255575313388593 and parameters: {'n_clusters': 36}. Best is trial 24 with value: 0.07588366632675493.\n",
      "[I 2025-08-27 11:19:34,895] Trial 27 finished with value: 0.02792019690689159 and parameters: {'n_clusters': 131}. Best is trial 24 with value: 0.07588366632675493.\n",
      "[I 2025-08-27 11:19:34,970] Trial 28 finished with value: 0.06185225312618373 and parameters: {'n_clusters': 28}. Best is trial 24 with value: 0.07588366632675493.\n",
      "[I 2025-08-27 11:19:35,039] Trial 29 finished with value: 0.06454588020801386 and parameters: {'n_clusters': 20}. Best is trial 24 with value: 0.07588366632675493.\n",
      "[I 2025-08-27 11:19:35,230] Trial 30 finished with value: 0.0267304148318368 and parameters: {'n_clusters': 106}. Best is trial 24 with value: 0.07588366632675493.\n",
      "[I 2025-08-27 11:19:35,344] Trial 31 finished with value: 0.06207276140308978 and parameters: {'n_clusters': 53}. Best is trial 24 with value: 0.07588366632675493.\n",
      "[I 2025-08-27 11:19:35,560] Trial 32 finished with value: 0.034974933103914384 and parameters: {'n_clusters': 110}. Best is trial 24 with value: 0.07588366632675493.\n",
      "[I 2025-08-27 11:19:35,774] Trial 33 finished with value: 0.03617928495253378 and parameters: {'n_clusters': 118}. Best is trial 24 with value: 0.07588366632675493.\n",
      "[I 2025-08-27 11:19:35,898] Trial 34 finished with value: 0.0373370713951464 and parameters: {'n_clusters': 60}. Best is trial 24 with value: 0.07588366632675493.\n",
      "[I 2025-08-27 11:19:36,079] Trial 35 finished with value: 0.038566084806418564 and parameters: {'n_clusters': 94}. Best is trial 24 with value: 0.07588366632675493.\n",
      "[I 2025-08-27 11:19:36,219] Trial 36 finished with value: 0.04133500873799793 and parameters: {'n_clusters': 71}. Best is trial 24 with value: 0.07588366632675493.\n",
      "[I 2025-08-27 11:19:36,434] Trial 37 finished with value: 0.017523567971592182 and parameters: {'n_clusters': 117}. Best is trial 24 with value: 0.07588366632675493.\n",
      "[I 2025-08-27 11:19:36,658] Trial 38 finished with value: 0.03859740730787618 and parameters: {'n_clusters': 100}. Best is trial 24 with value: 0.07588366632675493.\n",
      "[I 2025-08-27 11:19:36,806] Trial 39 finished with value: 0.04334577279868245 and parameters: {'n_clusters': 69}. Best is trial 24 with value: 0.07588366632675493.\n",
      "[I 2025-08-27 11:19:36,919] Trial 40 finished with value: 0.034578530668020635 and parameters: {'n_clusters': 54}. Best is trial 24 with value: 0.07588366632675493.\n",
      "[I 2025-08-27 11:19:37,013] Trial 41 finished with value: 0.0548390442238915 and parameters: {'n_clusters': 40}. Best is trial 24 with value: 0.07588366632675493.\n",
      "[I 2025-08-27 11:19:37,223] Trial 42 finished with value: 0.025227439524822395 and parameters: {'n_clusters': 122}. Best is trial 24 with value: 0.07588366632675493.\n",
      "[I 2025-08-27 11:19:37,405] Trial 43 finished with value: 0.045703630328920636 and parameters: {'n_clusters': 88}. Best is trial 24 with value: 0.07588366632675493.\n",
      "[I 2025-08-27 11:19:37,661] Trial 44 finished with value: 0.02632859613000115 and parameters: {'n_clusters': 142}. Best is trial 24 with value: 0.07588366632675493.\n",
      "[I 2025-08-27 11:19:37,811] Trial 45 finished with value: 0.04861399271517757 and parameters: {'n_clusters': 78}. Best is trial 24 with value: 0.07588366632675493.\n",
      "[I 2025-08-27 11:19:38,037] Trial 46 finished with value: 0.04398287298858146 and parameters: {'n_clusters': 103}. Best is trial 24 with value: 0.07588366632675493.\n",
      "[I 2025-08-27 11:19:38,219] Trial 47 finished with value: 0.04056671557144473 and parameters: {'n_clusters': 95}. Best is trial 24 with value: 0.07588366632675493.\n",
      "[I 2025-08-27 11:19:38,347] Trial 48 finished with value: 0.048474406940559024 and parameters: {'n_clusters': 58}. Best is trial 24 with value: 0.07588366632675493.\n",
      "[I 2025-08-27 11:19:38,710] Trial 49 finished with value: 0.04285143209761577 and parameters: {'n_clusters': 145}. Best is trial 24 with value: 0.07588366632675493.\n",
      "[I 2025-08-27 11:19:38,818] Trial 50 finished with value: 0.051260339469618506 and parameters: {'n_clusters': 23}. Best is trial 24 with value: 0.07588366632675493.\n",
      "[I 2025-08-27 11:19:39,104] Trial 51 finished with value: 0.03521507586441231 and parameters: {'n_clusters': 102}. Best is trial 24 with value: 0.07588366632675493.\n",
      "[I 2025-08-27 11:19:39,361] Trial 52 finished with value: 0.024805486287346835 and parameters: {'n_clusters': 105}. Best is trial 24 with value: 0.07588366632675493.\n",
      "[I 2025-08-27 11:19:39,547] Trial 53 finished with value: 0.02952483436392999 and parameters: {'n_clusters': 83}. Best is trial 24 with value: 0.07588366632675493.\n",
      "[I 2025-08-27 11:19:39,982] Trial 54 finished with value: 0.035656358658036666 and parameters: {'n_clusters': 129}. Best is trial 24 with value: 0.07588366632675493.\n",
      "[I 2025-08-27 11:19:40,074] Trial 55 finished with value: 0.061649830862977664 and parameters: {'n_clusters': 25}. Best is trial 24 with value: 0.07588366632675493.\n",
      "[I 2025-08-27 11:19:40,314] Trial 56 finished with value: 0.0271771572158753 and parameters: {'n_clusters': 126}. Best is trial 24 with value: 0.07588366632675493.\n",
      "[I 2025-08-27 11:19:40,443] Trial 57 finished with value: 0.043387334168431005 and parameters: {'n_clusters': 50}. Best is trial 24 with value: 0.07588366632675493.\n",
      "[I 2025-08-27 11:19:40,597] Trial 58 finished with value: 0.04259050879012631 and parameters: {'n_clusters': 72}. Best is trial 24 with value: 0.07588366632675493.\n",
      "[I 2025-08-27 11:19:40,849] Trial 59 finished with value: 0.007332478845715656 and parameters: {'n_clusters': 138}. Best is trial 24 with value: 0.07588366632675493.\n",
      "[I 2025-08-27 11:19:41,110] Trial 60 finished with value: 0.02392598550255386 and parameters: {'n_clusters': 148}. Best is trial 24 with value: 0.07588366632675493.\n",
      "[I 2025-08-27 11:19:41,175] Trial 61 finished with value: 0.06636612631288677 and parameters: {'n_clusters': 13}. Best is trial 24 with value: 0.07588366632675493.\n",
      "[I 2025-08-27 11:19:41,473] Trial 62 finished with value: 0.040244388908338716 and parameters: {'n_clusters': 62}. Best is trial 24 with value: 0.07588366632675493.\n",
      "[I 2025-08-27 11:19:41,706] Trial 63 finished with value: 0.05875508540889907 and parameters: {'n_clusters': 73}. Best is trial 24 with value: 0.07588366632675493.\n",
      "[I 2025-08-27 11:19:41,944] Trial 64 finished with value: 0.04129317517001892 and parameters: {'n_clusters': 123}. Best is trial 24 with value: 0.07588366632675493.\n",
      "[I 2025-08-27 11:19:42,019] Trial 65 finished with value: 0.0616387699039858 and parameters: {'n_clusters': 16}. Best is trial 24 with value: 0.07588366632675493.\n",
      "[I 2025-08-27 11:19:42,286] Trial 66 finished with value: 0.017558093418114824 and parameters: {'n_clusters': 149}. Best is trial 24 with value: 0.07588366632675493.\n",
      "[I 2025-08-27 11:19:42,361] Trial 67 finished with value: 0.0644719418607955 and parameters: {'n_clusters': 22}. Best is trial 24 with value: 0.07588366632675493.\n",
      "[I 2025-08-27 11:19:42,595] Trial 68 finished with value: 0.03959364303003505 and parameters: {'n_clusters': 96}. Best is trial 24 with value: 0.07588366632675493.\n",
      "[I 2025-08-27 11:19:42,825] Trial 69 finished with value: 0.0352552983168585 and parameters: {'n_clusters': 114}. Best is trial 24 with value: 0.07588366632675493.\n",
      "[I 2025-08-27 11:19:43,092] Trial 70 finished with value: 0.03853479317659535 and parameters: {'n_clusters': 119}. Best is trial 24 with value: 0.07588366632675493.\n",
      "[I 2025-08-27 11:19:43,478] Trial 71 finished with value: 0.011218926755530483 and parameters: {'n_clusters': 137}. Best is trial 24 with value: 0.07588366632675493.\n",
      "[I 2025-08-27 11:19:43,624] Trial 72 finished with value: 0.06886883292878618 and parameters: {'n_clusters': 21}. Best is trial 24 with value: 0.07588366632675493.\n",
      "[I 2025-08-27 11:19:43,882] Trial 73 finished with value: 0.03480493886777726 and parameters: {'n_clusters': 104}. Best is trial 24 with value: 0.07588366632675493.\n",
      "[I 2025-08-27 11:19:44,146] Trial 74 finished with value: 0.022674945775863934 and parameters: {'n_clusters': 120}. Best is trial 24 with value: 0.07588366632675493.\n",
      "[I 2025-08-27 11:19:44,296] Trial 75 finished with value: 0.053122323840142115 and parameters: {'n_clusters': 51}. Best is trial 24 with value: 0.07588366632675493.\n",
      "[I 2025-08-27 11:19:44,576] Trial 76 finished with value: 0.025740216819274377 and parameters: {'n_clusters': 111}. Best is trial 24 with value: 0.07588366632675493.\n",
      "[I 2025-08-27 11:19:44,664] Trial 77 finished with value: 0.07890350160762041 and parameters: {'n_clusters': 11}. Best is trial 77 with value: 0.07890350160762041.\n",
      "[I 2025-08-27 11:19:45,096] Trial 78 finished with value: 0.0470258492490171 and parameters: {'n_clusters': 107}. Best is trial 77 with value: 0.07890350160762041.\n",
      "[I 2025-08-27 11:19:45,392] Trial 79 finished with value: 0.03987271892995591 and parameters: {'n_clusters': 140}. Best is trial 77 with value: 0.07890350160762041.\n",
      "[I 2025-08-27 11:19:45,588] Trial 80 finished with value: 0.03970050456639265 and parameters: {'n_clusters': 52}. Best is trial 77 with value: 0.07890350160762041.\n",
      "[I 2025-08-27 11:19:45,809] Trial 81 finished with value: 0.06382638481217429 and parameters: {'n_clusters': 14}. Best is trial 77 with value: 0.07890350160762041.\n",
      "[I 2025-08-27 11:19:46,318] Trial 82 finished with value: 0.024630231456325723 and parameters: {'n_clusters': 124}. Best is trial 77 with value: 0.07890350160762041.\n",
      "[I 2025-08-27 11:19:46,492] Trial 83 finished with value: 0.06523953345094334 and parameters: {'n_clusters': 27}. Best is trial 77 with value: 0.07890350160762041.\n",
      "[I 2025-08-27 11:19:46,725] Trial 84 finished with value: 0.06083637672399585 and parameters: {'n_clusters': 48}. Best is trial 77 with value: 0.07890350160762041.\n",
      "[I 2025-08-27 11:19:46,883] Trial 85 finished with value: 0.08195149521584094 and parameters: {'n_clusters': 15}. Best is trial 85 with value: 0.08195149521584094.\n",
      "[I 2025-08-27 11:19:47,106] Trial 86 finished with value: 0.06013956684012213 and parameters: {'n_clusters': 63}. Best is trial 85 with value: 0.08195149521584094.\n",
      "[I 2025-08-27 11:19:47,619] Trial 87 finished with value: 0.024879674929659742 and parameters: {'n_clusters': 144}. Best is trial 85 with value: 0.08195149521584094.\n",
      "[I 2025-08-27 11:19:47,942] Trial 88 finished with value: 0.036174402970244275 and parameters: {'n_clusters': 99}. Best is trial 85 with value: 0.08195149521584094.\n",
      "[I 2025-08-27 11:19:48,059] Trial 89 finished with value: 0.07385032473408754 and parameters: {'n_clusters': 10}. Best is trial 85 with value: 0.08195149521584094.\n",
      "[I 2025-08-27 11:19:48,288] Trial 90 finished with value: 0.0520289244838826 and parameters: {'n_clusters': 44}. Best is trial 85 with value: 0.08195149521584094.\n",
      "[I 2025-08-27 11:19:48,556] Trial 91 finished with value: 0.0632742320252548 and parameters: {'n_clusters': 38}. Best is trial 85 with value: 0.08195149521584094.\n",
      "[I 2025-08-27 11:19:48,876] Trial 92 finished with value: 0.035821618450088535 and parameters: {'n_clusters': 65}. Best is trial 85 with value: 0.08195149521584094.\n",
      "[I 2025-08-27 11:19:49,221] Trial 93 finished with value: 0.04047380085367029 and parameters: {'n_clusters': 85}. Best is trial 85 with value: 0.08195149521584094.\n",
      "[I 2025-08-27 11:19:49,440] Trial 94 finished with value: 0.046899412508943354 and parameters: {'n_clusters': 45}. Best is trial 85 with value: 0.08195149521584094.\n",
      "[I 2025-08-27 11:19:49,637] Trial 95 finished with value: 0.053084987306854424 and parameters: {'n_clusters': 33}. Best is trial 85 with value: 0.08195149521584094.\n",
      "[I 2025-08-27 11:19:50,122] Trial 96 finished with value: 0.038009166737849834 and parameters: {'n_clusters': 84}. Best is trial 85 with value: 0.08195149521584094.\n",
      "[I 2025-08-27 11:19:50,336] Trial 97 finished with value: 0.05640566729015841 and parameters: {'n_clusters': 41}. Best is trial 85 with value: 0.08195149521584094.\n",
      "[I 2025-08-27 11:19:50,702] Trial 98 finished with value: 0.02372252865804855 and parameters: {'n_clusters': 112}. Best is trial 85 with value: 0.08195149521584094.\n",
      "[I 2025-08-27 11:19:50,905] Trial 99 finished with value: 0.05744410395797357 and parameters: {'n_clusters': 67}. Best is trial 85 with value: 0.08195149521584094.\n",
      "[I 2025-08-27 11:19:51,270] Trial 100 finished with value: 0.03682052482223228 and parameters: {'n_clusters': 130}. Best is trial 85 with value: 0.08195149521584094.\n",
      "[I 2025-08-27 11:19:51,557] Trial 101 finished with value: 0.04878491333049261 and parameters: {'n_clusters': 75}. Best is trial 85 with value: 0.08195149521584094.\n",
      "[I 2025-08-27 11:19:51,720] Trial 102 finished with value: 0.06439708423480861 and parameters: {'n_clusters': 42}. Best is trial 85 with value: 0.08195149521584094.\n",
      "[I 2025-08-27 11:19:52,083] Trial 103 finished with value: 0.019418384912434757 and parameters: {'n_clusters': 139}. Best is trial 85 with value: 0.08195149521584094.\n",
      "[I 2025-08-27 11:19:52,258] Trial 104 finished with value: 0.0740656179501607 and parameters: {'n_clusters': 24}. Best is trial 85 with value: 0.08195149521584094.\n",
      "[I 2025-08-27 11:19:52,613] Trial 105 finished with value: 0.019452977117946114 and parameters: {'n_clusters': 116}. Best is trial 85 with value: 0.08195149521584094.\n",
      "[I 2025-08-27 11:19:52,783] Trial 106 finished with value: 0.059788259926817085 and parameters: {'n_clusters': 29}. Best is trial 85 with value: 0.08195149521584094.\n",
      "[I 2025-08-27 11:19:52,978] Trial 107 finished with value: 0.0605926745806739 and parameters: {'n_clusters': 39}. Best is trial 85 with value: 0.08195149521584094.\n",
      "[I 2025-08-27 11:19:53,276] Trial 108 finished with value: 0.049795855647370366 and parameters: {'n_clusters': 59}. Best is trial 85 with value: 0.08195149521584094.\n",
      "[I 2025-08-27 11:19:53,601] Trial 109 finished with value: 0.01668847863592617 and parameters: {'n_clusters': 136}. Best is trial 85 with value: 0.08195149521584094.\n",
      "[I 2025-08-27 11:19:53,873] Trial 110 finished with value: 0.03537893317564933 and parameters: {'n_clusters': 109}. Best is trial 85 with value: 0.08195149521584094.\n",
      "[I 2025-08-27 11:19:54,190] Trial 111 finished with value: 0.04997043499385588 and parameters: {'n_clusters': 92}. Best is trial 85 with value: 0.08195149521584094.\n",
      "[I 2025-08-27 11:19:54,426] Trial 112 finished with value: 0.04575436747513284 and parameters: {'n_clusters': 74}. Best is trial 85 with value: 0.08195149521584094.\n",
      "[I 2025-08-27 11:19:54,882] Trial 113 finished with value: 0.018396842142793267 and parameters: {'n_clusters': 150}. Best is trial 85 with value: 0.08195149521584094.\n",
      "[I 2025-08-27 11:19:55,289] Trial 114 finished with value: 0.03971356923466633 and parameters: {'n_clusters': 89}. Best is trial 85 with value: 0.08195149521584094.\n",
      "[I 2025-08-27 11:19:55,502] Trial 115 finished with value: 0.04024265661254085 and parameters: {'n_clusters': 79}. Best is trial 85 with value: 0.08195149521584094.\n",
      "[I 2025-08-27 11:19:55,828] Trial 116 finished with value: 0.024576674929735073 and parameters: {'n_clusters': 128}. Best is trial 85 with value: 0.08195149521584094.\n",
      "[I 2025-08-27 11:19:56,080] Trial 117 finished with value: 0.027444439409586525 and parameters: {'n_clusters': 90}. Best is trial 85 with value: 0.08195149521584094.\n",
      "[I 2025-08-27 11:19:56,365] Trial 118 finished with value: 0.031537806431019215 and parameters: {'n_clusters': 125}. Best is trial 85 with value: 0.08195149521584094.\n",
      "[I 2025-08-27 11:19:56,504] Trial 119 finished with value: 0.06791492302220954 and parameters: {'n_clusters': 30}. Best is trial 85 with value: 0.08195149521584094.\n",
      "[I 2025-08-27 11:19:56,856] Trial 120 finished with value: 0.030529514955994187 and parameters: {'n_clusters': 146}. Best is trial 85 with value: 0.08195149521584094.\n",
      "[I 2025-08-27 11:19:57,076] Trial 121 finished with value: 0.04147692973460126 and parameters: {'n_clusters': 82}. Best is trial 85 with value: 0.08195149521584094.\n",
      "[I 2025-08-27 11:19:57,353] Trial 122 finished with value: 0.03616771332468667 and parameters: {'n_clusters': 87}. Best is trial 85 with value: 0.08195149521584094.\n",
      "[I 2025-08-27 11:19:57,520] Trial 123 finished with value: 0.05234333587198377 and parameters: {'n_clusters': 35}. Best is trial 85 with value: 0.08195149521584094.\n",
      "[I 2025-08-27 11:19:57,693] Trial 124 finished with value: 0.0620218725148904 and parameters: {'n_clusters': 47}. Best is trial 85 with value: 0.08195149521584094.\n",
      "[I 2025-08-27 11:19:57,933] Trial 125 finished with value: 0.0441697176721605 and parameters: {'n_clusters': 91}. Best is trial 85 with value: 0.08195149521584094.\n",
      "[I 2025-08-27 11:19:58,305] Trial 126 finished with value: 0.02876947038657758 and parameters: {'n_clusters': 141}. Best is trial 85 with value: 0.08195149521584094.\n",
      "[I 2025-08-27 11:19:58,504] Trial 127 finished with value: 0.05376133620673367 and parameters: {'n_clusters': 56}. Best is trial 85 with value: 0.08195149521584094.\n",
      "[I 2025-08-27 11:19:58,885] Trial 128 finished with value: 0.023967098290096692 and parameters: {'n_clusters': 143}. Best is trial 85 with value: 0.08195149521584094.\n",
      "[I 2025-08-27 11:19:59,080] Trial 129 finished with value: 0.05564096771103673 and parameters: {'n_clusters': 49}. Best is trial 85 with value: 0.08195149521584094.\n",
      "[I 2025-08-27 11:19:59,286] Trial 130 finished with value: 0.041376110665744516 and parameters: {'n_clusters': 68}. Best is trial 85 with value: 0.08195149521584094.\n",
      "[I 2025-08-27 11:19:59,593] Trial 131 finished with value: 0.04113667048088503 and parameters: {'n_clusters': 98}. Best is trial 85 with value: 0.08195149521584094.\n",
      "[I 2025-08-27 11:19:59,858] Trial 132 finished with value: 0.03300559537231238 and parameters: {'n_clusters': 80}. Best is trial 85 with value: 0.08195149521584094.\n",
      "[I 2025-08-27 11:20:00,168] Trial 133 finished with value: 0.035430904866493605 and parameters: {'n_clusters': 97}. Best is trial 85 with value: 0.08195149521584094.\n",
      "[I 2025-08-27 11:20:00,540] Trial 134 finished with value: 0.05140998129815507 and parameters: {'n_clusters': 46}. Best is trial 85 with value: 0.08195149521584094.\n",
      "[I 2025-08-27 11:20:00,747] Trial 135 finished with value: 0.05483498149855618 and parameters: {'n_clusters': 31}. Best is trial 85 with value: 0.08195149521584094.\n",
      "[I 2025-08-27 11:20:00,893] Trial 136 finished with value: 0.06315450529634664 and parameters: {'n_clusters': 19}. Best is trial 85 with value: 0.08195149521584094.\n",
      "[I 2025-08-27 11:20:01,223] Trial 137 finished with value: 0.03396354942311536 and parameters: {'n_clusters': 113}. Best is trial 85 with value: 0.08195149521584094.\n",
      "[I 2025-08-27 11:20:01,542] Trial 138 finished with value: 0.05373781507154184 and parameters: {'n_clusters': 77}. Best is trial 85 with value: 0.08195149521584094.\n",
      "[I 2025-08-27 11:20:01,818] Trial 139 finished with value: 0.022470115504013993 and parameters: {'n_clusters': 127}. Best is trial 85 with value: 0.08195149521584094.\n",
      "[I 2025-08-27 11:20:02,014] Trial 140 finished with value: 0.04641789531068626 and parameters: {'n_clusters': 57}. Best is trial 85 with value: 0.08195149521584094.\n"
     ]
    }
   ],
   "source": [
    "#executar estudo do Optuna para divisive\n",
    "\n",
    "estudo_di.optimize(hierarchical_divisive_objective, n_trials=200)"
   ]
  },
  {
   "cell_type": "code",
   "execution_count": 26,
   "id": "c05f9aa0",
   "metadata": {},
   "outputs": [
    {
     "name": "stdout",
     "output_type": "stream",
     "text": [
      "Clusters = 15\n",
      "Melhor valor (Divisivo): 0.08195149521584094\n"
     ]
    }
   ],
   "source": [
    "# Mostrar melhor configuração do Optuna (divisive)\n",
    "\n",
    "best_params_di = estudo_di.best_params\n",
    "best_value_di = estudo_di.best_value\n",
    "print(f\"Clusters = {best_params_di['n_clusters']}\")\n",
    "print(f\"Melhor valor (Divisivo): {best_value_di}\")"
   ]
  },
  {
   "cell_type": "markdown",
   "id": "d14e25a9",
   "metadata": {},
   "source": [
    "Com isso nota-se que a configuração com melhor resultado foi a: Agglomerative"
   ]
  },
  {
   "cell_type": "code",
   "execution_count": 27,
   "id": "389e6c48",
   "metadata": {},
   "outputs": [],
   "source": [
    "# Criar Modelo com melhor configuração (Agglomerative)\n",
    "\n",
    "best_model = AgglomerativeClustering(\n",
    "    n_clusters=best_params_ag['n_clusters'],\n",
    "    linkage=best_params_ag['linkage']\n",
    ")"
   ]
  },
  {
   "cell_type": "code",
   "execution_count": 28,
   "id": "2ba01d14",
   "metadata": {},
   "outputs": [
    {
     "data": {
      "text/html": [
       "<style>#sk-container-id-1 {\n",
       "  /* Definition of color scheme common for light and dark mode */\n",
       "  --sklearn-color-text: #000;\n",
       "  --sklearn-color-text-muted: #666;\n",
       "  --sklearn-color-line: gray;\n",
       "  /* Definition of color scheme for unfitted estimators */\n",
       "  --sklearn-color-unfitted-level-0: #fff5e6;\n",
       "  --sklearn-color-unfitted-level-1: #f6e4d2;\n",
       "  --sklearn-color-unfitted-level-2: #ffe0b3;\n",
       "  --sklearn-color-unfitted-level-3: chocolate;\n",
       "  /* Definition of color scheme for fitted estimators */\n",
       "  --sklearn-color-fitted-level-0: #f0f8ff;\n",
       "  --sklearn-color-fitted-level-1: #d4ebff;\n",
       "  --sklearn-color-fitted-level-2: #b3dbfd;\n",
       "  --sklearn-color-fitted-level-3: cornflowerblue;\n",
       "\n",
       "  /* Specific color for light theme */\n",
       "  --sklearn-color-text-on-default-background: var(--sg-text-color, var(--theme-code-foreground, var(--jp-content-font-color1, black)));\n",
       "  --sklearn-color-background: var(--sg-background-color, var(--theme-background, var(--jp-layout-color0, white)));\n",
       "  --sklearn-color-border-box: var(--sg-text-color, var(--theme-code-foreground, var(--jp-content-font-color1, black)));\n",
       "  --sklearn-color-icon: #696969;\n",
       "\n",
       "  @media (prefers-color-scheme: dark) {\n",
       "    /* Redefinition of color scheme for dark theme */\n",
       "    --sklearn-color-text-on-default-background: var(--sg-text-color, var(--theme-code-foreground, var(--jp-content-font-color1, white)));\n",
       "    --sklearn-color-background: var(--sg-background-color, var(--theme-background, var(--jp-layout-color0, #111)));\n",
       "    --sklearn-color-border-box: var(--sg-text-color, var(--theme-code-foreground, var(--jp-content-font-color1, white)));\n",
       "    --sklearn-color-icon: #878787;\n",
       "  }\n",
       "}\n",
       "\n",
       "#sk-container-id-1 {\n",
       "  color: var(--sklearn-color-text);\n",
       "}\n",
       "\n",
       "#sk-container-id-1 pre {\n",
       "  padding: 0;\n",
       "}\n",
       "\n",
       "#sk-container-id-1 input.sk-hidden--visually {\n",
       "  border: 0;\n",
       "  clip: rect(1px 1px 1px 1px);\n",
       "  clip: rect(1px, 1px, 1px, 1px);\n",
       "  height: 1px;\n",
       "  margin: -1px;\n",
       "  overflow: hidden;\n",
       "  padding: 0;\n",
       "  position: absolute;\n",
       "  width: 1px;\n",
       "}\n",
       "\n",
       "#sk-container-id-1 div.sk-dashed-wrapped {\n",
       "  border: 1px dashed var(--sklearn-color-line);\n",
       "  margin: 0 0.4em 0.5em 0.4em;\n",
       "  box-sizing: border-box;\n",
       "  padding-bottom: 0.4em;\n",
       "  background-color: var(--sklearn-color-background);\n",
       "}\n",
       "\n",
       "#sk-container-id-1 div.sk-container {\n",
       "  /* jupyter's `normalize.less` sets `[hidden] { display: none; }`\n",
       "     but bootstrap.min.css set `[hidden] { display: none !important; }`\n",
       "     so we also need the `!important` here to be able to override the\n",
       "     default hidden behavior on the sphinx rendered scikit-learn.org.\n",
       "     See: https://github.com/scikit-learn/scikit-learn/issues/21755 */\n",
       "  display: inline-block !important;\n",
       "  position: relative;\n",
       "}\n",
       "\n",
       "#sk-container-id-1 div.sk-text-repr-fallback {\n",
       "  display: none;\n",
       "}\n",
       "\n",
       "div.sk-parallel-item,\n",
       "div.sk-serial,\n",
       "div.sk-item {\n",
       "  /* draw centered vertical line to link estimators */\n",
       "  background-image: linear-gradient(var(--sklearn-color-text-on-default-background), var(--sklearn-color-text-on-default-background));\n",
       "  background-size: 2px 100%;\n",
       "  background-repeat: no-repeat;\n",
       "  background-position: center center;\n",
       "}\n",
       "\n",
       "/* Parallel-specific style estimator block */\n",
       "\n",
       "#sk-container-id-1 div.sk-parallel-item::after {\n",
       "  content: \"\";\n",
       "  width: 100%;\n",
       "  border-bottom: 2px solid var(--sklearn-color-text-on-default-background);\n",
       "  flex-grow: 1;\n",
       "}\n",
       "\n",
       "#sk-container-id-1 div.sk-parallel {\n",
       "  display: flex;\n",
       "  align-items: stretch;\n",
       "  justify-content: center;\n",
       "  background-color: var(--sklearn-color-background);\n",
       "  position: relative;\n",
       "}\n",
       "\n",
       "#sk-container-id-1 div.sk-parallel-item {\n",
       "  display: flex;\n",
       "  flex-direction: column;\n",
       "}\n",
       "\n",
       "#sk-container-id-1 div.sk-parallel-item:first-child::after {\n",
       "  align-self: flex-end;\n",
       "  width: 50%;\n",
       "}\n",
       "\n",
       "#sk-container-id-1 div.sk-parallel-item:last-child::after {\n",
       "  align-self: flex-start;\n",
       "  width: 50%;\n",
       "}\n",
       "\n",
       "#sk-container-id-1 div.sk-parallel-item:only-child::after {\n",
       "  width: 0;\n",
       "}\n",
       "\n",
       "/* Serial-specific style estimator block */\n",
       "\n",
       "#sk-container-id-1 div.sk-serial {\n",
       "  display: flex;\n",
       "  flex-direction: column;\n",
       "  align-items: center;\n",
       "  background-color: var(--sklearn-color-background);\n",
       "  padding-right: 1em;\n",
       "  padding-left: 1em;\n",
       "}\n",
       "\n",
       "\n",
       "/* Toggleable style: style used for estimator/Pipeline/ColumnTransformer box that is\n",
       "clickable and can be expanded/collapsed.\n",
       "- Pipeline and ColumnTransformer use this feature and define the default style\n",
       "- Estimators will overwrite some part of the style using the `sk-estimator` class\n",
       "*/\n",
       "\n",
       "/* Pipeline and ColumnTransformer style (default) */\n",
       "\n",
       "#sk-container-id-1 div.sk-toggleable {\n",
       "  /* Default theme specific background. It is overwritten whether we have a\n",
       "  specific estimator or a Pipeline/ColumnTransformer */\n",
       "  background-color: var(--sklearn-color-background);\n",
       "}\n",
       "\n",
       "/* Toggleable label */\n",
       "#sk-container-id-1 label.sk-toggleable__label {\n",
       "  cursor: pointer;\n",
       "  display: flex;\n",
       "  width: 100%;\n",
       "  margin-bottom: 0;\n",
       "  padding: 0.5em;\n",
       "  box-sizing: border-box;\n",
       "  text-align: center;\n",
       "  align-items: start;\n",
       "  justify-content: space-between;\n",
       "  gap: 0.5em;\n",
       "}\n",
       "\n",
       "#sk-container-id-1 label.sk-toggleable__label .caption {\n",
       "  font-size: 0.6rem;\n",
       "  font-weight: lighter;\n",
       "  color: var(--sklearn-color-text-muted);\n",
       "}\n",
       "\n",
       "#sk-container-id-1 label.sk-toggleable__label-arrow:before {\n",
       "  /* Arrow on the left of the label */\n",
       "  content: \"▸\";\n",
       "  float: left;\n",
       "  margin-right: 0.25em;\n",
       "  color: var(--sklearn-color-icon);\n",
       "}\n",
       "\n",
       "#sk-container-id-1 label.sk-toggleable__label-arrow:hover:before {\n",
       "  color: var(--sklearn-color-text);\n",
       "}\n",
       "\n",
       "/* Toggleable content - dropdown */\n",
       "\n",
       "#sk-container-id-1 div.sk-toggleable__content {\n",
       "  display: none;\n",
       "  text-align: left;\n",
       "  /* unfitted */\n",
       "  background-color: var(--sklearn-color-unfitted-level-0);\n",
       "}\n",
       "\n",
       "#sk-container-id-1 div.sk-toggleable__content.fitted {\n",
       "  /* fitted */\n",
       "  background-color: var(--sklearn-color-fitted-level-0);\n",
       "}\n",
       "\n",
       "#sk-container-id-1 div.sk-toggleable__content pre {\n",
       "  margin: 0.2em;\n",
       "  border-radius: 0.25em;\n",
       "  color: var(--sklearn-color-text);\n",
       "  /* unfitted */\n",
       "  background-color: var(--sklearn-color-unfitted-level-0);\n",
       "}\n",
       "\n",
       "#sk-container-id-1 div.sk-toggleable__content.fitted pre {\n",
       "  /* unfitted */\n",
       "  background-color: var(--sklearn-color-fitted-level-0);\n",
       "}\n",
       "\n",
       "#sk-container-id-1 input.sk-toggleable__control:checked~div.sk-toggleable__content {\n",
       "  /* Expand drop-down */\n",
       "  display: block;\n",
       "  width: 100%;\n",
       "  overflow: visible;\n",
       "}\n",
       "\n",
       "#sk-container-id-1 input.sk-toggleable__control:checked~label.sk-toggleable__label-arrow:before {\n",
       "  content: \"▾\";\n",
       "}\n",
       "\n",
       "/* Pipeline/ColumnTransformer-specific style */\n",
       "\n",
       "#sk-container-id-1 div.sk-label input.sk-toggleable__control:checked~label.sk-toggleable__label {\n",
       "  color: var(--sklearn-color-text);\n",
       "  background-color: var(--sklearn-color-unfitted-level-2);\n",
       "}\n",
       "\n",
       "#sk-container-id-1 div.sk-label.fitted input.sk-toggleable__control:checked~label.sk-toggleable__label {\n",
       "  background-color: var(--sklearn-color-fitted-level-2);\n",
       "}\n",
       "\n",
       "/* Estimator-specific style */\n",
       "\n",
       "/* Colorize estimator box */\n",
       "#sk-container-id-1 div.sk-estimator input.sk-toggleable__control:checked~label.sk-toggleable__label {\n",
       "  /* unfitted */\n",
       "  background-color: var(--sklearn-color-unfitted-level-2);\n",
       "}\n",
       "\n",
       "#sk-container-id-1 div.sk-estimator.fitted input.sk-toggleable__control:checked~label.sk-toggleable__label {\n",
       "  /* fitted */\n",
       "  background-color: var(--sklearn-color-fitted-level-2);\n",
       "}\n",
       "\n",
       "#sk-container-id-1 div.sk-label label.sk-toggleable__label,\n",
       "#sk-container-id-1 div.sk-label label {\n",
       "  /* The background is the default theme color */\n",
       "  color: var(--sklearn-color-text-on-default-background);\n",
       "}\n",
       "\n",
       "/* On hover, darken the color of the background */\n",
       "#sk-container-id-1 div.sk-label:hover label.sk-toggleable__label {\n",
       "  color: var(--sklearn-color-text);\n",
       "  background-color: var(--sklearn-color-unfitted-level-2);\n",
       "}\n",
       "\n",
       "/* Label box, darken color on hover, fitted */\n",
       "#sk-container-id-1 div.sk-label.fitted:hover label.sk-toggleable__label.fitted {\n",
       "  color: var(--sklearn-color-text);\n",
       "  background-color: var(--sklearn-color-fitted-level-2);\n",
       "}\n",
       "\n",
       "/* Estimator label */\n",
       "\n",
       "#sk-container-id-1 div.sk-label label {\n",
       "  font-family: monospace;\n",
       "  font-weight: bold;\n",
       "  display: inline-block;\n",
       "  line-height: 1.2em;\n",
       "}\n",
       "\n",
       "#sk-container-id-1 div.sk-label-container {\n",
       "  text-align: center;\n",
       "}\n",
       "\n",
       "/* Estimator-specific */\n",
       "#sk-container-id-1 div.sk-estimator {\n",
       "  font-family: monospace;\n",
       "  border: 1px dotted var(--sklearn-color-border-box);\n",
       "  border-radius: 0.25em;\n",
       "  box-sizing: border-box;\n",
       "  margin-bottom: 0.5em;\n",
       "  /* unfitted */\n",
       "  background-color: var(--sklearn-color-unfitted-level-0);\n",
       "}\n",
       "\n",
       "#sk-container-id-1 div.sk-estimator.fitted {\n",
       "  /* fitted */\n",
       "  background-color: var(--sklearn-color-fitted-level-0);\n",
       "}\n",
       "\n",
       "/* on hover */\n",
       "#sk-container-id-1 div.sk-estimator:hover {\n",
       "  /* unfitted */\n",
       "  background-color: var(--sklearn-color-unfitted-level-2);\n",
       "}\n",
       "\n",
       "#sk-container-id-1 div.sk-estimator.fitted:hover {\n",
       "  /* fitted */\n",
       "  background-color: var(--sklearn-color-fitted-level-2);\n",
       "}\n",
       "\n",
       "/* Specification for estimator info (e.g. \"i\" and \"?\") */\n",
       "\n",
       "/* Common style for \"i\" and \"?\" */\n",
       "\n",
       ".sk-estimator-doc-link,\n",
       "a:link.sk-estimator-doc-link,\n",
       "a:visited.sk-estimator-doc-link {\n",
       "  float: right;\n",
       "  font-size: smaller;\n",
       "  line-height: 1em;\n",
       "  font-family: monospace;\n",
       "  background-color: var(--sklearn-color-background);\n",
       "  border-radius: 1em;\n",
       "  height: 1em;\n",
       "  width: 1em;\n",
       "  text-decoration: none !important;\n",
       "  margin-left: 0.5em;\n",
       "  text-align: center;\n",
       "  /* unfitted */\n",
       "  border: var(--sklearn-color-unfitted-level-1) 1pt solid;\n",
       "  color: var(--sklearn-color-unfitted-level-1);\n",
       "}\n",
       "\n",
       ".sk-estimator-doc-link.fitted,\n",
       "a:link.sk-estimator-doc-link.fitted,\n",
       "a:visited.sk-estimator-doc-link.fitted {\n",
       "  /* fitted */\n",
       "  border: var(--sklearn-color-fitted-level-1) 1pt solid;\n",
       "  color: var(--sklearn-color-fitted-level-1);\n",
       "}\n",
       "\n",
       "/* On hover */\n",
       "div.sk-estimator:hover .sk-estimator-doc-link:hover,\n",
       ".sk-estimator-doc-link:hover,\n",
       "div.sk-label-container:hover .sk-estimator-doc-link:hover,\n",
       ".sk-estimator-doc-link:hover {\n",
       "  /* unfitted */\n",
       "  background-color: var(--sklearn-color-unfitted-level-3);\n",
       "  color: var(--sklearn-color-background);\n",
       "  text-decoration: none;\n",
       "}\n",
       "\n",
       "div.sk-estimator.fitted:hover .sk-estimator-doc-link.fitted:hover,\n",
       ".sk-estimator-doc-link.fitted:hover,\n",
       "div.sk-label-container:hover .sk-estimator-doc-link.fitted:hover,\n",
       ".sk-estimator-doc-link.fitted:hover {\n",
       "  /* fitted */\n",
       "  background-color: var(--sklearn-color-fitted-level-3);\n",
       "  color: var(--sklearn-color-background);\n",
       "  text-decoration: none;\n",
       "}\n",
       "\n",
       "/* Span, style for the box shown on hovering the info icon */\n",
       ".sk-estimator-doc-link span {\n",
       "  display: none;\n",
       "  z-index: 9999;\n",
       "  position: relative;\n",
       "  font-weight: normal;\n",
       "  right: .2ex;\n",
       "  padding: .5ex;\n",
       "  margin: .5ex;\n",
       "  width: min-content;\n",
       "  min-width: 20ex;\n",
       "  max-width: 50ex;\n",
       "  color: var(--sklearn-color-text);\n",
       "  box-shadow: 2pt 2pt 4pt #999;\n",
       "  /* unfitted */\n",
       "  background: var(--sklearn-color-unfitted-level-0);\n",
       "  border: .5pt solid var(--sklearn-color-unfitted-level-3);\n",
       "}\n",
       "\n",
       ".sk-estimator-doc-link.fitted span {\n",
       "  /* fitted */\n",
       "  background: var(--sklearn-color-fitted-level-0);\n",
       "  border: var(--sklearn-color-fitted-level-3);\n",
       "}\n",
       "\n",
       ".sk-estimator-doc-link:hover span {\n",
       "  display: block;\n",
       "}\n",
       "\n",
       "/* \"?\"-specific style due to the `<a>` HTML tag */\n",
       "\n",
       "#sk-container-id-1 a.estimator_doc_link {\n",
       "  float: right;\n",
       "  font-size: 1rem;\n",
       "  line-height: 1em;\n",
       "  font-family: monospace;\n",
       "  background-color: var(--sklearn-color-background);\n",
       "  border-radius: 1rem;\n",
       "  height: 1rem;\n",
       "  width: 1rem;\n",
       "  text-decoration: none;\n",
       "  /* unfitted */\n",
       "  color: var(--sklearn-color-unfitted-level-1);\n",
       "  border: var(--sklearn-color-unfitted-level-1) 1pt solid;\n",
       "}\n",
       "\n",
       "#sk-container-id-1 a.estimator_doc_link.fitted {\n",
       "  /* fitted */\n",
       "  border: var(--sklearn-color-fitted-level-1) 1pt solid;\n",
       "  color: var(--sklearn-color-fitted-level-1);\n",
       "}\n",
       "\n",
       "/* On hover */\n",
       "#sk-container-id-1 a.estimator_doc_link:hover {\n",
       "  /* unfitted */\n",
       "  background-color: var(--sklearn-color-unfitted-level-3);\n",
       "  color: var(--sklearn-color-background);\n",
       "  text-decoration: none;\n",
       "}\n",
       "\n",
       "#sk-container-id-1 a.estimator_doc_link.fitted:hover {\n",
       "  /* fitted */\n",
       "  background-color: var(--sklearn-color-fitted-level-3);\n",
       "}\n",
       "\n",
       ".estimator-table summary {\n",
       "    padding: .5rem;\n",
       "    font-family: monospace;\n",
       "    cursor: pointer;\n",
       "}\n",
       "\n",
       ".estimator-table details[open] {\n",
       "    padding-left: 0.1rem;\n",
       "    padding-right: 0.1rem;\n",
       "    padding-bottom: 0.3rem;\n",
       "}\n",
       "\n",
       ".estimator-table .parameters-table {\n",
       "    margin-left: auto !important;\n",
       "    margin-right: auto !important;\n",
       "}\n",
       "\n",
       ".estimator-table .parameters-table tr:nth-child(odd) {\n",
       "    background-color: #fff;\n",
       "}\n",
       "\n",
       ".estimator-table .parameters-table tr:nth-child(even) {\n",
       "    background-color: #f6f6f6;\n",
       "}\n",
       "\n",
       ".estimator-table .parameters-table tr:hover {\n",
       "    background-color: #e0e0e0;\n",
       "}\n",
       "\n",
       ".estimator-table table td {\n",
       "    border: 1px solid rgba(106, 105, 104, 0.232);\n",
       "}\n",
       "\n",
       ".user-set td {\n",
       "    color:rgb(255, 94, 0);\n",
       "    text-align: left;\n",
       "}\n",
       "\n",
       ".user-set td.value pre {\n",
       "    color:rgb(255, 94, 0) !important;\n",
       "    background-color: transparent !important;\n",
       "}\n",
       "\n",
       ".default td {\n",
       "    color: black;\n",
       "    text-align: left;\n",
       "}\n",
       "\n",
       ".user-set td i,\n",
       ".default td i {\n",
       "    color: black;\n",
       "}\n",
       "\n",
       ".copy-paste-icon {\n",
       "    background-image: url(data:image/svg+xml;base64,PHN2ZyB4bWxucz0iaHR0cDovL3d3dy53My5vcmcvMjAwMC9zdmciIHZpZXdCb3g9IjAgMCA0NDggNTEyIj48IS0tIUZvbnQgQXdlc29tZSBGcmVlIDYuNy4yIGJ5IEBmb250YXdlc29tZSAtIGh0dHBzOi8vZm9udGF3ZXNvbWUuY29tIExpY2Vuc2UgLSBodHRwczovL2ZvbnRhd2Vzb21lLmNvbS9saWNlbnNlL2ZyZWUgQ29weXJpZ2h0IDIwMjUgRm9udGljb25zLCBJbmMuLS0+PHBhdGggZD0iTTIwOCAwTDMzMi4xIDBjMTIuNyAwIDI0LjkgNS4xIDMzLjkgMTQuMWw2Ny45IDY3LjljOSA5IDE0LjEgMjEuMiAxNC4xIDMzLjlMNDQ4IDMzNmMwIDI2LjUtMjEuNSA0OC00OCA0OGwtMTkyIDBjLTI2LjUgMC00OC0yMS41LTQ4LTQ4bDAtMjg4YzAtMjYuNSAyMS41LTQ4IDQ4LTQ4ek00OCAxMjhsODAgMCAwIDY0LTY0IDAgMCAyNTYgMTkyIDAgMC0zMiA2NCAwIDAgNDhjMCAyNi41LTIxLjUgNDgtNDggNDhMNDggNTEyYy0yNi41IDAtNDgtMjEuNS00OC00OEwwIDE3NmMwLTI2LjUgMjEuNS00OCA0OC00OHoiLz48L3N2Zz4=);\n",
       "    background-repeat: no-repeat;\n",
       "    background-size: 14px 14px;\n",
       "    background-position: 0;\n",
       "    display: inline-block;\n",
       "    width: 14px;\n",
       "    height: 14px;\n",
       "    cursor: pointer;\n",
       "}\n",
       "</style><body><div id=\"sk-container-id-1\" class=\"sk-top-container\"><div class=\"sk-text-repr-fallback\"><pre>AgglomerativeClustering(n_clusters=150)</pre><b>In a Jupyter environment, please rerun this cell to show the HTML representation or trust the notebook. <br />On GitHub, the HTML representation is unable to render, please try loading this page with nbviewer.org.</b></div><div class=\"sk-container\" hidden><div class=\"sk-item\"><div class=\"sk-estimator fitted sk-toggleable\"><input class=\"sk-toggleable__control sk-hidden--visually\" id=\"sk-estimator-id-1\" type=\"checkbox\" checked><label for=\"sk-estimator-id-1\" class=\"sk-toggleable__label fitted sk-toggleable__label-arrow\"><div><div>AgglomerativeClustering</div></div><div><a class=\"sk-estimator-doc-link fitted\" rel=\"noreferrer\" target=\"_blank\" href=\"https://scikit-learn.org/1.7/modules/generated/sklearn.cluster.AgglomerativeClustering.html\">?<span>Documentation for AgglomerativeClustering</span></a><span class=\"sk-estimator-doc-link fitted\">i<span>Fitted</span></span></div></label><div class=\"sk-toggleable__content fitted\" data-param-prefix=\"\">\n",
       "        <div class=\"estimator-table\">\n",
       "            <details>\n",
       "                <summary>Parameters</summary>\n",
       "                <table class=\"parameters-table\">\n",
       "                  <tbody>\n",
       "                    \n",
       "        <tr class=\"user-set\">\n",
       "            <td><i class=\"copy-paste-icon\"\n",
       "                 onclick=\"copyToClipboard('n_clusters',\n",
       "                          this.parentElement.nextElementSibling)\"\n",
       "            ></i></td>\n",
       "            <td class=\"param\">n_clusters&nbsp;</td>\n",
       "            <td class=\"value\">150</td>\n",
       "        </tr>\n",
       "    \n",
       "\n",
       "        <tr class=\"default\">\n",
       "            <td><i class=\"copy-paste-icon\"\n",
       "                 onclick=\"copyToClipboard('metric',\n",
       "                          this.parentElement.nextElementSibling)\"\n",
       "            ></i></td>\n",
       "            <td class=\"param\">metric&nbsp;</td>\n",
       "            <td class=\"value\">&#x27;euclidean&#x27;</td>\n",
       "        </tr>\n",
       "    \n",
       "\n",
       "        <tr class=\"default\">\n",
       "            <td><i class=\"copy-paste-icon\"\n",
       "                 onclick=\"copyToClipboard('memory',\n",
       "                          this.parentElement.nextElementSibling)\"\n",
       "            ></i></td>\n",
       "            <td class=\"param\">memory&nbsp;</td>\n",
       "            <td class=\"value\">None</td>\n",
       "        </tr>\n",
       "    \n",
       "\n",
       "        <tr class=\"default\">\n",
       "            <td><i class=\"copy-paste-icon\"\n",
       "                 onclick=\"copyToClipboard('connectivity',\n",
       "                          this.parentElement.nextElementSibling)\"\n",
       "            ></i></td>\n",
       "            <td class=\"param\">connectivity&nbsp;</td>\n",
       "            <td class=\"value\">None</td>\n",
       "        </tr>\n",
       "    \n",
       "\n",
       "        <tr class=\"default\">\n",
       "            <td><i class=\"copy-paste-icon\"\n",
       "                 onclick=\"copyToClipboard('compute_full_tree',\n",
       "                          this.parentElement.nextElementSibling)\"\n",
       "            ></i></td>\n",
       "            <td class=\"param\">compute_full_tree&nbsp;</td>\n",
       "            <td class=\"value\">&#x27;auto&#x27;</td>\n",
       "        </tr>\n",
       "    \n",
       "\n",
       "        <tr class=\"default\">\n",
       "            <td><i class=\"copy-paste-icon\"\n",
       "                 onclick=\"copyToClipboard('linkage',\n",
       "                          this.parentElement.nextElementSibling)\"\n",
       "            ></i></td>\n",
       "            <td class=\"param\">linkage&nbsp;</td>\n",
       "            <td class=\"value\">&#x27;ward&#x27;</td>\n",
       "        </tr>\n",
       "    \n",
       "\n",
       "        <tr class=\"default\">\n",
       "            <td><i class=\"copy-paste-icon\"\n",
       "                 onclick=\"copyToClipboard('distance_threshold',\n",
       "                          this.parentElement.nextElementSibling)\"\n",
       "            ></i></td>\n",
       "            <td class=\"param\">distance_threshold&nbsp;</td>\n",
       "            <td class=\"value\">None</td>\n",
       "        </tr>\n",
       "    \n",
       "\n",
       "        <tr class=\"default\">\n",
       "            <td><i class=\"copy-paste-icon\"\n",
       "                 onclick=\"copyToClipboard('compute_distances',\n",
       "                          this.parentElement.nextElementSibling)\"\n",
       "            ></i></td>\n",
       "            <td class=\"param\">compute_distances&nbsp;</td>\n",
       "            <td class=\"value\">False</td>\n",
       "        </tr>\n",
       "    \n",
       "                  </tbody>\n",
       "                </table>\n",
       "            </details>\n",
       "        </div>\n",
       "    </div></div></div></div></div><script>function copyToClipboard(text, element) {\n",
       "    // Get the parameter prefix from the closest toggleable content\n",
       "    const toggleableContent = element.closest('.sk-toggleable__content');\n",
       "    const paramPrefix = toggleableContent ? toggleableContent.dataset.paramPrefix : '';\n",
       "    const fullParamName = paramPrefix ? `${paramPrefix}${text}` : text;\n",
       "\n",
       "    const originalStyle = element.style;\n",
       "    const computedStyle = window.getComputedStyle(element);\n",
       "    const originalWidth = computedStyle.width;\n",
       "    const originalHTML = element.innerHTML.replace('Copied!', '');\n",
       "\n",
       "    navigator.clipboard.writeText(fullParamName)\n",
       "        .then(() => {\n",
       "            element.style.width = originalWidth;\n",
       "            element.style.color = 'green';\n",
       "            element.innerHTML = \"Copied!\";\n",
       "\n",
       "            setTimeout(() => {\n",
       "                element.innerHTML = originalHTML;\n",
       "                element.style = originalStyle;\n",
       "            }, 2000);\n",
       "        })\n",
       "        .catch(err => {\n",
       "            console.error('Failed to copy:', err);\n",
       "            element.style.color = 'red';\n",
       "            element.innerHTML = \"Failed!\";\n",
       "            setTimeout(() => {\n",
       "                element.innerHTML = originalHTML;\n",
       "                element.style = originalStyle;\n",
       "            }, 2000);\n",
       "        });\n",
       "    return false;\n",
       "}\n",
       "\n",
       "document.querySelectorAll('.fa-regular.fa-copy').forEach(function(element) {\n",
       "    const toggleableContent = element.closest('.sk-toggleable__content');\n",
       "    const paramPrefix = toggleableContent ? toggleableContent.dataset.paramPrefix : '';\n",
       "    const paramName = element.parentElement.nextElementSibling.textContent.trim();\n",
       "    const fullParamName = paramPrefix ? `${paramPrefix}${paramName}` : paramName;\n",
       "\n",
       "    element.setAttribute('title', fullParamName);\n",
       "});\n",
       "</script></body>"
      ],
      "text/plain": [
       "AgglomerativeClustering(n_clusters=150)"
      ]
     },
     "execution_count": 28,
     "metadata": {},
     "output_type": "execute_result"
    }
   ],
   "source": [
    "# Treinar Modelo\n",
    "\n",
    "best_model.fit(X_transformed)"
   ]
  },
  {
   "cell_type": "code",
   "execution_count": 29,
   "id": "836fb672",
   "metadata": {},
   "outputs": [
    {
     "data": {
      "text/plain": [
       "0.13129813063305099"
      ]
     },
     "execution_count": 29,
     "metadata": {},
     "output_type": "execute_result"
    }
   ],
   "source": [
    "# Verificar Silhouette Score\n",
    "\n",
    "best_score = silhouette_score(X_transformed, best_model.labels_)\n",
    "best_score"
   ]
  },
  {
   "cell_type": "code",
   "execution_count": null,
   "id": "e43d8b57",
   "metadata": {},
   "outputs": [],
   "source": [
    "# Criar Coluna com cluster escolhido no Dataframe original\n",
    "\n",
    "df_species['cluster'] = best_model.labels_"
   ]
  },
  {
   "cell_type": "markdown",
   "id": "3f9e72a5",
   "metadata": {},
   "source": [
    "### Visualizar Resultados"
   ]
  },
  {
   "cell_type": "code",
   "execution_count": 32,
   "id": "42b26d77",
   "metadata": {},
   "outputs": [
    {
     "data": {
      "application/vnd.plotly.v1+json": {
       "config": {
        "plotlyServerURL": "https://plot.ly"
       },
       "data": [
        {
         "mode": "markers",
         "name": "Objective Value",
         "type": "scatter",
         "x": [
          1,
          2,
          3,
          4,
          5,
          6,
          7,
          8,
          9,
          10,
          11,
          12,
          13,
          14,
          15,
          16,
          17,
          18,
          19,
          20,
          21,
          22,
          23,
          24,
          25,
          26,
          27,
          28,
          29,
          30,
          31,
          32,
          33,
          34,
          35,
          36,
          37,
          38,
          39,
          40,
          41,
          42,
          43,
          44,
          45,
          46,
          47,
          48,
          49,
          50,
          51,
          52,
          53,
          54,
          55,
          56,
          57,
          58,
          59,
          60,
          61,
          62,
          63,
          64,
          65,
          66,
          67,
          68,
          69,
          70,
          71,
          72,
          73,
          74,
          75,
          76,
          77,
          78,
          79,
          80,
          81,
          82,
          83,
          84,
          85,
          86,
          87,
          88,
          89,
          90,
          91,
          92,
          93,
          94,
          95,
          96,
          97,
          98,
          99,
          100,
          101,
          102,
          103,
          104,
          105,
          106,
          107,
          108,
          109,
          110,
          111,
          112,
          113,
          114,
          115,
          116,
          117,
          118,
          119,
          120,
          121,
          122,
          123,
          124,
          125,
          126,
          127,
          128,
          129,
          130,
          131,
          132,
          133,
          134,
          135,
          136,
          137,
          138,
          139,
          140,
          141,
          142,
          143,
          144,
          145,
          146,
          147,
          148,
          149,
          150,
          151,
          152,
          153,
          154,
          155,
          156,
          157,
          158,
          159,
          160,
          161,
          162,
          163,
          164,
          165,
          166,
          167,
          168,
          169,
          170,
          171,
          172,
          173,
          174,
          175,
          176,
          177,
          178,
          179,
          180,
          181,
          182,
          183,
          184,
          185,
          186,
          187,
          188,
          189,
          190,
          191,
          192,
          193,
          194,
          195,
          196,
          197,
          198,
          199,
          200,
          201,
          202,
          203,
          204,
          205,
          206,
          207,
          208,
          209,
          210,
          211,
          212,
          213,
          214,
          215,
          216,
          217,
          218,
          219,
          220,
          221,
          222,
          223,
          224,
          225,
          226,
          227,
          228,
          229,
          230,
          231,
          232,
          233,
          234,
          235,
          236,
          237,
          238,
          239,
          240,
          241,
          242,
          243,
          244,
          245,
          246,
          247,
          248,
          249,
          250,
          251,
          252,
          253,
          254,
          255,
          256,
          257,
          258,
          259,
          260,
          261,
          262,
          263,
          264,
          265,
          266,
          267,
          268,
          269,
          270,
          271,
          272,
          273,
          274,
          275,
          276,
          277,
          278,
          279,
          280,
          281,
          282,
          283,
          284,
          285,
          286,
          287,
          288,
          289,
          290,
          291,
          292,
          293,
          294,
          295,
          296,
          297,
          298,
          299,
          300,
          301,
          302,
          303,
          304,
          305,
          306,
          307,
          308,
          309,
          310,
          311,
          312,
          313,
          314,
          315,
          316,
          317,
          318,
          319,
          320,
          321,
          322,
          323,
          324,
          325,
          326,
          327,
          328,
          329,
          330,
          331,
          332,
          333,
          334,
          335,
          336,
          337,
          338,
          339,
          340,
          341,
          342,
          343,
          344,
          345,
          346,
          347,
          348,
          349,
          350,
          351,
          352,
          353,
          354,
          355,
          356,
          357,
          358,
          359,
          360,
          361,
          362,
          363,
          364,
          365,
          366,
          367,
          368,
          369,
          370,
          371,
          372,
          373,
          374,
          375,
          376,
          377,
          378,
          379,
          380,
          381,
          382,
          383,
          384,
          385,
          386,
          387,
          388,
          389,
          390,
          391,
          392,
          393,
          394,
          395,
          396,
          397,
          398,
          399,
          400,
          401,
          402,
          403,
          404,
          405,
          406,
          407,
          408,
          409,
          410,
          411,
          412,
          413,
          414,
          415,
          416,
          417,
          418,
          419,
          420,
          421,
          422,
          423,
          424,
          425,
          426,
          427,
          428,
          429,
          430,
          431,
          432,
          433,
          434,
          435,
          436,
          437,
          438,
          439,
          440,
          441,
          442,
          443,
          444,
          445,
          446,
          447,
          448,
          449,
          450,
          451,
          452,
          453,
          454,
          455,
          456,
          457,
          458,
          459,
          460,
          461,
          462,
          463,
          464,
          465,
          466,
          467,
          468,
          469,
          470,
          471,
          472,
          473,
          474,
          475,
          476,
          477,
          478,
          479,
          480,
          481,
          482,
          483,
          484,
          485,
          486,
          487,
          488,
          489,
          490,
          491,
          492,
          493,
          494,
          495,
          496,
          497,
          498,
          499,
          500,
          501,
          502,
          503,
          504,
          505,
          506,
          507,
          508,
          509,
          510,
          511,
          512,
          513,
          514,
          515,
          516,
          517,
          518,
          519,
          520,
          521,
          522,
          523,
          524,
          525,
          526,
          527,
          528,
          529,
          530,
          531,
          532,
          533,
          534,
          535,
          536,
          537,
          538,
          539,
          540,
          541,
          542,
          543,
          544,
          545,
          546,
          547,
          548,
          549,
          550,
          551,
          552,
          553,
          554,
          555,
          556,
          557,
          558,
          559,
          560,
          561,
          562,
          563
         ],
         "y": [
          0.06952264766223992,
          0.07090101644156098,
          0.06751505762324567,
          0.11399187022420045,
          0.0990955747361001,
          0.11365035349814018,
          0.09626353167471194,
          -0.1760176513817061,
          0.09221484044188469,
          0.0803223472919918,
          0.0927516692965339,
          -0.17318610727112732,
          0.09487138436025044,
          0.08304502237594771,
          0.08005037304437293,
          0.11200301901968722,
          0.10200216640894681,
          0.0875315494911424,
          0.050315799545952784,
          -0.12884078099103818,
          0.09272617607054601,
          0.10655439354161586,
          0.11958865187799167,
          0.08604513494454769,
          0.09613093860502407,
          0.0334606478807099,
          -0.17424876868732644,
          0.07050178796764982,
          0.10872014097532037,
          0.07127283030030662,
          0.07942679264529871,
          0.07671617806453464,
          -0.1776009011958354,
          0.11309800805073185,
          0.11950282458049746,
          0.11954693700553719,
          0.10701013391623143,
          0.11150035373265851,
          -0.12010472865954061,
          0.11469322713009106,
          0.1119581962037191,
          -0.1814049281453585,
          0.06951508447953654,
          0.07463061715780107,
          -0.1446457944902942,
          0.04794245338930521,
          0.07183401182548034,
          0.08670183522532403,
          0.05445688700827407,
          -0.17846581189715502,
          -0.13169758643066043,
          0.1203441000216541,
          0.08028951378426949,
          0.09554954570949574,
          0.059465152180445034,
          0.05420528042792718,
          0.13129813063305099,
          0.08311123244251752,
          0.11169784692405611,
          0.08369326831836449,
          0.10519309652838627,
          0.09365387933139178,
          0.09897206604241736,
          0.0982375855761375,
          -0.11928056340338127,
          -0.17980335911704626,
          0.09392838333482928,
          0.09501535469908613,
          -0.1611524521926612,
          0.03735569549616969,
          0.06714790991867908,
          -0.18314184950837722,
          -0.11810505577374085,
          0.09804213021860288,
          0.12403980238082724,
          0.06666720843893166,
          0.08429169251445238,
          0.09696725182370365,
          -0.1488739002007592,
          -0.1766182766453794,
          0.08886323774043924,
          0.12884557396879123,
          0.10556811736843578,
          0.10102936202088306,
          0.11136219716865645,
          0.07444377241052878,
          0.1156025563933478,
          -0.17514308235527673,
          -0.14939566322702283,
          -0.17333894050102625,
          0.09303157540235475,
          0.09993580455830471,
          0.06161462504199894,
          0.07469854212112573,
          0.07351456275045912,
          0.11630313704225581,
          0.0941736421027184,
          0.058381442201211275,
          0.10657917838765722,
          0.11032282289548717,
          0.08837706818676629,
          0.08978242904719898,
          -0.17980061632253952,
          -0.019447010641351115,
          -0.1786101849321544,
          -0.17780859629510964,
          -0.16068483486772675,
          0.07503984387526583,
          -0.17698489950690424,
          0.06826762906582598,
          0.048447005494177076,
          0.088509018342439,
          0.0811655858338508,
          0.07170038521238943,
          -0.14007246336691187,
          0.07613522800400169,
          -0.17927063618813105,
          -0.17529831482025632,
          0.08282531999076587,
          -0.17502376819484936,
          0.08263854296513701,
          0.12322722423895378,
          0.07695737107263703,
          0.10793372292236446,
          -0.18293850088893493,
          0.07465307075542846,
          0.045748830241667926,
          0.1280913526165009,
          -0.15042043883537545,
          -0.1700055232697918,
          0.1022977028286518,
          0.04594730855377755,
          0.08821211276202462,
          0.12239253140491968,
          -0.1507907963640332,
          0.07037240353280871,
          0.05157250989394419,
          0.10382189119865565,
          0.020529027084368975,
          0.12759403350552095,
          0.11235400040217006,
          0.06908050210928808,
          0.09490202012257293,
          0.08619964446813544,
          -0.014970246950731585,
          0.12954353509106414,
          0.09557476835019345,
          0.07824979520957522,
          0.10440313770460558,
          -0.17771960576327278,
          0.07236665944272445,
          -0.16311328931377514,
          -0.1812376643150822,
          -0.1767437711790757,
          0.1188737374907193,
          0.117342475919012,
          0.08902992443140584,
          0.037042483296920566,
          0.09775083540064496,
          0.09080555697952854,
          0.06874009121926118,
          0.09962012401201036,
          0.1189745769347024,
          0.09313074317364167,
          -0.17444349625063327,
          0.07834480716168839,
          0.07389176903410231,
          0.10007014697111778,
          -0.014868791959174113,
          0.10193815870926329,
          0.07641192629076245,
          0.07415753614180667,
          0.09192145907768788,
          0.08742622814006488,
          0.08663147405471093,
          0.08095006257935543,
          0.08728241441716876,
          0.07768787342397701,
          0.09469300529880656,
          0.09443616239552284,
          0.09475330116745372,
          0.09284345476104931,
          0.07280595209000428,
          0.09406139051436548,
          0.08105320027967335,
          0.07529552135493281,
          -0.1831379954385807,
          0.12683359058338145,
          0.03803801007018856,
          0.06704444162889037,
          0.100845894508548,
          -0.14882647044386307,
          -0.18189397038874436,
          -0.17572385708521945,
          -0.15160439188608887,
          -0.09955863697817498,
          0.1135503613956304,
          0.08115107055650933,
          0.07678116566776846,
          0.09870236686988831,
          0.06703913101453234,
          -0.14512319378775018,
          -0.17851687356904086,
          0.04883492349840213,
          0.08468165997139702,
          0.09452738594039206,
          -0.17448936418608577,
          0.0831582927177686,
          0.0947184654078512,
          0.09819654172128267,
          -0.177543950411012,
          0.0984839975359851,
          0.1058153504907295,
          0.08724550377310795,
          0.06337384866542446,
          0.11614830469472295,
          0.06961513902870588,
          0.08010276198289559,
          0.1062922113574518,
          0.07247422069383058,
          -0.128822039999713,
          0.026851303378729673,
          0.09379696510050393,
          -0.15932965633092447,
          0.07587535988601313,
          0.0004494680819199,
          -0.1772976563930234,
          0.07597526663489705,
          0.1286917283212885,
          -0.14883920060700986,
          0.12557075429657977,
          -0.11965107688891725,
          0.0846672012230631,
          0.10486463842944017,
          0.07877606621361136,
          0.08162353065107855,
          0.05785473292437779,
          -0.18021478868113547,
          0.07983097147656937,
          0.07004298985416742,
          0.07973818928870542,
          0.0568289012971243,
          -0.15598151433638013,
          0.08408875884728206,
          -0.17439838585245201,
          0.10413985844430743,
          -0.17728383711877568,
          0.09426045859454182,
          0.12493424532841317,
          0.10983641463358242,
          -0.09955232963307428,
          0.09406863218226594,
          0.08201472310922026,
          0.07147082792151999,
          -0.16387728820731529,
          -0.17819854520034475,
          0.05691270209042616,
          -0.16998170170596727,
          0.09071130433539082,
          0.10364705938009398,
          0.0776695851232409,
          0.07131916575223077,
          0.07300844713737999,
          0.12403823465759288,
          0.08531323677973016,
          -0.12703082136182403,
          0.06305271521290488,
          0.11922136073136941,
          0.10203473768829724,
          0.104204063534561,
          0.11904320265267174,
          -0.17956885839426914,
          -0.17762322051542656,
          -0.15094529917110203,
          0.07492004039999688,
          0.11551593034841647,
          -0.17900528463308574,
          0.10866492148662729,
          -0.18024932419071954,
          0.08086105924225416,
          0.028012122108338845,
          0.007834102601028407,
          0.09562182012817494,
          -0.1753975600686531,
          0.08206821874938468,
          0.09212324998702687,
          0.06678901167899644,
          -0.18461008466825182,
          0.08606451468929154,
          0.08750658997151768,
          -0.17467642664157806,
          0.020857236810548626,
          0.048234560912610955,
          0.08830092943344325,
          -0.1809018081687726,
          0.03552454360666637,
          0.1230650525635526,
          0.059383659653164216,
          0.10113104464769722,
          0.06567697113453022,
          -0.17273522153988888,
          0.07078980991685,
          0.08329974418451708,
          -0.11830949266137357,
          0.08781405070481671,
          0.08323068768885394,
          0.12916833380186513,
          -0.048586490474122265,
          0.09202993706844632,
          0.08302589757301122,
          0.06809111707936609,
          -0.17787067769432904,
          -0.09538815396715096,
          0.09273506579444035,
          0.08759216266265141,
          0.12883101702507885,
          0.09454234128291951,
          0.11319457523764058,
          0.04449603395697406,
          0.09843966971915452,
          0.10265600782411269,
          0.07660896712032374,
          -0.18174522147158628,
          -0.17655927981429942,
          0.09416840659924147,
          0.09683579462486869,
          0.08578044891780232,
          0.05912407144818328,
          0.0548246242991463,
          0.10568550612221694,
          0.05155067812849667,
          0.09471921350956097,
          0.08614632235507727,
          0.08963807946129738,
          -0.12827826565448172,
          0.0014019205473570072,
          -0.06122231278086711,
          0.0671759532312727,
          -0.17944240428419736,
          0.08587263083132773,
          0.08776287062562714,
          0.11239540956757146,
          0.11336126774865932,
          0.05550939790059496,
          0.11312121859437932,
          -0.0213677036285335,
          0.13014329713901504,
          0.0824290600802137,
          0.11946938050144863,
          -0.06837281097373445,
          -0.0388690477783462,
          -0.07804636556018747,
          0.08274514262572089,
          -0.18179905152462236,
          0.07188763455244664,
          0.08195372481908218,
          -0.17949148010456875,
          0.07439831922949722,
          0.08678464919683283,
          0.09199421223897221,
          0.10522163053402539,
          0.08548764383583017,
          0.08217159159889025,
          0.05909776286361203,
          0.08831433026955207,
          0.12681537368410753,
          -0.18174237821619627,
          0.1217647347497392,
          0.06870922854309458,
          0.09512761011945539,
          -0.17807020001413013,
          0.09643682796395422,
          0.09985853137085011,
          -0.10567120554823246,
          0.10913294596559792,
          -0.15769012587180187,
          -0.15091101468843396,
          0.07243805715353904,
          0.07769235193844717,
          0.04500706396383362,
          0.0723084538224038,
          0.12563903861194944,
          0.09335568357155104,
          0.08784707032917058,
          -0.06888114141013349,
          0.05737771389372656,
          0.11056262978064685,
          0.12426703886684945,
          0.09051466361982641,
          0.10374340772444145,
          0.08491133926343139,
          0.12140863618500722,
          0.00887631290048682,
          0.038962308476669365,
          0.08100319659944528,
          0.028556595782025945,
          0.07365568972743981,
          0.12068884157739085,
          -0.17091163560187064,
          -0.0799971117025716,
          0.13066468901939982,
          0.09015051218416123,
          0.09304874849256511,
          0.08038259302493843,
          -0.11376264206297819,
          0.07054684423346264,
          0.07268472725580616,
          -0.17975765980145927,
          0.09469661388007308,
          0.11312490338840889,
          -0.18106946926937126,
          0.0845871577518826,
          0.07336075928476364,
          0.052909824922957836,
          -0.17071047192109656,
          0.09468608676929241,
          0.08617723440571234,
          0.08989225538809757,
          -0.1459893507509225,
          0.083860566485371,
          -0.06319457286182484,
          0.1271035603532354,
          0.09999861609070057,
          0.04359235149937747,
          0.10861462337341661,
          0.0734551709943738,
          0.0892493782292983,
          -0.17165498947667154,
          -0.169957704322404,
          0.10142065727621487,
          0.054550560602492755,
          -0.1767904600365421,
          0.07335446759903036,
          0.0937041877255313,
          0.10849941129503257,
          0.06573127289473181,
          0.09300775931667798,
          0.0760741728771634,
          0.08412514977102764,
          -0.15136571699912693,
          0.11202433988244852,
          0.0959102788537187,
          0.09563848086930656,
          0.07267073252921669,
          0.09991269225410385,
          0.09778837333945439,
          0.09504310000265782,
          0.11317057334474001,
          0.09931848436433635,
          0.07753933685576211,
          -0.18187049399676547,
          -0.18088057169104366,
          -0.17609276228808307,
          -0.1786439563902533,
          -0.11813100257466326,
          0.1261871590521184,
          0.08594116793701116,
          0.11235763593514207,
          0.10361590047715606,
          -0.17486688367211956,
          0.09237603714683433,
          0.12726153419785144,
          0.06875207973766213,
          0.08653184319460076,
          -0.1626390583068437,
          -0.16748545383865884,
          0.09807529991670966,
          0.08804261252772666,
          0.10162910510463154,
          0.0791380087698405,
          0.09618813856847544,
          0.07574602261271278,
          0.11005327880892113,
          0.08914124886410912,
          -0.13147031098339348,
          -0.17653958348249027,
          0.11819093558083556,
          0.09698156252601976,
          0.07947874318810505,
          0.05851664702532333,
          0.11259487480079158,
          0.04752811307069246,
          0.06437210531360392,
          0.08905780726574913,
          0.09313282418284584,
          0.1152196744876466,
          0.0795363624758927,
          0.11551687726880842,
          -0.16104919201489398,
          0.06610106333179255,
          0.07050087564797156,
          0.1042547111582721,
          0.05963531199633614,
          0.0995354216162362,
          0.07845225663044914,
          0.08970120204504696,
          0.1023093372632498,
          0.07522818202239134,
          0.10073039269815252,
          -0.1758498006670157,
          0.08990842973715762,
          0.012758714235713437,
          -0.014256241218663777,
          0.07468931325334852,
          -0.17538168472275847,
          0.0728410105083598,
          0.08355743042059459,
          -0.12983099388695749,
          0.1275569959767319,
          -0.17949851689783505,
          0.12750771273649478,
          0.09905864000657402,
          0.07320335081812145,
          0.07417028108297151,
          0.11129841159583245,
          0.10257182618904506,
          0.11634771583385697,
          0.10927049269255325,
          -0.012181149978898133,
          0.12478425379310508,
          0.046437658257183025,
          0.10064708798397089,
          0.06883427818315656,
          0.09365069660576583,
          -0.08285125112969854,
          0.09832100617859613,
          0.0984428947981716,
          0.07350678151682244,
          0.09857519255445539,
          -0.18293035354858905,
          0.09921788505705219,
          -0.17679459278598492,
          0.12740051807315875,
          0.08987384143592254,
          0.07318657852595012,
          -0.12812996535822524,
          -0.17520386038884775,
          0.04115650252150501,
          0.09378124693683083,
          0.09497935844993233,
          0.048968848392153125,
          -0.0034402679231110124,
          0.015222502808194751,
          0.06727086459945539,
          0.11865246675163799,
          -0.11810796605300238,
          -0.015092638038825233,
          0.12397117171736123,
          0.10538576923520473,
          -0.17907661968054578,
          0.06432705660228054,
          0.11278002682457607,
          -0.16954304197345998,
          -0.17830143380752786,
          0.06959849560717962,
          0.10304885877593864,
          -0.16237218947630908,
          0.10541447000485209,
          0.10305092061750935,
          0.0746339261600022,
          0.08320659595584988,
          0.074989336556847,
          -0.1498284626370417
         ]
        },
        {
         "mode": "lines",
         "name": "Best Value",
         "type": "scatter",
         "x": [
          0,
          1,
          2,
          3,
          4,
          5,
          6,
          7,
          8,
          9,
          10,
          11,
          12,
          13,
          14,
          15,
          16,
          17,
          18,
          19,
          20,
          21,
          22,
          23,
          24,
          25,
          26,
          27,
          28,
          29,
          30,
          31,
          32,
          33,
          34,
          35,
          36,
          37,
          38,
          39,
          40,
          41,
          42,
          43,
          44,
          45,
          46,
          47,
          48,
          49,
          50,
          51,
          52,
          53,
          54,
          55,
          56,
          57,
          58,
          59,
          60,
          61,
          62,
          63,
          64,
          65,
          66,
          67,
          68,
          69,
          70,
          71,
          72,
          73,
          74,
          75,
          76,
          77,
          78,
          79,
          80,
          81,
          82,
          83,
          84,
          85,
          86,
          87,
          88,
          89,
          90,
          91,
          92,
          93,
          94,
          95,
          96,
          97,
          98,
          99,
          100,
          101,
          102,
          103,
          104,
          105,
          106,
          107,
          108,
          109,
          110,
          111,
          112,
          113,
          114,
          115,
          116,
          117,
          118,
          119,
          120,
          121,
          122,
          123,
          124,
          125,
          126,
          127,
          128,
          129,
          130,
          131,
          132,
          133,
          134,
          135,
          136,
          137,
          138,
          139,
          140,
          141,
          142,
          143,
          144,
          145,
          146,
          147,
          148,
          149,
          150,
          151,
          152,
          153,
          154,
          155,
          156,
          157,
          158,
          159,
          160,
          161,
          162,
          163,
          164,
          165,
          166,
          167,
          168,
          169,
          170,
          171,
          172,
          173,
          174,
          175,
          176,
          177,
          178,
          179,
          180,
          181,
          182,
          183,
          184,
          185,
          186,
          187,
          188,
          189,
          190,
          191,
          192,
          193,
          194,
          195,
          196,
          197,
          198,
          199,
          200,
          201,
          202,
          203,
          204,
          205,
          206,
          207,
          208,
          209,
          210,
          211,
          212,
          213,
          214,
          215,
          216,
          217,
          218,
          219,
          220,
          221,
          222,
          223,
          224,
          225,
          226,
          227,
          228,
          229,
          230,
          231,
          232,
          233,
          234,
          235,
          236,
          237,
          238,
          239,
          240,
          241,
          242,
          243,
          244,
          245,
          246,
          247,
          248,
          249,
          250,
          251,
          252,
          253,
          254,
          255,
          256,
          257,
          258,
          259,
          260,
          261,
          262,
          263,
          264,
          265,
          266,
          267,
          268,
          269,
          270,
          271,
          272,
          273,
          274,
          275,
          276,
          277,
          278,
          279,
          280,
          281,
          282,
          283,
          284,
          285,
          286,
          287,
          288,
          289,
          290,
          291,
          292,
          293,
          294,
          295,
          296,
          297,
          298,
          299,
          300,
          301,
          302,
          303,
          304,
          305,
          306,
          307,
          308,
          309,
          310,
          311,
          312,
          313,
          314,
          315,
          316,
          317,
          318,
          319,
          320,
          321,
          322,
          323,
          324,
          325,
          326,
          327,
          328,
          329,
          330,
          331,
          332,
          333,
          334,
          335,
          336,
          337,
          338,
          339,
          340,
          341,
          342,
          343,
          344,
          345,
          346,
          347,
          348,
          349,
          350,
          351,
          352,
          353,
          354,
          355,
          356,
          357,
          358,
          359,
          360,
          361,
          362,
          363,
          364,
          365,
          366,
          367,
          368,
          369,
          370,
          371,
          372,
          373,
          374,
          375,
          376,
          377,
          378,
          379,
          380,
          381,
          382,
          383,
          384,
          385,
          386,
          387,
          388,
          389,
          390,
          391,
          392,
          393,
          394,
          395,
          396,
          397,
          398,
          399,
          400,
          401,
          402,
          403,
          404,
          405,
          406,
          407,
          408,
          409,
          410,
          411,
          412,
          413,
          414,
          415,
          416,
          417,
          418,
          419,
          420,
          421,
          422,
          423,
          424,
          425,
          426,
          427,
          428,
          429,
          430,
          431,
          432,
          433,
          434,
          435,
          436,
          437,
          438,
          439,
          440,
          441,
          442,
          443,
          444,
          445,
          446,
          447,
          448,
          449,
          450,
          451,
          452,
          453,
          454,
          455,
          456,
          457,
          458,
          459,
          460,
          461,
          462,
          463,
          464,
          465,
          466,
          467,
          468,
          469,
          470,
          471,
          472,
          473,
          474,
          475,
          476,
          477,
          478,
          479,
          480,
          481,
          482,
          483,
          484,
          485,
          486,
          487,
          488,
          489,
          490,
          491,
          492,
          493,
          494,
          495,
          496,
          497,
          498,
          499,
          500,
          501,
          502,
          503,
          504,
          505,
          506,
          507,
          508,
          509,
          510,
          511,
          512,
          513,
          514,
          515,
          516,
          517,
          518,
          519,
          520,
          521,
          522,
          523,
          524,
          525,
          526,
          527,
          528,
          529,
          530,
          531,
          532,
          533,
          534,
          535,
          536,
          537,
          538,
          539,
          540,
          541,
          542,
          543,
          544,
          545,
          546,
          547,
          548,
          549,
          550,
          551,
          552,
          553,
          554,
          555,
          556,
          557,
          558,
          559,
          560,
          561,
          562,
          563
         ],
         "y": [
          null,
          0.06952264766223992,
          0.07090101644156098,
          0.07090101644156098,
          0.11399187022420045,
          0.11399187022420045,
          0.11399187022420045,
          0.11399187022420045,
          0.11399187022420045,
          0.11399187022420045,
          0.11399187022420045,
          0.11399187022420045,
          0.11399187022420045,
          0.11399187022420045,
          0.11399187022420045,
          0.11399187022420045,
          0.11399187022420045,
          0.11399187022420045,
          0.11399187022420045,
          0.11399187022420045,
          0.11399187022420045,
          0.11399187022420045,
          0.11399187022420045,
          0.11958865187799167,
          0.11958865187799167,
          0.11958865187799167,
          0.11958865187799167,
          0.11958865187799167,
          0.11958865187799167,
          0.11958865187799167,
          0.11958865187799167,
          0.11958865187799167,
          0.11958865187799167,
          0.11958865187799167,
          0.11958865187799167,
          0.11958865187799167,
          0.11958865187799167,
          0.11958865187799167,
          0.11958865187799167,
          0.11958865187799167,
          0.11958865187799167,
          0.11958865187799167,
          0.11958865187799167,
          0.11958865187799167,
          0.11958865187799167,
          0.11958865187799167,
          0.11958865187799167,
          0.11958865187799167,
          0.11958865187799167,
          0.11958865187799167,
          0.11958865187799167,
          0.11958865187799167,
          0.1203441000216541,
          0.1203441000216541,
          0.1203441000216541,
          0.1203441000216541,
          0.1203441000216541,
          0.13129813063305099,
          0.13129813063305099,
          0.13129813063305099,
          0.13129813063305099,
          0.13129813063305099,
          0.13129813063305099,
          0.13129813063305099,
          0.13129813063305099,
          0.13129813063305099,
          0.13129813063305099,
          0.13129813063305099,
          0.13129813063305099,
          0.13129813063305099,
          0.13129813063305099,
          0.13129813063305099,
          0.13129813063305099,
          0.13129813063305099,
          0.13129813063305099,
          0.13129813063305099,
          0.13129813063305099,
          0.13129813063305099,
          0.13129813063305099,
          0.13129813063305099,
          0.13129813063305099,
          0.13129813063305099,
          0.13129813063305099,
          0.13129813063305099,
          0.13129813063305099,
          0.13129813063305099,
          0.13129813063305099,
          0.13129813063305099,
          0.13129813063305099,
          0.13129813063305099,
          0.13129813063305099,
          0.13129813063305099,
          0.13129813063305099,
          0.13129813063305099,
          0.13129813063305099,
          0.13129813063305099,
          0.13129813063305099,
          0.13129813063305099,
          0.13129813063305099,
          0.13129813063305099,
          0.13129813063305099,
          0.13129813063305099,
          0.13129813063305099,
          0.13129813063305099,
          0.13129813063305099,
          0.13129813063305099,
          0.13129813063305099,
          0.13129813063305099,
          0.13129813063305099,
          0.13129813063305099,
          0.13129813063305099,
          0.13129813063305099,
          0.13129813063305099,
          0.13129813063305099,
          0.13129813063305099,
          0.13129813063305099,
          0.13129813063305099,
          0.13129813063305099,
          0.13129813063305099,
          0.13129813063305099,
          0.13129813063305099,
          0.13129813063305099,
          0.13129813063305099,
          0.13129813063305099,
          0.13129813063305099,
          0.13129813063305099,
          0.13129813063305099,
          0.13129813063305099,
          0.13129813063305099,
          0.13129813063305099,
          0.13129813063305099,
          0.13129813063305099,
          0.13129813063305099,
          0.13129813063305099,
          0.13129813063305099,
          0.13129813063305099,
          0.13129813063305099,
          0.13129813063305099,
          0.13129813063305099,
          0.13129813063305099,
          0.13129813063305099,
          0.13129813063305099,
          0.13129813063305099,
          0.13129813063305099,
          0.13129813063305099,
          0.13129813063305099,
          0.13129813063305099,
          0.13129813063305099,
          0.13129813063305099,
          0.13129813063305099,
          0.13129813063305099,
          0.13129813063305099,
          0.13129813063305099,
          0.13129813063305099,
          0.13129813063305099,
          0.13129813063305099,
          0.13129813063305099,
          0.13129813063305099,
          0.13129813063305099,
          0.13129813063305099,
          0.13129813063305099,
          0.13129813063305099,
          0.13129813063305099,
          0.13129813063305099,
          0.13129813063305099,
          0.13129813063305099,
          0.13129813063305099,
          0.13129813063305099,
          0.13129813063305099,
          0.13129813063305099,
          0.13129813063305099,
          0.13129813063305099,
          0.13129813063305099,
          0.13129813063305099,
          0.13129813063305099,
          0.13129813063305099,
          0.13129813063305099,
          0.13129813063305099,
          0.13129813063305099,
          0.13129813063305099,
          0.13129813063305099,
          0.13129813063305099,
          0.13129813063305099,
          0.13129813063305099,
          0.13129813063305099,
          0.13129813063305099,
          0.13129813063305099,
          0.13129813063305099,
          0.13129813063305099,
          0.13129813063305099,
          0.13129813063305099,
          0.13129813063305099,
          0.13129813063305099,
          0.13129813063305099,
          0.13129813063305099,
          0.13129813063305099,
          0.13129813063305099,
          0.13129813063305099,
          0.13129813063305099,
          0.13129813063305099,
          0.13129813063305099,
          0.13129813063305099,
          0.13129813063305099,
          0.13129813063305099,
          0.13129813063305099,
          0.13129813063305099,
          0.13129813063305099,
          0.13129813063305099,
          0.13129813063305099,
          0.13129813063305099,
          0.13129813063305099,
          0.13129813063305099,
          0.13129813063305099,
          0.13129813063305099,
          0.13129813063305099,
          0.13129813063305099,
          0.13129813063305099,
          0.13129813063305099,
          0.13129813063305099,
          0.13129813063305099,
          0.13129813063305099,
          0.13129813063305099,
          0.13129813063305099,
          0.13129813063305099,
          0.13129813063305099,
          0.13129813063305099,
          0.13129813063305099,
          0.13129813063305099,
          0.13129813063305099,
          0.13129813063305099,
          0.13129813063305099,
          0.13129813063305099,
          0.13129813063305099,
          0.13129813063305099,
          0.13129813063305099,
          0.13129813063305099,
          0.13129813063305099,
          0.13129813063305099,
          0.13129813063305099,
          0.13129813063305099,
          0.13129813063305099,
          0.13129813063305099,
          0.13129813063305099,
          0.13129813063305099,
          0.13129813063305099,
          0.13129813063305099,
          0.13129813063305099,
          0.13129813063305099,
          0.13129813063305099,
          0.13129813063305099,
          0.13129813063305099,
          0.13129813063305099,
          0.13129813063305099,
          0.13129813063305099,
          0.13129813063305099,
          0.13129813063305099,
          0.13129813063305099,
          0.13129813063305099,
          0.13129813063305099,
          0.13129813063305099,
          0.13129813063305099,
          0.13129813063305099,
          0.13129813063305099,
          0.13129813063305099,
          0.13129813063305099,
          0.13129813063305099,
          0.13129813063305099,
          0.13129813063305099,
          0.13129813063305099,
          0.13129813063305099,
          0.13129813063305099,
          0.13129813063305099,
          0.13129813063305099,
          0.13129813063305099,
          0.13129813063305099,
          0.13129813063305099,
          0.13129813063305099,
          0.13129813063305099,
          0.13129813063305099,
          0.13129813063305099,
          0.13129813063305099,
          0.13129813063305099,
          0.13129813063305099,
          0.13129813063305099,
          0.13129813063305099,
          0.13129813063305099,
          0.13129813063305099,
          0.13129813063305099,
          0.13129813063305099,
          0.13129813063305099,
          0.13129813063305099,
          0.13129813063305099,
          0.13129813063305099,
          0.13129813063305099,
          0.13129813063305099,
          0.13129813063305099,
          0.13129813063305099,
          0.13129813063305099,
          0.13129813063305099,
          0.13129813063305099,
          0.13129813063305099,
          0.13129813063305099,
          0.13129813063305099,
          0.13129813063305099,
          0.13129813063305099,
          0.13129813063305099,
          0.13129813063305099,
          0.13129813063305099,
          0.13129813063305099,
          0.13129813063305099,
          0.13129813063305099,
          0.13129813063305099,
          0.13129813063305099,
          0.13129813063305099,
          0.13129813063305099,
          0.13129813063305099,
          0.13129813063305099,
          0.13129813063305099,
          0.13129813063305099,
          0.13129813063305099,
          0.13129813063305099,
          0.13129813063305099,
          0.13129813063305099,
          0.13129813063305099,
          0.13129813063305099,
          0.13129813063305099,
          0.13129813063305099,
          0.13129813063305099,
          0.13129813063305099,
          0.13129813063305099,
          0.13129813063305099,
          0.13129813063305099,
          0.13129813063305099,
          0.13129813063305099,
          0.13129813063305099,
          0.13129813063305099,
          0.13129813063305099,
          0.13129813063305099,
          0.13129813063305099,
          0.13129813063305099,
          0.13129813063305099,
          0.13129813063305099,
          0.13129813063305099,
          0.13129813063305099,
          0.13129813063305099,
          0.13129813063305099,
          0.13129813063305099,
          0.13129813063305099,
          0.13129813063305099,
          0.13129813063305099,
          0.13129813063305099,
          0.13129813063305099,
          0.13129813063305099,
          0.13129813063305099,
          0.13129813063305099,
          0.13129813063305099,
          0.13129813063305099,
          0.13129813063305099,
          0.13129813063305099,
          0.13129813063305099,
          0.13129813063305099,
          0.13129813063305099,
          0.13129813063305099,
          0.13129813063305099,
          0.13129813063305099,
          0.13129813063305099,
          0.13129813063305099,
          0.13129813063305099,
          0.13129813063305099,
          0.13129813063305099,
          0.13129813063305099,
          0.13129813063305099,
          0.13129813063305099,
          0.13129813063305099,
          0.13129813063305099,
          0.13129813063305099,
          0.13129813063305099,
          0.13129813063305099,
          0.13129813063305099,
          0.13129813063305099,
          0.13129813063305099,
          0.13129813063305099,
          0.13129813063305099,
          0.13129813063305099,
          0.13129813063305099,
          0.13129813063305099,
          0.13129813063305099,
          0.13129813063305099,
          0.13129813063305099,
          0.13129813063305099,
          0.13129813063305099,
          0.13129813063305099,
          0.13129813063305099,
          0.13129813063305099,
          0.13129813063305099,
          0.13129813063305099,
          0.13129813063305099,
          0.13129813063305099,
          0.13129813063305099,
          0.13129813063305099,
          0.13129813063305099,
          0.13129813063305099,
          0.13129813063305099,
          0.13129813063305099,
          0.13129813063305099,
          0.13129813063305099,
          0.13129813063305099,
          0.13129813063305099,
          0.13129813063305099,
          0.13129813063305099,
          0.13129813063305099,
          0.13129813063305099,
          0.13129813063305099,
          0.13129813063305099,
          0.13129813063305099,
          0.13129813063305099,
          0.13129813063305099,
          0.13129813063305099,
          0.13129813063305099,
          0.13129813063305099,
          0.13129813063305099,
          0.13129813063305099,
          0.13129813063305099,
          0.13129813063305099,
          0.13129813063305099,
          0.13129813063305099,
          0.13129813063305099,
          0.13129813063305099,
          0.13129813063305099,
          0.13129813063305099,
          0.13129813063305099,
          0.13129813063305099,
          0.13129813063305099,
          0.13129813063305099,
          0.13129813063305099,
          0.13129813063305099,
          0.13129813063305099,
          0.13129813063305099,
          0.13129813063305099,
          0.13129813063305099,
          0.13129813063305099,
          0.13129813063305099,
          0.13129813063305099,
          0.13129813063305099,
          0.13129813063305099,
          0.13129813063305099,
          0.13129813063305099,
          0.13129813063305099,
          0.13129813063305099,
          0.13129813063305099,
          0.13129813063305099,
          0.13129813063305099,
          0.13129813063305099,
          0.13129813063305099,
          0.13129813063305099,
          0.13129813063305099,
          0.13129813063305099,
          0.13129813063305099,
          0.13129813063305099,
          0.13129813063305099,
          0.13129813063305099,
          0.13129813063305099,
          0.13129813063305099,
          0.13129813063305099,
          0.13129813063305099,
          0.13129813063305099,
          0.13129813063305099,
          0.13129813063305099,
          0.13129813063305099,
          0.13129813063305099,
          0.13129813063305099,
          0.13129813063305099,
          0.13129813063305099,
          0.13129813063305099,
          0.13129813063305099,
          0.13129813063305099,
          0.13129813063305099,
          0.13129813063305099,
          0.13129813063305099,
          0.13129813063305099,
          0.13129813063305099,
          0.13129813063305099,
          0.13129813063305099,
          0.13129813063305099,
          0.13129813063305099,
          0.13129813063305099,
          0.13129813063305099,
          0.13129813063305099,
          0.13129813063305099,
          0.13129813063305099,
          0.13129813063305099,
          0.13129813063305099,
          0.13129813063305099,
          0.13129813063305099,
          0.13129813063305099,
          0.13129813063305099,
          0.13129813063305099,
          0.13129813063305099,
          0.13129813063305099,
          0.13129813063305099,
          0.13129813063305099,
          0.13129813063305099,
          0.13129813063305099,
          0.13129813063305099,
          0.13129813063305099,
          0.13129813063305099,
          0.13129813063305099,
          0.13129813063305099,
          0.13129813063305099,
          0.13129813063305099,
          0.13129813063305099,
          0.13129813063305099,
          0.13129813063305099,
          0.13129813063305099,
          0.13129813063305099,
          0.13129813063305099,
          0.13129813063305099,
          0.13129813063305099,
          0.13129813063305099,
          0.13129813063305099,
          0.13129813063305099,
          0.13129813063305099,
          0.13129813063305099,
          0.13129813063305099,
          0.13129813063305099,
          0.13129813063305099,
          0.13129813063305099,
          0.13129813063305099,
          0.13129813063305099,
          0.13129813063305099,
          0.13129813063305099,
          0.13129813063305099,
          0.13129813063305099,
          0.13129813063305099,
          0.13129813063305099,
          0.13129813063305099,
          0.13129813063305099,
          0.13129813063305099,
          0.13129813063305099,
          0.13129813063305099,
          0.13129813063305099,
          0.13129813063305099,
          0.13129813063305099,
          0.13129813063305099,
          0.13129813063305099,
          0.13129813063305099,
          0.13129813063305099,
          0.13129813063305099,
          0.13129813063305099,
          0.13129813063305099,
          0.13129813063305099,
          0.13129813063305099,
          0.13129813063305099,
          0.13129813063305099,
          0.13129813063305099,
          0.13129813063305099,
          0.13129813063305099,
          0.13129813063305099,
          0.13129813063305099,
          0.13129813063305099,
          0.13129813063305099,
          0.13129813063305099,
          0.13129813063305099,
          0.13129813063305099
         ]
        },
        {
         "marker": {
          "color": "#cccccc"
         },
         "mode": "markers",
         "name": "Infeasible Trial",
         "showlegend": false,
         "type": "scatter",
         "x": [],
         "y": []
        }
       ],
       "layout": {
        "template": {
         "data": {
          "bar": [
           {
            "error_x": {
             "color": "#2a3f5f"
            },
            "error_y": {
             "color": "#2a3f5f"
            },
            "marker": {
             "line": {
              "color": "#E5ECF6",
              "width": 0.5
             },
             "pattern": {
              "fillmode": "overlay",
              "size": 10,
              "solidity": 0.2
             }
            },
            "type": "bar"
           }
          ],
          "barpolar": [
           {
            "marker": {
             "line": {
              "color": "#E5ECF6",
              "width": 0.5
             },
             "pattern": {
              "fillmode": "overlay",
              "size": 10,
              "solidity": 0.2
             }
            },
            "type": "barpolar"
           }
          ],
          "carpet": [
           {
            "aaxis": {
             "endlinecolor": "#2a3f5f",
             "gridcolor": "white",
             "linecolor": "white",
             "minorgridcolor": "white",
             "startlinecolor": "#2a3f5f"
            },
            "baxis": {
             "endlinecolor": "#2a3f5f",
             "gridcolor": "white",
             "linecolor": "white",
             "minorgridcolor": "white",
             "startlinecolor": "#2a3f5f"
            },
            "type": "carpet"
           }
          ],
          "choropleth": [
           {
            "colorbar": {
             "outlinewidth": 0,
             "ticks": ""
            },
            "type": "choropleth"
           }
          ],
          "contour": [
           {
            "colorbar": {
             "outlinewidth": 0,
             "ticks": ""
            },
            "colorscale": [
             [
              0,
              "#0d0887"
             ],
             [
              0.1111111111111111,
              "#46039f"
             ],
             [
              0.2222222222222222,
              "#7201a8"
             ],
             [
              0.3333333333333333,
              "#9c179e"
             ],
             [
              0.4444444444444444,
              "#bd3786"
             ],
             [
              0.5555555555555556,
              "#d8576b"
             ],
             [
              0.6666666666666666,
              "#ed7953"
             ],
             [
              0.7777777777777778,
              "#fb9f3a"
             ],
             [
              0.8888888888888888,
              "#fdca26"
             ],
             [
              1,
              "#f0f921"
             ]
            ],
            "type": "contour"
           }
          ],
          "contourcarpet": [
           {
            "colorbar": {
             "outlinewidth": 0,
             "ticks": ""
            },
            "type": "contourcarpet"
           }
          ],
          "heatmap": [
           {
            "colorbar": {
             "outlinewidth": 0,
             "ticks": ""
            },
            "colorscale": [
             [
              0,
              "#0d0887"
             ],
             [
              0.1111111111111111,
              "#46039f"
             ],
             [
              0.2222222222222222,
              "#7201a8"
             ],
             [
              0.3333333333333333,
              "#9c179e"
             ],
             [
              0.4444444444444444,
              "#bd3786"
             ],
             [
              0.5555555555555556,
              "#d8576b"
             ],
             [
              0.6666666666666666,
              "#ed7953"
             ],
             [
              0.7777777777777778,
              "#fb9f3a"
             ],
             [
              0.8888888888888888,
              "#fdca26"
             ],
             [
              1,
              "#f0f921"
             ]
            ],
            "type": "heatmap"
           }
          ],
          "histogram": [
           {
            "marker": {
             "pattern": {
              "fillmode": "overlay",
              "size": 10,
              "solidity": 0.2
             }
            },
            "type": "histogram"
           }
          ],
          "histogram2d": [
           {
            "colorbar": {
             "outlinewidth": 0,
             "ticks": ""
            },
            "colorscale": [
             [
              0,
              "#0d0887"
             ],
             [
              0.1111111111111111,
              "#46039f"
             ],
             [
              0.2222222222222222,
              "#7201a8"
             ],
             [
              0.3333333333333333,
              "#9c179e"
             ],
             [
              0.4444444444444444,
              "#bd3786"
             ],
             [
              0.5555555555555556,
              "#d8576b"
             ],
             [
              0.6666666666666666,
              "#ed7953"
             ],
             [
              0.7777777777777778,
              "#fb9f3a"
             ],
             [
              0.8888888888888888,
              "#fdca26"
             ],
             [
              1,
              "#f0f921"
             ]
            ],
            "type": "histogram2d"
           }
          ],
          "histogram2dcontour": [
           {
            "colorbar": {
             "outlinewidth": 0,
             "ticks": ""
            },
            "colorscale": [
             [
              0,
              "#0d0887"
             ],
             [
              0.1111111111111111,
              "#46039f"
             ],
             [
              0.2222222222222222,
              "#7201a8"
             ],
             [
              0.3333333333333333,
              "#9c179e"
             ],
             [
              0.4444444444444444,
              "#bd3786"
             ],
             [
              0.5555555555555556,
              "#d8576b"
             ],
             [
              0.6666666666666666,
              "#ed7953"
             ],
             [
              0.7777777777777778,
              "#fb9f3a"
             ],
             [
              0.8888888888888888,
              "#fdca26"
             ],
             [
              1,
              "#f0f921"
             ]
            ],
            "type": "histogram2dcontour"
           }
          ],
          "mesh3d": [
           {
            "colorbar": {
             "outlinewidth": 0,
             "ticks": ""
            },
            "type": "mesh3d"
           }
          ],
          "parcoords": [
           {
            "line": {
             "colorbar": {
              "outlinewidth": 0,
              "ticks": ""
             }
            },
            "type": "parcoords"
           }
          ],
          "pie": [
           {
            "automargin": true,
            "type": "pie"
           }
          ],
          "scatter": [
           {
            "fillpattern": {
             "fillmode": "overlay",
             "size": 10,
             "solidity": 0.2
            },
            "type": "scatter"
           }
          ],
          "scatter3d": [
           {
            "line": {
             "colorbar": {
              "outlinewidth": 0,
              "ticks": ""
             }
            },
            "marker": {
             "colorbar": {
              "outlinewidth": 0,
              "ticks": ""
             }
            },
            "type": "scatter3d"
           }
          ],
          "scattercarpet": [
           {
            "marker": {
             "colorbar": {
              "outlinewidth": 0,
              "ticks": ""
             }
            },
            "type": "scattercarpet"
           }
          ],
          "scattergeo": [
           {
            "marker": {
             "colorbar": {
              "outlinewidth": 0,
              "ticks": ""
             }
            },
            "type": "scattergeo"
           }
          ],
          "scattergl": [
           {
            "marker": {
             "colorbar": {
              "outlinewidth": 0,
              "ticks": ""
             }
            },
            "type": "scattergl"
           }
          ],
          "scattermap": [
           {
            "marker": {
             "colorbar": {
              "outlinewidth": 0,
              "ticks": ""
             }
            },
            "type": "scattermap"
           }
          ],
          "scattermapbox": [
           {
            "marker": {
             "colorbar": {
              "outlinewidth": 0,
              "ticks": ""
             }
            },
            "type": "scattermapbox"
           }
          ],
          "scatterpolar": [
           {
            "marker": {
             "colorbar": {
              "outlinewidth": 0,
              "ticks": ""
             }
            },
            "type": "scatterpolar"
           }
          ],
          "scatterpolargl": [
           {
            "marker": {
             "colorbar": {
              "outlinewidth": 0,
              "ticks": ""
             }
            },
            "type": "scatterpolargl"
           }
          ],
          "scatterternary": [
           {
            "marker": {
             "colorbar": {
              "outlinewidth": 0,
              "ticks": ""
             }
            },
            "type": "scatterternary"
           }
          ],
          "surface": [
           {
            "colorbar": {
             "outlinewidth": 0,
             "ticks": ""
            },
            "colorscale": [
             [
              0,
              "#0d0887"
             ],
             [
              0.1111111111111111,
              "#46039f"
             ],
             [
              0.2222222222222222,
              "#7201a8"
             ],
             [
              0.3333333333333333,
              "#9c179e"
             ],
             [
              0.4444444444444444,
              "#bd3786"
             ],
             [
              0.5555555555555556,
              "#d8576b"
             ],
             [
              0.6666666666666666,
              "#ed7953"
             ],
             [
              0.7777777777777778,
              "#fb9f3a"
             ],
             [
              0.8888888888888888,
              "#fdca26"
             ],
             [
              1,
              "#f0f921"
             ]
            ],
            "type": "surface"
           }
          ],
          "table": [
           {
            "cells": {
             "fill": {
              "color": "#EBF0F8"
             },
             "line": {
              "color": "white"
             }
            },
            "header": {
             "fill": {
              "color": "#C8D4E3"
             },
             "line": {
              "color": "white"
             }
            },
            "type": "table"
           }
          ]
         },
         "layout": {
          "annotationdefaults": {
           "arrowcolor": "#2a3f5f",
           "arrowhead": 0,
           "arrowwidth": 1
          },
          "autotypenumbers": "strict",
          "coloraxis": {
           "colorbar": {
            "outlinewidth": 0,
            "ticks": ""
           }
          },
          "colorscale": {
           "diverging": [
            [
             0,
             "#8e0152"
            ],
            [
             0.1,
             "#c51b7d"
            ],
            [
             0.2,
             "#de77ae"
            ],
            [
             0.3,
             "#f1b6da"
            ],
            [
             0.4,
             "#fde0ef"
            ],
            [
             0.5,
             "#f7f7f7"
            ],
            [
             0.6,
             "#e6f5d0"
            ],
            [
             0.7,
             "#b8e186"
            ],
            [
             0.8,
             "#7fbc41"
            ],
            [
             0.9,
             "#4d9221"
            ],
            [
             1,
             "#276419"
            ]
           ],
           "sequential": [
            [
             0,
             "#0d0887"
            ],
            [
             0.1111111111111111,
             "#46039f"
            ],
            [
             0.2222222222222222,
             "#7201a8"
            ],
            [
             0.3333333333333333,
             "#9c179e"
            ],
            [
             0.4444444444444444,
             "#bd3786"
            ],
            [
             0.5555555555555556,
             "#d8576b"
            ],
            [
             0.6666666666666666,
             "#ed7953"
            ],
            [
             0.7777777777777778,
             "#fb9f3a"
            ],
            [
             0.8888888888888888,
             "#fdca26"
            ],
            [
             1,
             "#f0f921"
            ]
           ],
           "sequentialminus": [
            [
             0,
             "#0d0887"
            ],
            [
             0.1111111111111111,
             "#46039f"
            ],
            [
             0.2222222222222222,
             "#7201a8"
            ],
            [
             0.3333333333333333,
             "#9c179e"
            ],
            [
             0.4444444444444444,
             "#bd3786"
            ],
            [
             0.5555555555555556,
             "#d8576b"
            ],
            [
             0.6666666666666666,
             "#ed7953"
            ],
            [
             0.7777777777777778,
             "#fb9f3a"
            ],
            [
             0.8888888888888888,
             "#fdca26"
            ],
            [
             1,
             "#f0f921"
            ]
           ]
          },
          "colorway": [
           "#636efa",
           "#EF553B",
           "#00cc96",
           "#ab63fa",
           "#FFA15A",
           "#19d3f3",
           "#FF6692",
           "#B6E880",
           "#FF97FF",
           "#FECB52"
          ],
          "font": {
           "color": "#2a3f5f"
          },
          "geo": {
           "bgcolor": "white",
           "lakecolor": "white",
           "landcolor": "#E5ECF6",
           "showlakes": true,
           "showland": true,
           "subunitcolor": "white"
          },
          "hoverlabel": {
           "align": "left"
          },
          "hovermode": "closest",
          "mapbox": {
           "style": "light"
          },
          "paper_bgcolor": "white",
          "plot_bgcolor": "#E5ECF6",
          "polar": {
           "angularaxis": {
            "gridcolor": "white",
            "linecolor": "white",
            "ticks": ""
           },
           "bgcolor": "#E5ECF6",
           "radialaxis": {
            "gridcolor": "white",
            "linecolor": "white",
            "ticks": ""
           }
          },
          "scene": {
           "xaxis": {
            "backgroundcolor": "#E5ECF6",
            "gridcolor": "white",
            "gridwidth": 2,
            "linecolor": "white",
            "showbackground": true,
            "ticks": "",
            "zerolinecolor": "white"
           },
           "yaxis": {
            "backgroundcolor": "#E5ECF6",
            "gridcolor": "white",
            "gridwidth": 2,
            "linecolor": "white",
            "showbackground": true,
            "ticks": "",
            "zerolinecolor": "white"
           },
           "zaxis": {
            "backgroundcolor": "#E5ECF6",
            "gridcolor": "white",
            "gridwidth": 2,
            "linecolor": "white",
            "showbackground": true,
            "ticks": "",
            "zerolinecolor": "white"
           }
          },
          "shapedefaults": {
           "line": {
            "color": "#2a3f5f"
           }
          },
          "ternary": {
           "aaxis": {
            "gridcolor": "white",
            "linecolor": "white",
            "ticks": ""
           },
           "baxis": {
            "gridcolor": "white",
            "linecolor": "white",
            "ticks": ""
           },
           "bgcolor": "#E5ECF6",
           "caxis": {
            "gridcolor": "white",
            "linecolor": "white",
            "ticks": ""
           }
          },
          "title": {
           "x": 0.05
          },
          "xaxis": {
           "automargin": true,
           "gridcolor": "white",
           "linecolor": "white",
           "ticks": "",
           "title": {
            "standoff": 15
           },
           "zerolinecolor": "white",
           "zerolinewidth": 2
          },
          "yaxis": {
           "automargin": true,
           "gridcolor": "white",
           "linecolor": "white",
           "ticks": "",
           "title": {
            "standoff": 15
           },
           "zerolinecolor": "white",
           "zerolinewidth": 2
          }
         }
        },
        "title": {
         "text": "Optimization History Plot"
        },
        "xaxis": {
         "title": {
          "text": "Trial"
         }
        },
        "yaxis": {
         "title": {
          "text": "Objective Value"
         }
        }
       }
      }
     },
     "metadata": {},
     "output_type": "display_data"
    }
   ],
   "source": [
    "# Mostrar Chart com Trials do Optuna\n",
    "\n",
    "fig = optuna.visualization.plot_optimization_history(estudo_ag)\n",
    "fig.show()"
   ]
  },
  {
   "cell_type": "code",
   "execution_count": 34,
   "id": "6bc26cf6",
   "metadata": {},
   "outputs": [],
   "source": [
    "# Treinar modelo com Scipy\n",
    "\n",
    "modelo_dend = linkage(X_transformed, method=best_params_ag['linkage'], optimal_ordering=True)"
   ]
  },
  {
   "cell_type": "code",
   "execution_count": 35,
   "id": "f83531ff",
   "metadata": {},
   "outputs": [
    {
     "data": {
      "image/png": "[encoded data removed]",
      "text/plain": [
       "<Figure size 2000x1200 with 1 Axes>"
      ]
     },
     "metadata": {},
     "output_type": "display_data"
    }
   ],
   "source": [
    "# Mostrar o dendrograma\n",
    "\n",
    "plt.figure(figsize=(20,12))\n",
    "dendrogram(modelo_dend, truncate_mode='lastp', p=50, leaf_rotation=90, leaf_font_size=10)\n",
    "plt.title('Dendograma Clustering Hierarquico Aglomerativo')\n",
    "plt.xlabel('Tamanho do Cluster ou Objeto de Dado')\n",
    "plt.ylabel('Distância')\n",
    "plt.show()"
   ]
  },
  {
   "cell_type": "code",
   "execution_count": 37,
   "id": "3af945f0",
   "metadata": {},
   "outputs": [
    {
     "data": {
      "text/plain": [
       "5"
      ]
     },
     "execution_count": 37,
     "metadata": {},
     "output_type": "execute_result"
    }
   ],
   "source": [
    "# Cortar o dendrograma\n",
    "\n",
    "clusters_de_scipy = cut_tree(modelo_dend, height=17)\n",
    "len(np.unique(clusters_de_scipy))"
   ]
  },
  {
   "cell_type": "code",
   "execution_count": 40,
   "id": "4235b069",
   "metadata": {},
   "outputs": [
    {
     "data": {
      "application/vnd.plotly.v1+json": {
       "config": {
        "plotlyServerURL": "https://plot.ly"
       },
       "data": [
        {
         "hovertemplate": "diet_type=carnivore<br>cluster=%{x}<br>body_mass_kg=%{y}<extra></extra>",
         "legendgroup": "carnivore",
         "marker": {
          "color": "#636efa",
          "symbol": "circle"
         },
         "mode": "markers",
         "name": "carnivore",
         "orientation": "v",
         "showlegend": true,
         "type": "scatter",
         "x": {
          "bdata": "LgAeAC8AAwAiAG8AXAAEAAkACwAXAI4AhABQAC8AEwCEAAkAEAAbACAAdQB3ABEAfwAUAFEAhQAqAIEAHwABAHwACQALAD4AMwAmAAMAPgBEACgAhgAMAHYAfABqAIEAjQA+AAkAPgBlAAQALwAUAH8APgBGAJEADwA2AGAAKgAkAB0AAwAlAIoAEQCSAB8AXQBAACgACACUABIAJQALACwACwAiAF4AKAA9AAAAAABJACUACwCKACIALwB/AHMACAATAEYAIABBAEUANwBGAGoAcwAOAFEAeABXAAkAcwARAHYACwB/AF8ACwCVAE0ADwAvAJEAhQAAAHAAVwAyAH8AdgACAFEAIQBZABMAFAAMAGoAYAAKAEUAKABCAF8AHgAfADMABwAMABMABwCEACYAHAANAAcAEQAhABMAQAAPADMAJwAeAFAARAA+AJQAZQB2AAoAgwAaAEAAQABcAEQAeQALAAIANQAdACEAhQBRAAcA",
          "dtype": "i2"
         },
         "xaxis": "x",
         "y": {
          "bdata": "lG9alpb3TUCZp4obC55HQIBdCykVek9ALoVgbHodVEBCJJR0ZGVUQL6hFQNRVlBAfmvwZGxrS0Aina0+i2BDQCnac/5Nvj1A9YTDIXkkTECEHQmv6tY/QKyqC3TJwUxAF+eJlUMVRkC84PqNoftCQPvM94PqwlVAXKNzdXLdSEBd56TPR5U5QBiGt1n6nCVAPQqorqlvTEC8St8DeHotQGUYk94JKFFAQNCToLJgUUBlM3aItiRHQCGI9KiFhFFAgd/i1KPNRkAGGUf3thNRQME86fH2IU5ANAYyADQURUDsTuuvzbo0QP4Sm+Ely0RAaGT/xF4KTUBQQ1w5VJNLQLBgp2LIPydA0I3Y3R+8SEC9aZFSXqA6QJg0MVmFdFBAUG3Ko5ODU0BI+jyqWt5OQCL33H/Ic1dAzxwMiWW8TUDHUYhEjJw/QE56foHqP1RAKw7uhflhOUAXwIokTEZLQC1OQaWp2EpAmOa8yUyZS0Djvfe3u2hQQHhSrBtDlzdA5Hnbnys4TkDk0HDIkVJLQFhBmadC20FA5YcT+caQT0CMQr89oYE+QHVLCeJ3b1BAtJpYrDycUED7Z71xzotGQAJiytLXGkBAdAi0W1lpTEAyCzRoy6JQQKMP4QuGxFNAhuo+HyHTTUAPzXcCfbtNQKRcovj9IztAoOSz9lU+P0BpekGDfSZOQCk9Gs56tU5AVC8jJoYtUkAscr8Ie0tQQOEIMiV4JURAfQ12etPcT0D08IC72kdEQD8Dpo2OpElAnzWkj9LYQUDBK5F2xAxOQJaDeqkq1FBAjfWiC8hTVUDmjWjQwAxNQLGY8S5GyDhAbt2DJFwcV0C7eANypdVSQLssHIAtcE1ADjwtFohfUEBxUXB2nWdIQFGNse9seUZAEwk8iXypVEBzg/hxfJlEQAsKDSWyTkpAxa9tbtS0U0DpZt7CYkg1QLL9kH/ZUFJAxivAVjIaSUDUKBz7rF4+QIpJBSL8nk1A0WUYw5f9SkACv5PhmCVFQJJ2d/UNn09AbUCF/RluVECudIMANetGQHOXep19v1BAQmpi0K8STEBe2rqodpBQQC7g1EGMGk9AFAJNxpMVQ0CNhl69kXhOQJ8M9wVj+kZAA9pXcrzSRkAfb+gyb/5RQA84A7PM0U9Ao1yyG5rzTkC9A57kWtFAQIwFkrNatzlAuR9ixWFKUkC+Ps4pvz1PQEGR9zsnYFFAEyF2eYiHR0CTByeTQMlFQERhPaQdx0BAkkDDSh1zS0DOYlTkzgk1QJ715hTJ2TVAWznXYewbTECapPDVKDpMQAiTe+6GMU5AEllQy2EETUBSZca8dsFTQBxGCqDycldAFN69osHqQEDOjC8JjgFDQDPBPzLlakxASr0f4opAUUBFHwP2DgRAQGb18iVQ601A7HBS8K5lUkCSznDHhxwyQI2psTNFeElA12C1F9V/REB7jhgkbeNSQB0iVhbWRlVAee4SlSl0T0BeTpGFl7M+QNeFLYnIylFASFbcWwQDVECGElvBrr1JQGiOXyNd3S9A+GxTLYDcQ0BysHagil9IQBx4EygVST5A/ZdIUkZaSUB6C9LfySNLQCE5lcTqsUNAjuj/wec9Q0B5UF3FOLIzQMjMub13gkZA+BFg7Ye4R0CgSNqt/t4xQOvSvgyX60hAnjJuGFTmU0AT7xYYEMZJQBZWK8kcY0BAelFL0mo+QEB+sNjbgSFRQJ5m2oQzoU5AtMosgvUgREAQy1kCL1xAQOfdKShG2T9A1WILJHc7Q0CXgowWWQJOQFCMcGtK/klAAcCx5K5fQkDUfB+Lu7ROQIAjimwExTBAijlel6+tUEAAAAAAAAAUQFTA2SgitkxA35f0XXdxR0AqjtZHQ2BMQFO7p9nS5UtASV9tVYPgVkDVSwZHGs9GQCBsPunyGxdAHQVwAY1iTEBOuKnp3NhEQD6nuaJ82ldA6jhx3pPRSkD6jDOmNbdJQFPsr6bjxUxA",
          "dtype": "f8"
         },
         "yaxis": "y"
        },
        {
         "hovertemplate": "diet_type=herbivore<br>cluster=%{x}<br>body_mass_kg=%{y}<extra></extra>",
         "legendgroup": "herbivore",
         "marker": {
          "color": "#EF553B",
          "symbol": "circle"
         },
         "mode": "markers",
         "name": "herbivore",
         "orientation": "v",
         "showlegend": true,
         "type": "scatter",
         "x": {
          "bdata": "egBhADEAfgBAACcAigB3AGEAQwA1AIgARgBnAG0AlQA5ABYASAAXAAoADgCAABEAWAAFAEIAJgBXAC8ANQAFAHIAfAAZAHoANwAyADoASgBYAIgAgAAwAGgAOQAMAGYAawBeADEARQA3AGwALQBTAJIAVwCLAIgAMABrAA4AiQBXACwAhwBYAIwAFgCLAEgAUgArACYAEQAdAAwADgAbAG8AewBIADEAggAOABoAiQAfAHkAOgB3AIYAigAmAAEAZQAXAEEAbABUAEMAJwBaACsADgAjACAAOgAcADUAhwAQAFAAFwBlAB0AWQB+AHsABQAgAC0AMACJAAYARgBnAFcABgBIABMAiQB6AE8AVABiADEAJwAlAC4AZgBTADoAGQBXAC0AEQBmAC4ADwCNAHIAYwA2ADEAgABKAFUAaQAKAGwAFwAmACcAGAAHABoAMgAfAAcAiwCHABwAjwB1AE4ATgBdADkAcQA5ACkAegAfAJUANQAGAAYAfQABABYADwB4AGIANQBeACQAHQBdAHsAOQCSABAADABhAHoADgANAG0AYQBYAIkALgA3AGcAlQAOAC4AJgAFAE8A",
          "dtype": "i2"
         },
         "xaxis": "x",
         "y": {
          "bdata": "AyeNPpGoRkA3LnEm9GxOQA/8Yz4DvkZAGuzCSN+sSUDUkXBWYY5DQKZNvbLp+jpATt2cbV3+QkCoQJYhhdg8QEK0etiwFktAQY5j+69vN0CNFMP69vdKQKZYm7o8MVBAEgrdvfDXR0CGZJuuLP1FQK6UasbDZERAGG7bZRQ7QkACj2zsradRQHgBzpNq6EVA9mNqzQhQTEBFdnSfkN87QI9Mvg1sEzpAXzCJu/xHU0B/xFk5LJ1MQAoeddKvMFRAPxPibr5SVEAAAAAAAAAUQN71OwMJnFBA2tr0iooCRkDMtzFYS38kQIlVfEs1kkxAAZcRUrTjU0DuqgCBgPtDQNwexVOaSUxAlPtUWtCzQ0Bt3SqX3VdRQCuc5C5NnEtA3ens+XSnRkB7kM9CTbE1QN6HTJ2mkkVAibCfkSv6QECoYGdlUe5VQBczv1DrvkpAe0dreDCaSUBzRegs89BYQJIv9xD2A0xABkxrSyOnSEDNUgsu0DZSQODiZMaF9jVA/kVZOnQwPkAIkrMeR1ZDQDBbeW2a/DJAZhVhboWvSUBpir5GAcE8QLpQUR/fKkFAo61gUk2RUEBiO6iJJAlTQBrTJZOv2TFAMkvY9s9COUByLJH+QoFLQLbB4flD7ktAtmLn/TDUVUB9FR6uhiw6QIqibZkAS1JAWgy4G7ggTUCUuKJ3b3ZBQOtDDhVUxEtAcwR860ghSUAwc1II0RlaQPJBYFq1QU9AWLpMOa1tQEBSRJGu6xFQQCth2EQ1iEBAyMEWcvuzM0DrdZlE0RU5QF0oFZlp2kxADhoSSYmJSkAqrWyqA5VJQFimOjtO6lFA7bw9293EUUBQd740VXI2QDofw8JKI05A7qVATB9FUUDWWdgl6dhFQCWGNgmZ0UlAQliyUcMSWEAurORU2/FRQE0tW13ycTxAK9qa7EKyQUA1tTky53tCQB6GZJk/OFdAmtnqWh3DUEA9TN6bJRNBQGLIS357/jlAVcB1J3p3QkA6N7gA3RZRQNGdcTeOqVFAvg7yZdOcM0A55S+9XexBQFvaeKEigz1AOz6zoFkLOUDdDdQXrWU1QBD1DN5x/0JAmCIpeGI+OUA6IE9gSCpXQOkEwB5ue0dA3EB/kBfiTkBBW4ek48VCQLDaO6v1kUxAfM3OjtlLT0DGJeXA72VDQF2SJCuJPFBAngRo1kqRUEDYB+ETxTVJQH7zEZS35UVAeuCORk/4SUBFBtHlMOE9QBXJUIOQSE9AP0x3Rg/CSUBoXTgour5AQAcJBMIaIU1ACowhet1cQ0CrHNbZ1m9LQCPmNz8MUktAOL6kuXTgU0AeXlyvjmZHQOKjuYlRz0hAsKkvO5vQSEAkTaWsCB1GQBcJyO1JukBAfqXLJuD8REBajbY/rT1LQP5bR448IElABofcThhFQUCCof8o4PpNQCRO5xmXU0FAife85E+aQEAAA76VnRYeQM67YTARvkNAqgOl0Z5oQUCetBypf+FVQBDfk2sgO0NAGhBP7meYN0Da/Unm9ERTQNSCwSrH2kdAIegrpmewUkAzvr+VmQFDQBb/04JsDUlAs3uB7n46T0CjNAGNyKU8QEofQi6Ck0dA7Ir48fQzSkDFBg0e1YE7QKP5tXp5QVRAFQ8M26aCRkCAdoRenFtRQM8n8fWBpi1A5rz7ZrdVOkDIxy4zQ24iQPLt8b2gpFRAYNl9K02sSEDwNM6UZE0hQAINN8TQMz9AlR4Qp9PQPEB2HqbsWwpOQO1aAl6KskNAISlTlQDuR0CvzihkqHZDQASXFn3dCjpA1vId5LMAQkBTi3mwcOBHQCfy/VxRykZAnMndSUQkT0Dqml0gnElQQHI+qB7eP0ZAAAAAAAAAFEBUDg5f/MNOQPNkuubMHExAxPqc/sWIQkAScZRmeV48QH3IK5KK71RA5R0yTJkdVECLHRMWnGNOQMPPk7wQWDZAFnPCt3gTQ0CVt1MiN3xJQG4SHojEsEBANpZXiMZBUEDMRyQcpZwwQAHGqnoOXkFAh2e03QHOK0DIZ13zGHtJQA/z9hzm6T9A4zUr9MtiT0DK1XLx1VZIQIThvdiYxzlATcd3MVd5SUDLX7StiSdFQEThGAcOiFFA2SqyufIHQUAQo617q91JQPBrctPCVlJAmP5tPlGLS0Bw045iuh9EQB76gKqmrERA64TxJ8zxTEDJiFOcR8pEQFTijyQK21BAXPgrx42BUkDJb4nRmnkiQNzq/jkXKylAAKVCqyYvSUAYFX761uFUQLlgV1ssW0tAkEh87OtTT0D1ievXcXtLQGPGu3DUplBAlodqajI5REDOPvY3MMpNQDE4HcwsVkxAovMgp1vmQ0BtDC3DHk1GQC0SjNK6bD5A",
          "dtype": "f8"
         },
         "yaxis": "y"
        },
        {
         "hovertemplate": "diet_type=omnivore<br>cluster=%{x}<br>body_mass_kg=%{y}<extra></extra>",
         "legendgroup": "omnivore",
         "marker": {
          "color": "#00cc96",
          "symbol": "circle"
         },
         "mode": "markers",
         "name": "omnivore",
         "orientation": "v",
         "showlegend": true,
         "type": "scatter",
         "x": {
          "bdata": "OAA8AAkAFQBDABgAbgBMAE0AZABpADQACQBDAHQABAACAAMAJwBJACQAJACQAAQAkABJAHcAWQAVABQAgwBZABAAFQBNAFYAkwA0ABYAcgBEAEMAQAABAD8AYwAEAEsARwA/AAIAJABCAJAAQQCFACIAPAAtAJAAZAAfAGcAMAAfAAIAcgAqAEQAAQBvAEAAWwAaAD0AEgBDACoAQwAbAA0AbgCTAGoAbgBLAEkAlAAQACAAEgBLAGgAIABWABUAPQB+ADYANABLACkATQCQABUAGgAbAC0AEwB0AAkASwByACIAOwB5ADsAIwAZAEwAFQAYAGQACAAYAJMAUgAcAAgAFQBaAEsAVQBbACwAGABDABQAHwBZACQAhQABABYAWwBHAGQALACCAI4APAAVAHcAPwBkADEAIwADABYABgA3ADcATQAsABYAAQASAEsAHAASAAIAGwA7AFoAIgACACoAaAA8ADgALQASADgATABLACsAOwA9AAoACgByABYA",
          "dtype": "i2"
         },
         "xaxis": "x",
         "y": {
          "bdata": "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",
          "dtype": "f8"
         },
         "yaxis": "y"
        }
       ],
       "layout": {
        "legend": {
         "title": {
          "text": "diet_type"
         },
         "tracegroupgap": 0
        },
        "margin": {
         "t": 60
        },
        "template": {
         "data": {
          "bar": [
           {
            "error_x": {
             "color": "#2a3f5f"
            },
            "error_y": {
             "color": "#2a3f5f"
            },
            "marker": {
             "line": {
              "color": "#E5ECF6",
              "width": 0.5
             },
             "pattern": {
              "fillmode": "overlay",
              "size": 10,
              "solidity": 0.2
             }
            },
            "type": "bar"
           }
          ],
          "barpolar": [
           {
            "marker": {
             "line": {
              "color": "#E5ECF6",
              "width": 0.5
             },
             "pattern": {
              "fillmode": "overlay",
              "size": 10,
              "solidity": 0.2
             }
            },
            "type": "barpolar"
           }
          ],
          "carpet": [
           {
            "aaxis": {
             "endlinecolor": "#2a3f5f",
             "gridcolor": "white",
             "linecolor": "white",
             "minorgridcolor": "white",
             "startlinecolor": "#2a3f5f"
            },
            "baxis": {
             "endlinecolor": "#2a3f5f",
             "gridcolor": "white",
             "linecolor": "white",
             "minorgridcolor": "white",
             "startlinecolor": "#2a3f5f"
            },
            "type": "carpet"
           }
          ],
          "choropleth": [
           {
            "colorbar": {
             "outlinewidth": 0,
             "ticks": ""
            },
            "type": "choropleth"
           }
          ],
          "contour": [
           {
            "colorbar": {
             "outlinewidth": 0,
             "ticks": ""
            },
            "colorscale": [
             [
              0,
              "#0d0887"
             ],
             [
              0.1111111111111111,
              "#46039f"
             ],
             [
              0.2222222222222222,
              "#7201a8"
             ],
             [
              0.3333333333333333,
              "#9c179e"
             ],
             [
              0.4444444444444444,
              "#bd3786"
             ],
             [
              0.5555555555555556,
              "#d8576b"
             ],
             [
              0.6666666666666666,
              "#ed7953"
             ],
             [
              0.7777777777777778,
              "#fb9f3a"
             ],
             [
              0.8888888888888888,
              "#fdca26"
             ],
             [
              1,
              "#f0f921"
             ]
            ],
            "type": "contour"
           }
          ],
          "contourcarpet": [
           {
            "colorbar": {
             "outlinewidth": 0,
             "ticks": ""
            },
            "type": "contourcarpet"
           }
          ],
          "heatmap": [
           {
            "colorbar": {
             "outlinewidth": 0,
             "ticks": ""
            },
            "colorscale": [
             [
              0,
              "#0d0887"
             ],
             [
              0.1111111111111111,
              "#46039f"
             ],
             [
              0.2222222222222222,
              "#7201a8"
             ],
             [
              0.3333333333333333,
              "#9c179e"
             ],
             [
              0.4444444444444444,
              "#bd3786"
             ],
             [
              0.5555555555555556,
              "#d8576b"
             ],
             [
              0.6666666666666666,
              "#ed7953"
             ],
             [
              0.7777777777777778,
              "#fb9f3a"
             ],
             [
              0.8888888888888888,
              "#fdca26"
             ],
             [
              1,
              "#f0f921"
             ]
            ],
            "type": "heatmap"
           }
          ],
          "histogram": [
           {
            "marker": {
             "pattern": {
              "fillmode": "overlay",
              "size": 10,
              "solidity": 0.2
             }
            },
            "type": "histogram"
           }
          ],
          "histogram2d": [
           {
            "colorbar": {
             "outlinewidth": 0,
             "ticks": ""
            },
            "colorscale": [
             [
              0,
              "#0d0887"
             ],
             [
              0.1111111111111111,
              "#46039f"
             ],
             [
              0.2222222222222222,
              "#7201a8"
             ],
             [
              0.3333333333333333,
              "#9c179e"
             ],
             [
              0.4444444444444444,
              "#bd3786"
             ],
             [
              0.5555555555555556,
              "#d8576b"
             ],
             [
              0.6666666666666666,
              "#ed7953"
             ],
             [
              0.7777777777777778,
              "#fb9f3a"
             ],
             [
              0.8888888888888888,
              "#fdca26"
             ],
             [
              1,
              "#f0f921"
             ]
            ],
            "type": "histogram2d"
           }
          ],
          "histogram2dcontour": [
           {
            "colorbar": {
             "outlinewidth": 0,
             "ticks": ""
            },
            "colorscale": [
             [
              0,
              "#0d0887"
             ],
             [
              0.1111111111111111,
              "#46039f"
             ],
             [
              0.2222222222222222,
              "#7201a8"
             ],
             [
              0.3333333333333333,
              "#9c179e"
             ],
             [
              0.4444444444444444,
              "#bd3786"
             ],
             [
              0.5555555555555556,
              "#d8576b"
             ],
             [
              0.6666666666666666,
              "#ed7953"
             ],
             [
              0.7777777777777778,
              "#fb9f3a"
             ],
             [
              0.8888888888888888,
              "#fdca26"
             ],
             [
              1,
              "#f0f921"
             ]
            ],
            "type": "histogram2dcontour"
           }
          ],
          "mesh3d": [
           {
            "colorbar": {
             "outlinewidth": 0,
             "ticks": ""
            },
            "type": "mesh3d"
           }
          ],
          "parcoords": [
           {
            "line": {
             "colorbar": {
              "outlinewidth": 0,
              "ticks": ""
             }
            },
            "type": "parcoords"
           }
          ],
          "pie": [
           {
            "automargin": true,
            "type": "pie"
           }
          ],
          "scatter": [
           {
            "fillpattern": {
             "fillmode": "overlay",
             "size": 10,
             "solidity": 0.2
            },
            "type": "scatter"
           }
          ],
          "scatter3d": [
           {
            "line": {
             "colorbar": {
              "outlinewidth": 0,
              "ticks": ""
             }
            },
            "marker": {
             "colorbar": {
              "outlinewidth": 0,
              "ticks": ""
             }
            },
            "type": "scatter3d"
           }
          ],
          "scattercarpet": [
           {
            "marker": {
             "colorbar": {
              "outlinewidth": 0,
              "ticks": ""
             }
            },
            "type": "scattercarpet"
           }
          ],
          "scattergeo": [
           {
            "marker": {
             "colorbar": {
              "outlinewidth": 0,
              "ticks": ""
             }
            },
            "type": "scattergeo"
           }
          ],
          "scattergl": [
           {
            "marker": {
             "colorbar": {
              "outlinewidth": 0,
              "ticks": ""
             }
            },
            "type": "scattergl"
           }
          ],
          "scattermap": [
           {
            "marker": {
             "colorbar": {
              "outlinewidth": 0,
              "ticks": ""
             }
            },
            "type": "scattermap"
           }
          ],
          "scattermapbox": [
           {
            "marker": {
             "colorbar": {
              "outlinewidth": 0,
              "ticks": ""
             }
            },
            "type": "scattermapbox"
           }
          ],
          "scatterpolar": [
           {
            "marker": {
             "colorbar": {
              "outlinewidth": 0,
              "ticks": ""
             }
            },
            "type": "scatterpolar"
           }
          ],
          "scatterpolargl": [
           {
            "marker": {
             "colorbar": {
              "outlinewidth": 0,
              "ticks": ""
             }
            },
            "type": "scatterpolargl"
           }
          ],
          "scatterternary": [
           {
            "marker": {
             "colorbar": {
              "outlinewidth": 0,
              "ticks": ""
             }
            },
            "type": "scatterternary"
           }
          ],
          "surface": [
           {
            "colorbar": {
             "outlinewidth": 0,
             "ticks": ""
            },
            "colorscale": [
             [
              0,
              "#0d0887"
             ],
             [
              0.1111111111111111,
              "#46039f"
             ],
             [
              0.2222222222222222,
              "#7201a8"
             ],
             [
              0.3333333333333333,
              "#9c179e"
             ],
             [
              0.4444444444444444,
              "#bd3786"
             ],
             [
              0.5555555555555556,
              "#d8576b"
             ],
             [
              0.6666666666666666,
              "#ed7953"
             ],
             [
              0.7777777777777778,
              "#fb9f3a"
             ],
             [
              0.8888888888888888,
              "#fdca26"
             ],
             [
              1,
              "#f0f921"
             ]
            ],
            "type": "surface"
           }
          ],
          "table": [
           {
            "cells": {
             "fill": {
              "color": "#EBF0F8"
             },
             "line": {
              "color": "white"
             }
            },
            "header": {
             "fill": {
              "color": "#C8D4E3"
             },
             "line": {
              "color": "white"
             }
            },
            "type": "table"
           }
          ]
         },
         "layout": {
          "annotationdefaults": {
           "arrowcolor": "#2a3f5f",
           "arrowhead": 0,
           "arrowwidth": 1
          },
          "autotypenumbers": "strict",
          "coloraxis": {
           "colorbar": {
            "outlinewidth": 0,
            "ticks": ""
           }
          },
          "colorscale": {
           "diverging": [
            [
             0,
             "#8e0152"
            ],
            [
             0.1,
             "#c51b7d"
            ],
            [
             0.2,
             "#de77ae"
            ],
            [
             0.3,
             "#f1b6da"
            ],
            [
             0.4,
             "#fde0ef"
            ],
            [
             0.5,
             "#f7f7f7"
            ],
            [
             0.6,
             "#e6f5d0"
            ],
            [
             0.7,
             "#b8e186"
            ],
            [
             0.8,
             "#7fbc41"
            ],
            [
             0.9,
             "#4d9221"
            ],
            [
             1,
             "#276419"
            ]
           ],
           "sequential": [
            [
             0,
             "#0d0887"
            ],
            [
             0.1111111111111111,
             "#46039f"
            ],
            [
             0.2222222222222222,
             "#7201a8"
            ],
            [
             0.3333333333333333,
             "#9c179e"
            ],
            [
             0.4444444444444444,
             "#bd3786"
            ],
            [
             0.5555555555555556,
             "#d8576b"
            ],
            [
             0.6666666666666666,
             "#ed7953"
            ],
            [
             0.7777777777777778,
             "#fb9f3a"
            ],
            [
             0.8888888888888888,
             "#fdca26"
            ],
            [
             1,
             "#f0f921"
            ]
           ],
           "sequentialminus": [
            [
             0,
             "#0d0887"
            ],
            [
             0.1111111111111111,
             "#46039f"
            ],
            [
             0.2222222222222222,
             "#7201a8"
            ],
            [
             0.3333333333333333,
             "#9c179e"
            ],
            [
             0.4444444444444444,
             "#bd3786"
            ],
            [
             0.5555555555555556,
             "#d8576b"
            ],
            [
             0.6666666666666666,
             "#ed7953"
            ],
            [
             0.7777777777777778,
             "#fb9f3a"
            ],
            [
             0.8888888888888888,
             "#fdca26"
            ],
            [
             1,
             "#f0f921"
            ]
           ]
          },
          "colorway": [
           "#636efa",
           "#EF553B",
           "#00cc96",
           "#ab63fa",
           "#FFA15A",
           "#19d3f3",
           "#FF6692",
           "#B6E880",
           "#FF97FF",
           "#FECB52"
          ],
          "font": {
           "color": "#2a3f5f"
          },
          "geo": {
           "bgcolor": "white",
           "lakecolor": "white",
           "landcolor": "#E5ECF6",
           "showlakes": true,
           "showland": true,
           "subunitcolor": "white"
          },
          "hoverlabel": {
           "align": "left"
          },
          "hovermode": "closest",
          "mapbox": {
           "style": "light"
          },
          "paper_bgcolor": "white",
          "plot_bgcolor": "#E5ECF6",
          "polar": {
           "angularaxis": {
            "gridcolor": "white",
            "linecolor": "white",
            "ticks": ""
           },
           "bgcolor": "#E5ECF6",
           "radialaxis": {
            "gridcolor": "white",
            "linecolor": "white",
            "ticks": ""
           }
          },
          "scene": {
           "xaxis": {
            "backgroundcolor": "#E5ECF6",
            "gridcolor": "white",
            "gridwidth": 2,
            "linecolor": "white",
            "showbackground": true,
            "ticks": "",
            "zerolinecolor": "white"
           },
           "yaxis": {
            "backgroundcolor": "#E5ECF6",
            "gridcolor": "white",
            "gridwidth": 2,
            "linecolor": "white",
            "showbackground": true,
            "ticks": "",
            "zerolinecolor": "white"
           },
           "zaxis": {
            "backgroundcolor": "#E5ECF6",
            "gridcolor": "white",
            "gridwidth": 2,
            "linecolor": "white",
            "showbackground": true,
            "ticks": "",
            "zerolinecolor": "white"
           }
          },
          "shapedefaults": {
           "line": {
            "color": "#2a3f5f"
           }
          },
          "ternary": {
           "aaxis": {
            "gridcolor": "white",
            "linecolor": "white",
            "ticks": ""
           },
           "baxis": {
            "gridcolor": "white",
            "linecolor": "white",
            "ticks": ""
           },
           "bgcolor": "#E5ECF6",
           "caxis": {
            "gridcolor": "white",
            "linecolor": "white",
            "ticks": ""
           }
          },
          "title": {
           "x": 0.05
          },
          "xaxis": {
           "automargin": true,
           "gridcolor": "white",
           "linecolor": "white",
           "ticks": "",
           "title": {
            "standoff": 15
           },
           "zerolinecolor": "white",
           "zerolinewidth": 2
          },
          "yaxis": {
           "automargin": true,
           "gridcolor": "white",
           "linecolor": "white",
           "ticks": "",
           "title": {
            "standoff": 15
           },
           "zerolinecolor": "white",
           "zerolinewidth": 2
          }
         }
        },
        "xaxis": {
         "anchor": "y",
         "domain": [
          0,
          1
         ],
         "title": {
          "text": "cluster"
         }
        },
        "yaxis": {
         "anchor": "x",
         "domain": [
          0,
          1
         ],
         "title": {
          "text": "body_mass_kg"
         }
        }
       }
      }
     },
     "metadata": {},
     "output_type": "display_data"
    }
   ],
   "source": [
    "# Cruzamento entre diet_type e body_mass_kg, apresentando os clusters\n",
    "\n",
    "px.scatter(df_species, x='cluster', y='body_mass_kg', color='diet_type')"
   ]
  },
  {
   "cell_type": "code",
   "execution_count": 43,
   "id": "3e9d0880",
   "metadata": {},
   "outputs": [
    {
     "data": {
      "application/vnd.plotly.v1+json": {
       "config": {
        "plotlyServerURL": "https://plot.ly"
       },
       "data": [
        {
         "hovertemplate": "diet_type=%{x}<br>body_mass_kg=%{y}<br>cluster=%{marker.color}<extra></extra>",
         "legendgroup": "",
         "marker": {
          "color": {
           "bdata": "LgAeAC8AAwB6ADgAIgBvADwAYQAJABUAXABDABgABAAJAAsAFwBuAEwAMQB+AE0AQABkACcAjgCKAIQAUAAvABMAdwBpAIQAYQAJAEMANQCIADQARgBnAAkAQwBtAHQAEAAbAAQAAgCVAAMAOQAgACcAFgBIAHUASQB3ABcACgAkAA4AJAARAJAABACAABEAkABYAAUAQgBJACYAdwBXAH8ALwA1AFkAFQAFABQAcgB8AFEAFAAZAIMAWQCFACoAEAB6ABUANwAyAIEAOgBKAE0AHwBYAIgAAQBWAHwACQCAADAAkwBoADkACwAMADQAPgAWADMAZgAmAAMAawBeAHIARAAxAEUANwA+AEQAKABsAEMALQCGAAwAUwCSAHYAfABqAFcAgQCNAEAAiwABAD8APgCIAAkAMABjAGsAPgBlAAQADgAEAEsAiQAvAEcAFABXAH8APwACAD4ALABGAIcAkQAkAFgAjAAWAEIADwCQAIsANgBBAEgAUgCFACIAPAArAC0AJgCQABEAHQBgAGQAHwAMAA4AGwAqACQAbwBnADAAHQADAHsAHwBIACUAAgByAIoAMQCCACoAEQBEAJIADgAfABoAXQABAIkAbwBAAB8AeQBbABoAPQASADoAdwBDAEAAKACGACoAQwCKAAgAlAASACYAJQABAGUAGwALABcALAALAA0AIgBuAEEAXgBsACgAVAA9AAAAAABJACUACwCKACIALwBDAJMAfwBqAHMACAAnAFoAbgArAA4ASwAjABMASQCUAEYAIAAQACAAIABBADoAEgAcADUARQBLAGgAIAA3AEYAagBzAA4AVgCHABUAEABRAFAAPQB+ABcAeABXADYAZQAJAHMANAARAB0ASwApAFkATQB2AAsAfgB/AHsABQBfACAACwCQABUALQCVAE0AGgAbAA8AMAAtAIkABgATAEYAZwAvAFcAkQB0AAkAhQBLAAYASAATAHIAiQAiAHoAAAA7AHkATwA7ACMAcABXAFQAMgBiADEAJwAZAH8AJQB2AC4AAgBRAGYATAAhABUAGABTADoAGQBZAFcALQATABQAEQBmAC4ADwBkAAgAjQAYAAwAkwBSAHIAHAAIABUAWgBqAGMANgBgAEsACgBVAEUAMQCAAEoAWwAsACgAQgBVABgAXwBDABQAaQAKAB8AWQAkAIUAbAAeABcAHwABADMAJgAnABYAGABbAAcAGgBHAAcAMgAMAB8ABwCLAIcAEwAHABwAjwCEAGQALAAmAHUATgCCAI4AHAA8AA0AFQB3AD8ATgBdADkAZAAHABEAIQATAHEAOQAxACMAQAApAA8AAwAWADMABgAnAHoAHgAfAJUANwA3AE0AUABEACwAPgAWAJQANQAGAAEAZQB2AAYAfQASAAEASwAWAA8ACgB4AGIAHAA1ABIAXgAkAAIAgwAbADsAWgAaAB0AIgACAEAAKgBdAEAAewA5AFwAaACSABAADABhAEQAeQB6ADwADgA4AA0ALQBtABIAYQBYADgACwBMAAIAiQBLACsAOwA1AB0ALgAhAIUANwA9AAoAZwAKAFEAlQAOAC4AcgAmAAUATwAWAAcA",
           "dtype": "i2"
          },
          "coloraxis": "coloraxis",
          "symbol": "circle"
         },
         "mode": "markers",
         "name": "",
         "orientation": "v",
         "showlegend": false,
         "type": "scatter",
         "x": [
          "carnivore",
          "carnivore",
          "carnivore",
          "carnivore",
          "herbivore",
          "omnivore",
          "carnivore",
          "carnivore",
          "omnivore",
          "herbivore",
          "omnivore",
          "omnivore",
          "carnivore",
          "omnivore",
          "omnivore",
          "carnivore",
          "carnivore",
          "carnivore",
          "carnivore",
          "omnivore",
          "omnivore",
          "herbivore",
          "herbivore",
          "omnivore",
          "herbivore",
          "omnivore",
          "herbivore",
          "carnivore",
          "herbivore",
          "carnivore",
          "carnivore",
          "carnivore",
          "carnivore",
          "herbivore",
          "omnivore",
          "carnivore",
          "herbivore",
          "carnivore",
          "herbivore",
          "herbivore",
          "herbivore",
          "omnivore",
          "herbivore",
          "herbivore",
          "omnivore",
          "omnivore",
          "herbivore",
          "omnivore",
          "carnivore",
          "carnivore",
          "omnivore",
          "omnivore",
          "herbivore",
          "omnivore",
          "herbivore",
          "carnivore",
          "omnivore",
          "herbivore",
          "herbivore",
          "carnivore",
          "omnivore",
          "carnivore",
          "herbivore",
          "herbivore",
          "omnivore",
          "herbivore",
          "omnivore",
          "carnivore",
          "omnivore",
          "omnivore",
          "herbivore",
          "herbivore",
          "omnivore",
          "herbivore",
          "herbivore",
          "herbivore",
          "omnivore",
          "herbivore",
          "omnivore",
          "herbivore",
          "carnivore",
          "herbivore",
          "herbivore",
          "omnivore",
          "omnivore",
          "herbivore",
          "carnivore",
          "herbivore",
          "herbivore",
          "carnivore",
          "omnivore",
          "herbivore",
          "omnivore",
          "omnivore",
          "carnivore",
          "carnivore",
          "omnivore",
          "herbivore",
          "omnivore",
          "herbivore",
          "herbivore",
          "carnivore",
          "herbivore",
          "herbivore",
          "omnivore",
          "carnivore",
          "herbivore",
          "herbivore",
          "carnivore",
          "omnivore",
          "carnivore",
          "carnivore",
          "herbivore",
          "herbivore",
          "omnivore",
          "herbivore",
          "herbivore",
          "carnivore",
          "herbivore",
          "omnivore",
          "carnivore",
          "omnivore",
          "carnivore",
          "herbivore",
          "carnivore",
          "carnivore",
          "herbivore",
          "herbivore",
          "omnivore",
          "omnivore",
          "herbivore",
          "herbivore",
          "herbivore",
          "carnivore",
          "carnivore",
          "carnivore",
          "herbivore",
          "omnivore",
          "herbivore",
          "carnivore",
          "carnivore",
          "herbivore",
          "herbivore",
          "carnivore",
          "carnivore",
          "carnivore",
          "herbivore",
          "carnivore",
          "carnivore",
          "omnivore",
          "herbivore",
          "omnivore",
          "omnivore",
          "carnivore",
          "herbivore",
          "carnivore",
          "herbivore",
          "omnivore",
          "herbivore",
          "carnivore",
          "carnivore",
          "carnivore",
          "herbivore",
          "omnivore",
          "omnivore",
          "herbivore",
          "carnivore",
          "omnivore",
          "carnivore",
          "herbivore",
          "carnivore",
          "omnivore",
          "omnivore",
          "carnivore",
          "herbivore",
          "carnivore",
          "herbivore",
          "carnivore",
          "omnivore",
          "herbivore",
          "herbivore",
          "herbivore",
          "omnivore",
          "carnivore",
          "omnivore",
          "herbivore",
          "carnivore",
          "omnivore",
          "herbivore",
          "herbivore",
          "omnivore",
          "omnivore",
          "omnivore",
          "herbivore",
          "omnivore",
          "herbivore",
          "omnivore",
          "herbivore",
          "herbivore",
          "carnivore",
          "omnivore",
          "omnivore",
          "herbivore",
          "herbivore",
          "herbivore",
          "carnivore",
          "carnivore",
          "herbivore",
          "omnivore",
          "omnivore",
          "carnivore",
          "carnivore",
          "herbivore",
          "omnivore",
          "herbivore",
          "carnivore",
          "omnivore",
          "omnivore",
          "carnivore",
          "herbivore",
          "herbivore",
          "omnivore",
          "carnivore",
          "omnivore",
          "carnivore",
          "herbivore",
          "carnivore",
          "herbivore",
          "carnivore",
          "omnivore",
          "herbivore",
          "omnivore",
          "omnivore",
          "herbivore",
          "herbivore",
          "omnivore",
          "omnivore",
          "omnivore",
          "omnivore",
          "herbivore",
          "herbivore",
          "omnivore",
          "carnivore",
          "carnivore",
          "herbivore",
          "omnivore",
          "omnivore",
          "herbivore",
          "carnivore",
          "carnivore",
          "carnivore",
          "herbivore",
          "carnivore",
          "herbivore",
          "herbivore",
          "omnivore",
          "carnivore",
          "herbivore",
          "carnivore",
          "carnivore",
          "omnivore",
          "carnivore",
          "omnivore",
          "herbivore",
          "carnivore",
          "herbivore",
          "carnivore",
          "herbivore",
          "carnivore",
          "carnivore",
          "carnivore",
          "carnivore",
          "carnivore",
          "carnivore",
          "carnivore",
          "carnivore",
          "carnivore",
          "herbivore",
          "omnivore",
          "carnivore",
          "omnivore",
          "carnivore",
          "carnivore",
          "herbivore",
          "herbivore",
          "omnivore",
          "herbivore",
          "herbivore",
          "omnivore",
          "herbivore",
          "carnivore",
          "omnivore",
          "omnivore",
          "carnivore",
          "herbivore",
          "omnivore",
          "omnivore",
          "carnivore",
          "carnivore",
          "herbivore",
          "omnivore",
          "herbivore",
          "herbivore",
          "carnivore",
          "omnivore",
          "omnivore",
          "omnivore",
          "carnivore",
          "carnivore",
          "carnivore",
          "carnivore",
          "carnivore",
          "omnivore",
          "herbivore",
          "omnivore",
          "herbivore",
          "carnivore",
          "herbivore",
          "omnivore",
          "omnivore",
          "herbivore",
          "carnivore",
          "carnivore",
          "omnivore",
          "herbivore",
          "carnivore",
          "carnivore",
          "omnivore",
          "carnivore",
          "herbivore",
          "omnivore",
          "omnivore",
          "herbivore",
          "omnivore",
          "carnivore",
          "carnivore",
          "herbivore",
          "carnivore",
          "herbivore",
          "herbivore",
          "carnivore",
          "herbivore",
          "carnivore",
          "omnivore",
          "omnivore",
          "herbivore",
          "carnivore",
          "carnivore",
          "omnivore",
          "omnivore",
          "carnivore",
          "herbivore",
          "omnivore",
          "herbivore",
          "herbivore",
          "omnivore",
          "herbivore",
          "herbivore",
          "carnivore",
          "herbivore",
          "carnivore",
          "omnivore",
          "omnivore",
          "carnivore",
          "omnivore",
          "herbivore",
          "herbivore",
          "herbivore",
          "omnivore",
          "herbivore",
          "omnivore",
          "herbivore",
          "carnivore",
          "omnivore",
          "omnivore",
          "herbivore",
          "omnivore",
          "omnivore",
          "carnivore",
          "carnivore",
          "herbivore",
          "carnivore",
          "herbivore",
          "herbivore",
          "herbivore",
          "omnivore",
          "carnivore",
          "herbivore",
          "carnivore",
          "herbivore",
          "carnivore",
          "carnivore",
          "herbivore",
          "omnivore",
          "carnivore",
          "omnivore",
          "omnivore",
          "herbivore",
          "herbivore",
          "herbivore",
          "carnivore",
          "herbivore",
          "herbivore",
          "carnivore",
          "carnivore",
          "herbivore",
          "herbivore",
          "herbivore",
          "herbivore",
          "omnivore",
          "omnivore",
          "herbivore",
          "omnivore",
          "carnivore",
          "omnivore",
          "omnivore",
          "herbivore",
          "omnivore",
          "omnivore",
          "omnivore",
          "omnivore",
          "carnivore",
          "herbivore",
          "herbivore",
          "carnivore",
          "omnivore",
          "carnivore",
          "omnivore",
          "carnivore",
          "herbivore",
          "herbivore",
          "herbivore",
          "omnivore",
          "omnivore",
          "carnivore",
          "carnivore",
          "herbivore",
          "omnivore",
          "carnivore",
          "omnivore",
          "omnivore",
          "herbivore",
          "herbivore",
          "omnivore",
          "omnivore",
          "omnivore",
          "omnivore",
          "herbivore",
          "carnivore",
          "herbivore",
          "carnivore",
          "omnivore",
          "carnivore",
          "herbivore",
          "herbivore",
          "omnivore",
          "herbivore",
          "omnivore",
          "herbivore",
          "herbivore",
          "omnivore",
          "carnivore",
          "herbivore",
          "carnivore",
          "herbivore",
          "herbivore",
          "herbivore",
          "herbivore",
          "carnivore",
          "carnivore",
          "herbivore",
          "herbivore",
          "carnivore",
          "omnivore",
          "omnivore",
          "carnivore",
          "herbivore",
          "herbivore",
          "omnivore",
          "omnivore",
          "carnivore",
          "omnivore",
          "carnivore",
          "omnivore",
          "omnivore",
          "omnivore",
          "herbivore",
          "herbivore",
          "herbivore",
          "omnivore",
          "carnivore",
          "carnivore",
          "carnivore",
          "carnivore",
          "herbivore",
          "herbivore",
          "omnivore",
          "omnivore",
          "carnivore",
          "herbivore",
          "carnivore",
          "omnivore",
          "omnivore",
          "carnivore",
          "omnivore",
          "carnivore",
          "herbivore",
          "carnivore",
          "herbivore",
          "herbivore",
          "omnivore",
          "omnivore",
          "omnivore",
          "carnivore",
          "carnivore",
          "omnivore",
          "carnivore",
          "omnivore",
          "carnivore",
          "herbivore",
          "herbivore",
          "omnivore",
          "carnivore",
          "carnivore",
          "herbivore",
          "herbivore",
          "omnivore",
          "herbivore",
          "omnivore",
          "herbivore",
          "herbivore",
          "carnivore",
          "herbivore",
          "herbivore",
          "omnivore",
          "herbivore",
          "omnivore",
          "herbivore",
          "herbivore",
          "omnivore",
          "carnivore",
          "omnivore",
          "omnivore",
          "omnivore",
          "carnivore",
          "herbivore",
          "omnivore",
          "omnivore",
          "carnivore",
          "omnivore",
          "herbivore",
          "carnivore",
          "herbivore",
          "herbivore",
          "carnivore",
          "omnivore",
          "herbivore",
          "herbivore",
          "herbivore",
          "herbivore",
          "carnivore",
          "carnivore",
          "herbivore",
          "omnivore",
          "herbivore",
          "omnivore",
          "herbivore",
          "omnivore",
          "herbivore",
          "omnivore",
          "herbivore",
          "herbivore",
          "omnivore",
          "carnivore",
          "omnivore",
          "carnivore",
          "herbivore",
          "omnivore",
          "omnivore",
          "omnivore",
          "carnivore",
          "carnivore",
          "herbivore",
          "carnivore",
          "carnivore",
          "herbivore",
          "omnivore",
          "omnivore",
          "herbivore",
          "omnivore",
          "carnivore",
          "herbivore",
          "herbivore",
          "herbivore",
          "omnivore",
          "herbivore",
          "herbivore",
          "herbivore",
          "omnivore",
          "carnivore"
         ],
         "xaxis": "x",
         "y": {
          "bdata": "lG9alpb3TUCZp4obC55HQIBdCykVek9ALoVgbHodVEADJ40+kahGQOAu/wCcqEZAQiSUdGRlVEC+oRUDUVZQQDv/NEQlTkRANy5xJvRsTkC207GUpl1EQIRqRFm7V0RAfmvwZGxrS0CkeayiAngnQNTFqmXXAC9AIp2tPotgQ0Ap2nP+Tb49QPWEwyF5JExAhB0Jr+rWP0BH5+ZKAcE1QCS04ckH1FNAD/xjPgO+RkAa7MJI36xJQMWOrw5KgTVA1JFwVmGOQ0A+6nc69htKQKZNvbLp+jpArKoLdMnBTEBO3ZxtXf5CQBfniZVDFUZAvOD6jaH7QkD7zPeD6sJVQFyjc3Vy3UhAqECWIYXYPEA430yE25xQQF3npM9HlTlAQrR62LAWS0AYhrdZ+pwlQEGOY/uvbzdAjRTD+vb3SkCmWJu6PDFQQJnTsOqztkpAEgrdvfDXR0CGZJuuLP1FQPgZI6j3bTRAFExL5jLNQUCulGrGw2REQL5so88dyVFAPQqorqlvTEC8St8DeHotQMkVkaunPUxAnm0JejAmRUAYbttlFDtCQA4aMyzkHU9AAo9s7K2nUUBlGJPeCShRQFZJa2eam0BAeAHOk2roRUD2Y2rNCFBMQEDQk6CyYFFAA7AZX1A1REBlM3aItiRHQEV2dJ+Q3ztAj0y+DWwTOkBksSN2CJBQQF8wibv8R1NAmFBccqdHSEAhiPSohYRRQKpZDsnJnUxAqaxPUX6MQkB/xFk5LJ1MQAoeddKvMFRAgcYIDEmkSEA/E+JuvlJUQAAAAAAAABRA3vU7AwmcUEDN9Kgq195JQNra9IqKAkZAZsGuV+jqSUDMtzFYS38kQIHf4tSjzUZAiVV8SzWSTEABlxFStONTQDE9BG460UNASHzloUHqQEDuqgCBgPtDQAYZR/e2E1FA3B7FU5pJTECU+1Ra0LNDQME86fH2IU5AsEEkvoT4SUBt3SqX3VdRQFppAXy++kFAGEHqVS+5RUA0BjIANBRFQOxO66/NujRAhr+AYhH2S0ArnOQuTZxLQCR9qicXDUlA3ens+XSnRkB7kM9CTbE1QP4Sm+Ely0RA3odMnaaSRUCJsJ+RK/pAQPXSxssbY0dAaGT/xF4KTUCoYGdlUe5VQBczv1DrvkpAUENcOVSTS0Cqougfa0FIQLBgp2LIPydA0I3Y3R+8SEB7R2t4MJpJQHNF6Czz0FhAdmFwUY4TR0CSL/cQ9gNMQAZMa0sjp0hAvWmRUl6gOkDNUgsu0DZSQObbiGp5QlBAmDQxWYV0UEBCR92s788/QFBtyqOTg1NA4OJkxoX2NUBI+jyqWt5OQCL33H/Ic1dA/kVZOnQwPkAIkrMeR1ZDQCGIxIQb/0lAHWMAMhr3Q0AwW3ltmvwyQGYVYW6Fr0lAaYq+RgHBPEDPHAyJZbxNQMdRiESMnD9ATnp+geo/VEC6UFEf3ypBQOn2xcOFx0VAo61gUk2RUEArDu6F+WE5QBfAiiRMRktAYjuoiSQJU0Aa0yWTr9kxQC1OQaWp2EpAmOa8yUyZS0Djvfe3u2hQQDJL2PbPQjlAeFKsG0OXN0DkedufKzhOQHB/HeBH+EtAciyR/kKBS0ACeW9M6HZMQCB9m/8iM0JA5NBwyJFSS0C2weH5Q+5LQFhBmadC20FAtmLn/TDUVUDD154kA71NQH0VHq6GLDpA5YcT+caQT0CMQr89oYE+QHVLCeJ3b1BAiqJtmQBLUkBLvcaiDctAQNVBDBcfUVFAWgy4G7ggTUC0mlisPJxQQK7n4h/l+1VA+2e9cc6LRkCUuKJ3b3ZBQAJiytLXGkBAfFRXkobXQEDdAayfnjpIQHQItFtZaUxA60MOFVTES0AyCzRoy6JQQHMEfOtIIUlAow/hC4bEU0DwzG1/elpGQDBzUgjRGVpA8kFgWrVBT0BYukw5rW1AQGTq8cgHlTxAhuo+HyHTTUAmhtNt78NGQFJEka7rEVBAD813An27TUDbWgPYjkVIQCth2EQ1iEBAyMEWcvuzM0Cs+AT264hEQAbExcEwyFBAlyzleRQkS0DrdZlE0RU5QOE3ANpXu0pAXSgVmWnaTEC05cswUylAQA4aEkmJiUpAKq1sqgOVSUCkXKL4/SM7QDEuRIbvk0xATotIv5ubTkBYpjo7TupRQO28PdvdxFFAUHe+NFVyNkCg5LP2VT4/QGl6QYN9Jk5AOh/DwkojTkBBptWmhSZOQCMoCw5/w19AKT0aznq1TkBULyMmhi1SQO6lQEwfRVFA1pY8xY+DT0DWWdgl6dhFQCxyvwh7S1BAlF50RJFFQUB8rNGOvqFGQOEIMiV4JURAJYY2CZnRSUBCWLJRwxJYQDtfYlU0TylAfQ12etPcT0CGAaYN5b4xQPTwgLvaR0RALqzkVNvxUUA/A6aNjqRJQE0tW13ycTxAnzWkj9LYQUC2GEUuxctPQCvamuxCskFAvu0fTSIqS0DlDQT2qXRJQDW1OTLne0JAHoZkmT84V0B4rqMr1VZPQNG/tjeK/iJA7VMhs1LdSkDa11if02FCQJrZ6lodw1BAPUzemyUTQUALZ2JTRtpHQMErkXbEDE5AloN6qSrUUEBiyEt+e/45QFrqI0Wtp0VAYsBD1yNAREBVwHUnendCQI31ogvIU1VA5o1o0MAMTUCxmPEuRsg4QDo3uADdFlFAbt2DJFwcV0DRnXE3jqlRQL4O8mXTnDNAQk6mW1woREC7eANypdVSQDnlL71d7EFAuywcgC1wTUAOPC0WiF9QQCIgOrEddj9AcVFwdp1nSEAAAAAAAAAUQFvaeKEigz1AUY2x72x5RkA7PrOgWQs5QBMJPIl8qVRA3Q3UF61lNUBzg/hxfJlEQAsKDSWyTkpAxa9tbtS0U0DpZt7CYkg1QLL9kH/ZUFJAxivAVjIaSUDUKBz7rF4+QIpJBSL8nk1A0WUYw5f9SkAQ9Qzecf9CQFg/kn6xsklAAr+T4ZglRUAZ1DW6miJKQJJ2d/UNn09AbUCF/RluVECYIil4Yj45QDogT2BIKldAwzV19Z7qJUDpBMAebntHQNxAf5AX4k5ApKOX1FbPS0BBW4ek48VCQK50gwA160ZAxm1P6OoRRECiGLPpORtDQHOXep19v1BAsNo7q/WRTEB9tYTEJhJCQIBbHuN8/1BAQmpi0K8STEBe2rqodpBQQHzNzo7ZS09A5Wxj1MW1QEDGJeXA72VDQF2SJCuJPFBALuDUQYwaT0Cr5W7ufcpIQGBdhqxbLEpA7EqpO2njUkAUAk3GkxVDQI2GXr2ReE5Anwz3BWP6RkAD2ldyvNJGQB9v6DJv/lFAwm/ibYigUECeBGjWSpFQQKO+p0sDB1NA2AfhE8U1SUAPOAOzzNFPQH7zEZS35UVAwgMoqd09TEB45Khy1bJHQHrgjkZP+ElAo1yyG5rzTkC9A57kWtFAQI0tZnZB9lZARQbR5TDhPUCMBZKzWrc5QLkfYsVhSlJAmysUCFR1UEC+Ps4pvz1PQBXJUIOQSE9A3Gh39KXgSEDRwAZgBwdAQD9Md0YPwklAXIX9THc6QkBBkfc7J2BRQBMhdnmIh0dAaF04KLq+QECTByeTQMlFQAcJBMIaIU1ACowhet1cQ0BEYT2kHcdAQKsc1tnWb0tAkkDDSh1zS0CMgXi4Oe5DQH0PBlYkSkRAI+Y3PwxSS0DOYlTkzgk1QJ715hTJ2TVAvDQpZcjQQUCPu09Gk91GQFs512HsG0xAOL6kuXTgU0AEw8PnzclQQB5eXK+OZkdA4qO5iVHPSEDgBBC2DPM9QLCpLzub0EhAJE2lrAgdRkCapPDVKDpMQBcJyO1JukBACJN77oYxTkBoQxPj5ylUQGmy+PKS6UdAEllQy2EETUAeTTPExOZPQH6lyybg/ERAWo22P609S0D+W0eOPCBJQFquCAIN+klABofcThhFQUA8neD8vj5JQIKh/yjg+k1AUmXGvHbBU0DfNkLd3UtRQEuq4tMSRFdAJE7nGZdTQUDAtLcGktxQQOxKUgRb1UpAHEYKoPJyV0AU3r2iwepAQIn3vORPmkBAzowvCY4BQ0AAA76VnRYeQM67YTARvkNAqgOl0Z5oQUCDXmgSAoFKQDPBPzLlakxAnrQcqX/hVUBKvR/iikBRQBDfk2sgO0NARR8D9g4EQEBm9fIlUOtNQBoQT+5nmDdAuZWMaESoVUDscFLwrmVSQOdObQvpTkRAuEC8noB5L0Da/Unm9ERTQNSCwSrH2kdAIegrpmewUkCSznDHhxwyQDO+v5WZAUNAFv/TgmwNSUCNqbEzRXhJQNdgtRfVf0RAs3uB7n46T0CjNAGNyKU8QEofQi6Ck0dA7Ir48fQzSkA6v2Ci9iROQK2xl/bdDlBAxQYNHtWBO0D1NMffVVEzQHuOGCRt41JAioyWT7lSTEDV7gfd34NBQKP5tXp5QVRAWKVAhyAoSkBbGO0ZgGVSQO1Rd+nYrElACldJ4cHNVkAdIlYW1kZVQBUPDNumgkZAgHaEXpxbUUB57hKVKXRPQPpfUzDZV1NAXk6RhZezPkDaqVCvStxPQNeFLYnIylFAzyfx9YGmLUDmvPtmt1U6QMjHLjNDbiJA2mp3iVFORkBotRI/dBZQQEhW3FsEA1RAhhJbwa69SUDy7fG9oKRUQEUarGrhZTZAaI5fI13dL0CttZJCzHFIQMgt8yE110xAYNl9K02sSEDwNM6UZE0hQFO+eEraG0hARAt+vB3pN0AvigKaXLJPQLmRmdN9qkxAAg03xNAzP0D4bFMtgNxDQJUeEKfT0DxAcrB2oIpfSEBQ5BsJlUZRQBx4EygVST5Adh6m7FsKTkDtWgJeirJDQKF2U9w+EkFAISlTlQDuR0BZeeMuj0s9QK/OKGSodkNABJcWfd0KOkCWhq0h2VJWQP2XSFJGWklA1vId5LMAQkB6C9LfySNLQFOLebBw4EdAJ/L9XFHKRkCcyd1JRCRPQOqaXSCcSVBAITmVxOqxQ0CO6P/B5z1DQHI+qB7eP0ZAAAAAAAAAFEB5UF3FOLIzQEkXJlyZVVNAzlE2BY+5VEDIzLm9d4JGQFQODl/8w05A82S65swcTECH/M6p9+RbQAMrlk4OGVJA+BFg7Ye4R0CZUKAIouM+QKBI2q3+3jFA8L+r7d0IS0Cm/L75vW9BQCREJZ4PjjVAxPqc/sWIQkAScZRmeV48QH3IK5KK71RAo8Eut3/oUEDr0r4Ml+tIQJ4ybhhU5lNAE+8WGBDGSUAWVivJHGNAQOUdMkyZHVRAix0TFpxjTkBxUnm4TEE9QJqr2KS7GEdAelFL0mo+QEDDz5O8EFg2QH6w2NuBIVFAeUkOpQ0MVkCyA3iCVQc2QJ5m2oQzoU5ABF3K4lp+QkC0yiyC9SBEQBZzwrd4E0NAEMtZAi9cQECVt1MiN3xJQG4SHojEsEBANQvZlV60S0DoB93zY39IQC6oDAJLnEZA590pKEbZP0DVYgskdztDQO0IzZjmRlBAl4KMFlkCTkCUIx/K6nI+QFCMcGtK/klANpZXiMZBUEDMRyQcpZwwQG4zIokAb05AAcCx5K5fQkDUfB+Lu7ROQAHGqnoOXkFAh2e03QHOK0BKy2iT+3IxQMhnXfMYe0lAa0odveOYS0AP8/Yc5uk/QOM1K/TLYk9AgCOKbATFMEDK1XLx1VZIQIThvdiYxzlAwmA6sEx7QkBNx3cxV3lJQCmkNn9XZUBAy1+0rYknRUBE4RgHDohRQKKy9iQoO0NAijlel6+tUEDzkaeh5mc7QJVNTndMTE5A21OjNDW1U0AAAAAAAAAUQNkqsrnyB0FAWLxA/U3FTkChagEtNPhGQFTA2SgitkxA+N6dRMz1QkAQo617q91JQN+X9F13cUdA8Gty08JWUkCY/m0+UYtLQCqO1kdDYExAdEi9T5jhREBw045iuh9EQB76gKqmrERA64TxJ8zxTEDJiFOcR8pEQFO7p9nS5UtASV9tVYPgVkBU4o8kCttQQI8gzDdhvUVAXPgrx42BUkDCsTm5U+tEQMlvidGaeSJADEpNHJnWPUDc6v45FyspQEdlgx8gfEVAAKVCqyYvSUAYFX761uFUQKzXqB/vRExA1UsGRxrPRkDKg++eo6VQQCBsPunyGxdAuWBXWyxbS0Ca2FIbtVpQQAg0mW+jbTRAKTUrUwE4UkAdBXABjWJMQE64qenc2ERAkEh87OtTT0A+p7mifNpXQOo4cd6T0UpA9Ynr13F7S0CWIqo9CWhEQPyWeP5lgEBAY8a7cNSmUEBb3mLnbHBAQPqMM6Y1t0lAlodqajI5REDOPvY3MMpNQDE4HcwsVkxAHmjEFg2wUUCi8yCnW+ZDQG0MLcMeTUZALRKM0rpsPkAVZhX4m45EQFPsr6bjxUxA",
          "dtype": "f8"
         },
         "yaxis": "y"
        }
       ],
       "layout": {
        "coloraxis": {
         "colorbar": {
          "title": {
           "text": "cluster"
          }
         },
         "colorscale": [
          [
           0,
           "#0d0887"
          ],
          [
           0.1111111111111111,
           "#46039f"
          ],
          [
           0.2222222222222222,
           "#7201a8"
          ],
          [
           0.3333333333333333,
           "#9c179e"
          ],
          [
           0.4444444444444444,
           "#bd3786"
          ],
          [
           0.5555555555555556,
           "#d8576b"
          ],
          [
           0.6666666666666666,
           "#ed7953"
          ],
          [
           0.7777777777777778,
           "#fb9f3a"
          ],
          [
           0.8888888888888888,
           "#fdca26"
          ],
          [
           1,
           "#f0f921"
          ]
         ]
        },
        "legend": {
         "tracegroupgap": 0
        },
        "margin": {
         "t": 60
        },
        "template": {
         "data": {
          "bar": [
           {
            "error_x": {
             "color": "#2a3f5f"
            },
            "error_y": {
             "color": "#2a3f5f"
            },
            "marker": {
             "line": {
              "color": "#E5ECF6",
              "width": 0.5
             },
             "pattern": {
              "fillmode": "overlay",
              "size": 10,
              "solidity": 0.2
             }
            },
            "type": "bar"
           }
          ],
          "barpolar": [
           {
            "marker": {
             "line": {
              "color": "#E5ECF6",
              "width": 0.5
             },
             "pattern": {
              "fillmode": "overlay",
              "size": 10,
              "solidity": 0.2
             }
            },
            "type": "barpolar"
           }
          ],
          "carpet": [
           {
            "aaxis": {
             "endlinecolor": "#2a3f5f",
             "gridcolor": "white",
             "linecolor": "white",
             "minorgridcolor": "white",
             "startlinecolor": "#2a3f5f"
            },
            "baxis": {
             "endlinecolor": "#2a3f5f",
             "gridcolor": "white",
             "linecolor": "white",
             "minorgridcolor": "white",
             "startlinecolor": "#2a3f5f"
            },
            "type": "carpet"
           }
          ],
          "choropleth": [
           {
            "colorbar": {
             "outlinewidth": 0,
             "ticks": ""
            },
            "type": "choropleth"
           }
          ],
          "contour": [
           {
            "colorbar": {
             "outlinewidth": 0,
             "ticks": ""
            },
            "colorscale": [
             [
              0,
              "#0d0887"
             ],
             [
              0.1111111111111111,
              "#46039f"
             ],
             [
              0.2222222222222222,
              "#7201a8"
             ],
             [
              0.3333333333333333,
              "#9c179e"
             ],
             [
              0.4444444444444444,
              "#bd3786"
             ],
             [
              0.5555555555555556,
              "#d8576b"
             ],
             [
              0.6666666666666666,
              "#ed7953"
             ],
             [
              0.7777777777777778,
              "#fb9f3a"
             ],
             [
              0.8888888888888888,
              "#fdca26"
             ],
             [
              1,
              "#f0f921"
             ]
            ],
            "type": "contour"
           }
          ],
          "contourcarpet": [
           {
            "colorbar": {
             "outlinewidth": 0,
             "ticks": ""
            },
            "type": "contourcarpet"
           }
          ],
          "heatmap": [
           {
            "colorbar": {
             "outlinewidth": 0,
             "ticks": ""
            },
            "colorscale": [
             [
              0,
              "#0d0887"
             ],
             [
              0.1111111111111111,
              "#46039f"
             ],
             [
              0.2222222222222222,
              "#7201a8"
             ],
             [
              0.3333333333333333,
              "#9c179e"
             ],
             [
              0.4444444444444444,
              "#bd3786"
             ],
             [
              0.5555555555555556,
              "#d8576b"
             ],
             [
              0.6666666666666666,
              "#ed7953"
             ],
             [
              0.7777777777777778,
              "#fb9f3a"
             ],
             [
              0.8888888888888888,
              "#fdca26"
             ],
             [
              1,
              "#f0f921"
             ]
            ],
            "type": "heatmap"
           }
          ],
          "histogram": [
           {
            "marker": {
             "pattern": {
              "fillmode": "overlay",
              "size": 10,
              "solidity": 0.2
             }
            },
            "type": "histogram"
           }
          ],
          "histogram2d": [
           {
            "colorbar": {
             "outlinewidth": 0,
             "ticks": ""
            },
            "colorscale": [
             [
              0,
              "#0d0887"
             ],
             [
              0.1111111111111111,
              "#46039f"
             ],
             [
              0.2222222222222222,
              "#7201a8"
             ],
             [
              0.3333333333333333,
              "#9c179e"
             ],
             [
              0.4444444444444444,
              "#bd3786"
             ],
             [
              0.5555555555555556,
              "#d8576b"
             ],
             [
              0.6666666666666666,
              "#ed7953"
             ],
             [
              0.7777777777777778,
              "#fb9f3a"
             ],
             [
              0.8888888888888888,
              "#fdca26"
             ],
             [
              1,
              "#f0f921"
             ]
            ],
            "type": "histogram2d"
           }
          ],
          "histogram2dcontour": [
           {
            "colorbar": {
             "outlinewidth": 0,
             "ticks": ""
            },
            "colorscale": [
             [
              0,
              "#0d0887"
             ],
             [
              0.1111111111111111,
              "#46039f"
             ],
             [
              0.2222222222222222,
              "#7201a8"
             ],
             [
              0.3333333333333333,
              "#9c179e"
             ],
             [
              0.4444444444444444,
              "#bd3786"
             ],
             [
              0.5555555555555556,
              "#d8576b"
             ],
             [
              0.6666666666666666,
              "#ed7953"
             ],
             [
              0.7777777777777778,
              "#fb9f3a"
             ],
             [
              0.8888888888888888,
              "#fdca26"
             ],
             [
              1,
              "#f0f921"
             ]
            ],
            "type": "histogram2dcontour"
           }
          ],
          "mesh3d": [
           {
            "colorbar": {
             "outlinewidth": 0,
             "ticks": ""
            },
            "type": "mesh3d"
           }
          ],
          "parcoords": [
           {
            "line": {
             "colorbar": {
              "outlinewidth": 0,
              "ticks": ""
             }
            },
            "type": "parcoords"
           }
          ],
          "pie": [
           {
            "automargin": true,
            "type": "pie"
           }
          ],
          "scatter": [
           {
            "fillpattern": {
             "fillmode": "overlay",
             "size": 10,
             "solidity": 0.2
            },
            "type": "scatter"
           }
          ],
          "scatter3d": [
           {
            "line": {
             "colorbar": {
              "outlinewidth": 0,
              "ticks": ""
             }
            },
            "marker": {
             "colorbar": {
              "outlinewidth": 0,
              "ticks": ""
             }
            },
            "type": "scatter3d"
           }
          ],
          "scattercarpet": [
           {
            "marker": {
             "colorbar": {
              "outlinewidth": 0,
              "ticks": ""
             }
            },
            "type": "scattercarpet"
           }
          ],
          "scattergeo": [
           {
            "marker": {
             "colorbar": {
              "outlinewidth": 0,
              "ticks": ""
             }
            },
            "type": "scattergeo"
           }
          ],
          "scattergl": [
           {
            "marker": {
             "colorbar": {
              "outlinewidth": 0,
              "ticks": ""
             }
            },
            "type": "scattergl"
           }
          ],
          "scattermap": [
           {
            "marker": {
             "colorbar": {
              "outlinewidth": 0,
              "ticks": ""
             }
            },
            "type": "scattermap"
           }
          ],
          "scattermapbox": [
           {
            "marker": {
             "colorbar": {
              "outlinewidth": 0,
              "ticks": ""
             }
            },
            "type": "scattermapbox"
           }
          ],
          "scatterpolar": [
           {
            "marker": {
             "colorbar": {
              "outlinewidth": 0,
              "ticks": ""
             }
            },
            "type": "scatterpolar"
           }
          ],
          "scatterpolargl": [
           {
            "marker": {
             "colorbar": {
              "outlinewidth": 0,
              "ticks": ""
             }
            },
            "type": "scatterpolargl"
           }
          ],
          "scatterternary": [
           {
            "marker": {
             "colorbar": {
              "outlinewidth": 0,
              "ticks": ""
             }
            },
            "type": "scatterternary"
           }
          ],
          "surface": [
           {
            "colorbar": {
             "outlinewidth": 0,
             "ticks": ""
            },
            "colorscale": [
             [
              0,
              "#0d0887"
             ],
             [
              0.1111111111111111,
              "#46039f"
             ],
             [
              0.2222222222222222,
              "#7201a8"
             ],
             [
              0.3333333333333333,
              "#9c179e"
             ],
             [
              0.4444444444444444,
              "#bd3786"
             ],
             [
              0.5555555555555556,
              "#d8576b"
             ],
             [
              0.6666666666666666,
              "#ed7953"
             ],
             [
              0.7777777777777778,
              "#fb9f3a"
             ],
             [
              0.8888888888888888,
              "#fdca26"
             ],
             [
              1,
              "#f0f921"
             ]
            ],
            "type": "surface"
           }
          ],
          "table": [
           {
            "cells": {
             "fill": {
              "color": "#EBF0F8"
             },
             "line": {
              "color": "white"
             }
            },
            "header": {
             "fill": {
              "color": "#C8D4E3"
             },
             "line": {
              "color": "white"
             }
            },
            "type": "table"
           }
          ]
         },
         "layout": {
          "annotationdefaults": {
           "arrowcolor": "#2a3f5f",
           "arrowhead": 0,
           "arrowwidth": 1
          },
          "autotypenumbers": "strict",
          "coloraxis": {
           "colorbar": {
            "outlinewidth": 0,
            "ticks": ""
           }
          },
          "colorscale": {
           "diverging": [
            [
             0,
             "#8e0152"
            ],
            [
             0.1,
             "#c51b7d"
            ],
            [
             0.2,
             "#de77ae"
            ],
            [
             0.3,
             "#f1b6da"
            ],
            [
             0.4,
             "#fde0ef"
            ],
            [
             0.5,
             "#f7f7f7"
            ],
            [
             0.6,
             "#e6f5d0"
            ],
            [
             0.7,
             "#b8e186"
            ],
            [
             0.8,
             "#7fbc41"
            ],
            [
             0.9,
             "#4d9221"
            ],
            [
             1,
             "#276419"
            ]
           ],
           "sequential": [
            [
             0,
             "#0d0887"
            ],
            [
             0.1111111111111111,
             "#46039f"
            ],
            [
             0.2222222222222222,
             "#7201a8"
            ],
            [
             0.3333333333333333,
             "#9c179e"
            ],
            [
             0.4444444444444444,
             "#bd3786"
            ],
            [
             0.5555555555555556,
             "#d8576b"
            ],
            [
             0.6666666666666666,
             "#ed7953"
            ],
            [
             0.7777777777777778,
             "#fb9f3a"
            ],
            [
             0.8888888888888888,
             "#fdca26"
            ],
            [
             1,
             "#f0f921"
            ]
           ],
           "sequentialminus": [
            [
             0,
             "#0d0887"
            ],
            [
             0.1111111111111111,
             "#46039f"
            ],
            [
             0.2222222222222222,
             "#7201a8"
            ],
            [
             0.3333333333333333,
             "#9c179e"
            ],
            [
             0.4444444444444444,
             "#bd3786"
            ],
            [
             0.5555555555555556,
             "#d8576b"
            ],
            [
             0.6666666666666666,
             "#ed7953"
            ],
            [
             0.7777777777777778,
             "#fb9f3a"
            ],
            [
             0.8888888888888888,
             "#fdca26"
            ],
            [
             1,
             "#f0f921"
            ]
           ]
          },
          "colorway": [
           "#636efa",
           "#EF553B",
           "#00cc96",
           "#ab63fa",
           "#FFA15A",
           "#19d3f3",
           "#FF6692",
           "#B6E880",
           "#FF97FF",
           "#FECB52"
          ],
          "font": {
           "color": "#2a3f5f"
          },
          "geo": {
           "bgcolor": "white",
           "lakecolor": "white",
           "landcolor": "#E5ECF6",
           "showlakes": true,
           "showland": true,
           "subunitcolor": "white"
          },
          "hoverlabel": {
           "align": "left"
          },
          "hovermode": "closest",
          "mapbox": {
           "style": "light"
          },
          "paper_bgcolor": "white",
          "plot_bgcolor": "#E5ECF6",
          "polar": {
           "angularaxis": {
            "gridcolor": "white",
            "linecolor": "white",
            "ticks": ""
           },
           "bgcolor": "#E5ECF6",
           "radialaxis": {
            "gridcolor": "white",
            "linecolor": "white",
            "ticks": ""
           }
          },
          "scene": {
           "xaxis": {
            "backgroundcolor": "#E5ECF6",
            "gridcolor": "white",
            "gridwidth": 2,
            "linecolor": "white",
            "showbackground": true,
            "ticks": "",
            "zerolinecolor": "white"
           },
           "yaxis": {
            "backgroundcolor": "#E5ECF6",
            "gridcolor": "white",
            "gridwidth": 2,
            "linecolor": "white",
            "showbackground": true,
            "ticks": "",
            "zerolinecolor": "white"
           },
           "zaxis": {
            "backgroundcolor": "#E5ECF6",
            "gridcolor": "white",
            "gridwidth": 2,
            "linecolor": "white",
            "showbackground": true,
            "ticks": "",
            "zerolinecolor": "white"
           }
          },
          "shapedefaults": {
           "line": {
            "color": "#2a3f5f"
           }
          },
          "ternary": {
           "aaxis": {
            "gridcolor": "white",
            "linecolor": "white",
            "ticks": ""
           },
           "baxis": {
            "gridcolor": "white",
            "linecolor": "white",
            "ticks": ""
           },
           "bgcolor": "#E5ECF6",
           "caxis": {
            "gridcolor": "white",
            "linecolor": "white",
            "ticks": ""
           }
          },
          "title": {
           "x": 0.05
          },
          "xaxis": {
           "automargin": true,
           "gridcolor": "white",
           "linecolor": "white",
           "ticks": "",
           "title": {
            "standoff": 15
           },
           "zerolinecolor": "white",
           "zerolinewidth": 2
          },
          "yaxis": {
           "automargin": true,
           "gridcolor": "white",
           "linecolor": "white",
           "ticks": "",
           "title": {
            "standoff": 15
           },
           "zerolinecolor": "white",
           "zerolinewidth": 2
          }
         }
        },
        "xaxis": {
         "anchor": "y",
         "domain": [
          0,
          1
         ],
         "title": {
          "text": "diet_type"
         }
        },
        "yaxis": {
         "anchor": "x",
         "domain": [
          0,
          1
         ],
         "title": {
          "text": "body_mass_kg"
         }
        }
       }
      }
     },
     "metadata": {},
     "output_type": "display_data"
    }
   ],
   "source": [
    "# Cruzamento entre diet_type e body_mass_kg, apresentando os clusters\n",
    "\n",
    "px.scatter(df_species, x='diet_type', y='body_mass_kg', color='cluster')"
   ]
  },
  {
   "cell_type": "code",
   "execution_count": 44,
   "id": "57f8ca6d",
   "metadata": {},
   "outputs": [
    {
     "data": {
      "application/vnd.plotly.v1+json": {
       "config": {
        "plotlyServerURL": "https://plot.ly"
       },
       "data": [
        {
         "hovertemplate": "diet_type=carnivore<br>cluster=%{x}<br>avg_lifespan_years=%{y}<extra></extra>",
         "legendgroup": "carnivore",
         "marker": {
          "color": "#636efa",
          "symbol": "circle"
         },
         "mode": "markers",
         "name": "carnivore",
         "orientation": "v",
         "showlegend": true,
         "type": "scatter",
         "x": {
          "bdata": "LgAeAC8AAwAiAG8AXAAEAAkACwAXAI4AhABQAC8AEwCEAAkAEAAbACAAdQB3ABEAfwAUAFEAhQAqAIEAHwABAHwACQALAD4AMwAmAAMAPgBEACgAhgAMAHYAfABqAIEAjQA+AAkAPgBlAAQALwAUAH8APgBGAJEADwA2AGAAKgAkAB0AAwAlAIoAEQCSAB8AXQBAACgACACUABIAJQALACwACwAiAF4AKAA9AAAAAABJACUACwCKACIALwB/AHMACAATAEYAIABBAEUANwBGAGoAcwAOAFEAeABXAAkAcwARAHYACwB/AF8ACwCVAE0ADwAvAJEAhQAAAHAAVwAyAH8AdgACAFEAIQBZABMAFAAMAGoAYAAKAEUAKABCAF8AHgAfADMABwAMABMABwCEACYAHAANAAcAEQAhABMAQAAPADMAJwAeAFAARAA+AJQAZQB2AAoAgwAaAEAAQABcAEQAeQALAAIANQAdACEAhQBRAAcA",
          "dtype": "i2"
         },
         "xaxis": "x",
         "y": {
          "bdata": "fPwRT0i9XUDB8GOzfU5eQCXR/Ooc3V1Abrlrg3hhXkAZNtXlDfVdQITF5nb7u11Al7SNRXXcXUBwpEAP6/RdQNrNuRrc611AAiWndlDzXUBhnkOHjdRdQPwYnoBxNl5AT1PucQX/XUBE8YcYrZJdQJoCc/FcNF5A3JvZnFFLXkCiTWpHrjVeQLgW98sOtV1AvdkKgZ86XkBPspGc9S9eQEOE2n0/Ml5AeF7zr4+EXUB+LfU9o1BeQF8/Ow4GxV1A0awAOAfzXUAAOiwPTOZdQJ9fxHvwvF1A4SmdNTtCXkCMdteDG6VdQBh1VZhGQ15AU0/q7D9YXkABs7oi/uhdQC9/oJXtMV5A2DeiNmEFXkA2ZtYISPZdQDMyVd2wzF1AjeMA0RT/XUDxXeEC+g9eQPpB8oWi211Aaq2BaQPWXUAUGo3HVl5eQObRAr04VV5AFYfxnJ0+XkCColckt7FdQDEOAkMYLV5Abk3KkwJdXkBp6HWRw/hdQFtPVfS6Kl5ASHqgO4V2XkBErYvddDleQPqzQJKq8l1AWnA89Y+9XUBArLuoWz1eQBkrmcXhFV5A+UPa4e72XUBhEqcZDdVdQBei9R8i2V1Aalne/+f2XUAVBpk7o4heQFHxL0eq6V1AXyKU5UFGXkAT3Hjy/sxdQIRBd4wrzV1ALVKLu88KXkDa42wafe9dQCoV/vj50l1Ai6JFp2YNXkASNIC6ZSReQJMz/wzt+V1A0NVDqIvaXUApDCNvO5NdQCS48qKKFV5AeQoKZJFBXkCQaMRQNSdeQLJjGBLYMl5AaPrYZSw6XkBUjg+nZh1eQErfcf3qDl5AbGMUQYPCXUBBffXVSfRdQAB+U4sqoV1AcfjF+1j6XUBCX2tqHABeQFbpobRU6l1A67a77BZpXkB70a6w8/BdQK55IqPdqF1AP57qoZYeXkB3xZQ3NEFeQGGuhRzab15A13uN4zPDXUAgr0oQavBdQAQS+biXw11A2u+4GHXXXUDVmBokP8tdQKSRgufYHF5AYRdelWYWXkBRpLzL7ideQMKqq292hl5A6z2r+z85XkBOZiit9XheQN2bWIkpO15A5/nVeFb7XUA+InTILzJeQJoeCWn0el5Ay3WqjNgIXkD55X4oRSxeQHZv6uYXc11A3R0Td6znXUCswoRQ1NFdQAViBUVDD15Ad98Uk0jKXUDxmGCajaRdQHNWu8YfLl5AorkmT2zaXUA+I4N01etdQGaF4OQHwl1AqGc7OjCRXUCcCFjiZK1dQNjqaHl6G15A5X8ON/tqXkCR8Pn9oy5eQBrrxaUs5F1A3dd/Wcc0XkC/IPNcvdtdQHb6oZ+QkF5AM8xbn5bUXUAlrypDmu9dQDITh90c+11A1TeHvu0EXkD9ogs5N2ZeQD87xM/ZoV1A+SO25bUCXkCjgS1XydddQMAj+utx+V1ATPR2DZK7XUC08YxSxPRdQGXTBlFnWV5Aj1bTjgXxXUDsKTou9rVdQCj98zV8Il5AueekJrFqXkADiorGxgdeQKesOSCUCF5AX+JcrYXTXUB1KoReBCNeQEVWLw89JF5AXBNgDDr/XUA/tL+Y96BdQJ1/aqWENV5A3ZAV6rPQXUCVsYpucxteQPDmcFLoEl5Akhb6LKTlXUBCMFjg2QheQPfMOCgfnl1Ad9ltTUxXXUBStB5T5SxeQBYpF3zKMl5AhryqHlflXUBJd/ySTf5dQFANqMWIVF5A9GaS7uKxXUAGJK0BCnBeQI6qSONqrV1AsED6+YtNXkBkKWqWju1dQPL+p6TnC15Asm1g78ZMXkBxhwN6ywNeQLRskBDHrl1AAxDRoR0bXkBrxfXQaOJdQBsyx16TwV1AA8HhxiLiXUD4RK2u1JhdQNZVbZ8hFF5AwuAHk98IXkB1VYJcDQleQJ5q4EraX15ApfFscdP1XUBMVjV428ZdQL18i1UWJF5AmK2FLN8qXkCltV4YoL9dQC3MYOHrN15A",
          "dtype": "f8"
         },
         "yaxis": "y"
        },
        {
         "hovertemplate": "diet_type=herbivore<br>cluster=%{x}<br>avg_lifespan_years=%{y}<extra></extra>",
         "legendgroup": "herbivore",
         "marker": {
          "color": "#EF553B",
          "symbol": "circle"
         },
         "mode": "markers",
         "name": "herbivore",
         "orientation": "v",
         "showlegend": true,
         "type": "scatter",
         "x": {
          "bdata": "egBhADEAfgBAACcAigB3AGEAQwA1AIgARgBnAG0AlQA5ABYASAAXAAoADgCAABEAWAAFAEIAJgBXAC8ANQAFAHIAfAAZAHoANwAyADoASgBYAIgAgAAwAGgAOQAMAGYAawBeADEARQA3AGwALQBTAJIAVwCLAIgAMABrAA4AiQBXACwAhwBYAIwAFgCLAEgAUgArACYAEQAdAAwADgAbAG8AewBIADEAggAOABoAiQAfAHkAOgB3AIYAigAmAAEAZQAXAEEAbABUAEMAJwBaACsADgAjACAAOgAcADUAhwAQAFAAFwBlAB0AWQB+AHsABQAgAC0AMACJAAYARgBnAFcABgBIABMAiQB6AE8AVABiADEAJwAlAC4AZgBTADoAGQBXAC0AEQBmAC4ADwCNAHIAYwA2ADEAgABKAFUAaQAKAGwAFwAmACcAGAAHABoAMgAfAAcAiwCHABwAjwB1AE4ATgBdADkAcQA5ACkAegAfAJUANQAGAAYAfQABABYADwB4AGIANQBeACQAHQBdAHsAOQCSABAADABhAHoADgANAG0AYQBYAIkALgA3AGcAlQAOAC4AJgAFAE8A",
          "dtype": "i2"
         },
         "xaxis": "x",
         "y": {
          "bdata": "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",
          "dtype": "f8"
         },
         "yaxis": "y"
        },
        {
         "hovertemplate": "diet_type=omnivore<br>cluster=%{x}<br>avg_lifespan_years=%{y}<extra></extra>",
         "legendgroup": "omnivore",
         "marker": {
          "color": "#00cc96",
          "symbol": "circle"
         },
         "mode": "markers",
         "name": "omnivore",
         "orientation": "v",
         "showlegend": true,
         "type": "scatter",
         "x": {
          "bdata": "OAA8AAkAFQBDABgAbgBMAE0AZABpADQACQBDAHQABAACAAMAJwBJACQAJACQAAQAkABJAHcAWQAVABQAgwBZABAAFQBNAFYAkwA0ABYAcgBEAEMAQAABAD8AYwAEAEsARwA/AAIAJABCAJAAQQCFACIAPAAtAJAAZAAfAGcAMAAfAAIAcgAqAEQAAQBvAEAAWwAaAD0AEgBDACoAQwAbAA0AbgCTAGoAbgBLAEkAlAAQACAAEgBLAGgAIABWABUAPQB+ADYANABLACkATQCQABUAGgAbAC0AEwB0AAkASwByACIAOwB5ADsAIwAZAEwAFQAYAGQACAAYAJMAUgAcAAgAFQBaAEsAVQBbACwAGABDABQAHwBZACQAhQABABYAWwBHAGQALACCAI4APAAVAHcAPwBkADEAIwADABYABgA3ADcATQAsABYAAQASAEsAHAASAAIAGwA7AFoAIgACACoAaAA8ADgALQASADgATABLACsAOwA9AAoACgByABYA",
          "dtype": "i2"
         },
         "xaxis": "x",
         "y": {
          "bdata": "a8oKuPOlXUB1cHPmtyVeQLjtbAlyCl5AJevFhFzoXUA/gk8tsMFdQBB0Na2ENV5Axht30RLsXUA6TPQJKQ1eQDatfM41WF5AovpKOrPcXUAo0NgTy51dQIQg/uCDUV5A1HyIK+rTXUDHt+rJIgleQLuNxb+PGV5AEEzx3wUnXkCU0vqeLmpeQOb9ORq6Xl5AoO/R8hm+XUA24t0EUz9eQLQ2lbSlyl1AptG7JUAWXkA3VRT+8eZdQJZ1ynLN9V1A5Catv7wsXkCdWwvZah5eQIcaakKeTV5ALUXwRertXUCF1FKUAvVdQMcUuynfy11Aj4x4NAPoXUATgVgFKeNdQA0zmbWSNF5ANcJvUb8dXkCXs8LgNk9eQO39hzI+oF5A4Bkum/MbXkCV4Dc1+C1eQI3XJMcpvF1ALDPU3GUoXkAcYELHuiVeQBRyC6++5F1A/MTh/ALuXUA8VOnc4ORdQBcjWpyjnF1ApMiEs+DnXUCXfhSPYAheQE9t9LOlrV1A6KnDdGWvXUA55f/sn2VdQEkckIjjRF5AjedmhRTKXUDoU1SpQ8pdQD1E7Muy4V1AQnrpMHupXkA4m0du9zReQEdYzfcQ3F1AWhkukxQ1XkA02/OK5BdeQAtSJSPAMF5AMiuTpykIXkAlR0OQt/FdQC+7V6Enyl1A8dmkZsI7XkDbLQNKvOpdQCV+pRXvE15AZPcw1IobXkBD3cQ7pwJeQHj0LadcQF5AsImuJrDtXUCbAX4tJJJdQChwvXJr5V1AGk8+PDkKXkDBcW+Po9RdQFV95pbl+F1AyZLW+HfYXUBvRxpo0/xdQA2I/QuLCF5AFew8FjFRXkAZouSnM/VdQFUaamwj6l1ALeoe7pMFXkCr40lFhtRdQAFv8PoBM15AeeZKaO0AXkDBRNBtqmpdQJo500s7U15AtRKKwtXNXUCJ0CGZeQ1eQIoH1GmGIl5A0xh7EgcMXkD4kAW9hJtdQJh2Y/E2FF5Av3N223cdXkDVtrUKzWZeQNmKPGsjx11AdOLCEVAVXkDIpFcB7GldQEJIl1aK9l1A7v2bKa9WXkD5Ejw7b51dQLRTAPolEF5A0B/NYkNFXkBg6bm9XuNdQE3hH8mixF1Aujl3ogsAXkAujEVyxfRdQOi9n0TC9l1A/UWDOLr/XUA//RQImR1eQIVfFHPGBl5AhWbn0m3ZXUAliUwzbCBeQDauURGFlV1AXjvSA4YDXkBQcXCJE+ldQGWpWr77VV5A4VLOtQKMXUCHBX+2j6FeQDWQFT7yO15AetNvVyYjXkAkJGNcH2JeQD6IcXdb+11A1/GZmefvXUDrITCGvRleQPF1RED+1l1Aj6xOyRfqXkCXa1BLZ0VeQHtAgw+Ivl1ApO+USQLbXUD/As+sMIdeQG7mCZq61F1ADYBbQyA7XkC0vxtlWeRdQDQS4shz0V1AMkFn/nw1XkDUe+GGZg9eQFB+rLt0ul1AQtWo1L8mXkCf3fJ4iQReQFpcOmunxl1AU1HkViAlXkB6bbS0EMldQGclUyYRDl5AYf74mO/XXUA369OZQ+NdQM+mjvIYJ15Aj+Um+X7pXUAldM0e/TBeQDbTq1+4IF5AcZ02XO0zXkDKf/7Xut9dQCsJro5M9F1ABHPBb9riXUCmZyCauspdQO1tdHlk611AJDzqdoHfXUCEGdpPMhheQMcH+ii2411AHVoZwhiGXUDaPpbbCkBeQBeOq3m3FF5AN9fz3JJSXkC1+7ES5pxdQNLuWQhrGl5AH3M8RAYJXkCaBKQVgtZdQLemz/kww11ApFFLd+HCXUClyS9BHhdeQEtDPIfxal5AuXpheCwyXkBLk4DvduVdQBJ9vZhqPF5ArpV1hjuoXUCMF3yUowpeQH75FgLoO15AQGRh7iLOXUCyJHtkEAheQE6BViBcmV1ACWkY//8dXkAG1z8lDhleQO5BvkllXF1AmEY8DlRWXkDkX8WRH6tdQCkvgkp0V15AMDG5Pa78XUAY2rjfGc9dQC74Kg/Xu11AITQgByDcXUBpotaW+D5eQENl3mi1rV1A",
          "dtype": "f8"
         },
         "yaxis": "y"
        }
       ],
       "layout": {
        "legend": {
         "title": {
          "text": "diet_type"
         },
         "tracegroupgap": 0
        },
        "margin": {
         "t": 60
        },
        "template": {
         "data": {
          "bar": [
           {
            "error_x": {
             "color": "#2a3f5f"
            },
            "error_y": {
             "color": "#2a3f5f"
            },
            "marker": {
             "line": {
              "color": "#E5ECF6",
              "width": 0.5
             },
             "pattern": {
              "fillmode": "overlay",
              "size": 10,
              "solidity": 0.2
             }
            },
            "type": "bar"
           }
          ],
          "barpolar": [
           {
            "marker": {
             "line": {
              "color": "#E5ECF6",
              "width": 0.5
             },
             "pattern": {
              "fillmode": "overlay",
              "size": 10,
              "solidity": 0.2
             }
            },
            "type": "barpolar"
           }
          ],
          "carpet": [
           {
            "aaxis": {
             "endlinecolor": "#2a3f5f",
             "gridcolor": "white",
             "linecolor": "white",
             "minorgridcolor": "white",
             "startlinecolor": "#2a3f5f"
            },
            "baxis": {
             "endlinecolor": "#2a3f5f",
             "gridcolor": "white",
             "linecolor": "white",
             "minorgridcolor": "white",
             "startlinecolor": "#2a3f5f"
            },
            "type": "carpet"
           }
          ],
          "choropleth": [
           {
            "colorbar": {
             "outlinewidth": 0,
             "ticks": ""
            },
            "type": "choropleth"
           }
          ],
          "contour": [
           {
            "colorbar": {
             "outlinewidth": 0,
             "ticks": ""
            },
            "colorscale": [
             [
              0,
              "#0d0887"
             ],
             [
              0.1111111111111111,
              "#46039f"
             ],
             [
              0.2222222222222222,
              "#7201a8"
             ],
             [
              0.3333333333333333,
              "#9c179e"
             ],
             [
              0.4444444444444444,
              "#bd3786"
             ],
             [
              0.5555555555555556,
              "#d8576b"
             ],
             [
              0.6666666666666666,
              "#ed7953"
             ],
             [
              0.7777777777777778,
              "#fb9f3a"
             ],
             [
              0.8888888888888888,
              "#fdca26"
             ],
             [
              1,
              "#f0f921"
             ]
            ],
            "type": "contour"
           }
          ],
          "contourcarpet": [
           {
            "colorbar": {
             "outlinewidth": 0,
             "ticks": ""
            },
            "type": "contourcarpet"
           }
          ],
          "heatmap": [
           {
            "colorbar": {
             "outlinewidth": 0,
             "ticks": ""
            },
            "colorscale": [
             [
              0,
              "#0d0887"
             ],
             [
              0.1111111111111111,
              "#46039f"
             ],
             [
              0.2222222222222222,
              "#7201a8"
             ],
             [
              0.3333333333333333,
              "#9c179e"
             ],
             [
              0.4444444444444444,
              "#bd3786"
             ],
             [
              0.5555555555555556,
              "#d8576b"
             ],
             [
              0.6666666666666666,
              "#ed7953"
             ],
             [
              0.7777777777777778,
              "#fb9f3a"
             ],
             [
              0.8888888888888888,
              "#fdca26"
             ],
             [
              1,
              "#f0f921"
             ]
            ],
            "type": "heatmap"
           }
          ],
          "histogram": [
           {
            "marker": {
             "pattern": {
              "fillmode": "overlay",
              "size": 10,
              "solidity": 0.2
             }
            },
            "type": "histogram"
           }
          ],
          "histogram2d": [
           {
            "colorbar": {
             "outlinewidth": 0,
             "ticks": ""
            },
            "colorscale": [
             [
              0,
              "#0d0887"
             ],
             [
              0.1111111111111111,
              "#46039f"
             ],
             [
              0.2222222222222222,
              "#7201a8"
             ],
             [
              0.3333333333333333,
              "#9c179e"
             ],
             [
              0.4444444444444444,
              "#bd3786"
             ],
             [
              0.5555555555555556,
              "#d8576b"
             ],
             [
              0.6666666666666666,
              "#ed7953"
             ],
             [
              0.7777777777777778,
              "#fb9f3a"
             ],
             [
              0.8888888888888888,
              "#fdca26"
             ],
             [
              1,
              "#f0f921"
             ]
            ],
            "type": "histogram2d"
           }
          ],
          "histogram2dcontour": [
           {
            "colorbar": {
             "outlinewidth": 0,
             "ticks": ""
            },
            "colorscale": [
             [
              0,
              "#0d0887"
             ],
             [
              0.1111111111111111,
              "#46039f"
             ],
             [
              0.2222222222222222,
              "#7201a8"
             ],
             [
              0.3333333333333333,
              "#9c179e"
             ],
             [
              0.4444444444444444,
              "#bd3786"
             ],
             [
              0.5555555555555556,
              "#d8576b"
             ],
             [
              0.6666666666666666,
              "#ed7953"
             ],
             [
              0.7777777777777778,
              "#fb9f3a"
             ],
             [
              0.8888888888888888,
              "#fdca26"
             ],
             [
              1,
              "#f0f921"
             ]
            ],
            "type": "histogram2dcontour"
           }
          ],
          "mesh3d": [
           {
            "colorbar": {
             "outlinewidth": 0,
             "ticks": ""
            },
            "type": "mesh3d"
           }
          ],
          "parcoords": [
           {
            "line": {
             "colorbar": {
              "outlinewidth": 0,
              "ticks": ""
             }
            },
            "type": "parcoords"
           }
          ],
          "pie": [
           {
            "automargin": true,
            "type": "pie"
           }
          ],
          "scatter": [
           {
            "fillpattern": {
             "fillmode": "overlay",
             "size": 10,
             "solidity": 0.2
            },
            "type": "scatter"
           }
          ],
          "scatter3d": [
           {
            "line": {
             "colorbar": {
              "outlinewidth": 0,
              "ticks": ""
             }
            },
            "marker": {
             "colorbar": {
              "outlinewidth": 0,
              "ticks": ""
             }
            },
            "type": "scatter3d"
           }
          ],
          "scattercarpet": [
           {
            "marker": {
             "colorbar": {
              "outlinewidth": 0,
              "ticks": ""
             }
            },
            "type": "scattercarpet"
           }
          ],
          "scattergeo": [
           {
            "marker": {
             "colorbar": {
              "outlinewidth": 0,
              "ticks": ""
             }
            },
            "type": "scattergeo"
           }
          ],
          "scattergl": [
           {
            "marker": {
             "colorbar": {
              "outlinewidth": 0,
              "ticks": ""
             }
            },
            "type": "scattergl"
           }
          ],
          "scattermap": [
           {
            "marker": {
             "colorbar": {
              "outlinewidth": 0,
              "ticks": ""
             }
            },
            "type": "scattermap"
           }
          ],
          "scattermapbox": [
           {
            "marker": {
             "colorbar": {
              "outlinewidth": 0,
              "ticks": ""
             }
            },
            "type": "scattermapbox"
           }
          ],
          "scatterpolar": [
           {
            "marker": {
             "colorbar": {
              "outlinewidth": 0,
              "ticks": ""
             }
            },
            "type": "scatterpolar"
           }
          ],
          "scatterpolargl": [
           {
            "marker": {
             "colorbar": {
              "outlinewidth": 0,
              "ticks": ""
             }
            },
            "type": "scatterpolargl"
           }
          ],
          "scatterternary": [
           {
            "marker": {
             "colorbar": {
              "outlinewidth": 0,
              "ticks": ""
             }
            },
            "type": "scatterternary"
           }
          ],
          "surface": [
           {
            "colorbar": {
             "outlinewidth": 0,
             "ticks": ""
            },
            "colorscale": [
             [
              0,
              "#0d0887"
             ],
             [
              0.1111111111111111,
              "#46039f"
             ],
             [
              0.2222222222222222,
              "#7201a8"
             ],
             [
              0.3333333333333333,
              "#9c179e"
             ],
             [
              0.4444444444444444,
              "#bd3786"
             ],
             [
              0.5555555555555556,
              "#d8576b"
             ],
             [
              0.6666666666666666,
              "#ed7953"
             ],
             [
              0.7777777777777778,
              "#fb9f3a"
             ],
             [
              0.8888888888888888,
              "#fdca26"
             ],
             [
              1,
              "#f0f921"
             ]
            ],
            "type": "surface"
           }
          ],
          "table": [
           {
            "cells": {
             "fill": {
              "color": "#EBF0F8"
             },
             "line": {
              "color": "white"
             }
            },
            "header": {
             "fill": {
              "color": "#C8D4E3"
             },
             "line": {
              "color": "white"
             }
            },
            "type": "table"
           }
          ]
         },
         "layout": {
          "annotationdefaults": {
           "arrowcolor": "#2a3f5f",
           "arrowhead": 0,
           "arrowwidth": 1
          },
          "autotypenumbers": "strict",
          "coloraxis": {
           "colorbar": {
            "outlinewidth": 0,
            "ticks": ""
           }
          },
          "colorscale": {
           "diverging": [
            [
             0,
             "#8e0152"
            ],
            [
             0.1,
             "#c51b7d"
            ],
            [
             0.2,
             "#de77ae"
            ],
            [
             0.3,
             "#f1b6da"
            ],
            [
             0.4,
             "#fde0ef"
            ],
            [
             0.5,
             "#f7f7f7"
            ],
            [
             0.6,
             "#e6f5d0"
            ],
            [
             0.7,
             "#b8e186"
            ],
            [
             0.8,
             "#7fbc41"
            ],
            [
             0.9,
             "#4d9221"
            ],
            [
             1,
             "#276419"
            ]
           ],
           "sequential": [
            [
             0,
             "#0d0887"
            ],
            [
             0.1111111111111111,
             "#46039f"
            ],
            [
             0.2222222222222222,
             "#7201a8"
            ],
            [
             0.3333333333333333,
             "#9c179e"
            ],
            [
             0.4444444444444444,
             "#bd3786"
            ],
            [
             0.5555555555555556,
             "#d8576b"
            ],
            [
             0.6666666666666666,
             "#ed7953"
            ],
            [
             0.7777777777777778,
             "#fb9f3a"
            ],
            [
             0.8888888888888888,
             "#fdca26"
            ],
            [
             1,
             "#f0f921"
            ]
           ],
           "sequentialminus": [
            [
             0,
             "#0d0887"
            ],
            [
             0.1111111111111111,
             "#46039f"
            ],
            [
             0.2222222222222222,
             "#7201a8"
            ],
            [
             0.3333333333333333,
             "#9c179e"
            ],
            [
             0.4444444444444444,
             "#bd3786"
            ],
            [
             0.5555555555555556,
             "#d8576b"
            ],
            [
             0.6666666666666666,
             "#ed7953"
            ],
            [
             0.7777777777777778,
             "#fb9f3a"
            ],
            [
             0.8888888888888888,
             "#fdca26"
            ],
            [
             1,
             "#f0f921"
            ]
           ]
          },
          "colorway": [
           "#636efa",
           "#EF553B",
           "#00cc96",
           "#ab63fa",
           "#FFA15A",
           "#19d3f3",
           "#FF6692",
           "#B6E880",
           "#FF97FF",
           "#FECB52"
          ],
          "font": {
           "color": "#2a3f5f"
          },
          "geo": {
           "bgcolor": "white",
           "lakecolor": "white",
           "landcolor": "#E5ECF6",
           "showlakes": true,
           "showland": true,
           "subunitcolor": "white"
          },
          "hoverlabel": {
           "align": "left"
          },
          "hovermode": "closest",
          "mapbox": {
           "style": "light"
          },
          "paper_bgcolor": "white",
          "plot_bgcolor": "#E5ECF6",
          "polar": {
           "angularaxis": {
            "gridcolor": "white",
            "linecolor": "white",
            "ticks": ""
           },
           "bgcolor": "#E5ECF6",
           "radialaxis": {
            "gridcolor": "white",
            "linecolor": "white",
            "ticks": ""
           }
          },
          "scene": {
           "xaxis": {
            "backgroundcolor": "#E5ECF6",
            "gridcolor": "white",
            "gridwidth": 2,
            "linecolor": "white",
            "showbackground": true,
            "ticks": "",
            "zerolinecolor": "white"
           },
           "yaxis": {
            "backgroundcolor": "#E5ECF6",
            "gridcolor": "white",
            "gridwidth": 2,
            "linecolor": "white",
            "showbackground": true,
            "ticks": "",
            "zerolinecolor": "white"
           },
           "zaxis": {
            "backgroundcolor": "#E5ECF6",
            "gridcolor": "white",
            "gridwidth": 2,
            "linecolor": "white",
            "showbackground": true,
            "ticks": "",
            "zerolinecolor": "white"
           }
          },
          "shapedefaults": {
           "line": {
            "color": "#2a3f5f"
           }
          },
          "ternary": {
           "aaxis": {
            "gridcolor": "white",
            "linecolor": "white",
            "ticks": ""
           },
           "baxis": {
            "gridcolor": "white",
            "linecolor": "white",
            "ticks": ""
           },
           "bgcolor": "#E5ECF6",
           "caxis": {
            "gridcolor": "white",
            "linecolor": "white",
            "ticks": ""
           }
          },
          "title": {
           "x": 0.05
          },
          "xaxis": {
           "automargin": true,
           "gridcolor": "white",
           "linecolor": "white",
           "ticks": "",
           "title": {
            "standoff": 15
           },
           "zerolinecolor": "white",
           "zerolinewidth": 2
          },
          "yaxis": {
           "automargin": true,
           "gridcolor": "white",
           "linecolor": "white",
           "ticks": "",
           "title": {
            "standoff": 15
           },
           "zerolinecolor": "white",
           "zerolinewidth": 2
          }
         }
        },
        "xaxis": {
         "anchor": "y",
         "domain": [
          0,
          1
         ],
         "title": {
          "text": "cluster"
         }
        },
        "yaxis": {
         "anchor": "x",
         "domain": [
          0,
          1
         ],
         "title": {
          "text": "avg_lifespan_years"
         }
        }
       }
      }
     },
     "metadata": {},
     "output_type": "display_data"
    }
   ],
   "source": [
    "# Cruzamento entre diet_type e avg_lifespan_years, apresentando os clusters\n",
    "\n",
    "px.scatter(df_species, x='cluster', y='avg_lifespan_years', color='diet_type')"
   ]
  },
  {
   "cell_type": "code",
   "execution_count": 46,
   "id": "d89399f5",
   "metadata": {},
   "outputs": [
    {
     "data": {
      "application/vnd.plotly.v1+json": {
       "config": {
        "plotlyServerURL": "https://plot.ly"
       },
       "data": [
        {
         "hovertemplate": "avg_lifespan_years=%{x}<br>cluster=%{marker.color}<extra></extra>",
         "legendgroup": "",
         "marker": {
          "color": {
           "bdata": "LgAeAC8AAwB6ADgAIgBvADwAYQAJABUAXABDABgABAAJAAsAFwBuAEwAMQB+AE0AQABkACcAjgCKAIQAUAAvABMAdwBpAIQAYQAJAEMANQCIADQARgBnAAkAQwBtAHQAEAAbAAQAAgCVAAMAOQAgACcAFgBIAHUASQB3ABcACgAkAA4AJAARAJAABACAABEAkABYAAUAQgBJACYAdwBXAH8ALwA1AFkAFQAFABQAcgB8AFEAFAAZAIMAWQCFACoAEAB6ABUANwAyAIEAOgBKAE0AHwBYAIgAAQBWAHwACQCAADAAkwBoADkACwAMADQAPgAWADMAZgAmAAMAawBeAHIARAAxAEUANwA+AEQAKABsAEMALQCGAAwAUwCSAHYAfABqAFcAgQCNAEAAiwABAD8APgCIAAkAMABjAGsAPgBlAAQADgAEAEsAiQAvAEcAFABXAH8APwACAD4ALABGAIcAkQAkAFgAjAAWAEIADwCQAIsANgBBAEgAUgCFACIAPAArAC0AJgCQABEAHQBgAGQAHwAMAA4AGwAqACQAbwBnADAAHQADAHsAHwBIACUAAgByAIoAMQCCACoAEQBEAJIADgAfABoAXQABAIkAbwBAAB8AeQBbABoAPQASADoAdwBDAEAAKACGACoAQwCKAAgAlAASACYAJQABAGUAGwALABcALAALAA0AIgBuAEEAXgBsACgAVAA9AAAAAABJACUACwCKACIALwBDAJMAfwBqAHMACAAnAFoAbgArAA4ASwAjABMASQCUAEYAIAAQACAAIABBADoAEgAcADUARQBLAGgAIAA3AEYAagBzAA4AVgCHABUAEABRAFAAPQB+ABcAeABXADYAZQAJAHMANAARAB0ASwApAFkATQB2AAsAfgB/AHsABQBfACAACwCQABUALQCVAE0AGgAbAA8AMAAtAIkABgATAEYAZwAvAFcAkQB0AAkAhQBLAAYASAATAHIAiQAiAHoAAAA7AHkATwA7ACMAcABXAFQAMgBiADEAJwAZAH8AJQB2AC4AAgBRAGYATAAhABUAGABTADoAGQBZAFcALQATABQAEQBmAC4ADwBkAAgAjQAYAAwAkwBSAHIAHAAIABUAWgBqAGMANgBgAEsACgBVAEUAMQCAAEoAWwAsACgAQgBVABgAXwBDABQAaQAKAB8AWQAkAIUAbAAeABcAHwABADMAJgAnABYAGABbAAcAGgBHAAcAMgAMAB8ABwCLAIcAEwAHABwAjwCEAGQALAAmAHUATgCCAI4AHAA8AA0AFQB3AD8ATgBdADkAZAAHABEAIQATAHEAOQAxACMAQAApAA8AAwAWADMABgAnAHoAHgAfAJUANwA3AE0AUABEACwAPgAWAJQANQAGAAEAZQB2AAYAfQASAAEASwAWAA8ACgB4AGIAHAA1ABIAXgAkAAIAgwAbADsAWgAaAB0AIgACAEAAKgBdAEAAewA5AFwAaACSABAADABhAEQAeQB6ADwADgA4AA0ALQBtABIAYQBYADgACwBMAAIAiQBLACsAOwA1AB0ALgAhAIUANwA9AAoAZwAKAFEAlQAOAC4AcgAmAAUATwAWAAcA",
           "dtype": "i2"
          },
          "coloraxis": "coloraxis",
          "symbol": "circle"
         },
         "mode": "markers",
         "name": "",
         "orientation": "v",
         "showlegend": false,
         "type": "scatter",
         "x": {
          "bdata": "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",
          "dtype": "f8"
         },
         "xaxis": "x",
         "y": {
          "bdata": "LgAeAC8AAwB6ADgAIgBvADwAYQAJABUAXABDABgABAAJAAsAFwBuAEwAMQB+AE0AQABkACcAjgCKAIQAUAAvABMAdwBpAIQAYQAJAEMANQCIADQARgBnAAkAQwBtAHQAEAAbAAQAAgCVAAMAOQAgACcAFgBIAHUASQB3ABcACgAkAA4AJAARAJAABACAABEAkABYAAUAQgBJACYAdwBXAH8ALwA1AFkAFQAFABQAcgB8AFEAFAAZAIMAWQCFACoAEAB6ABUANwAyAIEAOgBKAE0AHwBYAIgAAQBWAHwACQCAADAAkwBoADkACwAMADQAPgAWADMAZgAmAAMAawBeAHIARAAxAEUANwA+AEQAKABsAEMALQCGAAwAUwCSAHYAfABqAFcAgQCNAEAAiwABAD8APgCIAAkAMABjAGsAPgBlAAQADgAEAEsAiQAvAEcAFABXAH8APwACAD4ALABGAIcAkQAkAFgAjAAWAEIADwCQAIsANgBBAEgAUgCFACIAPAArAC0AJgCQABEAHQBgAGQAHwAMAA4AGwAqACQAbwBnADAAHQADAHsAHwBIACUAAgByAIoAMQCCACoAEQBEAJIADgAfABoAXQABAIkAbwBAAB8AeQBbABoAPQASADoAdwBDAEAAKACGACoAQwCKAAgAlAASACYAJQABAGUAGwALABcALAALAA0AIgBuAEEAXgBsACgAVAA9AAAAAABJACUACwCKACIALwBDAJMAfwBqAHMACAAnAFoAbgArAA4ASwAjABMASQCUAEYAIAAQACAAIABBADoAEgAcADUARQBLAGgAIAA3AEYAagBzAA4AVgCHABUAEABRAFAAPQB+ABcAeABXADYAZQAJAHMANAARAB0ASwApAFkATQB2AAsAfgB/AHsABQBfACAACwCQABUALQCVAE0AGgAbAA8AMAAtAIkABgATAEYAZwAvAFcAkQB0AAkAhQBLAAYASAATAHIAiQAiAHoAAAA7AHkATwA7ACMAcABXAFQAMgBiADEAJwAZAH8AJQB2AC4AAgBRAGYATAAhABUAGABTADoAGQBZAFcALQATABQAEQBmAC4ADwBkAAgAjQAYAAwAkwBSAHIAHAAIABUAWgBqAGMANgBgAEsACgBVAEUAMQCAAEoAWwAsACgAQgBVABgAXwBDABQAaQAKAB8AWQAkAIUAbAAeABcAHwABADMAJgAnABYAGABbAAcAGgBHAAcAMgAMAB8ABwCLAIcAEwAHABwAjwCEAGQALAAmAHUATgCCAI4AHAA8AA0AFQB3AD8ATgBdADkAZAAHABEAIQATAHEAOQAxACMAQAApAA8AAwAWADMABgAnAHoAHgAfAJUANwA3AE0AUABEACwAPgAWAJQANQAGAAEAZQB2AAYAfQASAAEASwAWAA8ACgB4AGIAHAA1ABIAXgAkAAIAgwAbADsAWgAaAB0AIgACAEAAKgBdAEAAewA5AFwAaACSABAADABhAEQAeQB6ADwADgA4AA0ALQBtABIAYQBYADgACwBMAAIAiQBLACsAOwA1AB0ALgAhAIUANwA9AAoAZwAKAFEAlQAOAC4AcgAmAAUATwAWAAcA",
          "dtype": "i2"
         },
         "yaxis": "y"
        }
       ],
       "layout": {
        "coloraxis": {
         "colorbar": {
          "title": {
           "text": "cluster"
          }
         },
         "colorscale": [
          [
           0,
           "#0d0887"
          ],
          [
           0.1111111111111111,
           "#46039f"
          ],
          [
           0.2222222222222222,
           "#7201a8"
          ],
          [
           0.3333333333333333,
           "#9c179e"
          ],
          [
           0.4444444444444444,
           "#bd3786"
          ],
          [
           0.5555555555555556,
           "#d8576b"
          ],
          [
           0.6666666666666666,
           "#ed7953"
          ],
          [
           0.7777777777777778,
           "#fb9f3a"
          ],
          [
           0.8888888888888888,
           "#fdca26"
          ],
          [
           1,
           "#f0f921"
          ]
         ]
        },
        "legend": {
         "tracegroupgap": 0
        },
        "margin": {
         "t": 60
        },
        "template": {
         "data": {
          "bar": [
           {
            "error_x": {
             "color": "#2a3f5f"
            },
            "error_y": {
             "color": "#2a3f5f"
            },
            "marker": {
             "line": {
              "color": "#E5ECF6",
              "width": 0.5
             },
             "pattern": {
              "fillmode": "overlay",
              "size": 10,
              "solidity": 0.2
             }
            },
            "type": "bar"
           }
          ],
          "barpolar": [
           {
            "marker": {
             "line": {
              "color": "#E5ECF6",
              "width": 0.5
             },
             "pattern": {
              "fillmode": "overlay",
              "size": 10,
              "solidity": 0.2
             }
            },
            "type": "barpolar"
           }
          ],
          "carpet": [
           {
            "aaxis": {
             "endlinecolor": "#2a3f5f",
             "gridcolor": "white",
             "linecolor": "white",
             "minorgridcolor": "white",
             "startlinecolor": "#2a3f5f"
            },
            "baxis": {
             "endlinecolor": "#2a3f5f",
             "gridcolor": "white",
             "linecolor": "white",
             "minorgridcolor": "white",
             "startlinecolor": "#2a3f5f"
            },
            "type": "carpet"
           }
          ],
          "choropleth": [
           {
            "colorbar": {
             "outlinewidth": 0,
             "ticks": ""
            },
            "type": "choropleth"
           }
          ],
          "contour": [
           {
            "colorbar": {
             "outlinewidth": 0,
             "ticks": ""
            },
            "colorscale": [
             [
              0,
              "#0d0887"
             ],
             [
              0.1111111111111111,
              "#46039f"
             ],
             [
              0.2222222222222222,
              "#7201a8"
             ],
             [
              0.3333333333333333,
              "#9c179e"
             ],
             [
              0.4444444444444444,
              "#bd3786"
             ],
             [
              0.5555555555555556,
              "#d8576b"
             ],
             [
              0.6666666666666666,
              "#ed7953"
             ],
             [
              0.7777777777777778,
              "#fb9f3a"
             ],
             [
              0.8888888888888888,
              "#fdca26"
             ],
             [
              1,
              "#f0f921"
             ]
            ],
            "type": "contour"
           }
          ],
          "contourcarpet": [
           {
            "colorbar": {
             "outlinewidth": 0,
             "ticks": ""
            },
            "type": "contourcarpet"
           }
          ],
          "heatmap": [
           {
            "colorbar": {
             "outlinewidth": 0,
             "ticks": ""
            },
            "colorscale": [
             [
              0,
              "#0d0887"
             ],
             [
              0.1111111111111111,
              "#46039f"
             ],
             [
              0.2222222222222222,
              "#7201a8"
             ],
             [
              0.3333333333333333,
              "#9c179e"
             ],
             [
              0.4444444444444444,
              "#bd3786"
             ],
             [
              0.5555555555555556,
              "#d8576b"
             ],
             [
              0.6666666666666666,
              "#ed7953"
             ],
             [
              0.7777777777777778,
              "#fb9f3a"
             ],
             [
              0.8888888888888888,
              "#fdca26"
             ],
             [
              1,
              "#f0f921"
             ]
            ],
            "type": "heatmap"
           }
          ],
          "histogram": [
           {
            "marker": {
             "pattern": {
              "fillmode": "overlay",
              "size": 10,
              "solidity": 0.2
             }
            },
            "type": "histogram"
           }
          ],
          "histogram2d": [
           {
            "colorbar": {
             "outlinewidth": 0,
             "ticks": ""
            },
            "colorscale": [
             [
              0,
              "#0d0887"
             ],
             [
              0.1111111111111111,
              "#46039f"
             ],
             [
              0.2222222222222222,
              "#7201a8"
             ],
             [
              0.3333333333333333,
              "#9c179e"
             ],
             [
              0.4444444444444444,
              "#bd3786"
             ],
             [
              0.5555555555555556,
              "#d8576b"
             ],
             [
              0.6666666666666666,
              "#ed7953"
             ],
             [
              0.7777777777777778,
              "#fb9f3a"
             ],
             [
              0.8888888888888888,
              "#fdca26"
             ],
             [
              1,
              "#f0f921"
             ]
            ],
            "type": "histogram2d"
           }
          ],
          "histogram2dcontour": [
           {
            "colorbar": {
             "outlinewidth": 0,
             "ticks": ""
            },
            "colorscale": [
             [
              0,
              "#0d0887"
             ],
             [
              0.1111111111111111,
              "#46039f"
             ],
             [
              0.2222222222222222,
              "#7201a8"
             ],
             [
              0.3333333333333333,
              "#9c179e"
             ],
             [
              0.4444444444444444,
              "#bd3786"
             ],
             [
              0.5555555555555556,
              "#d8576b"
             ],
             [
              0.6666666666666666,
              "#ed7953"
             ],
             [
              0.7777777777777778,
              "#fb9f3a"
             ],
             [
              0.8888888888888888,
              "#fdca26"
             ],
             [
              1,
              "#f0f921"
             ]
            ],
            "type": "histogram2dcontour"
           }
          ],
          "mesh3d": [
           {
            "colorbar": {
             "outlinewidth": 0,
             "ticks": ""
            },
            "type": "mesh3d"
           }
          ],
          "parcoords": [
           {
            "line": {
             "colorbar": {
              "outlinewidth": 0,
              "ticks": ""
             }
            },
            "type": "parcoords"
           }
          ],
          "pie": [
           {
            "automargin": true,
            "type": "pie"
           }
          ],
          "scatter": [
           {
            "fillpattern": {
             "fillmode": "overlay",
             "size": 10,
             "solidity": 0.2
            },
            "type": "scatter"
           }
          ],
          "scatter3d": [
           {
            "line": {
             "colorbar": {
              "outlinewidth": 0,
              "ticks": ""
             }
            },
            "marker": {
             "colorbar": {
              "outlinewidth": 0,
              "ticks": ""
             }
            },
            "type": "scatter3d"
           }
          ],
          "scattercarpet": [
           {
            "marker": {
             "colorbar": {
              "outlinewidth": 0,
              "ticks": ""
             }
            },
            "type": "scattercarpet"
           }
          ],
          "scattergeo": [
           {
            "marker": {
             "colorbar": {
              "outlinewidth": 0,
              "ticks": ""
             }
            },
            "type": "scattergeo"
           }
          ],
          "scattergl": [
           {
            "marker": {
             "colorbar": {
              "outlinewidth": 0,
              "ticks": ""
             }
            },
            "type": "scattergl"
           }
          ],
          "scattermap": [
           {
            "marker": {
             "colorbar": {
              "outlinewidth": 0,
              "ticks": ""
             }
            },
            "type": "scattermap"
           }
          ],
          "scattermapbox": [
           {
            "marker": {
             "colorbar": {
              "outlinewidth": 0,
              "ticks": ""
             }
            },
            "type": "scattermapbox"
           }
          ],
          "scatterpolar": [
           {
            "marker": {
             "colorbar": {
              "outlinewidth": 0,
              "ticks": ""
             }
            },
            "type": "scatterpolar"
           }
          ],
          "scatterpolargl": [
           {
            "marker": {
             "colorbar": {
              "outlinewidth": 0,
              "ticks": ""
             }
            },
            "type": "scatterpolargl"
           }
          ],
          "scatterternary": [
           {
            "marker": {
             "colorbar": {
              "outlinewidth": 0,
              "ticks": ""
             }
            },
            "type": "scatterternary"
           }
          ],
          "surface": [
           {
            "colorbar": {
             "outlinewidth": 0,
             "ticks": ""
            },
            "colorscale": [
             [
              0,
              "#0d0887"
             ],
             [
              0.1111111111111111,
              "#46039f"
             ],
             [
              0.2222222222222222,
              "#7201a8"
             ],
             [
              0.3333333333333333,
              "#9c179e"
             ],
             [
              0.4444444444444444,
              "#bd3786"
             ],
             [
              0.5555555555555556,
              "#d8576b"
             ],
             [
              0.6666666666666666,
              "#ed7953"
             ],
             [
              0.7777777777777778,
              "#fb9f3a"
             ],
             [
              0.8888888888888888,
              "#fdca26"
             ],
             [
              1,
              "#f0f921"
             ]
            ],
            "type": "surface"
           }
          ],
          "table": [
           {
            "cells": {
             "fill": {
              "color": "#EBF0F8"
             },
             "line": {
              "color": "white"
             }
            },
            "header": {
             "fill": {
              "color": "#C8D4E3"
             },
             "line": {
              "color": "white"
             }
            },
            "type": "table"
           }
          ]
         },
         "layout": {
          "annotationdefaults": {
           "arrowcolor": "#2a3f5f",
           "arrowhead": 0,
           "arrowwidth": 1
          },
          "autotypenumbers": "strict",
          "coloraxis": {
           "colorbar": {
            "outlinewidth": 0,
            "ticks": ""
           }
          },
          "colorscale": {
           "diverging": [
            [
             0,
             "#8e0152"
            ],
            [
             0.1,
             "#c51b7d"
            ],
            [
             0.2,
             "#de77ae"
            ],
            [
             0.3,
             "#f1b6da"
            ],
            [
             0.4,
             "#fde0ef"
            ],
            [
             0.5,
             "#f7f7f7"
            ],
            [
             0.6,
             "#e6f5d0"
            ],
            [
             0.7,
             "#b8e186"
            ],
            [
             0.8,
             "#7fbc41"
            ],
            [
             0.9,
             "#4d9221"
            ],
            [
             1,
             "#276419"
            ]
           ],
           "sequential": [
            [
             0,
             "#0d0887"
            ],
            [
             0.1111111111111111,
             "#46039f"
            ],
            [
             0.2222222222222222,
             "#7201a8"
            ],
            [
             0.3333333333333333,
             "#9c179e"
            ],
            [
             0.4444444444444444,
             "#bd3786"
            ],
            [
             0.5555555555555556,
             "#d8576b"
            ],
            [
             0.6666666666666666,
             "#ed7953"
            ],
            [
             0.7777777777777778,
             "#fb9f3a"
            ],
            [
             0.8888888888888888,
             "#fdca26"
            ],
            [
             1,
             "#f0f921"
            ]
           ],
           "sequentialminus": [
            [
             0,
             "#0d0887"
            ],
            [
             0.1111111111111111,
             "#46039f"
            ],
            [
             0.2222222222222222,
             "#7201a8"
            ],
            [
             0.3333333333333333,
             "#9c179e"
            ],
            [
             0.4444444444444444,
             "#bd3786"
            ],
            [
             0.5555555555555556,
             "#d8576b"
            ],
            [
             0.6666666666666666,
             "#ed7953"
            ],
            [
             0.7777777777777778,
             "#fb9f3a"
            ],
            [
             0.8888888888888888,
             "#fdca26"
            ],
            [
             1,
             "#f0f921"
            ]
           ]
          },
          "colorway": [
           "#636efa",
           "#EF553B",
           "#00cc96",
           "#ab63fa",
           "#FFA15A",
           "#19d3f3",
           "#FF6692",
           "#B6E880",
           "#FF97FF",
           "#FECB52"
          ],
          "font": {
           "color": "#2a3f5f"
          },
          "geo": {
           "bgcolor": "white",
           "lakecolor": "white",
           "landcolor": "#E5ECF6",
           "showlakes": true,
           "showland": true,
           "subunitcolor": "white"
          },
          "hoverlabel": {
           "align": "left"
          },
          "hovermode": "closest",
          "mapbox": {
           "style": "light"
          },
          "paper_bgcolor": "white",
          "plot_bgcolor": "#E5ECF6",
          "polar": {
           "angularaxis": {
            "gridcolor": "white",
            "linecolor": "white",
            "ticks": ""
           },
           "bgcolor": "#E5ECF6",
           "radialaxis": {
            "gridcolor": "white",
            "linecolor": "white",
            "ticks": ""
           }
          },
          "scene": {
           "xaxis": {
            "backgroundcolor": "#E5ECF6",
            "gridcolor": "white",
            "gridwidth": 2,
            "linecolor": "white",
            "showbackground": true,
            "ticks": "",
            "zerolinecolor": "white"
           },
           "yaxis": {
            "backgroundcolor": "#E5ECF6",
            "gridcolor": "white",
            "gridwidth": 2,
            "linecolor": "white",
            "showbackground": true,
            "ticks": "",
            "zerolinecolor": "white"
           },
           "zaxis": {
            "backgroundcolor": "#E5ECF6",
            "gridcolor": "white",
            "gridwidth": 2,
            "linecolor": "white",
            "showbackground": true,
            "ticks": "",
            "zerolinecolor": "white"
           }
          },
          "shapedefaults": {
           "line": {
            "color": "#2a3f5f"
           }
          },
          "ternary": {
           "aaxis": {
            "gridcolor": "white",
            "linecolor": "white",
            "ticks": ""
           },
           "baxis": {
            "gridcolor": "white",
            "linecolor": "white",
            "ticks": ""
           },
           "bgcolor": "#E5ECF6",
           "caxis": {
            "gridcolor": "white",
            "linecolor": "white",
            "ticks": ""
           }
          },
          "title": {
           "x": 0.05
          },
          "xaxis": {
           "automargin": true,
           "gridcolor": "white",
           "linecolor": "white",
           "ticks": "",
           "title": {
            "standoff": 15
           },
           "zerolinecolor": "white",
           "zerolinewidth": 2
          },
          "yaxis": {
           "automargin": true,
           "gridcolor": "white",
           "linecolor": "white",
           "ticks": "",
           "title": {
            "standoff": 15
           },
           "zerolinecolor": "white",
           "zerolinewidth": 2
          }
         }
        },
        "xaxis": {
         "anchor": "y",
         "domain": [
          0,
          1
         ],
         "title": {
          "text": "avg_lifespan_years"
         }
        },
        "yaxis": {
         "anchor": "x",
         "domain": [
          0,
          1
         ],
         "title": {
          "text": "cluster"
         }
        }
       }
      }
     },
     "metadata": {},
     "output_type": "display_data"
    }
   ],
   "source": [
    "# Cruzamento entre diet_type e avg_lifespan_years, apresentando os clusters\n",
    "\n",
    "px.scatter(df_species, x='avg_lifespan_years', y='cluster', color='cluster')"
   ]
  },
  {
   "cell_type": "code",
   "execution_count": 47,
   "id": "7c2e5571",
   "metadata": {},
   "outputs": [
    {
     "data": {
      "application/vnd.plotly.v1+json": {
       "config": {
        "plotlyServerURL": "https://plot.ly"
       },
       "data": [
        {
         "hovertemplate": "cluster=%{marker.color}<br>value=%{y}<extra></extra>",
         "legendgroup": "",
         "marker": {
          "color": {
           "bdata": "HwALAA4AFQAWAAkAQwBLAEAAJgARABMAAQACAFcAIgAKAAcAEgAMADEALwByACQANQA+ADcALQAnACAABAADAIUAfwAPAAYAFAAQAHcAegAuABwAGwAXACwAKgA5AEYARAAdABoAZAAYAE0AWQCJAJAACABYAGcABQA8AEgAPQBRAEkAOwAlAIoAlQAoAGoAZQBhAHYAMAA6AAAADQA0ABkAMwArAB4AMgBFAJQAkwCIAIcAkgB7AHwAeQBvAEwANgBQAEEAPwBCADgAIwAhAG4AZgCLAIAAfgCEAGgAWwBzAGwAXQBeAFoAKQBVAFQAUwBSAE4ATwBHAEoAYABfAFwAVgBjAGkAbQBiAJEAggB1AHQAawB4AIEAgwCOAI0AhgBxAHAAfQCMAI8A",
           "dtype": "i2"
          },
          "coloraxis": "coloraxis",
          "pattern": {
           "shape": ""
          }
         },
         "name": "",
         "orientation": "v",
         "showlegend": false,
         "textposition": "auto",
         "type": "bar",
         "x": {
          "bdata": "HwALAA4AFQAWAAkAQwBLAEAAJgARABMAAQACAFcAIgAKAAcAEgAMADEALwByACQANQA+ADcALQAnACAABAADAIUAfwAPAAYAFAAQAHcAegAuABwAGwAXACwAKgA5AEYARAAdABoAZAAYAE0AWQCJAJAACABYAGcABQA8AEgAPQBRAEkAOwAlAIoAlQAoAGoAZQBhAHYAMAA6AAAADQA0ABkAMwArAB4AMgBFAJQAkwCIAIcAkgB7AHwAeQBvAEwANgBQAEEAPwBCADgAIwAhAG4AZgCLAIAAfgCEAGgAWwBzAGwAXQBeAFoAKQBVAFQAUwBSAE4ATwBHAEoAYABfAFwAVgBjAGkAbQBiAJEAggB1AHQAawB4AIEAgwCOAI0AhgBxAHAAfQCMAI8A",
          "dtype": "i2"
         },
         "xaxis": "x",
         "y": {
          "bdata": "AAAAAAAA+D9WVVVVVVX1P1ZVVVVVVfU/VlVVVVVV9T9WVVVVVVX1P1ZVVVVVVfU/VlVVVVVV9T9WVVVVVVX1P6uqqqqqqvI/q6qqqqqq8j+rqqqqqqryP6uqqqqqqvI/q6qqqqqq8j+rqqqqqqryP6uqqqqqqvI/AAAAAAAA8D8AAAAAAADwPwAAAAAAAPA/AAAAAAAA8D8AAAAAAADwPwAAAAAAAPA/AAAAAAAA8D8AAAAAAADwPwAAAAAAAPA/AAAAAAAA8D8AAAAAAADwPwAAAAAAAPA/AAAAAAAA8D8AAAAAAADwPwAAAAAAAPA/q6qqqqqq6j+rqqqqqqrqP6uqqqqqquo/q6qqqqqq6j+rqqqqqqrqP6uqqqqqquo/q6qqqqqq6j+rqqqqqqrqP6uqqqqqquo/q6qqqqqq6j+rqqqqqqrqP6uqqqqqquo/q6qqqqqq6j+rqqqqqqrqP6uqqqqqquo/q6qqqqqq6j+rqqqqqqrqP6uqqqqqquo/q6qqqqqq6j+rqqqqqqrqP6uqqqqqquo/q6qqqqqq6j+rqqqqqqrqP6uqqqqqquo/q6qqqqqq6j+rqqqqqqrqP6uqqqqqquo/VlVVVVVV5T9WVVVVVVXlP1ZVVVVVVeU/VlVVVVVV5T9WVVVVVVXlP1ZVVVVVVeU/VlVVVVVV5T9WVVVVVVXlP1ZVVVVVVeU/VlVVVVVV5T9WVVVVVVXlP1ZVVVVVVeU/VlVVVVVV5T9WVVVVVVXlP1ZVVVVVVeU/VlVVVVVV5T9WVVVVVVXlP1ZVVVVVVeU/VlVVVVVV5T9WVVVVVVXlPwAAAAAAAOA/AAAAAAAA4D8AAAAAAADgPwAAAAAAAOA/AAAAAAAA4D8AAAAAAADgPwAAAAAAAOA/AAAAAAAA4D8AAAAAAADgPwAAAAAAAOA/AAAAAAAA4D8AAAAAAADgPwAAAAAAAOA/AAAAAAAA4D8AAAAAAADgPwAAAAAAAOA/AAAAAAAA4D8AAAAAAADgPwAAAAAAAOA/AAAAAAAA4D8AAAAAAADgPwAAAAAAAOA/AAAAAAAA4D8AAAAAAADgPwAAAAAAAOA/AAAAAAAA4D8AAAAAAADgPwAAAAAAAOA/AAAAAAAA4D8AAAAAAADgPwAAAAAAAOA/AAAAAAAA4D8AAAAAAADgPwAAAAAAAOA/AAAAAAAA4D8AAAAAAADgPwAAAAAAAOA/AAAAAAAA4D8AAAAAAADgPwAAAAAAAOA/VlVVVVVV1T9WVVVVVVXVP1ZVVVVVVdU/VlVVVVVV1T9WVVVVVVXVP1ZVVVVVVdU/VlVVVVVV1T9WVVVVVVXVP1ZVVVVVVdU/VlVVVVVV1T9WVVVVVVXVP1ZVVVVVVdU/VlVVVVVV1T9WVVVVVVXVP1ZVVVVVVdU/VlVVVVVV1T9WVVVVVVXVP1ZVVVVVVdU/VlVVVVVV1T9WVVVVVVXVP1ZVVVVVVdU/VlVVVVVV1T9WVVVVVVXVP1ZVVVVVVdU/VlVVVVVV1T9WVVVVVVXVP1ZVVVVVVdU/VlVVVVVV1T9WVVVVVVXFP1ZVVVVVVcU/VlVVVVVVxT9WVVVVVVXFP1ZVVVVVVcU/",
          "dtype": "f8"
         },
         "yaxis": "y"
        }
       ],
       "layout": {
        "barmode": "relative",
        "coloraxis": {
         "colorbar": {
          "title": {
           "text": "cluster"
          }
         },
         "colorscale": [
          [
           0,
           "#0d0887"
          ],
          [
           0.1111111111111111,
           "#46039f"
          ],
          [
           0.2222222222222222,
           "#7201a8"
          ],
          [
           0.3333333333333333,
           "#9c179e"
          ],
          [
           0.4444444444444444,
           "#bd3786"
          ],
          [
           0.5555555555555556,
           "#d8576b"
          ],
          [
           0.6666666666666666,
           "#ed7953"
          ],
          [
           0.7777777777777778,
           "#fb9f3a"
          ],
          [
           0.8888888888888888,
           "#fdca26"
          ],
          [
           1,
           "#f0f921"
          ]
         ]
        },
        "legend": {
         "tracegroupgap": 0
        },
        "margin": {
         "t": 60
        },
        "template": {
         "data": {
          "bar": [
           {
            "error_x": {
             "color": "#2a3f5f"
            },
            "error_y": {
             "color": "#2a3f5f"
            },
            "marker": {
             "line": {
              "color": "#E5ECF6",
              "width": 0.5
             },
             "pattern": {
              "fillmode": "overlay",
              "size": 10,
              "solidity": 0.2
             }
            },
            "type": "bar"
           }
          ],
          "barpolar": [
           {
            "marker": {
             "line": {
              "color": "#E5ECF6",
              "width": 0.5
             },
             "pattern": {
              "fillmode": "overlay",
              "size": 10,
              "solidity": 0.2
             }
            },
            "type": "barpolar"
           }
          ],
          "carpet": [
           {
            "aaxis": {
             "endlinecolor": "#2a3f5f",
             "gridcolor": "white",
             "linecolor": "white",
             "minorgridcolor": "white",
             "startlinecolor": "#2a3f5f"
            },
            "baxis": {
             "endlinecolor": "#2a3f5f",
             "gridcolor": "white",
             "linecolor": "white",
             "minorgridcolor": "white",
             "startlinecolor": "#2a3f5f"
            },
            "type": "carpet"
           }
          ],
          "choropleth": [
           {
            "colorbar": {
             "outlinewidth": 0,
             "ticks": ""
            },
            "type": "choropleth"
           }
          ],
          "contour": [
           {
            "colorbar": {
             "outlinewidth": 0,
             "ticks": ""
            },
            "colorscale": [
             [
              0,
              "#0d0887"
             ],
             [
              0.1111111111111111,
              "#46039f"
             ],
             [
              0.2222222222222222,
              "#7201a8"
             ],
             [
              0.3333333333333333,
              "#9c179e"
             ],
             [
              0.4444444444444444,
              "#bd3786"
             ],
             [
              0.5555555555555556,
              "#d8576b"
             ],
             [
              0.6666666666666666,
              "#ed7953"
             ],
             [
              0.7777777777777778,
              "#fb9f3a"
             ],
             [
              0.8888888888888888,
              "#fdca26"
             ],
             [
              1,
              "#f0f921"
             ]
            ],
            "type": "contour"
           }
          ],
          "contourcarpet": [
           {
            "colorbar": {
             "outlinewidth": 0,
             "ticks": ""
            },
            "type": "contourcarpet"
           }
          ],
          "heatmap": [
           {
            "colorbar": {
             "outlinewidth": 0,
             "ticks": ""
            },
            "colorscale": [
             [
              0,
              "#0d0887"
             ],
             [
              0.1111111111111111,
              "#46039f"
             ],
             [
              0.2222222222222222,
              "#7201a8"
             ],
             [
              0.3333333333333333,
              "#9c179e"
             ],
             [
              0.4444444444444444,
              "#bd3786"
             ],
             [
              0.5555555555555556,
              "#d8576b"
             ],
             [
              0.6666666666666666,
              "#ed7953"
             ],
             [
              0.7777777777777778,
              "#fb9f3a"
             ],
             [
              0.8888888888888888,
              "#fdca26"
             ],
             [
              1,
              "#f0f921"
             ]
            ],
            "type": "heatmap"
           }
          ],
          "histogram": [
           {
            "marker": {
             "pattern": {
              "fillmode": "overlay",
              "size": 10,
              "solidity": 0.2
             }
            },
            "type": "histogram"
           }
          ],
          "histogram2d": [
           {
            "colorbar": {
             "outlinewidth": 0,
             "ticks": ""
            },
            "colorscale": [
             [
              0,
              "#0d0887"
             ],
             [
              0.1111111111111111,
              "#46039f"
             ],
             [
              0.2222222222222222,
              "#7201a8"
             ],
             [
              0.3333333333333333,
              "#9c179e"
             ],
             [
              0.4444444444444444,
              "#bd3786"
             ],
             [
              0.5555555555555556,
              "#d8576b"
             ],
             [
              0.6666666666666666,
              "#ed7953"
             ],
             [
              0.7777777777777778,
              "#fb9f3a"
             ],
             [
              0.8888888888888888,
              "#fdca26"
             ],
             [
              1,
              "#f0f921"
             ]
            ],
            "type": "histogram2d"
           }
          ],
          "histogram2dcontour": [
           {
            "colorbar": {
             "outlinewidth": 0,
             "ticks": ""
            },
            "colorscale": [
             [
              0,
              "#0d0887"
             ],
             [
              0.1111111111111111,
              "#46039f"
             ],
             [
              0.2222222222222222,
              "#7201a8"
             ],
             [
              0.3333333333333333,
              "#9c179e"
             ],
             [
              0.4444444444444444,
              "#bd3786"
             ],
             [
              0.5555555555555556,
              "#d8576b"
             ],
             [
              0.6666666666666666,
              "#ed7953"
             ],
             [
              0.7777777777777778,
              "#fb9f3a"
             ],
             [
              0.8888888888888888,
              "#fdca26"
             ],
             [
              1,
              "#f0f921"
             ]
            ],
            "type": "histogram2dcontour"
           }
          ],
          "mesh3d": [
           {
            "colorbar": {
             "outlinewidth": 0,
             "ticks": ""
            },
            "type": "mesh3d"
           }
          ],
          "parcoords": [
           {
            "line": {
             "colorbar": {
              "outlinewidth": 0,
              "ticks": ""
             }
            },
            "type": "parcoords"
           }
          ],
          "pie": [
           {
            "automargin": true,
            "type": "pie"
           }
          ],
          "scatter": [
           {
            "fillpattern": {
             "fillmode": "overlay",
             "size": 10,
             "solidity": 0.2
            },
            "type": "scatter"
           }
          ],
          "scatter3d": [
           {
            "line": {
             "colorbar": {
              "outlinewidth": 0,
              "ticks": ""
             }
            },
            "marker": {
             "colorbar": {
              "outlinewidth": 0,
              "ticks": ""
             }
            },
            "type": "scatter3d"
           }
          ],
          "scattercarpet": [
           {
            "marker": {
             "colorbar": {
              "outlinewidth": 0,
              "ticks": ""
             }
            },
            "type": "scattercarpet"
           }
          ],
          "scattergeo": [
           {
            "marker": {
             "colorbar": {
              "outlinewidth": 0,
              "ticks": ""
             }
            },
            "type": "scattergeo"
           }
          ],
          "scattergl": [
           {
            "marker": {
             "colorbar": {
              "outlinewidth": 0,
              "ticks": ""
             }
            },
            "type": "scattergl"
           }
          ],
          "scattermap": [
           {
            "marker": {
             "colorbar": {
              "outlinewidth": 0,
              "ticks": ""
             }
            },
            "type": "scattermap"
           }
          ],
          "scattermapbox": [
           {
            "marker": {
             "colorbar": {
              "outlinewidth": 0,
              "ticks": ""
             }
            },
            "type": "scattermapbox"
           }
          ],
          "scatterpolar": [
           {
            "marker": {
             "colorbar": {
              "outlinewidth": 0,
              "ticks": ""
             }
            },
            "type": "scatterpolar"
           }
          ],
          "scatterpolargl": [
           {
            "marker": {
             "colorbar": {
              "outlinewidth": 0,
              "ticks": ""
             }
            },
            "type": "scatterpolargl"
           }
          ],
          "scatterternary": [
           {
            "marker": {
             "colorbar": {
              "outlinewidth": 0,
              "ticks": ""
             }
            },
            "type": "scatterternary"
           }
          ],
          "surface": [
           {
            "colorbar": {
             "outlinewidth": 0,
             "ticks": ""
            },
            "colorscale": [
             [
              0,
              "#0d0887"
             ],
             [
              0.1111111111111111,
              "#46039f"
             ],
             [
              0.2222222222222222,
              "#7201a8"
             ],
             [
              0.3333333333333333,
              "#9c179e"
             ],
             [
              0.4444444444444444,
              "#bd3786"
             ],
             [
              0.5555555555555556,
              "#d8576b"
             ],
             [
              0.6666666666666666,
              "#ed7953"
             ],
             [
              0.7777777777777778,
              "#fb9f3a"
             ],
             [
              0.8888888888888888,
              "#fdca26"
             ],
             [
              1,
              "#f0f921"
             ]
            ],
            "type": "surface"
           }
          ],
          "table": [
           {
            "cells": {
             "fill": {
              "color": "#EBF0F8"
             },
             "line": {
              "color": "white"
             }
            },
            "header": {
             "fill": {
              "color": "#C8D4E3"
             },
             "line": {
              "color": "white"
             }
            },
            "type": "table"
           }
          ]
         },
         "layout": {
          "annotationdefaults": {
           "arrowcolor": "#2a3f5f",
           "arrowhead": 0,
           "arrowwidth": 1
          },
          "autotypenumbers": "strict",
          "coloraxis": {
           "colorbar": {
            "outlinewidth": 0,
            "ticks": ""
           }
          },
          "colorscale": {
           "diverging": [
            [
             0,
             "#8e0152"
            ],
            [
             0.1,
             "#c51b7d"
            ],
            [
             0.2,
             "#de77ae"
            ],
            [
             0.3,
             "#f1b6da"
            ],
            [
             0.4,
             "#fde0ef"
            ],
            [
             0.5,
             "#f7f7f7"
            ],
            [
             0.6,
             "#e6f5d0"
            ],
            [
             0.7,
             "#b8e186"
            ],
            [
             0.8,
             "#7fbc41"
            ],
            [
             0.9,
             "#4d9221"
            ],
            [
             1,
             "#276419"
            ]
           ],
           "sequential": [
            [
             0,
             "#0d0887"
            ],
            [
             0.1111111111111111,
             "#46039f"
            ],
            [
             0.2222222222222222,
             "#7201a8"
            ],
            [
             0.3333333333333333,
             "#9c179e"
            ],
            [
             0.4444444444444444,
             "#bd3786"
            ],
            [
             0.5555555555555556,
             "#d8576b"
            ],
            [
             0.6666666666666666,
             "#ed7953"
            ],
            [
             0.7777777777777778,
             "#fb9f3a"
            ],
            [
             0.8888888888888888,
             "#fdca26"
            ],
            [
             1,
             "#f0f921"
            ]
           ],
           "sequentialminus": [
            [
             0,
             "#0d0887"
            ],
            [
             0.1111111111111111,
             "#46039f"
            ],
            [
             0.2222222222222222,
             "#7201a8"
            ],
            [
             0.3333333333333333,
             "#9c179e"
            ],
            [
             0.4444444444444444,
             "#bd3786"
            ],
            [
             0.5555555555555556,
             "#d8576b"
            ],
            [
             0.6666666666666666,
             "#ed7953"
            ],
            [
             0.7777777777777778,
             "#fb9f3a"
            ],
            [
             0.8888888888888888,
             "#fdca26"
            ],
            [
             1,
             "#f0f921"
            ]
           ]
          },
          "colorway": [
           "#636efa",
           "#EF553B",
           "#00cc96",
           "#ab63fa",
           "#FFA15A",
           "#19d3f3",
           "#FF6692",
           "#B6E880",
           "#FF97FF",
           "#FECB52"
          ],
          "font": {
           "color": "#2a3f5f"
          },
          "geo": {
           "bgcolor": "white",
           "lakecolor": "white",
           "landcolor": "#E5ECF6",
           "showlakes": true,
           "showland": true,
           "subunitcolor": "white"
          },
          "hoverlabel": {
           "align": "left"
          },
          "hovermode": "closest",
          "mapbox": {
           "style": "light"
          },
          "paper_bgcolor": "white",
          "plot_bgcolor": "#E5ECF6",
          "polar": {
           "angularaxis": {
            "gridcolor": "white",
            "linecolor": "white",
            "ticks": ""
           },
           "bgcolor": "#E5ECF6",
           "radialaxis": {
            "gridcolor": "white",
            "linecolor": "white",
            "ticks": ""
           }
          },
          "scene": {
           "xaxis": {
            "backgroundcolor": "#E5ECF6",
            "gridcolor": "white",
            "gridwidth": 2,
            "linecolor": "white",
            "showbackground": true,
            "ticks": "",
            "zerolinecolor": "white"
           },
           "yaxis": {
            "backgroundcolor": "#E5ECF6",
            "gridcolor": "white",
            "gridwidth": 2,
            "linecolor": "white",
            "showbackground": true,
            "ticks": "",
            "zerolinecolor": "white"
           },
           "zaxis": {
            "backgroundcolor": "#E5ECF6",
            "gridcolor": "white",
            "gridwidth": 2,
            "linecolor": "white",
            "showbackground": true,
            "ticks": "",
            "zerolinecolor": "white"
           }
          },
          "shapedefaults": {
           "line": {
            "color": "#2a3f5f"
           }
          },
          "ternary": {
           "aaxis": {
            "gridcolor": "white",
            "linecolor": "white",
            "ticks": ""
           },
           "baxis": {
            "gridcolor": "white",
            "linecolor": "white",
            "ticks": ""
           },
           "bgcolor": "#E5ECF6",
           "caxis": {
            "gridcolor": "white",
            "linecolor": "white",
            "ticks": ""
           }
          },
          "title": {
           "x": 0.05
          },
          "xaxis": {
           "automargin": true,
           "gridcolor": "white",
           "linecolor": "white",
           "ticks": "",
           "title": {
            "standoff": 15
           },
           "zerolinecolor": "white",
           "zerolinewidth": 2
          },
          "yaxis": {
           "automargin": true,
           "gridcolor": "white",
           "linecolor": "white",
           "ticks": "",
           "title": {
            "standoff": 15
           },
           "zerolinecolor": "white",
           "zerolinewidth": 2
          }
         }
        },
        "xaxis": {
         "anchor": "y",
         "domain": [
          0,
          1
         ],
         "title": {
          "text": "cluster"
         }
        },
        "yaxis": {
         "anchor": "x",
         "domain": [
          0,
          1
         ],
         "title": {
          "text": "value"
         }
        }
       }
      }
     },
     "metadata": {},
     "output_type": "display_data"
    }
   ],
   "source": [
    "# Distribuição da variável cluster\n",
    "\n",
    "percentual_cluster = df_species.value_counts('cluster') / len(df_species) * 100\n",
    "px.bar(percentual_cluster, color=percentual_cluster.index)"
   ]
  },
  {
   "cell_type": "code",
   "execution_count": 48,
   "id": "35aa6b26",
   "metadata": {},
   "outputs": [
    {
     "data": {
      "application/vnd.plotly.v1+json": {
       "config": {
        "plotlyServerURL": "https://plot.ly"
       },
       "data": [
        {
         "hovertemplate": "cluster=%{marker.color}<br>value=%{y}<extra></extra>",
         "legendgroup": "",
         "marker": {
          "color": {
           "bdata": "HwALAA4AFQAWAAkAQwBLAEAAJgARABMAAQACAFcAIgAKAAcAEgAMADEALwByACQANQA+ADcALQAnACAABAADAIUAfwAPAAYAFAAQAHcAegAuABwAGwAXACwAKgA5AEYARAAdABoAZAAYAE0AWQCJAJAACABYAGcABQA8AEgAPQBRAEkAOwAlAIoAlQAoAGoAZQBhAHYAMAA6AAAADQA0ABkAMwArAB4AMgBFAJQAkwCIAIcAkgB7AHwAeQBvAEwANgBQAEEAPwBCADgAIwAhAG4AZgCLAIAAfgCEAGgAWwBzAGwAXQBeAFoAKQBVAFQAUwBSAE4ATwBHAEoAYABfAFwAVgBjAGkAbQBiAJEAggB1AHQAawB4AIEAgwCOAI0AhgBxAHAAfQCMAI8A",
           "dtype": "i2"
          },
          "coloraxis": "coloraxis",
          "pattern": {
           "shape": ""
          }
         },
         "name": "",
         "orientation": "v",
         "showlegend": false,
         "textposition": "auto",
         "type": "bar",
         "x": {
          "bdata": "HwALAA4AFQAWAAkAQwBLAEAAJgARABMAAQACAFcAIgAKAAcAEgAMADEALwByACQANQA+ADcALQAnACAABAADAIUAfwAPAAYAFAAQAHcAegAuABwAGwAXACwAKgA5AEYARAAdABoAZAAYAE0AWQCJAJAACABYAGcABQA8AEgAPQBRAEkAOwAlAIoAlQAoAGoAZQBhAHYAMAA6AAAADQA0ABkAMwArAB4AMgBFAJQAkwCIAIcAkgB7AHwAeQBvAEwANgBQAEEAPwBCADgAIwAhAG4AZgCLAIAAfgCEAGgAWwBzAGwAXQBeAFoAKQBVAFQAUwBSAE4ATwBHAEoAYABfAFwAVgBjAGkAbQBiAJEAggB1AHQAawB4AIEAgwCOAI0AhgBxAHAAfQCMAI8A",
          "dtype": "i2"
         },
         "xaxis": "x",
         "y": {
          "bdata": "CQgICAgICAgHBwcHBwcHBgYGBgYGBgYGBgYGBgYGBQUFBQUFBQUFBQUFBQUFBQUFBQUFBQUFBQUFBAQEBAQEBAQEBAQEBAQEBAQEBAQDAwMDAwMDAwMDAwMDAwMDAwMDAwMDAwMDAwMDAwMDAwMDAwMDAwMDAgICAgICAgICAgICAgICAgICAgICAgICAgICAgEBAQEB",
          "dtype": "i1"
         },
         "yaxis": "y"
        }
       ],
       "layout": {
        "barmode": "relative",
        "coloraxis": {
         "colorbar": {
          "title": {
           "text": "cluster"
          }
         },
         "colorscale": [
          [
           0,
           "#0d0887"
          ],
          [
           0.1111111111111111,
           "#46039f"
          ],
          [
           0.2222222222222222,
           "#7201a8"
          ],
          [
           0.3333333333333333,
           "#9c179e"
          ],
          [
           0.4444444444444444,
           "#bd3786"
          ],
          [
           0.5555555555555556,
           "#d8576b"
          ],
          [
           0.6666666666666666,
           "#ed7953"
          ],
          [
           0.7777777777777778,
           "#fb9f3a"
          ],
          [
           0.8888888888888888,
           "#fdca26"
          ],
          [
           1,
           "#f0f921"
          ]
         ]
        },
        "legend": {
         "tracegroupgap": 0
        },
        "margin": {
         "t": 60
        },
        "template": {
         "data": {
          "bar": [
           {
            "error_x": {
             "color": "#2a3f5f"
            },
            "error_y": {
             "color": "#2a3f5f"
            },
            "marker": {
             "line": {
              "color": "#E5ECF6",
              "width": 0.5
             },
             "pattern": {
              "fillmode": "overlay",
              "size": 10,
              "solidity": 0.2
             }
            },
            "type": "bar"
           }
          ],
          "barpolar": [
           {
            "marker": {
             "line": {
              "color": "#E5ECF6",
              "width": 0.5
             },
             "pattern": {
              "fillmode": "overlay",
              "size": 10,
              "solidity": 0.2
             }
            },
            "type": "barpolar"
           }
          ],
          "carpet": [
           {
            "aaxis": {
             "endlinecolor": "#2a3f5f",
             "gridcolor": "white",
             "linecolor": "white",
             "minorgridcolor": "white",
             "startlinecolor": "#2a3f5f"
            },
            "baxis": {
             "endlinecolor": "#2a3f5f",
             "gridcolor": "white",
             "linecolor": "white",
             "minorgridcolor": "white",
             "startlinecolor": "#2a3f5f"
            },
            "type": "carpet"
           }
          ],
          "choropleth": [
           {
            "colorbar": {
             "outlinewidth": 0,
             "ticks": ""
            },
            "type": "choropleth"
           }
          ],
          "contour": [
           {
            "colorbar": {
             "outlinewidth": 0,
             "ticks": ""
            },
            "colorscale": [
             [
              0,
              "#0d0887"
             ],
             [
              0.1111111111111111,
              "#46039f"
             ],
             [
              0.2222222222222222,
              "#7201a8"
             ],
             [
              0.3333333333333333,
              "#9c179e"
             ],
             [
              0.4444444444444444,
              "#bd3786"
             ],
             [
              0.5555555555555556,
              "#d8576b"
             ],
             [
              0.6666666666666666,
              "#ed7953"
             ],
             [
              0.7777777777777778,
              "#fb9f3a"
             ],
             [
              0.8888888888888888,
              "#fdca26"
             ],
             [
              1,
              "#f0f921"
             ]
            ],
            "type": "contour"
           }
          ],
          "contourcarpet": [
           {
            "colorbar": {
             "outlinewidth": 0,
             "ticks": ""
            },
            "type": "contourcarpet"
           }
          ],
          "heatmap": [
           {
            "colorbar": {
             "outlinewidth": 0,
             "ticks": ""
            },
            "colorscale": [
             [
              0,
              "#0d0887"
             ],
             [
              0.1111111111111111,
              "#46039f"
             ],
             [
              0.2222222222222222,
              "#7201a8"
             ],
             [
              0.3333333333333333,
              "#9c179e"
             ],
             [
              0.4444444444444444,
              "#bd3786"
             ],
             [
              0.5555555555555556,
              "#d8576b"
             ],
             [
              0.6666666666666666,
              "#ed7953"
             ],
             [
              0.7777777777777778,
              "#fb9f3a"
             ],
             [
              0.8888888888888888,
              "#fdca26"
             ],
             [
              1,
              "#f0f921"
             ]
            ],
            "type": "heatmap"
           }
          ],
          "histogram": [
           {
            "marker": {
             "pattern": {
              "fillmode": "overlay",
              "size": 10,
              "solidity": 0.2
             }
            },
            "type": "histogram"
           }
          ],
          "histogram2d": [
           {
            "colorbar": {
             "outlinewidth": 0,
             "ticks": ""
            },
            "colorscale": [
             [
              0,
              "#0d0887"
             ],
             [
              0.1111111111111111,
              "#46039f"
             ],
             [
              0.2222222222222222,
              "#7201a8"
             ],
             [
              0.3333333333333333,
              "#9c179e"
             ],
             [
              0.4444444444444444,
              "#bd3786"
             ],
             [
              0.5555555555555556,
              "#d8576b"
             ],
             [
              0.6666666666666666,
              "#ed7953"
             ],
             [
              0.7777777777777778,
              "#fb9f3a"
             ],
             [
              0.8888888888888888,
              "#fdca26"
             ],
             [
              1,
              "#f0f921"
             ]
            ],
            "type": "histogram2d"
           }
          ],
          "histogram2dcontour": [
           {
            "colorbar": {
             "outlinewidth": 0,
             "ticks": ""
            },
            "colorscale": [
             [
              0,
              "#0d0887"
             ],
             [
              0.1111111111111111,
              "#46039f"
             ],
             [
              0.2222222222222222,
              "#7201a8"
             ],
             [
              0.3333333333333333,
              "#9c179e"
             ],
             [
              0.4444444444444444,
              "#bd3786"
             ],
             [
              0.5555555555555556,
              "#d8576b"
             ],
             [
              0.6666666666666666,
              "#ed7953"
             ],
             [
              0.7777777777777778,
              "#fb9f3a"
             ],
             [
              0.8888888888888888,
              "#fdca26"
             ],
             [
              1,
              "#f0f921"
             ]
            ],
            "type": "histogram2dcontour"
           }
          ],
          "mesh3d": [
           {
            "colorbar": {
             "outlinewidth": 0,
             "ticks": ""
            },
            "type": "mesh3d"
           }
          ],
          "parcoords": [
           {
            "line": {
             "colorbar": {
              "outlinewidth": 0,
              "ticks": ""
             }
            },
            "type": "parcoords"
           }
          ],
          "pie": [
           {
            "automargin": true,
            "type": "pie"
           }
          ],
          "scatter": [
           {
            "fillpattern": {
             "fillmode": "overlay",
             "size": 10,
             "solidity": 0.2
            },
            "type": "scatter"
           }
          ],
          "scatter3d": [
           {
            "line": {
             "colorbar": {
              "outlinewidth": 0,
              "ticks": ""
             }
            },
            "marker": {
             "colorbar": {
              "outlinewidth": 0,
              "ticks": ""
             }
            },
            "type": "scatter3d"
           }
          ],
          "scattercarpet": [
           {
            "marker": {
             "colorbar": {
              "outlinewidth": 0,
              "ticks": ""
             }
            },
            "type": "scattercarpet"
           }
          ],
          "scattergeo": [
           {
            "marker": {
             "colorbar": {
              "outlinewidth": 0,
              "ticks": ""
             }
            },
            "type": "scattergeo"
           }
          ],
          "scattergl": [
           {
            "marker": {
             "colorbar": {
              "outlinewidth": 0,
              "ticks": ""
             }
            },
            "type": "scattergl"
           }
          ],
          "scattermap": [
           {
            "marker": {
             "colorbar": {
              "outlinewidth": 0,
              "ticks": ""
             }
            },
            "type": "scattermap"
           }
          ],
          "scattermapbox": [
           {
            "marker": {
             "colorbar": {
              "outlinewidth": 0,
              "ticks": ""
             }
            },
            "type": "scattermapbox"
           }
          ],
          "scatterpolar": [
           {
            "marker": {
             "colorbar": {
              "outlinewidth": 0,
              "ticks": ""
             }
            },
            "type": "scatterpolar"
           }
          ],
          "scatterpolargl": [
           {
            "marker": {
             "colorbar": {
              "outlinewidth": 0,
              "ticks": ""
             }
            },
            "type": "scatterpolargl"
           }
          ],
          "scatterternary": [
           {
            "marker": {
             "colorbar": {
              "outlinewidth": 0,
              "ticks": ""
             }
            },
            "type": "scatterternary"
           }
          ],
          "surface": [
           {
            "colorbar": {
             "outlinewidth": 0,
             "ticks": ""
            },
            "colorscale": [
             [
              0,
              "#0d0887"
             ],
             [
              0.1111111111111111,
              "#46039f"
             ],
             [
              0.2222222222222222,
              "#7201a8"
             ],
             [
              0.3333333333333333,
              "#9c179e"
             ],
             [
              0.4444444444444444,
              "#bd3786"
             ],
             [
              0.5555555555555556,
              "#d8576b"
             ],
             [
              0.6666666666666666,
              "#ed7953"
             ],
             [
              0.7777777777777778,
              "#fb9f3a"
             ],
             [
              0.8888888888888888,
              "#fdca26"
             ],
             [
              1,
              "#f0f921"
             ]
            ],
            "type": "surface"
           }
          ],
          "table": [
           {
            "cells": {
             "fill": {
              "color": "#EBF0F8"
             },
             "line": {
              "color": "white"
             }
            },
            "header": {
             "fill": {
              "color": "#C8D4E3"
             },
             "line": {
              "color": "white"
             }
            },
            "type": "table"
           }
          ]
         },
         "layout": {
          "annotationdefaults": {
           "arrowcolor": "#2a3f5f",
           "arrowhead": 0,
           "arrowwidth": 1
          },
          "autotypenumbers": "strict",
          "coloraxis": {
           "colorbar": {
            "outlinewidth": 0,
            "ticks": ""
           }
          },
          "colorscale": {
           "diverging": [
            [
             0,
             "#8e0152"
            ],
            [
             0.1,
             "#c51b7d"
            ],
            [
             0.2,
             "#de77ae"
            ],
            [
             0.3,
             "#f1b6da"
            ],
            [
             0.4,
             "#fde0ef"
            ],
            [
             0.5,
             "#f7f7f7"
            ],
            [
             0.6,
             "#e6f5d0"
            ],
            [
             0.7,
             "#b8e186"
            ],
            [
             0.8,
             "#7fbc41"
            ],
            [
             0.9,
             "#4d9221"
            ],
            [
             1,
             "#276419"
            ]
           ],
           "sequential": [
            [
             0,
             "#0d0887"
            ],
            [
             0.1111111111111111,
             "#46039f"
            ],
            [
             0.2222222222222222,
             "#7201a8"
            ],
            [
             0.3333333333333333,
             "#9c179e"
            ],
            [
             0.4444444444444444,
             "#bd3786"
            ],
            [
             0.5555555555555556,
             "#d8576b"
            ],
            [
             0.6666666666666666,
             "#ed7953"
            ],
            [
             0.7777777777777778,
             "#fb9f3a"
            ],
            [
             0.8888888888888888,
             "#fdca26"
            ],
            [
             1,
             "#f0f921"
            ]
           ],
           "sequentialminus": [
            [
             0,
             "#0d0887"
            ],
            [
             0.1111111111111111,
             "#46039f"
            ],
            [
             0.2222222222222222,
             "#7201a8"
            ],
            [
             0.3333333333333333,
             "#9c179e"
            ],
            [
             0.4444444444444444,
             "#bd3786"
            ],
            [
             0.5555555555555556,
             "#d8576b"
            ],
            [
             0.6666666666666666,
             "#ed7953"
            ],
            [
             0.7777777777777778,
             "#fb9f3a"
            ],
            [
             0.8888888888888888,
             "#fdca26"
            ],
            [
             1,
             "#f0f921"
            ]
           ]
          },
          "colorway": [
           "#636efa",
           "#EF553B",
           "#00cc96",
           "#ab63fa",
           "#FFA15A",
           "#19d3f3",
           "#FF6692",
           "#B6E880",
           "#FF97FF",
           "#FECB52"
          ],
          "font": {
           "color": "#2a3f5f"
          },
          "geo": {
           "bgcolor": "white",
           "lakecolor": "white",
           "landcolor": "#E5ECF6",
           "showlakes": true,
           "showland": true,
           "subunitcolor": "white"
          },
          "hoverlabel": {
           "align": "left"
          },
          "hovermode": "closest",
          "mapbox": {
           "style": "light"
          },
          "paper_bgcolor": "white",
          "plot_bgcolor": "#E5ECF6",
          "polar": {
           "angularaxis": {
            "gridcolor": "white",
            "linecolor": "white",
            "ticks": ""
           },
           "bgcolor": "#E5ECF6",
           "radialaxis": {
            "gridcolor": "white",
            "linecolor": "white",
            "ticks": ""
           }
          },
          "scene": {
           "xaxis": {
            "backgroundcolor": "#E5ECF6",
            "gridcolor": "white",
            "gridwidth": 2,
            "linecolor": "white",
            "showbackground": true,
            "ticks": "",
            "zerolinecolor": "white"
           },
           "yaxis": {
            "backgroundcolor": "#E5ECF6",
            "gridcolor": "white",
            "gridwidth": 2,
            "linecolor": "white",
            "showbackground": true,
            "ticks": "",
            "zerolinecolor": "white"
           },
           "zaxis": {
            "backgroundcolor": "#E5ECF6",
            "gridcolor": "white",
            "gridwidth": 2,
            "linecolor": "white",
            "showbackground": true,
            "ticks": "",
            "zerolinecolor": "white"
           }
          },
          "shapedefaults": {
           "line": {
            "color": "#2a3f5f"
           }
          },
          "ternary": {
           "aaxis": {
            "gridcolor": "white",
            "linecolor": "white",
            "ticks": ""
           },
           "baxis": {
            "gridcolor": "white",
            "linecolor": "white",
            "ticks": ""
           },
           "bgcolor": "#E5ECF6",
           "caxis": {
            "gridcolor": "white",
            "linecolor": "white",
            "ticks": ""
           }
          },
          "title": {
           "x": 0.05
          },
          "xaxis": {
           "automargin": true,
           "gridcolor": "white",
           "linecolor": "white",
           "ticks": "",
           "title": {
            "standoff": 15
           },
           "zerolinecolor": "white",
           "zerolinewidth": 2
          },
          "yaxis": {
           "automargin": true,
           "gridcolor": "white",
           "linecolor": "white",
           "ticks": "",
           "title": {
            "standoff": 15
           },
           "zerolinecolor": "white",
           "zerolinewidth": 2
          }
         }
        },
        "xaxis": {
         "anchor": "y",
         "domain": [
          0,
          1
         ],
         "title": {
          "text": "cluster"
         }
        },
        "yaxis": {
         "anchor": "x",
         "domain": [
          0,
          1
         ],
         "title": {
          "text": "value"
         }
        }
       }
      }
     },
     "metadata": {},
     "output_type": "display_data"
    }
   ],
   "source": [
    "# Distribuição da variável cluster\n",
    "\n",
    "qtde_cluster = df_species.value_counts('cluster')\n",
    "px.bar(qtde_cluster, color=qtde_cluster.index)"
   ]
  },
  {
   "cell_type": "markdown",
   "id": "fae53083",
   "metadata": {},
   "source": [
    "### **Resultados Obtidos:**\n",
    "\n",
    "**Introdução:**\n",
    "O objetivo foi agrupar 600 espécies fictícias com base em características morfológicas, fisiológicas e comportamentais, a fim de identificar padrões taxonômicos semelhantes aos encontrados na biologia evolutiva.\n",
    "\n",
    "**Pré-processamento:**\n",
    "Foram utilizadas 8 variáveis numéricas/binárias (massa corporal, número de pernas, presença de asas, comprimento da cauda, número de olhos, atividade noturna, expectativa de vida e presença de veneno) e 3 variáveis categóricas codificadas (tipo de dieta, tipo de pele e comportamento social). As variáveis numéricas foram padronizadas e as categóricas transformadas via One-Hot Encoding para cálculo de distâncias.\n",
    "\n",
    "**Método:**\n",
    "Foi aplicada clusterização hierárquica aglomerativa utilizando o método de linkage ‘ward’ e divisive com 10 a 15 clusters, comparando os resultados por métrica de silhueta. Onde foi verificado que o melhor método seria o Aglomerativo.\n",
    "\n",
    "**Resultados:**\n",
    "O algoritmo aglomerativo gerou 150 clusters com score de silhueta 0.13, enquanto o divisivo gerou 15 clusters com score de 0.082. Apesar do score maior do aglomerativo, optou-se por analisar o divisivo, que apresenta um número de clusters mais interpretável biologicamente.\n",
    "\n",
    "**Conclusão:**\n",
    "A clusterização hierárquica permitiu identificar grupos taxonômicos coerentes dentro do dataset fictício, demonstrando que características morfológicas e comportamentais podem ser usadas para diferenciar espécies. Apesar de diferenças de métricas, a análise qualitativa indica que ambos os métodos (aglomerativo e divisivo) fornecem insights úteis, com preferência por um número moderado de clusters para interpretação biológica. Notando-se, assim que o modelo conseguiu clusterizar os dados as espécies, de uma forma aceitável."
   ]
  }
 ],
 "metadata": {
  "kernelspec": {
   "display_name": "base",
   "language": "python",
   "name": "python3"
  },
  "language_info": {
   "codemirror_mode": {
    "name": "ipython",
    "version": 3
   },
   "file_extension": ".py",
   "mimetype": "text/x-python",
   "name": "python",
   "nbconvert_exporter": "python",
   "pygments_lexer": "ipython3",
   "version": "3.13.3"
  }
 },
 "nbformat": 4,
 "nbformat_minor": 5
}
