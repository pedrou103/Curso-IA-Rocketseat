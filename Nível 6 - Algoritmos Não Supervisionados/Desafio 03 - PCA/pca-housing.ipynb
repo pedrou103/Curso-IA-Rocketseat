{
 "cells": [
  {
   "cell_type": "code",
   "execution_count": 34,
   "id": "00f82238",
   "metadata": {},
   "outputs": [],
   "source": [
    "# !pip install pandas pyplot scikit-learn matplotlib ipywidgets ipykernel seaborn\n",
    "\n",
    "import pandas as pd\n",
    "import plotly.express as px\n",
    "import seaborn as sns\n",
    "from matplotlib import pyplot as plt\n",
    "\n",
    "# ML\n",
    "from sklearn.decomposition import PCA\n",
    "from sklearn.metrics import mean_squared_error\n",
    "from sklearn.preprocessing import StandardScaler, OneHotEncoder\n",
    "from sklearn.compose import ColumnTransformer\n",
    "import numpy as np"
   ]
  },
  {
   "cell_type": "markdown",
   "id": "b90ba682",
   "metadata": {},
   "source": [
    "### Carregamento dos dados"
   ]
  },
  {
   "cell_type": "code",
   "execution_count": 3,
   "id": "ec88536a",
   "metadata": {},
   "outputs": [],
   "source": [
    "# Carregar o Dataframe\n",
    "\n",
    "df_housing = pd.read_csv('./Datasets/housing.csv')"
   ]
  },
  {
   "cell_type": "code",
   "execution_count": 4,
   "id": "51dc27d5",
   "metadata": {},
   "outputs": [
    {
     "name": "stdout",
     "output_type": "stream",
     "text": [
      "<class 'pandas.core.frame.DataFrame'>\n",
      "RangeIndex: 545 entries, 0 to 544\n",
      "Data columns (total 13 columns):\n",
      " #   Column            Non-Null Count  Dtype \n",
      "---  ------            --------------  ----- \n",
      " 0   price             545 non-null    int64 \n",
      " 1   area              545 non-null    int64 \n",
      " 2   bedrooms          545 non-null    int64 \n",
      " 3   bathrooms         545 non-null    int64 \n",
      " 4   stories           545 non-null    int64 \n",
      " 5   mainroad          545 non-null    object\n",
      " 6   guestroom         545 non-null    object\n",
      " 7   basement          545 non-null    object\n",
      " 8   hotwaterheating   545 non-null    object\n",
      " 9   airconditioning   545 non-null    object\n",
      " 10  parking           545 non-null    int64 \n",
      " 11  prefarea          545 non-null    object\n",
      " 12  furnishingstatus  545 non-null    object\n",
      "dtypes: int64(6), object(7)\n",
      "memory usage: 55.5+ KB\n"
     ]
    }
   ],
   "source": [
    "# Analisar a estrutura\n",
    "\n",
    "df_housing.info()"
   ]
  },
  {
   "cell_type": "code",
   "execution_count": 5,
   "id": "cf47cb4e",
   "metadata": {},
   "outputs": [
    {
     "data": {
      "text/html": [
       "<div>\n",
       "<style scoped>\n",
       "    .dataframe tbody tr th:only-of-type {\n",
       "        vertical-align: middle;\n",
       "    }\n",
       "\n",
       "    .dataframe tbody tr th {\n",
       "        vertical-align: top;\n",
       "    }\n",
       "\n",
       "    .dataframe thead th {\n",
       "        text-align: right;\n",
       "    }\n",
       "</style>\n",
       "<table border=\"1\" class=\"dataframe\">\n",
       "  <thead>\n",
       "    <tr style=\"text-align: right;\">\n",
       "      <th></th>\n",
       "      <th>price</th>\n",
       "      <th>area</th>\n",
       "      <th>bedrooms</th>\n",
       "      <th>bathrooms</th>\n",
       "      <th>stories</th>\n",
       "      <th>mainroad</th>\n",
       "      <th>guestroom</th>\n",
       "      <th>basement</th>\n",
       "      <th>hotwaterheating</th>\n",
       "      <th>airconditioning</th>\n",
       "      <th>parking</th>\n",
       "      <th>prefarea</th>\n",
       "      <th>furnishingstatus</th>\n",
       "    </tr>\n",
       "  </thead>\n",
       "  <tbody>\n",
       "    <tr>\n",
       "      <th>0</th>\n",
       "      <td>13300000</td>\n",
       "      <td>7420</td>\n",
       "      <td>4</td>\n",
       "      <td>2</td>\n",
       "      <td>3</td>\n",
       "      <td>yes</td>\n",
       "      <td>no</td>\n",
       "      <td>no</td>\n",
       "      <td>no</td>\n",
       "      <td>yes</td>\n",
       "      <td>2</td>\n",
       "      <td>yes</td>\n",
       "      <td>furnished</td>\n",
       "    </tr>\n",
       "    <tr>\n",
       "      <th>1</th>\n",
       "      <td>12250000</td>\n",
       "      <td>8960</td>\n",
       "      <td>4</td>\n",
       "      <td>4</td>\n",
       "      <td>4</td>\n",
       "      <td>yes</td>\n",
       "      <td>no</td>\n",
       "      <td>no</td>\n",
       "      <td>no</td>\n",
       "      <td>yes</td>\n",
       "      <td>3</td>\n",
       "      <td>no</td>\n",
       "      <td>furnished</td>\n",
       "    </tr>\n",
       "    <tr>\n",
       "      <th>2</th>\n",
       "      <td>12250000</td>\n",
       "      <td>9960</td>\n",
       "      <td>3</td>\n",
       "      <td>2</td>\n",
       "      <td>2</td>\n",
       "      <td>yes</td>\n",
       "      <td>no</td>\n",
       "      <td>yes</td>\n",
       "      <td>no</td>\n",
       "      <td>no</td>\n",
       "      <td>2</td>\n",
       "      <td>yes</td>\n",
       "      <td>semi-furnished</td>\n",
       "    </tr>\n",
       "    <tr>\n",
       "      <th>3</th>\n",
       "      <td>12215000</td>\n",
       "      <td>7500</td>\n",
       "      <td>4</td>\n",
       "      <td>2</td>\n",
       "      <td>2</td>\n",
       "      <td>yes</td>\n",
       "      <td>no</td>\n",
       "      <td>yes</td>\n",
       "      <td>no</td>\n",
       "      <td>yes</td>\n",
       "      <td>3</td>\n",
       "      <td>yes</td>\n",
       "      <td>furnished</td>\n",
       "    </tr>\n",
       "    <tr>\n",
       "      <th>4</th>\n",
       "      <td>11410000</td>\n",
       "      <td>7420</td>\n",
       "      <td>4</td>\n",
       "      <td>1</td>\n",
       "      <td>2</td>\n",
       "      <td>yes</td>\n",
       "      <td>yes</td>\n",
       "      <td>yes</td>\n",
       "      <td>no</td>\n",
       "      <td>yes</td>\n",
       "      <td>2</td>\n",
       "      <td>no</td>\n",
       "      <td>furnished</td>\n",
       "    </tr>\n",
       "    <tr>\n",
       "      <th>5</th>\n",
       "      <td>10850000</td>\n",
       "      <td>7500</td>\n",
       "      <td>3</td>\n",
       "      <td>3</td>\n",
       "      <td>1</td>\n",
       "      <td>yes</td>\n",
       "      <td>no</td>\n",
       "      <td>yes</td>\n",
       "      <td>no</td>\n",
       "      <td>yes</td>\n",
       "      <td>2</td>\n",
       "      <td>yes</td>\n",
       "      <td>semi-furnished</td>\n",
       "    </tr>\n",
       "    <tr>\n",
       "      <th>6</th>\n",
       "      <td>10150000</td>\n",
       "      <td>8580</td>\n",
       "      <td>4</td>\n",
       "      <td>3</td>\n",
       "      <td>4</td>\n",
       "      <td>yes</td>\n",
       "      <td>no</td>\n",
       "      <td>no</td>\n",
       "      <td>no</td>\n",
       "      <td>yes</td>\n",
       "      <td>2</td>\n",
       "      <td>yes</td>\n",
       "      <td>semi-furnished</td>\n",
       "    </tr>\n",
       "    <tr>\n",
       "      <th>7</th>\n",
       "      <td>10150000</td>\n",
       "      <td>16200</td>\n",
       "      <td>5</td>\n",
       "      <td>3</td>\n",
       "      <td>2</td>\n",
       "      <td>yes</td>\n",
       "      <td>no</td>\n",
       "      <td>no</td>\n",
       "      <td>no</td>\n",
       "      <td>no</td>\n",
       "      <td>0</td>\n",
       "      <td>no</td>\n",
       "      <td>unfurnished</td>\n",
       "    </tr>\n",
       "    <tr>\n",
       "      <th>8</th>\n",
       "      <td>9870000</td>\n",
       "      <td>8100</td>\n",
       "      <td>4</td>\n",
       "      <td>1</td>\n",
       "      <td>2</td>\n",
       "      <td>yes</td>\n",
       "      <td>yes</td>\n",
       "      <td>yes</td>\n",
       "      <td>no</td>\n",
       "      <td>yes</td>\n",
       "      <td>2</td>\n",
       "      <td>yes</td>\n",
       "      <td>furnished</td>\n",
       "    </tr>\n",
       "    <tr>\n",
       "      <th>9</th>\n",
       "      <td>9800000</td>\n",
       "      <td>5750</td>\n",
       "      <td>3</td>\n",
       "      <td>2</td>\n",
       "      <td>4</td>\n",
       "      <td>yes</td>\n",
       "      <td>yes</td>\n",
       "      <td>no</td>\n",
       "      <td>no</td>\n",
       "      <td>yes</td>\n",
       "      <td>1</td>\n",
       "      <td>yes</td>\n",
       "      <td>unfurnished</td>\n",
       "    </tr>\n",
       "  </tbody>\n",
       "</table>\n",
       "</div>"
      ],
      "text/plain": [
       "      price   area  bedrooms  bathrooms  stories mainroad guestroom basement  \\\n",
       "0  13300000   7420         4          2        3      yes        no       no   \n",
       "1  12250000   8960         4          4        4      yes        no       no   \n",
       "2  12250000   9960         3          2        2      yes        no      yes   \n",
       "3  12215000   7500         4          2        2      yes        no      yes   \n",
       "4  11410000   7420         4          1        2      yes       yes      yes   \n",
       "5  10850000   7500         3          3        1      yes        no      yes   \n",
       "6  10150000   8580         4          3        4      yes        no       no   \n",
       "7  10150000  16200         5          3        2      yes        no       no   \n",
       "8   9870000   8100         4          1        2      yes       yes      yes   \n",
       "9   9800000   5750         3          2        4      yes       yes       no   \n",
       "\n",
       "  hotwaterheating airconditioning  parking prefarea furnishingstatus  \n",
       "0              no             yes        2      yes        furnished  \n",
       "1              no             yes        3       no        furnished  \n",
       "2              no              no        2      yes   semi-furnished  \n",
       "3              no             yes        3      yes        furnished  \n",
       "4              no             yes        2       no        furnished  \n",
       "5              no             yes        2      yes   semi-furnished  \n",
       "6              no             yes        2      yes   semi-furnished  \n",
       "7              no              no        0       no      unfurnished  \n",
       "8              no             yes        2      yes        furnished  \n",
       "9              no             yes        1      yes      unfurnished  "
      ]
     },
     "execution_count": 5,
     "metadata": {},
     "output_type": "execute_result"
    }
   ],
   "source": [
    "# Visualizando os primeiros resultados\n",
    "\n",
    "df_housing.head(10)"
   ]
  },
  {
   "cell_type": "code",
   "execution_count": 7,
   "id": "79b994ad",
   "metadata": {},
   "outputs": [
    {
     "data": {
      "text/html": [
       "<div>\n",
       "<style scoped>\n",
       "    .dataframe tbody tr th:only-of-type {\n",
       "        vertical-align: middle;\n",
       "    }\n",
       "\n",
       "    .dataframe tbody tr th {\n",
       "        vertical-align: top;\n",
       "    }\n",
       "\n",
       "    .dataframe thead th {\n",
       "        text-align: right;\n",
       "    }\n",
       "</style>\n",
       "<table border=\"1\" class=\"dataframe\">\n",
       "  <thead>\n",
       "    <tr style=\"text-align: right;\">\n",
       "      <th></th>\n",
       "      <th>price</th>\n",
       "      <th>area</th>\n",
       "      <th>bedrooms</th>\n",
       "      <th>bathrooms</th>\n",
       "      <th>stories</th>\n",
       "      <th>mainroad</th>\n",
       "      <th>guestroom</th>\n",
       "      <th>basement</th>\n",
       "      <th>hotwaterheating</th>\n",
       "      <th>airconditioning</th>\n",
       "      <th>parking</th>\n",
       "      <th>prefarea</th>\n",
       "      <th>furnishingstatus</th>\n",
       "    </tr>\n",
       "  </thead>\n",
       "  <tbody>\n",
       "    <tr>\n",
       "      <th>535</th>\n",
       "      <td>2100000</td>\n",
       "      <td>3360</td>\n",
       "      <td>2</td>\n",
       "      <td>1</td>\n",
       "      <td>1</td>\n",
       "      <td>yes</td>\n",
       "      <td>no</td>\n",
       "      <td>no</td>\n",
       "      <td>no</td>\n",
       "      <td>no</td>\n",
       "      <td>1</td>\n",
       "      <td>no</td>\n",
       "      <td>unfurnished</td>\n",
       "    </tr>\n",
       "    <tr>\n",
       "      <th>536</th>\n",
       "      <td>1960000</td>\n",
       "      <td>3420</td>\n",
       "      <td>5</td>\n",
       "      <td>1</td>\n",
       "      <td>2</td>\n",
       "      <td>no</td>\n",
       "      <td>no</td>\n",
       "      <td>no</td>\n",
       "      <td>no</td>\n",
       "      <td>no</td>\n",
       "      <td>0</td>\n",
       "      <td>no</td>\n",
       "      <td>unfurnished</td>\n",
       "    </tr>\n",
       "    <tr>\n",
       "      <th>537</th>\n",
       "      <td>1890000</td>\n",
       "      <td>1700</td>\n",
       "      <td>3</td>\n",
       "      <td>1</td>\n",
       "      <td>2</td>\n",
       "      <td>yes</td>\n",
       "      <td>no</td>\n",
       "      <td>no</td>\n",
       "      <td>no</td>\n",
       "      <td>no</td>\n",
       "      <td>0</td>\n",
       "      <td>no</td>\n",
       "      <td>unfurnished</td>\n",
       "    </tr>\n",
       "    <tr>\n",
       "      <th>538</th>\n",
       "      <td>1890000</td>\n",
       "      <td>3649</td>\n",
       "      <td>2</td>\n",
       "      <td>1</td>\n",
       "      <td>1</td>\n",
       "      <td>yes</td>\n",
       "      <td>no</td>\n",
       "      <td>no</td>\n",
       "      <td>no</td>\n",
       "      <td>no</td>\n",
       "      <td>0</td>\n",
       "      <td>no</td>\n",
       "      <td>unfurnished</td>\n",
       "    </tr>\n",
       "    <tr>\n",
       "      <th>539</th>\n",
       "      <td>1855000</td>\n",
       "      <td>2990</td>\n",
       "      <td>2</td>\n",
       "      <td>1</td>\n",
       "      <td>1</td>\n",
       "      <td>no</td>\n",
       "      <td>no</td>\n",
       "      <td>no</td>\n",
       "      <td>no</td>\n",
       "      <td>no</td>\n",
       "      <td>1</td>\n",
       "      <td>no</td>\n",
       "      <td>unfurnished</td>\n",
       "    </tr>\n",
       "    <tr>\n",
       "      <th>540</th>\n",
       "      <td>1820000</td>\n",
       "      <td>3000</td>\n",
       "      <td>2</td>\n",
       "      <td>1</td>\n",
       "      <td>1</td>\n",
       "      <td>yes</td>\n",
       "      <td>no</td>\n",
       "      <td>yes</td>\n",
       "      <td>no</td>\n",
       "      <td>no</td>\n",
       "      <td>2</td>\n",
       "      <td>no</td>\n",
       "      <td>unfurnished</td>\n",
       "    </tr>\n",
       "    <tr>\n",
       "      <th>541</th>\n",
       "      <td>1767150</td>\n",
       "      <td>2400</td>\n",
       "      <td>3</td>\n",
       "      <td>1</td>\n",
       "      <td>1</td>\n",
       "      <td>no</td>\n",
       "      <td>no</td>\n",
       "      <td>no</td>\n",
       "      <td>no</td>\n",
       "      <td>no</td>\n",
       "      <td>0</td>\n",
       "      <td>no</td>\n",
       "      <td>semi-furnished</td>\n",
       "    </tr>\n",
       "    <tr>\n",
       "      <th>542</th>\n",
       "      <td>1750000</td>\n",
       "      <td>3620</td>\n",
       "      <td>2</td>\n",
       "      <td>1</td>\n",
       "      <td>1</td>\n",
       "      <td>yes</td>\n",
       "      <td>no</td>\n",
       "      <td>no</td>\n",
       "      <td>no</td>\n",
       "      <td>no</td>\n",
       "      <td>0</td>\n",
       "      <td>no</td>\n",
       "      <td>unfurnished</td>\n",
       "    </tr>\n",
       "    <tr>\n",
       "      <th>543</th>\n",
       "      <td>1750000</td>\n",
       "      <td>2910</td>\n",
       "      <td>3</td>\n",
       "      <td>1</td>\n",
       "      <td>1</td>\n",
       "      <td>no</td>\n",
       "      <td>no</td>\n",
       "      <td>no</td>\n",
       "      <td>no</td>\n",
       "      <td>no</td>\n",
       "      <td>0</td>\n",
       "      <td>no</td>\n",
       "      <td>furnished</td>\n",
       "    </tr>\n",
       "    <tr>\n",
       "      <th>544</th>\n",
       "      <td>1750000</td>\n",
       "      <td>3850</td>\n",
       "      <td>3</td>\n",
       "      <td>1</td>\n",
       "      <td>2</td>\n",
       "      <td>yes</td>\n",
       "      <td>no</td>\n",
       "      <td>no</td>\n",
       "      <td>no</td>\n",
       "      <td>no</td>\n",
       "      <td>0</td>\n",
       "      <td>no</td>\n",
       "      <td>unfurnished</td>\n",
       "    </tr>\n",
       "  </tbody>\n",
       "</table>\n",
       "</div>"
      ],
      "text/plain": [
       "       price  area  bedrooms  bathrooms  stories mainroad guestroom basement  \\\n",
       "535  2100000  3360         2          1        1      yes        no       no   \n",
       "536  1960000  3420         5          1        2       no        no       no   \n",
       "537  1890000  1700         3          1        2      yes        no       no   \n",
       "538  1890000  3649         2          1        1      yes        no       no   \n",
       "539  1855000  2990         2          1        1       no        no       no   \n",
       "540  1820000  3000         2          1        1      yes        no      yes   \n",
       "541  1767150  2400         3          1        1       no        no       no   \n",
       "542  1750000  3620         2          1        1      yes        no       no   \n",
       "543  1750000  2910         3          1        1       no        no       no   \n",
       "544  1750000  3850         3          1        2      yes        no       no   \n",
       "\n",
       "    hotwaterheating airconditioning  parking prefarea furnishingstatus  \n",
       "535              no              no        1       no      unfurnished  \n",
       "536              no              no        0       no      unfurnished  \n",
       "537              no              no        0       no      unfurnished  \n",
       "538              no              no        0       no      unfurnished  \n",
       "539              no              no        1       no      unfurnished  \n",
       "540              no              no        2       no      unfurnished  \n",
       "541              no              no        0       no   semi-furnished  \n",
       "542              no              no        0       no      unfurnished  \n",
       "543              no              no        0       no        furnished  \n",
       "544              no              no        0       no      unfurnished  "
      ]
     },
     "execution_count": 7,
     "metadata": {},
     "output_type": "execute_result"
    }
   ],
   "source": [
    "# Visualizando os últimos resultados\n",
    "\n",
    "df_housing.tail(10)"
   ]
  },
  {
   "cell_type": "markdown",
   "id": "ef9c3b8f",
   "metadata": {},
   "source": [
    "### EDA"
   ]
  },
  {
   "cell_type": "markdown",
   "id": "e0535ee4",
   "metadata": {},
   "source": [
    "### Análise Univariada"
   ]
  },
  {
   "cell_type": "code",
   "execution_count": null,
   "id": "a8f635c3",
   "metadata": {},
   "outputs": [
    {
     "data": {
      "text/html": [
       "<div>\n",
       "<style scoped>\n",
       "    .dataframe tbody tr th:only-of-type {\n",
       "        vertical-align: middle;\n",
       "    }\n",
       "\n",
       "    .dataframe tbody tr th {\n",
       "        vertical-align: top;\n",
       "    }\n",
       "\n",
       "    .dataframe thead th {\n",
       "        text-align: right;\n",
       "    }\n",
       "</style>\n",
       "<table border=\"1\" class=\"dataframe\">\n",
       "  <thead>\n",
       "    <tr style=\"text-align: right;\">\n",
       "      <th></th>\n",
       "      <th>price</th>\n",
       "      <th>area</th>\n",
       "      <th>bedrooms</th>\n",
       "      <th>bathrooms</th>\n",
       "      <th>stories</th>\n",
       "      <th>parking</th>\n",
       "    </tr>\n",
       "  </thead>\n",
       "  <tbody>\n",
       "    <tr>\n",
       "      <th>count</th>\n",
       "      <td>5.450000e+02</td>\n",
       "      <td>545.000000</td>\n",
       "      <td>545.000000</td>\n",
       "      <td>545.000000</td>\n",
       "      <td>545.000000</td>\n",
       "      <td>545.000000</td>\n",
       "    </tr>\n",
       "    <tr>\n",
       "      <th>mean</th>\n",
       "      <td>4.766729e+06</td>\n",
       "      <td>5150.541284</td>\n",
       "      <td>2.965138</td>\n",
       "      <td>1.286239</td>\n",
       "      <td>1.805505</td>\n",
       "      <td>0.693578</td>\n",
       "    </tr>\n",
       "    <tr>\n",
       "      <th>std</th>\n",
       "      <td>1.870440e+06</td>\n",
       "      <td>2170.141023</td>\n",
       "      <td>0.738064</td>\n",
       "      <td>0.502470</td>\n",
       "      <td>0.867492</td>\n",
       "      <td>0.861586</td>\n",
       "    </tr>\n",
       "    <tr>\n",
       "      <th>min</th>\n",
       "      <td>1.750000e+06</td>\n",
       "      <td>1650.000000</td>\n",
       "      <td>1.000000</td>\n",
       "      <td>1.000000</td>\n",
       "      <td>1.000000</td>\n",
       "      <td>0.000000</td>\n",
       "    </tr>\n",
       "    <tr>\n",
       "      <th>25%</th>\n",
       "      <td>3.430000e+06</td>\n",
       "      <td>3600.000000</td>\n",
       "      <td>2.000000</td>\n",
       "      <td>1.000000</td>\n",
       "      <td>1.000000</td>\n",
       "      <td>0.000000</td>\n",
       "    </tr>\n",
       "    <tr>\n",
       "      <th>50%</th>\n",
       "      <td>4.340000e+06</td>\n",
       "      <td>4600.000000</td>\n",
       "      <td>3.000000</td>\n",
       "      <td>1.000000</td>\n",
       "      <td>2.000000</td>\n",
       "      <td>0.000000</td>\n",
       "    </tr>\n",
       "    <tr>\n",
       "      <th>75%</th>\n",
       "      <td>5.740000e+06</td>\n",
       "      <td>6360.000000</td>\n",
       "      <td>3.000000</td>\n",
       "      <td>2.000000</td>\n",
       "      <td>2.000000</td>\n",
       "      <td>1.000000</td>\n",
       "    </tr>\n",
       "    <tr>\n",
       "      <th>max</th>\n",
       "      <td>1.330000e+07</td>\n",
       "      <td>16200.000000</td>\n",
       "      <td>6.000000</td>\n",
       "      <td>4.000000</td>\n",
       "      <td>4.000000</td>\n",
       "      <td>3.000000</td>\n",
       "    </tr>\n",
       "  </tbody>\n",
       "</table>\n",
       "</div>"
      ],
      "text/plain": [
       "              price          area    bedrooms   bathrooms     stories  \\\n",
       "count  5.450000e+02    545.000000  545.000000  545.000000  545.000000   \n",
       "mean   4.766729e+06   5150.541284    2.965138    1.286239    1.805505   \n",
       "std    1.870440e+06   2170.141023    0.738064    0.502470    0.867492   \n",
       "min    1.750000e+06   1650.000000    1.000000    1.000000    1.000000   \n",
       "25%    3.430000e+06   3600.000000    2.000000    1.000000    1.000000   \n",
       "50%    4.340000e+06   4600.000000    3.000000    1.000000    2.000000   \n",
       "75%    5.740000e+06   6360.000000    3.000000    2.000000    2.000000   \n",
       "max    1.330000e+07  16200.000000    6.000000    4.000000    4.000000   \n",
       "\n",
       "          parking  \n",
       "count  545.000000  \n",
       "mean     0.693578  \n",
       "std      0.861586  \n",
       "min      0.000000  \n",
       "25%      0.000000  \n",
       "50%      0.000000  \n",
       "75%      1.000000  \n",
       "max      3.000000  "
      ]
     },
     "execution_count": 8,
     "metadata": {},
     "output_type": "execute_result"
    }
   ],
   "source": [
    "# Estatísticas das variáveis\n",
    "\n",
    "df_housing.describe()"
   ]
  },
  {
   "cell_type": "code",
   "execution_count": 15,
   "id": "730e357e",
   "metadata": {},
   "outputs": [
    {
     "data": {
      "application/vnd.plotly.v1+json": {
       "config": {
        "plotlyServerURL": "https://plot.ly"
       },
       "data": [
        {
         "hovertemplate": "mainroad=%{x}<br>value=%{y}<extra></extra>",
         "legendgroup": "yes",
         "marker": {
          "color": "#636efa",
          "pattern": {
           "shape": ""
          }
         },
         "name": "yes",
         "orientation": "v",
         "showlegend": true,
         "textposition": "auto",
         "type": "bar",
         "x": [
          "yes"
         ],
         "xaxis": "x",
         "y": {
          "bdata": "fRcOosd3VUA=",
          "dtype": "f8"
         },
         "yaxis": "y"
        },
        {
         "hovertemplate": "mainroad=%{x}<br>value=%{y}<extra></extra>",
         "legendgroup": "no",
         "marker": {
          "color": "#EF553B",
          "pattern": {
           "shape": ""
          }
         },
         "name": "no",
         "orientation": "v",
         "showlegend": true,
         "textposition": "auto",
         "type": "bar",
         "x": [
          "no"
         ],
         "xaxis": "x",
         "y": {
          "bdata": "HUSP78JBLEA=",
          "dtype": "f8"
         },
         "yaxis": "y"
        }
       ],
       "layout": {
        "barmode": "relative",
        "legend": {
         "title": {
          "text": "mainroad"
         },
         "tracegroupgap": 0
        },
        "template": {
         "data": {
          "bar": [
           {
            "error_x": {
             "color": "#2a3f5f"
            },
            "error_y": {
             "color": "#2a3f5f"
            },
            "marker": {
             "line": {
              "color": "#E5ECF6",
              "width": 0.5
             },
             "pattern": {
              "fillmode": "overlay",
              "size": 10,
              "solidity": 0.2
             }
            },
            "type": "bar"
           }
          ],
          "barpolar": [
           {
            "marker": {
             "line": {
              "color": "#E5ECF6",
              "width": 0.5
             },
             "pattern": {
              "fillmode": "overlay",
              "size": 10,
              "solidity": 0.2
             }
            },
            "type": "barpolar"
           }
          ],
          "carpet": [
           {
            "aaxis": {
             "endlinecolor": "#2a3f5f",
             "gridcolor": "white",
             "linecolor": "white",
             "minorgridcolor": "white",
             "startlinecolor": "#2a3f5f"
            },
            "baxis": {
             "endlinecolor": "#2a3f5f",
             "gridcolor": "white",
             "linecolor": "white",
             "minorgridcolor": "white",
             "startlinecolor": "#2a3f5f"
            },
            "type": "carpet"
           }
          ],
          "choropleth": [
           {
            "colorbar": {
             "outlinewidth": 0,
             "ticks": ""
            },
            "type": "choropleth"
           }
          ],
          "contour": [
           {
            "colorbar": {
             "outlinewidth": 0,
             "ticks": ""
            },
            "colorscale": [
             [
              0,
              "#0d0887"
             ],
             [
              0.1111111111111111,
              "#46039f"
             ],
             [
              0.2222222222222222,
              "#7201a8"
             ],
             [
              0.3333333333333333,
              "#9c179e"
             ],
             [
              0.4444444444444444,
              "#bd3786"
             ],
             [
              0.5555555555555556,
              "#d8576b"
             ],
             [
              0.6666666666666666,
              "#ed7953"
             ],
             [
              0.7777777777777778,
              "#fb9f3a"
             ],
             [
              0.8888888888888888,
              "#fdca26"
             ],
             [
              1,
              "#f0f921"
             ]
            ],
            "type": "contour"
           }
          ],
          "contourcarpet": [
           {
            "colorbar": {
             "outlinewidth": 0,
             "ticks": ""
            },
            "type": "contourcarpet"
           }
          ],
          "heatmap": [
           {
            "colorbar": {
             "outlinewidth": 0,
             "ticks": ""
            },
            "colorscale": [
             [
              0,
              "#0d0887"
             ],
             [
              0.1111111111111111,
              "#46039f"
             ],
             [
              0.2222222222222222,
              "#7201a8"
             ],
             [
              0.3333333333333333,
              "#9c179e"
             ],
             [
              0.4444444444444444,
              "#bd3786"
             ],
             [
              0.5555555555555556,
              "#d8576b"
             ],
             [
              0.6666666666666666,
              "#ed7953"
             ],
             [
              0.7777777777777778,
              "#fb9f3a"
             ],
             [
              0.8888888888888888,
              "#fdca26"
             ],
             [
              1,
              "#f0f921"
             ]
            ],
            "type": "heatmap"
           }
          ],
          "histogram": [
           {
            "marker": {
             "pattern": {
              "fillmode": "overlay",
              "size": 10,
              "solidity": 0.2
             }
            },
            "type": "histogram"
           }
          ],
          "histogram2d": [
           {
            "colorbar": {
             "outlinewidth": 0,
             "ticks": ""
            },
            "colorscale": [
             [
              0,
              "#0d0887"
             ],
             [
              0.1111111111111111,
              "#46039f"
             ],
             [
              0.2222222222222222,
              "#7201a8"
             ],
             [
              0.3333333333333333,
              "#9c179e"
             ],
             [
              0.4444444444444444,
              "#bd3786"
             ],
             [
              0.5555555555555556,
              "#d8576b"
             ],
             [
              0.6666666666666666,
              "#ed7953"
             ],
             [
              0.7777777777777778,
              "#fb9f3a"
             ],
             [
              0.8888888888888888,
              "#fdca26"
             ],
             [
              1,
              "#f0f921"
             ]
            ],
            "type": "histogram2d"
           }
          ],
          "histogram2dcontour": [
           {
            "colorbar": {
             "outlinewidth": 0,
             "ticks": ""
            },
            "colorscale": [
             [
              0,
              "#0d0887"
             ],
             [
              0.1111111111111111,
              "#46039f"
             ],
             [
              0.2222222222222222,
              "#7201a8"
             ],
             [
              0.3333333333333333,
              "#9c179e"
             ],
             [
              0.4444444444444444,
              "#bd3786"
             ],
             [
              0.5555555555555556,
              "#d8576b"
             ],
             [
              0.6666666666666666,
              "#ed7953"
             ],
             [
              0.7777777777777778,
              "#fb9f3a"
             ],
             [
              0.8888888888888888,
              "#fdca26"
             ],
             [
              1,
              "#f0f921"
             ]
            ],
            "type": "histogram2dcontour"
           }
          ],
          "mesh3d": [
           {
            "colorbar": {
             "outlinewidth": 0,
             "ticks": ""
            },
            "type": "mesh3d"
           }
          ],
          "parcoords": [
           {
            "line": {
             "colorbar": {
              "outlinewidth": 0,
              "ticks": ""
             }
            },
            "type": "parcoords"
           }
          ],
          "pie": [
           {
            "automargin": true,
            "type": "pie"
           }
          ],
          "scatter": [
           {
            "fillpattern": {
             "fillmode": "overlay",
             "size": 10,
             "solidity": 0.2
            },
            "type": "scatter"
           }
          ],
          "scatter3d": [
           {
            "line": {
             "colorbar": {
              "outlinewidth": 0,
              "ticks": ""
             }
            },
            "marker": {
             "colorbar": {
              "outlinewidth": 0,
              "ticks": ""
             }
            },
            "type": "scatter3d"
           }
          ],
          "scattercarpet": [
           {
            "marker": {
             "colorbar": {
              "outlinewidth": 0,
              "ticks": ""
             }
            },
            "type": "scattercarpet"
           }
          ],
          "scattergeo": [
           {
            "marker": {
             "colorbar": {
              "outlinewidth": 0,
              "ticks": ""
             }
            },
            "type": "scattergeo"
           }
          ],
          "scattergl": [
           {
            "marker": {
             "colorbar": {
              "outlinewidth": 0,
              "ticks": ""
             }
            },
            "type": "scattergl"
           }
          ],
          "scattermap": [
           {
            "marker": {
             "colorbar": {
              "outlinewidth": 0,
              "ticks": ""
             }
            },
            "type": "scattermap"
           }
          ],
          "scattermapbox": [
           {
            "marker": {
             "colorbar": {
              "outlinewidth": 0,
              "ticks": ""
             }
            },
            "type": "scattermapbox"
           }
          ],
          "scatterpolar": [
           {
            "marker": {
             "colorbar": {
              "outlinewidth": 0,
              "ticks": ""
             }
            },
            "type": "scatterpolar"
           }
          ],
          "scatterpolargl": [
           {
            "marker": {
             "colorbar": {
              "outlinewidth": 0,
              "ticks": ""
             }
            },
            "type": "scatterpolargl"
           }
          ],
          "scatterternary": [
           {
            "marker": {
             "colorbar": {
              "outlinewidth": 0,
              "ticks": ""
             }
            },
            "type": "scatterternary"
           }
          ],
          "surface": [
           {
            "colorbar": {
             "outlinewidth": 0,
             "ticks": ""
            },
            "colorscale": [
             [
              0,
              "#0d0887"
             ],
             [
              0.1111111111111111,
              "#46039f"
             ],
             [
              0.2222222222222222,
              "#7201a8"
             ],
             [
              0.3333333333333333,
              "#9c179e"
             ],
             [
              0.4444444444444444,
              "#bd3786"
             ],
             [
              0.5555555555555556,
              "#d8576b"
             ],
             [
              0.6666666666666666,
              "#ed7953"
             ],
             [
              0.7777777777777778,
              "#fb9f3a"
             ],
             [
              0.8888888888888888,
              "#fdca26"
             ],
             [
              1,
              "#f0f921"
             ]
            ],
            "type": "surface"
           }
          ],
          "table": [
           {
            "cells": {
             "fill": {
              "color": "#EBF0F8"
             },
             "line": {
              "color": "white"
             }
            },
            "header": {
             "fill": {
              "color": "#C8D4E3"
             },
             "line": {
              "color": "white"
             }
            },
            "type": "table"
           }
          ]
         },
         "layout": {
          "annotationdefaults": {
           "arrowcolor": "#2a3f5f",
           "arrowhead": 0,
           "arrowwidth": 1
          },
          "autotypenumbers": "strict",
          "coloraxis": {
           "colorbar": {
            "outlinewidth": 0,
            "ticks": ""
           }
          },
          "colorscale": {
           "diverging": [
            [
             0,
             "#8e0152"
            ],
            [
             0.1,
             "#c51b7d"
            ],
            [
             0.2,
             "#de77ae"
            ],
            [
             0.3,
             "#f1b6da"
            ],
            [
             0.4,
             "#fde0ef"
            ],
            [
             0.5,
             "#f7f7f7"
            ],
            [
             0.6,
             "#e6f5d0"
            ],
            [
             0.7,
             "#b8e186"
            ],
            [
             0.8,
             "#7fbc41"
            ],
            [
             0.9,
             "#4d9221"
            ],
            [
             1,
             "#276419"
            ]
           ],
           "sequential": [
            [
             0,
             "#0d0887"
            ],
            [
             0.1111111111111111,
             "#46039f"
            ],
            [
             0.2222222222222222,
             "#7201a8"
            ],
            [
             0.3333333333333333,
             "#9c179e"
            ],
            [
             0.4444444444444444,
             "#bd3786"
            ],
            [
             0.5555555555555556,
             "#d8576b"
            ],
            [
             0.6666666666666666,
             "#ed7953"
            ],
            [
             0.7777777777777778,
             "#fb9f3a"
            ],
            [
             0.8888888888888888,
             "#fdca26"
            ],
            [
             1,
             "#f0f921"
            ]
           ],
           "sequentialminus": [
            [
             0,
             "#0d0887"
            ],
            [
             0.1111111111111111,
             "#46039f"
            ],
            [
             0.2222222222222222,
             "#7201a8"
            ],
            [
             0.3333333333333333,
             "#9c179e"
            ],
            [
             0.4444444444444444,
             "#bd3786"
            ],
            [
             0.5555555555555556,
             "#d8576b"
            ],
            [
             0.6666666666666666,
             "#ed7953"
            ],
            [
             0.7777777777777778,
             "#fb9f3a"
            ],
            [
             0.8888888888888888,
             "#fdca26"
            ],
            [
             1,
             "#f0f921"
            ]
           ]
          },
          "colorway": [
           "#636efa",
           "#EF553B",
           "#00cc96",
           "#ab63fa",
           "#FFA15A",
           "#19d3f3",
           "#FF6692",
           "#B6E880",
           "#FF97FF",
           "#FECB52"
          ],
          "font": {
           "color": "#2a3f5f"
          },
          "geo": {
           "bgcolor": "white",
           "lakecolor": "white",
           "landcolor": "#E5ECF6",
           "showlakes": true,
           "showland": true,
           "subunitcolor": "white"
          },
          "hoverlabel": {
           "align": "left"
          },
          "hovermode": "closest",
          "mapbox": {
           "style": "light"
          },
          "paper_bgcolor": "white",
          "plot_bgcolor": "#E5ECF6",
          "polar": {
           "angularaxis": {
            "gridcolor": "white",
            "linecolor": "white",
            "ticks": ""
           },
           "bgcolor": "#E5ECF6",
           "radialaxis": {
            "gridcolor": "white",
            "linecolor": "white",
            "ticks": ""
           }
          },
          "scene": {
           "xaxis": {
            "backgroundcolor": "#E5ECF6",
            "gridcolor": "white",
            "gridwidth": 2,
            "linecolor": "white",
            "showbackground": true,
            "ticks": "",
            "zerolinecolor": "white"
           },
           "yaxis": {
            "backgroundcolor": "#E5ECF6",
            "gridcolor": "white",
            "gridwidth": 2,
            "linecolor": "white",
            "showbackground": true,
            "ticks": "",
            "zerolinecolor": "white"
           },
           "zaxis": {
            "backgroundcolor": "#E5ECF6",
            "gridcolor": "white",
            "gridwidth": 2,
            "linecolor": "white",
            "showbackground": true,
            "ticks": "",
            "zerolinecolor": "white"
           }
          },
          "shapedefaults": {
           "line": {
            "color": "#2a3f5f"
           }
          },
          "ternary": {
           "aaxis": {
            "gridcolor": "white",
            "linecolor": "white",
            "ticks": ""
           },
           "baxis": {
            "gridcolor": "white",
            "linecolor": "white",
            "ticks": ""
           },
           "bgcolor": "#E5ECF6",
           "caxis": {
            "gridcolor": "white",
            "linecolor": "white",
            "ticks": ""
           }
          },
          "title": {
           "x": 0.05
          },
          "xaxis": {
           "automargin": true,
           "gridcolor": "white",
           "linecolor": "white",
           "ticks": "",
           "title": {
            "standoff": 15
           },
           "zerolinecolor": "white",
           "zerolinewidth": 2
          },
          "yaxis": {
           "automargin": true,
           "gridcolor": "white",
           "linecolor": "white",
           "ticks": "",
           "title": {
            "standoff": 15
           },
           "zerolinecolor": "white",
           "zerolinewidth": 2
          }
         }
        },
        "title": {
         "text": "Mainroad(Rua Principal)"
        },
        "xaxis": {
         "anchor": "y",
         "categoryarray": [
          "yes",
          "no"
         ],
         "categoryorder": "array",
         "domain": [
          0,
          1
         ],
         "title": {
          "text": "mainroad"
         }
        },
        "yaxis": {
         "anchor": "x",
         "domain": [
          0,
          1
         ],
         "title": {
          "text": "value"
         }
        }
       }
      }
     },
     "metadata": {},
     "output_type": "display_data"
    }
   ],
   "source": [
    "# Distribuição da variável mainroad\n",
    "\n",
    "percentual_mainroad = df_housing.value_counts('mainroad') / len(df_housing) * 100\n",
    "px.bar(percentual_mainroad, color=percentual_mainroad.index, title=\"Mainroad(Rua Principal)\")"
   ]
  },
  {
   "cell_type": "code",
   "execution_count": 30,
   "id": "7333112c",
   "metadata": {},
   "outputs": [
    {
     "data": {
      "application/vnd.plotly.v1+json": {
       "config": {
        "plotlyServerURL": "https://plot.ly"
       },
       "data": [
        {
         "hovertemplate": "furnishingstatus=%{x}<br>value=%{y}<extra></extra>",
         "legendgroup": "semi-furnished",
         "marker": {
          "color": "#636efa",
          "pattern": {
           "shape": ""
          }
         },
         "name": "semi-furnished",
         "orientation": "v",
         "showlegend": true,
         "textposition": "auto",
         "type": "bar",
         "x": [
          "semi-furnished"
         ],
         "xaxis": "x",
         "y": {
          "bdata": "Nu0nS2DTREA=",
          "dtype": "f8"
         },
         "yaxis": "y"
        },
        {
         "hovertemplate": "furnishingstatus=%{x}<br>value=%{y}<extra></extra>",
         "legendgroup": "unfurnished",
         "marker": {
          "color": "#EF553B",
          "pattern": {
           "shape": ""
          }
         },
         "name": "unfurnished",
         "orientation": "v",
         "showlegend": true,
         "textposition": "auto",
         "type": "bar",
         "x": [
          "unfurnished"
         ],
         "xaxis": "x",
         "y": {
          "bdata": "ScXc6oxUQEA=",
          "dtype": "f8"
         },
         "yaxis": "y"
        },
        {
         "hovertemplate": "furnishingstatus=%{x}<br>value=%{y}<extra></extra>",
         "legendgroup": "furnished",
         "marker": {
          "color": "#00cc96",
          "pattern": {
           "shape": ""
          }
         },
         "name": "furnished",
         "orientation": "v",
         "showlegend": true,
         "textposition": "auto",
         "type": "bar",
         "x": [
          "furnished"
         ],
         "xaxis": "x",
         "y": {
          "bdata": "A5v2kyWwOUA=",
          "dtype": "f8"
         },
         "yaxis": "y"
        }
       ],
       "layout": {
        "barmode": "relative",
        "legend": {
         "title": {
          "text": "furnishingstatus"
         },
         "tracegroupgap": 0
        },
        "template": {
         "data": {
          "bar": [
           {
            "error_x": {
             "color": "#2a3f5f"
            },
            "error_y": {
             "color": "#2a3f5f"
            },
            "marker": {
             "line": {
              "color": "#E5ECF6",
              "width": 0.5
             },
             "pattern": {
              "fillmode": "overlay",
              "size": 10,
              "solidity": 0.2
             }
            },
            "type": "bar"
           }
          ],
          "barpolar": [
           {
            "marker": {
             "line": {
              "color": "#E5ECF6",
              "width": 0.5
             },
             "pattern": {
              "fillmode": "overlay",
              "size": 10,
              "solidity": 0.2
             }
            },
            "type": "barpolar"
           }
          ],
          "carpet": [
           {
            "aaxis": {
             "endlinecolor": "#2a3f5f",
             "gridcolor": "white",
             "linecolor": "white",
             "minorgridcolor": "white",
             "startlinecolor": "#2a3f5f"
            },
            "baxis": {
             "endlinecolor": "#2a3f5f",
             "gridcolor": "white",
             "linecolor": "white",
             "minorgridcolor": "white",
             "startlinecolor": "#2a3f5f"
            },
            "type": "carpet"
           }
          ],
          "choropleth": [
           {
            "colorbar": {
             "outlinewidth": 0,
             "ticks": ""
            },
            "type": "choropleth"
           }
          ],
          "contour": [
           {
            "colorbar": {
             "outlinewidth": 0,
             "ticks": ""
            },
            "colorscale": [
             [
              0,
              "#0d0887"
             ],
             [
              0.1111111111111111,
              "#46039f"
             ],
             [
              0.2222222222222222,
              "#7201a8"
             ],
             [
              0.3333333333333333,
              "#9c179e"
             ],
             [
              0.4444444444444444,
              "#bd3786"
             ],
             [
              0.5555555555555556,
              "#d8576b"
             ],
             [
              0.6666666666666666,
              "#ed7953"
             ],
             [
              0.7777777777777778,
              "#fb9f3a"
             ],
             [
              0.8888888888888888,
              "#fdca26"
             ],
             [
              1,
              "#f0f921"
             ]
            ],
            "type": "contour"
           }
          ],
          "contourcarpet": [
           {
            "colorbar": {
             "outlinewidth": 0,
             "ticks": ""
            },
            "type": "contourcarpet"
           }
          ],
          "heatmap": [
           {
            "colorbar": {
             "outlinewidth": 0,
             "ticks": ""
            },
            "colorscale": [
             [
              0,
              "#0d0887"
             ],
             [
              0.1111111111111111,
              "#46039f"
             ],
             [
              0.2222222222222222,
              "#7201a8"
             ],
             [
              0.3333333333333333,
              "#9c179e"
             ],
             [
              0.4444444444444444,
              "#bd3786"
             ],
             [
              0.5555555555555556,
              "#d8576b"
             ],
             [
              0.6666666666666666,
              "#ed7953"
             ],
             [
              0.7777777777777778,
              "#fb9f3a"
             ],
             [
              0.8888888888888888,
              "#fdca26"
             ],
             [
              1,
              "#f0f921"
             ]
            ],
            "type": "heatmap"
           }
          ],
          "histogram": [
           {
            "marker": {
             "pattern": {
              "fillmode": "overlay",
              "size": 10,
              "solidity": 0.2
             }
            },
            "type": "histogram"
           }
          ],
          "histogram2d": [
           {
            "colorbar": {
             "outlinewidth": 0,
             "ticks": ""
            },
            "colorscale": [
             [
              0,
              "#0d0887"
             ],
             [
              0.1111111111111111,
              "#46039f"
             ],
             [
              0.2222222222222222,
              "#7201a8"
             ],
             [
              0.3333333333333333,
              "#9c179e"
             ],
             [
              0.4444444444444444,
              "#bd3786"
             ],
             [
              0.5555555555555556,
              "#d8576b"
             ],
             [
              0.6666666666666666,
              "#ed7953"
             ],
             [
              0.7777777777777778,
              "#fb9f3a"
             ],
             [
              0.8888888888888888,
              "#fdca26"
             ],
             [
              1,
              "#f0f921"
             ]
            ],
            "type": "histogram2d"
           }
          ],
          "histogram2dcontour": [
           {
            "colorbar": {
             "outlinewidth": 0,
             "ticks": ""
            },
            "colorscale": [
             [
              0,
              "#0d0887"
             ],
             [
              0.1111111111111111,
              "#46039f"
             ],
             [
              0.2222222222222222,
              "#7201a8"
             ],
             [
              0.3333333333333333,
              "#9c179e"
             ],
             [
              0.4444444444444444,
              "#bd3786"
             ],
             [
              0.5555555555555556,
              "#d8576b"
             ],
             [
              0.6666666666666666,
              "#ed7953"
             ],
             [
              0.7777777777777778,
              "#fb9f3a"
             ],
             [
              0.8888888888888888,
              "#fdca26"
             ],
             [
              1,
              "#f0f921"
             ]
            ],
            "type": "histogram2dcontour"
           }
          ],
          "mesh3d": [
           {
            "colorbar": {
             "outlinewidth": 0,
             "ticks": ""
            },
            "type": "mesh3d"
           }
          ],
          "parcoords": [
           {
            "line": {
             "colorbar": {
              "outlinewidth": 0,
              "ticks": ""
             }
            },
            "type": "parcoords"
           }
          ],
          "pie": [
           {
            "automargin": true,
            "type": "pie"
           }
          ],
          "scatter": [
           {
            "fillpattern": {
             "fillmode": "overlay",
             "size": 10,
             "solidity": 0.2
            },
            "type": "scatter"
           }
          ],
          "scatter3d": [
           {
            "line": {
             "colorbar": {
              "outlinewidth": 0,
              "ticks": ""
             }
            },
            "marker": {
             "colorbar": {
              "outlinewidth": 0,
              "ticks": ""
             }
            },
            "type": "scatter3d"
           }
          ],
          "scattercarpet": [
           {
            "marker": {
             "colorbar": {
              "outlinewidth": 0,
              "ticks": ""
             }
            },
            "type": "scattercarpet"
           }
          ],
          "scattergeo": [
           {
            "marker": {
             "colorbar": {
              "outlinewidth": 0,
              "ticks": ""
             }
            },
            "type": "scattergeo"
           }
          ],
          "scattergl": [
           {
            "marker": {
             "colorbar": {
              "outlinewidth": 0,
              "ticks": ""
             }
            },
            "type": "scattergl"
           }
          ],
          "scattermap": [
           {
            "marker": {
             "colorbar": {
              "outlinewidth": 0,
              "ticks": ""
             }
            },
            "type": "scattermap"
           }
          ],
          "scattermapbox": [
           {
            "marker": {
             "colorbar": {
              "outlinewidth": 0,
              "ticks": ""
             }
            },
            "type": "scattermapbox"
           }
          ],
          "scatterpolar": [
           {
            "marker": {
             "colorbar": {
              "outlinewidth": 0,
              "ticks": ""
             }
            },
            "type": "scatterpolar"
           }
          ],
          "scatterpolargl": [
           {
            "marker": {
             "colorbar": {
              "outlinewidth": 0,
              "ticks": ""
             }
            },
            "type": "scatterpolargl"
           }
          ],
          "scatterternary": [
           {
            "marker": {
             "colorbar": {
              "outlinewidth": 0,
              "ticks": ""
             }
            },
            "type": "scatterternary"
           }
          ],
          "surface": [
           {
            "colorbar": {
             "outlinewidth": 0,
             "ticks": ""
            },
            "colorscale": [
             [
              0,
              "#0d0887"
             ],
             [
              0.1111111111111111,
              "#46039f"
             ],
             [
              0.2222222222222222,
              "#7201a8"
             ],
             [
              0.3333333333333333,
              "#9c179e"
             ],
             [
              0.4444444444444444,
              "#bd3786"
             ],
             [
              0.5555555555555556,
              "#d8576b"
             ],
             [
              0.6666666666666666,
              "#ed7953"
             ],
             [
              0.7777777777777778,
              "#fb9f3a"
             ],
             [
              0.8888888888888888,
              "#fdca26"
             ],
             [
              1,
              "#f0f921"
             ]
            ],
            "type": "surface"
           }
          ],
          "table": [
           {
            "cells": {
             "fill": {
              "color": "#EBF0F8"
             },
             "line": {
              "color": "white"
             }
            },
            "header": {
             "fill": {
              "color": "#C8D4E3"
             },
             "line": {
              "color": "white"
             }
            },
            "type": "table"
           }
          ]
         },
         "layout": {
          "annotationdefaults": {
           "arrowcolor": "#2a3f5f",
           "arrowhead": 0,
           "arrowwidth": 1
          },
          "autotypenumbers": "strict",
          "coloraxis": {
           "colorbar": {
            "outlinewidth": 0,
            "ticks": ""
           }
          },
          "colorscale": {
           "diverging": [
            [
             0,
             "#8e0152"
            ],
            [
             0.1,
             "#c51b7d"
            ],
            [
             0.2,
             "#de77ae"
            ],
            [
             0.3,
             "#f1b6da"
            ],
            [
             0.4,
             "#fde0ef"
            ],
            [
             0.5,
             "#f7f7f7"
            ],
            [
             0.6,
             "#e6f5d0"
            ],
            [
             0.7,
             "#b8e186"
            ],
            [
             0.8,
             "#7fbc41"
            ],
            [
             0.9,
             "#4d9221"
            ],
            [
             1,
             "#276419"
            ]
           ],
           "sequential": [
            [
             0,
             "#0d0887"
            ],
            [
             0.1111111111111111,
             "#46039f"
            ],
            [
             0.2222222222222222,
             "#7201a8"
            ],
            [
             0.3333333333333333,
             "#9c179e"
            ],
            [
             0.4444444444444444,
             "#bd3786"
            ],
            [
             0.5555555555555556,
             "#d8576b"
            ],
            [
             0.6666666666666666,
             "#ed7953"
            ],
            [
             0.7777777777777778,
             "#fb9f3a"
            ],
            [
             0.8888888888888888,
             "#fdca26"
            ],
            [
             1,
             "#f0f921"
            ]
           ],
           "sequentialminus": [
            [
             0,
             "#0d0887"
            ],
            [
             0.1111111111111111,
             "#46039f"
            ],
            [
             0.2222222222222222,
             "#7201a8"
            ],
            [
             0.3333333333333333,
             "#9c179e"
            ],
            [
             0.4444444444444444,
             "#bd3786"
            ],
            [
             0.5555555555555556,
             "#d8576b"
            ],
            [
             0.6666666666666666,
             "#ed7953"
            ],
            [
             0.7777777777777778,
             "#fb9f3a"
            ],
            [
             0.8888888888888888,
             "#fdca26"
            ],
            [
             1,
             "#f0f921"
            ]
           ]
          },
          "colorway": [
           "#636efa",
           "#EF553B",
           "#00cc96",
           "#ab63fa",
           "#FFA15A",
           "#19d3f3",
           "#FF6692",
           "#B6E880",
           "#FF97FF",
           "#FECB52"
          ],
          "font": {
           "color": "#2a3f5f"
          },
          "geo": {
           "bgcolor": "white",
           "lakecolor": "white",
           "landcolor": "#E5ECF6",
           "showlakes": true,
           "showland": true,
           "subunitcolor": "white"
          },
          "hoverlabel": {
           "align": "left"
          },
          "hovermode": "closest",
          "mapbox": {
           "style": "light"
          },
          "paper_bgcolor": "white",
          "plot_bgcolor": "#E5ECF6",
          "polar": {
           "angularaxis": {
            "gridcolor": "white",
            "linecolor": "white",
            "ticks": ""
           },
           "bgcolor": "#E5ECF6",
           "radialaxis": {
            "gridcolor": "white",
            "linecolor": "white",
            "ticks": ""
           }
          },
          "scene": {
           "xaxis": {
            "backgroundcolor": "#E5ECF6",
            "gridcolor": "white",
            "gridwidth": 2,
            "linecolor": "white",
            "showbackground": true,
            "ticks": "",
            "zerolinecolor": "white"
           },
           "yaxis": {
            "backgroundcolor": "#E5ECF6",
            "gridcolor": "white",
            "gridwidth": 2,
            "linecolor": "white",
            "showbackground": true,
            "ticks": "",
            "zerolinecolor": "white"
           },
           "zaxis": {
            "backgroundcolor": "#E5ECF6",
            "gridcolor": "white",
            "gridwidth": 2,
            "linecolor": "white",
            "showbackground": true,
            "ticks": "",
            "zerolinecolor": "white"
           }
          },
          "shapedefaults": {
           "line": {
            "color": "#2a3f5f"
           }
          },
          "ternary": {
           "aaxis": {
            "gridcolor": "white",
            "linecolor": "white",
            "ticks": ""
           },
           "baxis": {
            "gridcolor": "white",
            "linecolor": "white",
            "ticks": ""
           },
           "bgcolor": "#E5ECF6",
           "caxis": {
            "gridcolor": "white",
            "linecolor": "white",
            "ticks": ""
           }
          },
          "title": {
           "x": 0.05
          },
          "xaxis": {
           "automargin": true,
           "gridcolor": "white",
           "linecolor": "white",
           "ticks": "",
           "title": {
            "standoff": 15
           },
           "zerolinecolor": "white",
           "zerolinewidth": 2
          },
          "yaxis": {
           "automargin": true,
           "gridcolor": "white",
           "linecolor": "white",
           "ticks": "",
           "title": {
            "standoff": 15
           },
           "zerolinecolor": "white",
           "zerolinewidth": 2
          }
         }
        },
        "title": {
         "text": "Furnishingstatus(Estado Mobília)"
        },
        "xaxis": {
         "anchor": "y",
         "categoryarray": [
          "semi-furnished",
          "unfurnished",
          "furnished"
         ],
         "categoryorder": "array",
         "domain": [
          0,
          1
         ],
         "title": {
          "text": "furnishingstatus"
         }
        },
        "yaxis": {
         "anchor": "x",
         "domain": [
          0,
          1
         ],
         "title": {
          "text": "value"
         }
        }
       }
      }
     },
     "metadata": {},
     "output_type": "display_data"
    }
   ],
   "source": [
    "# Distribuição da variável furnishingstatus\n",
    "\n",
    "percentual_furnishingstatus = df_housing.value_counts('furnishingstatus') / len(df_housing) * 100\n",
    "px.bar(percentual_furnishingstatus, color=percentual_furnishingstatus.index, title=\"Furnishingstatus(Estado Mobília)\")"
   ]
  },
  {
   "cell_type": "code",
   "execution_count": 14,
   "id": "e2c6a3d5",
   "metadata": {},
   "outputs": [
    {
     "data": {
      "application/vnd.plotly.v1+json": {
       "config": {
        "plotlyServerURL": "https://plot.ly"
       },
       "data": [
        {
         "bingroup": "x",
         "hovertemplate": "variable=price<br>value=%{x}<br>count=%{y}<extra></extra>",
         "legendgroup": "price",
         "marker": {
          "color": "#636efa",
          "pattern": {
           "shape": ""
          }
         },
         "name": "price",
         "orientation": "v",
         "showlegend": true,
         "type": "histogram",
         "x": {
          "bdata": "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",
          "dtype": "i4"
         },
         "xaxis": "x",
         "yaxis": "y"
        }
       ],
       "layout": {
        "barmode": "relative",
        "legend": {
         "title": {
          "text": "variable"
         },
         "tracegroupgap": 0
        },
        "template": {
         "data": {
          "bar": [
           {
            "error_x": {
             "color": "#2a3f5f"
            },
            "error_y": {
             "color": "#2a3f5f"
            },
            "marker": {
             "line": {
              "color": "#E5ECF6",
              "width": 0.5
             },
             "pattern": {
              "fillmode": "overlay",
              "size": 10,
              "solidity": 0.2
             }
            },
            "type": "bar"
           }
          ],
          "barpolar": [
           {
            "marker": {
             "line": {
              "color": "#E5ECF6",
              "width": 0.5
             },
             "pattern": {
              "fillmode": "overlay",
              "size": 10,
              "solidity": 0.2
             }
            },
            "type": "barpolar"
           }
          ],
          "carpet": [
           {
            "aaxis": {
             "endlinecolor": "#2a3f5f",
             "gridcolor": "white",
             "linecolor": "white",
             "minorgridcolor": "white",
             "startlinecolor": "#2a3f5f"
            },
            "baxis": {
             "endlinecolor": "#2a3f5f",
             "gridcolor": "white",
             "linecolor": "white",
             "minorgridcolor": "white",
             "startlinecolor": "#2a3f5f"
            },
            "type": "carpet"
           }
          ],
          "choropleth": [
           {
            "colorbar": {
             "outlinewidth": 0,
             "ticks": ""
            },
            "type": "choropleth"
           }
          ],
          "contour": [
           {
            "colorbar": {
             "outlinewidth": 0,
             "ticks": ""
            },
            "colorscale": [
             [
              0,
              "#0d0887"
             ],
             [
              0.1111111111111111,
              "#46039f"
             ],
             [
              0.2222222222222222,
              "#7201a8"
             ],
             [
              0.3333333333333333,
              "#9c179e"
             ],
             [
              0.4444444444444444,
              "#bd3786"
             ],
             [
              0.5555555555555556,
              "#d8576b"
             ],
             [
              0.6666666666666666,
              "#ed7953"
             ],
             [
              0.7777777777777778,
              "#fb9f3a"
             ],
             [
              0.8888888888888888,
              "#fdca26"
             ],
             [
              1,
              "#f0f921"
             ]
            ],
            "type": "contour"
           }
          ],
          "contourcarpet": [
           {
            "colorbar": {
             "outlinewidth": 0,
             "ticks": ""
            },
            "type": "contourcarpet"
           }
          ],
          "heatmap": [
           {
            "colorbar": {
             "outlinewidth": 0,
             "ticks": ""
            },
            "colorscale": [
             [
              0,
              "#0d0887"
             ],
             [
              0.1111111111111111,
              "#46039f"
             ],
             [
              0.2222222222222222,
              "#7201a8"
             ],
             [
              0.3333333333333333,
              "#9c179e"
             ],
             [
              0.4444444444444444,
              "#bd3786"
             ],
             [
              0.5555555555555556,
              "#d8576b"
             ],
             [
              0.6666666666666666,
              "#ed7953"
             ],
             [
              0.7777777777777778,
              "#fb9f3a"
             ],
             [
              0.8888888888888888,
              "#fdca26"
             ],
             [
              1,
              "#f0f921"
             ]
            ],
            "type": "heatmap"
           }
          ],
          "histogram": [
           {
            "marker": {
             "pattern": {
              "fillmode": "overlay",
              "size": 10,
              "solidity": 0.2
             }
            },
            "type": "histogram"
           }
          ],
          "histogram2d": [
           {
            "colorbar": {
             "outlinewidth": 0,
             "ticks": ""
            },
            "colorscale": [
             [
              0,
              "#0d0887"
             ],
             [
              0.1111111111111111,
              "#46039f"
             ],
             [
              0.2222222222222222,
              "#7201a8"
             ],
             [
              0.3333333333333333,
              "#9c179e"
             ],
             [
              0.4444444444444444,
              "#bd3786"
             ],
             [
              0.5555555555555556,
              "#d8576b"
             ],
             [
              0.6666666666666666,
              "#ed7953"
             ],
             [
              0.7777777777777778,
              "#fb9f3a"
             ],
             [
              0.8888888888888888,
              "#fdca26"
             ],
             [
              1,
              "#f0f921"
             ]
            ],
            "type": "histogram2d"
           }
          ],
          "histogram2dcontour": [
           {
            "colorbar": {
             "outlinewidth": 0,
             "ticks": ""
            },
            "colorscale": [
             [
              0,
              "#0d0887"
             ],
             [
              0.1111111111111111,
              "#46039f"
             ],
             [
              0.2222222222222222,
              "#7201a8"
             ],
             [
              0.3333333333333333,
              "#9c179e"
             ],
             [
              0.4444444444444444,
              "#bd3786"
             ],
             [
              0.5555555555555556,
              "#d8576b"
             ],
             [
              0.6666666666666666,
              "#ed7953"
             ],
             [
              0.7777777777777778,
              "#fb9f3a"
             ],
             [
              0.8888888888888888,
              "#fdca26"
             ],
             [
              1,
              "#f0f921"
             ]
            ],
            "type": "histogram2dcontour"
           }
          ],
          "mesh3d": [
           {
            "colorbar": {
             "outlinewidth": 0,
             "ticks": ""
            },
            "type": "mesh3d"
           }
          ],
          "parcoords": [
           {
            "line": {
             "colorbar": {
              "outlinewidth": 0,
              "ticks": ""
             }
            },
            "type": "parcoords"
           }
          ],
          "pie": [
           {
            "automargin": true,
            "type": "pie"
           }
          ],
          "scatter": [
           {
            "fillpattern": {
             "fillmode": "overlay",
             "size": 10,
             "solidity": 0.2
            },
            "type": "scatter"
           }
          ],
          "scatter3d": [
           {
            "line": {
             "colorbar": {
              "outlinewidth": 0,
              "ticks": ""
             }
            },
            "marker": {
             "colorbar": {
              "outlinewidth": 0,
              "ticks": ""
             }
            },
            "type": "scatter3d"
           }
          ],
          "scattercarpet": [
           {
            "marker": {
             "colorbar": {
              "outlinewidth": 0,
              "ticks": ""
             }
            },
            "type": "scattercarpet"
           }
          ],
          "scattergeo": [
           {
            "marker": {
             "colorbar": {
              "outlinewidth": 0,
              "ticks": ""
             }
            },
            "type": "scattergeo"
           }
          ],
          "scattergl": [
           {
            "marker": {
             "colorbar": {
              "outlinewidth": 0,
              "ticks": ""
             }
            },
            "type": "scattergl"
           }
          ],
          "scattermap": [
           {
            "marker": {
             "colorbar": {
              "outlinewidth": 0,
              "ticks": ""
             }
            },
            "type": "scattermap"
           }
          ],
          "scattermapbox": [
           {
            "marker": {
             "colorbar": {
              "outlinewidth": 0,
              "ticks": ""
             }
            },
            "type": "scattermapbox"
           }
          ],
          "scatterpolar": [
           {
            "marker": {
             "colorbar": {
              "outlinewidth": 0,
              "ticks": ""
             }
            },
            "type": "scatterpolar"
           }
          ],
          "scatterpolargl": [
           {
            "marker": {
             "colorbar": {
              "outlinewidth": 0,
              "ticks": ""
             }
            },
            "type": "scatterpolargl"
           }
          ],
          "scatterternary": [
           {
            "marker": {
             "colorbar": {
              "outlinewidth": 0,
              "ticks": ""
             }
            },
            "type": "scatterternary"
           }
          ],
          "surface": [
           {
            "colorbar": {
             "outlinewidth": 0,
             "ticks": ""
            },
            "colorscale": [
             [
              0,
              "#0d0887"
             ],
             [
              0.1111111111111111,
              "#46039f"
             ],
             [
              0.2222222222222222,
              "#7201a8"
             ],
             [
              0.3333333333333333,
              "#9c179e"
             ],
             [
              0.4444444444444444,
              "#bd3786"
             ],
             [
              0.5555555555555556,
              "#d8576b"
             ],
             [
              0.6666666666666666,
              "#ed7953"
             ],
             [
              0.7777777777777778,
              "#fb9f3a"
             ],
             [
              0.8888888888888888,
              "#fdca26"
             ],
             [
              1,
              "#f0f921"
             ]
            ],
            "type": "surface"
           }
          ],
          "table": [
           {
            "cells": {
             "fill": {
              "color": "#EBF0F8"
             },
             "line": {
              "color": "white"
             }
            },
            "header": {
             "fill": {
              "color": "#C8D4E3"
             },
             "line": {
              "color": "white"
             }
            },
            "type": "table"
           }
          ]
         },
         "layout": {
          "annotationdefaults": {
           "arrowcolor": "#2a3f5f",
           "arrowhead": 0,
           "arrowwidth": 1
          },
          "autotypenumbers": "strict",
          "coloraxis": {
           "colorbar": {
            "outlinewidth": 0,
            "ticks": ""
           }
          },
          "colorscale": {
           "diverging": [
            [
             0,
             "#8e0152"
            ],
            [
             0.1,
             "#c51b7d"
            ],
            [
             0.2,
             "#de77ae"
            ],
            [
             0.3,
             "#f1b6da"
            ],
            [
             0.4,
             "#fde0ef"
            ],
            [
             0.5,
             "#f7f7f7"
            ],
            [
             0.6,
             "#e6f5d0"
            ],
            [
             0.7,
             "#b8e186"
            ],
            [
             0.8,
             "#7fbc41"
            ],
            [
             0.9,
             "#4d9221"
            ],
            [
             1,
             "#276419"
            ]
           ],
           "sequential": [
            [
             0,
             "#0d0887"
            ],
            [
             0.1111111111111111,
             "#46039f"
            ],
            [
             0.2222222222222222,
             "#7201a8"
            ],
            [
             0.3333333333333333,
             "#9c179e"
            ],
            [
             0.4444444444444444,
             "#bd3786"
            ],
            [
             0.5555555555555556,
             "#d8576b"
            ],
            [
             0.6666666666666666,
             "#ed7953"
            ],
            [
             0.7777777777777778,
             "#fb9f3a"
            ],
            [
             0.8888888888888888,
             "#fdca26"
            ],
            [
             1,
             "#f0f921"
            ]
           ],
           "sequentialminus": [
            [
             0,
             "#0d0887"
            ],
            [
             0.1111111111111111,
             "#46039f"
            ],
            [
             0.2222222222222222,
             "#7201a8"
            ],
            [
             0.3333333333333333,
             "#9c179e"
            ],
            [
             0.4444444444444444,
             "#bd3786"
            ],
            [
             0.5555555555555556,
             "#d8576b"
            ],
            [
             0.6666666666666666,
             "#ed7953"
            ],
            [
             0.7777777777777778,
             "#fb9f3a"
            ],
            [
             0.8888888888888888,
             "#fdca26"
            ],
            [
             1,
             "#f0f921"
            ]
           ]
          },
          "colorway": [
           "#636efa",
           "#EF553B",
           "#00cc96",
           "#ab63fa",
           "#FFA15A",
           "#19d3f3",
           "#FF6692",
           "#B6E880",
           "#FF97FF",
           "#FECB52"
          ],
          "font": {
           "color": "#2a3f5f"
          },
          "geo": {
           "bgcolor": "white",
           "lakecolor": "white",
           "landcolor": "#E5ECF6",
           "showlakes": true,
           "showland": true,
           "subunitcolor": "white"
          },
          "hoverlabel": {
           "align": "left"
          },
          "hovermode": "closest",
          "mapbox": {
           "style": "light"
          },
          "paper_bgcolor": "white",
          "plot_bgcolor": "#E5ECF6",
          "polar": {
           "angularaxis": {
            "gridcolor": "white",
            "linecolor": "white",
            "ticks": ""
           },
           "bgcolor": "#E5ECF6",
           "radialaxis": {
            "gridcolor": "white",
            "linecolor": "white",
            "ticks": ""
           }
          },
          "scene": {
           "xaxis": {
            "backgroundcolor": "#E5ECF6",
            "gridcolor": "white",
            "gridwidth": 2,
            "linecolor": "white",
            "showbackground": true,
            "ticks": "",
            "zerolinecolor": "white"
           },
           "yaxis": {
            "backgroundcolor": "#E5ECF6",
            "gridcolor": "white",
            "gridwidth": 2,
            "linecolor": "white",
            "showbackground": true,
            "ticks": "",
            "zerolinecolor": "white"
           },
           "zaxis": {
            "backgroundcolor": "#E5ECF6",
            "gridcolor": "white",
            "gridwidth": 2,
            "linecolor": "white",
            "showbackground": true,
            "ticks": "",
            "zerolinecolor": "white"
           }
          },
          "shapedefaults": {
           "line": {
            "color": "#2a3f5f"
           }
          },
          "ternary": {
           "aaxis": {
            "gridcolor": "white",
            "linecolor": "white",
            "ticks": ""
           },
           "baxis": {
            "gridcolor": "white",
            "linecolor": "white",
            "ticks": ""
           },
           "bgcolor": "#E5ECF6",
           "caxis": {
            "gridcolor": "white",
            "linecolor": "white",
            "ticks": ""
           }
          },
          "title": {
           "x": 0.05
          },
          "xaxis": {
           "automargin": true,
           "gridcolor": "white",
           "linecolor": "white",
           "ticks": "",
           "title": {
            "standoff": 15
           },
           "zerolinecolor": "white",
           "zerolinewidth": 2
          },
          "yaxis": {
           "automargin": true,
           "gridcolor": "white",
           "linecolor": "white",
           "ticks": "",
           "title": {
            "standoff": 15
           },
           "zerolinecolor": "white",
           "zerolinewidth": 2
          }
         }
        },
        "title": {
         "text": "histograma da variável Price(Preço)"
        },
        "xaxis": {
         "anchor": "y",
         "domain": [
          0,
          1
         ],
         "title": {
          "text": "value"
         }
        },
        "yaxis": {
         "anchor": "x",
         "domain": [
          0,
          1
         ],
         "title": {
          "text": "count"
         }
        }
       }
      }
     },
     "metadata": {},
     "output_type": "display_data"
    }
   ],
   "source": [
    "# Distribuição da variável price\n",
    "\n",
    "px.histogram(df_housing['price'], title='histograma da variável Price(Preço)')"
   ]
  },
  {
   "cell_type": "markdown",
   "id": "8de52b37",
   "metadata": {},
   "source": [
    "### Analise Bivariada"
   ]
  },
  {
   "cell_type": "code",
   "execution_count": 24,
   "id": "d6b57951",
   "metadata": {},
   "outputs": [
    {
     "data": {
      "application/vnd.plotly.v1+json": {
       "config": {
        "plotlyServerURL": "https://plot.ly"
       },
       "data": [
        {
         "alignmentgroup": "True",
         "hovertemplate": "area=%{y}<br>price=%{x}<extra></extra>",
         "legendgroup": "7420",
         "marker": {
          "color": "#636efa"
         },
         "name": "7420",
         "notched": false,
         "offsetgroup": "7420",
         "orientation": "h",
         "showlegend": true,
         "type": "box",
         "x": {
          "bdata": "IPHKAFAargA=",
          "dtype": "i4"
         },
         "x0": " ",
         "xaxis": "x",
         "y": {
          "bdata": "/Bz8HA==",
          "dtype": "i2"
         },
         "y0": " ",
         "yaxis": "y"
        },
        {
         "alignmentgroup": "True",
         "hovertemplate": "area=%{y}<br>price=%{x}<extra></extra>",
         "legendgroup": "8960",
         "marker": {
          "color": "#EF553B"
         },
         "name": "8960",
         "notched": false,
         "offsetgroup": "8960",
         "orientation": "h",
         "showlegend": true,
         "type": "box",
         "x": {
          "bdata": "kOu6AA==",
          "dtype": "i4"
         },
         "x0": " ",
         "xaxis": "x",
         "y": {
          "bdata": "ACM=",
          "dtype": "i2"
         },
         "y0": " ",
         "yaxis": "y"
        },
        {
         "alignmentgroup": "True",
         "hovertemplate": "area=%{y}<br>price=%{x}<extra></extra>",
         "legendgroup": "9960",
         "marker": {
          "color": "#00cc96"
         },
         "name": "9960",
         "notched": false,
         "offsetgroup": "9960",
         "orientation": "h",
         "showlegend": true,
         "type": "box",
         "x": {
          "bdata": "kOu6AA==",
          "dtype": "i4"
         },
         "x0": " ",
         "xaxis": "x",
         "y": {
          "bdata": "6CY=",
          "dtype": "i2"
         },
         "y0": " ",
         "yaxis": "y"
        },
        {
         "alignmentgroup": "True",
         "hovertemplate": "area=%{y}<br>price=%{x}<extra></extra>",
         "legendgroup": "7500",
         "marker": {
          "color": "#ab63fa"
         },
         "name": "7500",
         "notched": false,
         "offsetgroup": "7500",
         "orientation": "h",
         "showlegend": true,
         "type": "box",
         "x": {
          "bdata": "2GK6ANCOpQA=",
          "dtype": "i4"
         },
         "x0": " ",
         "xaxis": "x",
         "y": {
          "bdata": "TB1MHQ==",
          "dtype": "i2"
         },
         "y0": " ",
         "yaxis": "y"
        },
        {
         "alignmentgroup": "True",
         "hovertemplate": "area=%{y}<br>price=%{x}<extra></extra>",
         "legendgroup": "8580",
         "marker": {
          "color": "#FFA15A"
         },
         "name": "8580",
         "notched": false,
         "offsetgroup": "8580",
         "orientation": "h",
         "showlegend": true,
         "type": "box",
         "x": {
          "bdata": "cOCaAEBEYgA=",
          "dtype": "i4"
         },
         "x0": " ",
         "xaxis": "x",
         "y": {
          "bdata": "hCGEIQ==",
          "dtype": "i2"
         },
         "y0": " ",
         "yaxis": "y"
        },
        {
         "alignmentgroup": "True",
         "hovertemplate": "area=%{y}<br>price=%{x}<extra></extra>",
         "legendgroup": "16200",
         "marker": {
          "color": "#19d3f3"
         },
         "name": "16200",
         "notched": false,
         "offsetgroup": "16200",
         "orientation": "h",
         "showlegend": true,
         "type": "box",
         "x": {
          "bdata": "cOCaAA==",
          "dtype": "i4"
         },
         "x0": " ",
         "xaxis": "x",
         "y": {
          "bdata": "SD8=",
          "dtype": "i2"
         },
         "y0": " ",
         "yaxis": "y"
        },
        {
         "alignmentgroup": "True",
         "hovertemplate": "area=%{y}<br>price=%{x}<extra></extra>",
         "legendgroup": "8100",
         "marker": {
          "color": "#FF6692"
         },
         "name": "8100",
         "notched": false,
         "offsetgroup": "8100",
         "orientation": "h",
         "showlegend": true,
         "type": "box",
         "x": {
          "bdata": "sJqWAHgqSQCYGi8A",
          "dtype": "i4"
         },
         "x0": " ",
         "xaxis": "x",
         "y": {
          "bdata": "pB+kH6Qf",
          "dtype": "i2"
         },
         "y0": " ",
         "yaxis": "y"
        },
        {
         "alignmentgroup": "True",
         "hovertemplate": "area=%{y}<br>price=%{x}<extra></extra>",
         "legendgroup": "5750",
         "marker": {
          "color": "#B6E880"
         },
         "name": "5750",
         "notched": false,
         "offsetgroup": "5750",
         "orientation": "h",
         "showlegend": true,
         "type": "box",
         "x": {
          "bdata": "QImVAA==",
          "dtype": "i4"
         },
         "x0": " ",
         "xaxis": "x",
         "y": {
          "bdata": "dhY=",
          "dtype": "i2"
         },
         "y0": " ",
         "yaxis": "y"
        },
        {
         "alignmentgroup": "True",
         "hovertemplate": "area=%{y}<br>price=%{x}<extra></extra>",
         "legendgroup": "13200",
         "marker": {
          "color": "#FF97FF"
         },
         "name": "13200",
         "notched": false,
         "offsetgroup": "13200",
         "orientation": "h",
         "showlegend": true,
         "type": "box",
         "x": {
          "bdata": "QImVAFC+aQA=",
          "dtype": "i4"
         },
         "x0": " ",
         "xaxis": "x",
         "y": {
          "bdata": "kDOQMw==",
          "dtype": "i2"
         },
         "y0": " ",
         "yaxis": "y"
        },
        {
         "alignmentgroup": "True",
         "hovertemplate": "area=%{y}<br>price=%{x}<extra></extra>",
         "legendgroup": "6000",
         "marker": {
          "color": "#FECB52"
         },
         "name": "6000",
         "notched": false,
         "offsetgroup": "6000",
         "orientation": "h",
         "showlegend": true,
         "type": "box",
         "x": {
          "bdata": "aLiTAODaigCYIoEAhH95AHCyeAAgfnUAQFtzAEBbcwCI0nIA8CZwAPAmcADwJnAAEARuAKDybADgrGgAuBJnAJB4ZQCIJmUAIGdkAGAhYAComF8AmB5YAFCQRwDwyisA",
          "dtype": "i4"
         },
         "x0": " ",
         "xaxis": "x",
         "y": {
          "bdata": "cBdwF3AXcBdwF3AXcBdwF3AXcBdwF3AXcBdwF3AXcBdwF3AXcBdwF3AXcBdwF3AX",
          "dtype": "i2"
         },
         "y0": " ",
         "yaxis": "y"
        },
        {
         "alignmentgroup": "True",
         "hovertemplate": "area=%{y}<br>price=%{x}<extra></extra>",
         "legendgroup": "6550",
         "marker": {
          "color": "#636efa"
         },
         "name": "6550",
         "notched": false,
         "offsetgroup": "6550",
         "orientation": "h",
         "showlegend": true,
         "type": "box",
         "x": {
          "bdata": "MA+OALgpeAA=",
          "dtype": "i4"
         },
         "x0": " ",
         "xaxis": "x",
         "y": {
          "bdata": "lhmWGQ==",
          "dtype": "i2"
         },
         "y0": " ",
         "yaxis": "y"
        },
        {
         "alignmentgroup": "True",
         "hovertemplate": "area=%{y}<br>price=%{x}<extra></extra>",
         "legendgroup": "3500",
         "marker": {
          "color": "#EF553B"
         },
         "name": "3500",
         "notched": false,
         "offsetgroup": "3500",
         "orientation": "h",
         "showlegend": true,
         "type": "box",
         "x": {
          "bdata": "wP2MACA5QgAARTMAsBAwAPiHLwBQYiUA",
          "dtype": "i4"
         },
         "x0": " ",
         "xaxis": "x",
         "y": {
          "bdata": "rA2sDawNrA2sDawN",
          "dtype": "i2"
         },
         "y0": " ",
         "yaxis": "y"
        },
        {
         "alignmentgroup": "True",
         "hovertemplate": "area=%{y}<br>price=%{x}<extra></extra>",
         "legendgroup": "7800",
         "marker": {
          "color": "#00cc96"
         },
         "name": "7800",
         "notched": false,
         "offsetgroup": "7800",
         "orientation": "h",
         "showlegend": true,
         "type": "box",
         "x": {
          "bdata": "wP2MAEAtUQA=",
          "dtype": "i4"
         },
         "x0": " ",
         "xaxis": "x",
         "y": {
          "bdata": "eB54Hg==",
          "dtype": "i2"
         },
         "y0": " ",
         "yaxis": "y"
        },
        {
         "alignmentgroup": "True",
         "hovertemplate": "area=%{y}<br>price=%{x}<extra></extra>",
         "legendgroup": "6600",
         "marker": {
          "color": "#ab63fa"
         },
         "name": "6600",
         "notched": false,
         "offsetgroup": "6600",
         "orientation": "h",
         "showlegend": true,
         "type": "box",
         "x": {
          "bdata": "4NqKANBJcgBIAWYACAZgAPAPXwAQ7VwAAHNVACBQUwCA50wA",
          "dtype": "i4"
         },
         "x0": " ",
         "xaxis": "x",
         "y": {
          "bdata": "yBnIGcgZyBnIGcgZyBnIGcgZ",
          "dtype": "i2"
         },
         "y0": " ",
         "yaxis": "y"
        },
        {
         "alignmentgroup": "True",
         "hovertemplate": "area=%{y}<br>price=%{x}<extra></extra>",
         "legendgroup": "8500",
         "marker": {
          "color": "#FFA15A"
         },
         "name": "8500",
         "notched": false,
         "offsetgroup": "8500",
         "orientation": "h",
         "showlegend": true,
         "type": "box",
         "x": {
          "bdata": "ALiIAA==",
          "dtype": "i4"
         },
         "x0": " ",
         "xaxis": "x",
         "y": {
          "bdata": "NCE=",
          "dtype": "i2"
         },
         "y0": " ",
         "yaxis": "y"
        },
        {
         "alignmentgroup": "True",
         "hovertemplate": "area=%{y}<br>price=%{x}<extra></extra>",
         "legendgroup": "4600",
         "marker": {
          "color": "#19d3f3"
         },
         "name": "4600",
         "notched": false,
         "offsetgroup": "4600",
         "orientation": "h",
         "showlegend": true,
         "type": "box",
         "x": {
          "bdata": "kKaHAIikUABAFkAA4Gc1ANDtLQA=",
          "dtype": "i4"
         },
         "x0": " ",
         "xaxis": "x",
         "y": {
          "bdata": "+BH4EfgR+BH4EQ==",
          "dtype": "i2"
         },
         "y0": " ",
         "yaxis": "y"
        },
        {
         "alignmentgroup": "True",
         "hovertemplate": "area=%{y}<br>price=%{x}<extra></extra>",
         "legendgroup": "6420",
         "marker": {
          "color": "#FF6692"
         },
         "name": "6420",
         "notched": false,
         "offsetgroup": "6420",
         "orientation": "h",
         "showlegend": true,
         "type": "box",
         "x": {
          "bdata": "2B2HAJB4ZQDIdV0AMMpaAA==",
          "dtype": "i4"
         },
         "x0": " ",
         "xaxis": "x",
         "y": {
          "bdata": "FBkUGRQZFBk=",
          "dtype": "i2"
         },
         "y0": " ",
         "yaxis": "y"
        },
        {
         "alignmentgroup": "True",
         "hovertemplate": "area=%{y}<br>price=%{x}<extra></extra>",
         "legendgroup": "4320",
         "marker": {
          "color": "#B6E880"
         },
         "name": "4320",
         "notched": false,
         "offsetgroup": "4320",
         "orientation": "h",
         "showlegend": true,
         "type": "box",
         "x": {
          "bdata": "sIOFAFCQRwBg8z0AICIxAA==",
          "dtype": "i4"
         },
         "x0": " ",
         "xaxis": "x",
         "y": {
          "bdata": "4BDgEOAQ4BA=",
          "dtype": "i2"
         },
         "y0": " ",
         "yaxis": "y"
        },
        {
         "alignmentgroup": "True",
         "hovertemplate": "area=%{y}<br>price=%{x}<extra></extra>",
         "legendgroup": "7155",
         "marker": {
          "color": "#FF97FF"
         },
         "name": "7155",
         "notched": false,
         "offsetgroup": "7155",
         "orientation": "h",
         "showlegend": true,
         "type": "box",
         "x": {
          "bdata": "QHKEAA==",
          "dtype": "i4"
         },
         "x0": " ",
         "xaxis": "x",
         "y": {
          "bdata": "8xs=",
          "dtype": "i2"
         },
         "y0": " ",
         "yaxis": "y"
        },
        {
         "alignmentgroup": "True",
         "hovertemplate": "area=%{y}<br>price=%{x}<extra></extra>",
         "legendgroup": "8050",
         "marker": {
          "color": "#FECB52"
         },
         "name": "8050",
         "notched": false,
         "offsetgroup": "8050",
         "orientation": "h",
         "showlegend": true,
         "type": "box",
         "x": {
          "bdata": "iOmDAHjSLQA=",
          "dtype": "i4"
         },
         "x0": " ",
         "xaxis": "x",
         "y": {
          "bdata": "ch9yHw==",
          "dtype": "i2"
         },
         "y0": " ",
         "yaxis": "y"
        },
        {
         "alignmentgroup": "True",
         "hovertemplate": "area=%{y}<br>price=%{x}<extra></extra>",
         "legendgroup": "4560",
         "marker": {
          "color": "#636efa"
         },
         "name": "4560",
         "notched": false,
         "offsetgroup": "4560",
         "orientation": "h",
         "showlegend": true,
         "type": "box",
         "x": {
          "bdata": "iOmDAA==",
          "dtype": "i4"
         },
         "x0": " ",
         "xaxis": "x",
         "y": {
          "bdata": "0BE=",
          "dtype": "i2"
         },
         "y0": " ",
         "yaxis": "y"
        },
        {
         "alignmentgroup": "True",
         "hovertemplate": "area=%{y}<br>price=%{x}<extra></extra>",
         "legendgroup": "8800",
         "marker": {
          "color": "#EF553B"
         },
         "name": "8800",
         "notched": false,
         "offsetgroup": "8800",
         "orientation": "h",
         "showlegend": true,
         "type": "box",
         "x": {
          "bdata": "GNiCAA==",
          "dtype": "i4"
         },
         "x0": " ",
         "xaxis": "x",
         "y": {
          "bdata": "YCI=",
          "dtype": "i2"
         },
         "y0": " ",
         "yaxis": "y"
        },
        {
         "alignmentgroup": "True",
         "hovertemplate": "area=%{y}<br>price=%{x}<extra></extra>",
         "legendgroup": "6540",
         "marker": {
          "color": "#00cc96"
         },
         "name": "6540",
         "notched": false,
         "offsetgroup": "6540",
         "orientation": "h",
         "showlegend": true,
         "type": "box",
         "x": {
          "bdata": "YE+CADDKWgDQG1AA",
          "dtype": "i4"
         },
         "x0": " ",
         "xaxis": "x",
         "y": {
          "bdata": "jBmMGYwZ",
          "dtype": "i2"
         },
         "y0": " ",
         "yaxis": "y"
        },
        {
         "alignmentgroup": "True",
         "hovertemplate": "area=%{y}<br>price=%{x}<extra></extra>",
         "legendgroup": "8875",
         "marker": {
          "color": "#ab63fa"
         },
         "name": "8875",
         "notched": false,
         "offsetgroup": "8875",
         "orientation": "h",
         "showlegend": true,
         "type": "box",
         "x": {
          "bdata": "gCyAAA==",
          "dtype": "i4"
         },
         "x0": " ",
         "xaxis": "x",
         "y": {
          "bdata": "qyI=",
          "dtype": "i2"
         },
         "y0": " ",
         "yaxis": "y"
        },
        {
         "alignmentgroup": "True",
         "hovertemplate": "area=%{y}<br>price=%{x}<extra></extra>",
         "legendgroup": "7950",
         "marker": {
          "color": "#FFA15A"
         },
         "name": "7950",
         "notched": false,
         "offsetgroup": "7950",
         "orientation": "h",
         "showlegend": true,
         "type": "box",
         "x": {
          "bdata": "gCyAAA==",
          "dtype": "i4"
         },
         "x0": " ",
         "xaxis": "x",
         "y": {
          "bdata": "Dh8=",
          "dtype": "i2"
         },
         "y0": " ",
         "yaxis": "y"
        },
        {
         "alignmentgroup": "True",
         "hovertemplate": "area=%{y}<br>price=%{x}<extra></extra>",
         "legendgroup": "5500",
         "marker": {
          "color": "#19d3f3"
         },
         "name": "5500",
         "notched": false,
         "offsetgroup": "5500",
         "orientation": "h",
         "showlegend": true,
         "type": "box",
         "x": {
          "bdata": "gCyAAPAPXwA4h14AOIdeAGidWQAAc1UA0BtQAEAWQACA0DsA",
          "dtype": "i4"
         },
         "x0": " ",
         "xaxis": "x",
         "y": {
          "bdata": "fBV8FXwVfBV8FXwVfBV8FXwV",
          "dtype": "i2"
         },
         "y0": " ",
         "yaxis": "y"
        },
        {
         "alignmentgroup": "True",
         "hovertemplate": "area=%{y}<br>price=%{x}<extra></extra>",
         "legendgroup": "7475",
         "marker": {
          "color": "#FF6692"
         },
         "name": "7475",
         "notched": false,
         "offsetgroup": "7475",
         "orientation": "h",
         "showlegend": true,
         "type": "box",
         "x": {
          "bdata": "gCyAAA==",
          "dtype": "i4"
         },
         "x0": " ",
         "xaxis": "x",
         "y": {
          "bdata": "Mx0=",
          "dtype": "i2"
         },
         "y0": " ",
         "yaxis": "y"
        },
        {
         "alignmentgroup": "True",
         "hovertemplate": "area=%{y}<br>price=%{x}<extra></extra>",
         "legendgroup": "7000",
         "marker": {
          "color": "#B6E880"
         },
         "name": "7000",
         "notched": false,
         "offsetgroup": "7000",
         "orientation": "h",
         "showlegend": true,
         "type": "box",
         "x": {
          "bdata": "gCyAACxOewD4i1gAeCpJAEAWQAA=",
          "dtype": "i4"
         },
         "x0": " ",
         "xaxis": "x",
         "y": {
          "bdata": "WBtYG1gbWBtYGw==",
          "dtype": "i2"
         },
         "y0": " ",
         "yaxis": "y"
        },
        {
         "alignmentgroup": "True",
         "hovertemplate": "area=%{y}<br>price=%{x}<extra></extra>",
         "legendgroup": "4880",
         "marker": {
          "color": "#FF97FF"
         },
         "name": "4880",
         "notched": false,
         "offsetgroup": "4880",
         "orientation": "h",
         "showlegend": true,
         "type": "box",
         "x": {
          "bdata": "WJJ+ADgvQwA=",
          "dtype": "i4"
         },
         "x0": " ",
         "xaxis": "x",
         "y": {
          "bdata": "EBMQEw==",
          "dtype": "i2"
         },
         "y0": " ",
         "yaxis": "y"
        },
        {
         "alignmentgroup": "True",
         "hovertemplate": "area=%{y}<br>price=%{x}<extra></extra>",
         "legendgroup": "5960",
         "marker": {
          "color": "#FECB52"
         },
         "name": "5960",
         "notched": false,
         "offsetgroup": "5960",
         "orientation": "h",
         "showlegend": true,
         "type": "box",
         "x": {
          "bdata": "MPh8AMCKNwA=",
          "dtype": "i4"
         },
         "x0": " ",
         "xaxis": "x",
         "y": {
          "bdata": "SBdIFw==",
          "dtype": "i2"
         },
         "y0": " ",
         "yaxis": "y"
        },
        {
         "alignmentgroup": "True",
         "hovertemplate": "area=%{y}<br>price=%{x}<extra></extra>",
         "legendgroup": "6840",
         "marker": {
          "color": "#636efa"
         },
         "name": "6840",
         "notched": false,
         "offsetgroup": "6840",
         "orientation": "h",
         "showlegend": true,
         "type": "box",
         "x": {
          "bdata": "wOZ7AA==",
          "dtype": "i4"
         },
         "x0": " ",
         "xaxis": "x",
         "y": {
          "bdata": "uBo=",
          "dtype": "i2"
         },
         "y0": " ",
         "yaxis": "y"
        },
        {
         "alignmentgroup": "True",
         "hovertemplate": "area=%{y}<br>price=%{x}<extra></extra>",
         "legendgroup": "7482",
         "marker": {
          "color": "#EF553B"
         },
         "name": "7482",
         "notched": false,
         "offsetgroup": "7482",
         "orientation": "h",
         "showlegend": true,
         "type": "box",
         "x": {
          "bdata": "+Ll6AA==",
          "dtype": "i4"
         },
         "x0": " ",
         "xaxis": "x",
         "y": {
          "bdata": "Oh0=",
          "dtype": "i2"
         },
         "y0": " ",
         "yaxis": "y"
        },
        {
         "alignmentgroup": "True",
         "hovertemplate": "area=%{y}<br>price=%{x}<extra></extra>",
         "legendgroup": "9000",
         "marker": {
          "color": "#00cc96"
         },
         "name": "9000",
         "notched": false,
         "offsetgroup": "9000",
         "orientation": "h",
         "showlegend": true,
         "type": "box",
         "x": {
          "bdata": "4MN5AMiMbgBgIWAAsBAwAA==",
          "dtype": "i4"
         },
         "x0": " ",
         "xaxis": "x",
         "y": {
          "bdata": "KCMoIygjKCM=",
          "dtype": "i2"
         },
         "y0": " ",
         "yaxis": "y"
        },
        {
         "alignmentgroup": "True",
         "hovertemplate": "area=%{y}<br>price=%{x}<extra></extra>",
         "legendgroup": "6360",
         "marker": {
          "color": "#ab63fa"
         },
         "name": "6360",
         "notched": false,
         "offsetgroup": "6360",
         "orientation": "h",
         "showlegend": true,
         "type": "box",
         "x": {
          "bdata": "AKF3AHhYawDglVcAAHNVAKhARACwJ0EAsCdBAA==",
          "dtype": "i4"
         },
         "x0": " ",
         "xaxis": "x",
         "y": {
          "bdata": "2BjYGNgY2BjYGNgY2Bg=",
          "dtype": "i2"
         },
         "y0": " ",
         "yaxis": "y"
        },
        {
         "alignmentgroup": "True",
         "hovertemplate": "area=%{y}<br>price=%{x}<extra></extra>",
         "legendgroup": "6480",
         "marker": {
          "color": "#FFA15A"
         },
         "name": "6480",
         "notched": false,
         "offsetgroup": "6480",
         "orientation": "h",
         "showlegend": true,
         "type": "box",
         "x": {
          "bdata": "IH51APDhPAA=",
          "dtype": "i4"
         },
         "x0": " ",
         "xaxis": "x",
         "y": {
          "bdata": "UBlQGQ==",
          "dtype": "i2"
         },
         "y0": " ",
         "yaxis": "y"
        },
        {
         "alignmentgroup": "True",
         "hovertemplate": "area=%{y}<br>price=%{x}<extra></extra>",
         "legendgroup": "4300",
         "marker": {
          "color": "#19d3f3"
         },
         "name": "4300",
         "notched": false,
         "offsetgroup": "4300",
         "orientation": "h",
         "showlegend": true,
         "type": "box",
         "x": {
          "bdata": "GMFxALjRXAA=",
          "dtype": "i4"
         },
         "x0": " ",
         "xaxis": "x",
         "y": {
          "bdata": "zBDMEA==",
          "dtype": "i2"
         },
         "y0": " ",
         "yaxis": "y"
        },
        {
         "alignmentgroup": "True",
         "hovertemplate": "area=%{y}<br>price=%{x}<extra></extra>",
         "legendgroup": "7440",
         "marker": {
          "color": "#FF6692"
         },
         "name": "7440",
         "notched": false,
         "offsetgroup": "7440",
         "orientation": "h",
         "showlegend": true,
         "type": "box",
         "x": {
          "bdata": "YDhxAGA4cQA=",
          "dtype": "i4"
         },
         "x0": " ",
         "xaxis": "x",
         "y": {
          "bdata": "EB0QHQ==",
          "dtype": "i2"
         },
         "y0": " ",
         "yaxis": "y"
        },
        {
         "alignmentgroup": "True",
         "hovertemplate": "area=%{y}<br>price=%{x}<extra></extra>",
         "legendgroup": "6325",
         "marker": {
          "color": "#B6E880"
         },
         "name": "6325",
         "notched": false,
         "offsetgroup": "6325",
         "orientation": "h",
         "showlegend": true,
         "type": "box",
         "x": {
          "bdata": "YDhxAA==",
          "dtype": "i4"
         },
         "x0": " ",
         "xaxis": "x",
         "y": {
          "bdata": "tRg=",
          "dtype": "i2"
         },
         "y0": " ",
         "yaxis": "y"
        },
        {
         "alignmentgroup": "True",
         "hovertemplate": "area=%{y}<br>price=%{x}<extra></extra>",
         "legendgroup": "5150",
         "marker": {
          "color": "#FF97FF"
         },
         "name": "5150",
         "notched": false,
         "offsetgroup": "5150",
         "orientation": "h",
         "showlegend": true,
         "type": "box",
         "x": {
          "bdata": "8CZwAA==",
          "dtype": "i4"
         },
         "x0": " ",
         "xaxis": "x",
         "y": {
          "bdata": "HhQ=",
          "dtype": "i2"
         },
         "y0": " ",
         "yaxis": "y"
        },
        {
         "alignmentgroup": "True",
         "hovertemplate": "area=%{y}<br>price=%{x}<extra></extra>",
         "legendgroup": "11440",
         "marker": {
          "color": "#FECB52"
         },
         "name": "11440",
         "notched": false,
         "offsetgroup": "11440",
         "orientation": "h",
         "showlegend": true,
         "type": "box",
         "x": {
          "bdata": "mAtwAA==",
          "dtype": "i4"
         },
         "x0": " ",
         "xaxis": "x",
         "y": {
          "bdata": "sCw=",
          "dtype": "i2"
         },
         "y0": " ",
         "yaxis": "y"
        },
        {
         "alignmentgroup": "True",
         "hovertemplate": "area=%{y}<br>price=%{x}<extra></extra>",
         "legendgroup": "7680",
         "marker": {
          "color": "#636efa"
         },
         "name": "7680",
         "notched": false,
         "offsetgroup": "7680",
         "orientation": "h",
         "showlegend": true,
         "type": "box",
         "x": {
          "bdata": "EARuAA==",
          "dtype": "i4"
         },
         "x0": " ",
         "xaxis": "x",
         "y": {
          "bdata": "AB4=",
          "dtype": "i2"
         },
         "y0": " ",
         "yaxis": "y"
        },
        {
         "alignmentgroup": "True",
         "hovertemplate": "area=%{y}<br>price=%{x}<extra></extra>",
         "legendgroup": "8880",
         "marker": {
          "color": "#EF553B"
         },
         "name": "8880",
         "notched": false,
         "offsetgroup": "8880",
         "orientation": "h",
         "showlegend": true,
         "type": "box",
         "x": {
          "bdata": "MOFrAFC+aQA=",
          "dtype": "i4"
         },
         "x0": " ",
         "xaxis": "x",
         "y": {
          "bdata": "sCKwIg==",
          "dtype": "i2"
         },
         "y0": " ",
         "yaxis": "y"
        },
        {
         "alignmentgroup": "True",
         "hovertemplate": "area=%{y}<br>price=%{x}<extra></extra>",
         "legendgroup": "6240",
         "marker": {
          "color": "#00cc96"
         },
         "name": "6240",
         "notched": false,
         "offsetgroup": "6240",
         "orientation": "h",
         "showlegend": true,
         "type": "box",
         "x": {
          "bdata": "MOFrAA==",
          "dtype": "i4"
         },
         "x0": " ",
         "xaxis": "x",
         "y": {
          "bdata": "YBg=",
          "dtype": "i2"
         },
         "y0": " ",
         "yaxis": "y"
        },
        {
         "alignmentgroup": "True",
         "hovertemplate": "area=%{y}<br>price=%{x}<extra></extra>",
         "legendgroup": "11175",
         "marker": {
          "color": "#ab63fa"
         },
         "name": "11175",
         "notched": false,
         "offsetgroup": "11175",
         "orientation": "h",
         "showlegend": true,
         "type": "box",
         "x": {
          "bdata": "wM9qAA==",
          "dtype": "i4"
         },
         "x0": " ",
         "xaxis": "x",
         "y": {
          "bdata": "pys=",
          "dtype": "i2"
         },
         "y0": " ",
         "yaxis": "y"
        },
        {
         "alignmentgroup": "True",
         "hovertemplate": "area=%{y}<br>price=%{x}<extra></extra>",
         "legendgroup": "7700",
         "marker": {
          "color": "#FFA15A"
         },
         "name": "7700",
         "notched": false,
         "offsetgroup": "7700",
         "orientation": "h",
         "showlegend": true,
         "type": "box",
         "x": {
          "bdata": "mDVpAFBiJQA=",
          "dtype": "i4"
         },
         "x0": " ",
         "xaxis": "x",
         "y": {
          "bdata": "FB4UHg==",
          "dtype": "i2"
         },
         "y0": " ",
         "yaxis": "y"
        },
        {
         "alignmentgroup": "True",
         "hovertemplate": "area=%{y}<br>price=%{x}<extra></extra>",
         "legendgroup": "12090",
         "marker": {
          "color": "#19d3f3"
         },
         "name": "12090",
         "notched": false,
         "offsetgroup": "12090",
         "orientation": "h",
         "showlegend": true,
         "type": "box",
         "x": {
          "bdata": "cJtnAA==",
          "dtype": "i4"
         },
         "x0": " ",
         "xaxis": "x",
         "y": {
          "bdata": "Oi8=",
          "dtype": "i2"
         },
         "y0": " ",
         "yaxis": "y"
        },
        {
         "alignmentgroup": "True",
         "hovertemplate": "area=%{y}<br>price=%{x}<extra></extra>",
         "legendgroup": "4000",
         "marker": {
          "color": "#FF6692"
         },
         "name": "4000",
         "notched": false,
         "offsetgroup": "4000",
         "orientation": "h",
         "showlegend": true,
         "type": "box",
         "x": {
          "bdata": "cJtnANjvZAAo9kUAAFxEAEAWQAAIAjcAcFY0ABCoKQBYHykAoJYoAEh7KAA=",
          "dtype": "i4"
         },
         "x0": " ",
         "xaxis": "x",
         "y": {
          "bdata": "oA+gD6APoA+gD6APoA+gD6APoA+gDw==",
          "dtype": "i2"
         },
         "y0": " ",
         "yaxis": "y"
        },
        {
         "alignmentgroup": "True",
         "hovertemplate": "area=%{y}<br>price=%{x}<extra></extra>",
         "legendgroup": "5020",
         "marker": {
          "color": "#B6E880"
         },
         "name": "5020",
         "notched": false,
         "offsetgroup": "5020",
         "orientation": "h",
         "showlegend": true,
         "type": "box",
         "x": {
          "bdata": "AIpmAA==",
          "dtype": "i4"
         },
         "x0": " ",
         "xaxis": "x",
         "y": {
          "bdata": "nBM=",
          "dtype": "i2"
         },
         "y0": " ",
         "yaxis": "y"
        },
        {
         "alignmentgroup": "True",
         "hovertemplate": "area=%{y}<br>price=%{x}<extra></extra>",
         "legendgroup": "4040",
         "marker": {
          "color": "#FF97FF"
         },
         "name": "4040",
         "notched": false,
         "offsetgroup": "4040",
         "orientation": "h",
         "showlegend": true,
         "type": "box",
         "x": {
          "bdata": "kHhlAABcRAAYfD4AMJw4ABg7NABIvDIAkDMyAA==",
          "dtype": "i4"
         },
         "x0": " ",
         "xaxis": "x",
         "y": {
          "bdata": "yA/ID8gPyA/ID8gPyA8=",
          "dtype": "i2"
         },
         "y0": " ",
         "yaxis": "y"
        },
        {
         "alignmentgroup": "True",
         "hovertemplate": "area=%{y}<br>price=%{x}<extra></extra>",
         "legendgroup": "4260",
         "marker": {
          "color": "#FECB52"
         },
         "name": "4260",
         "notched": false,
         "offsetgroup": "4260",
         "orientation": "h",
         "showlegend": true,
         "type": "box",
         "x": {
          "bdata": "kHhlANAbUAA=",
          "dtype": "i4"
         },
         "x0": " ",
         "xaxis": "x",
         "y": {
          "bdata": "pBCkEA==",
          "dtype": "i2"
         },
         "y0": " ",
         "yaxis": "y"
        },
        {
         "alignmentgroup": "True",
         "hovertemplate": "area=%{y}<br>price=%{x}<extra></extra>",
         "legendgroup": "6500",
         "marker": {
          "color": "#636efa"
         },
         "name": "6500",
         "notched": false,
         "offsetgroup": "6500",
         "orientation": "h",
         "showlegend": true,
         "type": "box",
         "x": {
          "bdata": "kHhlAMC4WQA=",
          "dtype": "i4"
         },
         "x0": " ",
         "xaxis": "x",
         "y": {
          "bdata": "ZBlkGQ==",
          "dtype": "i2"
         },
         "y0": " ",
         "yaxis": "y"
        },
        {
         "alignmentgroup": "True",
         "hovertemplate": "area=%{y}<br>price=%{x}<extra></extra>",
         "legendgroup": "5700",
         "marker": {
          "color": "#EF553B"
         },
         "name": "5700",
         "notched": false,
         "offsetgroup": "5700",
         "orientation": "h",
         "showlegend": true,
         "type": "box",
         "x": {
          "bdata": "kHhlAA==",
          "dtype": "i4"
         },
         "x0": " ",
         "xaxis": "x",
         "y": {
          "bdata": "RBY=",
          "dtype": "i2"
         },
         "y0": " ",
         "yaxis": "y"
        },
        {
         "alignmentgroup": "True",
         "hovertemplate": "area=%{y}<br>price=%{x}<extra></extra>",
         "legendgroup": "10500",
         "marker": {
          "color": "#00cc96"
         },
         "name": "10500",
         "notched": false,
         "offsetgroup": "10500",
         "orientation": "h",
         "showlegend": true,
         "type": "box",
         "x": {
          "bdata": "2O9kAABzVQAAc1UA",
          "dtype": "i4"
         },
         "x0": " ",
         "xaxis": "x",
         "y": {
          "bdata": "BCkEKQQp",
          "dtype": "i2"
         },
         "y0": " ",
         "yaxis": "y"
        },
        {
         "alignmentgroup": "True",
         "hovertemplate": "area=%{y}<br>price=%{x}<extra></extra>",
         "legendgroup": "3760",
         "marker": {
          "color": "#ab63fa"
         },
         "name": "3760",
         "notched": false,
         "offsetgroup": "3760",
         "orientation": "h",
         "showlegend": true,
         "type": "box",
         "x": {
          "bdata": "sFVjAHBtRQA=",
          "dtype": "i4"
         },
         "x0": " ",
         "xaxis": "x",
         "y": {
          "bdata": "sA6wDg==",
          "dtype": "i2"
         },
         "y0": " ",
         "yaxis": "y"
        },
        {
         "alignmentgroup": "True",
         "hovertemplate": "area=%{y}<br>price=%{x}<extra></extra>",
         "legendgroup": "8250",
         "marker": {
          "color": "#FFA15A"
         },
         "name": "8250",
         "notched": false,
         "offsetgroup": "8250",
         "orientation": "h",
         "showlegend": true,
         "type": "box",
         "x": {
          "bdata": "sFVjAABcRADo+j8ASJI5AA==",
          "dtype": "i4"
         },
         "x0": " ",
         "xaxis": "x",
         "y": {
          "bdata": "OiA6IDogOiA=",
          "dtype": "i2"
         },
         "y0": " ",
         "yaxis": "y"
        },
        {
         "alignmentgroup": "True",
         "hovertemplate": "area=%{y}<br>price=%{x}<extra></extra>",
         "legendgroup": "6670",
         "marker": {
          "color": "#19d3f3"
         },
         "name": "6670",
         "notched": false,
         "offsetgroup": "6670",
         "orientation": "h",
         "showlegend": true,
         "type": "box",
         "x": {
          "bdata": "sFVjAA==",
          "dtype": "i4"
         },
         "x0": " ",
         "xaxis": "x",
         "y": {
          "bdata": "Dho=",
          "dtype": "i2"
         },
         "y0": " ",
         "yaxis": "y"
        },
        {
         "alignmentgroup": "True",
         "hovertemplate": "area=%{y}<br>price=%{x}<extra></extra>",
         "legendgroup": "3960",
         "marker": {
          "color": "#FF6692"
         },
         "name": "3960",
         "notched": false,
         "offsetgroup": "3960",
         "orientation": "h",
         "showlegend": true,
         "type": "box",
         "x": {
          "bdata": "+MxiAPDhPACAuSoA",
          "dtype": "i4"
         },
         "x0": " ",
         "xaxis": "x",
         "y": {
          "bdata": "eA94D3gP",
          "dtype": "i2"
         },
         "y0": " ",
         "yaxis": "y"
        },
        {
         "alignmentgroup": "True",
         "hovertemplate": "area=%{y}<br>price=%{x}<extra></extra>",
         "legendgroup": "7410",
         "marker": {
          "color": "#B6E880"
         },
         "name": "7410",
         "notched": false,
         "offsetgroup": "7410",
         "orientation": "h",
         "showlegend": true,
         "type": "box",
         "x": {
          "bdata": "+MxiAA==",
          "dtype": "i4"
         },
         "x0": " ",
         "xaxis": "x",
         "y": {
          "bdata": "8hw=",
          "dtype": "i2"
         },
         "y0": " ",
         "yaxis": "y"
        },
        {
         "alignmentgroup": "True",
         "hovertemplate": "area=%{y}<br>price=%{x}<extra></extra>",
         "legendgroup": "5000",
         "marker": {
          "color": "#FF97FF"
         },
         "name": "5000",
         "notched": false,
         "offsetgroup": "5000",
         "orientation": "h",
         "showlegend": true,
         "type": "box",
         "x": {
          "bdata": "QERiAOCVVwAAc1UA",
          "dtype": "i4"
         },
         "x0": " ",
         "xaxis": "x",
         "y": {
          "bdata": "iBOIE4gT",
          "dtype": "i2"
         },
         "y0": " ",
         "yaxis": "y"
        },
        {
         "alignmentgroup": "True",
         "hovertemplate": "area=%{y}<br>price=%{x}<extra></extra>",
         "legendgroup": "6750",
         "marker": {
          "color": "#FECB52"
         },
         "name": "6750",
         "notched": false,
         "offsetgroup": "6750",
         "orientation": "h",
         "showlegend": true,
         "type": "box",
         "x": {
          "bdata": "OPJhALAQMAA=",
          "dtype": "i4"
         },
         "x0": " ",
         "xaxis": "x",
         "y": {
          "bdata": "XhpeGg==",
          "dtype": "i2"
         },
         "y0": " ",
         "yaxis": "y"
        },
        {
         "alignmentgroup": "True",
         "hovertemplate": "area=%{y}<br>price=%{x}<extra></extra>",
         "legendgroup": "4800",
         "marker": {
          "color": "#636efa"
         },
         "name": "4800",
         "notched": false,
         "offsetgroup": "4800",
         "orientation": "h",
         "showlegend": true,
         "type": "box",
         "x": {
          "bdata": "iLthABCCWQBQp1gAAHNVACjMTAA=",
          "dtype": "i4"
         },
         "x0": " ",
         "xaxis": "x",
         "y": {
          "bdata": "wBLAEsASwBLAEg==",
          "dtype": "i2"
         },
         "y0": " ",
         "yaxis": "y"
        },
        {
         "alignmentgroup": "True",
         "hovertemplate": "area=%{y}<br>price=%{x}<extra></extra>",
         "legendgroup": "7200",
         "marker": {
          "color": "#EF553B"
         },
         "name": "7200",
         "notched": false,
         "offsetgroup": "7200",
         "orientation": "h",
         "showlegend": true,
         "type": "box",
         "x": {
          "bdata": "YCFgABiTTwA=",
          "dtype": "i4"
         },
         "x0": " ",
         "xaxis": "x",
         "y": {
          "bdata": "IBwgHA==",
          "dtype": "i2"
         },
         "y0": " ",
         "yaxis": "y"
        },
        {
         "alignmentgroup": "True",
         "hovertemplate": "area=%{y}<br>price=%{x}<extra></extra>",
         "legendgroup": "4100",
         "marker": {
          "color": "#00cc96"
         },
         "name": "4100",
         "notched": false,
         "offsetgroup": "4100",
         "orientation": "h",
         "showlegend": true,
         "type": "box",
         "x": {
          "bdata": "YCFgABhSRQDw4TwA",
          "dtype": "i4"
         },
         "x0": " ",
         "xaxis": "x",
         "y": {
          "bdata": "BBAEEAQQ",
          "dtype": "i2"
         },
         "y0": " ",
         "yaxis": "y"
        },
        {
         "alignmentgroup": "True",
         "hovertemplate": "area=%{y}<br>price=%{x}<extra></extra>",
         "legendgroup": "6400",
         "marker": {
          "color": "#ab63fa"
         },
         "name": "6400",
         "notched": false,
         "offsetgroup": "6400",
         "orientation": "h",
         "showlegend": true,
         "type": "box",
         "x": {
          "bdata": "YCFgAA==",
          "dtype": "i4"
         },
         "x0": " ",
         "xaxis": "x",
         "y": {
          "bdata": "ABk=",
          "dtype": "i2"
         },
         "y0": " ",
         "yaxis": "y"
        },
        {
         "alignmentgroup": "True",
         "hovertemplate": "area=%{y}<br>price=%{x}<extra></extra>",
         "legendgroup": "6350",
         "marker": {
          "color": "#FFA15A"
         },
         "name": "6350",
         "notched": false,
         "offsetgroup": "6350",
         "orientation": "h",
         "showlegend": true,
         "type": "box",
         "x": {
          "bdata": "OIdeAA==",
          "dtype": "i4"
         },
         "x0": " ",
         "xaxis": "x",
         "y": {
          "bdata": "zhg=",
          "dtype": "i2"
         },
         "y0": " ",
         "yaxis": "y"
        },
        {
         "alignmentgroup": "True",
         "hovertemplate": "area=%{y}<br>price=%{x}<extra></extra>",
         "legendgroup": "4500",
         "marker": {
          "color": "#19d3f3"
         },
         "name": "4500",
         "notched": false,
         "offsetgroup": "4500",
         "orientation": "h",
         "showlegend": true,
         "type": "box",
         "x": {
          "bdata": "gP5dABiTTwAgOUIAsCdBAEAWQABMJj0A8OE8AAgCNwBQeTYAUHk2ANiqMQBY9S8AQP8uAA==",
          "dtype": "i4"
         },
         "x0": " ",
         "xaxis": "x",
         "y": {
          "bdata": "lBGUEZQRlBGUEZQRlBGUEZQRlBGUEZQRlBE=",
          "dtype": "i2"
         },
         "y0": " ",
         "yaxis": "y"
        },
        {
         "alignmentgroup": "True",
         "hovertemplate": "area=%{y}<br>price=%{x}<extra></extra>",
         "legendgroup": "5450",
         "marker": {
          "color": "#FF6692"
         },
         "name": "5450",
         "notched": false,
         "offsetgroup": "5450",
         "orientation": "h",
         "showlegend": true,
         "type": "box",
         "x": {
          "bdata": "gP5dANiAOAA=",
          "dtype": "i4"
         },
         "x0": " ",
         "xaxis": "x",
         "y": {
          "bdata": "ShVKFQ==",
          "dtype": "i2"
         },
         "y0": " ",
         "yaxis": "y"
        },
        {
         "alignmentgroup": "True",
         "hovertemplate": "area=%{y}<br>price=%{x}<extra></extra>",
         "legendgroup": "3240",
         "marker": {
          "color": "#B6E880"
         },
         "name": "3240",
         "notched": false,
         "offsetgroup": "3240",
         "orientation": "h",
         "showlegend": true,
         "type": "box",
         "x": {
          "bdata": "bDFdANDtLQBQYiUA",
          "dtype": "i4"
         },
         "x0": " ",
         "xaxis": "x",
         "y": {
          "bdata": "qAyoDKgM",
          "dtype": "i2"
         },
         "y0": " ",
         "yaxis": "y"
        },
        {
         "alignmentgroup": "True",
         "hovertemplate": "area=%{y}<br>price=%{x}<extra></extra>",
         "legendgroup": "6615",
         "marker": {
          "color": "#FF97FF"
         },
         "name": "6615",
         "notched": false,
         "offsetgroup": "6615",
         "orientation": "h",
         "showlegend": true,
         "type": "box",
         "x": {
          "bdata": "EO1cAGDcLAA=",
          "dtype": "i4"
         },
         "x0": " ",
         "xaxis": "x",
         "y": {
          "bdata": "1xnXGQ==",
          "dtype": "i2"
         },
         "y0": " ",
         "yaxis": "y"
        },
        {
         "alignmentgroup": "True",
         "hovertemplate": "area=%{y}<br>price=%{x}<extra></extra>",
         "legendgroup": "8372",
         "marker": {
          "color": "#FECB52"
         },
         "name": "8372",
         "notched": false,
         "offsetgroup": "8372",
         "orientation": "h",
         "showlegend": true,
         "type": "box",
         "x": {
          "bdata": "EO1cAA==",
          "dtype": "i4"
         },
         "x0": " ",
         "xaxis": "x",
         "y": {
          "bdata": "tCA=",
          "dtype": "i2"
         },
         "y0": " ",
         "yaxis": "y"
        },
        {
         "alignmentgroup": "True",
         "hovertemplate": "area=%{y}<br>price=%{x}<extra></extra>",
         "legendgroup": "9620",
         "marker": {
          "color": "#636efa"
         },
         "name": "9620",
         "notched": false,
         "offsetgroup": "9620",
         "orientation": "h",
         "showlegend": true,
         "type": "box",
         "x": {
          "bdata": "uNFcAA==",
          "dtype": "i4"
         },
         "x0": " ",
         "xaxis": "x",
         "y": {
          "bdata": "lCU=",
          "dtype": "i2"
         },
         "y0": " ",
         "yaxis": "y"
        },
        {
         "alignmentgroup": "True",
         "hovertemplate": "area=%{y}<br>price=%{x}<extra></extra>",
         "legendgroup": "6800",
         "marker": {
          "color": "#EF553B"
         },
         "name": "6800",
         "notched": false,
         "offsetgroup": "6800",
         "orientation": "h",
         "showlegend": true,
         "type": "box",
         "x": {
          "bdata": "oNtbABCoKQA=",
          "dtype": "i4"
         },
         "x0": " ",
         "xaxis": "x",
         "y": {
          "bdata": "kBqQGg==",
          "dtype": "i2"
         },
         "y0": " ",
         "yaxis": "y"
        },
        {
         "alignmentgroup": "True",
         "hovertemplate": "area=%{y}<br>price=%{x}<extra></extra>",
         "legendgroup": "8000",
         "marker": {
          "color": "#00cc96"
         },
         "name": "8000",
         "notched": false,
         "offsetgroup": "8000",
         "orientation": "h",
         "showlegend": true,
         "type": "box",
         "x": {
          "bdata": "oNtbAA==",
          "dtype": "i4"
         },
         "x0": " ",
         "xaxis": "x",
         "y": {
          "bdata": "QB8=",
          "dtype": "i2"
         },
         "y0": " ",
         "yaxis": "y"
        },
        {
         "alignmentgroup": "True",
         "hovertemplate": "area=%{y}<br>price=%{x}<extra></extra>",
         "legendgroup": "6900",
         "marker": {
          "color": "#ab63fa"
         },
         "name": "6900",
         "notched": false,
         "offsetgroup": "6900",
         "orientation": "h",
         "showlegend": true,
         "type": "box",
         "x": {
          "bdata": "oNtbADhGVAA=",
          "dtype": "i4"
         },
         "x0": " ",
         "xaxis": "x",
         "y": {
          "bdata": "9Br0Gg==",
          "dtype": "i2"
         },
         "y0": " ",
         "yaxis": "y"
        },
        {
         "alignmentgroup": "True",
         "hovertemplate": "area=%{y}<br>price=%{x}<extra></extra>",
         "legendgroup": "3700",
         "marker": {
          "color": "#FFA15A"
         },
         "name": "3700",
         "notched": false,
         "offsetgroup": "3700",
         "orientation": "h",
         "showlegend": true,
         "type": "box",
         "x": {
          "bdata": "MMpaAA==",
          "dtype": "i4"
         },
         "x0": " ",
         "xaxis": "x",
         "y": {
          "bdata": "dA4=",
          "dtype": "i2"
         },
         "y0": " ",
         "yaxis": "y"
        },
        {
         "alignmentgroup": "True",
         "hovertemplate": "area=%{y}<br>price=%{x}<extra></extra>",
         "legendgroup": "7020",
         "marker": {
          "color": "#19d3f3"
         },
         "name": "7020",
         "notched": false,
         "offsetgroup": "7020",
         "orientation": "h",
         "showlegend": true,
         "type": "box",
         "x": {
          "bdata": "MMpaAA==",
          "dtype": "i4"
         },
         "x0": " ",
         "xaxis": "x",
         "y": {
          "bdata": "bBs=",
          "dtype": "i2"
         },
         "y0": " ",
         "yaxis": "y"
        },
        {
         "alignmentgroup": "True",
         "hovertemplate": "area=%{y}<br>price=%{x}<extra></extra>",
         "legendgroup": "7231",
         "marker": {
          "color": "#FF6692"
         },
         "name": "7231",
         "notched": false,
         "offsetgroup": "7231",
         "orientation": "h",
         "showlegend": true,
         "type": "box",
         "x": {
          "bdata": "MMpaAA==",
          "dtype": "i4"
         },
         "x0": " ",
         "xaxis": "x",
         "y": {
          "bdata": "Pxw=",
          "dtype": "i2"
         },
         "y0": " ",
         "yaxis": "y"
        },
        {
         "alignmentgroup": "True",
         "hovertemplate": "area=%{y}<br>price=%{x}<extra></extra>",
         "legendgroup": "6254",
         "marker": {
          "color": "#B6E880"
         },
         "name": "6254",
         "notched": false,
         "offsetgroup": "6254",
         "orientation": "h",
         "showlegend": true,
         "type": "box",
         "x": {
          "bdata": "MMpaAA==",
          "dtype": "i4"
         },
         "x0": " ",
         "xaxis": "x",
         "y": {
          "bdata": "bhg=",
          "dtype": "i2"
         },
         "y0": " ",
         "yaxis": "y"
        },
        {
         "alignmentgroup": "True",
         "hovertemplate": "area=%{y}<br>price=%{x}<extra></extra>",
         "legendgroup": "7320",
         "marker": {
          "color": "#FF97FF"
         },
         "name": "7320",
         "notched": false,
         "offsetgroup": "7320",
         "orientation": "h",
         "showlegend": true,
         "type": "box",
         "x": {
          "bdata": "MMpaAA==",
          "dtype": "i4"
         },
         "x0": " ",
         "xaxis": "x",
         "y": {
          "bdata": "mBw=",
          "dtype": "i2"
         },
         "y0": " ",
         "yaxis": "y"
        },
        {
         "alignmentgroup": "True",
         "hovertemplate": "area=%{y}<br>price=%{x}<extra></extra>",
         "legendgroup": "6525",
         "marker": {
          "color": "#FECB52"
         },
         "name": "6525",
         "notched": false,
         "offsetgroup": "6525",
         "orientation": "h",
         "showlegend": true,
         "type": "box",
         "x": {
          "bdata": "MMpaAA==",
          "dtype": "i4"
         },
         "x0": " ",
         "xaxis": "x",
         "y": {
          "bdata": "fRk=",
          "dtype": "i2"
         },
         "y0": " ",
         "yaxis": "y"
        },
        {
         "alignmentgroup": "True",
         "hovertemplate": "area=%{y}<br>price=%{x}<extra></extra>",
         "legendgroup": "15600",
         "marker": {
          "color": "#636efa"
         },
         "name": "15600",
         "notched": false,
         "offsetgroup": "15600",
         "orientation": "h",
         "showlegend": true,
         "type": "box",
         "x": {
          "bdata": "2K5aAA==",
          "dtype": "i4"
         },
         "x0": " ",
         "xaxis": "x",
         "y": {
          "bdata": "8Dw=",
          "dtype": "i2"
         },
         "y0": " ",
         "yaxis": "y"
        },
        {
         "alignmentgroup": "True",
         "hovertemplate": "area=%{y}<br>price=%{x}<extra></extra>",
         "legendgroup": "7160",
         "marker": {
          "color": "#EF553B"
         },
         "name": "7160",
         "notched": false,
         "offsetgroup": "7160",
         "orientation": "h",
         "showlegend": true,
         "type": "box",
         "x": {
          "bdata": "wLhZAA==",
          "dtype": "i4"
         },
         "x0": " ",
         "xaxis": "x",
         "y": {
          "bdata": "+Bs=",
          "dtype": "i2"
         },
         "y0": " ",
         "yaxis": "y"
        },
        {
         "alignmentgroup": "True",
         "hovertemplate": "area=%{y}<br>price=%{x}<extra></extra>",
         "legendgroup": "11460",
         "marker": {
          "color": "#00cc96"
         },
         "name": "11460",
         "notched": false,
         "offsetgroup": "11460",
         "orientation": "h",
         "showlegend": true,
         "type": "box",
         "x": {
          "bdata": "aJ1ZAA==",
          "dtype": "i4"
         },
         "x0": " ",
         "xaxis": "x",
         "y": {
          "bdata": "xCw=",
          "dtype": "i2"
         },
         "y0": " ",
         "yaxis": "y"
        },
        {
         "alignmentgroup": "True",
         "hovertemplate": "area=%{y}<br>price=%{x}<extra></extra>",
         "legendgroup": "5828",
         "marker": {
          "color": "#ab63fa"
         },
         "name": "5828",
         "notched": false,
         "offsetgroup": "5828",
         "orientation": "h",
         "showlegend": true,
         "type": "box",
         "x": {
          "bdata": "UKdYAA==",
          "dtype": "i4"
         },
         "x0": " ",
         "xaxis": "x",
         "y": {
          "bdata": "xBY=",
          "dtype": "i2"
         },
         "y0": " ",
         "yaxis": "y"
        },
        {
         "alignmentgroup": "True",
         "hovertemplate": "area=%{y}<br>price=%{x}<extra></extra>",
         "legendgroup": "5200",
         "marker": {
          "color": "#FFA15A"
         },
         "name": "5200",
         "notched": false,
         "offsetgroup": "5200",
         "orientation": "h",
         "showlegend": true,
         "type": "box",
         "x": {
          "bdata": "UKdYAJSGKwA=",
          "dtype": "i4"
         },
         "x0": " ",
         "xaxis": "x",
         "y": {
          "bdata": "UBRQFA==",
          "dtype": "i2"
         },
         "y0": " ",
         "yaxis": "y"
        },
        {
         "alignmentgroup": "True",
         "hovertemplate": "area=%{y}<br>price=%{x}<extra></extra>",
         "legendgroup": "5400",
         "marker": {
          "color": "#19d3f3"
         },
         "name": "5400",
         "notched": false,
         "offsetgroup": "5400",
         "orientation": "h",
         "showlegend": true,
         "type": "box",
         "x": {
          "bdata": "4JVXAEjqVACgxEoAUJBHAKhqPQDwyisA",
          "dtype": "i4"
         },
         "x0": " ",
         "xaxis": "x",
         "y": {
          "bdata": "GBUYFRgVGBUYFRgV",
          "dtype": "i2"
         },
         "y0": " ",
         "yaxis": "y"
        },
        {
         "alignmentgroup": "True",
         "hovertemplate": "area=%{y}<br>price=%{x}<extra></extra>",
         "legendgroup": "4640",
         "marker": {
          "color": "#FF6692"
         },
         "name": "4640",
         "notched": false,
         "offsetgroup": "4640",
         "orientation": "h",
         "showlegend": true,
         "type": "box",
         "x": {
          "bdata": "4JVXAA==",
          "dtype": "i4"
         },
         "x0": " ",
         "xaxis": "x",
         "y": {
          "bdata": "IBI=",
          "dtype": "i2"
         },
         "y0": " ",
         "yaxis": "y"
        },
        {
         "alignmentgroup": "True",
         "hovertemplate": "area=%{y}<br>price=%{x}<extra></extra>",
         "legendgroup": "5800",
         "marker": {
          "color": "#B6E880"
         },
         "name": "5800",
         "notched": false,
         "offsetgroup": "5800",
         "orientation": "h",
         "showlegend": true,
         "type": "box",
         "x": {
          "bdata": "4JVXAKDESgBAFkAA",
          "dtype": "i4"
         },
         "x0": " ",
         "xaxis": "x",
         "y": {
          "bdata": "qBaoFqgW",
          "dtype": "i2"
         },
         "y0": " ",
         "yaxis": "y"
        },
        {
         "alignmentgroup": "True",
         "hovertemplate": "area=%{y}<br>price=%{x}<extra></extra>",
         "legendgroup": "6660",
         "marker": {
          "color": "#FF97FF"
         },
         "name": "6660",
         "notched": false,
         "offsetgroup": "6660",
         "orientation": "h",
         "showlegend": true,
         "type": "box",
         "x": {
          "bdata": "FEBWAA==",
          "dtype": "i4"
         },
         "x0": " ",
         "xaxis": "x",
         "y": {
          "bdata": "BBo=",
          "dtype": "i2"
         },
         "y0": " ",
         "yaxis": "y"
        },
        {
         "alignmentgroup": "True",
         "hovertemplate": "area=%{y}<br>price=%{x}<extra></extra>",
         "legendgroup": "4700",
         "marker": {
          "color": "#FECB52"
         },
         "name": "4700",
         "notched": false,
         "offsetgroup": "4700",
         "orientation": "h",
         "showlegend": true,
         "type": "box",
         "x": {
          "bdata": "AHNVAA==",
          "dtype": "i4"
         },
         "x0": " ",
         "xaxis": "x",
         "y": {
          "bdata": "XBI=",
          "dtype": "i2"
         },
         "y0": " ",
         "yaxis": "y"
        },
        {
         "alignmentgroup": "True",
         "hovertemplate": "area=%{y}<br>price=%{x}<extra></extra>",
         "legendgroup": "5136",
         "marker": {
          "color": "#636efa"
         },
         "name": "5136",
         "notched": false,
         "offsetgroup": "5136",
         "orientation": "h",
         "showlegend": true,
         "type": "box",
         "x": {
          "bdata": "AHNVAA==",
          "dtype": "i4"
         },
         "x0": " ",
         "xaxis": "x",
         "y": {
          "bdata": "EBQ=",
          "dtype": "i2"
         },
         "y0": " ",
         "yaxis": "y"
        },
        {
         "alignmentgroup": "True",
         "hovertemplate": "area=%{y}<br>price=%{x}<extra></extra>",
         "legendgroup": "4400",
         "marker": {
          "color": "#EF553B"
         },
         "name": "4400",
         "notched": false,
         "offsetgroup": "4400",
         "orientation": "h",
         "showlegend": true,
         "type": "box",
         "x": {
          "bdata": "SOpUAGiwQQAwhScACOslAA==",
          "dtype": "i4"
         },
         "x0": " ",
         "xaxis": "x",
         "y": {
          "bdata": "MBEwETARMBE=",
          "dtype": "i2"
         },
         "y0": " ",
         "yaxis": "y"
        },
        {
         "alignmentgroup": "True",
         "hovertemplate": "area=%{y}<br>price=%{x}<extra></extra>",
         "legendgroup": "3300",
         "marker": {
          "color": "#00cc96"
         },
         "name": "3300",
         "notched": false,
         "offsetgroup": "3300",
         "orientation": "h",
         "showlegend": true,
         "type": "box",
         "x": {
          "bdata": "kGFUADhCKwA=",
          "dtype": "i4"
         },
         "x0": " ",
         "xaxis": "x",
         "y": {
          "bdata": "5AzkDA==",
          "dtype": "i2"
         },
         "y0": " ",
         "yaxis": "y"
        },
        {
         "alignmentgroup": "True",
         "hovertemplate": "area=%{y}<br>price=%{x}<extra></extra>",
         "legendgroup": "3650",
         "marker": {
          "color": "#ab63fa"
         },
         "name": "3650",
         "notched": false,
         "offsetgroup": "3650",
         "orientation": "h",
         "showlegend": true,
         "type": "box",
         "x": {
          "bdata": "kGFUAOBnNQA=",
          "dtype": "i4"
         },
         "x0": " ",
         "xaxis": "x",
         "y": {
          "bdata": "Qg5CDg==",
          "dtype": "i2"
         },
         "y0": " ",
         "yaxis": "y"
        },
        {
         "alignmentgroup": "True",
         "hovertemplate": "area=%{y}<br>price=%{x}<extra></extra>",
         "legendgroup": "6100",
         "marker": {
          "color": "#FFA15A"
         },
         "name": "6100",
         "notched": false,
         "offsetgroup": "6100",
         "orientation": "h",
         "showlegend": true,
         "type": "box",
         "x": {
          "bdata": "kGFUACBQUwDw+E0A",
          "dtype": "i4"
         },
         "x0": " ",
         "xaxis": "x",
         "y": {
          "bdata": "1BfUF9QX",
          "dtype": "i2"
         },
         "y0": " ",
         "yaxis": "y"
        },
        {
         "alignmentgroup": "True",
         "hovertemplate": "area=%{y}<br>price=%{x}<extra></extra>",
         "legendgroup": "2817",
         "marker": {
          "color": "#19d3f3"
         },
         "name": "2817",
         "notched": false,
         "offsetgroup": "2817",
         "orientation": "h",
         "showlegend": true,
         "type": "box",
         "x": {
          "bdata": "2NhTAA==",
          "dtype": "i4"
         },
         "x0": " ",
         "xaxis": "x",
         "y": {
          "bdata": "AQs=",
          "dtype": "i2"
         },
         "y0": " ",
         "yaxis": "y"
        },
        {
         "alignmentgroup": "True",
         "hovertemplate": "area=%{y}<br>price=%{x}<extra></extra>",
         "legendgroup": "7980",
         "marker": {
          "color": "#FF6692"
         },
         "name": "7980",
         "notched": false,
         "offsetgroup": "7980",
         "orientation": "h",
         "showlegend": true,
         "type": "box",
         "x": {
          "bdata": "2NhTAKiBTgA=",
          "dtype": "i4"
         },
         "x0": " ",
         "xaxis": "x",
         "y": {
          "bdata": "LB8sHw==",
          "dtype": "i2"
         },
         "y0": " ",
         "yaxis": "y"
        },
        {
         "alignmentgroup": "True",
         "hovertemplate": "area=%{y}<br>price=%{x}<extra></extra>",
         "legendgroup": "3150",
         "marker": {
          "color": "#B6E880"
         },
         "name": "3150",
         "notched": false,
         "offsetgroup": "3150",
         "orientation": "h",
         "showlegend": true,
         "type": "box",
         "x": {
          "bdata": "IFBTAFg2OgBQeTYAYNwsAA==",
          "dtype": "i4"
         },
         "x0": " ",
         "xaxis": "x",
         "y": {
          "bdata": "TgxODE4MTgw=",
          "dtype": "i2"
         },
         "y0": " ",
         "yaxis": "y"
        },
        {
         "alignmentgroup": "True",
         "hovertemplate": "area=%{y}<br>price=%{x}<extra></extra>",
         "legendgroup": "6210",
         "marker": {
          "color": "#FF97FF"
         },
         "name": "6210",
         "notched": false,
         "offsetgroup": "6210",
         "orientation": "h",
         "showlegend": true,
         "type": "box",
         "x": {
          "bdata": "IFBTAA==",
          "dtype": "i4"
         },
         "x0": " ",
         "xaxis": "x",
         "y": {
          "bdata": "Qhg=",
          "dtype": "i2"
         },
         "y0": " ",
         "yaxis": "y"
        },
        {
         "alignmentgroup": "True",
         "hovertemplate": "area=%{y}<br>price=%{x}<extra></extra>",
         "legendgroup": "6825",
         "marker": {
          "color": "#FECB52"
         },
         "name": "6825",
         "notched": false,
         "offsetgroup": "6825",
         "orientation": "h",
         "showlegend": true,
         "type": "box",
         "x": {
          "bdata": "aMdSAA==",
          "dtype": "i4"
         },
         "x0": " ",
         "xaxis": "x",
         "y": {
          "bdata": "qRo=",
          "dtype": "i2"
         },
         "y0": " ",
         "yaxis": "y"
        },
        {
         "alignmentgroup": "True",
         "hovertemplate": "area=%{y}<br>price=%{x}<extra></extra>",
         "legendgroup": "6710",
         "marker": {
          "color": "#636efa"
         },
         "name": "6710",
         "notched": false,
         "offsetgroup": "6710",
         "orientation": "h",
         "showlegend": true,
         "type": "box",
         "x": {
          "bdata": "sD5SAA==",
          "dtype": "i4"
         },
         "x0": " ",
         "xaxis": "x",
         "y": {
          "bdata": "Nho=",
          "dtype": "i2"
         },
         "y0": " ",
         "yaxis": "y"
        },
        {
         "alignmentgroup": "True",
         "hovertemplate": "area=%{y}<br>price=%{x}<extra></extra>",
         "legendgroup": "6450",
         "marker": {
          "color": "#EF553B"
         },
         "name": "6450",
         "notched": false,
         "offsetgroup": "6450",
         "orientation": "h",
         "showlegend": true,
         "type": "box",
         "x": {
          "bdata": "WCNSACA5QgA=",
          "dtype": "i4"
         },
         "x0": " ",
         "xaxis": "x",
         "y": {
          "bdata": "MhkyGQ==",
          "dtype": "i2"
         },
         "y0": " ",
         "yaxis": "y"
        },
        {
         "alignmentgroup": "True",
         "hovertemplate": "area=%{y}<br>price=%{x}<extra></extra>",
         "legendgroup": "10269",
         "marker": {
          "color": "#00cc96"
         },
         "name": "10269",
         "notched": false,
         "offsetgroup": "10269",
         "orientation": "h",
         "showlegend": true,
         "type": "box",
         "x": {
          "bdata": "0BtQAA==",
          "dtype": "i4"
         },
         "x0": " ",
         "xaxis": "x",
         "y": {
          "bdata": "HSg=",
          "dtype": "i2"
         },
         "y0": " ",
         "yaxis": "y"
        },
        {
         "alignmentgroup": "True",
         "hovertemplate": "area=%{y}<br>price=%{x}<extra></extra>",
         "legendgroup": "8400",
         "marker": {
          "color": "#ab63fa"
         },
         "name": "8400",
         "notched": false,
         "offsetgroup": "8400",
         "orientation": "h",
         "showlegend": true,
         "type": "box",
         "x": {
          "bdata": "0BtQAHBtRQCgrTkA",
          "dtype": "i4"
         },
         "x0": " ",
         "xaxis": "x",
         "y": {
          "bdata": "0CDQINAg",
          "dtype": "i2"
         },
         "y0": " ",
         "yaxis": "y"
        },
        {
         "alignmentgroup": "True",
         "hovertemplate": "area=%{y}<br>price=%{x}<extra></extra>",
         "legendgroup": "5300",
         "marker": {
          "color": "#FFA15A"
         },
         "name": "5300",
         "notched": false,
         "offsetgroup": "5300",
         "orientation": "h",
         "showlegend": true,
         "type": "box",
         "x": {
          "bdata": "0BtQABC/OgCoEiIA",
          "dtype": "i4"
         },
         "x0": " ",
         "xaxis": "x",
         "y": {
          "bdata": "tBS0FLQU",
          "dtype": "i2"
         },
         "y0": " ",
         "yaxis": "y"
        },
        {
         "alignmentgroup": "True",
         "hovertemplate": "area=%{y}<br>price=%{x}<extra></extra>",
         "legendgroup": "3800",
         "marker": {
          "color": "#19d3f3"
         },
         "name": "3800",
         "notched": false,
         "offsetgroup": "3800",
         "orientation": "h",
         "showlegend": true,
         "type": "box",
         "x": {
          "bdata": "0BtQAIh2LgA=",
          "dtype": "i4"
         },
         "x0": " ",
         "xaxis": "x",
         "y": {
          "bdata": "2A7YDg==",
          "dtype": "i2"
         },
         "y0": " ",
         "yaxis": "y"
        },
        {
         "alignmentgroup": "True",
         "hovertemplate": "area=%{y}<br>price=%{x}<extra></extra>",
         "legendgroup": "9800",
         "marker": {
          "color": "#FF6692"
         },
         "name": "9800",
         "notched": false,
         "offsetgroup": "9800",
         "orientation": "h",
         "showlegend": true,
         "type": "box",
         "x": {
          "bdata": "0BtQAA==",
          "dtype": "i4"
         },
         "x0": " ",
         "xaxis": "x",
         "y": {
          "bdata": "SCY=",
          "dtype": "i2"
         },
         "y0": " ",
         "yaxis": "y"
        },
        {
         "alignmentgroup": "True",
         "hovertemplate": "area=%{y}<br>price=%{x}<extra></extra>",
         "legendgroup": "8520",
         "marker": {
          "color": "#B6E880"
         },
         "name": "8520",
         "notched": false,
         "offsetgroup": "8520",
         "orientation": "h",
         "showlegend": true,
         "type": "box",
         "x": {
          "bdata": "0BtQAA==",
          "dtype": "i4"
         },
         "x0": " ",
         "xaxis": "x",
         "y": {
          "bdata": "SCE=",
          "dtype": "i2"
         },
         "y0": " ",
         "yaxis": "y"
        },
        {
         "alignmentgroup": "True",
         "hovertemplate": "area=%{y}<br>price=%{x}<extra></extra>",
         "legendgroup": "6050",
         "marker": {
          "color": "#FF97FF"
         },
         "name": "6050",
         "notched": false,
         "offsetgroup": "6050",
         "orientation": "h",
         "showlegend": true,
         "type": "box",
         "x": {
          "bdata": "eABQAA==",
          "dtype": "i4"
         },
         "x0": " ",
         "xaxis": "x",
         "y": {
          "bdata": "ohc=",
          "dtype": "i2"
         },
         "y0": " ",
         "yaxis": "y"
        },
        {
         "alignmentgroup": "True",
         "hovertemplate": "area=%{y}<br>price=%{x}<extra></extra>",
         "legendgroup": "7085",
         "marker": {
          "color": "#FECB52"
         },
         "name": "7085",
         "notched": false,
         "offsetgroup": "7085",
         "orientation": "h",
         "showlegend": true,
         "type": "box",
         "x": {
          "bdata": "yMlPAA==",
          "dtype": "i4"
         },
         "x0": " ",
         "xaxis": "x",
         "y": {
          "bdata": "rRs=",
          "dtype": "i2"
         },
         "y0": " ",
         "yaxis": "y"
        },
        {
         "alignmentgroup": "True",
         "hovertemplate": "area=%{y}<br>price=%{x}<extra></extra>",
         "legendgroup": "3180",
         "marker": {
          "color": "#636efa"
         },
         "name": "3180",
         "notched": false,
         "offsetgroup": "3180",
         "orientation": "h",
         "showlegend": true,
         "type": "box",
         "x": {
          "bdata": "GJNPAMhHOwAQvzoAwIo3AJAzMgDAcyYAcD8jAA==",
          "dtype": "i4"
         },
         "x0": " ",
         "xaxis": "x",
         "y": {
          "bdata": "bAxsDGwMbAxsDGwMbAw=",
          "dtype": "i2"
         },
         "y0": " ",
         "yaxis": "y"
        },
        {
         "alignmentgroup": "True",
         "hovertemplate": "area=%{y}<br>price=%{x}<extra></extra>",
         "legendgroup": "3410",
         "marker": {
          "color": "#EF553B"
         },
         "name": "3410",
         "notched": false,
         "offsetgroup": "3410",
         "orientation": "h",
         "showlegend": true,
         "type": "box",
         "x": {
          "bdata": "qIFOAA==",
          "dtype": "i4"
         },
         "x0": " ",
         "xaxis": "x",
         "y": {
          "bdata": "Ug0=",
          "dtype": "i2"
         },
         "y0": " ",
         "yaxis": "y"
        },
        {
         "alignmentgroup": "True",
         "hovertemplate": "area=%{y}<br>price=%{x}<extra></extra>",
         "legendgroup": "3000",
         "marker": {
          "color": "#00cc96"
         },
         "name": "3000",
         "notched": false,
         "offsetgroup": "3000",
         "orientation": "h",
         "showlegend": true,
         "type": "box",
         "x": {
          "bdata": "8PhNAPD4TQCgxEoAYPM9AIDQOwDAijcA+IcvAGguLQDAcyYACOslAFBiJQDYkyAAIAsgAGDFGwA=",
          "dtype": "i4"
         },
         "x0": " ",
         "xaxis": "x",
         "y": {
          "bdata": "uAu4C7gLuAu4C7gLuAu4C7gLuAu4C7gLuAu4Cw==",
          "dtype": "i2"
         },
         "y0": " ",
         "yaxis": "y"
        },
        {
         "alignmentgroup": "True",
         "hovertemplate": "area=%{y}<br>price=%{x}<extra></extra>",
         "legendgroup": "11410",
         "marker": {
          "color": "#ab63fa"
         },
         "name": "11410",
         "notched": false,
         "offsetgroup": "11410",
         "orientation": "h",
         "showlegend": true,
         "type": "box",
         "x": {
          "bdata": "8PhNAA==",
          "dtype": "i4"
         },
         "x0": " ",
         "xaxis": "x",
         "y": {
          "bdata": "kiw=",
          "dtype": "i2"
         },
         "y0": " ",
         "yaxis": "y"
        },
        {
         "alignmentgroup": "True",
         "hovertemplate": "area=%{y}<br>price=%{x}<extra></extra>",
         "legendgroup": "5720",
         "marker": {
          "color": "#FFA15A"
         },
         "name": "5720",
         "notched": false,
         "offsetgroup": "5720",
         "orientation": "h",
         "showlegend": true,
         "type": "box",
         "x": {
          "bdata": "OHBNAA==",
          "dtype": "i4"
         },
         "x0": " ",
         "xaxis": "x",
         "y": {
          "bdata": "WBY=",
          "dtype": "i2"
         },
         "y0": " ",
         "yaxis": "y"
        },
        {
         "alignmentgroup": "True",
         "hovertemplate": "area=%{y}<br>price=%{x}<extra></extra>",
         "legendgroup": "3540",
         "marker": {
          "color": "#19d3f3"
         },
         "name": "3540",
         "notched": false,
         "offsetgroup": "3540",
         "orientation": "h",
         "showlegend": true,
         "type": "box",
         "x": {
          "bdata": "gOdMAA==",
          "dtype": "i4"
         },
         "x0": " ",
         "xaxis": "x",
         "y": {
          "bdata": "1A0=",
          "dtype": "i2"
         },
         "y0": " ",
         "yaxis": "y"
        },
        {
         "alignmentgroup": "True",
         "hovertemplate": "area=%{y}<br>price=%{x}<extra></extra>",
         "legendgroup": "7600",
         "marker": {
          "color": "#FF6692"
         },
         "name": "7600",
         "notched": false,
         "offsetgroup": "7600",
         "orientation": "h",
         "showlegend": true,
         "type": "box",
         "x": {
          "bdata": "gOdMAA==",
          "dtype": "i4"
         },
         "x0": " ",
         "xaxis": "x",
         "y": {
          "bdata": "sB0=",
          "dtype": "i2"
         },
         "y0": " ",
         "yaxis": "y"
        },
        {
         "alignmentgroup": "True",
         "hovertemplate": "area=%{y}<br>price=%{x}<extra></extra>",
         "legendgroup": "10700",
         "marker": {
          "color": "#B6E880"
         },
         "name": "10700",
         "notched": false,
         "offsetgroup": "10700",
         "orientation": "h",
         "showlegend": true,
         "type": "box",
         "x": {
          "bdata": "gOdMAA==",
          "dtype": "i4"
         },
         "x0": " ",
         "xaxis": "x",
         "y": {
          "bdata": "zCk=",
          "dtype": "i2"
         },
         "y0": " ",
         "yaxis": "y"
        },
        {
         "alignmentgroup": "True",
         "hovertemplate": "area=%{y}<br>price=%{x}<extra></extra>",
         "legendgroup": "8150",
         "marker": {
          "color": "#FF97FF"
         },
         "name": "8150",
         "notched": false,
         "offsetgroup": "8150",
         "orientation": "h",
         "showlegend": true,
         "type": "box",
         "x": {
          "bdata": "yF5MAA==",
          "dtype": "i4"
         },
         "x0": " ",
         "xaxis": "x",
         "y": {
          "bdata": "1h8=",
          "dtype": "i2"
         },
         "y0": " ",
         "yaxis": "y"
        },
        {
         "alignmentgroup": "True",
         "hovertemplate": "area=%{y}<br>price=%{x}<extra></extra>",
         "legendgroup": "4410",
         "marker": {
          "color": "#FECB52"
         },
         "name": "4410",
         "notched": false,
         "offsetgroup": "4410",
         "orientation": "h",
         "showlegend": true,
         "type": "box",
         "x": {
          "bdata": "ENZLAEAWQAA=",
          "dtype": "i4"
         },
         "x0": " ",
         "xaxis": "x",
         "y": {
          "bdata": "OhE6EQ==",
          "dtype": "i2"
         },
         "y0": " ",
         "yaxis": "y"
        },
        {
         "alignmentgroup": "True",
         "hovertemplate": "area=%{y}<br>price=%{x}<extra></extra>",
         "legendgroup": "7686",
         "marker": {
          "color": "#636efa"
         },
         "name": "7686",
         "notched": false,
         "offsetgroup": "7686",
         "orientation": "h",
         "showlegend": true,
         "type": "box",
         "x": {
          "bdata": "ENZLAA==",
          "dtype": "i4"
         },
         "x0": " ",
         "xaxis": "x",
         "y": {
          "bdata": "Bh4=",
          "dtype": "i2"
         },
         "y0": " ",
         "yaxis": "y"
        },
        {
         "alignmentgroup": "True",
         "hovertemplate": "area=%{y}<br>price=%{x}<extra></extra>",
         "legendgroup": "2800",
         "marker": {
          "color": "#EF553B"
         },
         "name": "2800",
         "notched": false,
         "offsetgroup": "2800",
         "orientation": "h",
         "showlegend": true,
         "type": "box",
         "x": {
          "bdata": "YJ9LAKCWKAA=",
          "dtype": "i4"
         },
         "x0": " ",
         "xaxis": "x",
         "y": {
          "bdata": "8ArwCg==",
          "dtype": "i2"
         },
         "y0": " ",
         "yaxis": "y"
        },
        {
         "alignmentgroup": "True",
         "hovertemplate": "area=%{y}<br>price=%{x}<extra></extra>",
         "legendgroup": "5948",
         "marker": {
          "color": "#00cc96"
         },
         "name": "5948",
         "notched": false,
         "offsetgroup": "5948",
         "orientation": "h",
         "showlegend": true,
         "type": "box",
         "x": {
          "bdata": "WE1LAA==",
          "dtype": "i4"
         },
         "x0": " ",
         "xaxis": "x",
         "y": {
          "bdata": "PBc=",
          "dtype": "i2"
         },
         "y0": " ",
         "yaxis": "y"
        },
        {
         "alignmentgroup": "True",
         "hovertemplate": "area=%{y}<br>price=%{x}<extra></extra>",
         "legendgroup": "4200",
         "marker": {
          "color": "#ab63fa"
         },
         "name": "4200",
         "notched": false,
         "offsetgroup": "4200",
         "orientation": "h",
         "showlegend": true,
         "type": "box",
         "x": {
          "bdata": "+N9KAA==",
          "dtype": "i4"
         },
         "x0": " ",
         "xaxis": "x",
         "y": {
          "bdata": "aBA=",
          "dtype": "i2"
         },
         "y0": " ",
         "yaxis": "y"
        },
        {
         "alignmentgroup": "True",
         "hovertemplate": "area=%{y}<br>price=%{x}<extra></extra>",
         "legendgroup": "4520",
         "marker": {
          "color": "#FFA15A"
         },
         "name": "4520",
         "notched": false,
         "offsetgroup": "4520",
         "orientation": "h",
         "showlegend": true,
         "type": "box",
         "x": {
          "bdata": "oMRKAA==",
          "dtype": "i4"
         },
         "x0": " ",
         "xaxis": "x",
         "y": {
          "bdata": "qBE=",
          "dtype": "i2"
         },
         "y0": " ",
         "yaxis": "y"
        },
        {
         "alignmentgroup": "True",
         "hovertemplate": "area=%{y}<br>price=%{x}<extra></extra>",
         "legendgroup": "4095",
         "marker": {
          "color": "#19d3f3"
         },
         "name": "4095",
         "notched": false,
         "offsetgroup": "4095",
         "orientation": "h",
         "showlegend": true,
         "type": "box",
         "x": {
          "bdata": "oMRKALAQMAA=",
          "dtype": "i4"
         },
         "x0": " ",
         "xaxis": "x",
         "y": {
          "bdata": "/w//Dw==",
          "dtype": "i2"
         },
         "y0": " ",
         "yaxis": "y"
        },
        {
         "alignmentgroup": "True",
         "hovertemplate": "area=%{y}<br>price=%{x}<extra></extra>",
         "legendgroup": "4120",
         "marker": {
          "color": "#FF6692"
         },
         "name": "4120",
         "notched": false,
         "offsetgroup": "4120",
         "orientation": "h",
         "showlegend": true,
         "type": "box",
         "x": {
          "bdata": "oMRKAABFMwA=",
          "dtype": "i4"
         },
         "x0": " ",
         "xaxis": "x",
         "y": {
          "bdata": "GBAYEA==",
          "dtype": "i2"
         },
         "y0": " ",
         "yaxis": "y"
        },
        {
         "alignmentgroup": "True",
         "hovertemplate": "area=%{y}<br>price=%{x}<extra></extra>",
         "legendgroup": "4770",
         "marker": {
          "color": "#B6E880"
         },
         "name": "4770",
         "notched": false,
         "offsetgroup": "4770",
         "orientation": "h",
         "showlegend": true,
         "type": "box",
         "x": {
          "bdata": "oMRKAA==",
          "dtype": "i4"
         },
         "x0": " ",
         "xaxis": "x",
         "y": {
          "bdata": "ohI=",
          "dtype": "i2"
         },
         "y0": " ",
         "yaxis": "y"
        },
        {
         "alignmentgroup": "True",
         "hovertemplate": "area=%{y}<br>price=%{x}<extra></extra>",
         "legendgroup": "6300",
         "marker": {
          "color": "#FF97FF"
         },
         "name": "6300",
         "notched": false,
         "offsetgroup": "6300",
         "orientation": "h",
         "showlegend": true,
         "type": "box",
         "x": {
          "bdata": "oMRKAA==",
          "dtype": "i4"
         },
         "x0": " ",
         "xaxis": "x",
         "y": {
          "bdata": "nBg=",
          "dtype": "i2"
         },
         "y0": " ",
         "yaxis": "y"
        },
        {
         "alignmentgroup": "True",
         "hovertemplate": "area=%{y}<br>price=%{x}<extra></extra>",
         "legendgroup": "2970",
         "marker": {
          "color": "#FECB52"
         },
         "name": "2970",
         "notched": false,
         "offsetgroup": "2970",
         "orientation": "h",
         "showlegend": true,
         "type": "box",
         "x": {
          "bdata": "oMRKAA==",
          "dtype": "i4"
         },
         "x0": " ",
         "xaxis": "x",
         "y": {
          "bdata": "mgs=",
          "dtype": "i2"
         },
         "y0": " ",
         "yaxis": "y"
        },
        {
         "alignmentgroup": "True",
         "hovertemplate": "area=%{y}<br>price=%{x}<extra></extra>",
         "legendgroup": "6720",
         "marker": {
          "color": "#636efa"
         },
         "name": "6720",
         "notched": false,
         "offsetgroup": "6720",
         "orientation": "h",
         "showlegend": true,
         "type": "box",
         "x": {
          "bdata": "oMRKAA==",
          "dtype": "i4"
         },
         "x0": " ",
         "xaxis": "x",
         "y": {
          "bdata": "QBo=",
          "dtype": "i2"
         },
         "y0": " ",
         "yaxis": "y"
        },
        {
         "alignmentgroup": "True",
         "hovertemplate": "area=%{y}<br>price=%{x}<extra></extra>",
         "legendgroup": "4646",
         "marker": {
          "color": "#EF553B"
         },
         "name": "4646",
         "notched": false,
         "offsetgroup": "4646",
         "orientation": "h",
         "showlegend": true,
         "type": "box",
         "x": {
          "bdata": "oMRKAA==",
          "dtype": "i4"
         },
         "x0": " ",
         "xaxis": "x",
         "y": {
          "bdata": "JhI=",
          "dtype": "i2"
         },
         "y0": " ",
         "yaxis": "y"
        },
        {
         "alignmentgroup": "True",
         "hovertemplate": "area=%{y}<br>price=%{x}<extra></extra>",
         "legendgroup": "12900",
         "marker": {
          "color": "#00cc96"
         },
         "name": "12900",
         "notched": false,
         "offsetgroup": "12900",
         "orientation": "h",
         "showlegend": true,
         "type": "box",
         "x": {
          "bdata": "oMRKAA==",
          "dtype": "i4"
         },
         "x0": " ",
         "xaxis": "x",
         "y": {
          "bdata": "ZDI=",
          "dtype": "i2"
         },
         "y0": " ",
         "yaxis": "y"
        },
        {
         "alignmentgroup": "True",
         "hovertemplate": "area=%{y}<br>price=%{x}<extra></extra>",
         "legendgroup": "3420",
         "marker": {
          "color": "#ab63fa"
         },
         "name": "3420",
         "notched": false,
         "offsetgroup": "3420",
         "orientation": "h",
         "showlegend": true,
         "type": "box",
         "x": {
          "bdata": "SKlKABi9SACgrTkAQOgdAA==",
          "dtype": "i4"
         },
         "x0": " ",
         "xaxis": "x",
         "y": {
          "bdata": "XA1cDVwNXA0=",
          "dtype": "i2"
         },
         "y0": " ",
         "yaxis": "y"
        },
        {
         "alignmentgroup": "True",
         "hovertemplate": "area=%{y}<br>price=%{x}<extra></extra>",
         "legendgroup": "4995",
         "marker": {
          "color": "#FFA15A"
         },
         "name": "4995",
         "notched": false,
         "offsetgroup": "4995",
         "orientation": "h",
         "showlegend": true,
         "type": "box",
         "x": {
          "bdata": "SKlKAA==",
          "dtype": "i4"
         },
         "x0": " ",
         "xaxis": "x",
         "y": {
          "bdata": "gxM=",
          "dtype": "i2"
         },
         "y0": " ",
         "yaxis": "y"
        },
        {
         "alignmentgroup": "True",
         "hovertemplate": "area=%{y}<br>price=%{x}<extra></extra>",
         "legendgroup": "4350",
         "marker": {
          "color": "#19d3f3"
         },
         "name": "4350",
         "notched": false,
         "offsetgroup": "4350",
         "orientation": "h",
         "showlegend": true,
         "type": "box",
         "x": {
          "bdata": "6DtKADhCKwA=",
          "dtype": "i4"
         },
         "x0": " ",
         "xaxis": "x",
         "y": {
          "bdata": "/hD+EA==",
          "dtype": "i2"
         },
         "y0": " ",
         "yaxis": "y"
        },
        {
         "alignmentgroup": "True",
         "hovertemplate": "area=%{y}<br>price=%{x}<extra></extra>",
         "legendgroup": "4160",
         "marker": {
          "color": "#FF6692"
         },
         "name": "4160",
         "notched": false,
         "offsetgroup": "4160",
         "orientation": "h",
         "showlegend": true,
         "type": "box",
         "x": {
          "bdata": "MLNJAOB+RgA=",
          "dtype": "i4"
         },
         "x0": " ",
         "xaxis": "x",
         "y": {
          "bdata": "QBBAEA==",
          "dtype": "i2"
         },
         "y0": " ",
         "yaxis": "y"
        },
        {
         "alignmentgroup": "True",
         "hovertemplate": "area=%{y}<br>price=%{x}<extra></extra>",
         "legendgroup": "6040",
         "marker": {
          "color": "#B6E880"
         },
         "name": "6040",
         "notched": false,
         "offsetgroup": "6040",
         "orientation": "h",
         "showlegend": true,
         "type": "box",
         "x": {
          "bdata": "MLNJAA==",
          "dtype": "i4"
         },
         "x0": " ",
         "xaxis": "x",
         "y": {
          "bdata": "mBc=",
          "dtype": "i2"
         },
         "y0": " ",
         "yaxis": "y"
        },
        {
         "alignmentgroup": "True",
         "hovertemplate": "area=%{y}<br>price=%{x}<extra></extra>",
         "legendgroup": "6862",
         "marker": {
          "color": "#FF97FF"
         },
         "name": "6862",
         "notched": false,
         "offsetgroup": "6862",
         "orientation": "h",
         "showlegend": true,
         "type": "box",
         "x": {
          "bdata": "MLNJAA==",
          "dtype": "i4"
         },
         "x0": " ",
         "xaxis": "x",
         "y": {
          "bdata": "zho=",
          "dtype": "i2"
         },
         "y0": " ",
         "yaxis": "y"
        },
        {
         "alignmentgroup": "True",
         "hovertemplate": "area=%{y}<br>price=%{x}<extra></extra>",
         "legendgroup": "4815",
         "marker": {
          "color": "#FECB52"
         },
         "name": "4815",
         "notched": false,
         "offsetgroup": "4815",
         "orientation": "h",
         "showlegend": true,
         "type": "box",
         "x": {
          "bdata": "MLNJAA==",
          "dtype": "i4"
         },
         "x0": " ",
         "xaxis": "x",
         "y": {
          "bdata": "zxI=",
          "dtype": "i2"
         },
         "y0": " ",
         "yaxis": "y"
        },
        {
         "alignmentgroup": "True",
         "hovertemplate": "area=%{y}<br>price=%{x}<extra></extra>",
         "legendgroup": "9166",
         "marker": {
          "color": "#636efa"
         },
         "name": "9166",
         "notched": false,
         "offsetgroup": "9166",
         "orientation": "h",
         "showlegend": true,
         "type": "box",
         "x": {
          "bdata": "wKFIAA==",
          "dtype": "i4"
         },
         "x0": " ",
         "xaxis": "x",
         "y": {
          "bdata": "ziM=",
          "dtype": "i2"
         },
         "y0": " ",
         "yaxis": "y"
        },
        {
         "alignmentgroup": "True",
         "hovertemplate": "area=%{y}<br>price=%{x}<extra></extra>",
         "legendgroup": "6321",
         "marker": {
          "color": "#EF553B"
         },
         "name": "6321",
         "notched": false,
         "offsetgroup": "6321",
         "orientation": "h",
         "showlegend": true,
         "type": "box",
         "x": {
          "bdata": "wKFIAA==",
          "dtype": "i4"
         },
         "x0": " ",
         "xaxis": "x",
         "y": {
          "bdata": "sRg=",
          "dtype": "i2"
         },
         "y0": " ",
         "yaxis": "y"
        },
        {
         "alignmentgroup": "True",
         "hovertemplate": "area=%{y}<br>price=%{x}<extra></extra>",
         "legendgroup": "10240",
         "marker": {
          "color": "#00cc96"
         },
         "name": "10240",
         "notched": false,
         "offsetgroup": "10240",
         "orientation": "h",
         "showlegend": true,
         "type": "box",
         "x": {
          "bdata": "wKFIAA==",
          "dtype": "i4"
         },
         "x0": " ",
         "xaxis": "x",
         "y": {
          "bdata": "ACg=",
          "dtype": "i2"
         },
         "y0": " ",
         "yaxis": "y"
        },
        {
         "alignmentgroup": "True",
         "hovertemplate": "area=%{y}<br>price=%{x}<extra></extra>",
         "legendgroup": "6440",
         "marker": {
          "color": "#ab63fa"
         },
         "name": "6440",
         "notched": false,
         "offsetgroup": "6440",
         "orientation": "h",
         "showlegend": true,
         "type": "box",
         "x": {
          "bdata": "aIZIAA==",
          "dtype": "i4"
         },
         "x0": " ",
         "xaxis": "x",
         "y": {
          "bdata": "KBk=",
          "dtype": "i2"
         },
         "y0": " ",
         "yaxis": "y"
        },
        {
         "alignmentgroup": "True",
         "hovertemplate": "area=%{y}<br>price=%{x}<extra></extra>",
         "legendgroup": "5170",
         "marker": {
          "color": "#FFA15A"
         },
         "name": "5170",
         "notched": false,
         "offsetgroup": "5170",
         "orientation": "h",
         "showlegend": true,
         "type": "box",
         "x": {
          "bdata": "UJBHAA==",
          "dtype": "i4"
         },
         "x0": " ",
         "xaxis": "x",
         "y": {
          "bdata": "MhQ=",
          "dtype": "i2"
         },
         "y0": " ",
         "yaxis": "y"
        },
        {
         "alignmentgroup": "True",
         "hovertemplate": "area=%{y}<br>price=%{x}<extra></extra>",
         "legendgroup": "3630",
         "marker": {
          "color": "#19d3f3"
         },
         "name": "3630",
         "notched": false,
         "offsetgroup": "3630",
         "orientation": "h",
         "showlegend": true,
         "type": "box",
         "x": {
          "bdata": "UJBHAKhqPQB4EzgAeBM4ANDtLQDwyisAoJYoAA==",
          "dtype": "i4"
         },
         "x0": " ",
         "xaxis": "x",
         "y": {
          "bdata": "Lg4uDi4OLg4uDi4OLg4=",
          "dtype": "i2"
         },
         "y0": " ",
         "yaxis": "y"
        },
        {
         "alignmentgroup": "True",
         "hovertemplate": "area=%{y}<br>price=%{x}<extra></extra>",
         "legendgroup": "9667",
         "marker": {
          "color": "#FF6692"
         },
         "name": "9667",
         "notched": false,
         "offsetgroup": "9667",
         "orientation": "h",
         "showlegend": true,
         "type": "box",
         "x": {
          "bdata": "UJBHAA==",
          "dtype": "i4"
         },
         "x0": " ",
         "xaxis": "x",
         "y": {
          "bdata": "wyU=",
          "dtype": "i2"
         },
         "y0": " ",
         "yaxis": "y"
        },
        {
         "alignmentgroup": "True",
         "hovertemplate": "area=%{y}<br>price=%{x}<extra></extra>",
         "legendgroup": "3745",
         "marker": {
          "color": "#B6E880"
         },
         "name": "3745",
         "notched": false,
         "offsetgroup": "3745",
         "orientation": "h",
         "showlegend": true,
         "type": "box",
         "x": {
          "bdata": "mAdHAA==",
          "dtype": "i4"
         },
         "x0": " ",
         "xaxis": "x",
         "y": {
          "bdata": "oQ4=",
          "dtype": "i2"
         },
         "y0": " ",
         "yaxis": "y"
        },
        {
         "alignmentgroup": "True",
         "hovertemplate": "area=%{y}<br>price=%{x}<extra></extra>",
         "legendgroup": "3880",
         "marker": {
          "color": "#FF97FF"
         },
         "name": "3880",
         "notched": false,
         "offsetgroup": "3880",
         "orientation": "h",
         "showlegend": true,
         "type": "box",
         "x": {
          "bdata": "4H5GAA==",
          "dtype": "i4"
         },
         "x0": " ",
         "xaxis": "x",
         "y": {
          "bdata": "KA8=",
          "dtype": "i2"
         },
         "y0": " ",
         "yaxis": "y"
        },
        {
         "alignmentgroup": "True",
         "hovertemplate": "area=%{y}<br>price=%{x}<extra></extra>",
         "legendgroup": "5680",
         "marker": {
          "color": "#FECB52"
         },
         "name": "5680",
         "notched": false,
         "offsetgroup": "5680",
         "orientation": "h",
         "showlegend": true,
         "type": "box",
         "x": {
          "bdata": "4H5GAA==",
          "dtype": "i4"
         },
         "x0": " ",
         "xaxis": "x",
         "y": {
          "bdata": "MBY=",
          "dtype": "i2"
         },
         "y0": " ",
         "yaxis": "y"
        },
        {
         "alignmentgroup": "True",
         "hovertemplate": "area=%{y}<br>price=%{x}<extra></extra>",
         "legendgroup": "2870",
         "marker": {
          "color": "#636efa"
         },
         "name": "2870",
         "notched": false,
         "offsetgroup": "2870",
         "orientation": "h",
         "showlegend": true,
         "type": "box",
         "x": {
          "bdata": "4H5GAA==",
          "dtype": "i4"
         },
         "x0": " ",
         "xaxis": "x",
         "y": {
          "bdata": "Ngs=",
          "dtype": "i2"
         },
         "y0": " ",
         "yaxis": "y"
        },
        {
         "alignmentgroup": "True",
         "hovertemplate": "area=%{y}<br>price=%{x}<extra></extra>",
         "legendgroup": "5010",
         "marker": {
          "color": "#EF553B"
         },
         "name": "5010",
         "notched": false,
         "offsetgroup": "5010",
         "orientation": "h",
         "showlegend": true,
         "type": "box",
         "x": {
          "bdata": "4H5GAA==",
          "dtype": "i4"
         },
         "x0": " ",
         "xaxis": "x",
         "y": {
          "bdata": "khM=",
          "dtype": "i2"
         },
         "y0": " ",
         "yaxis": "y"
        },
        {
         "alignmentgroup": "True",
         "hovertemplate": "area=%{y}<br>price=%{x}<extra></extra>",
         "legendgroup": "4510",
         "marker": {
          "color": "#00cc96"
         },
         "name": "4510",
         "notched": false,
         "offsetgroup": "4510",
         "orientation": "h",
         "showlegend": true,
         "type": "box",
         "x": {
          "bdata": "iGNGAABcRAA=",
          "dtype": "i4"
         },
         "x0": " ",
         "xaxis": "x",
         "y": {
          "bdata": "nhGeEQ==",
          "dtype": "i2"
         },
         "y0": " ",
         "yaxis": "y"
        },
        {
         "alignmentgroup": "True",
         "hovertemplate": "area=%{y}<br>price=%{x}<extra></extra>",
         "legendgroup": "3840",
         "marker": {
          "color": "#ab63fa"
         },
         "name": "3840",
         "notched": false,
         "offsetgroup": "3840",
         "orientation": "h",
         "showlegend": true,
         "type": "box",
         "x": {
          "bdata": "KPZFAA==",
          "dtype": "i4"
         },
         "x0": " ",
         "xaxis": "x",
         "y": {
          "bdata": "AA8=",
          "dtype": "i2"
         },
         "y0": " ",
         "yaxis": "y"
        },
        {
         "alignmentgroup": "True",
         "hovertemplate": "area=%{y}<br>price=%{x}<extra></extra>",
         "legendgroup": "3640",
         "marker": {
          "color": "#FFA15A"
         },
         "name": "3640",
         "notched": false,
         "offsetgroup": "3640",
         "orientation": "h",
         "showlegend": true,
         "type": "box",
         "x": {
          "bdata": "cG1FAEAWQABQeTYA4Gc1ALjNMwDQWDEAKMgjAA==",
          "dtype": "i4"
         },
         "x0": " ",
         "xaxis": "x",
         "y": {
          "bdata": "OA44DjgOOA44DjgOOA4=",
          "dtype": "i2"
         },
         "y0": " ",
         "yaxis": "y"
        },
        {
         "alignmentgroup": "True",
         "hovertemplate": "area=%{y}<br>price=%{x}<extra></extra>",
         "legendgroup": "2550",
         "marker": {
          "color": "#19d3f3"
         },
         "name": "2550",
         "notched": false,
         "offsetgroup": "2550",
         "orientation": "h",
         "showlegend": true,
         "type": "box",
         "x": {
          "bdata": "cG1FAA==",
          "dtype": "i4"
         },
         "x0": " ",
         "xaxis": "x",
         "y": {
          "bdata": "9gk=",
          "dtype": "i2"
         },
         "y0": " ",
         "yaxis": "y"
        },
        {
         "alignmentgroup": "True",
         "hovertemplate": "area=%{y}<br>price=%{x}<extra></extra>",
         "legendgroup": "5320",
         "marker": {
          "color": "#FF6692"
         },
         "name": "5320",
         "notched": false,
         "offsetgroup": "5320",
         "orientation": "h",
         "showlegend": true,
         "type": "box",
         "x": {
          "bdata": "cG1FACjfNAA=",
          "dtype": "i4"
         },
         "x0": " ",
         "xaxis": "x",
         "y": {
          "bdata": "yBTIFA==",
          "dtype": "i2"
         },
         "y0": " ",
         "yaxis": "y"
        },
        {
         "alignmentgroup": "True",
         "hovertemplate": "area=%{y}<br>price=%{x}<extra></extra>",
         "legendgroup": "5360",
         "marker": {
          "color": "#B6E880"
         },
         "name": "5360",
         "notched": false,
         "offsetgroup": "5360",
         "orientation": "h",
         "showlegend": true,
         "type": "box",
         "x": {
          "bdata": "cG1FAA==",
          "dtype": "i4"
         },
         "x0": " ",
         "xaxis": "x",
         "y": {
          "bdata": "8BQ=",
          "dtype": "i2"
         },
         "y0": " ",
         "yaxis": "y"
        },
        {
         "alignmentgroup": "True",
         "hovertemplate": "area=%{y}<br>price=%{x}<extra></extra>",
         "legendgroup": "3520",
         "marker": {
          "color": "#FF97FF"
         },
         "name": "3520",
         "notched": false,
         "offsetgroup": "3520",
         "orientation": "h",
         "showlegend": true,
         "type": "box",
         "x": {
          "bdata": "cG1FALjkRABAFkAAwIo3AGhvNwA=",
          "dtype": "i4"
         },
         "x0": " ",
         "xaxis": "x",
         "y": {
          "bdata": "wA3ADcANwA3ADQ==",
          "dtype": "i2"
         },
         "y0": " ",
         "yaxis": "y"
        },
        {
         "alignmentgroup": "True",
         "hovertemplate": "area=%{y}<br>price=%{x}<extra></extra>",
         "legendgroup": "4990",
         "marker": {
          "color": "#FECB52"
         },
         "name": "4990",
         "notched": false,
         "offsetgroup": "4990",
         "orientation": "h",
         "showlegend": true,
         "type": "box",
         "x": {
          "bdata": "GFJFAA==",
          "dtype": "i4"
         },
         "x0": " ",
         "xaxis": "x",
         "y": {
          "bdata": "fhM=",
          "dtype": "i2"
         },
         "y0": " ",
         "yaxis": "y"
        },
        {
         "alignmentgroup": "True",
         "hovertemplate": "area=%{y}<br>price=%{x}<extra></extra>",
         "legendgroup": "3510",
         "marker": {
          "color": "#636efa"
         },
         "name": "3510",
         "notched": false,
         "offsetgroup": "3510",
         "orientation": "h",
         "showlegend": true,
         "type": "box",
         "x": {
          "bdata": "uOREAKhARAA=",
          "dtype": "i4"
         },
         "x0": " ",
         "xaxis": "x",
         "y": {
          "bdata": "tg22DQ==",
          "dtype": "i2"
         },
         "y0": " ",
         "yaxis": "y"
        },
        {
         "alignmentgroup": "True",
         "hovertemplate": "area=%{y}<br>price=%{x}<extra></extra>",
         "legendgroup": "3450",
         "marker": {
          "color": "#EF553B"
         },
         "name": "3450",
         "notched": false,
         "offsetgroup": "3450",
         "orientation": "h",
         "showlegend": true,
         "type": "box",
         "x": {
          "bdata": "uOREAOj6PwC4zTMAsBAwALAQMAA=",
          "dtype": "i4"
         },
         "x0": " ",
         "xaxis": "x",
         "y": {
          "bdata": "eg16DXoNeg16DQ==",
          "dtype": "i2"
         },
         "y0": " ",
         "yaxis": "y"
        },
        {
         "alignmentgroup": "True",
         "hovertemplate": "area=%{y}<br>price=%{x}<extra></extra>",
         "legendgroup": "9860",
         "marker": {
          "color": "#00cc96"
         },
         "name": "9860",
         "notched": false,
         "offsetgroup": "9860",
         "orientation": "h",
         "showlegend": true,
         "type": "box",
         "x": {
          "bdata": "uOREAA==",
          "dtype": "i4"
         },
         "x0": " ",
         "xaxis": "x",
         "y": {
          "bdata": "hCY=",
          "dtype": "i2"
         },
         "y0": " ",
         "yaxis": "y"
        },
        {
         "alignmentgroup": "True",
         "hovertemplate": "area=%{y}<br>price=%{x}<extra></extra>",
         "legendgroup": "5885",
         "marker": {
          "color": "#ab63fa"
         },
         "name": "5885",
         "notched": false,
         "offsetgroup": "5885",
         "orientation": "h",
         "showlegend": true,
         "type": "box",
         "x": {
          "bdata": "AFxEAA==",
          "dtype": "i4"
         },
         "x0": " ",
         "xaxis": "x",
         "y": {
          "bdata": "/RY=",
          "dtype": "i2"
         },
         "y0": " ",
         "yaxis": "y"
        },
        {
         "alignmentgroup": "True",
         "hovertemplate": "area=%{y}<br>price=%{x}<extra></extra>",
         "legendgroup": "3162",
         "marker": {
          "color": "#FFA15A"
         },
         "name": "3162",
         "notched": false,
         "offsetgroup": "3162",
         "orientation": "h",
         "showlegend": true,
         "type": "box",
         "x": {
          "bdata": "qEBEAA==",
          "dtype": "i4"
         },
         "x0": " ",
         "xaxis": "x",
         "y": {
          "bdata": "Wgw=",
          "dtype": "i2"
         },
         "y0": " ",
         "yaxis": "y"
        },
        {
         "alignmentgroup": "True",
         "hovertemplate": "area=%{y}<br>price=%{x}<extra></extra>",
         "legendgroup": "3750",
         "marker": {
          "color": "#19d3f3"
         },
         "name": "3750",
         "notched": false,
         "offsetgroup": "3750",
         "orientation": "h",
         "showlegend": true,
         "type": "box",
         "x": {
          "bdata": "SNNDAABFMwDQ7S0A",
          "dtype": "i4"
         },
         "x0": " ",
         "xaxis": "x",
         "y": {
          "bdata": "pg6mDqYO",
          "dtype": "i2"
         },
         "y0": " ",
         "yaxis": "y"
        },
        {
         "alignmentgroup": "True",
         "hovertemplate": "area=%{y}<br>price=%{x}<extra></extra>",
         "legendgroup": "3968",
         "marker": {
          "color": "#FF6692"
         },
         "name": "3968",
         "notched": false,
         "offsetgroup": "3968",
         "orientation": "h",
         "showlegend": true,
         "type": "box",
         "x": {
          "bdata": "kEpDAA==",
          "dtype": "i4"
         },
         "x0": " ",
         "xaxis": "x",
         "y": {
          "bdata": "gA8=",
          "dtype": "i2"
         },
         "y0": " ",
         "yaxis": "y"
        },
        {
         "alignmentgroup": "True",
         "hovertemplate": "area=%{y}<br>price=%{x}<extra></extra>",
         "legendgroup": "4900",
         "marker": {
          "color": "#B6E880"
         },
         "name": "4900",
         "notched": false,
         "offsetgroup": "4900",
         "orientation": "h",
         "showlegend": true,
         "type": "box",
         "x": {
          "bdata": "kEpDAIhMNQA=",
          "dtype": "i4"
         },
         "x0": " ",
         "xaxis": "x",
         "y": {
          "bdata": "JBMkEw==",
          "dtype": "i2"
         },
         "y0": " ",
         "yaxis": "y"
        },
        {
         "alignmentgroup": "True",
         "hovertemplate": "area=%{y}<br>price=%{x}<extra></extra>",
         "legendgroup": "2880",
         "marker": {
          "color": "#FF97FF"
         },
         "name": "2880",
         "notched": false,
         "offsetgroup": "2880",
         "orientation": "h",
         "showlegend": true,
         "type": "box",
         "x": {
          "bdata": "OC9DAMBzJgA=",
          "dtype": "i4"
         },
         "x0": " ",
         "xaxis": "x",
         "y": {
          "bdata": "QAtACw==",
          "dtype": "i2"
         },
         "y0": " ",
         "yaxis": "y"
        },
        {
         "alignmentgroup": "True",
         "hovertemplate": "area=%{y}<br>price=%{x}<extra></extra>",
         "legendgroup": "4920",
         "marker": {
          "color": "#FECB52"
         },
         "name": "4920",
         "notched": false,
         "offsetgroup": "4920",
         "orientation": "h",
         "showlegend": true,
         "type": "box",
         "x": {
          "bdata": "OC9DAA==",
          "dtype": "i4"
         },
         "x0": " ",
         "xaxis": "x",
         "y": {
          "bdata": "OBM=",
          "dtype": "i2"
         },
         "y0": " ",
         "yaxis": "y"
        },
        {
         "alignmentgroup": "True",
         "hovertemplate": "area=%{y}<br>price=%{x}<extra></extra>",
         "legendgroup": "4950",
         "marker": {
          "color": "#636efa"
         },
         "name": "4950",
         "notched": false,
         "offsetgroup": "4950",
         "orientation": "h",
         "showlegend": true,
         "type": "box",
         "x": {
          "bdata": "MN1CAA==",
          "dtype": "i4"
         },
         "x0": " ",
         "xaxis": "x",
         "y": {
          "bdata": "VhM=",
          "dtype": "i2"
         },
         "y0": " ",
         "yaxis": "y"
        },
        {
         "alignmentgroup": "True",
         "hovertemplate": "area=%{y}<br>price=%{x}<extra></extra>",
         "legendgroup": "3900",
         "marker": {
          "color": "#EF553B"
         },
         "name": "3900",
         "notched": false,
         "offsetgroup": "3900",
         "orientation": "h",
         "showlegend": true,
         "type": "box",
         "x": {
          "bdata": "2MFCAA==",
          "dtype": "i4"
         },
         "x0": " ",
         "xaxis": "x",
         "y": {
          "bdata": "PA8=",
          "dtype": "i2"
         },
         "y0": " ",
         "yaxis": "y"
        },
        {
         "alignmentgroup": "True",
         "hovertemplate": "area=%{y}<br>price=%{x}<extra></extra>",
         "legendgroup": "1905",
         "marker": {
          "color": "#00cc96"
         },
         "name": "1905",
         "notched": false,
         "offsetgroup": "1905",
         "orientation": "h",
         "showlegend": true,
         "type": "box",
         "x": {
          "bdata": "IDlCAA==",
          "dtype": "i4"
         },
         "x0": " ",
         "xaxis": "x",
         "y": {
          "bdata": "cQc=",
          "dtype": "i2"
         },
         "y0": " ",
         "yaxis": "y"
        },
        {
         "alignmentgroup": "True",
         "hovertemplate": "area=%{y}<br>price=%{x}<extra></extra>",
         "legendgroup": "4075",
         "marker": {
          "color": "#ab63fa"
         },
         "name": "4075",
         "notched": false,
         "offsetgroup": "4075",
         "orientation": "h",
         "showlegend": true,
         "type": "box",
         "x": {
          "bdata": "IDlCAA==",
          "dtype": "i4"
         },
         "x0": " ",
         "xaxis": "x",
         "y": {
          "bdata": "6w8=",
          "dtype": "i2"
         },
         "y0": " ",
         "yaxis": "y"
        },
        {
         "alignmentgroup": "True",
         "hovertemplate": "area=%{y}<br>price=%{x}<extra></extra>",
         "legendgroup": "4032",
         "marker": {
          "color": "#FFA15A"
         },
         "name": "4032",
         "notched": false,
         "offsetgroup": "4032",
         "orientation": "h",
         "showlegend": true,
         "type": "box",
         "x": {
          "bdata": "GOdBAA==",
          "dtype": "i4"
         },
         "x0": " ",
         "xaxis": "x",
         "y": {
          "bdata": "wA8=",
          "dtype": "i2"
         },
         "y0": " ",
         "yaxis": "y"
        },
        {
         "alignmentgroup": "True",
         "hovertemplate": "area=%{y}<br>price=%{x}<extra></extra>",
         "legendgroup": "10360",
         "marker": {
          "color": "#19d3f3"
         },
         "name": "10360",
         "notched": false,
         "offsetgroup": "10360",
         "orientation": "h",
         "showlegend": true,
         "type": "box",
         "x": {
          "bdata": "aLBBAA==",
          "dtype": "i4"
         },
         "x0": " ",
         "xaxis": "x",
         "y": {
          "bdata": "eCg=",
          "dtype": "i2"
         },
         "y0": " ",
         "yaxis": "y"
        },
        {
         "alignmentgroup": "True",
         "hovertemplate": "area=%{y}<br>price=%{x}<extra></extra>",
         "legendgroup": "3400",
         "marker": {
          "color": "#FF6692"
         },
         "name": "3400",
         "notched": false,
         "offsetgroup": "3400",
         "orientation": "h",
         "showlegend": true,
         "type": "box",
         "x": {
          "bdata": "CENBAA==",
          "dtype": "i4"
         },
         "x0": " ",
         "xaxis": "x",
         "y": {
          "bdata": "SA0=",
          "dtype": "i2"
         },
         "y0": " ",
         "yaxis": "y"
        },
        {
         "alignmentgroup": "True",
         "hovertemplate": "area=%{y}<br>price=%{x}<extra></extra>",
         "legendgroup": "2175",
         "marker": {
          "color": "#B6E880"
         },
         "name": "2175",
         "notched": false,
         "offsetgroup": "2175",
         "orientation": "h",
         "showlegend": true,
         "type": "box",
         "x": {
          "bdata": "sCdBAA==",
          "dtype": "i4"
         },
         "x0": " ",
         "xaxis": "x",
         "y": {
          "bdata": "fwg=",
          "dtype": "i2"
         },
         "y0": " ",
         "yaxis": "y"
        },
        {
         "alignmentgroup": "True",
         "hovertemplate": "area=%{y}<br>price=%{x}<extra></extra>",
         "legendgroup": "4360",
         "marker": {
          "color": "#FF97FF"
         },
         "name": "4360",
         "notched": false,
         "offsetgroup": "4360",
         "orientation": "h",
         "showlegend": true,
         "type": "box",
         "x": {
          "bdata": "sCdBAA==",
          "dtype": "i4"
         },
         "x0": " ",
         "xaxis": "x",
         "y": {
          "bdata": "CBE=",
          "dtype": "i2"
         },
         "y0": " ",
         "yaxis": "y"
        },
        {
         "alignmentgroup": "True",
         "hovertemplate": "area=%{y}<br>price=%{x}<extra></extra>",
         "legendgroup": "7770",
         "marker": {
          "color": "#FECB52"
         },
         "name": "7770",
         "notched": false,
         "offsetgroup": "7770",
         "orientation": "h",
         "showlegend": true,
         "type": "box",
         "x": {
          "bdata": "sCdBAA==",
          "dtype": "i4"
         },
         "x0": " ",
         "xaxis": "x",
         "y": {
          "bdata": "Wh4=",
          "dtype": "i2"
         },
         "y0": " ",
         "yaxis": "y"
        },
        {
         "alignmentgroup": "True",
         "hovertemplate": "area=%{y}<br>price=%{x}<extra></extra>",
         "legendgroup": "6650",
         "marker": {
          "color": "#636efa"
         },
         "name": "6650",
         "notched": false,
         "offsetgroup": "6650",
         "orientation": "h",
         "showlegend": true,
         "type": "box",
         "x": {
          "bdata": "+J5AAA==",
          "dtype": "i4"
         },
         "x0": " ",
         "xaxis": "x",
         "y": {
          "bdata": "+hk=",
          "dtype": "i2"
         },
         "y0": " ",
         "yaxis": "y"
        },
        {
         "alignmentgroup": "True",
         "hovertemplate": "area=%{y}<br>price=%{x}<extra></extra>",
         "legendgroup": "2787",
         "marker": {
          "color": "#EF553B"
         },
         "name": "2787",
         "notched": false,
         "offsetgroup": "2787",
         "orientation": "h",
         "showlegend": true,
         "type": "box",
         "x": {
          "bdata": "+J5AAOBQJAA=",
          "dtype": "i4"
         },
         "x0": " ",
         "xaxis": "x",
         "y": {
          "bdata": "4wrjCg==",
          "dtype": "i2"
         },
         "y0": " ",
         "yaxis": "y"
        },
        {
         "alignmentgroup": "True",
         "hovertemplate": "area=%{y}<br>price=%{x}<extra></extra>",
         "legendgroup": "5040",
         "marker": {
          "color": "#00cc96"
         },
         "name": "5040",
         "notched": false,
         "offsetgroup": "5040",
         "orientation": "h",
         "showlegend": true,
         "type": "box",
         "x": {
          "bdata": "QBZAAA==",
          "dtype": "i4"
         },
         "x0": " ",
         "xaxis": "x",
         "y": {
          "bdata": "sBM=",
          "dtype": "i2"
         },
         "y0": " ",
         "yaxis": "y"
        },
        {
         "alignmentgroup": "True",
         "hovertemplate": "area=%{y}<br>price=%{x}<extra></extra>",
         "legendgroup": "5850",
         "marker": {
          "color": "#ab63fa"
         },
         "name": "5850",
         "notched": false,
         "offsetgroup": "5850",
         "orientation": "h",
         "showlegend": true,
         "type": "box",
         "x": {
          "bdata": "QBZAAGDcLAA=",
          "dtype": "i4"
         },
         "x0": " ",
         "xaxis": "x",
         "y": {
          "bdata": "2hbaFg==",
          "dtype": "i2"
         },
         "y0": " ",
         "yaxis": "y"
        },
        {
         "alignmentgroup": "True",
         "hovertemplate": "area=%{y}<br>price=%{x}<extra></extra>",
         "legendgroup": "2610",
         "marker": {
          "color": "#FFA15A"
         },
         "name": "2610",
         "notched": false,
         "offsetgroup": "2610",
         "orientation": "h",
         "showlegend": true,
         "type": "box",
         "x": {
          "bdata": "QBZAAHBWNAA=",
          "dtype": "i4"
         },
         "x0": " ",
         "xaxis": "x",
         "y": {
          "bdata": "MgoyCg==",
          "dtype": "i2"
         },
         "y0": " ",
         "yaxis": "y"
        },
        {
         "alignmentgroup": "True",
         "hovertemplate": "area=%{y}<br>price=%{x}<extra></extra>",
         "legendgroup": "2953",
         "marker": {
          "color": "#19d3f3"
         },
         "name": "2953",
         "notched": false,
         "offsetgroup": "2953",
         "orientation": "h",
         "showlegend": true,
         "type": "box",
         "x": {
          "bdata": "QBZAAA==",
          "dtype": "i4"
         },
         "x0": " ",
         "xaxis": "x",
         "y": {
          "bdata": "iQs=",
          "dtype": "i2"
         },
         "y0": " ",
         "yaxis": "y"
        },
        {
         "alignmentgroup": "True",
         "hovertemplate": "area=%{y}<br>price=%{x}<extra></extra>",
         "legendgroup": "2747",
         "marker": {
          "color": "#FF6692"
         },
         "name": "2747",
         "notched": false,
         "offsetgroup": "2747",
         "orientation": "h",
         "showlegend": true,
         "type": "box",
         "x": {
          "bdata": "QBZAAA==",
          "dtype": "i4"
         },
         "x0": " ",
         "xaxis": "x",
         "y": {
          "bdata": "uwo=",
          "dtype": "i2"
         },
         "y0": " ",
         "yaxis": "y"
        },
        {
         "alignmentgroup": "True",
         "hovertemplate": "area=%{y}<br>price=%{x}<extra></extra>",
         "legendgroup": "2325",
         "marker": {
          "color": "#B6E880"
         },
         "name": "2325",
         "notched": false,
         "offsetgroup": "2325",
         "orientation": "h",
         "showlegend": true,
         "type": "box",
         "x": {
          "bdata": "QBZAAA==",
          "dtype": "i4"
         },
         "x0": " ",
         "xaxis": "x",
         "y": {
          "bdata": "FQk=",
          "dtype": "i2"
         },
         "y0": " ",
         "yaxis": "y"
        },
        {
         "alignmentgroup": "True",
         "hovertemplate": "area=%{y}<br>price=%{x}<extra></extra>",
         "legendgroup": "4079",
         "marker": {
          "color": "#FF97FF"
         },
         "name": "4079",
         "notched": false,
         "offsetgroup": "4079",
         "orientation": "h",
         "showlegend": true,
         "type": "box",
         "x": {
          "bdata": "QBZAAA==",
          "dtype": "i4"
         },
         "x0": " ",
         "xaxis": "x",
         "y": {
          "bdata": "7w8=",
          "dtype": "i2"
         },
         "y0": " ",
         "yaxis": "y"
        },
        {
         "alignmentgroup": "True",
         "hovertemplate": "area=%{y}<br>price=%{x}<extra></extra>",
         "legendgroup": "2145",
         "marker": {
          "color": "#FECB52"
         },
         "name": "2145",
         "notched": false,
         "offsetgroup": "2145",
         "orientation": "h",
         "showlegend": true,
         "type": "box",
         "x": {
          "bdata": "QBZAAIDQOwAo3zQAcFY0AKDXMgCQMzIA",
          "dtype": "i4"
         },
         "x0": " ",
         "xaxis": "x",
         "y": {
          "bdata": "YQhhCGEIYQhhCGEI",
          "dtype": "i2"
         },
         "y0": " ",
         "yaxis": "y"
        },
        {
         "alignmentgroup": "True",
         "hovertemplate": "area=%{y}<br>price=%{x}<extra></extra>",
         "legendgroup": "4840",
         "marker": {
          "color": "#636efa"
         },
         "name": "4840",
         "notched": false,
         "offsetgroup": "4840",
         "orientation": "h",
         "showlegend": true,
         "type": "box",
         "x": {
          "bdata": "iI0/AFBiJQA=",
          "dtype": "i4"
         },
         "x0": " ",
         "xaxis": "x",
         "y": {
          "bdata": "6BLoEg==",
          "dtype": "i2"
         },
         "y0": " ",
         "yaxis": "y"
        },
        {
         "alignmentgroup": "True",
         "hovertemplate": "area=%{y}<br>price=%{x}<extra></extra>",
         "legendgroup": "4080",
         "marker": {
          "color": "#EF553B"
         },
         "name": "4080",
         "notched": false,
         "offsetgroup": "4080",
         "orientation": "h",
         "showlegend": true,
         "type": "box",
         "x": {
          "bdata": "iI0/ABC/OgA=",
          "dtype": "i4"
         },
         "x0": " ",
         "xaxis": "x",
         "y": {
          "bdata": "8A/wDw==",
          "dtype": "i2"
         },
         "y0": " ",
         "yaxis": "y"
        },
        {
         "alignmentgroup": "True",
         "hovertemplate": "area=%{y}<br>price=%{x}<extra></extra>",
         "legendgroup": "4046",
         "marker": {
          "color": "#00cc96"
         },
         "name": "4046",
         "notched": false,
         "offsetgroup": "4046",
         "orientation": "h",
         "showlegend": true,
         "type": "box",
         "x": {
          "bdata": "iI0/AA==",
          "dtype": "i4"
         },
         "x0": " ",
         "xaxis": "x",
         "y": {
          "bdata": "zg8=",
          "dtype": "i2"
         },
         "y0": " ",
         "yaxis": "y"
        },
        {
         "alignmentgroup": "True",
         "hovertemplate": "area=%{y}<br>price=%{x}<extra></extra>",
         "legendgroup": "4632",
         "marker": {
          "color": "#ab63fa"
         },
         "name": "4632",
         "notched": false,
         "offsetgroup": "4632",
         "orientation": "h",
         "showlegend": true,
         "type": "box",
         "x": {
          "bdata": "0AQ/AA==",
          "dtype": "i4"
         },
         "x0": " ",
         "xaxis": "x",
         "y": {
          "bdata": "GBI=",
          "dtype": "i2"
         },
         "y0": " ",
         "yaxis": "y"
        },
        {
         "alignmentgroup": "True",
         "hovertemplate": "area=%{y}<br>price=%{x}<extra></extra>",
         "legendgroup": "5985",
         "marker": {
          "color": "#FFA15A"
         },
         "name": "5985",
         "notched": false,
         "offsetgroup": "5985",
         "orientation": "h",
         "showlegend": true,
         "type": "box",
         "x": {
          "bdata": "0AQ/AA==",
          "dtype": "i4"
         },
         "x0": " ",
         "xaxis": "x",
         "y": {
          "bdata": "YRc=",
          "dtype": "i2"
         },
         "y0": " ",
         "yaxis": "y"
        },
        {
         "alignmentgroup": "True",
         "hovertemplate": "area=%{y}<br>price=%{x}<extra></extra>",
         "legendgroup": "6060",
         "marker": {
          "color": "#19d3f3"
         },
         "name": "6060",
         "notched": false,
         "offsetgroup": "6060",
         "orientation": "h",
         "showlegend": true,
         "type": "box",
         "x": {
          "bdata": "eOk+AJAzMgA=",
          "dtype": "i4"
         },
         "x0": " ",
         "xaxis": "x",
         "y": {
          "bdata": "rBesFw==",
          "dtype": "i2"
         },
         "y0": " ",
         "yaxis": "y"
        },
        {
         "alignmentgroup": "True",
         "hovertemplate": "area=%{y}<br>price=%{x}<extra></extra>",
         "legendgroup": "3600",
         "marker": {
          "color": "#FF6692"
         },
         "name": "3600",
         "notched": false,
         "offsetgroup": "3600",
         "orientation": "h",
         "showlegend": true,
         "type": "box",
         "x": {
          "bdata": "xIk+AKCtOQAwnDgAeBM4AOBnNQBg3CwAMIUnADCFJwA=",
          "dtype": "i4"
         },
         "x0": " ",
         "xaxis": "x",
         "y": {
          "bdata": "EA4QDhAOEA4QDhAOEA4QDg==",
          "dtype": "i2"
         },
         "y0": " ",
         "yaxis": "y"
        },
        {
         "alignmentgroup": "True",
         "hovertemplate": "area=%{y}<br>price=%{x}<extra></extra>",
         "legendgroup": "3680",
         "marker": {
          "color": "#B6E880"
         },
         "name": "3680",
         "notched": false,
         "offsetgroup": "3680",
         "orientation": "h",
         "showlegend": true,
         "type": "box",
         "x": {
          "bdata": "GHw+AA==",
          "dtype": "i4"
         },
         "x0": " ",
         "xaxis": "x",
         "y": {
          "bdata": "YA4=",
          "dtype": "i2"
         },
         "y0": " ",
         "yaxis": "y"
        },
        {
         "alignmentgroup": "True",
         "hovertemplate": "area=%{y}<br>price=%{x}<extra></extra>",
         "legendgroup": "5600",
         "marker": {
          "color": "#FF97FF"
         },
         "name": "5600",
         "notched": false,
         "offsetgroup": "5600",
         "orientation": "h",
         "showlegend": true,
         "type": "box",
         "x": {
          "bdata": "GHw+AA==",
          "dtype": "i4"
         },
         "x0": " ",
         "xaxis": "x",
         "y": {
          "bdata": "4BU=",
          "dtype": "i2"
         },
         "y0": " ",
         "yaxis": "y"
        },
        {
         "alignmentgroup": "True",
         "hovertemplate": "area=%{y}<br>price=%{x}<extra></extra>",
         "legendgroup": "5900",
         "marker": {
          "color": "#FECB52"
         },
         "name": "5900",
         "notched": false,
         "offsetgroup": "5900",
         "orientation": "h",
         "showlegend": true,
         "type": "box",
         "x": {
          "bdata": "YPM9AOBnNQA=",
          "dtype": "i4"
         },
         "x0": " ",
         "xaxis": "x",
         "y": {
          "bdata": "DBcMFw==",
          "dtype": "i2"
         },
         "y0": " ",
         "yaxis": "y"
        },
        {
         "alignmentgroup": "True",
         "hovertemplate": "area=%{y}<br>price=%{x}<extra></extra>",
         "legendgroup": "4992",
         "marker": {
          "color": "#636efa"
         },
         "name": "4992",
         "notched": false,
         "offsetgroup": "4992",
         "orientation": "h",
         "showlegend": true,
         "type": "box",
         "x": {
          "bdata": "YPM9AA==",
          "dtype": "i4"
         },
         "x0": " ",
         "xaxis": "x",
         "y": {
          "bdata": "gBM=",
          "dtype": "i2"
         },
         "y0": " ",
         "yaxis": "y"
        },
        {
         "alignmentgroup": "True",
         "hovertemplate": "area=%{y}<br>price=%{x}<extra></extra>",
         "legendgroup": "4340",
         "marker": {
          "color": "#EF553B"
         },
         "name": "4340",
         "notched": false,
         "offsetgroup": "4340",
         "orientation": "h",
         "showlegend": true,
         "type": "box",
         "x": {
          "bdata": "YPM9AA==",
          "dtype": "i4"
         },
         "x0": " ",
         "xaxis": "x",
         "y": {
          "bdata": "9BA=",
          "dtype": "i2"
         },
         "y0": " ",
         "yaxis": "y"
        },
        {
         "alignmentgroup": "True",
         "hovertemplate": "area=%{y}<br>price=%{x}<extra></extra>",
         "legendgroup": "3460",
         "marker": {
          "color": "#00cc96"
         },
         "name": "3460",
         "notched": false,
         "offsetgroup": "3460",
         "orientation": "h",
         "showlegend": true,
         "type": "box",
         "x": {
          "bdata": "qGo9AEwmPQA=",
          "dtype": "i4"
         },
         "x0": " ",
         "xaxis": "x",
         "y": {
          "bdata": "hA2EDQ==",
          "dtype": "i2"
         },
         "y0": " ",
         "yaxis": "y"
        },
        {
         "alignmentgroup": "True",
         "hovertemplate": "area=%{y}<br>price=%{x}<extra></extra>",
         "legendgroup": "4050",
         "marker": {
          "color": "#ab63fa"
         },
         "name": "4050",
         "notched": false,
         "offsetgroup": "4050",
         "orientation": "h",
         "showlegend": true,
         "type": "box",
         "x": {
          "bdata": "8OE8ADCcOAA=",
          "dtype": "i4"
         },
         "x0": " ",
         "xaxis": "x",
         "y": {
          "bdata": "0g/SDw==",
          "dtype": "i2"
         },
         "y0": " ",
         "yaxis": "y"
        },
        {
         "alignmentgroup": "True",
         "hovertemplate": "area=%{y}<br>price=%{x}<extra></extra>",
         "legendgroup": "7260",
         "marker": {
          "color": "#FFA15A"
         },
         "name": "7260",
         "notched": false,
         "offsetgroup": "7260",
         "orientation": "h",
         "showlegend": true,
         "type": "box",
         "x": {
          "bdata": "gNA7AA==",
          "dtype": "i4"
         },
         "x0": " ",
         "xaxis": "x",
         "y": {
          "bdata": "XBw=",
          "dtype": "i2"
         },
         "y0": " ",
         "yaxis": "y"
        },
        {
         "alignmentgroup": "True",
         "hovertemplate": "area=%{y}<br>price=%{x}<extra></extra>",
         "legendgroup": "3290",
         "marker": {
          "color": "#19d3f3"
         },
         "name": "3290",
         "notched": false,
         "offsetgroup": "3290",
         "orientation": "h",
         "showlegend": true,
         "type": "box",
         "x": {
          "bdata": "gNA7AA==",
          "dtype": "i4"
         },
         "x0": " ",
         "xaxis": "x",
         "y": {
          "bdata": "2gw=",
          "dtype": "i2"
         },
         "y0": " ",
         "yaxis": "y"
        },
        {
         "alignmentgroup": "True",
         "hovertemplate": "area=%{y}<br>price=%{x}<extra></extra>",
         "legendgroup": "3816",
         "marker": {
          "color": "#FF6692"
         },
         "name": "3816",
         "notched": false,
         "offsetgroup": "3816",
         "orientation": "h",
         "showlegend": true,
         "type": "box",
         "x": {
          "bdata": "gNA7AA==",
          "dtype": "i4"
         },
         "x0": " ",
         "xaxis": "x",
         "y": {
          "bdata": "6A4=",
          "dtype": "i2"
         },
         "y0": " ",
         "yaxis": "y"
        },
        {
         "alignmentgroup": "True",
         "hovertemplate": "area=%{y}<br>price=%{x}<extra></extra>",
         "legendgroup": "8080",
         "marker": {
          "color": "#B6E880"
         },
         "name": "8080",
         "notched": false,
         "offsetgroup": "8080",
         "orientation": "h",
         "showlegend": true,
         "type": "box",
         "x": {
          "bdata": "gNA7AA==",
          "dtype": "i4"
         },
         "x0": " ",
         "xaxis": "x",
         "y": {
          "bdata": "kB8=",
          "dtype": "i2"
         },
         "y0": " ",
         "yaxis": "y"
        },
        {
         "alignmentgroup": "True",
         "hovertemplate": "area=%{y}<br>price=%{x}<extra></extra>",
         "legendgroup": "3780",
         "marker": {
          "color": "#FF97FF"
         },
         "name": "3780",
         "notched": false,
         "offsetgroup": "3780",
         "orientation": "h",
         "showlegend": true,
         "type": "box",
         "x": {
          "bdata": "yEc7AA==",
          "dtype": "i4"
         },
         "x0": " ",
         "xaxis": "x",
         "y": {
          "bdata": "xA4=",
          "dtype": "i2"
         },
         "y0": " ",
         "yaxis": "y"
        },
        {
         "alignmentgroup": "True",
         "hovertemplate": "area=%{y}<br>price=%{x}<extra></extra>",
         "legendgroup": "7152",
         "marker": {
          "color": "#FECB52"
         },
         "name": "7152",
         "notched": false,
         "offsetgroup": "7152",
         "orientation": "h",
         "showlegend": true,
         "type": "box",
         "x": {
          "bdata": "EL86AA==",
          "dtype": "i4"
         },
         "x0": " ",
         "xaxis": "x",
         "y": {
          "bdata": "8Bs=",
          "dtype": "i2"
         },
         "y0": " ",
         "yaxis": "y"
        },
        {
         "alignmentgroup": "True",
         "hovertemplate": "area=%{y}<br>price=%{x}<extra></extra>",
         "legendgroup": "3850",
         "marker": {
          "color": "#636efa"
         },
         "name": "3850",
         "notched": false,
         "offsetgroup": "3850",
         "orientation": "h",
         "showlegend": true,
         "type": "box",
         "x": {
          "bdata": "EL86AJjwNQBwVjQA+IcvAPCzGgA=",
          "dtype": "i4"
         },
         "x0": " ",
         "xaxis": "x",
         "y": {
          "bdata": "Cg8KDwoPCg8KDw==",
          "dtype": "i2"
         },
         "y0": " ",
         "yaxis": "y"
        },
        {
         "alignmentgroup": "True",
         "hovertemplate": "area=%{y}<br>price=%{x}<extra></extra>",
         "legendgroup": "2015",
         "marker": {
          "color": "#EF553B"
         },
         "name": "2015",
         "notched": false,
         "offsetgroup": "2015",
         "orientation": "h",
         "showlegend": true,
         "type": "box",
         "x": {
          "bdata": "EL86AA==",
          "dtype": "i4"
         },
         "x0": " ",
         "xaxis": "x",
         "y": {
          "bdata": "3wc=",
          "dtype": "i2"
         },
         "y0": " ",
         "yaxis": "y"
        },
        {
         "alignmentgroup": "True",
         "hovertemplate": "area=%{y}<br>price=%{x}<extra></extra>",
         "legendgroup": "2176",
         "marker": {
          "color": "#00cc96"
         },
         "name": "2176",
         "notched": false,
         "offsetgroup": "2176",
         "orientation": "h",
         "showlegend": true,
         "type": "box",
         "x": {
          "bdata": "EL86AA==",
          "dtype": "i4"
         },
         "x0": " ",
         "xaxis": "x",
         "y": {
          "bdata": "gAg=",
          "dtype": "i2"
         },
         "y0": " ",
         "yaxis": "y"
        },
        {
         "alignmentgroup": "True",
         "hovertemplate": "area=%{y}<br>price=%{x}<extra></extra>",
         "legendgroup": "3350",
         "marker": {
          "color": "#ab63fa"
         },
         "name": "3350",
         "notched": false,
         "offsetgroup": "3350",
         "orientation": "h",
         "showlegend": true,
         "type": "box",
         "x": {
          "bdata": "YIg6AA==",
          "dtype": "i4"
         },
         "x0": " ",
         "xaxis": "x",
         "y": {
          "bdata": "Fg0=",
          "dtype": "i2"
         },
         "y0": " ",
         "yaxis": "y"
        },
        {
         "alignmentgroup": "True",
         "hovertemplate": "area=%{y}<br>price=%{x}<extra></extra>",
         "legendgroup": "4820",
         "marker": {
          "color": "#FFA15A"
         },
         "name": "4820",
         "notched": false,
         "offsetgroup": "4820",
         "orientation": "h",
         "showlegend": true,
         "type": "box",
         "x": {
          "bdata": "oK05AA==",
          "dtype": "i4"
         },
         "x0": " ",
         "xaxis": "x",
         "y": {
          "bdata": "1BI=",
          "dtype": "i2"
         },
         "y0": " ",
         "yaxis": "y"
        },
        {
         "alignmentgroup": "True",
         "hovertemplate": "area=%{y}<br>price=%{x}<extra></extra>",
         "legendgroup": "5830",
         "marker": {
          "color": "#19d3f3"
         },
         "name": "5830",
         "notched": false,
         "offsetgroup": "5830",
         "orientation": "h",
         "showlegend": true,
         "type": "box",
         "x": {
          "bdata": "oK05AA==",
          "dtype": "i4"
         },
         "x0": " ",
         "xaxis": "x",
         "y": {
          "bdata": "xhY=",
          "dtype": "i2"
         },
         "y0": " ",
         "yaxis": "y"
        },
        {
         "alignmentgroup": "True",
         "hovertemplate": "area=%{y}<br>price=%{x}<extra></extra>",
         "legendgroup": "2856",
         "marker": {
          "color": "#FF6692"
         },
         "name": "2856",
         "notched": false,
         "offsetgroup": "2856",
         "orientation": "h",
         "showlegend": true,
         "type": "box",
         "x": {
          "bdata": "oK05AA==",
          "dtype": "i4"
         },
         "x0": " ",
         "xaxis": "x",
         "y": {
          "bdata": "KAs=",
          "dtype": "i2"
         },
         "y0": " ",
         "yaxis": "y"
        },
        {
         "alignmentgroup": "True",
         "hovertemplate": "area=%{y}<br>price=%{x}<extra></extra>",
         "legendgroup": "2520",
         "marker": {
          "color": "#B6E880"
         },
         "name": "2520",
         "notched": false,
         "offsetgroup": "2520",
         "orientation": "h",
         "showlegend": true,
         "type": "box",
         "x": {
          "bdata": "SJI5AA==",
          "dtype": "i4"
         },
         "x0": " ",
         "xaxis": "x",
         "y": {
          "bdata": "2Ak=",
          "dtype": "i2"
         },
         "y0": " ",
         "yaxis": "y"
        },
        {
         "alignmentgroup": "True",
         "hovertemplate": "area=%{y}<br>price=%{x}<extra></extra>",
         "legendgroup": "6930",
         "marker": {
          "color": "#FF97FF"
         },
         "name": "6930",
         "notched": false,
         "offsetgroup": "6930",
         "orientation": "h",
         "showlegend": true,
         "type": "box",
         "x": {
          "bdata": "SJI5AA==",
          "dtype": "i4"
         },
         "x0": " ",
         "xaxis": "x",
         "y": {
          "bdata": "Ehs=",
          "dtype": "i2"
         },
         "y0": " ",
         "yaxis": "y"
        },
        {
         "alignmentgroup": "True",
         "hovertemplate": "area=%{y}<br>price=%{x}<extra></extra>",
         "legendgroup": "3480",
         "marker": {
          "color": "#FECB52"
         },
         "name": "3480",
         "notched": false,
         "offsetgroup": "3480",
         "orientation": "h",
         "showlegend": true,
         "type": "box",
         "x": {
          "bdata": "6CQ5AOBnNQCQMzIAYNwsAKCWKAA=",
          "dtype": "i4"
         },
         "x0": " ",
         "xaxis": "x",
         "y": {
          "bdata": "mA2YDZgNmA2YDQ==",
          "dtype": "i2"
         },
         "y0": " ",
         "yaxis": "y"
        },
        {
         "alignmentgroup": "True",
         "hovertemplate": "area=%{y}<br>price=%{x}<extra></extra>",
         "legendgroup": "6020",
         "marker": {
          "color": "#636efa"
         },
         "name": "6020",
         "notched": false,
         "offsetgroup": "6020",
         "orientation": "h",
         "showlegend": true,
         "type": "box",
         "x": {
          "bdata": "MJw4AA==",
          "dtype": "i4"
         },
         "x0": " ",
         "xaxis": "x",
         "y": {
          "bdata": "hBc=",
          "dtype": "i2"
         },
         "y0": " ",
         "yaxis": "y"
        },
        {
         "alignmentgroup": "True",
         "hovertemplate": "area=%{y}<br>price=%{x}<extra></extra>",
         "legendgroup": "3584",
         "marker": {
          "color": "#EF553B"
         },
         "name": "3584",
         "notched": false,
         "offsetgroup": "3584",
         "orientation": "h",
         "showlegend": true,
         "type": "box",
         "x": {
          "bdata": "MJw4AA==",
          "dtype": "i4"
         },
         "x0": " ",
         "xaxis": "x",
         "y": {
          "bdata": "AA4=",
          "dtype": "i2"
         },
         "y0": " ",
         "yaxis": "y"
        },
        {
         "alignmentgroup": "True",
         "hovertemplate": "area=%{y}<br>price=%{x}<extra></extra>",
         "legendgroup": "3120",
         "marker": {
          "color": "#00cc96"
         },
         "name": "3120",
         "notched": false,
         "offsetgroup": "3120",
         "orientation": "h",
         "showlegend": true,
         "type": "box",
         "x": {
          "bdata": "2IA4AOBnNQAgIjEA",
          "dtype": "i4"
         },
         "x0": " ",
         "xaxis": "x",
         "y": {
          "bdata": "MAwwDDAM",
          "dtype": "i2"
         },
         "y0": " ",
         "yaxis": "y"
        },
        {
         "alignmentgroup": "True",
         "hovertemplate": "area=%{y}<br>price=%{x}<extra></extra>",
         "legendgroup": "5640",
         "marker": {
          "color": "#ab63fa"
         },
         "name": "5640",
         "notched": false,
         "offsetgroup": "5640",
         "orientation": "h",
         "showlegend": true,
         "type": "box",
         "x": {
          "bdata": "eBM4AA==",
          "dtype": "i4"
         },
         "x0": " ",
         "xaxis": "x",
         "y": {
          "bdata": "CBY=",
          "dtype": "i2"
         },
         "y0": " ",
         "yaxis": "y"
        },
        {
         "alignmentgroup": "True",
         "hovertemplate": "area=%{y}<br>price=%{x}<extra></extra>",
         "legendgroup": "4280",
         "marker": {
          "color": "#FFA15A"
         },
         "name": "4280",
         "notched": false,
         "offsetgroup": "4280",
         "orientation": "h",
         "showlegend": true,
         "type": "box",
         "x": {
          "bdata": "wIo3AA==",
          "dtype": "i4"
         },
         "x0": " ",
         "xaxis": "x",
         "y": {
          "bdata": "uBA=",
          "dtype": "i2"
         },
         "y0": " ",
         "yaxis": "y"
        },
        {
         "alignmentgroup": "True",
         "hovertemplate": "area=%{y}<br>price=%{x}<extra></extra>",
         "legendgroup": "3570",
         "marker": {
          "color": "#19d3f3"
         },
         "name": "3570",
         "notched": false,
         "offsetgroup": "3570",
         "orientation": "h",
         "showlegend": true,
         "type": "box",
         "x": {
          "bdata": "wIo3AA==",
          "dtype": "i4"
         },
         "x0": " ",
         "xaxis": "x",
         "y": {
          "bdata": "8g0=",
          "dtype": "i2"
         },
         "y0": " ",
         "yaxis": "y"
        },
        {
         "alignmentgroup": "True",
         "hovertemplate": "area=%{y}<br>price=%{x}<extra></extra>",
         "legendgroup": "4130",
         "marker": {
          "color": "#FF6692"
         },
         "name": "4130",
         "notched": false,
         "offsetgroup": "4130",
         "orientation": "h",
         "showlegend": true,
         "type": "box",
         "x": {
          "bdata": "wIo3AA==",
          "dtype": "i4"
         },
         "x0": " ",
         "xaxis": "x",
         "y": {
          "bdata": "IhA=",
          "dtype": "i2"
         },
         "y0": " ",
         "yaxis": "y"
        },
        {
         "alignmentgroup": "True",
         "hovertemplate": "area=%{y}<br>price=%{x}<extra></extra>",
         "legendgroup": "2850",
         "marker": {
          "color": "#B6E880"
         },
         "name": "2850",
         "notched": false,
         "offsetgroup": "2850",
         "orientation": "h",
         "showlegend": true,
         "type": "box",
         "x": {
          "bdata": "wIo3AA==",
          "dtype": "i4"
         },
         "x0": " ",
         "xaxis": "x",
         "y": {
          "bdata": "Igs=",
          "dtype": "i2"
         },
         "y0": " ",
         "yaxis": "y"
        },
        {
         "alignmentgroup": "True",
         "hovertemplate": "area=%{y}<br>price=%{x}<extra></extra>",
         "legendgroup": "2275",
         "marker": {
          "color": "#FF97FF"
         },
         "name": "2275",
         "notched": false,
         "offsetgroup": "2275",
         "orientation": "h",
         "showlegend": true,
         "type": "box",
         "x": {
          "bdata": "wIo3AA==",
          "dtype": "i4"
         },
         "x0": " ",
         "xaxis": "x",
         "y": {
          "bdata": "4wg=",
          "dtype": "i2"
         },
         "y0": " ",
         "yaxis": "y"
        },
        {
         "alignmentgroup": "True",
         "hovertemplate": "area=%{y}<br>price=%{x}<extra></extra>",
         "legendgroup": "4240",
         "marker": {
          "color": "#FECB52"
         },
         "name": "4240",
         "notched": false,
         "offsetgroup": "4240",
         "orientation": "h",
         "showlegend": true,
         "type": "box",
         "x": {
          "bdata": "4Gc1AA==",
          "dtype": "i4"
         },
         "x0": " ",
         "xaxis": "x",
         "y": {
          "bdata": "kBA=",
          "dtype": "i2"
         },
         "y0": " ",
         "yaxis": "y"
        },
        {
         "alignmentgroup": "True",
         "hovertemplate": "area=%{y}<br>price=%{x}<extra></extra>",
         "legendgroup": "2135",
         "marker": {
          "color": "#636efa"
         },
         "name": "2135",
         "notched": false,
         "offsetgroup": "2135",
         "orientation": "h",
         "showlegend": true,
         "type": "box",
         "x": {
          "bdata": "4Gc1AA==",
          "dtype": "i4"
         },
         "x0": " ",
         "xaxis": "x",
         "y": {
          "bdata": "Vwg=",
          "dtype": "i2"
         },
         "y0": " ",
         "yaxis": "y"
        },
        {
         "alignmentgroup": "True",
         "hovertemplate": "area=%{y}<br>price=%{x}<extra></extra>",
         "legendgroup": "3036",
         "marker": {
          "color": "#EF553B"
         },
         "name": "3036",
         "notched": false,
         "offsetgroup": "3036",
         "orientation": "h",
         "showlegend": true,
         "type": "box",
         "x": {
          "bdata": "4Gc1AA==",
          "dtype": "i4"
         },
         "x0": " ",
         "xaxis": "x",
         "y": {
          "bdata": "3As=",
          "dtype": "i2"
         },
         "y0": " ",
         "yaxis": "y"
        },
        {
         "alignmentgroup": "True",
         "hovertemplate": "area=%{y}<br>price=%{x}<extra></extra>",
         "legendgroup": "3990",
         "marker": {
          "color": "#00cc96"
         },
         "name": "3990",
         "notched": false,
         "offsetgroup": "3990",
         "orientation": "h",
         "showlegend": true,
         "type": "box",
         "x": {
          "bdata": "4Gc1AA==",
          "dtype": "i4"
         },
         "x0": " ",
         "xaxis": "x",
         "y": {
          "bdata": "lg8=",
          "dtype": "i2"
         },
         "y0": " ",
         "yaxis": "y"
        },
        {
         "alignmentgroup": "True",
         "hovertemplate": "area=%{y}<br>price=%{x}<extra></extra>",
         "legendgroup": "7424",
         "marker": {
          "color": "#ab63fa"
         },
         "name": "7424",
         "notched": false,
         "offsetgroup": "7424",
         "orientation": "h",
         "showlegend": true,
         "type": "box",
         "x": {
          "bdata": "4Gc1AA==",
          "dtype": "i4"
         },
         "x0": " ",
         "xaxis": "x",
         "y": {
          "bdata": "AB0=",
          "dtype": "i2"
         },
         "y0": " ",
         "yaxis": "y"
        },
        {
         "alignmentgroup": "True",
         "hovertemplate": "area=%{y}<br>price=%{x}<extra></extra>",
         "legendgroup": "7350",
         "marker": {
          "color": "#FFA15A"
         },
         "name": "7350",
         "notched": false,
         "offsetgroup": "7350",
         "orientation": "h",
         "showlegend": true,
         "type": "box",
         "x": {
          "bdata": "4Gc1AA==",
          "dtype": "i4"
         },
         "x0": " ",
         "xaxis": "x",
         "y": {
          "bdata": "thw=",
          "dtype": "i2"
         },
         "y0": " ",
         "yaxis": "y"
        },
        {
         "alignmentgroup": "True",
         "hovertemplate": "area=%{y}<br>price=%{x}<extra></extra>",
         "legendgroup": "3512",
         "marker": {
          "color": "#19d3f3"
         },
         "name": "3512",
         "notched": false,
         "offsetgroup": "3512",
         "orientation": "h",
         "showlegend": true,
         "type": "box",
         "x": {
          "bdata": "4Gc1AA==",
          "dtype": "i4"
         },
         "x0": " ",
         "xaxis": "x",
         "y": {
          "bdata": "uA0=",
          "dtype": "i2"
         },
         "y0": " ",
         "yaxis": "y"
        },
        {
         "alignmentgroup": "True",
         "hovertemplate": "area=%{y}<br>price=%{x}<extra></extra>",
         "legendgroup": "9500",
         "marker": {
          "color": "#FF6692"
         },
         "name": "9500",
         "notched": false,
         "offsetgroup": "9500",
         "orientation": "h",
         "showlegend": true,
         "type": "box",
         "x": {
          "bdata": "4Gc1AA==",
          "dtype": "i4"
         },
         "x0": " ",
         "xaxis": "x",
         "y": {
          "bdata": "HCU=",
          "dtype": "i2"
         },
         "y0": " ",
         "yaxis": "y"
        },
        {
         "alignmentgroup": "True",
         "hovertemplate": "area=%{y}<br>price=%{x}<extra></extra>",
         "legendgroup": "5880",
         "marker": {
          "color": "#B6E880"
         },
         "name": "5880",
         "notched": false,
         "offsetgroup": "5880",
         "orientation": "h",
         "showlegend": true,
         "type": "box",
         "x": {
          "bdata": "4Gc1AJAzMgA=",
          "dtype": "i4"
         },
         "x0": " ",
         "xaxis": "x",
         "y": {
          "bdata": "+Bb4Fg==",
          "dtype": "i2"
         },
         "y0": " ",
         "yaxis": "y"
        },
        {
         "alignmentgroup": "True",
         "hovertemplate": "area=%{y}<br>price=%{x}<extra></extra>",
         "legendgroup": "12944",
         "marker": {
          "color": "#FF97FF"
         },
         "name": "12944",
         "notched": false,
         "offsetgroup": "12944",
         "orientation": "h",
         "showlegend": true,
         "type": "box",
         "x": {
          "bdata": "4Gc1AA==",
          "dtype": "i4"
         },
         "x0": " ",
         "xaxis": "x",
         "y": {
          "bdata": "kDI=",
          "dtype": "i2"
         },
         "y0": " ",
         "yaxis": "y"
        },
        {
         "alignmentgroup": "True",
         "hovertemplate": "area=%{y}<br>price=%{x}<extra></extra>",
         "legendgroup": "3060",
         "marker": {
          "color": "#FECB52"
         },
         "name": "3060",
         "notched": false,
         "offsetgroup": "3060",
         "orientation": "h",
         "showlegend": true,
         "type": "box",
         "x": {
          "bdata": "KN80AA==",
          "dtype": "i4"
         },
         "x0": " ",
         "xaxis": "x",
         "y": {
          "bdata": "9As=",
          "dtype": "i2"
         },
         "y0": " ",
         "yaxis": "y"
        },
        {
         "alignmentgroup": "True",
         "hovertemplate": "area=%{y}<br>price=%{x}<extra></extra>",
         "legendgroup": "3185",
         "marker": {
          "color": "#636efa"
         },
         "name": "3185",
         "notched": false,
         "offsetgroup": "3185",
         "orientation": "h",
         "showlegend": true,
         "type": "box",
         "x": {
          "bdata": "cFY0AABFMwBIeygA",
          "dtype": "i4"
         },
         "x0": " ",
         "xaxis": "x",
         "y": {
          "bdata": "cQxxDHEM",
          "dtype": "i2"
         },
         "y0": " ",
         "yaxis": "y"
        },
        {
         "alignmentgroup": "True",
         "hovertemplate": "area=%{y}<br>price=%{x}<extra></extra>",
         "legendgroup": "1950",
         "marker": {
          "color": "#EF553B"
         },
         "name": "1950",
         "notched": false,
         "offsetgroup": "1950",
         "orientation": "h",
         "showlegend": true,
         "type": "box",
         "x": {
          "bdata": "cFY0AAAuIgA=",
          "dtype": "i4"
         },
         "x0": " ",
         "xaxis": "x",
         "y": {
          "bdata": "ngeeBw==",
          "dtype": "i2"
         },
         "y0": " ",
         "yaxis": "y"
        },
        {
         "alignmentgroup": "True",
         "hovertemplate": "area=%{y}<br>price=%{x}<extra></extra>",
         "legendgroup": "4785",
         "marker": {
          "color": "#00cc96"
         },
         "name": "4785",
         "notched": false,
         "offsetgroup": "4785",
         "orientation": "h",
         "showlegend": true,
         "type": "box",
         "x": {
          "bdata": "uM0zAA==",
          "dtype": "i4"
         },
         "x0": " ",
         "xaxis": "x",
         "y": {
          "bdata": "sRI=",
          "dtype": "i2"
         },
         "y0": " ",
         "yaxis": "y"
        },
        {
         "alignmentgroup": "True",
         "hovertemplate": "area=%{y}<br>price=%{x}<extra></extra>",
         "legendgroup": "4960",
         "marker": {
          "color": "#ab63fa"
         },
         "name": "4960",
         "notched": false,
         "offsetgroup": "4960",
         "orientation": "h",
         "showlegend": true,
         "type": "box",
         "x": {
          "bdata": "AEUzAED/LgBg3CwA",
          "dtype": "i4"
         },
         "x0": " ",
         "xaxis": "x",
         "y": {
          "bdata": "YBNgE2AT",
          "dtype": "i2"
         },
         "y0": " ",
         "yaxis": "y"
        },
        {
         "alignmentgroup": "True",
         "hovertemplate": "area=%{y}<br>price=%{x}<extra></extra>",
         "legendgroup": "4750",
         "marker": {
          "color": "#FFA15A"
         },
         "name": "4750",
         "notched": false,
         "offsetgroup": "4750",
         "orientation": "h",
         "showlegend": true,
         "type": "box",
         "x": {
          "bdata": "AEUzAA==",
          "dtype": "i4"
         },
         "x0": " ",
         "xaxis": "x",
         "y": {
          "bdata": "jhI=",
          "dtype": "i2"
         },
         "y0": " ",
         "yaxis": "y"
        },
        {
         "alignmentgroup": "True",
         "hovertemplate": "area=%{y}<br>price=%{x}<extra></extra>",
         "legendgroup": "3720",
         "marker": {
          "color": "#19d3f3"
         },
         "name": "3720",
         "notched": false,
         "offsetgroup": "3720",
         "orientation": "h",
         "showlegend": true,
         "type": "box",
         "x": {
          "bdata": "AEUzAA==",
          "dtype": "i4"
         },
         "x0": " ",
         "xaxis": "x",
         "y": {
          "bdata": "iA4=",
          "dtype": "i2"
         },
         "y0": " ",
         "yaxis": "y"
        },
        {
         "alignmentgroup": "True",
         "hovertemplate": "area=%{y}<br>price=%{x}<extra></extra>",
         "legendgroup": "3100",
         "marker": {
          "color": "#FF6692"
         },
         "name": "3100",
         "notched": false,
         "offsetgroup": "3100",
         "orientation": "h",
         "showlegend": true,
         "type": "box",
         "x": {
          "bdata": "AEUzAA==",
          "dtype": "i4"
         },
         "x0": " ",
         "xaxis": "x",
         "y": {
          "bdata": "HAw=",
          "dtype": "i2"
         },
         "y0": " ",
         "yaxis": "y"
        },
        {
         "alignmentgroup": "True",
         "hovertemplate": "area=%{y}<br>price=%{x}<extra></extra>",
         "legendgroup": "2700",
         "marker": {
          "color": "#B6E880"
         },
         "name": "2700",
         "notched": false,
         "offsetgroup": "2700",
         "orientation": "h",
         "showlegend": true,
         "type": "box",
         "x": {
          "bdata": "qCkzAGDcLAA=",
          "dtype": "i4"
         },
         "x0": " ",
         "xaxis": "x",
         "y": {
          "bdata": "jAqMCg==",
          "dtype": "i2"
         },
         "y0": " ",
         "yaxis": "y"
        },
        {
         "alignmentgroup": "True",
         "hovertemplate": "area=%{y}<br>price=%{x}<extra></extra>",
         "legendgroup": "4775",
         "marker": {
          "color": "#FF97FF"
         },
         "name": "4775",
         "notched": false,
         "offsetgroup": "4775",
         "orientation": "h",
         "showlegend": true,
         "type": "box",
         "x": {
          "bdata": "SLwyAA==",
          "dtype": "i4"
         },
         "x0": " ",
         "xaxis": "x",
         "y": {
          "bdata": "pxI=",
          "dtype": "i2"
         },
         "y0": " ",
         "yaxis": "y"
        },
        {
         "alignmentgroup": "True",
         "hovertemplate": "area=%{y}<br>price=%{x}<extra></extra>",
         "legendgroup": "2500",
         "marker": {
          "color": "#FECB52"
         },
         "name": "2500",
         "notched": false,
         "offsetgroup": "2500",
         "orientation": "h",
         "showlegend": true,
         "type": "box",
         "x": {
          "bdata": "kDMyAA==",
          "dtype": "i4"
         },
         "x0": " ",
         "xaxis": "x",
         "y": {
          "bdata": "xAk=",
          "dtype": "i2"
         },
         "y0": " ",
         "yaxis": "y"
        },
        {
         "alignmentgroup": "True",
         "hovertemplate": "area=%{y}<br>price=%{x}<extra></extra>",
         "legendgroup": "3792",
         "marker": {
          "color": "#636efa"
         },
         "name": "3792",
         "notched": false,
         "offsetgroup": "3792",
         "orientation": "h",
         "showlegend": true,
         "type": "box",
         "x": {
          "bdata": "kDMyAA==",
          "dtype": "i4"
         },
         "x0": " ",
         "xaxis": "x",
         "y": {
          "bdata": "0A4=",
          "dtype": "i2"
         },
         "y0": " ",
         "yaxis": "y"
        },
        {
         "alignmentgroup": "True",
         "hovertemplate": "area=%{y}<br>price=%{x}<extra></extra>",
         "legendgroup": "3930",
         "marker": {
          "color": "#EF553B"
         },
         "name": "3930",
         "notched": false,
         "offsetgroup": "3930",
         "orientation": "h",
         "showlegend": true,
         "type": "box",
         "x": {
          "bdata": "2KoxAA==",
          "dtype": "i4"
         },
         "x0": " ",
         "xaxis": "x",
         "y": {
          "bdata": "Wg8=",
          "dtype": "i2"
         },
         "y0": " ",
         "yaxis": "y"
        },
        {
         "alignmentgroup": "True",
         "hovertemplate": "area=%{y}<br>price=%{x}<extra></extra>",
         "legendgroup": "4370",
         "marker": {
          "color": "#00cc96"
         },
         "name": "4370",
         "notched": false,
         "offsetgroup": "4370",
         "orientation": "h",
         "showlegend": true,
         "type": "box",
         "x": {
          "bdata": "ICIxAA==",
          "dtype": "i4"
         },
         "x0": " ",
         "xaxis": "x",
         "y": {
          "bdata": "EhE=",
          "dtype": "i2"
         },
         "y0": " ",
         "yaxis": "y"
        },
        {
         "alignmentgroup": "True",
         "hovertemplate": "area=%{y}<br>price=%{x}<extra></extra>",
         "legendgroup": "2684",
         "marker": {
          "color": "#ab63fa"
         },
         "name": "2684",
         "notched": false,
         "offsetgroup": "2684",
         "orientation": "h",
         "showlegend": true,
         "type": "box",
         "x": {
          "bdata": "ICIxAA==",
          "dtype": "i4"
         },
         "x0": " ",
         "xaxis": "x",
         "y": {
          "bdata": "fAo=",
          "dtype": "i2"
         },
         "y0": " ",
         "yaxis": "y"
        },
        {
         "alignmentgroup": "True",
         "hovertemplate": "area=%{y}<br>price=%{x}<extra></extra>",
         "legendgroup": "3986",
         "marker": {
          "color": "#FFA15A"
         },
         "name": "3986",
         "notched": false,
         "offsetgroup": "3986",
         "orientation": "h",
         "showlegend": true,
         "type": "box",
         "x": {
          "bdata": "sBAwAA==",
          "dtype": "i4"
         },
         "x0": " ",
         "xaxis": "x",
         "y": {
          "bdata": "kg8=",
          "dtype": "i2"
         },
         "y0": " ",
         "yaxis": "y"
        },
        {
         "alignmentgroup": "True",
         "hovertemplate": "area=%{y}<br>price=%{x}<extra></extra>",
         "legendgroup": "1650",
         "marker": {
          "color": "#19d3f3"
         },
         "name": "1650",
         "notched": false,
         "offsetgroup": "1650",
         "orientation": "h",
         "showlegend": true,
         "type": "box",
         "x": {
          "bdata": "sBAwAA==",
          "dtype": "i4"
         },
         "x0": " ",
         "xaxis": "x",
         "y": {
          "bdata": "cgY=",
          "dtype": "i2"
         },
         "y0": " ",
         "yaxis": "y"
        },
        {
         "alignmentgroup": "True",
         "hovertemplate": "area=%{y}<br>price=%{x}<extra></extra>",
         "legendgroup": "3069",
         "marker": {
          "color": "#FF6692"
         },
         "name": "3069",
         "notched": false,
         "offsetgroup": "3069",
         "orientation": "h",
         "showlegend": true,
         "type": "box",
         "x": {
          "bdata": "sBAwAA==",
          "dtype": "i4"
         },
         "x0": " ",
         "xaxis": "x",
         "y": {
          "bdata": "/Qs=",
          "dtype": "i2"
         },
         "y0": " ",
         "yaxis": "y"
        },
        {
         "alignmentgroup": "True",
         "hovertemplate": "area=%{y}<br>price=%{x}<extra></extra>",
         "legendgroup": "5495",
         "marker": {
          "color": "#B6E880"
         },
         "name": "5495",
         "notched": false,
         "offsetgroup": "5495",
         "orientation": "h",
         "showlegend": true,
         "type": "box",
         "x": {
          "bdata": "qL4vAA==",
          "dtype": "i4"
         },
         "x0": " ",
         "xaxis": "x",
         "y": {
          "bdata": "dxU=",
          "dtype": "i2"
         },
         "y0": " ",
         "yaxis": "y"
        },
        {
         "alignmentgroup": "True",
         "hovertemplate": "area=%{y}<br>price=%{x}<extra></extra>",
         "legendgroup": "2398",
         "marker": {
          "color": "#FF97FF"
         },
         "name": "2398",
         "notched": false,
         "offsetgroup": "2398",
         "orientation": "h",
         "showlegend": true,
         "type": "box",
         "x": {
          "bdata": "ApcvAA==",
          "dtype": "i4"
         },
         "x0": " ",
         "xaxis": "x",
         "y": {
          "bdata": "Xgk=",
          "dtype": "i2"
         },
         "y0": " ",
         "yaxis": "y"
        },
        {
         "alignmentgroup": "True",
         "hovertemplate": "area=%{y}<br>price=%{x}<extra></extra>",
         "legendgroup": "2160",
         "marker": {
          "color": "#FECB52"
         },
         "name": "2160",
         "notched": false,
         "offsetgroup": "2160",
         "orientation": "h",
         "showlegend": true,
         "type": "box",
         "x": {
          "bdata": "QP8uAA==",
          "dtype": "i4"
         },
         "x0": " ",
         "xaxis": "x",
         "y": {
          "bdata": "cAg=",
          "dtype": "i2"
         },
         "y0": " ",
         "yaxis": "y"
        },
        {
         "alignmentgroup": "True",
         "hovertemplate": "area=%{y}<br>price=%{x}<extra></extra>",
         "legendgroup": "3090",
         "marker": {
          "color": "#636efa"
         },
         "name": "3090",
         "notched": false,
         "offsetgroup": "3090",
         "orientation": "h",
         "showlegend": true,
         "type": "box",
         "x": {
          "bdata": "QP8uANDtLQA=",
          "dtype": "i4"
         },
         "x0": " ",
         "xaxis": "x",
         "y": {
          "bdata": "EgwSDA==",
          "dtype": "i2"
         },
         "y0": " ",
         "yaxis": "y"
        },
        {
         "alignmentgroup": "True",
         "hovertemplate": "area=%{y}<br>price=%{x}<extra></extra>",
         "legendgroup": "2835",
         "marker": {
          "color": "#EF553B"
         },
         "name": "2835",
         "notched": false,
         "offsetgroup": "2835",
         "orientation": "h",
         "showlegend": true,
         "type": "box",
         "x": {
          "bdata": "0O0tAA==",
          "dtype": "i4"
         },
         "x0": " ",
         "xaxis": "x",
         "y": {
          "bdata": "Ews=",
          "dtype": "i2"
         },
         "y0": " ",
         "yaxis": "y"
        },
        {
         "alignmentgroup": "True",
         "hovertemplate": "area=%{y}<br>price=%{x}<extra></extra>",
         "legendgroup": "5076",
         "marker": {
          "color": "#00cc96"
         },
         "name": "5076",
         "notched": false,
         "offsetgroup": "5076",
         "orientation": "h",
         "showlegend": true,
         "type": "box",
         "x": {
          "bdata": "0O0tAA==",
          "dtype": "i4"
         },
         "x0": " ",
         "xaxis": "x",
         "y": {
          "bdata": "1BM=",
          "dtype": "i2"
         },
         "y0": " ",
         "yaxis": "y"
        },
        {
         "alignmentgroup": "True",
         "hovertemplate": "area=%{y}<br>price=%{x}<extra></extra>",
         "legendgroup": "4352",
         "marker": {
          "color": "#ab63fa"
         },
         "name": "4352",
         "notched": false,
         "offsetgroup": "4352",
         "orientation": "h",
         "showlegend": true,
         "type": "box",
         "x": {
          "bdata": "GGUtAA==",
          "dtype": "i4"
         },
         "x0": " ",
         "xaxis": "x",
         "y": {
          "bdata": "ABE=",
          "dtype": "i2"
         },
         "y0": " ",
         "yaxis": "y"
        },
        {
         "alignmentgroup": "True",
         "hovertemplate": "area=%{y}<br>price=%{x}<extra></extra>",
         "legendgroup": "3660",
         "marker": {
          "color": "#FFA15A"
         },
         "name": "3660",
         "notched": false,
         "offsetgroup": "3660",
         "orientation": "h",
         "showlegend": true,
         "type": "box",
         "x": {
          "bdata": "YNwsAA==",
          "dtype": "i4"
         },
         "x0": " ",
         "xaxis": "x",
         "y": {
          "bdata": "TA4=",
          "dtype": "i2"
         },
         "y0": " ",
         "yaxis": "y"
        },
        {
         "alignmentgroup": "True",
         "hovertemplate": "area=%{y}<br>price=%{x}<extra></extra>",
         "legendgroup": "3040",
         "marker": {
          "color": "#19d3f3"
         },
         "name": "3040",
         "notched": false,
         "offsetgroup": "3040",
         "orientation": "h",
         "showlegend": true,
         "type": "box",
         "x": {
          "bdata": "8MorAA==",
          "dtype": "i4"
         },
         "x0": " ",
         "xaxis": "x",
         "y": {
          "bdata": "4As=",
          "dtype": "i2"
         },
         "y0": " ",
         "yaxis": "y"
        },
        {
         "alignmentgroup": "True",
         "hovertemplate": "area=%{y}<br>price=%{x}<extra></extra>",
         "legendgroup": "2640",
         "marker": {
          "color": "#FF6692"
         },
         "name": "2640",
         "notched": false,
         "offsetgroup": "2640",
         "orientation": "h",
         "showlegend": true,
         "type": "box",
         "x": {
          "bdata": "OEIrAA==",
          "dtype": "i4"
         },
         "x0": " ",
         "xaxis": "x",
         "y": {
          "bdata": "UAo=",
          "dtype": "i2"
         },
         "y0": " ",
         "yaxis": "y"
        },
        {
         "alignmentgroup": "True",
         "hovertemplate": "area=%{y}<br>price=%{x}<extra></extra>",
         "legendgroup": "2650",
         "marker": {
          "color": "#B6E880"
         },
         "name": "2650",
         "notched": false,
         "offsetgroup": "2650",
         "orientation": "h",
         "showlegend": true,
         "type": "box",
         "x": {
          "bdata": "gLkqAA==",
          "dtype": "i4"
         },
         "x0": " ",
         "xaxis": "x",
         "y": {
          "bdata": "Wgo=",
          "dtype": "i2"
         },
         "y0": " ",
         "yaxis": "y"
        },
        {
         "alignmentgroup": "True",
         "hovertemplate": "area=%{y}<br>price=%{x}<extra></extra>",
         "legendgroup": "3934",
         "marker": {
          "color": "#FF97FF"
         },
         "name": "3934",
         "notched": false,
         "offsetgroup": "3934",
         "orientation": "h",
         "showlegend": true,
         "type": "box",
         "x": {
          "bdata": "oJYoAA==",
          "dtype": "i4"
         },
         "x0": " ",
         "xaxis": "x",
         "y": {
          "bdata": "Xg8=",
          "dtype": "i2"
         },
         "y0": " ",
         "yaxis": "y"
        },
        {
         "alignmentgroup": "True",
         "hovertemplate": "area=%{y}<br>price=%{x}<extra></extra>",
         "legendgroup": "2000",
         "marker": {
          "color": "#FECB52"
         },
         "name": "2000",
         "notched": false,
         "offsetgroup": "2000",
         "orientation": "h",
         "showlegend": true,
         "type": "box",
         "x": {
          "bdata": "oJYoAA==",
          "dtype": "i4"
         },
         "x0": " ",
         "xaxis": "x",
         "y": {
          "bdata": "0Ac=",
          "dtype": "i2"
         },
         "y0": " ",
         "yaxis": "y"
        },
        {
         "alignmentgroup": "True",
         "hovertemplate": "area=%{y}<br>price=%{x}<extra></extra>",
         "legendgroup": "2430",
         "marker": {
          "color": "#636efa"
         },
         "name": "2430",
         "notched": false,
         "offsetgroup": "2430",
         "orientation": "h",
         "showlegend": true,
         "type": "box",
         "x": {
          "bdata": "oJYoAA==",
          "dtype": "i4"
         },
         "x0": " ",
         "xaxis": "x",
         "y": {
          "bdata": "fgk=",
          "dtype": "i2"
         },
         "y0": " ",
         "yaxis": "y"
        },
        {
         "alignmentgroup": "True",
         "hovertemplate": "area=%{y}<br>price=%{x}<extra></extra>",
         "legendgroup": "2910",
         "marker": {
          "color": "#EF553B"
         },
         "name": "2910",
         "notched": false,
         "offsetgroup": "2910",
         "orientation": "h",
         "showlegend": true,
         "type": "box",
         "x": {
          "bdata": "4LsnAPCzGgA=",
          "dtype": "i4"
         },
         "x0": " ",
         "xaxis": "x",
         "y": {
          "bdata": "XgteCw==",
          "dtype": "i2"
         },
         "y0": " ",
         "yaxis": "y"
        },
        {
         "alignmentgroup": "True",
         "hovertemplate": "area=%{y}<br>price=%{x}<extra></extra>",
         "legendgroup": "3210",
         "marker": {
          "color": "#00cc96"
         },
         "name": "3210",
         "notched": false,
         "offsetgroup": "3210",
         "orientation": "h",
         "showlegend": true,
         "type": "box",
         "x": {
          "bdata": "UGIlAA==",
          "dtype": "i4"
         },
         "x0": " ",
         "xaxis": "x",
         "y": {
          "bdata": "igw=",
          "dtype": "i2"
         },
         "y0": " ",
         "yaxis": "y"
        },
        {
         "alignmentgroup": "True",
         "hovertemplate": "area=%{y}<br>price=%{x}<extra></extra>",
         "legendgroup": "3635",
         "marker": {
          "color": "#ab63fa"
         },
         "name": "3635",
         "notched": false,
         "offsetgroup": "3635",
         "orientation": "h",
         "showlegend": true,
         "type": "box",
         "x": {
          "bdata": "QL4kAA==",
          "dtype": "i4"
         },
         "x0": " ",
         "xaxis": "x",
         "y": {
          "bdata": "Mw4=",
          "dtype": "i2"
         },
         "y0": " ",
         "yaxis": "y"
        },
        {
         "alignmentgroup": "True",
         "hovertemplate": "area=%{y}<br>price=%{x}<extra></extra>",
         "legendgroup": "2475",
         "marker": {
          "color": "#FFA15A"
         },
         "name": "2475",
         "notched": false,
         "offsetgroup": "2475",
         "orientation": "h",
         "showlegend": true,
         "type": "box",
         "x": {
          "bdata": "4FAkAA==",
          "dtype": "i4"
         },
         "x0": " ",
         "xaxis": "x",
         "y": {
          "bdata": "qwk=",
          "dtype": "i2"
         },
         "y0": " ",
         "yaxis": "y"
        },
        {
         "alignmentgroup": "True",
         "hovertemplate": "area=%{y}<br>price=%{x}<extra></extra>",
         "legendgroup": "3264",
         "marker": {
          "color": "#19d3f3"
         },
         "name": "3264",
         "notched": false,
         "offsetgroup": "3264",
         "orientation": "h",
         "showlegend": true,
         "type": "box",
         "x": {
          "bdata": "4FAkAA==",
          "dtype": "i4"
         },
         "x0": " ",
         "xaxis": "x",
         "y": {
          "bdata": "wAw=",
          "dtype": "i2"
         },
         "y0": " ",
         "yaxis": "y"
        },
        {
         "alignmentgroup": "True",
         "hovertemplate": "area=%{y}<br>price=%{x}<extra></extra>",
         "legendgroup": "1836",
         "marker": {
          "color": "#FF6692"
         },
         "name": "1836",
         "notched": false,
         "offsetgroup": "1836",
         "orientation": "h",
         "showlegend": true,
         "type": "box",
         "x": {
          "bdata": "uLYiAA==",
          "dtype": "i4"
         },
         "x0": " ",
         "xaxis": "x",
         "y": {
          "bdata": "LAc=",
          "dtype": "i2"
         },
         "y0": " ",
         "yaxis": "y"
        },
        {
         "alignmentgroup": "True",
         "hovertemplate": "area=%{y}<br>price=%{x}<extra></extra>",
         "legendgroup": "3970",
         "marker": {
          "color": "#B6E880"
         },
         "name": "3970",
         "notched": false,
         "offsetgroup": "3970",
         "orientation": "h",
         "showlegend": true,
         "type": "box",
         "x": {
          "bdata": "uLYiALi2IgA=",
          "dtype": "i4"
         },
         "x0": " ",
         "xaxis": "x",
         "y": {
          "bdata": "gg+CDw==",
          "dtype": "i2"
         },
         "y0": " ",
         "yaxis": "y"
        },
        {
         "alignmentgroup": "True",
         "hovertemplate": "area=%{y}<br>price=%{x}<extra></extra>",
         "legendgroup": "2400",
         "marker": {
          "color": "#FF97FF"
         },
         "name": "2400",
         "notched": false,
         "offsetgroup": "2400",
         "orientation": "h",
         "showlegend": true,
         "type": "box",
         "x": {
          "bdata": "IAsgAO72GgA=",
          "dtype": "i4"
         },
         "x0": " ",
         "xaxis": "x",
         "y": {
          "bdata": "YAlgCQ==",
          "dtype": "i2"
         },
         "y0": " ",
         "yaxis": "y"
        },
        {
         "alignmentgroup": "True",
         "hovertemplate": "area=%{y}<br>price=%{x}<extra></extra>",
         "legendgroup": "3360",
         "marker": {
          "color": "#FECB52"
         },
         "name": "3360",
         "notched": false,
         "offsetgroup": "3360",
         "orientation": "h",
         "showlegend": true,
         "type": "box",
         "x": {
          "bdata": "IAsgAA==",
          "dtype": "i4"
         },
         "x0": " ",
         "xaxis": "x",
         "y": {
          "bdata": "IA0=",
          "dtype": "i2"
         },
         "y0": " ",
         "yaxis": "y"
        },
        {
         "alignmentgroup": "True",
         "hovertemplate": "area=%{y}<br>price=%{x}<extra></extra>",
         "legendgroup": "1700",
         "marker": {
          "color": "#636efa"
         },
         "name": "1700",
         "notched": false,
         "offsetgroup": "1700",
         "orientation": "h",
         "showlegend": true,
         "type": "box",
         "x": {
          "bdata": "0NYcAA==",
          "dtype": "i4"
         },
         "x0": " ",
         "xaxis": "x",
         "y": {
          "bdata": "pAY=",
          "dtype": "i2"
         },
         "y0": " ",
         "yaxis": "y"
        },
        {
         "alignmentgroup": "True",
         "hovertemplate": "area=%{y}<br>price=%{x}<extra></extra>",
         "legendgroup": "3649",
         "marker": {
          "color": "#EF553B"
         },
         "name": "3649",
         "notched": false,
         "offsetgroup": "3649",
         "orientation": "h",
         "showlegend": true,
         "type": "box",
         "x": {
          "bdata": "0NYcAA==",
          "dtype": "i4"
         },
         "x0": " ",
         "xaxis": "x",
         "y": {
          "bdata": "QQ4=",
          "dtype": "i2"
         },
         "y0": " ",
         "yaxis": "y"
        },
        {
         "alignmentgroup": "True",
         "hovertemplate": "area=%{y}<br>price=%{x}<extra></extra>",
         "legendgroup": "2990",
         "marker": {
          "color": "#00cc96"
         },
         "name": "2990",
         "notched": false,
         "offsetgroup": "2990",
         "orientation": "h",
         "showlegend": true,
         "type": "box",
         "x": {
          "bdata": "GE4cAA==",
          "dtype": "i4"
         },
         "x0": " ",
         "xaxis": "x",
         "y": {
          "bdata": "rgs=",
          "dtype": "i2"
         },
         "y0": " ",
         "yaxis": "y"
        },
        {
         "alignmentgroup": "True",
         "hovertemplate": "area=%{y}<br>price=%{x}<extra></extra>",
         "legendgroup": "3620",
         "marker": {
          "color": "#ab63fa"
         },
         "name": "3620",
         "notched": false,
         "offsetgroup": "3620",
         "orientation": "h",
         "showlegend": true,
         "type": "box",
         "x": {
          "bdata": "8LMaAA==",
          "dtype": "i4"
         },
         "x0": " ",
         "xaxis": "x",
         "y": {
          "bdata": "JA4=",
          "dtype": "i2"
         },
         "y0": " ",
         "yaxis": "y"
        }
       ],
       "layout": {
        "boxmode": "overlay",
        "legend": {
         "title": {
          "text": "area"
         },
         "tracegroupgap": 0
        },
        "margin": {
         "t": 60
        },
        "template": {
         "data": {
          "bar": [
           {
            "error_x": {
             "color": "#2a3f5f"
            },
            "error_y": {
             "color": "#2a3f5f"
            },
            "marker": {
             "line": {
              "color": "#E5ECF6",
              "width": 0.5
             },
             "pattern": {
              "fillmode": "overlay",
              "size": 10,
              "solidity": 0.2
             }
            },
            "type": "bar"
           }
          ],
          "barpolar": [
           {
            "marker": {
             "line": {
              "color": "#E5ECF6",
              "width": 0.5
             },
             "pattern": {
              "fillmode": "overlay",
              "size": 10,
              "solidity": 0.2
             }
            },
            "type": "barpolar"
           }
          ],
          "carpet": [
           {
            "aaxis": {
             "endlinecolor": "#2a3f5f",
             "gridcolor": "white",
             "linecolor": "white",
             "minorgridcolor": "white",
             "startlinecolor": "#2a3f5f"
            },
            "baxis": {
             "endlinecolor": "#2a3f5f",
             "gridcolor": "white",
             "linecolor": "white",
             "minorgridcolor": "white",
             "startlinecolor": "#2a3f5f"
            },
            "type": "carpet"
           }
          ],
          "choropleth": [
           {
            "colorbar": {
             "outlinewidth": 0,
             "ticks": ""
            },
            "type": "choropleth"
           }
          ],
          "contour": [
           {
            "colorbar": {
             "outlinewidth": 0,
             "ticks": ""
            },
            "colorscale": [
             [
              0,
              "#0d0887"
             ],
             [
              0.1111111111111111,
              "#46039f"
             ],
             [
              0.2222222222222222,
              "#7201a8"
             ],
             [
              0.3333333333333333,
              "#9c179e"
             ],
             [
              0.4444444444444444,
              "#bd3786"
             ],
             [
              0.5555555555555556,
              "#d8576b"
             ],
             [
              0.6666666666666666,
              "#ed7953"
             ],
             [
              0.7777777777777778,
              "#fb9f3a"
             ],
             [
              0.8888888888888888,
              "#fdca26"
             ],
             [
              1,
              "#f0f921"
             ]
            ],
            "type": "contour"
           }
          ],
          "contourcarpet": [
           {
            "colorbar": {
             "outlinewidth": 0,
             "ticks": ""
            },
            "type": "contourcarpet"
           }
          ],
          "heatmap": [
           {
            "colorbar": {
             "outlinewidth": 0,
             "ticks": ""
            },
            "colorscale": [
             [
              0,
              "#0d0887"
             ],
             [
              0.1111111111111111,
              "#46039f"
             ],
             [
              0.2222222222222222,
              "#7201a8"
             ],
             [
              0.3333333333333333,
              "#9c179e"
             ],
             [
              0.4444444444444444,
              "#bd3786"
             ],
             [
              0.5555555555555556,
              "#d8576b"
             ],
             [
              0.6666666666666666,
              "#ed7953"
             ],
             [
              0.7777777777777778,
              "#fb9f3a"
             ],
             [
              0.8888888888888888,
              "#fdca26"
             ],
             [
              1,
              "#f0f921"
             ]
            ],
            "type": "heatmap"
           }
          ],
          "histogram": [
           {
            "marker": {
             "pattern": {
              "fillmode": "overlay",
              "size": 10,
              "solidity": 0.2
             }
            },
            "type": "histogram"
           }
          ],
          "histogram2d": [
           {
            "colorbar": {
             "outlinewidth": 0,
             "ticks": ""
            },
            "colorscale": [
             [
              0,
              "#0d0887"
             ],
             [
              0.1111111111111111,
              "#46039f"
             ],
             [
              0.2222222222222222,
              "#7201a8"
             ],
             [
              0.3333333333333333,
              "#9c179e"
             ],
             [
              0.4444444444444444,
              "#bd3786"
             ],
             [
              0.5555555555555556,
              "#d8576b"
             ],
             [
              0.6666666666666666,
              "#ed7953"
             ],
             [
              0.7777777777777778,
              "#fb9f3a"
             ],
             [
              0.8888888888888888,
              "#fdca26"
             ],
             [
              1,
              "#f0f921"
             ]
            ],
            "type": "histogram2d"
           }
          ],
          "histogram2dcontour": [
           {
            "colorbar": {
             "outlinewidth": 0,
             "ticks": ""
            },
            "colorscale": [
             [
              0,
              "#0d0887"
             ],
             [
              0.1111111111111111,
              "#46039f"
             ],
             [
              0.2222222222222222,
              "#7201a8"
             ],
             [
              0.3333333333333333,
              "#9c179e"
             ],
             [
              0.4444444444444444,
              "#bd3786"
             ],
             [
              0.5555555555555556,
              "#d8576b"
             ],
             [
              0.6666666666666666,
              "#ed7953"
             ],
             [
              0.7777777777777778,
              "#fb9f3a"
             ],
             [
              0.8888888888888888,
              "#fdca26"
             ],
             [
              1,
              "#f0f921"
             ]
            ],
            "type": "histogram2dcontour"
           }
          ],
          "mesh3d": [
           {
            "colorbar": {
             "outlinewidth": 0,
             "ticks": ""
            },
            "type": "mesh3d"
           }
          ],
          "parcoords": [
           {
            "line": {
             "colorbar": {
              "outlinewidth": 0,
              "ticks": ""
             }
            },
            "type": "parcoords"
           }
          ],
          "pie": [
           {
            "automargin": true,
            "type": "pie"
           }
          ],
          "scatter": [
           {
            "fillpattern": {
             "fillmode": "overlay",
             "size": 10,
             "solidity": 0.2
            },
            "type": "scatter"
           }
          ],
          "scatter3d": [
           {
            "line": {
             "colorbar": {
              "outlinewidth": 0,
              "ticks": ""
             }
            },
            "marker": {
             "colorbar": {
              "outlinewidth": 0,
              "ticks": ""
             }
            },
            "type": "scatter3d"
           }
          ],
          "scattercarpet": [
           {
            "marker": {
             "colorbar": {
              "outlinewidth": 0,
              "ticks": ""
             }
            },
            "type": "scattercarpet"
           }
          ],
          "scattergeo": [
           {
            "marker": {
             "colorbar": {
              "outlinewidth": 0,
              "ticks": ""
             }
            },
            "type": "scattergeo"
           }
          ],
          "scattergl": [
           {
            "marker": {
             "colorbar": {
              "outlinewidth": 0,
              "ticks": ""
             }
            },
            "type": "scattergl"
           }
          ],
          "scattermap": [
           {
            "marker": {
             "colorbar": {
              "outlinewidth": 0,
              "ticks": ""
             }
            },
            "type": "scattermap"
           }
          ],
          "scattermapbox": [
           {
            "marker": {
             "colorbar": {
              "outlinewidth": 0,
              "ticks": ""
             }
            },
            "type": "scattermapbox"
           }
          ],
          "scatterpolar": [
           {
            "marker": {
             "colorbar": {
              "outlinewidth": 0,
              "ticks": ""
             }
            },
            "type": "scatterpolar"
           }
          ],
          "scatterpolargl": [
           {
            "marker": {
             "colorbar": {
              "outlinewidth": 0,
              "ticks": ""
             }
            },
            "type": "scatterpolargl"
           }
          ],
          "scatterternary": [
           {
            "marker": {
             "colorbar": {
              "outlinewidth": 0,
              "ticks": ""
             }
            },
            "type": "scatterternary"
           }
          ],
          "surface": [
           {
            "colorbar": {
             "outlinewidth": 0,
             "ticks": ""
            },
            "colorscale": [
             [
              0,
              "#0d0887"
             ],
             [
              0.1111111111111111,
              "#46039f"
             ],
             [
              0.2222222222222222,
              "#7201a8"
             ],
             [
              0.3333333333333333,
              "#9c179e"
             ],
             [
              0.4444444444444444,
              "#bd3786"
             ],
             [
              0.5555555555555556,
              "#d8576b"
             ],
             [
              0.6666666666666666,
              "#ed7953"
             ],
             [
              0.7777777777777778,
              "#fb9f3a"
             ],
             [
              0.8888888888888888,
              "#fdca26"
             ],
             [
              1,
              "#f0f921"
             ]
            ],
            "type": "surface"
           }
          ],
          "table": [
           {
            "cells": {
             "fill": {
              "color": "#EBF0F8"
             },
             "line": {
              "color": "white"
             }
            },
            "header": {
             "fill": {
              "color": "#C8D4E3"
             },
             "line": {
              "color": "white"
             }
            },
            "type": "table"
           }
          ]
         },
         "layout": {
          "annotationdefaults": {
           "arrowcolor": "#2a3f5f",
           "arrowhead": 0,
           "arrowwidth": 1
          },
          "autotypenumbers": "strict",
          "coloraxis": {
           "colorbar": {
            "outlinewidth": 0,
            "ticks": ""
           }
          },
          "colorscale": {
           "diverging": [
            [
             0,
             "#8e0152"
            ],
            [
             0.1,
             "#c51b7d"
            ],
            [
             0.2,
             "#de77ae"
            ],
            [
             0.3,
             "#f1b6da"
            ],
            [
             0.4,
             "#fde0ef"
            ],
            [
             0.5,
             "#f7f7f7"
            ],
            [
             0.6,
             "#e6f5d0"
            ],
            [
             0.7,
             "#b8e186"
            ],
            [
             0.8,
             "#7fbc41"
            ],
            [
             0.9,
             "#4d9221"
            ],
            [
             1,
             "#276419"
            ]
           ],
           "sequential": [
            [
             0,
             "#0d0887"
            ],
            [
             0.1111111111111111,
             "#46039f"
            ],
            [
             0.2222222222222222,
             "#7201a8"
            ],
            [
             0.3333333333333333,
             "#9c179e"
            ],
            [
             0.4444444444444444,
             "#bd3786"
            ],
            [
             0.5555555555555556,
             "#d8576b"
            ],
            [
             0.6666666666666666,
             "#ed7953"
            ],
            [
             0.7777777777777778,
             "#fb9f3a"
            ],
            [
             0.8888888888888888,
             "#fdca26"
            ],
            [
             1,
             "#f0f921"
            ]
           ],
           "sequentialminus": [
            [
             0,
             "#0d0887"
            ],
            [
             0.1111111111111111,
             "#46039f"
            ],
            [
             0.2222222222222222,
             "#7201a8"
            ],
            [
             0.3333333333333333,
             "#9c179e"
            ],
            [
             0.4444444444444444,
             "#bd3786"
            ],
            [
             0.5555555555555556,
             "#d8576b"
            ],
            [
             0.6666666666666666,
             "#ed7953"
            ],
            [
             0.7777777777777778,
             "#fb9f3a"
            ],
            [
             0.8888888888888888,
             "#fdca26"
            ],
            [
             1,
             "#f0f921"
            ]
           ]
          },
          "colorway": [
           "#636efa",
           "#EF553B",
           "#00cc96",
           "#ab63fa",
           "#FFA15A",
           "#19d3f3",
           "#FF6692",
           "#B6E880",
           "#FF97FF",
           "#FECB52"
          ],
          "font": {
           "color": "#2a3f5f"
          },
          "geo": {
           "bgcolor": "white",
           "lakecolor": "white",
           "landcolor": "#E5ECF6",
           "showlakes": true,
           "showland": true,
           "subunitcolor": "white"
          },
          "hoverlabel": {
           "align": "left"
          },
          "hovermode": "closest",
          "mapbox": {
           "style": "light"
          },
          "paper_bgcolor": "white",
          "plot_bgcolor": "#E5ECF6",
          "polar": {
           "angularaxis": {
            "gridcolor": "white",
            "linecolor": "white",
            "ticks": ""
           },
           "bgcolor": "#E5ECF6",
           "radialaxis": {
            "gridcolor": "white",
            "linecolor": "white",
            "ticks": ""
           }
          },
          "scene": {
           "xaxis": {
            "backgroundcolor": "#E5ECF6",
            "gridcolor": "white",
            "gridwidth": 2,
            "linecolor": "white",
            "showbackground": true,
            "ticks": "",
            "zerolinecolor": "white"
           },
           "yaxis": {
            "backgroundcolor": "#E5ECF6",
            "gridcolor": "white",
            "gridwidth": 2,
            "linecolor": "white",
            "showbackground": true,
            "ticks": "",
            "zerolinecolor": "white"
           },
           "zaxis": {
            "backgroundcolor": "#E5ECF6",
            "gridcolor": "white",
            "gridwidth": 2,
            "linecolor": "white",
            "showbackground": true,
            "ticks": "",
            "zerolinecolor": "white"
           }
          },
          "shapedefaults": {
           "line": {
            "color": "#2a3f5f"
           }
          },
          "ternary": {
           "aaxis": {
            "gridcolor": "white",
            "linecolor": "white",
            "ticks": ""
           },
           "baxis": {
            "gridcolor": "white",
            "linecolor": "white",
            "ticks": ""
           },
           "bgcolor": "#E5ECF6",
           "caxis": {
            "gridcolor": "white",
            "linecolor": "white",
            "ticks": ""
           }
          },
          "title": {
           "x": 0.05
          },
          "xaxis": {
           "automargin": true,
           "gridcolor": "white",
           "linecolor": "white",
           "ticks": "",
           "title": {
            "standoff": 15
           },
           "zerolinecolor": "white",
           "zerolinewidth": 2
          },
          "yaxis": {
           "automargin": true,
           "gridcolor": "white",
           "linecolor": "white",
           "ticks": "",
           "title": {
            "standoff": 15
           },
           "zerolinecolor": "white",
           "zerolinewidth": 2
          }
         }
        },
        "xaxis": {
         "anchor": "y",
         "domain": [
          0,
          1
         ],
         "title": {
          "text": "price"
         }
        },
        "yaxis": {
         "anchor": "x",
         "categoryarray": [
          3620,
          2990,
          3649,
          1700,
          3360,
          2400,
          3970,
          1836,
          3264,
          2475,
          3635,
          3210,
          2910,
          2430,
          2000,
          3934,
          2650,
          2640,
          3040,
          3660,
          4352,
          5076,
          2835,
          3090,
          2160,
          2398,
          5495,
          3069,
          1650,
          3986,
          2684,
          4370,
          3930,
          3792,
          2500,
          4775,
          2700,
          3100,
          3720,
          4750,
          4960,
          4785,
          1950,
          3185,
          3060,
          12944,
          5880,
          9500,
          3512,
          7350,
          7424,
          3990,
          3036,
          2135,
          4240,
          2275,
          2850,
          4130,
          3570,
          4280,
          5640,
          3120,
          3584,
          6020,
          3480,
          6930,
          2520,
          2856,
          5830,
          4820,
          3350,
          2176,
          2015,
          3850,
          7152,
          3780,
          8080,
          3816,
          3290,
          7260,
          4050,
          3460,
          4340,
          4992,
          5900,
          5600,
          3680,
          3600,
          6060,
          5985,
          4632,
          4046,
          4080,
          4840,
          2145,
          4079,
          2325,
          2747,
          2953,
          2610,
          5850,
          5040,
          2787,
          6650,
          7770,
          4360,
          2175,
          3400,
          10360,
          4032,
          4075,
          1905,
          3900,
          4950,
          4920,
          2880,
          4900,
          3968,
          3750,
          3162,
          5885,
          9860,
          3450,
          3510,
          4990,
          3520,
          5360,
          5320,
          2550,
          3640,
          3840,
          4510,
          5010,
          2870,
          5680,
          3880,
          3745,
          9667,
          3630,
          5170,
          6440,
          10240,
          6321,
          9166,
          4815,
          6862,
          6040,
          4160,
          4350,
          4995,
          3420,
          12900,
          4646,
          6720,
          2970,
          6300,
          4770,
          4120,
          4095,
          4520,
          4200,
          5948,
          2800,
          7686,
          4410,
          8150,
          10700,
          7600,
          3540,
          5720,
          11410,
          3000,
          3410,
          3180,
          7085,
          6050,
          8520,
          9800,
          3800,
          5300,
          8400,
          10269,
          6450,
          6710,
          6825,
          6210,
          3150,
          7980,
          2817,
          6100,
          3650,
          3300,
          4400,
          5136,
          4700,
          6660,
          5800,
          4640,
          5400,
          5200,
          5828,
          11460,
          7160,
          15600,
          6525,
          7320,
          6254,
          7231,
          7020,
          3700,
          6900,
          8000,
          6800,
          9620,
          8372,
          6615,
          3240,
          5450,
          4500,
          6350,
          6400,
          4100,
          7200,
          4800,
          6750,
          5000,
          7410,
          3960,
          6670,
          8250,
          3760,
          10500,
          5700,
          6500,
          4260,
          4040,
          5020,
          4000,
          12090,
          7700,
          11175,
          6240,
          8880,
          7680,
          11440,
          5150,
          6325,
          7440,
          4300,
          6480,
          6360,
          9000,
          7482,
          6840,
          5960,
          4880,
          7000,
          7475,
          5500,
          7950,
          8875,
          6540,
          8800,
          4560,
          8050,
          7155,
          4320,
          6420,
          4600,
          8500,
          6600,
          7800,
          3500,
          6550,
          6000,
          13200,
          5750,
          8100,
          16200,
          8580,
          7500,
          9960,
          8960,
          7420
         ],
         "categoryorder": "array",
         "domain": [
          0,
          1
         ],
         "title": {
          "text": "area"
         }
        }
       }
      }
     },
     "metadata": {},
     "output_type": "display_data"
    }
   ],
   "source": [
    "# Plot de Distribuição (BoxPlot) por price e area\n",
    "\n",
    "px.box(df_housing, x='price', y='area', color='area', orientation='h')"
   ]
  },
  {
   "cell_type": "code",
   "execution_count": 25,
   "id": "df00c0bd",
   "metadata": {},
   "outputs": [
    {
     "data": {
      "application/vnd.plotly.v1+json": {
       "config": {
        "plotlyServerURL": "https://plot.ly"
       },
       "data": [
        {
         "alignmentgroup": "True",
         "hovertemplate": "bedrooms=%{y}<br>price=%{x}<extra></extra>",
         "legendgroup": "4",
         "marker": {
          "color": "#636efa"
         },
         "name": "4",
         "notched": false,
         "offsetgroup": "4",
         "orientation": "h",
         "showlegend": true,
         "type": "box",
         "x": {
          "bdata": "IPHKAJDrugDYYroAUBquAHDgmgCwmpYAaLiTADAPjgDA/YwA4NqKAODaigBgT4IAgCyAAFiSfgDgw3kAcLJ4ACB+dQBAW3MA8CZwAJgLcADIjG4AEARuADDhawB4WGsAcJtnALgSZwCQeGUAYCFgAKiYXwCA/l0AbDFdABDtXAAwyloAMMpaADDKWgBQp1gA4JVXAOCVVwAUQFYAAHNVAABzVQAAc1UASOpUANjYUwAgUFMAIFBTANAbUADQG1AA0BtQANAbUAAYk08AgOdMABDWSwCgxEoASKlKAEipSgB4KkkAGL1IAFCQRwCIY0YAcG1FABhSRQAAXEQAMN1CACA5QgAgOUIAsCdBAEAWQABAFkAAQBZAANAEPwBg8z0AYPM9AEwmPQDw4TwAgNA7AIDQOwDIRzsASJI5AFB5NgDgZzUAAEUzAABFMwBIvDIAkDMyAJAzMgCQMzIA0FgxANDtLQAYZS0AYNwsAPDKKwCUhisA4FAkACALIAA=",
          "dtype": "i4"
         },
         "x0": " ",
         "xaxis": "x",
         "y": {
          "bdata": "BAQEBAQEBAQEBAQEBAQEBAQEBAQEBAQEBAQEBAQEBAQEBAQEBAQEBAQEBAQEBAQEBAQEBAQEBAQEBAQEBAQEBAQEBAQEBAQEBAQEBAQEBAQEBAQEBAQEBAQEBAQEBAQ=",
          "dtype": "i1"
         },
         "y0": " ",
         "yaxis": "y"
        },
        {
         "alignmentgroup": "True",
         "hovertemplate": "bedrooms=%{y}<br>price=%{x}<extra></extra>",
         "legendgroup": "3",
         "marker": {
          "color": "#EF553B"
         },
         "name": "3",
         "notched": false,
         "offsetgroup": "3",
         "orientation": "h",
         "showlegend": true,
         "type": "box",
         "x": {
          "bdata": "kOu6ANCOpQBAiZUAQImVAMD9jAAAuIgAkKaHANgdhwCwg4UAQHKEAIjpgwCI6YMAGNiCAJgigQCALIAAgCyAAIAsgAAw+HwALE57APi5egCEf3kAuCl4AAChdwAgfnUAQFtzAIjScgDQSXIAGMFxAGA4cQBgOHEAYDhxAPAmcADwJnAA8CZwABAEbgCg8mwAwM9qAFC+aQCYNWkA4KxoAHCbZwAAimYAkHhlAJB4ZQCQeGUAkHhlAJB4ZQCIJmUA2O9kANjvZAAgZ2QAsFVjALBVYwCwVWMA+MxiAPjMYgBARGIAiLthAGAhYABgIWAAYCFgAGAhYAAIBmAA8A9fAPAPXwA4h14AOIdeADiHXgCA/l0AyHVdABDtXAAQ7VwAuNFcAKDbWwCg21sAMMpaADDKWgAwyloAMMpaADDKWgDYrloAwLhZAMC4WQBonVkAaJ1ZABCCWQBQp1gAUKdYAPiLWACYHlgA4JVXAOCVVwDglVcAAHNVAABzVQAAc1UAAHNVAJBhVACQYVQAkGFUADhGVADY2FMAIFBTACBQUwBox1IAsD5SAFgjUgBALVEA0BtQANAbUADQG1AA0BtQANAbUAB4AFAAyMlPABiTTwAYk08AqIFOAKiBTgDw+E0A8PhNAPD4TQCA50wAgOdMAMheTAAQ1ksAYJ9LAFhNSwD430oAoMRKAKDESgCgxEoAoMRKAKDESgCgxEoAoMRKAKDESgCgxEoAMLNJADCzSQAws0kAeCpJAMChSABQkEcAUJBHAFCQRwCYB0cA4H5GAOB+RgDgfkYA4H5GACj2RQAo9kUAcG1FAHBtRQBwbUUAcG1FAHBtRQBwbUUAuOREALjkRAC45EQAAFxEAABcRAAAXEQAqEBEAKhARACQSkMAOC9DADgvQwA4L0MA2MFCACA5QgAgOUIACENBALAnQQD4nkAA+J5AAEAWQABAFkAAQBZAAEAWQABAFkAAQBZAAEAWQABAFkAAQBZAAEAWQABAFkAAQBZAAOj6PwDo+j8AiI0/AIiNPwCIjT8A0AQ/AMSJPgAYfD4AYPM9AGDzPQBg8z0AqGo9AKhqPQCoaj0ATCY9APDhPADw4TwA8OE8AIDQOwCA0DsAgNA7ABC/OgAQvzoAYIg6AKCtOQCgrTkASJI5ADCcOAAwnDgA2IA4AMCKNwDAijcAwIo3AMCKNwDAijcAwIo3AGhvNwBQeTYAmPA1AOBnNQDgZzUA4Gc1AOBnNQDgZzUA4Gc1AOBnNQDgZzUA4Gc1AOBnNQCITDUAKN80ACjfNABwVjQAcFY0AHBWNABwVjQAuM0zALjNMwAARTMAAEUzAKgpMwCg1zIAkDMyAJAzMgCQMzIAICIxACAiMQAgIjEAsBAwALAQMACwEDAAWPUvAKi+LwACly8A+IcvAPiHLwBA/y4A0O0tANDtLQDQ7S0A0O0tAGDcLABg3CwAYNwsAGDcLABg3CwAOEIrADhCKwCAuSoAgLkqABCoKQCgligAoJYoAKCWKACgligASHsoAMBzJgDAcyYACOslAAjrJQBQYiUA4FAkALi2IgAALiIAqBIiACALIADQ1hwA7vYaAPCzGgDwsxoA",
          "dtype": "i4"
         },
         "x0": " ",
         "xaxis": "x",
         "y": {
          "bdata": "AwMDAwMDAwMDAwMDAwMDAwMDAwMDAwMDAwMDAwMDAwMDAwMDAwMDAwMDAwMDAwMDAwMDAwMDAwMDAwMDAwMDAwMDAwMDAwMDAwMDAwMDAwMDAwMDAwMDAwMDAwMDAwMDAwMDAwMDAwMDAwMDAwMDAwMDAwMDAwMDAwMDAwMDAwMDAwMDAwMDAwMDAwMDAwMDAwMDAwMDAwMDAwMDAwMDAwMDAwMDAwMDAwMDAwMDAwMDAwMDAwMDAwMDAwMDAwMDAwMDAwMDAwMDAwMDAwMDAwMDAwMDAwMDAwMDAwMDAwMDAwMDAwMDAwMDAwMDAwMDAwMDAwMDAwMDAwMDAwMDAwMDAwMDAwMDAwMDAwMDAwMDAwMDAwMDAwMDAwMDAwMDAwMDAwMDAwMDAwMD",
          "dtype": "i1"
         },
         "y0": " ",
         "yaxis": "y"
        },
        {
         "alignmentgroup": "True",
         "hovertemplate": "bedrooms=%{y}<br>price=%{x}<extra></extra>",
         "legendgroup": "5",
         "marker": {
          "color": "#00cc96"
         },
         "name": "5",
         "notched": false,
         "offsetgroup": "5",
         "orientation": "h",
         "showlegend": true,
         "type": "box",
         "x": {
          "bdata": "cOCaAIAsgADA5nsAQERiAABzVQBI6lQAIDlCABC/OgBIkjkAQOgdAA==",
          "dtype": "i4"
         },
         "x0": " ",
         "xaxis": "x",
         "y": {
          "bdata": "BQUFBQUFBQUFBQ==",
          "dtype": "i1"
         },
         "y0": " ",
         "yaxis": "y"
        },
        {
         "alignmentgroup": "True",
         "hovertemplate": "bedrooms=%{y}<br>price=%{x}<extra></extra>",
         "legendgroup": "2",
         "marker": {
          "color": "#ab63fa"
         },
         "name": "2",
         "notched": false,
         "offsetgroup": "2",
         "orientation": "h",
         "showlegend": true,
         "type": "box",
         "x": {
          "bdata": "MOFrAFC+aQBIAWYAOPJhAKDbWwAAc1UAiKRQAPD4TQA4cE0AgOdMACjMTACgxEoAoMRKAOg7SgAws0kAwKFIAMChSABohkgAUJBHAFCQRwDgfkYAGFJFALjkRAAAXEQAqEBEAEjTQwCQSkMAGOdBAGiwQQBosEEAsCdBALAnQQCwJ0EAsCdBAEAWQABAFkAAeOk+ABh8PgAYfD4A8OE8AIDQOwCA0DsAyEc7ABC/OgAQvzoAEL86ABC/OgBYNjoAoK05AKCtOQCgrTkAoK05AOgkOQAwnDgAMJw4ADCcOADYgDgAeBM4AHgTOAB4EzgAeBM4AMCKNwDAijcAwIo3AAgCNwAIAjcAUHk2AFB5NgDgZzUA4Gc1AOBnNQDgZzUA4Gc1ACjfNABwVjQAcFY0ABg7NAC4zTMAAEUzAABFMwAARTMAAEUzAEi8MgCQMzIAkDMyANiqMQDYqjEAICIxALAQMACwEDAAsBAwALAQMACwEDAA+IcvAJgaLwBA/y4AQP8uAED/LgCIdi4A0O0tANDtLQB40i0AaC4tAGDcLABg3CwA8MorAPDKKwDwyisAOEIrABCoKQBYHykAoJYoAKCWKACgligASHsoAOC7JwAwhScAMIUnADCFJwDAcyYAUGIlAFBiJQBQYiUAUGIlAFBiJQBAviQA4FAkACjIIwBwPyMAuLYiANiTIAAgCyAA0NYcABhOHABgxRsA8LMaAA==",
          "dtype": "i4"
         },
         "x0": " ",
         "xaxis": "x",
         "y": {
          "bdata": "AgICAgICAgICAgICAgICAgICAgICAgICAgICAgICAgICAgICAgICAgICAgICAgICAgICAgICAgICAgICAgICAgICAgICAgICAgICAgICAgICAgICAgICAgICAgICAgICAgICAgICAgICAgICAgICAgICAgICAgICAgICAgICAgICAgICAgICAg==",
          "dtype": "i1"
         },
         "y0": " ",
         "yaxis": "y"
        },
        {
         "alignmentgroup": "True",
         "hovertemplate": "bedrooms=%{y}<br>price=%{x}<extra></extra>",
         "legendgroup": "6",
         "marker": {
          "color": "#FFA15A"
         },
         "name": "6",
         "notched": false,
         "offsetgroup": "6",
         "orientation": "h",
         "showlegend": true,
         "type": "box",
         "x": {
          "bdata": "uNFcAOBnNQA=",
          "dtype": "i4"
         },
         "x0": " ",
         "xaxis": "x",
         "y": {
          "bdata": "BgY=",
          "dtype": "i1"
         },
         "y0": " ",
         "yaxis": "y"
        },
        {
         "alignmentgroup": "True",
         "hovertemplate": "bedrooms=%{y}<br>price=%{x}<extra></extra>",
         "legendgroup": "1",
         "marker": {
          "color": "#19d3f3"
         },
         "name": "1",
         "notched": false,
         "offsetgroup": "1",
         "orientation": "h",
         "showlegend": true,
         "type": "box",
         "x": {
          "bdata": "sBAwALi2IgA=",
          "dtype": "i4"
         },
         "x0": " ",
         "xaxis": "x",
         "y": {
          "bdata": "AQE=",
          "dtype": "i1"
         },
         "y0": " ",
         "yaxis": "y"
        }
       ],
       "layout": {
        "boxmode": "overlay",
        "legend": {
         "title": {
          "text": "bedrooms"
         },
         "tracegroupgap": 0
        },
        "margin": {
         "t": 60
        },
        "template": {
         "data": {
          "bar": [
           {
            "error_x": {
             "color": "#2a3f5f"
            },
            "error_y": {
             "color": "#2a3f5f"
            },
            "marker": {
             "line": {
              "color": "#E5ECF6",
              "width": 0.5
             },
             "pattern": {
              "fillmode": "overlay",
              "size": 10,
              "solidity": 0.2
             }
            },
            "type": "bar"
           }
          ],
          "barpolar": [
           {
            "marker": {
             "line": {
              "color": "#E5ECF6",
              "width": 0.5
             },
             "pattern": {
              "fillmode": "overlay",
              "size": 10,
              "solidity": 0.2
             }
            },
            "type": "barpolar"
           }
          ],
          "carpet": [
           {
            "aaxis": {
             "endlinecolor": "#2a3f5f",
             "gridcolor": "white",
             "linecolor": "white",
             "minorgridcolor": "white",
             "startlinecolor": "#2a3f5f"
            },
            "baxis": {
             "endlinecolor": "#2a3f5f",
             "gridcolor": "white",
             "linecolor": "white",
             "minorgridcolor": "white",
             "startlinecolor": "#2a3f5f"
            },
            "type": "carpet"
           }
          ],
          "choropleth": [
           {
            "colorbar": {
             "outlinewidth": 0,
             "ticks": ""
            },
            "type": "choropleth"
           }
          ],
          "contour": [
           {
            "colorbar": {
             "outlinewidth": 0,
             "ticks": ""
            },
            "colorscale": [
             [
              0,
              "#0d0887"
             ],
             [
              0.1111111111111111,
              "#46039f"
             ],
             [
              0.2222222222222222,
              "#7201a8"
             ],
             [
              0.3333333333333333,
              "#9c179e"
             ],
             [
              0.4444444444444444,
              "#bd3786"
             ],
             [
              0.5555555555555556,
              "#d8576b"
             ],
             [
              0.6666666666666666,
              "#ed7953"
             ],
             [
              0.7777777777777778,
              "#fb9f3a"
             ],
             [
              0.8888888888888888,
              "#fdca26"
             ],
             [
              1,
              "#f0f921"
             ]
            ],
            "type": "contour"
           }
          ],
          "contourcarpet": [
           {
            "colorbar": {
             "outlinewidth": 0,
             "ticks": ""
            },
            "type": "contourcarpet"
           }
          ],
          "heatmap": [
           {
            "colorbar": {
             "outlinewidth": 0,
             "ticks": ""
            },
            "colorscale": [
             [
              0,
              "#0d0887"
             ],
             [
              0.1111111111111111,
              "#46039f"
             ],
             [
              0.2222222222222222,
              "#7201a8"
             ],
             [
              0.3333333333333333,
              "#9c179e"
             ],
             [
              0.4444444444444444,
              "#bd3786"
             ],
             [
              0.5555555555555556,
              "#d8576b"
             ],
             [
              0.6666666666666666,
              "#ed7953"
             ],
             [
              0.7777777777777778,
              "#fb9f3a"
             ],
             [
              0.8888888888888888,
              "#fdca26"
             ],
             [
              1,
              "#f0f921"
             ]
            ],
            "type": "heatmap"
           }
          ],
          "histogram": [
           {
            "marker": {
             "pattern": {
              "fillmode": "overlay",
              "size": 10,
              "solidity": 0.2
             }
            },
            "type": "histogram"
           }
          ],
          "histogram2d": [
           {
            "colorbar": {
             "outlinewidth": 0,
             "ticks": ""
            },
            "colorscale": [
             [
              0,
              "#0d0887"
             ],
             [
              0.1111111111111111,
              "#46039f"
             ],
             [
              0.2222222222222222,
              "#7201a8"
             ],
             [
              0.3333333333333333,
              "#9c179e"
             ],
             [
              0.4444444444444444,
              "#bd3786"
             ],
             [
              0.5555555555555556,
              "#d8576b"
             ],
             [
              0.6666666666666666,
              "#ed7953"
             ],
             [
              0.7777777777777778,
              "#fb9f3a"
             ],
             [
              0.8888888888888888,
              "#fdca26"
             ],
             [
              1,
              "#f0f921"
             ]
            ],
            "type": "histogram2d"
           }
          ],
          "histogram2dcontour": [
           {
            "colorbar": {
             "outlinewidth": 0,
             "ticks": ""
            },
            "colorscale": [
             [
              0,
              "#0d0887"
             ],
             [
              0.1111111111111111,
              "#46039f"
             ],
             [
              0.2222222222222222,
              "#7201a8"
             ],
             [
              0.3333333333333333,
              "#9c179e"
             ],
             [
              0.4444444444444444,
              "#bd3786"
             ],
             [
              0.5555555555555556,
              "#d8576b"
             ],
             [
              0.6666666666666666,
              "#ed7953"
             ],
             [
              0.7777777777777778,
              "#fb9f3a"
             ],
             [
              0.8888888888888888,
              "#fdca26"
             ],
             [
              1,
              "#f0f921"
             ]
            ],
            "type": "histogram2dcontour"
           }
          ],
          "mesh3d": [
           {
            "colorbar": {
             "outlinewidth": 0,
             "ticks": ""
            },
            "type": "mesh3d"
           }
          ],
          "parcoords": [
           {
            "line": {
             "colorbar": {
              "outlinewidth": 0,
              "ticks": ""
             }
            },
            "type": "parcoords"
           }
          ],
          "pie": [
           {
            "automargin": true,
            "type": "pie"
           }
          ],
          "scatter": [
           {
            "fillpattern": {
             "fillmode": "overlay",
             "size": 10,
             "solidity": 0.2
            },
            "type": "scatter"
           }
          ],
          "scatter3d": [
           {
            "line": {
             "colorbar": {
              "outlinewidth": 0,
              "ticks": ""
             }
            },
            "marker": {
             "colorbar": {
              "outlinewidth": 0,
              "ticks": ""
             }
            },
            "type": "scatter3d"
           }
          ],
          "scattercarpet": [
           {
            "marker": {
             "colorbar": {
              "outlinewidth": 0,
              "ticks": ""
             }
            },
            "type": "scattercarpet"
           }
          ],
          "scattergeo": [
           {
            "marker": {
             "colorbar": {
              "outlinewidth": 0,
              "ticks": ""
             }
            },
            "type": "scattergeo"
           }
          ],
          "scattergl": [
           {
            "marker": {
             "colorbar": {
              "outlinewidth": 0,
              "ticks": ""
             }
            },
            "type": "scattergl"
           }
          ],
          "scattermap": [
           {
            "marker": {
             "colorbar": {
              "outlinewidth": 0,
              "ticks": ""
             }
            },
            "type": "scattermap"
           }
          ],
          "scattermapbox": [
           {
            "marker": {
             "colorbar": {
              "outlinewidth": 0,
              "ticks": ""
             }
            },
            "type": "scattermapbox"
           }
          ],
          "scatterpolar": [
           {
            "marker": {
             "colorbar": {
              "outlinewidth": 0,
              "ticks": ""
             }
            },
            "type": "scatterpolar"
           }
          ],
          "scatterpolargl": [
           {
            "marker": {
             "colorbar": {
              "outlinewidth": 0,
              "ticks": ""
             }
            },
            "type": "scatterpolargl"
           }
          ],
          "scatterternary": [
           {
            "marker": {
             "colorbar": {
              "outlinewidth": 0,
              "ticks": ""
             }
            },
            "type": "scatterternary"
           }
          ],
          "surface": [
           {
            "colorbar": {
             "outlinewidth": 0,
             "ticks": ""
            },
            "colorscale": [
             [
              0,
              "#0d0887"
             ],
             [
              0.1111111111111111,
              "#46039f"
             ],
             [
              0.2222222222222222,
              "#7201a8"
             ],
             [
              0.3333333333333333,
              "#9c179e"
             ],
             [
              0.4444444444444444,
              "#bd3786"
             ],
             [
              0.5555555555555556,
              "#d8576b"
             ],
             [
              0.6666666666666666,
              "#ed7953"
             ],
             [
              0.7777777777777778,
              "#fb9f3a"
             ],
             [
              0.8888888888888888,
              "#fdca26"
             ],
             [
              1,
              "#f0f921"
             ]
            ],
            "type": "surface"
           }
          ],
          "table": [
           {
            "cells": {
             "fill": {
              "color": "#EBF0F8"
             },
             "line": {
              "color": "white"
             }
            },
            "header": {
             "fill": {
              "color": "#C8D4E3"
             },
             "line": {
              "color": "white"
             }
            },
            "type": "table"
           }
          ]
         },
         "layout": {
          "annotationdefaults": {
           "arrowcolor": "#2a3f5f",
           "arrowhead": 0,
           "arrowwidth": 1
          },
          "autotypenumbers": "strict",
          "coloraxis": {
           "colorbar": {
            "outlinewidth": 0,
            "ticks": ""
           }
          },
          "colorscale": {
           "diverging": [
            [
             0,
             "#8e0152"
            ],
            [
             0.1,
             "#c51b7d"
            ],
            [
             0.2,
             "#de77ae"
            ],
            [
             0.3,
             "#f1b6da"
            ],
            [
             0.4,
             "#fde0ef"
            ],
            [
             0.5,
             "#f7f7f7"
            ],
            [
             0.6,
             "#e6f5d0"
            ],
            [
             0.7,
             "#b8e186"
            ],
            [
             0.8,
             "#7fbc41"
            ],
            [
             0.9,
             "#4d9221"
            ],
            [
             1,
             "#276419"
            ]
           ],
           "sequential": [
            [
             0,
             "#0d0887"
            ],
            [
             0.1111111111111111,
             "#46039f"
            ],
            [
             0.2222222222222222,
             "#7201a8"
            ],
            [
             0.3333333333333333,
             "#9c179e"
            ],
            [
             0.4444444444444444,
             "#bd3786"
            ],
            [
             0.5555555555555556,
             "#d8576b"
            ],
            [
             0.6666666666666666,
             "#ed7953"
            ],
            [
             0.7777777777777778,
             "#fb9f3a"
            ],
            [
             0.8888888888888888,
             "#fdca26"
            ],
            [
             1,
             "#f0f921"
            ]
           ],
           "sequentialminus": [
            [
             0,
             "#0d0887"
            ],
            [
             0.1111111111111111,
             "#46039f"
            ],
            [
             0.2222222222222222,
             "#7201a8"
            ],
            [
             0.3333333333333333,
             "#9c179e"
            ],
            [
             0.4444444444444444,
             "#bd3786"
            ],
            [
             0.5555555555555556,
             "#d8576b"
            ],
            [
             0.6666666666666666,
             "#ed7953"
            ],
            [
             0.7777777777777778,
             "#fb9f3a"
            ],
            [
             0.8888888888888888,
             "#fdca26"
            ],
            [
             1,
             "#f0f921"
            ]
           ]
          },
          "colorway": [
           "#636efa",
           "#EF553B",
           "#00cc96",
           "#ab63fa",
           "#FFA15A",
           "#19d3f3",
           "#FF6692",
           "#B6E880",
           "#FF97FF",
           "#FECB52"
          ],
          "font": {
           "color": "#2a3f5f"
          },
          "geo": {
           "bgcolor": "white",
           "lakecolor": "white",
           "landcolor": "#E5ECF6",
           "showlakes": true,
           "showland": true,
           "subunitcolor": "white"
          },
          "hoverlabel": {
           "align": "left"
          },
          "hovermode": "closest",
          "mapbox": {
           "style": "light"
          },
          "paper_bgcolor": "white",
          "plot_bgcolor": "#E5ECF6",
          "polar": {
           "angularaxis": {
            "gridcolor": "white",
            "linecolor": "white",
            "ticks": ""
           },
           "bgcolor": "#E5ECF6",
           "radialaxis": {
            "gridcolor": "white",
            "linecolor": "white",
            "ticks": ""
           }
          },
          "scene": {
           "xaxis": {
            "backgroundcolor": "#E5ECF6",
            "gridcolor": "white",
            "gridwidth": 2,
            "linecolor": "white",
            "showbackground": true,
            "ticks": "",
            "zerolinecolor": "white"
           },
           "yaxis": {
            "backgroundcolor": "#E5ECF6",
            "gridcolor": "white",
            "gridwidth": 2,
            "linecolor": "white",
            "showbackground": true,
            "ticks": "",
            "zerolinecolor": "white"
           },
           "zaxis": {
            "backgroundcolor": "#E5ECF6",
            "gridcolor": "white",
            "gridwidth": 2,
            "linecolor": "white",
            "showbackground": true,
            "ticks": "",
            "zerolinecolor": "white"
           }
          },
          "shapedefaults": {
           "line": {
            "color": "#2a3f5f"
           }
          },
          "ternary": {
           "aaxis": {
            "gridcolor": "white",
            "linecolor": "white",
            "ticks": ""
           },
           "baxis": {
            "gridcolor": "white",
            "linecolor": "white",
            "ticks": ""
           },
           "bgcolor": "#E5ECF6",
           "caxis": {
            "gridcolor": "white",
            "linecolor": "white",
            "ticks": ""
           }
          },
          "title": {
           "x": 0.05
          },
          "xaxis": {
           "automargin": true,
           "gridcolor": "white",
           "linecolor": "white",
           "ticks": "",
           "title": {
            "standoff": 15
           },
           "zerolinecolor": "white",
           "zerolinewidth": 2
          },
          "yaxis": {
           "automargin": true,
           "gridcolor": "white",
           "linecolor": "white",
           "ticks": "",
           "title": {
            "standoff": 15
           },
           "zerolinecolor": "white",
           "zerolinewidth": 2
          }
         }
        },
        "xaxis": {
         "anchor": "y",
         "domain": [
          0,
          1
         ],
         "title": {
          "text": "price"
         }
        },
        "yaxis": {
         "anchor": "x",
         "categoryarray": [
          1,
          6,
          2,
          5,
          3,
          4
         ],
         "categoryorder": "array",
         "domain": [
          0,
          1
         ],
         "title": {
          "text": "bedrooms"
         }
        }
       }
      }
     },
     "metadata": {},
     "output_type": "display_data"
    }
   ],
   "source": [
    "# Plot de Distribuição (BoxPlot) por price e bedrooms\n",
    "\n",
    "px.box(df_housing, x='price', y='bedrooms', color='bedrooms', orientation='h')"
   ]
  },
  {
   "cell_type": "code",
   "execution_count": 26,
   "id": "b1356f29",
   "metadata": {},
   "outputs": [
    {
     "data": {
      "application/vnd.plotly.v1+json": {
       "config": {
        "plotlyServerURL": "https://plot.ly"
       },
       "data": [
        {
         "alignmentgroup": "True",
         "hovertemplate": "bathrooms=%{y}<br>price=%{x}<extra></extra>",
         "legendgroup": "2",
         "marker": {
          "color": "#636efa"
         },
         "name": "2",
         "notched": false,
         "offsetgroup": "2",
         "orientation": "h",
         "showlegend": true,
         "type": "box",
         "x": {
          "bdata": "IPHKAJDrugDYYroAQImVADAPjgDA/YwAwP2MAODaigAAuIgAkKaHANgdhwBAcoQAiOmDABjYggBgT4IAmCKBAIAsgACALIAAgCyAAFiSfgAsTnsA+Ll6AODDeQBwsngAAKF3ACB+dQAgfnUAQFtzAEBbcwCI0nIAGMFxAGA4cQBgOHEA8CZwAPAmcADwJnAAyIxuABAEbgAQBG4AoPJsADDhawB4WGsAUL5pAJg1aQBwm2cAcJtnALgSZwBIAWYAkHhlAJB4ZQCQeGUAkHhlANjvZADY72QAIGdkALBVYwCIu2EAYCFgAGAhYABgIWAACAZgAPAPXwA4h14AOIdeADiHXgCA/l0AEO1cALjRXACg21sAMMpaADDKWgAwyloAwLhZAJgeWADglVcA4JVXABRAVgAAc1UAAHNVAABzVQAAc1UAkGFUAJBhVADY2FMAIFBTACBQUwCwPlIAWCNSAIikUADQG1AA0BtQANAbUADQG1AAGJNPABiTTwDw+E0AyF5MAGCfSwBIqUoASKlKABi9SABQkEcA4H5GAIhjRgAYUkUAGFJFACA5QgBAFkAAQBZAAEAWQABAFkAAGHw+AGDzPQBg8z0AqGo9AKhqPQDw4TwAgNA7AIDQOwDIRzsAEL86ABC/OgBYNjoASJI5AMCKNwDAijcAwIo3AFB5NgDgZzUAcFY0ALAQMAAwhScA4FAkAA==",
          "dtype": "i4"
         },
         "x0": " ",
         "xaxis": "x",
         "y": {
          "bdata": "AgICAgICAgICAgICAgICAgICAgICAgICAgICAgICAgICAgICAgICAgICAgICAgICAgICAgICAgICAgICAgICAgICAgICAgICAgICAgICAgICAgICAgICAgICAgICAgICAgICAgICAgICAgICAgICAgICAgICAgICAgICAgICAgICAgICAg==",
          "dtype": "i1"
         },
         "y0": " ",
         "yaxis": "y"
        },
        {
         "alignmentgroup": "True",
         "hovertemplate": "bathrooms=%{y}<br>price=%{x}<extra></extra>",
         "legendgroup": "4",
         "marker": {
          "color": "#EF553B"
         },
         "name": "4",
         "notched": false,
         "offsetgroup": "4",
         "orientation": "h",
         "showlegend": true,
         "type": "box",
         "x": {
          "bdata": "kOu6AA==",
          "dtype": "i4"
         },
         "x0": " ",
         "xaxis": "x",
         "y": {
          "bdata": "BA==",
          "dtype": "i1"
         },
         "y0": " ",
         "yaxis": "y"
        },
        {
         "alignmentgroup": "True",
         "hovertemplate": "bathrooms=%{y}<br>price=%{x}<extra></extra>",
         "legendgroup": "1",
         "marker": {
          "color": "#00cc96"
         },
         "name": "1",
         "notched": false,
         "offsetgroup": "1",
         "orientation": "h",
         "showlegend": true,
         "type": "box",
         "x": {
          "bdata": "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",
          "dtype": "i4"
         },
         "x0": " ",
         "xaxis": "x",
         "y": {
          "bdata": "AQEBAQEBAQEBAQEBAQEBAQEBAQEBAQEBAQEBAQEBAQEBAQEBAQEBAQEBAQEBAQEBAQEBAQEBAQEBAQEBAQEBAQEBAQEBAQEBAQEBAQEBAQEBAQEBAQEBAQEBAQEBAQEBAQEBAQEBAQEBAQEBAQEBAQEBAQEBAQEBAQEBAQEBAQEBAQEBAQEBAQEBAQEBAQEBAQEBAQEBAQEBAQEBAQEBAQEBAQEBAQEBAQEBAQEBAQEBAQEBAQEBAQEBAQEBAQEBAQEBAQEBAQEBAQEBAQEBAQEBAQEBAQEBAQEBAQEBAQEBAQEBAQEBAQEBAQEBAQEBAQEBAQEBAQEBAQEBAQEBAQEBAQEBAQEBAQEBAQEBAQEBAQEBAQEBAQEBAQEBAQEBAQEBAQEBAQEBAQEBAQEBAQEBAQEBAQEBAQEBAQEBAQEBAQEBAQEBAQEBAQEBAQEBAQEBAQEBAQEBAQEBAQEBAQEBAQEBAQEBAQEBAQEBAQEBAQEBAQEBAQEBAQEBAQEBAQEBAQEBAQEBAQEBAQEBAQE=",
          "dtype": "i1"
         },
         "y0": " ",
         "yaxis": "y"
        },
        {
         "alignmentgroup": "True",
         "hovertemplate": "bathrooms=%{y}<br>price=%{x}<extra></extra>",
         "legendgroup": "3",
         "marker": {
          "color": "#ab63fa"
         },
         "name": "3",
         "notched": false,
         "offsetgroup": "3",
         "orientation": "h",
         "showlegend": true,
         "type": "box",
         "x": {
          "bdata": "0I6lAHDgmgBw4JoAaLiTADD4fABARGIAkGFUABDWSwBAFkAAoJYoAA==",
          "dtype": "i4"
         },
         "x0": " ",
         "xaxis": "x",
         "y": {
          "bdata": "AwMDAwMDAwMDAw==",
          "dtype": "i1"
         },
         "y0": " ",
         "yaxis": "y"
        }
       ],
       "layout": {
        "boxmode": "overlay",
        "legend": {
         "title": {
          "text": "bathrooms"
         },
         "tracegroupgap": 0
        },
        "margin": {
         "t": 60
        },
        "template": {
         "data": {
          "bar": [
           {
            "error_x": {
             "color": "#2a3f5f"
            },
            "error_y": {
             "color": "#2a3f5f"
            },
            "marker": {
             "line": {
              "color": "#E5ECF6",
              "width": 0.5
             },
             "pattern": {
              "fillmode": "overlay",
              "size": 10,
              "solidity": 0.2
             }
            },
            "type": "bar"
           }
          ],
          "barpolar": [
           {
            "marker": {
             "line": {
              "color": "#E5ECF6",
              "width": 0.5
             },
             "pattern": {
              "fillmode": "overlay",
              "size": 10,
              "solidity": 0.2
             }
            },
            "type": "barpolar"
           }
          ],
          "carpet": [
           {
            "aaxis": {
             "endlinecolor": "#2a3f5f",
             "gridcolor": "white",
             "linecolor": "white",
             "minorgridcolor": "white",
             "startlinecolor": "#2a3f5f"
            },
            "baxis": {
             "endlinecolor": "#2a3f5f",
             "gridcolor": "white",
             "linecolor": "white",
             "minorgridcolor": "white",
             "startlinecolor": "#2a3f5f"
            },
            "type": "carpet"
           }
          ],
          "choropleth": [
           {
            "colorbar": {
             "outlinewidth": 0,
             "ticks": ""
            },
            "type": "choropleth"
           }
          ],
          "contour": [
           {
            "colorbar": {
             "outlinewidth": 0,
             "ticks": ""
            },
            "colorscale": [
             [
              0,
              "#0d0887"
             ],
             [
              0.1111111111111111,
              "#46039f"
             ],
             [
              0.2222222222222222,
              "#7201a8"
             ],
             [
              0.3333333333333333,
              "#9c179e"
             ],
             [
              0.4444444444444444,
              "#bd3786"
             ],
             [
              0.5555555555555556,
              "#d8576b"
             ],
             [
              0.6666666666666666,
              "#ed7953"
             ],
             [
              0.7777777777777778,
              "#fb9f3a"
             ],
             [
              0.8888888888888888,
              "#fdca26"
             ],
             [
              1,
              "#f0f921"
             ]
            ],
            "type": "contour"
           }
          ],
          "contourcarpet": [
           {
            "colorbar": {
             "outlinewidth": 0,
             "ticks": ""
            },
            "type": "contourcarpet"
           }
          ],
          "heatmap": [
           {
            "colorbar": {
             "outlinewidth": 0,
             "ticks": ""
            },
            "colorscale": [
             [
              0,
              "#0d0887"
             ],
             [
              0.1111111111111111,
              "#46039f"
             ],
             [
              0.2222222222222222,
              "#7201a8"
             ],
             [
              0.3333333333333333,
              "#9c179e"
             ],
             [
              0.4444444444444444,
              "#bd3786"
             ],
             [
              0.5555555555555556,
              "#d8576b"
             ],
             [
              0.6666666666666666,
              "#ed7953"
             ],
             [
              0.7777777777777778,
              "#fb9f3a"
             ],
             [
              0.8888888888888888,
              "#fdca26"
             ],
             [
              1,
              "#f0f921"
             ]
            ],
            "type": "heatmap"
           }
          ],
          "histogram": [
           {
            "marker": {
             "pattern": {
              "fillmode": "overlay",
              "size": 10,
              "solidity": 0.2
             }
            },
            "type": "histogram"
           }
          ],
          "histogram2d": [
           {
            "colorbar": {
             "outlinewidth": 0,
             "ticks": ""
            },
            "colorscale": [
             [
              0,
              "#0d0887"
             ],
             [
              0.1111111111111111,
              "#46039f"
             ],
             [
              0.2222222222222222,
              "#7201a8"
             ],
             [
              0.3333333333333333,
              "#9c179e"
             ],
             [
              0.4444444444444444,
              "#bd3786"
             ],
             [
              0.5555555555555556,
              "#d8576b"
             ],
             [
              0.6666666666666666,
              "#ed7953"
             ],
             [
              0.7777777777777778,
              "#fb9f3a"
             ],
             [
              0.8888888888888888,
              "#fdca26"
             ],
             [
              1,
              "#f0f921"
             ]
            ],
            "type": "histogram2d"
           }
          ],
          "histogram2dcontour": [
           {
            "colorbar": {
             "outlinewidth": 0,
             "ticks": ""
            },
            "colorscale": [
             [
              0,
              "#0d0887"
             ],
             [
              0.1111111111111111,
              "#46039f"
             ],
             [
              0.2222222222222222,
              "#7201a8"
             ],
             [
              0.3333333333333333,
              "#9c179e"
             ],
             [
              0.4444444444444444,
              "#bd3786"
             ],
             [
              0.5555555555555556,
              "#d8576b"
             ],
             [
              0.6666666666666666,
              "#ed7953"
             ],
             [
              0.7777777777777778,
              "#fb9f3a"
             ],
             [
              0.8888888888888888,
              "#fdca26"
             ],
             [
              1,
              "#f0f921"
             ]
            ],
            "type": "histogram2dcontour"
           }
          ],
          "mesh3d": [
           {
            "colorbar": {
             "outlinewidth": 0,
             "ticks": ""
            },
            "type": "mesh3d"
           }
          ],
          "parcoords": [
           {
            "line": {
             "colorbar": {
              "outlinewidth": 0,
              "ticks": ""
             }
            },
            "type": "parcoords"
           }
          ],
          "pie": [
           {
            "automargin": true,
            "type": "pie"
           }
          ],
          "scatter": [
           {
            "fillpattern": {
             "fillmode": "overlay",
             "size": 10,
             "solidity": 0.2
            },
            "type": "scatter"
           }
          ],
          "scatter3d": [
           {
            "line": {
             "colorbar": {
              "outlinewidth": 0,
              "ticks": ""
             }
            },
            "marker": {
             "colorbar": {
              "outlinewidth": 0,
              "ticks": ""
             }
            },
            "type": "scatter3d"
           }
          ],
          "scattercarpet": [
           {
            "marker": {
             "colorbar": {
              "outlinewidth": 0,
              "ticks": ""
             }
            },
            "type": "scattercarpet"
           }
          ],
          "scattergeo": [
           {
            "marker": {
             "colorbar": {
              "outlinewidth": 0,
              "ticks": ""
             }
            },
            "type": "scattergeo"
           }
          ],
          "scattergl": [
           {
            "marker": {
             "colorbar": {
              "outlinewidth": 0,
              "ticks": ""
             }
            },
            "type": "scattergl"
           }
          ],
          "scattermap": [
           {
            "marker": {
             "colorbar": {
              "outlinewidth": 0,
              "ticks": ""
             }
            },
            "type": "scattermap"
           }
          ],
          "scattermapbox": [
           {
            "marker": {
             "colorbar": {
              "outlinewidth": 0,
              "ticks": ""
             }
            },
            "type": "scattermapbox"
           }
          ],
          "scatterpolar": [
           {
            "marker": {
             "colorbar": {
              "outlinewidth": 0,
              "ticks": ""
             }
            },
            "type": "scatterpolar"
           }
          ],
          "scatterpolargl": [
           {
            "marker": {
             "colorbar": {
              "outlinewidth": 0,
              "ticks": ""
             }
            },
            "type": "scatterpolargl"
           }
          ],
          "scatterternary": [
           {
            "marker": {
             "colorbar": {
              "outlinewidth": 0,
              "ticks": ""
             }
            },
            "type": "scatterternary"
           }
          ],
          "surface": [
           {
            "colorbar": {
             "outlinewidth": 0,
             "ticks": ""
            },
            "colorscale": [
             [
              0,
              "#0d0887"
             ],
             [
              0.1111111111111111,
              "#46039f"
             ],
             [
              0.2222222222222222,
              "#7201a8"
             ],
             [
              0.3333333333333333,
              "#9c179e"
             ],
             [
              0.4444444444444444,
              "#bd3786"
             ],
             [
              0.5555555555555556,
              "#d8576b"
             ],
             [
              0.6666666666666666,
              "#ed7953"
             ],
             [
              0.7777777777777778,
              "#fb9f3a"
             ],
             [
              0.8888888888888888,
              "#fdca26"
             ],
             [
              1,
              "#f0f921"
             ]
            ],
            "type": "surface"
           }
          ],
          "table": [
           {
            "cells": {
             "fill": {
              "color": "#EBF0F8"
             },
             "line": {
              "color": "white"
             }
            },
            "header": {
             "fill": {
              "color": "#C8D4E3"
             },
             "line": {
              "color": "white"
             }
            },
            "type": "table"
           }
          ]
         },
         "layout": {
          "annotationdefaults": {
           "arrowcolor": "#2a3f5f",
           "arrowhead": 0,
           "arrowwidth": 1
          },
          "autotypenumbers": "strict",
          "coloraxis": {
           "colorbar": {
            "outlinewidth": 0,
            "ticks": ""
           }
          },
          "colorscale": {
           "diverging": [
            [
             0,
             "#8e0152"
            ],
            [
             0.1,
             "#c51b7d"
            ],
            [
             0.2,
             "#de77ae"
            ],
            [
             0.3,
             "#f1b6da"
            ],
            [
             0.4,
             "#fde0ef"
            ],
            [
             0.5,
             "#f7f7f7"
            ],
            [
             0.6,
             "#e6f5d0"
            ],
            [
             0.7,
             "#b8e186"
            ],
            [
             0.8,
             "#7fbc41"
            ],
            [
             0.9,
             "#4d9221"
            ],
            [
             1,
             "#276419"
            ]
           ],
           "sequential": [
            [
             0,
             "#0d0887"
            ],
            [
             0.1111111111111111,
             "#46039f"
            ],
            [
             0.2222222222222222,
             "#7201a8"
            ],
            [
             0.3333333333333333,
             "#9c179e"
            ],
            [
             0.4444444444444444,
             "#bd3786"
            ],
            [
             0.5555555555555556,
             "#d8576b"
            ],
            [
             0.6666666666666666,
             "#ed7953"
            ],
            [
             0.7777777777777778,
             "#fb9f3a"
            ],
            [
             0.8888888888888888,
             "#fdca26"
            ],
            [
             1,
             "#f0f921"
            ]
           ],
           "sequentialminus": [
            [
             0,
             "#0d0887"
            ],
            [
             0.1111111111111111,
             "#46039f"
            ],
            [
             0.2222222222222222,
             "#7201a8"
            ],
            [
             0.3333333333333333,
             "#9c179e"
            ],
            [
             0.4444444444444444,
             "#bd3786"
            ],
            [
             0.5555555555555556,
             "#d8576b"
            ],
            [
             0.6666666666666666,
             "#ed7953"
            ],
            [
             0.7777777777777778,
             "#fb9f3a"
            ],
            [
             0.8888888888888888,
             "#fdca26"
            ],
            [
             1,
             "#f0f921"
            ]
           ]
          },
          "colorway": [
           "#636efa",
           "#EF553B",
           "#00cc96",
           "#ab63fa",
           "#FFA15A",
           "#19d3f3",
           "#FF6692",
           "#B6E880",
           "#FF97FF",
           "#FECB52"
          ],
          "font": {
           "color": "#2a3f5f"
          },
          "geo": {
           "bgcolor": "white",
           "lakecolor": "white",
           "landcolor": "#E5ECF6",
           "showlakes": true,
           "showland": true,
           "subunitcolor": "white"
          },
          "hoverlabel": {
           "align": "left"
          },
          "hovermode": "closest",
          "mapbox": {
           "style": "light"
          },
          "paper_bgcolor": "white",
          "plot_bgcolor": "#E5ECF6",
          "polar": {
           "angularaxis": {
            "gridcolor": "white",
            "linecolor": "white",
            "ticks": ""
           },
           "bgcolor": "#E5ECF6",
           "radialaxis": {
            "gridcolor": "white",
            "linecolor": "white",
            "ticks": ""
           }
          },
          "scene": {
           "xaxis": {
            "backgroundcolor": "#E5ECF6",
            "gridcolor": "white",
            "gridwidth": 2,
            "linecolor": "white",
            "showbackground": true,
            "ticks": "",
            "zerolinecolor": "white"
           },
           "yaxis": {
            "backgroundcolor": "#E5ECF6",
            "gridcolor": "white",
            "gridwidth": 2,
            "linecolor": "white",
            "showbackground": true,
            "ticks": "",
            "zerolinecolor": "white"
           },
           "zaxis": {
            "backgroundcolor": "#E5ECF6",
            "gridcolor": "white",
            "gridwidth": 2,
            "linecolor": "white",
            "showbackground": true,
            "ticks": "",
            "zerolinecolor": "white"
           }
          },
          "shapedefaults": {
           "line": {
            "color": "#2a3f5f"
           }
          },
          "ternary": {
           "aaxis": {
            "gridcolor": "white",
            "linecolor": "white",
            "ticks": ""
           },
           "baxis": {
            "gridcolor": "white",
            "linecolor": "white",
            "ticks": ""
           },
           "bgcolor": "#E5ECF6",
           "caxis": {
            "gridcolor": "white",
            "linecolor": "white",
            "ticks": ""
           }
          },
          "title": {
           "x": 0.05
          },
          "xaxis": {
           "automargin": true,
           "gridcolor": "white",
           "linecolor": "white",
           "ticks": "",
           "title": {
            "standoff": 15
           },
           "zerolinecolor": "white",
           "zerolinewidth": 2
          },
          "yaxis": {
           "automargin": true,
           "gridcolor": "white",
           "linecolor": "white",
           "ticks": "",
           "title": {
            "standoff": 15
           },
           "zerolinecolor": "white",
           "zerolinewidth": 2
          }
         }
        },
        "xaxis": {
         "anchor": "y",
         "domain": [
          0,
          1
         ],
         "title": {
          "text": "price"
         }
        },
        "yaxis": {
         "anchor": "x",
         "categoryarray": [
          3,
          1,
          4,
          2
         ],
         "categoryorder": "array",
         "domain": [
          0,
          1
         ],
         "title": {
          "text": "bathrooms"
         }
        }
       }
      }
     },
     "metadata": {},
     "output_type": "display_data"
    }
   ],
   "source": [
    "# Plot de Distribuição (BoxPlot) por price e bathrooms\n",
    "\n",
    "px.box(df_housing, x='price', y='bathrooms', color='bathrooms', orientation='h')"
   ]
  },
  {
   "cell_type": "code",
   "execution_count": 27,
   "id": "561b4087",
   "metadata": {},
   "outputs": [
    {
     "data": {
      "application/vnd.plotly.v1+json": {
       "config": {
        "plotlyServerURL": "https://plot.ly"
       },
       "data": [
        {
         "alignmentgroup": "True",
         "hovertemplate": "stories=%{y}<br>price=%{x}<extra></extra>",
         "legendgroup": "3",
         "marker": {
          "color": "#636efa"
         },
         "name": "3",
         "notched": false,
         "offsetgroup": "3",
         "orientation": "h",
         "showlegend": true,
         "type": "box",
         "x": {
          "bdata": "IPHKAPi5egBAW3MAeFhrAJB4ZQCQeGUAkHhlALBVYwCwVWMAYCFgAAgGYAComF8A8A9fADiHXgDIdV0AbDFdABDtXADAuFkAaJ1ZAGidWQBQp1gAUKdYAOCVVwAAc1UAAHNVACBQUwCgxEoAMLNJALjkRAAgOUIAQBZAAEAWQABg8z0AoK05AMCKNwAo3zQAcFY0AABFMwCUhisA",
          "dtype": "i4"
         },
         "x0": " ",
         "xaxis": "x",
         "y": {
          "bdata": "AwMDAwMDAwMDAwMDAwMDAwMDAwMDAwMDAwMDAwMDAwMDAwMDAwMD",
          "dtype": "i1"
         },
         "y0": " ",
         "yaxis": "y"
        },
        {
         "alignmentgroup": "True",
         "hovertemplate": "stories=%{y}<br>price=%{x}<extra></extra>",
         "legendgroup": "4",
         "marker": {
          "color": "#EF553B"
         },
         "name": "4",
         "notched": false,
         "offsetgroup": "4",
         "orientation": "h",
         "showlegend": true,
         "type": "box",
         "x": {
          "bdata": "kOu6AHDgmgBAiZUAALiIAJgigQCALIAAgCyAACxOewDgw3kAhH95AHCyeAAAoXcAIH51ACB+dQBAW3MAiNJyANBJcgBgOHEAYDhxAPAmcADwJnAAyIxuABAEbgAQBG4AuBJnAACKZgBIAWYAIGdkAIi7YQBgIWAAOIdeAID+XQAwyloAUKdYAJgeWADglVcAAHNVACBQUwB4KkkAUJBHAHBtRQA=",
          "dtype": "i4"
         },
         "x0": " ",
         "xaxis": "x",
         "y": {
          "bdata": "BAQEBAQEBAQEBAQEBAQEBAQEBAQEBAQEBAQEBAQEBAQEBAQEBAQEBAQ=",
          "dtype": "i1"
         },
         "y0": " ",
         "yaxis": "y"
        },
        {
         "alignmentgroup": "True",
         "hovertemplate": "stories=%{y}<br>price=%{x}<extra></extra>",
         "legendgroup": "2",
         "marker": {
          "color": "#00cc96"
         },
         "name": "2",
         "notched": false,
         "offsetgroup": "2",
         "orientation": "h",
         "showlegend": true,
         "type": "box",
         "x": {
          "bdata": "kOu6ANhiugBQGq4AcOCaALCalgBAiZUAaLiTADAPjgDA/YwAwP2MAODaigDg2ooAkKaHANgdhwCwg4UAiOmDABjYggBgT4IAgCyAAIAsgABYkn4AMPh8AMDmewC4KXgAGMFxAPAmcADwJnAAmAtwAKDybAAw4WsAUL5pAHCbZwBwm2cAkHhlAJB4ZQCIJmUA2O9kALBVYwBARGIAQERiABDtXAC40VwAMMpaADDKWgAwyloA4JVXAOCVVwAUQFYAAHNVAABzVQAAc1UAAHNVAEjqVABI6lQAkGFUAJBhVADY2FMAIFBTALA+UgDQG1AA0BtQANAbUADQG1AA0BtQABiTTwAYk08AqIFOAPD4TQDw+E0A8PhNADhwTQCA50wAgOdMABDWSwBgn0sAWE1LAPjfSgCgxEoAoMRKAKDESgCgxEoAoMRKAEipSgAws0kAeCpJABi9SADAoUgAUJBHAFCQRwBQkEcAmAdHAOB+RgDgfkYA4H5GAOB+RgCIY0YAKPZFACj2RQBwbUUAcG1FAHBtRQBwbUUAGFJFALjkRAC45EQAAFxEAABcRAAAXEQAqEBEAKhARACQSkMAkEpDADgvQwA4L0MAMN1CANjBQgAgOUIAIDlCACA5QgAIQ0EAsCdBALAnQQCwJ0EA+J5AAEAWQABAFkAAQBZAAEAWQABAFkAAQBZAAEAWQABAFkAAQBZAAEAWQADo+j8AiI0/AIiNPwCIjT8A0AQ/ABh8PgAYfD4AYPM9AGDzPQBg8z0AqGo9AEwmPQBMJj0A8OE8APDhPADw4TwA8OE8AIDQOwCA0DsAyEc7AMhHOwAQvzoAEL86ABC/OgAQvzoAYIg6AKCtOQCgrTkASJI5ANiAOADAijcAwIo3AMCKNwDAijcAwIo3AMCKNwBQeTYAUHk2AOBnNQDgZzUA4Gc1AOBnNQDgZzUA4Gc1AOBnNQDgZzUA4Gc1AIhMNQBwVjQAcFY0ALjNMwAARTMAAEUzAABFMwCg1zIASLwyAJAzMgCQMzIAkDMyAJAzMgDQWDEAICIxACAiMQCwEDAAsBAwALAQMABY9S8A+IcvAED/LgBA/y4A0O0tANDtLQDQ7S0A0O0tABhlLQBoLi0AYNwsAGDcLABg3CwAYNwsAGDcLABg3CwA8MorADhCKwA4QisAgLkqABCoKQCgligAoJYoAEh7KAAwhScAwHMmAAjrJQAI6yUAUGIlAFBiJQDgUCQA4FAkALi2IgAgCyAAIAsgAEDoHQDQ1hwA8LMaAA==",
          "dtype": "i4"
         },
         "x0": " ",
         "xaxis": "x",
         "y": {
          "bdata": "AgICAgICAgICAgICAgICAgICAgICAgICAgICAgICAgICAgICAgICAgICAgICAgICAgICAgICAgICAgICAgICAgICAgICAgICAgICAgICAgICAgICAgICAgICAgICAgICAgICAgICAgICAgICAgICAgICAgICAgICAgICAgICAgICAgICAgICAgICAgICAgICAgICAgICAgICAgICAgICAgICAgICAgICAgICAgICAgICAgICAgICAgICAgICAgICAgICAgICAgICAgICAgICAgICAgICAgICAgICAgICAgICAgICAgICAgICAgICAg==",
          "dtype": "i1"
         },
         "y0": " ",
         "yaxis": "y"
        },
        {
         "alignmentgroup": "True",
         "hovertemplate": "stories=%{y}<br>price=%{x}<extra></extra>",
         "legendgroup": "1",
         "marker": {
          "color": "#ab63fa"
         },
         "name": "1",
         "notched": false,
         "offsetgroup": "1",
         "orientation": "h",
         "showlegend": true,
         "type": "box",
         "x": {
          "bdata": "0I6lAEByhACI6YMAgCyAAGA4cQAw4WsAwM9qAFC+aQCYNWkA4KxoAJB4ZQDY72QA+MxiAPjMYgA48mEAYCFgAGAhYABgIWAA8A9fADiHXgCA/l0AEO1cALjRXACg21sAoNtbAKDbWwAwyloAMMpaADDKWgAwyloA2K5aAMC4WQAQglkA+ItYAOCVVwAAc1UAAHNVAJBhVAA4RlQA2NhTACBQUwBox1IAWCNSAEAtUQCIpFAA0BtQANAbUADQG1AA0BtQAHgAUADIyU8AGJNPAKiBTgDw+E0AgOdMAIDnTAAozEwAyF5MABDWSwCgxEoAoMRKAKDESgCgxEoAoMRKAKDESgBIqUoA6DtKADCzSQAws0kAwKFIAMChSABohkgAUJBHAFCQRwDgfkYAcG1FAHBtRQAYUkUAuOREAABcRAAAXEQAqEBEAEjTQwA4L0MAIDlCABjnQQBosEEAaLBBALAnQQCwJ0EAsCdBAPieQABAFkAAQBZAAEAWQABAFkAAQBZAAOj6PwDQBD8AeOk+AMSJPgAYfD4AYPM9AKhqPQCoaj0A8OE8AIDQOwCA0DsAgNA7AIDQOwCA0DsAEL86ABC/OgAQvzoAWDY6AKCtOQCgrTkAoK05AEiSOQBIkjkA6CQ5ADCcOAAwnDgAMJw4ADCcOAAwnDgA2IA4AHgTOAB4EzgAeBM4AHgTOADAijcAwIo3AGhvNwAIAjcACAI3AFB5NgBQeTYAmPA1AOBnNQDgZzUA4Gc1AOBnNQDgZzUA4Gc1AOBnNQDgZzUAKN80ACjfNABwVjQAcFY0AHBWNAAYOzQAuM0zALjNMwAARTMAAEUzAABFMwAARTMAqCkzAEi8MgCQMzIAkDMyAJAzMgCQMzIA2KoxANiqMQAgIjEAICIxALAQMACwEDAAsBAwALAQMACwEDAAsBAwAKi+LwACly8A+IcvAPiHLwCYGi8AQP8uAED/LgCIdi4A0O0tANDtLQDQ7S0AeNItAGDcLABg3CwA8MorAPDKKwDwyisAOEIrAIC5KgAQqCkAWB8pAKCWKACgligAoJYoAKCWKACgligASHsoAOC7JwAwhScAMIUnAMBzJgDAcyYAUGIlAFBiJQBQYiUAUGIlAEC+JADgUCQAKMgjAHA/IwC4tiIAuLYiAAAuIgCoEiIA2JMgACALIADQ1hwAGE4cAGDFGwDu9hoA8LMaAPCzGgA=",
          "dtype": "i4"
         },
         "x0": " ",
         "xaxis": "x",
         "y": {
          "bdata": "AQEBAQEBAQEBAQEBAQEBAQEBAQEBAQEBAQEBAQEBAQEBAQEBAQEBAQEBAQEBAQEBAQEBAQEBAQEBAQEBAQEBAQEBAQEBAQEBAQEBAQEBAQEBAQEBAQEBAQEBAQEBAQEBAQEBAQEBAQEBAQEBAQEBAQEBAQEBAQEBAQEBAQEBAQEBAQEBAQEBAQEBAQEBAQEBAQEBAQEBAQEBAQEBAQEBAQEBAQEBAQEBAQEBAQEBAQEBAQEBAQEBAQEBAQEBAQEBAQEBAQEBAQEBAQEBAQEBAQEBAQEBAQEBAQEBAQEBAQEBAQE=",
          "dtype": "i1"
         },
         "y0": " ",
         "yaxis": "y"
        }
       ],
       "layout": {
        "boxmode": "overlay",
        "legend": {
         "title": {
          "text": "stories"
         },
         "tracegroupgap": 0
        },
        "margin": {
         "t": 60
        },
        "template": {
         "data": {
          "bar": [
           {
            "error_x": {
             "color": "#2a3f5f"
            },
            "error_y": {
             "color": "#2a3f5f"
            },
            "marker": {
             "line": {
              "color": "#E5ECF6",
              "width": 0.5
             },
             "pattern": {
              "fillmode": "overlay",
              "size": 10,
              "solidity": 0.2
             }
            },
            "type": "bar"
           }
          ],
          "barpolar": [
           {
            "marker": {
             "line": {
              "color": "#E5ECF6",
              "width": 0.5
             },
             "pattern": {
              "fillmode": "overlay",
              "size": 10,
              "solidity": 0.2
             }
            },
            "type": "barpolar"
           }
          ],
          "carpet": [
           {
            "aaxis": {
             "endlinecolor": "#2a3f5f",
             "gridcolor": "white",
             "linecolor": "white",
             "minorgridcolor": "white",
             "startlinecolor": "#2a3f5f"
            },
            "baxis": {
             "endlinecolor": "#2a3f5f",
             "gridcolor": "white",
             "linecolor": "white",
             "minorgridcolor": "white",
             "startlinecolor": "#2a3f5f"
            },
            "type": "carpet"
           }
          ],
          "choropleth": [
           {
            "colorbar": {
             "outlinewidth": 0,
             "ticks": ""
            },
            "type": "choropleth"
           }
          ],
          "contour": [
           {
            "colorbar": {
             "outlinewidth": 0,
             "ticks": ""
            },
            "colorscale": [
             [
              0,
              "#0d0887"
             ],
             [
              0.1111111111111111,
              "#46039f"
             ],
             [
              0.2222222222222222,
              "#7201a8"
             ],
             [
              0.3333333333333333,
              "#9c179e"
             ],
             [
              0.4444444444444444,
              "#bd3786"
             ],
             [
              0.5555555555555556,
              "#d8576b"
             ],
             [
              0.6666666666666666,
              "#ed7953"
             ],
             [
              0.7777777777777778,
              "#fb9f3a"
             ],
             [
              0.8888888888888888,
              "#fdca26"
             ],
             [
              1,
              "#f0f921"
             ]
            ],
            "type": "contour"
           }
          ],
          "contourcarpet": [
           {
            "colorbar": {
             "outlinewidth": 0,
             "ticks": ""
            },
            "type": "contourcarpet"
           }
          ],
          "heatmap": [
           {
            "colorbar": {
             "outlinewidth": 0,
             "ticks": ""
            },
            "colorscale": [
             [
              0,
              "#0d0887"
             ],
             [
              0.1111111111111111,
              "#46039f"
             ],
             [
              0.2222222222222222,
              "#7201a8"
             ],
             [
              0.3333333333333333,
              "#9c179e"
             ],
             [
              0.4444444444444444,
              "#bd3786"
             ],
             [
              0.5555555555555556,
              "#d8576b"
             ],
             [
              0.6666666666666666,
              "#ed7953"
             ],
             [
              0.7777777777777778,
              "#fb9f3a"
             ],
             [
              0.8888888888888888,
              "#fdca26"
             ],
             [
              1,
              "#f0f921"
             ]
            ],
            "type": "heatmap"
           }
          ],
          "histogram": [
           {
            "marker": {
             "pattern": {
              "fillmode": "overlay",
              "size": 10,
              "solidity": 0.2
             }
            },
            "type": "histogram"
           }
          ],
          "histogram2d": [
           {
            "colorbar": {
             "outlinewidth": 0,
             "ticks": ""
            },
            "colorscale": [
             [
              0,
              "#0d0887"
             ],
             [
              0.1111111111111111,
              "#46039f"
             ],
             [
              0.2222222222222222,
              "#7201a8"
             ],
             [
              0.3333333333333333,
              "#9c179e"
             ],
             [
              0.4444444444444444,
              "#bd3786"
             ],
             [
              0.5555555555555556,
              "#d8576b"
             ],
             [
              0.6666666666666666,
              "#ed7953"
             ],
             [
              0.7777777777777778,
              "#fb9f3a"
             ],
             [
              0.8888888888888888,
              "#fdca26"
             ],
             [
              1,
              "#f0f921"
             ]
            ],
            "type": "histogram2d"
           }
          ],
          "histogram2dcontour": [
           {
            "colorbar": {
             "outlinewidth": 0,
             "ticks": ""
            },
            "colorscale": [
             [
              0,
              "#0d0887"
             ],
             [
              0.1111111111111111,
              "#46039f"
             ],
             [
              0.2222222222222222,
              "#7201a8"
             ],
             [
              0.3333333333333333,
              "#9c179e"
             ],
             [
              0.4444444444444444,
              "#bd3786"
             ],
             [
              0.5555555555555556,
              "#d8576b"
             ],
             [
              0.6666666666666666,
              "#ed7953"
             ],
             [
              0.7777777777777778,
              "#fb9f3a"
             ],
             [
              0.8888888888888888,
              "#fdca26"
             ],
             [
              1,
              "#f0f921"
             ]
            ],
            "type": "histogram2dcontour"
           }
          ],
          "mesh3d": [
           {
            "colorbar": {
             "outlinewidth": 0,
             "ticks": ""
            },
            "type": "mesh3d"
           }
          ],
          "parcoords": [
           {
            "line": {
             "colorbar": {
              "outlinewidth": 0,
              "ticks": ""
             }
            },
            "type": "parcoords"
           }
          ],
          "pie": [
           {
            "automargin": true,
            "type": "pie"
           }
          ],
          "scatter": [
           {
            "fillpattern": {
             "fillmode": "overlay",
             "size": 10,
             "solidity": 0.2
            },
            "type": "scatter"
           }
          ],
          "scatter3d": [
           {
            "line": {
             "colorbar": {
              "outlinewidth": 0,
              "ticks": ""
             }
            },
            "marker": {
             "colorbar": {
              "outlinewidth": 0,
              "ticks": ""
             }
            },
            "type": "scatter3d"
           }
          ],
          "scattercarpet": [
           {
            "marker": {
             "colorbar": {
              "outlinewidth": 0,
              "ticks": ""
             }
            },
            "type": "scattercarpet"
           }
          ],
          "scattergeo": [
           {
            "marker": {
             "colorbar": {
              "outlinewidth": 0,
              "ticks": ""
             }
            },
            "type": "scattergeo"
           }
          ],
          "scattergl": [
           {
            "marker": {
             "colorbar": {
              "outlinewidth": 0,
              "ticks": ""
             }
            },
            "type": "scattergl"
           }
          ],
          "scattermap": [
           {
            "marker": {
             "colorbar": {
              "outlinewidth": 0,
              "ticks": ""
             }
            },
            "type": "scattermap"
           }
          ],
          "scattermapbox": [
           {
            "marker": {
             "colorbar": {
              "outlinewidth": 0,
              "ticks": ""
             }
            },
            "type": "scattermapbox"
           }
          ],
          "scatterpolar": [
           {
            "marker": {
             "colorbar": {
              "outlinewidth": 0,
              "ticks": ""
             }
            },
            "type": "scatterpolar"
           }
          ],
          "scatterpolargl": [
           {
            "marker": {
             "colorbar": {
              "outlinewidth": 0,
              "ticks": ""
             }
            },
            "type": "scatterpolargl"
           }
          ],
          "scatterternary": [
           {
            "marker": {
             "colorbar": {
              "outlinewidth": 0,
              "ticks": ""
             }
            },
            "type": "scatterternary"
           }
          ],
          "surface": [
           {
            "colorbar": {
             "outlinewidth": 0,
             "ticks": ""
            },
            "colorscale": [
             [
              0,
              "#0d0887"
             ],
             [
              0.1111111111111111,
              "#46039f"
             ],
             [
              0.2222222222222222,
              "#7201a8"
             ],
             [
              0.3333333333333333,
              "#9c179e"
             ],
             [
              0.4444444444444444,
              "#bd3786"
             ],
             [
              0.5555555555555556,
              "#d8576b"
             ],
             [
              0.6666666666666666,
              "#ed7953"
             ],
             [
              0.7777777777777778,
              "#fb9f3a"
             ],
             [
              0.8888888888888888,
              "#fdca26"
             ],
             [
              1,
              "#f0f921"
             ]
            ],
            "type": "surface"
           }
          ],
          "table": [
           {
            "cells": {
             "fill": {
              "color": "#EBF0F8"
             },
             "line": {
              "color": "white"
             }
            },
            "header": {
             "fill": {
              "color": "#C8D4E3"
             },
             "line": {
              "color": "white"
             }
            },
            "type": "table"
           }
          ]
         },
         "layout": {
          "annotationdefaults": {
           "arrowcolor": "#2a3f5f",
           "arrowhead": 0,
           "arrowwidth": 1
          },
          "autotypenumbers": "strict",
          "coloraxis": {
           "colorbar": {
            "outlinewidth": 0,
            "ticks": ""
           }
          },
          "colorscale": {
           "diverging": [
            [
             0,
             "#8e0152"
            ],
            [
             0.1,
             "#c51b7d"
            ],
            [
             0.2,
             "#de77ae"
            ],
            [
             0.3,
             "#f1b6da"
            ],
            [
             0.4,
             "#fde0ef"
            ],
            [
             0.5,
             "#f7f7f7"
            ],
            [
             0.6,
             "#e6f5d0"
            ],
            [
             0.7,
             "#b8e186"
            ],
            [
             0.8,
             "#7fbc41"
            ],
            [
             0.9,
             "#4d9221"
            ],
            [
             1,
             "#276419"
            ]
           ],
           "sequential": [
            [
             0,
             "#0d0887"
            ],
            [
             0.1111111111111111,
             "#46039f"
            ],
            [
             0.2222222222222222,
             "#7201a8"
            ],
            [
             0.3333333333333333,
             "#9c179e"
            ],
            [
             0.4444444444444444,
             "#bd3786"
            ],
            [
             0.5555555555555556,
             "#d8576b"
            ],
            [
             0.6666666666666666,
             "#ed7953"
            ],
            [
             0.7777777777777778,
             "#fb9f3a"
            ],
            [
             0.8888888888888888,
             "#fdca26"
            ],
            [
             1,
             "#f0f921"
            ]
           ],
           "sequentialminus": [
            [
             0,
             "#0d0887"
            ],
            [
             0.1111111111111111,
             "#46039f"
            ],
            [
             0.2222222222222222,
             "#7201a8"
            ],
            [
             0.3333333333333333,
             "#9c179e"
            ],
            [
             0.4444444444444444,
             "#bd3786"
            ],
            [
             0.5555555555555556,
             "#d8576b"
            ],
            [
             0.6666666666666666,
             "#ed7953"
            ],
            [
             0.7777777777777778,
             "#fb9f3a"
            ],
            [
             0.8888888888888888,
             "#fdca26"
            ],
            [
             1,
             "#f0f921"
            ]
           ]
          },
          "colorway": [
           "#636efa",
           "#EF553B",
           "#00cc96",
           "#ab63fa",
           "#FFA15A",
           "#19d3f3",
           "#FF6692",
           "#B6E880",
           "#FF97FF",
           "#FECB52"
          ],
          "font": {
           "color": "#2a3f5f"
          },
          "geo": {
           "bgcolor": "white",
           "lakecolor": "white",
           "landcolor": "#E5ECF6",
           "showlakes": true,
           "showland": true,
           "subunitcolor": "white"
          },
          "hoverlabel": {
           "align": "left"
          },
          "hovermode": "closest",
          "mapbox": {
           "style": "light"
          },
          "paper_bgcolor": "white",
          "plot_bgcolor": "#E5ECF6",
          "polar": {
           "angularaxis": {
            "gridcolor": "white",
            "linecolor": "white",
            "ticks": ""
           },
           "bgcolor": "#E5ECF6",
           "radialaxis": {
            "gridcolor": "white",
            "linecolor": "white",
            "ticks": ""
           }
          },
          "scene": {
           "xaxis": {
            "backgroundcolor": "#E5ECF6",
            "gridcolor": "white",
            "gridwidth": 2,
            "linecolor": "white",
            "showbackground": true,
            "ticks": "",
            "zerolinecolor": "white"
           },
           "yaxis": {
            "backgroundcolor": "#E5ECF6",
            "gridcolor": "white",
            "gridwidth": 2,
            "linecolor": "white",
            "showbackground": true,
            "ticks": "",
            "zerolinecolor": "white"
           },
           "zaxis": {
            "backgroundcolor": "#E5ECF6",
            "gridcolor": "white",
            "gridwidth": 2,
            "linecolor": "white",
            "showbackground": true,
            "ticks": "",
            "zerolinecolor": "white"
           }
          },
          "shapedefaults": {
           "line": {
            "color": "#2a3f5f"
           }
          },
          "ternary": {
           "aaxis": {
            "gridcolor": "white",
            "linecolor": "white",
            "ticks": ""
           },
           "baxis": {
            "gridcolor": "white",
            "linecolor": "white",
            "ticks": ""
           },
           "bgcolor": "#E5ECF6",
           "caxis": {
            "gridcolor": "white",
            "linecolor": "white",
            "ticks": ""
           }
          },
          "title": {
           "x": 0.05
          },
          "xaxis": {
           "automargin": true,
           "gridcolor": "white",
           "linecolor": "white",
           "ticks": "",
           "title": {
            "standoff": 15
           },
           "zerolinecolor": "white",
           "zerolinewidth": 2
          },
          "yaxis": {
           "automargin": true,
           "gridcolor": "white",
           "linecolor": "white",
           "ticks": "",
           "title": {
            "standoff": 15
           },
           "zerolinecolor": "white",
           "zerolinewidth": 2
          }
         }
        },
        "xaxis": {
         "anchor": "y",
         "domain": [
          0,
          1
         ],
         "title": {
          "text": "price"
         }
        },
        "yaxis": {
         "anchor": "x",
         "categoryarray": [
          1,
          2,
          4,
          3
         ],
         "categoryorder": "array",
         "domain": [
          0,
          1
         ],
         "title": {
          "text": "stories"
         }
        }
       }
      }
     },
     "metadata": {},
     "output_type": "display_data"
    }
   ],
   "source": [
    "# Plot de Distribuição (BoxPlot) por price e stories\n",
    "\n",
    "px.box(df_housing, x='price', y='stories', color='stories', orientation='h')"
   ]
  },
  {
   "cell_type": "code",
   "execution_count": 28,
   "id": "6bf92eab",
   "metadata": {},
   "outputs": [
    {
     "data": {
      "application/vnd.plotly.v1+json": {
       "config": {
        "plotlyServerURL": "https://plot.ly"
       },
       "data": [
        {
         "alignmentgroup": "True",
         "hovertemplate": "parking=%{y}<br>price=%{x}<extra></extra>",
         "legendgroup": "2",
         "marker": {
          "color": "#636efa"
         },
         "name": "2",
         "notched": false,
         "offsetgroup": "2",
         "orientation": "h",
         "showlegend": true,
         "type": "box",
         "x": {
          "bdata": "IPHKAJDrugBQGq4A0I6lAHDgmgCwmpYAQImVAGi4kwDA/YwA4NqKAAC4iACQpocAsIOFAEByhAAY2IIAYE+CAIAsgACALIAAgCyAACxOewDgw3kAhH95ACB+dQAgfnUA8CZwAHhYawCYNWkAcJtnAJB4ZQCwVWMA+MxiAPjMYgBARGIAOPJhAGAhYAA4h14AEO1cABDtXAC40VwAoNtbAKDbWwAwyloAMMpaANiuWgDAuFkAaJ1ZAPiLWADglVcA4JVXAEjqVACQYVQAkGFUANjYUwBALVEAiKRQANAbUADQG1AA0BtQAMjJTwAYk08AGJNPAIDnTAAQ1ksAoMRKAKDESgCgxEoASKlKADCzSQAws0kAeCpJAMChSADAoUgAUJBHAOB+RgBwbUUAcG1FAABcRAAAXEQAOC9DACA5QgAgOUIACENBALAnQQBAFkAAQBZAAIiNPwBg8z0AYPM9AGDzPQCoaj0AgNA7AIDQOwAQvzoAoK05AEiSOQDAijcAwIo3AGhvNwBQeTYAmPA1AHBWNAC4zTMAAEUzAABFMwCwEDAAsBAwANDtLQBgxRsA",
          "dtype": "i4"
         },
         "x0": " ",
         "xaxis": "x",
         "y": {
          "bdata": "AgICAgICAgICAgICAgICAgICAgICAgICAgICAgICAgICAgICAgICAgICAgICAgICAgICAgICAgICAgICAgICAgICAgICAgICAgICAgICAgICAgICAgICAgICAgICAgICAgICAgICAgICAgIC",
          "dtype": "i1"
         },
         "y0": " ",
         "yaxis": "y"
        },
        {
         "alignmentgroup": "True",
         "hovertemplate": "parking=%{y}<br>price=%{x}<extra></extra>",
         "legendgroup": "3",
         "marker": {
          "color": "#EF553B"
         },
         "name": "3",
         "notched": false,
         "offsetgroup": "3",
         "orientation": "h",
         "showlegend": true,
         "type": "box",
         "x": {
          "bdata": "kOu6ANhiugDQSXIAYCFgAGiGSABwbUUAQBZAAOj6PwCoaj0AgNA7AOBnNQDQ7S0A",
          "dtype": "i4"
         },
         "x0": " ",
         "xaxis": "x",
         "y": {
          "bdata": "AwMDAwMDAwMDAwMD",
          "dtype": "i1"
         },
         "y0": " ",
         "yaxis": "y"
        },
        {
         "alignmentgroup": "True",
         "hovertemplate": "parking=%{y}<br>price=%{x}<extra></extra>",
         "legendgroup": "0",
         "marker": {
          "color": "#00cc96"
         },
         "name": "0",
         "notched": false,
         "offsetgroup": "0",
         "orientation": "h",
         "showlegend": true,
         "type": "box",
         "x": {
          "bdata": "cOCaAMD9jACYIoEAuCl4AAChdwBAW3MAYDhxAHCbZwC4EmcAAIpmAEgBZgCQeGUAkHhlAJB4ZQCQeGUAIGdkALBVYwCwVWMAQERiAIi7YQAIBmAAqJhfAPAPXwA4h14AgP5dAID+XQDIdV0AuNFcAKDbWwAwyloAMMpaADDKWgAwyloAwLhZABCCWQBQp1gAUKdYAFCnWACYHlgA4JVXAOCVVwAAc1UAAHNVAABzVQAAc1UAAHNVAEjqVACQYVQAOEZUACBQUwAgUFMAIFBTACBQUwBox1IAWCNSANAbUADQG1AA0BtQANAbUAB4AFAAqIFOAPD4TQDw+E0A8PhNAPD4TQA4cE0AgOdMAIDnTACA50wAKMxMAMheTAAQ1ksAWE1LAKDESgCgxEoAoMRKAKDESgCgxEoAoMRKAKDESgCgxEoASKlKAOg7SgAws0kAMLNJAHgqSQAYvUgAUJBHAFCQRwBQkEcAmAdHAOB+RgDgfkYA4H5GAIhjRgBwbUUAcG1FAHBtRQBwbUUAGFJFABhSRQC45EQAuOREALjkRAAAXEQAqEBEAEjTQwCQSkMAkEpDADgvQwAw3UIA2MFCACA5QgAgOUIAGOdBALAnQQCwJ0EAsCdBALAnQQD4nkAA+J5AAEAWQABAFkAAQBZAAEAWQABAFkAAQBZAAEAWQABAFkAAQBZAAEAWQABAFkAA0AQ/ANAEPwDEiT4AGHw+ABh8PgBg8z0ATCY9AEwmPQDw4TwA8OE8APDhPADw4TwAgNA7AIDQOwCA0DsAyEc7AMhHOwAQvzoAEL86ABC/OgAQvzoAEL86ABC/OgBgiDoAWDY6AKCtOQCgrTkAoK05AOgkOQAwnDgAMJw4ADCcOAAwnDgA2IA4ANiAOAB4EzgAeBM4AHgTOAB4EzgAwIo3AMCKNwDAijcAwIo3AMCKNwDAijcAwIo3AAgCNwAIAjcAUHk2AFB5NgBQeTYA4Gc1AOBnNQDgZzUA4Gc1AOBnNQDgZzUA4Gc1AOBnNQDgZzUA4Gc1AIhMNQAo3zQAKN80AHBWNABwVjQAcFY0AHBWNABwVjQAGDs0ALjNMwAARTMAAEUzAABFMwAARTMAAEUzAABFMwCoKTMAoNcyAEi8MgCQMzIAkDMyAJAzMgCQMzIAkDMyAJAzMgDYqjEA2KoxANBYMQAgIjEAICIxALAQMACwEDAAsBAwALAQMACwEDAAWPUvAKi+LwACly8A+IcvAPiHLwD4hy8AQP8uAED/LgBA/y4AiHYuANDtLQDQ7S0A0O0tANDtLQDQ7S0AeNItAGguLQBg3CwAYNwsAGDcLABg3CwAYNwsAPDKKwDwyisA8MorAPDKKwCUhisAgLkqABCoKQBYHykAoJYoAKCWKACgligAoJYoAKCWKACgligASHsoAEh7KADguycAMIUnADCFJwDAcyYAwHMmAMBzJgAI6yUACOslAFBiJQBQYiUAUGIlAFBiJQBAviQA4FAkAOBQJADgUCQAKMgjAHA/IwC4tiIAuLYiALi2IgAALiIAqBIiANiTIAAgCyAAIAsgAEDoHQDQ1hwA0NYcAO72GgDwsxoA8LMaAPCzGgA=",
          "dtype": "i4"
         },
         "x0": " ",
         "xaxis": "x",
         "y": {
          "bdata": "AAAAAAAAAAAAAAAAAAAAAAAAAAAAAAAAAAAAAAAAAAAAAAAAAAAAAAAAAAAAAAAAAAAAAAAAAAAAAAAAAAAAAAAAAAAAAAAAAAAAAAAAAAAAAAAAAAAAAAAAAAAAAAAAAAAAAAAAAAAAAAAAAAAAAAAAAAAAAAAAAAAAAAAAAAAAAAAAAAAAAAAAAAAAAAAAAAAAAAAAAAAAAAAAAAAAAAAAAAAAAAAAAAAAAAAAAAAAAAAAAAAAAAAAAAAAAAAAAAAAAAAAAAAAAAAAAAAAAAAAAAAAAAAAAAAAAAAAAAAAAAAAAAAAAAAAAAAAAAAAAAAAAAAAAAAAAAAAAAAAAAAAAAAAAAAAAAAAAAAAAAAAAAAAAAAAAAAAAAAAAAAAAAAAAAAAAAAAAAA=",
          "dtype": "i1"
         },
         "y0": " ",
         "yaxis": "y"
        },
        {
         "alignmentgroup": "True",
         "hovertemplate": "parking=%{y}<br>price=%{x}<extra></extra>",
         "legendgroup": "1",
         "marker": {
          "color": "#ab63fa"
         },
         "name": "1",
         "notched": false,
         "offsetgroup": "1",
         "orientation": "h",
         "showlegend": true,
         "type": "box",
         "x": {
          "bdata": "QImVADAPjgDg2ooA2B2HAIjpgwCI6YMAgCyAAIAsgABYkn4AMPh8AMDmewD4uXoAcLJ4AEBbcwCI0nIAGMFxAGA4cQBgOHEA8CZwAPAmcADwJnAAmAtwAMiMbgAQBG4AEARuAKDybAAw4WsAMOFrAMDPagBQvmkAUL5pAOCsaACQeGUAiCZlANjvZADY72QAYCFgAGAhYABgIWAA8A9fADiHXgBsMV0AEO1cADDKWgAwyloAaJ1ZAOCVVwAUQFYAAHNVAABzVQAAc1UAAHNVANjYUwCwPlIA0BtQANAbUAAYk08AqIFOAGCfSwD430oAoMRKAMChSABQkEcAUJBHAOB+RgAo9kUAKPZFALjkRAAAXEQAAFxEAKhARACoQEQAOC9DACA5QgBosEEAaLBBALAnQQBAFkAAQBZAAEAWQADo+j8AiI0/AIiNPwB46T4AGHw+AGDzPQCoaj0A8OE8AIDQOwCgrTkAoK05AEiSOQBIkjkAMJw4AOBnNQDgZzUA4Gc1AOBnNQDgZzUA4Gc1ACjfNAC4zTMASLwyAJAzMgCQMzIAICIxACAiMQCwEDAAsBAwAJgaLwBA/y4AGGUtAGDcLABg3CwAYNwsADhCKwA4QisAOEIrAIC5KgAQqCkAoJYoADCFJwBQYiUAUGIlACALIAAYThwA",
          "dtype": "i4"
         },
         "x0": " ",
         "xaxis": "x",
         "y": {
          "bdata": "AQEBAQEBAQEBAQEBAQEBAQEBAQEBAQEBAQEBAQEBAQEBAQEBAQEBAQEBAQEBAQEBAQEBAQEBAQEBAQEBAQEBAQEBAQEBAQEBAQEBAQEBAQEBAQEBAQEBAQEBAQEBAQEBAQEBAQEBAQEBAQEBAQEBAQEBAQEBAQEBAQEBAQEB",
          "dtype": "i1"
         },
         "y0": " ",
         "yaxis": "y"
        }
       ],
       "layout": {
        "boxmode": "overlay",
        "legend": {
         "title": {
          "text": "parking"
         },
         "tracegroupgap": 0
        },
        "margin": {
         "t": 60
        },
        "template": {
         "data": {
          "bar": [
           {
            "error_x": {
             "color": "#2a3f5f"
            },
            "error_y": {
             "color": "#2a3f5f"
            },
            "marker": {
             "line": {
              "color": "#E5ECF6",
              "width": 0.5
             },
             "pattern": {
              "fillmode": "overlay",
              "size": 10,
              "solidity": 0.2
             }
            },
            "type": "bar"
           }
          ],
          "barpolar": [
           {
            "marker": {
             "line": {
              "color": "#E5ECF6",
              "width": 0.5
             },
             "pattern": {
              "fillmode": "overlay",
              "size": 10,
              "solidity": 0.2
             }
            },
            "type": "barpolar"
           }
          ],
          "carpet": [
           {
            "aaxis": {
             "endlinecolor": "#2a3f5f",
             "gridcolor": "white",
             "linecolor": "white",
             "minorgridcolor": "white",
             "startlinecolor": "#2a3f5f"
            },
            "baxis": {
             "endlinecolor": "#2a3f5f",
             "gridcolor": "white",
             "linecolor": "white",
             "minorgridcolor": "white",
             "startlinecolor": "#2a3f5f"
            },
            "type": "carpet"
           }
          ],
          "choropleth": [
           {
            "colorbar": {
             "outlinewidth": 0,
             "ticks": ""
            },
            "type": "choropleth"
           }
          ],
          "contour": [
           {
            "colorbar": {
             "outlinewidth": 0,
             "ticks": ""
            },
            "colorscale": [
             [
              0,
              "#0d0887"
             ],
             [
              0.1111111111111111,
              "#46039f"
             ],
             [
              0.2222222222222222,
              "#7201a8"
             ],
             [
              0.3333333333333333,
              "#9c179e"
             ],
             [
              0.4444444444444444,
              "#bd3786"
             ],
             [
              0.5555555555555556,
              "#d8576b"
             ],
             [
              0.6666666666666666,
              "#ed7953"
             ],
             [
              0.7777777777777778,
              "#fb9f3a"
             ],
             [
              0.8888888888888888,
              "#fdca26"
             ],
             [
              1,
              "#f0f921"
             ]
            ],
            "type": "contour"
           }
          ],
          "contourcarpet": [
           {
            "colorbar": {
             "outlinewidth": 0,
             "ticks": ""
            },
            "type": "contourcarpet"
           }
          ],
          "heatmap": [
           {
            "colorbar": {
             "outlinewidth": 0,
             "ticks": ""
            },
            "colorscale": [
             [
              0,
              "#0d0887"
             ],
             [
              0.1111111111111111,
              "#46039f"
             ],
             [
              0.2222222222222222,
              "#7201a8"
             ],
             [
              0.3333333333333333,
              "#9c179e"
             ],
             [
              0.4444444444444444,
              "#bd3786"
             ],
             [
              0.5555555555555556,
              "#d8576b"
             ],
             [
              0.6666666666666666,
              "#ed7953"
             ],
             [
              0.7777777777777778,
              "#fb9f3a"
             ],
             [
              0.8888888888888888,
              "#fdca26"
             ],
             [
              1,
              "#f0f921"
             ]
            ],
            "type": "heatmap"
           }
          ],
          "histogram": [
           {
            "marker": {
             "pattern": {
              "fillmode": "overlay",
              "size": 10,
              "solidity": 0.2
             }
            },
            "type": "histogram"
           }
          ],
          "histogram2d": [
           {
            "colorbar": {
             "outlinewidth": 0,
             "ticks": ""
            },
            "colorscale": [
             [
              0,
              "#0d0887"
             ],
             [
              0.1111111111111111,
              "#46039f"
             ],
             [
              0.2222222222222222,
              "#7201a8"
             ],
             [
              0.3333333333333333,
              "#9c179e"
             ],
             [
              0.4444444444444444,
              "#bd3786"
             ],
             [
              0.5555555555555556,
              "#d8576b"
             ],
             [
              0.6666666666666666,
              "#ed7953"
             ],
             [
              0.7777777777777778,
              "#fb9f3a"
             ],
             [
              0.8888888888888888,
              "#fdca26"
             ],
             [
              1,
              "#f0f921"
             ]
            ],
            "type": "histogram2d"
           }
          ],
          "histogram2dcontour": [
           {
            "colorbar": {
             "outlinewidth": 0,
             "ticks": ""
            },
            "colorscale": [
             [
              0,
              "#0d0887"
             ],
             [
              0.1111111111111111,
              "#46039f"
             ],
             [
              0.2222222222222222,
              "#7201a8"
             ],
             [
              0.3333333333333333,
              "#9c179e"
             ],
             [
              0.4444444444444444,
              "#bd3786"
             ],
             [
              0.5555555555555556,
              "#d8576b"
             ],
             [
              0.6666666666666666,
              "#ed7953"
             ],
             [
              0.7777777777777778,
              "#fb9f3a"
             ],
             [
              0.8888888888888888,
              "#fdca26"
             ],
             [
              1,
              "#f0f921"
             ]
            ],
            "type": "histogram2dcontour"
           }
          ],
          "mesh3d": [
           {
            "colorbar": {
             "outlinewidth": 0,
             "ticks": ""
            },
            "type": "mesh3d"
           }
          ],
          "parcoords": [
           {
            "line": {
             "colorbar": {
              "outlinewidth": 0,
              "ticks": ""
             }
            },
            "type": "parcoords"
           }
          ],
          "pie": [
           {
            "automargin": true,
            "type": "pie"
           }
          ],
          "scatter": [
           {
            "fillpattern": {
             "fillmode": "overlay",
             "size": 10,
             "solidity": 0.2
            },
            "type": "scatter"
           }
          ],
          "scatter3d": [
           {
            "line": {
             "colorbar": {
              "outlinewidth": 0,
              "ticks": ""
             }
            },
            "marker": {
             "colorbar": {
              "outlinewidth": 0,
              "ticks": ""
             }
            },
            "type": "scatter3d"
           }
          ],
          "scattercarpet": [
           {
            "marker": {
             "colorbar": {
              "outlinewidth": 0,
              "ticks": ""
             }
            },
            "type": "scattercarpet"
           }
          ],
          "scattergeo": [
           {
            "marker": {
             "colorbar": {
              "outlinewidth": 0,
              "ticks": ""
             }
            },
            "type": "scattergeo"
           }
          ],
          "scattergl": [
           {
            "marker": {
             "colorbar": {
              "outlinewidth": 0,
              "ticks": ""
             }
            },
            "type": "scattergl"
           }
          ],
          "scattermap": [
           {
            "marker": {
             "colorbar": {
              "outlinewidth": 0,
              "ticks": ""
             }
            },
            "type": "scattermap"
           }
          ],
          "scattermapbox": [
           {
            "marker": {
             "colorbar": {
              "outlinewidth": 0,
              "ticks": ""
             }
            },
            "type": "scattermapbox"
           }
          ],
          "scatterpolar": [
           {
            "marker": {
             "colorbar": {
              "outlinewidth": 0,
              "ticks": ""
             }
            },
            "type": "scatterpolar"
           }
          ],
          "scatterpolargl": [
           {
            "marker": {
             "colorbar": {
              "outlinewidth": 0,
              "ticks": ""
             }
            },
            "type": "scatterpolargl"
           }
          ],
          "scatterternary": [
           {
            "marker": {
             "colorbar": {
              "outlinewidth": 0,
              "ticks": ""
             }
            },
            "type": "scatterternary"
           }
          ],
          "surface": [
           {
            "colorbar": {
             "outlinewidth": 0,
             "ticks": ""
            },
            "colorscale": [
             [
              0,
              "#0d0887"
             ],
             [
              0.1111111111111111,
              "#46039f"
             ],
             [
              0.2222222222222222,
              "#7201a8"
             ],
             [
              0.3333333333333333,
              "#9c179e"
             ],
             [
              0.4444444444444444,
              "#bd3786"
             ],
             [
              0.5555555555555556,
              "#d8576b"
             ],
             [
              0.6666666666666666,
              "#ed7953"
             ],
             [
              0.7777777777777778,
              "#fb9f3a"
             ],
             [
              0.8888888888888888,
              "#fdca26"
             ],
             [
              1,
              "#f0f921"
             ]
            ],
            "type": "surface"
           }
          ],
          "table": [
           {
            "cells": {
             "fill": {
              "color": "#EBF0F8"
             },
             "line": {
              "color": "white"
             }
            },
            "header": {
             "fill": {
              "color": "#C8D4E3"
             },
             "line": {
              "color": "white"
             }
            },
            "type": "table"
           }
          ]
         },
         "layout": {
          "annotationdefaults": {
           "arrowcolor": "#2a3f5f",
           "arrowhead": 0,
           "arrowwidth": 1
          },
          "autotypenumbers": "strict",
          "coloraxis": {
           "colorbar": {
            "outlinewidth": 0,
            "ticks": ""
           }
          },
          "colorscale": {
           "diverging": [
            [
             0,
             "#8e0152"
            ],
            [
             0.1,
             "#c51b7d"
            ],
            [
             0.2,
             "#de77ae"
            ],
            [
             0.3,
             "#f1b6da"
            ],
            [
             0.4,
             "#fde0ef"
            ],
            [
             0.5,
             "#f7f7f7"
            ],
            [
             0.6,
             "#e6f5d0"
            ],
            [
             0.7,
             "#b8e186"
            ],
            [
             0.8,
             "#7fbc41"
            ],
            [
             0.9,
             "#4d9221"
            ],
            [
             1,
             "#276419"
            ]
           ],
           "sequential": [
            [
             0,
             "#0d0887"
            ],
            [
             0.1111111111111111,
             "#46039f"
            ],
            [
             0.2222222222222222,
             "#7201a8"
            ],
            [
             0.3333333333333333,
             "#9c179e"
            ],
            [
             0.4444444444444444,
             "#bd3786"
            ],
            [
             0.5555555555555556,
             "#d8576b"
            ],
            [
             0.6666666666666666,
             "#ed7953"
            ],
            [
             0.7777777777777778,
             "#fb9f3a"
            ],
            [
             0.8888888888888888,
             "#fdca26"
            ],
            [
             1,
             "#f0f921"
            ]
           ],
           "sequentialminus": [
            [
             0,
             "#0d0887"
            ],
            [
             0.1111111111111111,
             "#46039f"
            ],
            [
             0.2222222222222222,
             "#7201a8"
            ],
            [
             0.3333333333333333,
             "#9c179e"
            ],
            [
             0.4444444444444444,
             "#bd3786"
            ],
            [
             0.5555555555555556,
             "#d8576b"
            ],
            [
             0.6666666666666666,
             "#ed7953"
            ],
            [
             0.7777777777777778,
             "#fb9f3a"
            ],
            [
             0.8888888888888888,
             "#fdca26"
            ],
            [
             1,
             "#f0f921"
            ]
           ]
          },
          "colorway": [
           "#636efa",
           "#EF553B",
           "#00cc96",
           "#ab63fa",
           "#FFA15A",
           "#19d3f3",
           "#FF6692",
           "#B6E880",
           "#FF97FF",
           "#FECB52"
          ],
          "font": {
           "color": "#2a3f5f"
          },
          "geo": {
           "bgcolor": "white",
           "lakecolor": "white",
           "landcolor": "#E5ECF6",
           "showlakes": true,
           "showland": true,
           "subunitcolor": "white"
          },
          "hoverlabel": {
           "align": "left"
          },
          "hovermode": "closest",
          "mapbox": {
           "style": "light"
          },
          "paper_bgcolor": "white",
          "plot_bgcolor": "#E5ECF6",
          "polar": {
           "angularaxis": {
            "gridcolor": "white",
            "linecolor": "white",
            "ticks": ""
           },
           "bgcolor": "#E5ECF6",
           "radialaxis": {
            "gridcolor": "white",
            "linecolor": "white",
            "ticks": ""
           }
          },
          "scene": {
           "xaxis": {
            "backgroundcolor": "#E5ECF6",
            "gridcolor": "white",
            "gridwidth": 2,
            "linecolor": "white",
            "showbackground": true,
            "ticks": "",
            "zerolinecolor": "white"
           },
           "yaxis": {
            "backgroundcolor": "#E5ECF6",
            "gridcolor": "white",
            "gridwidth": 2,
            "linecolor": "white",
            "showbackground": true,
            "ticks": "",
            "zerolinecolor": "white"
           },
           "zaxis": {
            "backgroundcolor": "#E5ECF6",
            "gridcolor": "white",
            "gridwidth": 2,
            "linecolor": "white",
            "showbackground": true,
            "ticks": "",
            "zerolinecolor": "white"
           }
          },
          "shapedefaults": {
           "line": {
            "color": "#2a3f5f"
           }
          },
          "ternary": {
           "aaxis": {
            "gridcolor": "white",
            "linecolor": "white",
            "ticks": ""
           },
           "baxis": {
            "gridcolor": "white",
            "linecolor": "white",
            "ticks": ""
           },
           "bgcolor": "#E5ECF6",
           "caxis": {
            "gridcolor": "white",
            "linecolor": "white",
            "ticks": ""
           }
          },
          "title": {
           "x": 0.05
          },
          "xaxis": {
           "automargin": true,
           "gridcolor": "white",
           "linecolor": "white",
           "ticks": "",
           "title": {
            "standoff": 15
           },
           "zerolinecolor": "white",
           "zerolinewidth": 2
          },
          "yaxis": {
           "automargin": true,
           "gridcolor": "white",
           "linecolor": "white",
           "ticks": "",
           "title": {
            "standoff": 15
           },
           "zerolinecolor": "white",
           "zerolinewidth": 2
          }
         }
        },
        "xaxis": {
         "anchor": "y",
         "domain": [
          0,
          1
         ],
         "title": {
          "text": "price"
         }
        },
        "yaxis": {
         "anchor": "x",
         "categoryarray": [
          1,
          0,
          3,
          2
         ],
         "categoryorder": "array",
         "domain": [
          0,
          1
         ],
         "title": {
          "text": "parking"
         }
        }
       }
      }
     },
     "metadata": {},
     "output_type": "display_data"
    }
   ],
   "source": [
    "# Plot de Distribuição (BoxPlot) por price e parking\n",
    "\n",
    "px.box(df_housing, x='price', y='parking', color='parking', orientation='h')"
   ]
  },
  {
   "cell_type": "code",
   "execution_count": 29,
   "id": "c074a07b",
   "metadata": {},
   "outputs": [
    {
     "data": {
      "application/vnd.plotly.v1+json": {
       "config": {
        "plotlyServerURL": "https://plot.ly"
       },
       "data": [
        {
         "alignmentgroup": "True",
         "hovertemplate": "furnishingstatus=%{y}<br>price=%{x}<extra></extra>",
         "legendgroup": "furnished",
         "marker": {
          "color": "#636efa"
         },
         "name": "furnished",
         "notched": false,
         "offsetgroup": "furnished",
         "orientation": "h",
         "showlegend": true,
         "type": "box",
         "x": {
          "bdata": "IPHKAJDrugDYYroAUBquALCalgBAiZUAwP2MAAC4iACQpocAiOmDAIjpgwAY2IIAYE+CAFiSfgDA5nsALE57APi5egDgw3kAuCl4AAChdwBAW3MAiNJyANBJcgDwJnAAyIxuABAEbgAw4WsAeFhrAMDPagBQvmkAUL5pAOCsaABwm2cASAFmAJB4ZQCQeGUAkHhlAJB4ZQCQeGUA2O9kALBVYwBARGIAOPJhAIi7YQBgIWAAOIdeADiHXgC40VwAuNFcAKDbWwAwyloAMMpaADDKWgAwyloAMMpaAGidWQDglVcAAHNVAABzVQBI6lQAkGFUANjYUwAgUFMAIFBTALA+UgDQG1AA0BtQABiTTwDw+E0A8PhNAIDnTACA50wA+N9KAKDESgAws0kAwKFIAFCQRwCYB0cAKPZFAHBtRQBwbUUAGFJFALjkRAAAXEQAAFxEAKhARACoQEQAIDlCACA5QgAY50EAsCdBALAnQQCwJ0EAsCdBAPieQABAFkAAQBZAAMSJPgBg8z0AqGo9APDhPACA0DsAgNA7AIDQOwDIRzsAEL86AKCtOQCgrTkASJI5AEiSOQBIkjkAMJw4ANiAOAB4EzgAeBM4AMCKNwBQeTYAUHk2AFB5NgDgZzUAKN80AHBWNAC4zTMAuM0zAABFMwCoKTMAoNcyAJAzMgCQMzIAICIxALAQMADQ7S0AYNwsADhCKwCAuSoAMIUnAMBzJgDgUCQA4FAkAPCzGgA=",
          "dtype": "i4"
         },
         "x0": " ",
         "xaxis": "x",
         "y": [
          "furnished",
          "furnished",
          "furnished",
          "furnished",
          "furnished",
          "furnished",
          "furnished",
          "furnished",
          "furnished",
          "furnished",
          "furnished",
          "furnished",
          "furnished",
          "furnished",
          "furnished",
          "furnished",
          "furnished",
          "furnished",
          "furnished",
          "furnished",
          "furnished",
          "furnished",
          "furnished",
          "furnished",
          "furnished",
          "furnished",
          "furnished",
          "furnished",
          "furnished",
          "furnished",
          "furnished",
          "furnished",
          "furnished",
          "furnished",
          "furnished",
          "furnished",
          "furnished",
          "furnished",
          "furnished",
          "furnished",
          "furnished",
          "furnished",
          "furnished",
          "furnished",
          "furnished",
          "furnished",
          "furnished",
          "furnished",
          "furnished",
          "furnished",
          "furnished",
          "furnished",
          "furnished",
          "furnished",
          "furnished",
          "furnished",
          "furnished",
          "furnished",
          "furnished",
          "furnished",
          "furnished",
          "furnished",
          "furnished",
          "furnished",
          "furnished",
          "furnished",
          "furnished",
          "furnished",
          "furnished",
          "furnished",
          "furnished",
          "furnished",
          "furnished",
          "furnished",
          "furnished",
          "furnished",
          "furnished",
          "furnished",
          "furnished",
          "furnished",
          "furnished",
          "furnished",
          "furnished",
          "furnished",
          "furnished",
          "furnished",
          "furnished",
          "furnished",
          "furnished",
          "furnished",
          "furnished",
          "furnished",
          "furnished",
          "furnished",
          "furnished",
          "furnished",
          "furnished",
          "furnished",
          "furnished",
          "furnished",
          "furnished",
          "furnished",
          "furnished",
          "furnished",
          "furnished",
          "furnished",
          "furnished",
          "furnished",
          "furnished",
          "furnished",
          "furnished",
          "furnished",
          "furnished",
          "furnished",
          "furnished",
          "furnished",
          "furnished",
          "furnished",
          "furnished",
          "furnished",
          "furnished",
          "furnished",
          "furnished",
          "furnished",
          "furnished",
          "furnished",
          "furnished",
          "furnished",
          "furnished",
          "furnished",
          "furnished",
          "furnished",
          "furnished",
          "furnished",
          "furnished",
          "furnished",
          "furnished",
          "furnished",
          "furnished",
          "furnished"
         ],
         "y0": " ",
         "yaxis": "y"
        },
        {
         "alignmentgroup": "True",
         "hovertemplate": "furnishingstatus=%{y}<br>price=%{x}<extra></extra>",
         "legendgroup": "semi-furnished",
         "marker": {
          "color": "#EF553B"
         },
         "name": "semi-furnished",
         "notched": false,
         "offsetgroup": "semi-furnished",
         "orientation": "h",
         "showlegend": true,
         "type": "box",
         "x": {
          "bdata": "kOu6ANCOpQBw4JoAaLiTADAPjgDA/YwA4NqKANgdhwCwg4UAmCKBAIAsgACALIAAgCyAAHCyeAAgfnUAQFtzAGA4cQDwJnAA8CZwAJgLcAAQBG4AoPJsADDhawBwm2cAkHhlAIgmZQDY72QAIGdkALBVYwD4zGIAQERiAGAhYABgIWAAYCFgAGAhYAA4h14AgP5dAGwxXQAQ7VwAEO1cAKDbWwAwyloAMMpaADDKWgDYrloAaJ1ZAFCnWABQp1gA+ItYAOCVVwDglVcAFEBWAABzVQAAc1UAAHNVAABzVQAAc1UASOpUAJBhVACQYVQAOEZUANjYUwAgUFMAIFBTAGjHUgCIpFAA0BtQANAbUADQG1AA0BtQAHgAUADIyU8AGJNPABiTTwCogU4AqIFOAPD4TQCA50wAgOdMACjMTADIXkwAENZLABDWSwBgn0sAWE1LAKDESgCgxEoAoMRKAKDESgCgxEoAoMRKAKDESgCgxEoAoMRKAKDESgBIqUoASKlKADCzSQAws0kAeCpJABi9SADAoUgAaIZIAFCQRwBQkEcAUJBHAFCQRwBQkEcA4H5GAOB+RgDgfkYA4H5GAIhjRgAo9kUAcG1FAHBtRQBwbUUAGFJFALjkRAC45EQAuOREAABcRAAAXEQAqEBEAEjTQwCQSkMAkEpDADgvQwA4L0MAMN1CACA5QgAgOUIAIDlCAGiwQQBosEEACENBAPieQABAFkAAQBZAAEAWQABAFkAAQBZAAEAWQABAFkAAQBZAAEAWQADo+j8A6Po/AIiNPwCIjT8AiI0/ANAEPwDQBD8AeOk+ABh8PgAYfD4AGHw+AGDzPQBg8z0AqGo9AKhqPQBMJj0ATCY9APDhPADw4TwAgNA7AIDQOwCA0DsAyEc7ABC/OgAQvzoAEL86ABC/OgAQvzoAEL86AFg2OgCgrTkAoK05AKCtOQDoJDkAMJw4ADCcOAAwnDgA2IA4AHgTOADAijcAwIo3AMCKNwDAijcAwIo3AMCKNwAIAjcACAI3AOBnNQDgZzUA4Gc1AOBnNQDgZzUA4Gc1AABFMwAARTMAkDMyAJAzMgDYqjEAsBAwALAQMACwEDAAsBAwALAQMAACly8AQP8uAED/LgDQ7S0A0O0tANDtLQDQ7S0AaC4tAGDcLABg3CwA8MorADhCKwCgligAoJYoAKCWKAAI6yUAuLYiAO72GgA=",
          "dtype": "i4"
         },
         "x0": " ",
         "xaxis": "x",
         "y": [
          "semi-furnished",
          "semi-furnished",
          "semi-furnished",
          "semi-furnished",
          "semi-furnished",
          "semi-furnished",
          "semi-furnished",
          "semi-furnished",
          "semi-furnished",
          "semi-furnished",
          "semi-furnished",
          "semi-furnished",
          "semi-furnished",
          "semi-furnished",
          "semi-furnished",
          "semi-furnished",
          "semi-furnished",
          "semi-furnished",
          "semi-furnished",
          "semi-furnished",
          "semi-furnished",
          "semi-furnished",
          "semi-furnished",
          "semi-furnished",
          "semi-furnished",
          "semi-furnished",
          "semi-furnished",
          "semi-furnished",
          "semi-furnished",
          "semi-furnished",
          "semi-furnished",
          "semi-furnished",
          "semi-furnished",
          "semi-furnished",
          "semi-furnished",
          "semi-furnished",
          "semi-furnished",
          "semi-furnished",
          "semi-furnished",
          "semi-furnished",
          "semi-furnished",
          "semi-furnished",
          "semi-furnished",
          "semi-furnished",
          "semi-furnished",
          "semi-furnished",
          "semi-furnished",
          "semi-furnished",
          "semi-furnished",
          "semi-furnished",
          "semi-furnished",
          "semi-furnished",
          "semi-furnished",
          "semi-furnished",
          "semi-furnished",
          "semi-furnished",
          "semi-furnished",
          "semi-furnished",
          "semi-furnished",
          "semi-furnished",
          "semi-furnished",
          "semi-furnished",
          "semi-furnished",
          "semi-furnished",
          "semi-furnished",
          "semi-furnished",
          "semi-furnished",
          "semi-furnished",
          "semi-furnished",
          "semi-furnished",
          "semi-furnished",
          "semi-furnished",
          "semi-furnished",
          "semi-furnished",
          "semi-furnished",
          "semi-furnished",
          "semi-furnished",
          "semi-furnished",
          "semi-furnished",
          "semi-furnished",
          "semi-furnished",
          "semi-furnished",
          "semi-furnished",
          "semi-furnished",
          "semi-furnished",
          "semi-furnished",
          "semi-furnished",
          "semi-furnished",
          "semi-furnished",
          "semi-furnished",
          "semi-furnished",
          "semi-furnished",
          "semi-furnished",
          "semi-furnished",
          "semi-furnished",
          "semi-furnished",
          "semi-furnished",
          "semi-furnished",
          "semi-furnished",
          "semi-furnished",
          "semi-furnished",
          "semi-furnished",
          "semi-furnished",
          "semi-furnished",
          "semi-furnished",
          "semi-furnished",
          "semi-furnished",
          "semi-furnished",
          "semi-furnished",
          "semi-furnished",
          "semi-furnished",
          "semi-furnished",
          "semi-furnished",
          "semi-furnished",
          "semi-furnished",
          "semi-furnished",
          "semi-furnished",
          "semi-furnished",
          "semi-furnished",
          "semi-furnished",
          "semi-furnished",
          "semi-furnished",
          "semi-furnished",
          "semi-furnished",
          "semi-furnished",
          "semi-furnished",
          "semi-furnished",
          "semi-furnished",
          "semi-furnished",
          "semi-furnished",
          "semi-furnished",
          "semi-furnished",
          "semi-furnished",
          "semi-furnished",
          "semi-furnished",
          "semi-furnished",
          "semi-furnished",
          "semi-furnished",
          "semi-furnished",
          "semi-furnished",
          "semi-furnished",
          "semi-furnished",
          "semi-furnished",
          "semi-furnished",
          "semi-furnished",
          "semi-furnished",
          "semi-furnished",
          "semi-furnished",
          "semi-furnished",
          "semi-furnished",
          "semi-furnished",
          "semi-furnished",
          "semi-furnished",
          "semi-furnished",
          "semi-furnished",
          "semi-furnished",
          "semi-furnished",
          "semi-furnished",
          "semi-furnished",
          "semi-furnished",
          "semi-furnished",
          "semi-furnished",
          "semi-furnished",
          "semi-furnished",
          "semi-furnished",
          "semi-furnished",
          "semi-furnished",
          "semi-furnished",
          "semi-furnished",
          "semi-furnished",
          "semi-furnished",
          "semi-furnished",
          "semi-furnished",
          "semi-furnished",
          "semi-furnished",
          "semi-furnished",
          "semi-furnished",
          "semi-furnished",
          "semi-furnished",
          "semi-furnished",
          "semi-furnished",
          "semi-furnished",
          "semi-furnished",
          "semi-furnished",
          "semi-furnished",
          "semi-furnished",
          "semi-furnished",
          "semi-furnished",
          "semi-furnished",
          "semi-furnished",
          "semi-furnished",
          "semi-furnished",
          "semi-furnished",
          "semi-furnished",
          "semi-furnished",
          "semi-furnished",
          "semi-furnished",
          "semi-furnished",
          "semi-furnished",
          "semi-furnished",
          "semi-furnished",
          "semi-furnished",
          "semi-furnished",
          "semi-furnished",
          "semi-furnished",
          "semi-furnished",
          "semi-furnished",
          "semi-furnished",
          "semi-furnished",
          "semi-furnished",
          "semi-furnished",
          "semi-furnished",
          "semi-furnished",
          "semi-furnished",
          "semi-furnished",
          "semi-furnished",
          "semi-furnished",
          "semi-furnished",
          "semi-furnished",
          "semi-furnished",
          "semi-furnished",
          "semi-furnished",
          "semi-furnished",
          "semi-furnished",
          "semi-furnished",
          "semi-furnished",
          "semi-furnished"
         ],
         "y0": " ",
         "yaxis": "y"
        },
        {
         "alignmentgroup": "True",
         "hovertemplate": "furnishingstatus=%{y}<br>price=%{x}<extra></extra>",
         "legendgroup": "unfurnished",
         "marker": {
          "color": "#00cc96"
         },
         "name": "unfurnished",
         "notched": false,
         "offsetgroup": "unfurnished",
         "orientation": "h",
         "showlegend": true,
         "type": "box",
         "x": {
          "bdata": "cOCaAECJlQDg2ooAQHKEAIAsgACALIAAMPh8AIR/eQAgfnUAGMFxAGA4cQBgOHEA8CZwAJg1aQC4EmcAAIpmALBVYwD4zGIACAZgAKiYXwDwD18A8A9fAID+XQDIdV0AEO1cAKDbWwDAuFkAwLhZABCCWQBQp1gAmB5YAOCVVwDglVcAAHNVAABzVQBYI1IAQC1RANAbUADQG1AA0BtQAPD4TQA4cE0AoMRKAOg7SgAws0kAeCpJAMChSADgfkYAcG1FAHBtRQAAXEQAOC9DANjBQgCwJ0EAsCdBAEAWQABAFkAAQBZAAEAWQABAFkAAQBZAAGDzPQBg8z0A8OE8APDhPACA0DsAYIg6AKCtOQAwnDgAeBM4AMCKNwDAijcAaG83AFB5NgCY8DUA4Gc1AOBnNQDgZzUA4Gc1AOBnNQDgZzUA4Gc1AOBnNQDgZzUA4Gc1AIhMNQAo3zQAKN80AHBWNABwVjQAcFY0AHBWNABwVjQAGDs0ALjNMwAARTMAAEUzAABFMwAARTMAAEUzAEi8MgBIvDIAkDMyAJAzMgCQMzIAkDMyANiqMQDQWDEAICIxACAiMQAgIjEAsBAwALAQMACwEDAAWPUvAKi+LwD4hy8A+IcvAPiHLwCYGi8AQP8uAED/LgCIdi4A0O0tANDtLQB40i0AGGUtAGDcLABg3CwAYNwsAGDcLABg3CwA8MorAPDKKwDwyisAlIYrADhCKwCAuSoAEKgpABCoKQBYHykAoJYoAKCWKACgligAoJYoAEh7KABIeygA4LsnADCFJwAwhScAwHMmAMBzJgAI6yUAUGIlAFBiJQBQYiUAUGIlAFBiJQBQYiUAQL4kAOBQJAAoyCMAcD8jALi2IgC4tiIAAC4iAKgSIgDYkyAAIAsgACALIAAgCyAAQOgdANDWHADQ1hwAGE4cAGDFGwDwsxoA8LMaAA==",
          "dtype": "i4"
         },
         "x0": " ",
         "xaxis": "x",
         "y": [
          "unfurnished",
          "unfurnished",
          "unfurnished",
          "unfurnished",
          "unfurnished",
          "unfurnished",
          "unfurnished",
          "unfurnished",
          "unfurnished",
          "unfurnished",
          "unfurnished",
          "unfurnished",
          "unfurnished",
          "unfurnished",
          "unfurnished",
          "unfurnished",
          "unfurnished",
          "unfurnished",
          "unfurnished",
          "unfurnished",
          "unfurnished",
          "unfurnished",
          "unfurnished",
          "unfurnished",
          "unfurnished",
          "unfurnished",
          "unfurnished",
          "unfurnished",
          "unfurnished",
          "unfurnished",
          "unfurnished",
          "unfurnished",
          "unfurnished",
          "unfurnished",
          "unfurnished",
          "unfurnished",
          "unfurnished",
          "unfurnished",
          "unfurnished",
          "unfurnished",
          "unfurnished",
          "unfurnished",
          "unfurnished",
          "unfurnished",
          "unfurnished",
          "unfurnished",
          "unfurnished",
          "unfurnished",
          "unfurnished",
          "unfurnished",
          "unfurnished",
          "unfurnished",
          "unfurnished",
          "unfurnished",
          "unfurnished",
          "unfurnished",
          "unfurnished",
          "unfurnished",
          "unfurnished",
          "unfurnished",
          "unfurnished",
          "unfurnished",
          "unfurnished",
          "unfurnished",
          "unfurnished",
          "unfurnished",
          "unfurnished",
          "unfurnished",
          "unfurnished",
          "unfurnished",
          "unfurnished",
          "unfurnished",
          "unfurnished",
          "unfurnished",
          "unfurnished",
          "unfurnished",
          "unfurnished",
          "unfurnished",
          "unfurnished",
          "unfurnished",
          "unfurnished",
          "unfurnished",
          "unfurnished",
          "unfurnished",
          "unfurnished",
          "unfurnished",
          "unfurnished",
          "unfurnished",
          "unfurnished",
          "unfurnished",
          "unfurnished",
          "unfurnished",
          "unfurnished",
          "unfurnished",
          "unfurnished",
          "unfurnished",
          "unfurnished",
          "unfurnished",
          "unfurnished",
          "unfurnished",
          "unfurnished",
          "unfurnished",
          "unfurnished",
          "unfurnished",
          "unfurnished",
          "unfurnished",
          "unfurnished",
          "unfurnished",
          "unfurnished",
          "unfurnished",
          "unfurnished",
          "unfurnished",
          "unfurnished",
          "unfurnished",
          "unfurnished",
          "unfurnished",
          "unfurnished",
          "unfurnished",
          "unfurnished",
          "unfurnished",
          "unfurnished",
          "unfurnished",
          "unfurnished",
          "unfurnished",
          "unfurnished",
          "unfurnished",
          "unfurnished",
          "unfurnished",
          "unfurnished",
          "unfurnished",
          "unfurnished",
          "unfurnished",
          "unfurnished",
          "unfurnished",
          "unfurnished",
          "unfurnished",
          "unfurnished",
          "unfurnished",
          "unfurnished",
          "unfurnished",
          "unfurnished",
          "unfurnished",
          "unfurnished",
          "unfurnished",
          "unfurnished",
          "unfurnished",
          "unfurnished",
          "unfurnished",
          "unfurnished",
          "unfurnished",
          "unfurnished",
          "unfurnished",
          "unfurnished",
          "unfurnished",
          "unfurnished",
          "unfurnished",
          "unfurnished",
          "unfurnished",
          "unfurnished",
          "unfurnished",
          "unfurnished",
          "unfurnished",
          "unfurnished",
          "unfurnished",
          "unfurnished",
          "unfurnished",
          "unfurnished",
          "unfurnished",
          "unfurnished",
          "unfurnished",
          "unfurnished",
          "unfurnished",
          "unfurnished",
          "unfurnished",
          "unfurnished",
          "unfurnished",
          "unfurnished",
          "unfurnished"
         ],
         "y0": " ",
         "yaxis": "y"
        }
       ],
       "layout": {
        "boxmode": "overlay",
        "legend": {
         "title": {
          "text": "furnishingstatus"
         },
         "tracegroupgap": 0
        },
        "margin": {
         "t": 60
        },
        "template": {
         "data": {
          "bar": [
           {
            "error_x": {
             "color": "#2a3f5f"
            },
            "error_y": {
             "color": "#2a3f5f"
            },
            "marker": {
             "line": {
              "color": "#E5ECF6",
              "width": 0.5
             },
             "pattern": {
              "fillmode": "overlay",
              "size": 10,
              "solidity": 0.2
             }
            },
            "type": "bar"
           }
          ],
          "barpolar": [
           {
            "marker": {
             "line": {
              "color": "#E5ECF6",
              "width": 0.5
             },
             "pattern": {
              "fillmode": "overlay",
              "size": 10,
              "solidity": 0.2
             }
            },
            "type": "barpolar"
           }
          ],
          "carpet": [
           {
            "aaxis": {
             "endlinecolor": "#2a3f5f",
             "gridcolor": "white",
             "linecolor": "white",
             "minorgridcolor": "white",
             "startlinecolor": "#2a3f5f"
            },
            "baxis": {
             "endlinecolor": "#2a3f5f",
             "gridcolor": "white",
             "linecolor": "white",
             "minorgridcolor": "white",
             "startlinecolor": "#2a3f5f"
            },
            "type": "carpet"
           }
          ],
          "choropleth": [
           {
            "colorbar": {
             "outlinewidth": 0,
             "ticks": ""
            },
            "type": "choropleth"
           }
          ],
          "contour": [
           {
            "colorbar": {
             "outlinewidth": 0,
             "ticks": ""
            },
            "colorscale": [
             [
              0,
              "#0d0887"
             ],
             [
              0.1111111111111111,
              "#46039f"
             ],
             [
              0.2222222222222222,
              "#7201a8"
             ],
             [
              0.3333333333333333,
              "#9c179e"
             ],
             [
              0.4444444444444444,
              "#bd3786"
             ],
             [
              0.5555555555555556,
              "#d8576b"
             ],
             [
              0.6666666666666666,
              "#ed7953"
             ],
             [
              0.7777777777777778,
              "#fb9f3a"
             ],
             [
              0.8888888888888888,
              "#fdca26"
             ],
             [
              1,
              "#f0f921"
             ]
            ],
            "type": "contour"
           }
          ],
          "contourcarpet": [
           {
            "colorbar": {
             "outlinewidth": 0,
             "ticks": ""
            },
            "type": "contourcarpet"
           }
          ],
          "heatmap": [
           {
            "colorbar": {
             "outlinewidth": 0,
             "ticks": ""
            },
            "colorscale": [
             [
              0,
              "#0d0887"
             ],
             [
              0.1111111111111111,
              "#46039f"
             ],
             [
              0.2222222222222222,
              "#7201a8"
             ],
             [
              0.3333333333333333,
              "#9c179e"
             ],
             [
              0.4444444444444444,
              "#bd3786"
             ],
             [
              0.5555555555555556,
              "#d8576b"
             ],
             [
              0.6666666666666666,
              "#ed7953"
             ],
             [
              0.7777777777777778,
              "#fb9f3a"
             ],
             [
              0.8888888888888888,
              "#fdca26"
             ],
             [
              1,
              "#f0f921"
             ]
            ],
            "type": "heatmap"
           }
          ],
          "histogram": [
           {
            "marker": {
             "pattern": {
              "fillmode": "overlay",
              "size": 10,
              "solidity": 0.2
             }
            },
            "type": "histogram"
           }
          ],
          "histogram2d": [
           {
            "colorbar": {
             "outlinewidth": 0,
             "ticks": ""
            },
            "colorscale": [
             [
              0,
              "#0d0887"
             ],
             [
              0.1111111111111111,
              "#46039f"
             ],
             [
              0.2222222222222222,
              "#7201a8"
             ],
             [
              0.3333333333333333,
              "#9c179e"
             ],
             [
              0.4444444444444444,
              "#bd3786"
             ],
             [
              0.5555555555555556,
              "#d8576b"
             ],
             [
              0.6666666666666666,
              "#ed7953"
             ],
             [
              0.7777777777777778,
              "#fb9f3a"
             ],
             [
              0.8888888888888888,
              "#fdca26"
             ],
             [
              1,
              "#f0f921"
             ]
            ],
            "type": "histogram2d"
           }
          ],
          "histogram2dcontour": [
           {
            "colorbar": {
             "outlinewidth": 0,
             "ticks": ""
            },
            "colorscale": [
             [
              0,
              "#0d0887"
             ],
             [
              0.1111111111111111,
              "#46039f"
             ],
             [
              0.2222222222222222,
              "#7201a8"
             ],
             [
              0.3333333333333333,
              "#9c179e"
             ],
             [
              0.4444444444444444,
              "#bd3786"
             ],
             [
              0.5555555555555556,
              "#d8576b"
             ],
             [
              0.6666666666666666,
              "#ed7953"
             ],
             [
              0.7777777777777778,
              "#fb9f3a"
             ],
             [
              0.8888888888888888,
              "#fdca26"
             ],
             [
              1,
              "#f0f921"
             ]
            ],
            "type": "histogram2dcontour"
           }
          ],
          "mesh3d": [
           {
            "colorbar": {
             "outlinewidth": 0,
             "ticks": ""
            },
            "type": "mesh3d"
           }
          ],
          "parcoords": [
           {
            "line": {
             "colorbar": {
              "outlinewidth": 0,
              "ticks": ""
             }
            },
            "type": "parcoords"
           }
          ],
          "pie": [
           {
            "automargin": true,
            "type": "pie"
           }
          ],
          "scatter": [
           {
            "fillpattern": {
             "fillmode": "overlay",
             "size": 10,
             "solidity": 0.2
            },
            "type": "scatter"
           }
          ],
          "scatter3d": [
           {
            "line": {
             "colorbar": {
              "outlinewidth": 0,
              "ticks": ""
             }
            },
            "marker": {
             "colorbar": {
              "outlinewidth": 0,
              "ticks": ""
             }
            },
            "type": "scatter3d"
           }
          ],
          "scattercarpet": [
           {
            "marker": {
             "colorbar": {
              "outlinewidth": 0,
              "ticks": ""
             }
            },
            "type": "scattercarpet"
           }
          ],
          "scattergeo": [
           {
            "marker": {
             "colorbar": {
              "outlinewidth": 0,
              "ticks": ""
             }
            },
            "type": "scattergeo"
           }
          ],
          "scattergl": [
           {
            "marker": {
             "colorbar": {
              "outlinewidth": 0,
              "ticks": ""
             }
            },
            "type": "scattergl"
           }
          ],
          "scattermap": [
           {
            "marker": {
             "colorbar": {
              "outlinewidth": 0,
              "ticks": ""
             }
            },
            "type": "scattermap"
           }
          ],
          "scattermapbox": [
           {
            "marker": {
             "colorbar": {
              "outlinewidth": 0,
              "ticks": ""
             }
            },
            "type": "scattermapbox"
           }
          ],
          "scatterpolar": [
           {
            "marker": {
             "colorbar": {
              "outlinewidth": 0,
              "ticks": ""
             }
            },
            "type": "scatterpolar"
           }
          ],
          "scatterpolargl": [
           {
            "marker": {
             "colorbar": {
              "outlinewidth": 0,
              "ticks": ""
             }
            },
            "type": "scatterpolargl"
           }
          ],
          "scatterternary": [
           {
            "marker": {
             "colorbar": {
              "outlinewidth": 0,
              "ticks": ""
             }
            },
            "type": "scatterternary"
           }
          ],
          "surface": [
           {
            "colorbar": {
             "outlinewidth": 0,
             "ticks": ""
            },
            "colorscale": [
             [
              0,
              "#0d0887"
             ],
             [
              0.1111111111111111,
              "#46039f"
             ],
             [
              0.2222222222222222,
              "#7201a8"
             ],
             [
              0.3333333333333333,
              "#9c179e"
             ],
             [
              0.4444444444444444,
              "#bd3786"
             ],
             [
              0.5555555555555556,
              "#d8576b"
             ],
             [
              0.6666666666666666,
              "#ed7953"
             ],
             [
              0.7777777777777778,
              "#fb9f3a"
             ],
             [
              0.8888888888888888,
              "#fdca26"
             ],
             [
              1,
              "#f0f921"
             ]
            ],
            "type": "surface"
           }
          ],
          "table": [
           {
            "cells": {
             "fill": {
              "color": "#EBF0F8"
             },
             "line": {
              "color": "white"
             }
            },
            "header": {
             "fill": {
              "color": "#C8D4E3"
             },
             "line": {
              "color": "white"
             }
            },
            "type": "table"
           }
          ]
         },
         "layout": {
          "annotationdefaults": {
           "arrowcolor": "#2a3f5f",
           "arrowhead": 0,
           "arrowwidth": 1
          },
          "autotypenumbers": "strict",
          "coloraxis": {
           "colorbar": {
            "outlinewidth": 0,
            "ticks": ""
           }
          },
          "colorscale": {
           "diverging": [
            [
             0,
             "#8e0152"
            ],
            [
             0.1,
             "#c51b7d"
            ],
            [
             0.2,
             "#de77ae"
            ],
            [
             0.3,
             "#f1b6da"
            ],
            [
             0.4,
             "#fde0ef"
            ],
            [
             0.5,
             "#f7f7f7"
            ],
            [
             0.6,
             "#e6f5d0"
            ],
            [
             0.7,
             "#b8e186"
            ],
            [
             0.8,
             "#7fbc41"
            ],
            [
             0.9,
             "#4d9221"
            ],
            [
             1,
             "#276419"
            ]
           ],
           "sequential": [
            [
             0,
             "#0d0887"
            ],
            [
             0.1111111111111111,
             "#46039f"
            ],
            [
             0.2222222222222222,
             "#7201a8"
            ],
            [
             0.3333333333333333,
             "#9c179e"
            ],
            [
             0.4444444444444444,
             "#bd3786"
            ],
            [
             0.5555555555555556,
             "#d8576b"
            ],
            [
             0.6666666666666666,
             "#ed7953"
            ],
            [
             0.7777777777777778,
             "#fb9f3a"
            ],
            [
             0.8888888888888888,
             "#fdca26"
            ],
            [
             1,
             "#f0f921"
            ]
           ],
           "sequentialminus": [
            [
             0,
             "#0d0887"
            ],
            [
             0.1111111111111111,
             "#46039f"
            ],
            [
             0.2222222222222222,
             "#7201a8"
            ],
            [
             0.3333333333333333,
             "#9c179e"
            ],
            [
             0.4444444444444444,
             "#bd3786"
            ],
            [
             0.5555555555555556,
             "#d8576b"
            ],
            [
             0.6666666666666666,
             "#ed7953"
            ],
            [
             0.7777777777777778,
             "#fb9f3a"
            ],
            [
             0.8888888888888888,
             "#fdca26"
            ],
            [
             1,
             "#f0f921"
            ]
           ]
          },
          "colorway": [
           "#636efa",
           "#EF553B",
           "#00cc96",
           "#ab63fa",
           "#FFA15A",
           "#19d3f3",
           "#FF6692",
           "#B6E880",
           "#FF97FF",
           "#FECB52"
          ],
          "font": {
           "color": "#2a3f5f"
          },
          "geo": {
           "bgcolor": "white",
           "lakecolor": "white",
           "landcolor": "#E5ECF6",
           "showlakes": true,
           "showland": true,
           "subunitcolor": "white"
          },
          "hoverlabel": {
           "align": "left"
          },
          "hovermode": "closest",
          "mapbox": {
           "style": "light"
          },
          "paper_bgcolor": "white",
          "plot_bgcolor": "#E5ECF6",
          "polar": {
           "angularaxis": {
            "gridcolor": "white",
            "linecolor": "white",
            "ticks": ""
           },
           "bgcolor": "#E5ECF6",
           "radialaxis": {
            "gridcolor": "white",
            "linecolor": "white",
            "ticks": ""
           }
          },
          "scene": {
           "xaxis": {
            "backgroundcolor": "#E5ECF6",
            "gridcolor": "white",
            "gridwidth": 2,
            "linecolor": "white",
            "showbackground": true,
            "ticks": "",
            "zerolinecolor": "white"
           },
           "yaxis": {
            "backgroundcolor": "#E5ECF6",
            "gridcolor": "white",
            "gridwidth": 2,
            "linecolor": "white",
            "showbackground": true,
            "ticks": "",
            "zerolinecolor": "white"
           },
           "zaxis": {
            "backgroundcolor": "#E5ECF6",
            "gridcolor": "white",
            "gridwidth": 2,
            "linecolor": "white",
            "showbackground": true,
            "ticks": "",
            "zerolinecolor": "white"
           }
          },
          "shapedefaults": {
           "line": {
            "color": "#2a3f5f"
           }
          },
          "ternary": {
           "aaxis": {
            "gridcolor": "white",
            "linecolor": "white",
            "ticks": ""
           },
           "baxis": {
            "gridcolor": "white",
            "linecolor": "white",
            "ticks": ""
           },
           "bgcolor": "#E5ECF6",
           "caxis": {
            "gridcolor": "white",
            "linecolor": "white",
            "ticks": ""
           }
          },
          "title": {
           "x": 0.05
          },
          "xaxis": {
           "automargin": true,
           "gridcolor": "white",
           "linecolor": "white",
           "ticks": "",
           "title": {
            "standoff": 15
           },
           "zerolinecolor": "white",
           "zerolinewidth": 2
          },
          "yaxis": {
           "automargin": true,
           "gridcolor": "white",
           "linecolor": "white",
           "ticks": "",
           "title": {
            "standoff": 15
           },
           "zerolinecolor": "white",
           "zerolinewidth": 2
          }
         }
        },
        "xaxis": {
         "anchor": "y",
         "domain": [
          0,
          1
         ],
         "title": {
          "text": "price"
         }
        },
        "yaxis": {
         "anchor": "x",
         "categoryarray": [
          "unfurnished",
          "semi-furnished",
          "furnished"
         ],
         "categoryorder": "array",
         "domain": [
          0,
          1
         ],
         "title": {
          "text": "furnishingstatus"
         }
        }
       }
      }
     },
     "metadata": {},
     "output_type": "display_data"
    }
   ],
   "source": [
    "# Plot de Distribuição (BoxPlot) por price e furnishingstatus\n",
    "\n",
    "px.box(df_housing, x='price', y='furnishingstatus', color='furnishingstatus', orientation='h')"
   ]
  },
  {
   "cell_type": "code",
   "execution_count": 31,
   "id": "5fcd7e87",
   "metadata": {},
   "outputs": [],
   "source": [
    "# Gerar Matriz de correlação\n",
    "\n",
    "matriz_correlacao_housing = df_housing.corr(numeric_only=True)"
   ]
  },
  {
   "cell_type": "code",
   "execution_count": 32,
   "id": "d21139b5",
   "metadata": {},
   "outputs": [
    {
     "data": {
      "text/plain": [
       "<Axes: >"
      ]
     },
     "execution_count": 32,
     "metadata": {},
     "output_type": "execute_result"
    },
    {
     "data": {
      "image/png": "[encoded data removed]",
      "text/plain": [
       "<Figure size 640x480 with 2 Axes>"
      ]
     },
     "metadata": {},
     "output_type": "display_data"
    }
   ],
   "source": [
    "# Plotar Matriz de Correlação\n",
    "\n",
    "sns.heatmap(matriz_correlacao_housing, vmin=-1, vmax=1, annot=True)"
   ]
  },
  {
   "cell_type": "markdown",
   "id": "7d889291",
   "metadata": {},
   "source": [
    "### Treinar o algoritmo PCA"
   ]
  },
  {
   "cell_type": "code",
   "execution_count": null,
   "id": "1c675a22",
   "metadata": {},
   "outputs": [],
   "source": [
    "# Selecionar as colunas para PCA\n",
    "X = df_housing.copy()"
   ]
  },
  {
   "cell_type": "code",
   "execution_count": 35,
   "id": "a6541c26",
   "metadata": {},
   "outputs": [],
   "source": [
    "# Separar variáveis\n",
    "\n",
    "numeric_features = ['price', 'area', 'bedrooms', 'bathrooms', 'stories', 'parking']\n",
    "categorical_features = ['mainroad', 'guestroom', 'basement', 'hotwaterheating', 'airconditioning', 'prefarea', 'furnishingstatus']\n",
    "\n",
    "# Definir transformações\n",
    "numeric_transformer = StandardScaler()\n",
    "categorical_transformer = OneHotEncoder()"
   ]
  },
  {
   "cell_type": "code",
   "execution_count": 36,
   "id": "e1be710d",
   "metadata": {},
   "outputs": [
    {
     "data": {
      "text/plain": [
       "array([[ 4.56636513,  1.04672629,  1.40341936, ...,  1.        ,\n",
       "         0.        ,  0.        ],\n",
       "       [ 4.00448405,  1.75700953,  1.40341936, ...,  1.        ,\n",
       "         0.        ,  0.        ],\n",
       "       [ 4.00448405,  2.21823241,  0.04727831, ...,  0.        ,\n",
       "         1.        ,  0.        ],\n",
       "       ...,\n",
       "       [-1.61432675, -0.70592066, -1.30886273, ...,  0.        ,\n",
       "         0.        ,  1.        ],\n",
       "       [-1.61432675, -1.03338891,  0.04727831, ...,  1.        ,\n",
       "         0.        ,  0.        ],\n",
       "       [-1.61432675, -0.5998394 ,  0.04727831, ...,  0.        ,\n",
       "         0.        ,  1.        ]], shape=(545, 21))"
      ]
     },
     "execution_count": 36,
     "metadata": {},
     "output_type": "execute_result"
    }
   ],
   "source": [
    "# Criar Pre Processador de Transformações\n",
    "\n",
    "preprocessor = ColumnTransformer(\n",
    "    transformers=[\n",
    "        ('num', numeric_transformer, numeric_features),\n",
    "        ('cat', categorical_transformer, categorical_features)\n",
    "    ]\n",
    ")\n",
    "\n",
    "# Transformar os dados\n",
    "X_transformed = preprocessor.fit_transform(X)\n",
    "\n",
    "# Visualizar o X_transformed\n",
    "X_transformed"
   ]
  },
  {
   "cell_type": "code",
   "execution_count": 37,
   "id": "287507d3",
   "metadata": {},
   "outputs": [
    {
     "data": {
      "text/plain": [
       "array([[ 1.05672366,  1.08502975,  0.7480314 , ..., -0.50960856,\n",
       "        -0.47648989, -0.44358247],\n",
       "       [ 1.08502975,  2.08301106,  0.79633869, ..., -0.66968499,\n",
       "        -0.66398848, -0.57348981],\n",
       "       [ 0.7480314 ,  0.79633869,  0.97366726, ..., -0.35841653,\n",
       "        -0.48178103, -0.4328597 ],\n",
       "       ...,\n",
       "       [-0.50960856, -0.66968499, -0.35841653, ...,  0.68007692,\n",
       "         0.50027532,  0.52732832],\n",
       "       [-0.47648989, -0.66398848, -0.48178103, ...,  0.50027532,\n",
       "         0.61527198,  0.4313385 ],\n",
       "       [-0.44358247, -0.57348981, -0.4328597 , ...,  0.52732832,\n",
       "         0.4313385 ,  0.5173675 ]], shape=(545, 545))"
      ]
     },
     "execution_count": 37,
     "metadata": {},
     "output_type": "execute_result"
    }
   ],
   "source": [
    "# Matriz de Covariância\n",
    "\n",
    "np.cov(X_transformed)"
   ]
  },
  {
   "cell_type": "code",
   "execution_count": 38,
   "id": "1a59a88c",
   "metadata": {},
   "outputs": [],
   "source": [
    "# Criar modelo PCA\n",
    "\n",
    "modelo_pca = PCA(n_components=3)"
   ]
  },
  {
   "cell_type": "code",
   "execution_count": 39,
   "id": "c2dbe300",
   "metadata": {},
   "outputs": [
    {
     "data": {
      "text/html": [
       "<div>\n",
       "<style scoped>\n",
       "    .dataframe tbody tr th:only-of-type {\n",
       "        vertical-align: middle;\n",
       "    }\n",
       "\n",
       "    .dataframe tbody tr th {\n",
       "        vertical-align: top;\n",
       "    }\n",
       "\n",
       "    .dataframe thead th {\n",
       "        text-align: right;\n",
       "    }\n",
       "</style>\n",
       "<table border=\"1\" class=\"dataframe\">\n",
       "  <thead>\n",
       "    <tr style=\"text-align: right;\">\n",
       "      <th></th>\n",
       "      <th>PC1</th>\n",
       "      <th>PC2</th>\n",
       "      <th>PC3</th>\n",
       "    </tr>\n",
       "  </thead>\n",
       "  <tbody>\n",
       "    <tr>\n",
       "      <th>0</th>\n",
       "      <td>5.177842</td>\n",
       "      <td>-0.254557</td>\n",
       "      <td>0.528611</td>\n",
       "    </tr>\n",
       "    <tr>\n",
       "      <th>1</th>\n",
       "      <td>7.355559</td>\n",
       "      <td>0.584288</td>\n",
       "      <td>-0.644957</td>\n",
       "    </tr>\n",
       "    <tr>\n",
       "      <th>2</th>\n",
       "      <td>4.187954</td>\n",
       "      <td>-2.017952</td>\n",
       "      <td>-0.535012</td>\n",
       "    </tr>\n",
       "    <tr>\n",
       "      <th>3</th>\n",
       "      <td>4.914181</td>\n",
       "      <td>-1.509685</td>\n",
       "      <td>-0.744537</td>\n",
       "    </tr>\n",
       "    <tr>\n",
       "      <th>4</th>\n",
       "      <td>3.474818</td>\n",
       "      <td>-1.261811</td>\n",
       "      <td>0.084076</td>\n",
       "    </tr>\n",
       "    <tr>\n",
       "      <th>5</th>\n",
       "      <td>4.037733</td>\n",
       "      <td>-1.506833</td>\n",
       "      <td>-2.282963</td>\n",
       "    </tr>\n",
       "    <tr>\n",
       "      <th>6</th>\n",
       "      <td>5.626973</td>\n",
       "      <td>0.760700</td>\n",
       "      <td>0.165465</td>\n",
       "    </tr>\n",
       "    <tr>\n",
       "      <th>7</th>\n",
       "      <td>5.401703</td>\n",
       "      <td>-0.284467</td>\n",
       "      <td>-0.863154</td>\n",
       "    </tr>\n",
       "    <tr>\n",
       "      <th>8</th>\n",
       "      <td>3.291962</td>\n",
       "      <td>-1.475582</td>\n",
       "      <td>0.087136</td>\n",
       "    </tr>\n",
       "    <tr>\n",
       "      <th>9</th>\n",
       "      <td>3.410714</td>\n",
       "      <td>0.953872</td>\n",
       "      <td>1.083921</td>\n",
       "    </tr>\n",
       "  </tbody>\n",
       "</table>\n",
       "</div>"
      ],
      "text/plain": [
       "        PC1       PC2       PC3\n",
       "0  5.177842 -0.254557  0.528611\n",
       "1  7.355559  0.584288 -0.644957\n",
       "2  4.187954 -2.017952 -0.535012\n",
       "3  4.914181 -1.509685 -0.744537\n",
       "4  3.474818 -1.261811  0.084076\n",
       "5  4.037733 -1.506833 -2.282963\n",
       "6  5.626973  0.760700  0.165465\n",
       "7  5.401703 -0.284467 -0.863154\n",
       "8  3.291962 -1.475582  0.087136\n",
       "9  3.410714  0.953872  1.083921"
      ]
     },
     "execution_count": 39,
     "metadata": {},
     "output_type": "execute_result"
    }
   ],
   "source": [
    "# Executar PCA\n",
    "\n",
    "X_pca = modelo_pca.fit_transform(X_transformed)\n",
    "\n",
    "# Gerar um dataframe com base nos componentes principais\n",
    "df_pca = pd.DataFrame(X_pca, columns=['PC1', 'PC2', 'PC3'])\n",
    "\n",
    "# Visualizar componentes principais\n",
    "df_pca.head(10)"
   ]
  },
  {
   "cell_type": "code",
   "execution_count": null,
   "id": "661a37da",
   "metadata": {},
   "outputs": [
    {
     "data": {
      "text/plain": [
       "545"
      ]
     },
     "execution_count": 42,
     "metadata": {},
     "output_type": "execute_result"
    }
   ],
   "source": [
    "# Verificar tamanho do Dataframe original\n",
    "len(df_housing)"
   ]
  },
  {
   "cell_type": "code",
   "execution_count": null,
   "id": "52012d08",
   "metadata": {},
   "outputs": [
    {
     "data": {
      "text/plain": [
       "545"
      ]
     },
     "execution_count": 41,
     "metadata": {},
     "output_type": "execute_result"
    }
   ],
   "source": [
    "# Verificar tamanho do Dataframe de PCA\n",
    "len(df_pca)"
   ]
  },
  {
   "cell_type": "code",
   "execution_count": 43,
   "id": "60d37ad2",
   "metadata": {},
   "outputs": [],
   "source": [
    "# Incluir componentes principais no dataframe original\n",
    "\n",
    "df_housing['PC1'] = df_pca['PC1']\n",
    "df_housing['PC2'] = df_pca['PC2']\n",
    "df_housing['PC3'] = df_pca['PC3']"
   ]
  },
  {
   "cell_type": "code",
   "execution_count": 45,
   "id": "e181a6e0",
   "metadata": {},
   "outputs": [
    {
     "data": {
      "text/html": [
       "<div>\n",
       "<style scoped>\n",
       "    .dataframe tbody tr th:only-of-type {\n",
       "        vertical-align: middle;\n",
       "    }\n",
       "\n",
       "    .dataframe tbody tr th {\n",
       "        vertical-align: top;\n",
       "    }\n",
       "\n",
       "    .dataframe thead th {\n",
       "        text-align: right;\n",
       "    }\n",
       "</style>\n",
       "<table border=\"1\" class=\"dataframe\">\n",
       "  <thead>\n",
       "    <tr style=\"text-align: right;\">\n",
       "      <th></th>\n",
       "      <th>price</th>\n",
       "      <th>area</th>\n",
       "      <th>bedrooms</th>\n",
       "      <th>bathrooms</th>\n",
       "      <th>stories</th>\n",
       "      <th>mainroad</th>\n",
       "      <th>guestroom</th>\n",
       "      <th>basement</th>\n",
       "      <th>hotwaterheating</th>\n",
       "      <th>airconditioning</th>\n",
       "      <th>parking</th>\n",
       "      <th>prefarea</th>\n",
       "      <th>furnishingstatus</th>\n",
       "      <th>PC1</th>\n",
       "      <th>PC2</th>\n",
       "      <th>PC3</th>\n",
       "    </tr>\n",
       "  </thead>\n",
       "  <tbody>\n",
       "    <tr>\n",
       "      <th>0</th>\n",
       "      <td>13300000</td>\n",
       "      <td>7420</td>\n",
       "      <td>4</td>\n",
       "      <td>2</td>\n",
       "      <td>3</td>\n",
       "      <td>yes</td>\n",
       "      <td>no</td>\n",
       "      <td>no</td>\n",
       "      <td>no</td>\n",
       "      <td>yes</td>\n",
       "      <td>2</td>\n",
       "      <td>yes</td>\n",
       "      <td>furnished</td>\n",
       "      <td>5.177842</td>\n",
       "      <td>-0.254557</td>\n",
       "      <td>0.528611</td>\n",
       "    </tr>\n",
       "    <tr>\n",
       "      <th>1</th>\n",
       "      <td>12250000</td>\n",
       "      <td>8960</td>\n",
       "      <td>4</td>\n",
       "      <td>4</td>\n",
       "      <td>4</td>\n",
       "      <td>yes</td>\n",
       "      <td>no</td>\n",
       "      <td>no</td>\n",
       "      <td>no</td>\n",
       "      <td>yes</td>\n",
       "      <td>3</td>\n",
       "      <td>no</td>\n",
       "      <td>furnished</td>\n",
       "      <td>7.355559</td>\n",
       "      <td>0.584288</td>\n",
       "      <td>-0.644957</td>\n",
       "    </tr>\n",
       "    <tr>\n",
       "      <th>2</th>\n",
       "      <td>12250000</td>\n",
       "      <td>9960</td>\n",
       "      <td>3</td>\n",
       "      <td>2</td>\n",
       "      <td>2</td>\n",
       "      <td>yes</td>\n",
       "      <td>no</td>\n",
       "      <td>yes</td>\n",
       "      <td>no</td>\n",
       "      <td>no</td>\n",
       "      <td>2</td>\n",
       "      <td>yes</td>\n",
       "      <td>semi-furnished</td>\n",
       "      <td>4.187954</td>\n",
       "      <td>-2.017952</td>\n",
       "      <td>-0.535012</td>\n",
       "    </tr>\n",
       "    <tr>\n",
       "      <th>3</th>\n",
       "      <td>12215000</td>\n",
       "      <td>7500</td>\n",
       "      <td>4</td>\n",
       "      <td>2</td>\n",
       "      <td>2</td>\n",
       "      <td>yes</td>\n",
       "      <td>no</td>\n",
       "      <td>yes</td>\n",
       "      <td>no</td>\n",
       "      <td>yes</td>\n",
       "      <td>3</td>\n",
       "      <td>yes</td>\n",
       "      <td>furnished</td>\n",
       "      <td>4.914181</td>\n",
       "      <td>-1.509685</td>\n",
       "      <td>-0.744537</td>\n",
       "    </tr>\n",
       "    <tr>\n",
       "      <th>4</th>\n",
       "      <td>11410000</td>\n",
       "      <td>7420</td>\n",
       "      <td>4</td>\n",
       "      <td>1</td>\n",
       "      <td>2</td>\n",
       "      <td>yes</td>\n",
       "      <td>yes</td>\n",
       "      <td>yes</td>\n",
       "      <td>no</td>\n",
       "      <td>yes</td>\n",
       "      <td>2</td>\n",
       "      <td>no</td>\n",
       "      <td>furnished</td>\n",
       "      <td>3.474818</td>\n",
       "      <td>-1.261811</td>\n",
       "      <td>0.084076</td>\n",
       "    </tr>\n",
       "    <tr>\n",
       "      <th>5</th>\n",
       "      <td>10850000</td>\n",
       "      <td>7500</td>\n",
       "      <td>3</td>\n",
       "      <td>3</td>\n",
       "      <td>1</td>\n",
       "      <td>yes</td>\n",
       "      <td>no</td>\n",
       "      <td>yes</td>\n",
       "      <td>no</td>\n",
       "      <td>yes</td>\n",
       "      <td>2</td>\n",
       "      <td>yes</td>\n",
       "      <td>semi-furnished</td>\n",
       "      <td>4.037733</td>\n",
       "      <td>-1.506833</td>\n",
       "      <td>-2.282963</td>\n",
       "    </tr>\n",
       "    <tr>\n",
       "      <th>6</th>\n",
       "      <td>10150000</td>\n",
       "      <td>8580</td>\n",
       "      <td>4</td>\n",
       "      <td>3</td>\n",
       "      <td>4</td>\n",
       "      <td>yes</td>\n",
       "      <td>no</td>\n",
       "      <td>no</td>\n",
       "      <td>no</td>\n",
       "      <td>yes</td>\n",
       "      <td>2</td>\n",
       "      <td>yes</td>\n",
       "      <td>semi-furnished</td>\n",
       "      <td>5.626973</td>\n",
       "      <td>0.760700</td>\n",
       "      <td>0.165465</td>\n",
       "    </tr>\n",
       "    <tr>\n",
       "      <th>7</th>\n",
       "      <td>10150000</td>\n",
       "      <td>16200</td>\n",
       "      <td>5</td>\n",
       "      <td>3</td>\n",
       "      <td>2</td>\n",
       "      <td>yes</td>\n",
       "      <td>no</td>\n",
       "      <td>no</td>\n",
       "      <td>no</td>\n",
       "      <td>no</td>\n",
       "      <td>0</td>\n",
       "      <td>no</td>\n",
       "      <td>unfurnished</td>\n",
       "      <td>5.401703</td>\n",
       "      <td>-0.284467</td>\n",
       "      <td>-0.863154</td>\n",
       "    </tr>\n",
       "    <tr>\n",
       "      <th>8</th>\n",
       "      <td>9870000</td>\n",
       "      <td>8100</td>\n",
       "      <td>4</td>\n",
       "      <td>1</td>\n",
       "      <td>2</td>\n",
       "      <td>yes</td>\n",
       "      <td>yes</td>\n",
       "      <td>yes</td>\n",
       "      <td>no</td>\n",
       "      <td>yes</td>\n",
       "      <td>2</td>\n",
       "      <td>yes</td>\n",
       "      <td>furnished</td>\n",
       "      <td>3.291962</td>\n",
       "      <td>-1.475582</td>\n",
       "      <td>0.087136</td>\n",
       "    </tr>\n",
       "    <tr>\n",
       "      <th>9</th>\n",
       "      <td>9800000</td>\n",
       "      <td>5750</td>\n",
       "      <td>3</td>\n",
       "      <td>2</td>\n",
       "      <td>4</td>\n",
       "      <td>yes</td>\n",
       "      <td>yes</td>\n",
       "      <td>no</td>\n",
       "      <td>no</td>\n",
       "      <td>yes</td>\n",
       "      <td>1</td>\n",
       "      <td>yes</td>\n",
       "      <td>unfurnished</td>\n",
       "      <td>3.410714</td>\n",
       "      <td>0.953872</td>\n",
       "      <td>1.083921</td>\n",
       "    </tr>\n",
       "  </tbody>\n",
       "</table>\n",
       "</div>"
      ],
      "text/plain": [
       "      price   area  bedrooms  bathrooms  stories mainroad guestroom basement  \\\n",
       "0  13300000   7420         4          2        3      yes        no       no   \n",
       "1  12250000   8960         4          4        4      yes        no       no   \n",
       "2  12250000   9960         3          2        2      yes        no      yes   \n",
       "3  12215000   7500         4          2        2      yes        no      yes   \n",
       "4  11410000   7420         4          1        2      yes       yes      yes   \n",
       "5  10850000   7500         3          3        1      yes        no      yes   \n",
       "6  10150000   8580         4          3        4      yes        no       no   \n",
       "7  10150000  16200         5          3        2      yes        no       no   \n",
       "8   9870000   8100         4          1        2      yes       yes      yes   \n",
       "9   9800000   5750         3          2        4      yes       yes       no   \n",
       "\n",
       "  hotwaterheating airconditioning  parking prefarea furnishingstatus  \\\n",
       "0              no             yes        2      yes        furnished   \n",
       "1              no             yes        3       no        furnished   \n",
       "2              no              no        2      yes   semi-furnished   \n",
       "3              no             yes        3      yes        furnished   \n",
       "4              no             yes        2       no        furnished   \n",
       "5              no             yes        2      yes   semi-furnished   \n",
       "6              no             yes        2      yes   semi-furnished   \n",
       "7              no              no        0       no      unfurnished   \n",
       "8              no             yes        2      yes        furnished   \n",
       "9              no             yes        1      yes      unfurnished   \n",
       "\n",
       "        PC1       PC2       PC3  \n",
       "0  5.177842 -0.254557  0.528611  \n",
       "1  7.355559  0.584288 -0.644957  \n",
       "2  4.187954 -2.017952 -0.535012  \n",
       "3  4.914181 -1.509685 -0.744537  \n",
       "4  3.474818 -1.261811  0.084076  \n",
       "5  4.037733 -1.506833 -2.282963  \n",
       "6  5.626973  0.760700  0.165465  \n",
       "7  5.401703 -0.284467 -0.863154  \n",
       "8  3.291962 -1.475582  0.087136  \n",
       "9  3.410714  0.953872  1.083921  "
      ]
     },
     "execution_count": 45,
     "metadata": {},
     "output_type": "execute_result"
    }
   ],
   "source": [
    "# Mostrar o dataframe original, pós inclusão das colunas de PCA\n",
    "\n",
    "df_housing.head(10)"
   ]
  },
  {
   "cell_type": "markdown",
   "id": "dcc53c61",
   "metadata": {},
   "source": [
    "### Visualizar Resultados"
   ]
  },
  {
   "cell_type": "code",
   "execution_count": 46,
   "id": "e0f616b5",
   "metadata": {},
   "outputs": [
    {
     "name": "stdout",
     "output_type": "stream",
     "text": [
      "Autovetores:\n",
      "[2.72466849 1.2527826  0.73926974]\n",
      "\n",
      "Autovalores:\n",
      "[[ 5.36753100e-01  3.64911514e-01  3.63683694e-01  4.05214489e-01\n",
      "   3.45870590e-01  3.02747866e-01 -5.91657012e-02  5.91657012e-02\n",
      "  -5.46232030e-02  5.46232030e-02 -4.09396062e-02  4.09396062e-02\n",
      "  -7.95947051e-03  7.95947051e-03 -1.28906936e-01  1.28906936e-01\n",
      "  -7.25150601e-02  7.25150601e-02  6.39124659e-02  1.63289778e-02\n",
      "  -8.02414438e-02]\n",
      " [-1.10437824e-01 -4.87758310e-01  3.98264522e-01  2.35256539e-01\n",
      "   5.14471037e-01 -4.81552392e-01  7.84077277e-02 -7.84077277e-02\n",
      "   3.01499671e-02 -3.01499671e-02  7.41119021e-02 -7.41119021e-02\n",
      "  -1.55029741e-03  1.55029741e-03  3.17787474e-05 -3.17787474e-05\n",
      "   7.59026448e-02 -7.59026448e-02 -3.36990591e-02 -5.87151332e-03\n",
      "   3.95705724e-02]\n",
      " [ 1.64401386e-02  2.24604728e-01 -2.32051687e-01 -5.25432057e-01\n",
      "   5.80590949e-01  3.93656933e-02 -7.92126271e-02  7.92126271e-02\n",
      "   1.05390188e-01 -1.05390188e-01  3.23866036e-01 -3.23866036e-01\n",
      "   1.61826825e-02 -1.61826825e-02 -1.17876798e-01  1.17876798e-01\n",
      "   2.69173363e-02 -2.69173363e-02  1.59341176e-02 -6.28972320e-02\n",
      "   4.69631144e-02]]\n"
     ]
    }
   ],
   "source": [
    "# Autovalores\n",
    "\n",
    "autovetores = modelo_pca.explained_variance_\n",
    "\n",
    "# Autovetores\n",
    "autovalores = modelo_pca.components_\n",
    "\n",
    "print(\"Autovetores:\")\n",
    "print(autovetores)\n",
    "print(\"\\nAutovalores:\")\n",
    "print(autovalores)"
   ]
  },
  {
   "cell_type": "code",
   "execution_count": 47,
   "id": "39d54f3e",
   "metadata": {},
   "outputs": [
    {
     "data": {
      "application/vnd.plotly.v1+json": {
       "config": {
        "plotlyServerURL": "https://plot.ly"
       },
       "data": [
        {
         "customdata": {
          "bdata": "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",
          "dtype": "i4",
          "shape": "545, 1"
         },
         "hovertemplate": "PC1=%{x}<br>PC2=%{y}<br>PC3=%{z}<br>price=%{marker.color}<extra></extra>",
         "legendgroup": "",
         "marker": {
          "color": {
           "bdata": "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",
           "dtype": "i4"
          },
          "coloraxis": "coloraxis",
          "symbol": "circle"
         },
         "mode": "markers",
         "name": "",
         "scene": "scene",
         "showlegend": false,
         "type": "scatter3d",
         "x": {
          "bdata": "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",
          "dtype": "f8"
         },
         "y": {
          "bdata": "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",
          "dtype": "f8"
         },
         "z": {
          "bdata": "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",
          "dtype": "f8"
         }
        }
       ],
       "layout": {
        "coloraxis": {
         "colorbar": {
          "title": {
           "text": "price"
          }
         },
         "colorscale": [
          [
           0,
           "#0d0887"
          ],
          [
           0.1111111111111111,
           "#46039f"
          ],
          [
           0.2222222222222222,
           "#7201a8"
          ],
          [
           0.3333333333333333,
           "#9c179e"
          ],
          [
           0.4444444444444444,
           "#bd3786"
          ],
          [
           0.5555555555555556,
           "#d8576b"
          ],
          [
           0.6666666666666666,
           "#ed7953"
          ],
          [
           0.7777777777777778,
           "#fb9f3a"
          ],
          [
           0.8888888888888888,
           "#fdca26"
          ],
          [
           1,
           "#f0f921"
          ]
         ]
        },
        "height": 600,
        "legend": {
         "tracegroupgap": 0
        },
        "scene": {
         "domain": {
          "x": [
           0,
           1
          ],
          "y": [
           0,
           1
          ]
         },
         "xaxis": {
          "title": {
           "text": "PC1"
          }
         },
         "yaxis": {
          "title": {
           "text": "PC2"
          }
         },
         "zaxis": {
          "title": {
           "text": "PC3"
          }
         }
        },
        "template": {
         "data": {
          "bar": [
           {
            "error_x": {
             "color": "#2a3f5f"
            },
            "error_y": {
             "color": "#2a3f5f"
            },
            "marker": {
             "line": {
              "color": "#E5ECF6",
              "width": 0.5
             },
             "pattern": {
              "fillmode": "overlay",
              "size": 10,
              "solidity": 0.2
             }
            },
            "type": "bar"
           }
          ],
          "barpolar": [
           {
            "marker": {
             "line": {
              "color": "#E5ECF6",
              "width": 0.5
             },
             "pattern": {
              "fillmode": "overlay",
              "size": 10,
              "solidity": 0.2
             }
            },
            "type": "barpolar"
           }
          ],
          "carpet": [
           {
            "aaxis": {
             "endlinecolor": "#2a3f5f",
             "gridcolor": "white",
             "linecolor": "white",
             "minorgridcolor": "white",
             "startlinecolor": "#2a3f5f"
            },
            "baxis": {
             "endlinecolor": "#2a3f5f",
             "gridcolor": "white",
             "linecolor": "white",
             "minorgridcolor": "white",
             "startlinecolor": "#2a3f5f"
            },
            "type": "carpet"
           }
          ],
          "choropleth": [
           {
            "colorbar": {
             "outlinewidth": 0,
             "ticks": ""
            },
            "type": "choropleth"
           }
          ],
          "contour": [
           {
            "colorbar": {
             "outlinewidth": 0,
             "ticks": ""
            },
            "colorscale": [
             [
              0,
              "#0d0887"
             ],
             [
              0.1111111111111111,
              "#46039f"
             ],
             [
              0.2222222222222222,
              "#7201a8"
             ],
             [
              0.3333333333333333,
              "#9c179e"
             ],
             [
              0.4444444444444444,
              "#bd3786"
             ],
             [
              0.5555555555555556,
              "#d8576b"
             ],
             [
              0.6666666666666666,
              "#ed7953"
             ],
             [
              0.7777777777777778,
              "#fb9f3a"
             ],
             [
              0.8888888888888888,
              "#fdca26"
             ],
             [
              1,
              "#f0f921"
             ]
            ],
            "type": "contour"
           }
          ],
          "contourcarpet": [
           {
            "colorbar": {
             "outlinewidth": 0,
             "ticks": ""
            },
            "type": "contourcarpet"
           }
          ],
          "heatmap": [
           {
            "colorbar": {
             "outlinewidth": 0,
             "ticks": ""
            },
            "colorscale": [
             [
              0,
              "#0d0887"
             ],
             [
              0.1111111111111111,
              "#46039f"
             ],
             [
              0.2222222222222222,
              "#7201a8"
             ],
             [
              0.3333333333333333,
              "#9c179e"
             ],
             [
              0.4444444444444444,
              "#bd3786"
             ],
             [
              0.5555555555555556,
              "#d8576b"
             ],
             [
              0.6666666666666666,
              "#ed7953"
             ],
             [
              0.7777777777777778,
              "#fb9f3a"
             ],
             [
              0.8888888888888888,
              "#fdca26"
             ],
             [
              1,
              "#f0f921"
             ]
            ],
            "type": "heatmap"
           }
          ],
          "histogram": [
           {
            "marker": {
             "pattern": {
              "fillmode": "overlay",
              "size": 10,
              "solidity": 0.2
             }
            },
            "type": "histogram"
           }
          ],
          "histogram2d": [
           {
            "colorbar": {
             "outlinewidth": 0,
             "ticks": ""
            },
            "colorscale": [
             [
              0,
              "#0d0887"
             ],
             [
              0.1111111111111111,
              "#46039f"
             ],
             [
              0.2222222222222222,
              "#7201a8"
             ],
             [
              0.3333333333333333,
              "#9c179e"
             ],
             [
              0.4444444444444444,
              "#bd3786"
             ],
             [
              0.5555555555555556,
              "#d8576b"
             ],
             [
              0.6666666666666666,
              "#ed7953"
             ],
             [
              0.7777777777777778,
              "#fb9f3a"
             ],
             [
              0.8888888888888888,
              "#fdca26"
             ],
             [
              1,
              "#f0f921"
             ]
            ],
            "type": "histogram2d"
           }
          ],
          "histogram2dcontour": [
           {
            "colorbar": {
             "outlinewidth": 0,
             "ticks": ""
            },
            "colorscale": [
             [
              0,
              "#0d0887"
             ],
             [
              0.1111111111111111,
              "#46039f"
             ],
             [
              0.2222222222222222,
              "#7201a8"
             ],
             [
              0.3333333333333333,
              "#9c179e"
             ],
             [
              0.4444444444444444,
              "#bd3786"
             ],
             [
              0.5555555555555556,
              "#d8576b"
             ],
             [
              0.6666666666666666,
              "#ed7953"
             ],
             [
              0.7777777777777778,
              "#fb9f3a"
             ],
             [
              0.8888888888888888,
              "#fdca26"
             ],
             [
              1,
              "#f0f921"
             ]
            ],
            "type": "histogram2dcontour"
           }
          ],
          "mesh3d": [
           {
            "colorbar": {
             "outlinewidth": 0,
             "ticks": ""
            },
            "type": "mesh3d"
           }
          ],
          "parcoords": [
           {
            "line": {
             "colorbar": {
              "outlinewidth": 0,
              "ticks": ""
             }
            },
            "type": "parcoords"
           }
          ],
          "pie": [
           {
            "automargin": true,
            "type": "pie"
           }
          ],
          "scatter": [
           {
            "fillpattern": {
             "fillmode": "overlay",
             "size": 10,
             "solidity": 0.2
            },
            "type": "scatter"
           }
          ],
          "scatter3d": [
           {
            "line": {
             "colorbar": {
              "outlinewidth": 0,
              "ticks": ""
             }
            },
            "marker": {
             "colorbar": {
              "outlinewidth": 0,
              "ticks": ""
             }
            },
            "type": "scatter3d"
           }
          ],
          "scattercarpet": [
           {
            "marker": {
             "colorbar": {
              "outlinewidth": 0,
              "ticks": ""
             }
            },
            "type": "scattercarpet"
           }
          ],
          "scattergeo": [
           {
            "marker": {
             "colorbar": {
              "outlinewidth": 0,
              "ticks": ""
             }
            },
            "type": "scattergeo"
           }
          ],
          "scattergl": [
           {
            "marker": {
             "colorbar": {
              "outlinewidth": 0,
              "ticks": ""
             }
            },
            "type": "scattergl"
           }
          ],
          "scattermap": [
           {
            "marker": {
             "colorbar": {
              "outlinewidth": 0,
              "ticks": ""
             }
            },
            "type": "scattermap"
           }
          ],
          "scattermapbox": [
           {
            "marker": {
             "colorbar": {
              "outlinewidth": 0,
              "ticks": ""
             }
            },
            "type": "scattermapbox"
           }
          ],
          "scatterpolar": [
           {
            "marker": {
             "colorbar": {
              "outlinewidth": 0,
              "ticks": ""
             }
            },
            "type": "scatterpolar"
           }
          ],
          "scatterpolargl": [
           {
            "marker": {
             "colorbar": {
              "outlinewidth": 0,
              "ticks": ""
             }
            },
            "type": "scatterpolargl"
           }
          ],
          "scatterternary": [
           {
            "marker": {
             "colorbar": {
              "outlinewidth": 0,
              "ticks": ""
             }
            },
            "type": "scatterternary"
           }
          ],
          "surface": [
           {
            "colorbar": {
             "outlinewidth": 0,
             "ticks": ""
            },
            "colorscale": [
             [
              0,
              "#0d0887"
             ],
             [
              0.1111111111111111,
              "#46039f"
             ],
             [
              0.2222222222222222,
              "#7201a8"
             ],
             [
              0.3333333333333333,
              "#9c179e"
             ],
             [
              0.4444444444444444,
              "#bd3786"
             ],
             [
              0.5555555555555556,
              "#d8576b"
             ],
             [
              0.6666666666666666,
              "#ed7953"
             ],
             [
              0.7777777777777778,
              "#fb9f3a"
             ],
             [
              0.8888888888888888,
              "#fdca26"
             ],
             [
              1,
              "#f0f921"
             ]
            ],
            "type": "surface"
           }
          ],
          "table": [
           {
            "cells": {
             "fill": {
              "color": "#EBF0F8"
             },
             "line": {
              "color": "white"
             }
            },
            "header": {
             "fill": {
              "color": "#C8D4E3"
             },
             "line": {
              "color": "white"
             }
            },
            "type": "table"
           }
          ]
         },
         "layout": {
          "annotationdefaults": {
           "arrowcolor": "#2a3f5f",
           "arrowhead": 0,
           "arrowwidth": 1
          },
          "autotypenumbers": "strict",
          "coloraxis": {
           "colorbar": {
            "outlinewidth": 0,
            "ticks": ""
           }
          },
          "colorscale": {
           "diverging": [
            [
             0,
             "#8e0152"
            ],
            [
             0.1,
             "#c51b7d"
            ],
            [
             0.2,
             "#de77ae"
            ],
            [
             0.3,
             "#f1b6da"
            ],
            [
             0.4,
             "#fde0ef"
            ],
            [
             0.5,
             "#f7f7f7"
            ],
            [
             0.6,
             "#e6f5d0"
            ],
            [
             0.7,
             "#b8e186"
            ],
            [
             0.8,
             "#7fbc41"
            ],
            [
             0.9,
             "#4d9221"
            ],
            [
             1,
             "#276419"
            ]
           ],
           "sequential": [
            [
             0,
             "#0d0887"
            ],
            [
             0.1111111111111111,
             "#46039f"
            ],
            [
             0.2222222222222222,
             "#7201a8"
            ],
            [
             0.3333333333333333,
             "#9c179e"
            ],
            [
             0.4444444444444444,
             "#bd3786"
            ],
            [
             0.5555555555555556,
             "#d8576b"
            ],
            [
             0.6666666666666666,
             "#ed7953"
            ],
            [
             0.7777777777777778,
             "#fb9f3a"
            ],
            [
             0.8888888888888888,
             "#fdca26"
            ],
            [
             1,
             "#f0f921"
            ]
           ],
           "sequentialminus": [
            [
             0,
             "#0d0887"
            ],
            [
             0.1111111111111111,
             "#46039f"
            ],
            [
             0.2222222222222222,
             "#7201a8"
            ],
            [
             0.3333333333333333,
             "#9c179e"
            ],
            [
             0.4444444444444444,
             "#bd3786"
            ],
            [
             0.5555555555555556,
             "#d8576b"
            ],
            [
             0.6666666666666666,
             "#ed7953"
            ],
            [
             0.7777777777777778,
             "#fb9f3a"
            ],
            [
             0.8888888888888888,
             "#fdca26"
            ],
            [
             1,
             "#f0f921"
            ]
           ]
          },
          "colorway": [
           "#636efa",
           "#EF553B",
           "#00cc96",
           "#ab63fa",
           "#FFA15A",
           "#19d3f3",
           "#FF6692",
           "#B6E880",
           "#FF97FF",
           "#FECB52"
          ],
          "font": {
           "color": "#2a3f5f"
          },
          "geo": {
           "bgcolor": "white",
           "lakecolor": "white",
           "landcolor": "#E5ECF6",
           "showlakes": true,
           "showland": true,
           "subunitcolor": "white"
          },
          "hoverlabel": {
           "align": "left"
          },
          "hovermode": "closest",
          "mapbox": {
           "style": "light"
          },
          "paper_bgcolor": "white",
          "plot_bgcolor": "#E5ECF6",
          "polar": {
           "angularaxis": {
            "gridcolor": "white",
            "linecolor": "white",
            "ticks": ""
           },
           "bgcolor": "#E5ECF6",
           "radialaxis": {
            "gridcolor": "white",
            "linecolor": "white",
            "ticks": ""
           }
          },
          "scene": {
           "xaxis": {
            "backgroundcolor": "#E5ECF6",
            "gridcolor": "white",
            "gridwidth": 2,
            "linecolor": "white",
            "showbackground": true,
            "ticks": "",
            "zerolinecolor": "white"
           },
           "yaxis": {
            "backgroundcolor": "#E5ECF6",
            "gridcolor": "white",
            "gridwidth": 2,
            "linecolor": "white",
            "showbackground": true,
            "ticks": "",
            "zerolinecolor": "white"
           },
           "zaxis": {
            "backgroundcolor": "#E5ECF6",
            "gridcolor": "white",
            "gridwidth": 2,
            "linecolor": "white",
            "showbackground": true,
            "ticks": "",
            "zerolinecolor": "white"
           }
          },
          "shapedefaults": {
           "line": {
            "color": "#2a3f5f"
           }
          },
          "ternary": {
           "aaxis": {
            "gridcolor": "white",
            "linecolor": "white",
            "ticks": ""
           },
           "baxis": {
            "gridcolor": "white",
            "linecolor": "white",
            "ticks": ""
           },
           "bgcolor": "#E5ECF6",
           "caxis": {
            "gridcolor": "white",
            "linecolor": "white",
            "ticks": ""
           }
          },
          "title": {
           "x": 0.05
          },
          "xaxis": {
           "automargin": true,
           "gridcolor": "white",
           "linecolor": "white",
           "ticks": "",
           "title": {
            "standoff": 15
           },
           "zerolinecolor": "white",
           "zerolinewidth": 2
          },
          "yaxis": {
           "automargin": true,
           "gridcolor": "white",
           "linecolor": "white",
           "ticks": "",
           "title": {
            "standoff": 15
           },
           "zerolinecolor": "white",
           "zerolinewidth": 2
          }
         }
        },
        "title": {
         "text": "Visualização PCA"
        },
        "width": 800
       }
      }
     },
     "metadata": {},
     "output_type": "display_data"
    }
   ],
   "source": [
    "# Mostrar Chart 3D com os componentes principais\n",
    "fig = px.scatter_3d(df_housing, x='PC1', y='PC2', z='PC3', color='price', title='Visualização PCA', width=800, height=600, hover_data=['price'])\n",
    "fig.show()"
   ]
  },
  {
   "cell_type": "code",
   "execution_count": 48,
   "id": "13f4dd2a",
   "metadata": {},
   "outputs": [
    {
     "data": {
      "application/vnd.plotly.v1+json": {
       "config": {
        "plotlyServerURL": "https://plot.ly"
       },
       "data": [
        {
         "customdata": {
          "bdata": "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",
          "dtype": "i4",
          "shape": "545, 1"
         },
         "hovertemplate": "PC1=%{x}<br>PC2=%{y}<br>price=%{marker.color}<extra></extra>",
         "legendgroup": "",
         "marker": {
          "color": {
           "bdata": "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",
           "dtype": "i4"
          },
          "coloraxis": "coloraxis",
          "symbol": "circle"
         },
         "mode": "markers",
         "name": "",
         "orientation": "v",
         "showlegend": false,
         "type": "scatter",
         "x": {
          "bdata": "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",
          "dtype": "f8"
         },
         "xaxis": "x",
         "y": {
          "bdata": "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",
          "dtype": "f8"
         },
         "yaxis": "y"
        }
       ],
       "layout": {
        "coloraxis": {
         "colorbar": {
          "title": {
           "text": "price"
          }
         },
         "colorscale": [
          [
           0,
           "#0d0887"
          ],
          [
           0.1111111111111111,
           "#46039f"
          ],
          [
           0.2222222222222222,
           "#7201a8"
          ],
          [
           0.3333333333333333,
           "#9c179e"
          ],
          [
           0.4444444444444444,
           "#bd3786"
          ],
          [
           0.5555555555555556,
           "#d8576b"
          ],
          [
           0.6666666666666666,
           "#ed7953"
          ],
          [
           0.7777777777777778,
           "#fb9f3a"
          ],
          [
           0.8888888888888888,
           "#fdca26"
          ],
          [
           1,
           "#f0f921"
          ]
         ]
        },
        "legend": {
         "tracegroupgap": 0
        },
        "margin": {
         "t": 60
        },
        "template": {
         "data": {
          "bar": [
           {
            "error_x": {
             "color": "#2a3f5f"
            },
            "error_y": {
             "color": "#2a3f5f"
            },
            "marker": {
             "line": {
              "color": "#E5ECF6",
              "width": 0.5
             },
             "pattern": {
              "fillmode": "overlay",
              "size": 10,
              "solidity": 0.2
             }
            },
            "type": "bar"
           }
          ],
          "barpolar": [
           {
            "marker": {
             "line": {
              "color": "#E5ECF6",
              "width": 0.5
             },
             "pattern": {
              "fillmode": "overlay",
              "size": 10,
              "solidity": 0.2
             }
            },
            "type": "barpolar"
           }
          ],
          "carpet": [
           {
            "aaxis": {
             "endlinecolor": "#2a3f5f",
             "gridcolor": "white",
             "linecolor": "white",
             "minorgridcolor": "white",
             "startlinecolor": "#2a3f5f"
            },
            "baxis": {
             "endlinecolor": "#2a3f5f",
             "gridcolor": "white",
             "linecolor": "white",
             "minorgridcolor": "white",
             "startlinecolor": "#2a3f5f"
            },
            "type": "carpet"
           }
          ],
          "choropleth": [
           {
            "colorbar": {
             "outlinewidth": 0,
             "ticks": ""
            },
            "type": "choropleth"
           }
          ],
          "contour": [
           {
            "colorbar": {
             "outlinewidth": 0,
             "ticks": ""
            },
            "colorscale": [
             [
              0,
              "#0d0887"
             ],
             [
              0.1111111111111111,
              "#46039f"
             ],
             [
              0.2222222222222222,
              "#7201a8"
             ],
             [
              0.3333333333333333,
              "#9c179e"
             ],
             [
              0.4444444444444444,
              "#bd3786"
             ],
             [
              0.5555555555555556,
              "#d8576b"
             ],
             [
              0.6666666666666666,
              "#ed7953"
             ],
             [
              0.7777777777777778,
              "#fb9f3a"
             ],
             [
              0.8888888888888888,
              "#fdca26"
             ],
             [
              1,
              "#f0f921"
             ]
            ],
            "type": "contour"
           }
          ],
          "contourcarpet": [
           {
            "colorbar": {
             "outlinewidth": 0,
             "ticks": ""
            },
            "type": "contourcarpet"
           }
          ],
          "heatmap": [
           {
            "colorbar": {
             "outlinewidth": 0,
             "ticks": ""
            },
            "colorscale": [
             [
              0,
              "#0d0887"
             ],
             [
              0.1111111111111111,
              "#46039f"
             ],
             [
              0.2222222222222222,
              "#7201a8"
             ],
             [
              0.3333333333333333,
              "#9c179e"
             ],
             [
              0.4444444444444444,
              "#bd3786"
             ],
             [
              0.5555555555555556,
              "#d8576b"
             ],
             [
              0.6666666666666666,
              "#ed7953"
             ],
             [
              0.7777777777777778,
              "#fb9f3a"
             ],
             [
              0.8888888888888888,
              "#fdca26"
             ],
             [
              1,
              "#f0f921"
             ]
            ],
            "type": "heatmap"
           }
          ],
          "histogram": [
           {
            "marker": {
             "pattern": {
              "fillmode": "overlay",
              "size": 10,
              "solidity": 0.2
             }
            },
            "type": "histogram"
           }
          ],
          "histogram2d": [
           {
            "colorbar": {
             "outlinewidth": 0,
             "ticks": ""
            },
            "colorscale": [
             [
              0,
              "#0d0887"
             ],
             [
              0.1111111111111111,
              "#46039f"
             ],
             [
              0.2222222222222222,
              "#7201a8"
             ],
             [
              0.3333333333333333,
              "#9c179e"
             ],
             [
              0.4444444444444444,
              "#bd3786"
             ],
             [
              0.5555555555555556,
              "#d8576b"
             ],
             [
              0.6666666666666666,
              "#ed7953"
             ],
             [
              0.7777777777777778,
              "#fb9f3a"
             ],
             [
              0.8888888888888888,
              "#fdca26"
             ],
             [
              1,
              "#f0f921"
             ]
            ],
            "type": "histogram2d"
           }
          ],
          "histogram2dcontour": [
           {
            "colorbar": {
             "outlinewidth": 0,
             "ticks": ""
            },
            "colorscale": [
             [
              0,
              "#0d0887"
             ],
             [
              0.1111111111111111,
              "#46039f"
             ],
             [
              0.2222222222222222,
              "#7201a8"
             ],
             [
              0.3333333333333333,
              "#9c179e"
             ],
             [
              0.4444444444444444,
              "#bd3786"
             ],
             [
              0.5555555555555556,
              "#d8576b"
             ],
             [
              0.6666666666666666,
              "#ed7953"
             ],
             [
              0.7777777777777778,
              "#fb9f3a"
             ],
             [
              0.8888888888888888,
              "#fdca26"
             ],
             [
              1,
              "#f0f921"
             ]
            ],
            "type": "histogram2dcontour"
           }
          ],
          "mesh3d": [
           {
            "colorbar": {
             "outlinewidth": 0,
             "ticks": ""
            },
            "type": "mesh3d"
           }
          ],
          "parcoords": [
           {
            "line": {
             "colorbar": {
              "outlinewidth": 0,
              "ticks": ""
             }
            },
            "type": "parcoords"
           }
          ],
          "pie": [
           {
            "automargin": true,
            "type": "pie"
           }
          ],
          "scatter": [
           {
            "fillpattern": {
             "fillmode": "overlay",
             "size": 10,
             "solidity": 0.2
            },
            "type": "scatter"
           }
          ],
          "scatter3d": [
           {
            "line": {
             "colorbar": {
              "outlinewidth": 0,
              "ticks": ""
             }
            },
            "marker": {
             "colorbar": {
              "outlinewidth": 0,
              "ticks": ""
             }
            },
            "type": "scatter3d"
           }
          ],
          "scattercarpet": [
           {
            "marker": {
             "colorbar": {
              "outlinewidth": 0,
              "ticks": ""
             }
            },
            "type": "scattercarpet"
           }
          ],
          "scattergeo": [
           {
            "marker": {
             "colorbar": {
              "outlinewidth": 0,
              "ticks": ""
             }
            },
            "type": "scattergeo"
           }
          ],
          "scattergl": [
           {
            "marker": {
             "colorbar": {
              "outlinewidth": 0,
              "ticks": ""
             }
            },
            "type": "scattergl"
           }
          ],
          "scattermap": [
           {
            "marker": {
             "colorbar": {
              "outlinewidth": 0,
              "ticks": ""
             }
            },
            "type": "scattermap"
           }
          ],
          "scattermapbox": [
           {
            "marker": {
             "colorbar": {
              "outlinewidth": 0,
              "ticks": ""
             }
            },
            "type": "scattermapbox"
           }
          ],
          "scatterpolar": [
           {
            "marker": {
             "colorbar": {
              "outlinewidth": 0,
              "ticks": ""
             }
            },
            "type": "scatterpolar"
           }
          ],
          "scatterpolargl": [
           {
            "marker": {
             "colorbar": {
              "outlinewidth": 0,
              "ticks": ""
             }
            },
            "type": "scatterpolargl"
           }
          ],
          "scatterternary": [
           {
            "marker": {
             "colorbar": {
              "outlinewidth": 0,
              "ticks": ""
             }
            },
            "type": "scatterternary"
           }
          ],
          "surface": [
           {
            "colorbar": {
             "outlinewidth": 0,
             "ticks": ""
            },
            "colorscale": [
             [
              0,
              "#0d0887"
             ],
             [
              0.1111111111111111,
              "#46039f"
             ],
             [
              0.2222222222222222,
              "#7201a8"
             ],
             [
              0.3333333333333333,
              "#9c179e"
             ],
             [
              0.4444444444444444,
              "#bd3786"
             ],
             [
              0.5555555555555556,
              "#d8576b"
             ],
             [
              0.6666666666666666,
              "#ed7953"
             ],
             [
              0.7777777777777778,
              "#fb9f3a"
             ],
             [
              0.8888888888888888,
              "#fdca26"
             ],
             [
              1,
              "#f0f921"
             ]
            ],
            "type": "surface"
           }
          ],
          "table": [
           {
            "cells": {
             "fill": {
              "color": "#EBF0F8"
             },
             "line": {
              "color": "white"
             }
            },
            "header": {
             "fill": {
              "color": "#C8D4E3"
             },
             "line": {
              "color": "white"
             }
            },
            "type": "table"
           }
          ]
         },
         "layout": {
          "annotationdefaults": {
           "arrowcolor": "#2a3f5f",
           "arrowhead": 0,
           "arrowwidth": 1
          },
          "autotypenumbers": "strict",
          "coloraxis": {
           "colorbar": {
            "outlinewidth": 0,
            "ticks": ""
           }
          },
          "colorscale": {
           "diverging": [
            [
             0,
             "#8e0152"
            ],
            [
             0.1,
             "#c51b7d"
            ],
            [
             0.2,
             "#de77ae"
            ],
            [
             0.3,
             "#f1b6da"
            ],
            [
             0.4,
             "#fde0ef"
            ],
            [
             0.5,
             "#f7f7f7"
            ],
            [
             0.6,
             "#e6f5d0"
            ],
            [
             0.7,
             "#b8e186"
            ],
            [
             0.8,
             "#7fbc41"
            ],
            [
             0.9,
             "#4d9221"
            ],
            [
             1,
             "#276419"
            ]
           ],
           "sequential": [
            [
             0,
             "#0d0887"
            ],
            [
             0.1111111111111111,
             "#46039f"
            ],
            [
             0.2222222222222222,
             "#7201a8"
            ],
            [
             0.3333333333333333,
             "#9c179e"
            ],
            [
             0.4444444444444444,
             "#bd3786"
            ],
            [
             0.5555555555555556,
             "#d8576b"
            ],
            [
             0.6666666666666666,
             "#ed7953"
            ],
            [
             0.7777777777777778,
             "#fb9f3a"
            ],
            [
             0.8888888888888888,
             "#fdca26"
            ],
            [
             1,
             "#f0f921"
            ]
           ],
           "sequentialminus": [
            [
             0,
             "#0d0887"
            ],
            [
             0.1111111111111111,
             "#46039f"
            ],
            [
             0.2222222222222222,
             "#7201a8"
            ],
            [
             0.3333333333333333,
             "#9c179e"
            ],
            [
             0.4444444444444444,
             "#bd3786"
            ],
            [
             0.5555555555555556,
             "#d8576b"
            ],
            [
             0.6666666666666666,
             "#ed7953"
            ],
            [
             0.7777777777777778,
             "#fb9f3a"
            ],
            [
             0.8888888888888888,
             "#fdca26"
            ],
            [
             1,
             "#f0f921"
            ]
           ]
          },
          "colorway": [
           "#636efa",
           "#EF553B",
           "#00cc96",
           "#ab63fa",
           "#FFA15A",
           "#19d3f3",
           "#FF6692",
           "#B6E880",
           "#FF97FF",
           "#FECB52"
          ],
          "font": {
           "color": "#2a3f5f"
          },
          "geo": {
           "bgcolor": "white",
           "lakecolor": "white",
           "landcolor": "#E5ECF6",
           "showlakes": true,
           "showland": true,
           "subunitcolor": "white"
          },
          "hoverlabel": {
           "align": "left"
          },
          "hovermode": "closest",
          "mapbox": {
           "style": "light"
          },
          "paper_bgcolor": "white",
          "plot_bgcolor": "#E5ECF6",
          "polar": {
           "angularaxis": {
            "gridcolor": "white",
            "linecolor": "white",
            "ticks": ""
           },
           "bgcolor": "#E5ECF6",
           "radialaxis": {
            "gridcolor": "white",
            "linecolor": "white",
            "ticks": ""
           }
          },
          "scene": {
           "xaxis": {
            "backgroundcolor": "#E5ECF6",
            "gridcolor": "white",
            "gridwidth": 2,
            "linecolor": "white",
            "showbackground": true,
            "ticks": "",
            "zerolinecolor": "white"
           },
           "yaxis": {
            "backgroundcolor": "#E5ECF6",
            "gridcolor": "white",
            "gridwidth": 2,
            "linecolor": "white",
            "showbackground": true,
            "ticks": "",
            "zerolinecolor": "white"
           },
           "zaxis": {
            "backgroundcolor": "#E5ECF6",
            "gridcolor": "white",
            "gridwidth": 2,
            "linecolor": "white",
            "showbackground": true,
            "ticks": "",
            "zerolinecolor": "white"
           }
          },
          "shapedefaults": {
           "line": {
            "color": "#2a3f5f"
           }
          },
          "ternary": {
           "aaxis": {
            "gridcolor": "white",
            "linecolor": "white",
            "ticks": ""
           },
           "baxis": {
            "gridcolor": "white",
            "linecolor": "white",
            "ticks": ""
           },
           "bgcolor": "#E5ECF6",
           "caxis": {
            "gridcolor": "white",
            "linecolor": "white",
            "ticks": ""
           }
          },
          "title": {
           "x": 0.05
          },
          "xaxis": {
           "automargin": true,
           "gridcolor": "white",
           "linecolor": "white",
           "ticks": "",
           "title": {
            "standoff": 15
           },
           "zerolinecolor": "white",
           "zerolinewidth": 2
          },
          "yaxis": {
           "automargin": true,
           "gridcolor": "white",
           "linecolor": "white",
           "ticks": "",
           "title": {
            "standoff": 15
           },
           "zerolinecolor": "white",
           "zerolinewidth": 2
          }
         }
        },
        "xaxis": {
         "anchor": "y",
         "domain": [
          0,
          1
         ],
         "title": {
          "text": "PC1"
         }
        },
        "yaxis": {
         "anchor": "x",
         "domain": [
          0,
          1
         ],
         "title": {
          "text": "PC2"
         }
        }
       }
      }
     },
     "metadata": {},
     "output_type": "display_data"
    }
   ],
   "source": [
    "px.scatter(df_housing, x='PC1', y='PC2', color='price', hover_data=['price'])"
   ]
  },
  {
   "cell_type": "code",
   "execution_count": 54,
   "id": "89fe6e5f",
   "metadata": {},
   "outputs": [
    {
     "data": {
      "text/plain": [
       "array([[ 2.81602587,  2.13234519,  1.65905033, ...,  0.60481067,\n",
       "         0.46930908, -0.07411976],\n",
       "       [ 3.87298853,  2.25427653,  3.0574615 , ...,  0.69702589,\n",
       "         0.57375786, -0.27078375],\n",
       "       [ 2.46195992,  2.39233928,  0.84356242, ...,  0.58402135,\n",
       "         0.530398  , -0.11441935],\n",
       "       ...,\n",
       "       [-1.39288316, -0.87474599, -1.02635277, ...,  0.09504846,\n",
       "         0.36634579,  0.53860575],\n",
       "       [-1.27444473, -1.24080352, -0.43500316, ...,  0.08497942,\n",
       "         0.40460588,  0.51041469],\n",
       "       [-1.0064326 , -0.97762452, -0.34481473, ...,  0.12412828,\n",
       "         0.35135568,  0.52451604]], shape=(545, 21))"
      ]
     },
     "execution_count": 54,
     "metadata": {},
     "output_type": "execute_result"
    }
   ],
   "source": [
    "# Reconstruir os dados com base no PCA\n",
    "\n",
    "X_recovered = modelo_pca.inverse_transform(X_pca)\n",
    "\n",
    "# Visualizar Recovered\n",
    "X_recovered\n",
    "# X_recovered.shape[0] -> 545\n",
    "# X_recovered.shape[1] -> 21"
   ]
  },
  {
   "cell_type": "code",
   "execution_count": 55,
   "id": "25d7e8cb",
   "metadata": {},
   "outputs": [
    {
     "name": "stdout",
     "output_type": "stream",
     "text": [
      "Erro de Reconstrução: 0.18167856758670803\n"
     ]
    }
   ],
   "source": [
    "# Calcular o erro de reconstrução\n",
    "\n",
    "reconstruction_error = mean_squared_error(X_transformed, X_recovered)\n",
    "\n",
    "print(\"Erro de Reconstrução:\", reconstruction_error)"
   ]
  },
  {
   "cell_type": "markdown",
   "id": "1bc4d063",
   "metadata": {},
   "source": [
    "### Salvar Modelo"
   ]
  },
  {
   "cell_type": "code",
   "execution_count": 57,
   "id": "9db88cfb",
   "metadata": {},
   "outputs": [
    {
     "data": {
      "text/plain": [
       "['./preprocessor_pca_housings.pkl']"
      ]
     },
     "execution_count": 57,
     "metadata": {},
     "output_type": "execute_result"
    }
   ],
   "source": [
    "import joblib\n",
    "\n",
    "# Salvar Modelo\n",
    "joblib.dump(modelo_pca, './modelo_pca_housings.pkl')\n",
    "\n",
    "# Salvar Preprocessor\n",
    "joblib.dump(preprocessor, './preprocessor_pca_housings.pkl')"
   ]
  }
 ],
 "metadata": {
  "kernelspec": {
   "display_name": "base",
   "language": "python",
   "name": "python3"
  },
  "language_info": {
   "codemirror_mode": {
    "name": "ipython",
    "version": 3
   },
   "file_extension": ".py",
   "mimetype": "text/x-python",
   "name": "python",
   "nbconvert_exporter": "python",
   "pygments_lexer": "ipython3",
   "version": "3.13.3"
  }
 },
 "nbformat": 4,
 "nbformat_minor": 5
}
